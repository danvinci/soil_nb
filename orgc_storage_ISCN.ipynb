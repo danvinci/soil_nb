{
 "cells": [
  {
   "cell_type": "code",
   "execution_count": 1,
   "metadata": {
    "scrolled": false
   },
   "outputs": [],
   "source": [
    "using DataFrames, CSV, Query, StatsBase"
   ]
  },
  {
   "cell_type": "code",
   "execution_count": 2,
   "metadata": {
    "scrolled": false
   },
   "outputs": [],
   "source": [
    "ENV[\"COLUMNS\"] = 1000; ENV[\"LINES\"] = 20;"
   ]
  },
  {
   "cell_type": "markdown",
   "metadata": {},
   "source": [
    "Loading ISCN Layers dataset"
   ]
  },
  {
   "cell_type": "code",
   "execution_count": 3,
   "metadata": {
    "scrolled": true
   },
   "outputs": [
    {
     "name": "stderr",
     "output_type": "stream",
     "text": [
      "┌ Warning: thread = 1 warning: only found 93 / 94 columns around data row: 112325. Filling remaining columns with `missing`\n",
      "└ @ CSV /Users/Daniele/.julia/packages/CSV/la2cd/src/file.jl:603\n",
      "┌ Warning: thread = 1 warning: only found 93 / 94 columns around data row: 107913. Filling remaining columns with `missing`\n",
      "└ @ CSV /Users/Daniele/.julia/packages/CSV/la2cd/src/file.jl:603\n",
      "┌ Warning: thread = 1 warning: only found 93 / 94 columns around data row: 110664. Filling remaining columns with `missing`\n",
      "└ @ CSV /Users/Daniele/.julia/packages/CSV/la2cd/src/file.jl:603\n",
      "┌ Warning: thread = 1 warning: only found 93 / 94 columns around data row: 114931. Filling remaining columns with `missing`\n",
      "└ @ CSV /Users/Daniele/.julia/packages/CSV/la2cd/src/file.jl:603\n"
     ]
    },
    {
     "data": {
      "text/html": [
       "<table class=\"data-frame\"><thead><tr><th></th><th>dataset_name_sub</th><th>dataset_name_soc</th><th>lat (dec. deg)</th><th>long (dec. deg)</th><th>datum (datum)</th><th>state (state_province)</th><th>country (country)</th><th>site_name</th><th>observation_date (YYYY-MM-DD)</th><th>profile_name</th><th>layer_name</th><th>layer_top (cm)</th><th>layer_bot (cm)</th><th>hzn_desgn_other</th><th>hzn</th><th>hzn_desgn</th><th>layer_note</th><th>color</th><th>vegclass_local</th><th>soil_taxon</th><th>soil_series</th><th>bd_method</th><th>bd_samp (g cm-3)</th><th>bd_tot (g cm-3)</th><th>bd_whole (g cm-3)</th><th>bd_other (g cm-3)</th><th>bdNRCS_prep_code</th><th>cNRCS_prep_code</th><th>c_method</th><th>c_tot (percent)</th><th>oc (percent)</th><th>loi (percent)</th><th>n_tot (percent)</th><th>c_to_n (mass ratio)</th><th>soc (g cm-2)</th><th>soc_carbon_flag</th><th>soc_method</th><th>ph_method</th><th>ph_cacl</th><th>ph_h2o</th><th>ph_other</th><th>caco3 (percent)</th><th>sand_tot_psa (percent)</th><th>silt_tot_psa (percent)</th><th>clay_tot_psa (percent)</th><th>wpg2_method</th><th>wpg2 (percent)</th><th>cat_exch (cmol H+ kg-1)</th><th>al_dith (specified by al_fe_units)</th><th>al_ox (specified by al_fe_units)</th><th>al_other (specified by al_fe_units)</th><th>fe_dith (specified by al_fe_units)</th></tr><tr><th></th><th>String</th><th>String</th><th>String?</th><th>String?</th><th>String?</th><th>String?</th><th>String?</th><th>String</th><th>String?</th><th>String</th><th>String</th><th>Int64?</th><th>Int64?</th><th>Missing</th><th>String?</th><th>String?</th><th>String?</th><th>String?</th><th>String?</th><th>String?</th><th>String?</th><th>String?</th><th>String?</th><th>String?</th><th>String?</th><th>String?</th><th>String?</th><th>String?</th><th>String?</th><th>String?</th><th>String?</th><th>String?</th><th>String?</th><th>Missing</th><th>String?</th><th>String?</th><th>String?</th><th>String?</th><th>String?</th><th>String?</th><th>String?</th><th>String?</th><th>Int64?</th><th>Int64?</th><th>Int64?</th><th>String?</th><th>Int64?</th><th>String?</th><th>String?</th><th>String?</th><th>String?</th><th>String?</th></tr></thead><tbody><p>114,930 rows × 94 columns (omitted printing of 42 columns)</p><tr><th>1</th><td>AK DSC Project SOC stock computation</td><td>AK DSC Project SOC stock computation</td><td>60,5219</td><td>-150,686</td><td>NAD27</td><td>Alaska</td><td>United States</td><td>S2001AK122001</td><td>06/09/2001</td><td>01N1159</td><td>01N05963</td><td><em>missing</em></td><td><em>missing</em></td><td><em>missing</em></td><td><em>missing</em></td><td><em>missing</em></td><td><em>missing</em></td><td><em>missing</em></td><td><em>missing</em></td><td>Medial over loamy, amorphic over mixed, superactive Andic Humicryods</td><td>Naptowne</td><td><em>missing</em></td><td><em>missing</em></td><td><em>missing</em></td><td><em>missing</em></td><td><em>missing</em></td><td><em>missing</em></td><td><em>missing</em></td><td><em>missing</em></td><td><em>missing</em></td><td><em>missing</em></td><td><em>missing</em></td><td><em>missing</em></td><td><em>missing</em></td><td>0,27</td><td>Eqn 11 + NRCS (c---w)</td><td><em>missing</em></td><td><em>missing</em></td><td><em>missing</em></td><td><em>missing</em></td><td><em>missing</em></td><td><em>missing</em></td><td><em>missing</em></td><td><em>missing</em></td><td><em>missing</em></td><td><em>missing</em></td><td><em>missing</em></td><td><em>missing</em></td><td><em>missing</em></td><td><em>missing</em></td><td><em>missing</em></td><td><em>missing</em></td></tr><tr><th>2</th><td>AK DSC Project SOC stock computation</td><td>AK DSC Project SOC stock computation</td><td>60,5219</td><td>-150,686</td><td>NAD27</td><td>Alaska</td><td>United States</td><td>S2001AK122001</td><td>06/09/2001</td><td>01N1159</td><td>01N05964</td><td><em>missing</em></td><td><em>missing</em></td><td><em>missing</em></td><td><em>missing</em></td><td><em>missing</em></td><td><em>missing</em></td><td><em>missing</em></td><td><em>missing</em></td><td>Medial over loamy, amorphic over mixed, superactive Andic Humicryods</td><td>Naptowne</td><td><em>missing</em></td><td><em>missing</em></td><td><em>missing</em></td><td><em>missing</em></td><td><em>missing</em></td><td><em>missing</em></td><td><em>missing</em></td><td><em>missing</em></td><td><em>missing</em></td><td><em>missing</em></td><td><em>missing</em></td><td><em>missing</em></td><td><em>missing</em></td><td>0,27</td><td>Eqn 7 + NRCS (c---w)</td><td><em>missing</em></td><td><em>missing</em></td><td><em>missing</em></td><td><em>missing</em></td><td><em>missing</em></td><td><em>missing</em></td><td><em>missing</em></td><td><em>missing</em></td><td><em>missing</em></td><td><em>missing</em></td><td><em>missing</em></td><td><em>missing</em></td><td><em>missing</em></td><td><em>missing</em></td><td><em>missing</em></td><td><em>missing</em></td></tr><tr><th>3</th><td>AK DSC Project SOC stock computation</td><td>AK DSC Project SOC stock computation</td><td>60,5219</td><td>-150,686</td><td>NAD27</td><td>Alaska</td><td>United States</td><td>S2001AK122001</td><td>06/09/2001</td><td>01N1159</td><td>01N05965</td><td><em>missing</em></td><td><em>missing</em></td><td><em>missing</em></td><td><em>missing</em></td><td><em>missing</em></td><td><em>missing</em></td><td><em>missing</em></td><td><em>missing</em></td><td>Medial over loamy, amorphic over mixed, superactive Andic Humicryods</td><td>Naptowne</td><td><em>missing</em></td><td><em>missing</em></td><td><em>missing</em></td><td><em>missing</em></td><td><em>missing</em></td><td><em>missing</em></td><td><em>missing</em></td><td><em>missing</em></td><td><em>missing</em></td><td><em>missing</em></td><td><em>missing</em></td><td><em>missing</em></td><td><em>missing</em></td><td>0,12</td><td>noFill + NRCS (c-s-w)</td><td><em>missing</em></td><td><em>missing</em></td><td><em>missing</em></td><td><em>missing</em></td><td><em>missing</em></td><td><em>missing</em></td><td><em>missing</em></td><td><em>missing</em></td><td><em>missing</em></td><td><em>missing</em></td><td><em>missing</em></td><td><em>missing</em></td><td><em>missing</em></td><td><em>missing</em></td><td><em>missing</em></td><td><em>missing</em></td></tr><tr><th>4</th><td>AK DSC Project SOC stock computation</td><td>AK DSC Project SOC stock computation</td><td>60,5219</td><td>-150,686</td><td>NAD27</td><td>Alaska</td><td>United States</td><td>S2001AK122001</td><td>06/09/2001</td><td>01N1159</td><td>01N05966</td><td><em>missing</em></td><td><em>missing</em></td><td><em>missing</em></td><td><em>missing</em></td><td><em>missing</em></td><td><em>missing</em></td><td><em>missing</em></td><td><em>missing</em></td><td>Medial over loamy, amorphic over mixed, superactive Andic Humicryods</td><td>Naptowne</td><td><em>missing</em></td><td><em>missing</em></td><td><em>missing</em></td><td><em>missing</em></td><td><em>missing</em></td><td><em>missing</em></td><td><em>missing</em></td><td><em>missing</em></td><td><em>missing</em></td><td><em>missing</em></td><td><em>missing</em></td><td><em>missing</em></td><td><em>missing</em></td><td>0,25</td><td>noFill + NRCS (c-s-w)</td><td><em>missing</em></td><td><em>missing</em></td><td><em>missing</em></td><td><em>missing</em></td><td><em>missing</em></td><td><em>missing</em></td><td><em>missing</em></td><td><em>missing</em></td><td><em>missing</em></td><td><em>missing</em></td><td><em>missing</em></td><td><em>missing</em></td><td><em>missing</em></td><td><em>missing</em></td><td><em>missing</em></td><td><em>missing</em></td></tr><tr><th>5</th><td>AK DSC Project SOC stock computation</td><td>AK DSC Project SOC stock computation</td><td>60,5219</td><td>-150,686</td><td>NAD27</td><td>Alaska</td><td>United States</td><td>S2001AK122001</td><td>06/09/2001</td><td>01N1159</td><td>01N05967</td><td><em>missing</em></td><td><em>missing</em></td><td><em>missing</em></td><td><em>missing</em></td><td><em>missing</em></td><td><em>missing</em></td><td><em>missing</em></td><td><em>missing</em></td><td>Medial over loamy, amorphic over mixed, superactive Andic Humicryods</td><td>Naptowne</td><td><em>missing</em></td><td><em>missing</em></td><td><em>missing</em></td><td><em>missing</em></td><td><em>missing</em></td><td><em>missing</em></td><td><em>missing</em></td><td><em>missing</em></td><td><em>missing</em></td><td><em>missing</em></td><td><em>missing</em></td><td><em>missing</em></td><td><em>missing</em></td><td>0,05</td><td>noFill + NRCS (c-s-w)</td><td><em>missing</em></td><td><em>missing</em></td><td><em>missing</em></td><td><em>missing</em></td><td><em>missing</em></td><td><em>missing</em></td><td><em>missing</em></td><td><em>missing</em></td><td><em>missing</em></td><td><em>missing</em></td><td><em>missing</em></td><td><em>missing</em></td><td><em>missing</em></td><td><em>missing</em></td><td><em>missing</em></td><td><em>missing</em></td></tr><tr><th>6</th><td>AK DSC Project SOC stock computation</td><td>AK DSC Project SOC stock computation</td><td>60,5219</td><td>-150,686</td><td>NAD27</td><td>Alaska</td><td>United States</td><td>S2001AK122001</td><td>06/09/2001</td><td>01N1159</td><td>01N05968</td><td><em>missing</em></td><td><em>missing</em></td><td><em>missing</em></td><td><em>missing</em></td><td><em>missing</em></td><td><em>missing</em></td><td><em>missing</em></td><td><em>missing</em></td><td>Medial over loamy, amorphic over mixed, superactive Andic Humicryods</td><td>Naptowne</td><td><em>missing</em></td><td><em>missing</em></td><td><em>missing</em></td><td><em>missing</em></td><td><em>missing</em></td><td><em>missing</em></td><td><em>missing</em></td><td><em>missing</em></td><td><em>missing</em></td><td><em>missing</em></td><td><em>missing</em></td><td><em>missing</em></td><td><em>missing</em></td><td>0,03</td><td>noFill + NRCS (c-s-w)</td><td><em>missing</em></td><td><em>missing</em></td><td><em>missing</em></td><td><em>missing</em></td><td><em>missing</em></td><td><em>missing</em></td><td><em>missing</em></td><td><em>missing</em></td><td><em>missing</em></td><td><em>missing</em></td><td><em>missing</em></td><td><em>missing</em></td><td><em>missing</em></td><td><em>missing</em></td><td><em>missing</em></td><td><em>missing</em></td></tr><tr><th>7</th><td>AK DSC Project SOC stock computation</td><td>AK DSC Project SOC stock computation</td><td>60,5219</td><td>-150,686</td><td>NAD27</td><td>Alaska</td><td>United States</td><td>S2001AK122001</td><td>06/09/2001</td><td>01N1159</td><td>01N05969</td><td><em>missing</em></td><td><em>missing</em></td><td><em>missing</em></td><td><em>missing</em></td><td><em>missing</em></td><td><em>missing</em></td><td><em>missing</em></td><td><em>missing</em></td><td>Medial over loamy, amorphic over mixed, superactive Andic Humicryods</td><td>Naptowne</td><td><em>missing</em></td><td><em>missing</em></td><td><em>missing</em></td><td><em>missing</em></td><td><em>missing</em></td><td><em>missing</em></td><td><em>missing</em></td><td><em>missing</em></td><td><em>missing</em></td><td><em>missing</em></td><td><em>missing</em></td><td><em>missing</em></td><td><em>missing</em></td><td>0,02</td><td>noFill + NRCS (c-s-w)</td><td><em>missing</em></td><td><em>missing</em></td><td><em>missing</em></td><td><em>missing</em></td><td><em>missing</em></td><td><em>missing</em></td><td><em>missing</em></td><td><em>missing</em></td><td><em>missing</em></td><td><em>missing</em></td><td><em>missing</em></td><td><em>missing</em></td><td><em>missing</em></td><td><em>missing</em></td><td><em>missing</em></td><td><em>missing</em></td></tr><tr><th>8</th><td>AK DSC Project SOC stock computation</td><td>AK DSC Project SOC stock computation</td><td>60,5219</td><td>-150,686</td><td>NAD27</td><td>Alaska</td><td>United States</td><td>S2001AK122001</td><td>06/09/2001</td><td>01N1159</td><td>01N05970</td><td><em>missing</em></td><td><em>missing</em></td><td><em>missing</em></td><td><em>missing</em></td><td><em>missing</em></td><td><em>missing</em></td><td><em>missing</em></td><td><em>missing</em></td><td>Medial over loamy, amorphic over mixed, superactive Andic Humicryods</td><td>Naptowne</td><td><em>missing</em></td><td><em>missing</em></td><td><em>missing</em></td><td><em>missing</em></td><td><em>missing</em></td><td><em>missing</em></td><td><em>missing</em></td><td><em>missing</em></td><td><em>missing</em></td><td><em>missing</em></td><td><em>missing</em></td><td><em>missing</em></td><td><em>missing</em></td><td>0,02</td><td>noFill + NRCS (c-s-w)</td><td><em>missing</em></td><td><em>missing</em></td><td><em>missing</em></td><td><em>missing</em></td><td><em>missing</em></td><td><em>missing</em></td><td><em>missing</em></td><td><em>missing</em></td><td><em>missing</em></td><td><em>missing</em></td><td><em>missing</em></td><td><em>missing</em></td><td><em>missing</em></td><td><em>missing</em></td><td><em>missing</em></td><td><em>missing</em></td></tr><tr><th>9</th><td>AK DSC Project SOC stock computation</td><td>AK DSC Project SOC stock computation</td><td>60,5219</td><td>-150,686</td><td>NAD27</td><td>Alaska</td><td>United States</td><td>S2001AK122001</td><td>06/09/2001</td><td>01N1159</td><td>01N05971</td><td><em>missing</em></td><td><em>missing</em></td><td><em>missing</em></td><td><em>missing</em></td><td><em>missing</em></td><td><em>missing</em></td><td><em>missing</em></td><td><em>missing</em></td><td>Medial over loamy, amorphic over mixed, superactive Andic Humicryods</td><td>Naptowne</td><td><em>missing</em></td><td><em>missing</em></td><td><em>missing</em></td><td><em>missing</em></td><td><em>missing</em></td><td><em>missing</em></td><td><em>missing</em></td><td><em>missing</em></td><td><em>missing</em></td><td><em>missing</em></td><td><em>missing</em></td><td><em>missing</em></td><td><em>missing</em></td><td>0,03</td><td>Eqn 6 + NRCS (c---w)</td><td><em>missing</em></td><td><em>missing</em></td><td><em>missing</em></td><td><em>missing</em></td><td><em>missing</em></td><td><em>missing</em></td><td><em>missing</em></td><td><em>missing</em></td><td><em>missing</em></td><td><em>missing</em></td><td><em>missing</em></td><td><em>missing</em></td><td><em>missing</em></td><td><em>missing</em></td><td><em>missing</em></td><td><em>missing</em></td></tr><tr><th>10</th><td>AK DSC Project SOC stock computation</td><td>AK DSC Project SOC stock computation</td><td>60,5219</td><td>-150,686</td><td>NAD27</td><td>Alaska</td><td>United States</td><td>S2001AK122001</td><td>06/09/2001</td><td>01N1159</td><td>01N05972</td><td><em>missing</em></td><td><em>missing</em></td><td><em>missing</em></td><td><em>missing</em></td><td><em>missing</em></td><td><em>missing</em></td><td><em>missing</em></td><td><em>missing</em></td><td>Medial over loamy, amorphic over mixed, superactive Andic Humicryods</td><td>Naptowne</td><td><em>missing</em></td><td><em>missing</em></td><td><em>missing</em></td><td><em>missing</em></td><td><em>missing</em></td><td><em>missing</em></td><td><em>missing</em></td><td><em>missing</em></td><td><em>missing</em></td><td><em>missing</em></td><td><em>missing</em></td><td><em>missing</em></td><td><em>missing</em></td><td>0,1</td><td>noFill + NRCS (c-s-w)</td><td><em>missing</em></td><td><em>missing</em></td><td><em>missing</em></td><td><em>missing</em></td><td><em>missing</em></td><td><em>missing</em></td><td><em>missing</em></td><td><em>missing</em></td><td><em>missing</em></td><td><em>missing</em></td><td><em>missing</em></td><td><em>missing</em></td><td><em>missing</em></td><td><em>missing</em></td><td><em>missing</em></td><td><em>missing</em></td></tr><tr><th>11</th><td>AK DSC Project SOC stock computation</td><td>AK DSC Project SOC stock computation</td><td>60,5219</td><td>-150,686</td><td>NAD27</td><td>Alaska</td><td>United States</td><td>S2001AK122001</td><td>06/09/2001</td><td>01N1159</td><td>01N05973</td><td><em>missing</em></td><td><em>missing</em></td><td><em>missing</em></td><td><em>missing</em></td><td><em>missing</em></td><td><em>missing</em></td><td><em>missing</em></td><td><em>missing</em></td><td>Medial over loamy, amorphic over mixed, superactive Andic Humicryods</td><td>Naptowne</td><td><em>missing</em></td><td><em>missing</em></td><td><em>missing</em></td><td><em>missing</em></td><td><em>missing</em></td><td><em>missing</em></td><td><em>missing</em></td><td><em>missing</em></td><td><em>missing</em></td><td><em>missing</em></td><td><em>missing</em></td><td><em>missing</em></td><td><em>missing</em></td><td>0,05</td><td>Eqn 6 + NRCS (c---w)</td><td><em>missing</em></td><td><em>missing</em></td><td><em>missing</em></td><td><em>missing</em></td><td><em>missing</em></td><td><em>missing</em></td><td><em>missing</em></td><td><em>missing</em></td><td><em>missing</em></td><td><em>missing</em></td><td><em>missing</em></td><td><em>missing</em></td><td><em>missing</em></td><td><em>missing</em></td><td><em>missing</em></td><td><em>missing</em></td></tr><tr><th>12</th><td>AK DSC Project SOC stock computation</td><td>AK DSC Project SOC stock computation</td><td>60,5219</td><td>-150,686</td><td>NAD27</td><td>Alaska</td><td>United States</td><td>S2001AK122001</td><td>06/09/2001</td><td>01N1159</td><td>01N05974</td><td><em>missing</em></td><td><em>missing</em></td><td><em>missing</em></td><td><em>missing</em></td><td><em>missing</em></td><td><em>missing</em></td><td><em>missing</em></td><td><em>missing</em></td><td>Medial over loamy, amorphic over mixed, superactive Andic Humicryods</td><td>Naptowne</td><td><em>missing</em></td><td><em>missing</em></td><td><em>missing</em></td><td><em>missing</em></td><td><em>missing</em></td><td><em>missing</em></td><td><em>missing</em></td><td><em>missing</em></td><td><em>missing</em></td><td><em>missing</em></td><td><em>missing</em></td><td><em>missing</em></td><td><em>missing</em></td><td>0,04</td><td>noFill + NRCS (c-s-w)</td><td><em>missing</em></td><td><em>missing</em></td><td><em>missing</em></td><td><em>missing</em></td><td><em>missing</em></td><td><em>missing</em></td><td><em>missing</em></td><td><em>missing</em></td><td><em>missing</em></td><td><em>missing</em></td><td><em>missing</em></td><td><em>missing</em></td><td><em>missing</em></td><td><em>missing</em></td><td><em>missing</em></td><td><em>missing</em></td></tr><tr><th>13</th><td>AK DSC Project SOC stock computation</td><td>AK DSC Project SOC stock computation</td><td>60,5242</td><td>-151,037</td><td>NAD27</td><td>Alaska</td><td>United States</td><td>S2001AK122002</td><td>06/09/2001</td><td>01N1160</td><td>01N05975</td><td><em>missing</em></td><td><em>missing</em></td><td><em>missing</em></td><td><em>missing</em></td><td><em>missing</em></td><td><em>missing</em></td><td><em>missing</em></td><td><em>missing</em></td><td>Medial over loamy, amorphic over mixed, superactive Andic Haplocryods</td><td>Kenai</td><td><em>missing</em></td><td><em>missing</em></td><td><em>missing</em></td><td><em>missing</em></td><td><em>missing</em></td><td><em>missing</em></td><td><em>missing</em></td><td><em>missing</em></td><td><em>missing</em></td><td><em>missing</em></td><td><em>missing</em></td><td><em>missing</em></td><td><em>missing</em></td><td>0,27</td><td>Eqn 11 + NRCS (c---w)</td><td><em>missing</em></td><td><em>missing</em></td><td><em>missing</em></td><td><em>missing</em></td><td><em>missing</em></td><td><em>missing</em></td><td><em>missing</em></td><td><em>missing</em></td><td><em>missing</em></td><td><em>missing</em></td><td><em>missing</em></td><td><em>missing</em></td><td><em>missing</em></td><td><em>missing</em></td><td><em>missing</em></td><td><em>missing</em></td></tr><tr><th>14</th><td>AK DSC Project SOC stock computation</td><td>AK DSC Project SOC stock computation</td><td>60,5242</td><td>-151,037</td><td>NAD27</td><td>Alaska</td><td>United States</td><td>S2001AK122002</td><td>06/09/2001</td><td>01N1160</td><td>01N05976</td><td><em>missing</em></td><td><em>missing</em></td><td><em>missing</em></td><td><em>missing</em></td><td><em>missing</em></td><td><em>missing</em></td><td><em>missing</em></td><td><em>missing</em></td><td>Medial over loamy, amorphic over mixed, superactive Andic Haplocryods</td><td>Kenai</td><td><em>missing</em></td><td><em>missing</em></td><td><em>missing</em></td><td><em>missing</em></td><td><em>missing</em></td><td><em>missing</em></td><td><em>missing</em></td><td><em>missing</em></td><td><em>missing</em></td><td><em>missing</em></td><td><em>missing</em></td><td><em>missing</em></td><td><em>missing</em></td><td>0,42</td><td>Eqn 7 + NRCS (c---w)</td><td><em>missing</em></td><td><em>missing</em></td><td><em>missing</em></td><td><em>missing</em></td><td><em>missing</em></td><td><em>missing</em></td><td><em>missing</em></td><td><em>missing</em></td><td><em>missing</em></td><td><em>missing</em></td><td><em>missing</em></td><td><em>missing</em></td><td><em>missing</em></td><td><em>missing</em></td><td><em>missing</em></td><td><em>missing</em></td></tr><tr><th>15</th><td>AK DSC Project SOC stock computation</td><td>AK DSC Project SOC stock computation</td><td>60,5242</td><td>-151,037</td><td>NAD27</td><td>Alaska</td><td>United States</td><td>S2001AK122002</td><td>06/09/2001</td><td>01N1160</td><td>01N05977</td><td><em>missing</em></td><td><em>missing</em></td><td><em>missing</em></td><td><em>missing</em></td><td><em>missing</em></td><td><em>missing</em></td><td><em>missing</em></td><td><em>missing</em></td><td>Medial over loamy, amorphic over mixed, superactive Andic Haplocryods</td><td>Kenai</td><td><em>missing</em></td><td><em>missing</em></td><td><em>missing</em></td><td><em>missing</em></td><td><em>missing</em></td><td><em>missing</em></td><td><em>missing</em></td><td><em>missing</em></td><td><em>missing</em></td><td><em>missing</em></td><td><em>missing</em></td><td><em>missing</em></td><td><em>missing</em></td><td>0,52</td><td>noFill + NRCS (c-s-w)</td><td><em>missing</em></td><td><em>missing</em></td><td><em>missing</em></td><td><em>missing</em></td><td><em>missing</em></td><td><em>missing</em></td><td><em>missing</em></td><td><em>missing</em></td><td><em>missing</em></td><td><em>missing</em></td><td><em>missing</em></td><td><em>missing</em></td><td><em>missing</em></td><td><em>missing</em></td><td><em>missing</em></td><td><em>missing</em></td></tr><tr><th>16</th><td>AK DSC Project SOC stock computation</td><td>AK DSC Project SOC stock computation</td><td>60,5242</td><td>-151,037</td><td>NAD27</td><td>Alaska</td><td>United States</td><td>S2001AK122002</td><td>06/09/2001</td><td>01N1160</td><td>01N05978</td><td><em>missing</em></td><td><em>missing</em></td><td><em>missing</em></td><td><em>missing</em></td><td><em>missing</em></td><td><em>missing</em></td><td><em>missing</em></td><td><em>missing</em></td><td>Medial over loamy, amorphic over mixed, superactive Andic Haplocryods</td><td>Kenai</td><td><em>missing</em></td><td><em>missing</em></td><td><em>missing</em></td><td><em>missing</em></td><td><em>missing</em></td><td><em>missing</em></td><td><em>missing</em></td><td><em>missing</em></td><td><em>missing</em></td><td><em>missing</em></td><td><em>missing</em></td><td><em>missing</em></td><td><em>missing</em></td><td>0,13</td><td>noFill + NRCS (c-s-w)</td><td><em>missing</em></td><td><em>missing</em></td><td><em>missing</em></td><td><em>missing</em></td><td><em>missing</em></td><td><em>missing</em></td><td><em>missing</em></td><td><em>missing</em></td><td><em>missing</em></td><td><em>missing</em></td><td><em>missing</em></td><td><em>missing</em></td><td><em>missing</em></td><td><em>missing</em></td><td><em>missing</em></td><td><em>missing</em></td></tr><tr><th>17</th><td>AK DSC Project SOC stock computation</td><td>AK DSC Project SOC stock computation</td><td>60,5242</td><td>-151,037</td><td>NAD27</td><td>Alaska</td><td>United States</td><td>S2001AK122002</td><td>06/09/2001</td><td>01N1160</td><td>01N05979</td><td><em>missing</em></td><td><em>missing</em></td><td><em>missing</em></td><td><em>missing</em></td><td><em>missing</em></td><td><em>missing</em></td><td><em>missing</em></td><td><em>missing</em></td><td>Medial over loamy, amorphic over mixed, superactive Andic Haplocryods</td><td>Kenai</td><td><em>missing</em></td><td><em>missing</em></td><td><em>missing</em></td><td><em>missing</em></td><td><em>missing</em></td><td><em>missing</em></td><td><em>missing</em></td><td><em>missing</em></td><td><em>missing</em></td><td><em>missing</em></td><td><em>missing</em></td><td><em>missing</em></td><td><em>missing</em></td><td>0,11</td><td>noFill + NRCS (c-s-w)</td><td><em>missing</em></td><td><em>missing</em></td><td><em>missing</em></td><td><em>missing</em></td><td><em>missing</em></td><td><em>missing</em></td><td><em>missing</em></td><td><em>missing</em></td><td><em>missing</em></td><td><em>missing</em></td><td><em>missing</em></td><td><em>missing</em></td><td><em>missing</em></td><td><em>missing</em></td><td><em>missing</em></td><td><em>missing</em></td></tr><tr><th>18</th><td>AK DSC Project SOC stock computation</td><td>AK DSC Project SOC stock computation</td><td>60,5242</td><td>-151,037</td><td>NAD27</td><td>Alaska</td><td>United States</td><td>S2001AK122002</td><td>06/09/2001</td><td>01N1160</td><td>01N05980</td><td><em>missing</em></td><td><em>missing</em></td><td><em>missing</em></td><td><em>missing</em></td><td><em>missing</em></td><td><em>missing</em></td><td><em>missing</em></td><td><em>missing</em></td><td>Medial over loamy, amorphic over mixed, superactive Andic Haplocryods</td><td>Kenai</td><td><em>missing</em></td><td><em>missing</em></td><td><em>missing</em></td><td><em>missing</em></td><td><em>missing</em></td><td><em>missing</em></td><td><em>missing</em></td><td><em>missing</em></td><td><em>missing</em></td><td><em>missing</em></td><td><em>missing</em></td><td><em>missing</em></td><td><em>missing</em></td><td>0,06</td><td>noFill + NRCS (c-s-w)</td><td><em>missing</em></td><td><em>missing</em></td><td><em>missing</em></td><td><em>missing</em></td><td><em>missing</em></td><td><em>missing</em></td><td><em>missing</em></td><td><em>missing</em></td><td><em>missing</em></td><td><em>missing</em></td><td><em>missing</em></td><td><em>missing</em></td><td><em>missing</em></td><td><em>missing</em></td><td><em>missing</em></td><td><em>missing</em></td></tr><tr><th>19</th><td>AK DSC Project SOC stock computation</td><td>AK DSC Project SOC stock computation</td><td>60,5242</td><td>-151,037</td><td>NAD27</td><td>Alaska</td><td>United States</td><td>S2001AK122002</td><td>06/09/2001</td><td>01N1160</td><td>01N05981</td><td><em>missing</em></td><td><em>missing</em></td><td><em>missing</em></td><td><em>missing</em></td><td><em>missing</em></td><td><em>missing</em></td><td><em>missing</em></td><td><em>missing</em></td><td>Medial over loamy, amorphic over mixed, superactive Andic Haplocryods</td><td>Kenai</td><td><em>missing</em></td><td><em>missing</em></td><td><em>missing</em></td><td><em>missing</em></td><td><em>missing</em></td><td><em>missing</em></td><td><em>missing</em></td><td><em>missing</em></td><td><em>missing</em></td><td><em>missing</em></td><td><em>missing</em></td><td><em>missing</em></td><td><em>missing</em></td><td>0,11</td><td>noFill + NRCS (c-s-w)</td><td><em>missing</em></td><td><em>missing</em></td><td><em>missing</em></td><td><em>missing</em></td><td><em>missing</em></td><td><em>missing</em></td><td><em>missing</em></td><td><em>missing</em></td><td><em>missing</em></td><td><em>missing</em></td><td><em>missing</em></td><td><em>missing</em></td><td><em>missing</em></td><td><em>missing</em></td><td><em>missing</em></td><td><em>missing</em></td></tr><tr><th>20</th><td>AK DSC Project SOC stock computation</td><td>AK DSC Project SOC stock computation</td><td>60,5242</td><td>-151,037</td><td>NAD27</td><td>Alaska</td><td>United States</td><td>S2001AK122002</td><td>06/09/2001</td><td>01N1160</td><td>01N05982</td><td><em>missing</em></td><td><em>missing</em></td><td><em>missing</em></td><td><em>missing</em></td><td><em>missing</em></td><td><em>missing</em></td><td><em>missing</em></td><td><em>missing</em></td><td>Medial over loamy, amorphic over mixed, superactive Andic Haplocryods</td><td>Kenai</td><td><em>missing</em></td><td><em>missing</em></td><td><em>missing</em></td><td><em>missing</em></td><td><em>missing</em></td><td><em>missing</em></td><td><em>missing</em></td><td><em>missing</em></td><td><em>missing</em></td><td><em>missing</em></td><td><em>missing</em></td><td><em>missing</em></td><td><em>missing</em></td><td>0,08</td><td>noFill + NRCS (c-s-w)</td><td><em>missing</em></td><td><em>missing</em></td><td><em>missing</em></td><td><em>missing</em></td><td><em>missing</em></td><td><em>missing</em></td><td><em>missing</em></td><td><em>missing</em></td><td><em>missing</em></td><td><em>missing</em></td><td><em>missing</em></td><td><em>missing</em></td><td><em>missing</em></td><td><em>missing</em></td><td><em>missing</em></td><td><em>missing</em></td></tr><tr><th>&vellip;</th><td>&vellip;</td><td>&vellip;</td><td>&vellip;</td><td>&vellip;</td><td>&vellip;</td><td>&vellip;</td><td>&vellip;</td><td>&vellip;</td><td>&vellip;</td><td>&vellip;</td><td>&vellip;</td><td>&vellip;</td><td>&vellip;</td><td>&vellip;</td><td>&vellip;</td><td>&vellip;</td><td>&vellip;</td><td>&vellip;</td><td>&vellip;</td><td>&vellip;</td><td>&vellip;</td><td>&vellip;</td><td>&vellip;</td><td>&vellip;</td><td>&vellip;</td><td>&vellip;</td><td>&vellip;</td><td>&vellip;</td><td>&vellip;</td><td>&vellip;</td><td>&vellip;</td><td>&vellip;</td><td>&vellip;</td><td>&vellip;</td><td>&vellip;</td><td>&vellip;</td><td>&vellip;</td><td>&vellip;</td><td>&vellip;</td><td>&vellip;</td><td>&vellip;</td><td>&vellip;</td><td>&vellip;</td><td>&vellip;</td><td>&vellip;</td><td>&vellip;</td><td>&vellip;</td><td>&vellip;</td><td>&vellip;</td><td>&vellip;</td><td>&vellip;</td><td>&vellip;</td></tr></tbody></table>"
      ],
      "text/latex": [
       "\\begin{tabular}{r|ccccccccccccccccccccccccccccccccccccccccccccccccccccc}\n",
       "\t& dataset\\_name\\_sub & dataset\\_name\\_soc & lat (dec. deg) & long (dec. deg) & datum (datum) & state (state\\_province) & country (country) & site\\_name & observation\\_date (YYYY-MM-DD) & profile\\_name & layer\\_name & layer\\_top (cm) & layer\\_bot (cm) & hzn\\_desgn\\_other & hzn & hzn\\_desgn & layer\\_note & color & vegclass\\_local & soil\\_taxon & soil\\_series & bd\\_method & bd\\_samp (g cm-3) & bd\\_tot (g cm-3) & bd\\_whole (g cm-3) & bd\\_other (g cm-3) & bdNRCS\\_prep\\_code & cNRCS\\_prep\\_code & c\\_method & c\\_tot (percent) & oc (percent) & loi (percent) & n\\_tot (percent) & c\\_to\\_n (mass ratio) & soc (g cm-2) & soc\\_carbon\\_flag & soc\\_method & ph\\_method & ph\\_cacl & ph\\_h2o & ph\\_other & caco3 (percent) & sand\\_tot\\_psa (percent) & silt\\_tot\\_psa (percent) & clay\\_tot\\_psa (percent) & wpg2\\_method & wpg2 (percent) & cat\\_exch (cmol H+ kg-1) & al\\_dith (specified by al\\_fe\\_units) & al\\_ox (specified by al\\_fe\\_units) & al\\_other (specified by al\\_fe\\_units) & fe\\_dith (specified by al\\_fe\\_units) & \\\\\n",
       "\t\\hline\n",
       "\t& String & String & String? & String? & String? & String? & String? & String & String? & String & String & Int64? & Int64? & Missing & String? & String? & String? & String? & String? & String? & String? & String? & String? & String? & String? & String? & String? & String? & String? & String? & String? & String? & String? & Missing & String? & String? & String? & String? & String? & String? & String? & String? & Int64? & Int64? & Int64? & String? & Int64? & String? & String? & String? & String? & String? & \\\\\n",
       "\t\\hline\n",
       "\t1 & AK DSC Project SOC stock computation & AK DSC Project SOC stock computation & 60,5219 & -150,686 & NAD27 & Alaska & United States & S2001AK122001 & 06/09/2001 & 01N1159 & 01N05963 & \\emph{missing} & \\emph{missing} & \\emph{missing} & \\emph{missing} & \\emph{missing} & \\emph{missing} & \\emph{missing} & \\emph{missing} & Medial over loamy, amorphic over mixed, superactive Andic Humicryods & Naptowne & \\emph{missing} & \\emph{missing} & \\emph{missing} & \\emph{missing} & \\emph{missing} & \\emph{missing} & \\emph{missing} & \\emph{missing} & \\emph{missing} & \\emph{missing} & \\emph{missing} & \\emph{missing} & \\emph{missing} & 0,27 & Eqn 11 + NRCS (c---w) & \\emph{missing} & \\emph{missing} & \\emph{missing} & \\emph{missing} & \\emph{missing} & \\emph{missing} & \\emph{missing} & \\emph{missing} & \\emph{missing} & \\emph{missing} & \\emph{missing} & \\emph{missing} & \\emph{missing} & \\emph{missing} & \\emph{missing} & \\emph{missing} & $\\dots$ \\\\\n",
       "\t2 & AK DSC Project SOC stock computation & AK DSC Project SOC stock computation & 60,5219 & -150,686 & NAD27 & Alaska & United States & S2001AK122001 & 06/09/2001 & 01N1159 & 01N05964 & \\emph{missing} & \\emph{missing} & \\emph{missing} & \\emph{missing} & \\emph{missing} & \\emph{missing} & \\emph{missing} & \\emph{missing} & Medial over loamy, amorphic over mixed, superactive Andic Humicryods & Naptowne & \\emph{missing} & \\emph{missing} & \\emph{missing} & \\emph{missing} & \\emph{missing} & \\emph{missing} & \\emph{missing} & \\emph{missing} & \\emph{missing} & \\emph{missing} & \\emph{missing} & \\emph{missing} & \\emph{missing} & 0,27 & Eqn 7 + NRCS (c---w) & \\emph{missing} & \\emph{missing} & \\emph{missing} & \\emph{missing} & \\emph{missing} & \\emph{missing} & \\emph{missing} & \\emph{missing} & \\emph{missing} & \\emph{missing} & \\emph{missing} & \\emph{missing} & \\emph{missing} & \\emph{missing} & \\emph{missing} & \\emph{missing} & $\\dots$ \\\\\n",
       "\t3 & AK DSC Project SOC stock computation & AK DSC Project SOC stock computation & 60,5219 & -150,686 & NAD27 & Alaska & United States & S2001AK122001 & 06/09/2001 & 01N1159 & 01N05965 & \\emph{missing} & \\emph{missing} & \\emph{missing} & \\emph{missing} & \\emph{missing} & \\emph{missing} & \\emph{missing} & \\emph{missing} & Medial over loamy, amorphic over mixed, superactive Andic Humicryods & Naptowne & \\emph{missing} & \\emph{missing} & \\emph{missing} & \\emph{missing} & \\emph{missing} & \\emph{missing} & \\emph{missing} & \\emph{missing} & \\emph{missing} & \\emph{missing} & \\emph{missing} & \\emph{missing} & \\emph{missing} & 0,12 & noFill + NRCS (c-s-w) & \\emph{missing} & \\emph{missing} & \\emph{missing} & \\emph{missing} & \\emph{missing} & \\emph{missing} & \\emph{missing} & \\emph{missing} & \\emph{missing} & \\emph{missing} & \\emph{missing} & \\emph{missing} & \\emph{missing} & \\emph{missing} & \\emph{missing} & \\emph{missing} & $\\dots$ \\\\\n",
       "\t4 & AK DSC Project SOC stock computation & AK DSC Project SOC stock computation & 60,5219 & -150,686 & NAD27 & Alaska & United States & S2001AK122001 & 06/09/2001 & 01N1159 & 01N05966 & \\emph{missing} & \\emph{missing} & \\emph{missing} & \\emph{missing} & \\emph{missing} & \\emph{missing} & \\emph{missing} & \\emph{missing} & Medial over loamy, amorphic over mixed, superactive Andic Humicryods & Naptowne & \\emph{missing} & \\emph{missing} & \\emph{missing} & \\emph{missing} & \\emph{missing} & \\emph{missing} & \\emph{missing} & \\emph{missing} & \\emph{missing} & \\emph{missing} & \\emph{missing} & \\emph{missing} & \\emph{missing} & 0,25 & noFill + NRCS (c-s-w) & \\emph{missing} & \\emph{missing} & \\emph{missing} & \\emph{missing} & \\emph{missing} & \\emph{missing} & \\emph{missing} & \\emph{missing} & \\emph{missing} & \\emph{missing} & \\emph{missing} & \\emph{missing} & \\emph{missing} & \\emph{missing} & \\emph{missing} & \\emph{missing} & $\\dots$ \\\\\n",
       "\t5 & AK DSC Project SOC stock computation & AK DSC Project SOC stock computation & 60,5219 & -150,686 & NAD27 & Alaska & United States & S2001AK122001 & 06/09/2001 & 01N1159 & 01N05967 & \\emph{missing} & \\emph{missing} & \\emph{missing} & \\emph{missing} & \\emph{missing} & \\emph{missing} & \\emph{missing} & \\emph{missing} & Medial over loamy, amorphic over mixed, superactive Andic Humicryods & Naptowne & \\emph{missing} & \\emph{missing} & \\emph{missing} & \\emph{missing} & \\emph{missing} & \\emph{missing} & \\emph{missing} & \\emph{missing} & \\emph{missing} & \\emph{missing} & \\emph{missing} & \\emph{missing} & \\emph{missing} & 0,05 & noFill + NRCS (c-s-w) & \\emph{missing} & \\emph{missing} & \\emph{missing} & \\emph{missing} & \\emph{missing} & \\emph{missing} & \\emph{missing} & \\emph{missing} & \\emph{missing} & \\emph{missing} & \\emph{missing} & \\emph{missing} & \\emph{missing} & \\emph{missing} & \\emph{missing} & \\emph{missing} & $\\dots$ \\\\\n",
       "\t6 & AK DSC Project SOC stock computation & AK DSC Project SOC stock computation & 60,5219 & -150,686 & NAD27 & Alaska & United States & S2001AK122001 & 06/09/2001 & 01N1159 & 01N05968 & \\emph{missing} & \\emph{missing} & \\emph{missing} & \\emph{missing} & \\emph{missing} & \\emph{missing} & \\emph{missing} & \\emph{missing} & Medial over loamy, amorphic over mixed, superactive Andic Humicryods & Naptowne & \\emph{missing} & \\emph{missing} & \\emph{missing} & \\emph{missing} & \\emph{missing} & \\emph{missing} & \\emph{missing} & \\emph{missing} & \\emph{missing} & \\emph{missing} & \\emph{missing} & \\emph{missing} & \\emph{missing} & 0,03 & noFill + NRCS (c-s-w) & \\emph{missing} & \\emph{missing} & \\emph{missing} & \\emph{missing} & \\emph{missing} & \\emph{missing} & \\emph{missing} & \\emph{missing} & \\emph{missing} & \\emph{missing} & \\emph{missing} & \\emph{missing} & \\emph{missing} & \\emph{missing} & \\emph{missing} & \\emph{missing} & $\\dots$ \\\\\n",
       "\t7 & AK DSC Project SOC stock computation & AK DSC Project SOC stock computation & 60,5219 & -150,686 & NAD27 & Alaska & United States & S2001AK122001 & 06/09/2001 & 01N1159 & 01N05969 & \\emph{missing} & \\emph{missing} & \\emph{missing} & \\emph{missing} & \\emph{missing} & \\emph{missing} & \\emph{missing} & \\emph{missing} & Medial over loamy, amorphic over mixed, superactive Andic Humicryods & Naptowne & \\emph{missing} & \\emph{missing} & \\emph{missing} & \\emph{missing} & \\emph{missing} & \\emph{missing} & \\emph{missing} & \\emph{missing} & \\emph{missing} & \\emph{missing} & \\emph{missing} & \\emph{missing} & \\emph{missing} & 0,02 & noFill + NRCS (c-s-w) & \\emph{missing} & \\emph{missing} & \\emph{missing} & \\emph{missing} & \\emph{missing} & \\emph{missing} & \\emph{missing} & \\emph{missing} & \\emph{missing} & \\emph{missing} & \\emph{missing} & \\emph{missing} & \\emph{missing} & \\emph{missing} & \\emph{missing} & \\emph{missing} & $\\dots$ \\\\\n",
       "\t8 & AK DSC Project SOC stock computation & AK DSC Project SOC stock computation & 60,5219 & -150,686 & NAD27 & Alaska & United States & S2001AK122001 & 06/09/2001 & 01N1159 & 01N05970 & \\emph{missing} & \\emph{missing} & \\emph{missing} & \\emph{missing} & \\emph{missing} & \\emph{missing} & \\emph{missing} & \\emph{missing} & Medial over loamy, amorphic over mixed, superactive Andic Humicryods & Naptowne & \\emph{missing} & \\emph{missing} & \\emph{missing} & \\emph{missing} & \\emph{missing} & \\emph{missing} & \\emph{missing} & \\emph{missing} & \\emph{missing} & \\emph{missing} & \\emph{missing} & \\emph{missing} & \\emph{missing} & 0,02 & noFill + NRCS (c-s-w) & \\emph{missing} & \\emph{missing} & \\emph{missing} & \\emph{missing} & \\emph{missing} & \\emph{missing} & \\emph{missing} & \\emph{missing} & \\emph{missing} & \\emph{missing} & \\emph{missing} & \\emph{missing} & \\emph{missing} & \\emph{missing} & \\emph{missing} & \\emph{missing} & $\\dots$ \\\\\n",
       "\t9 & AK DSC Project SOC stock computation & AK DSC Project SOC stock computation & 60,5219 & -150,686 & NAD27 & Alaska & United States & S2001AK122001 & 06/09/2001 & 01N1159 & 01N05971 & \\emph{missing} & \\emph{missing} & \\emph{missing} & \\emph{missing} & \\emph{missing} & \\emph{missing} & \\emph{missing} & \\emph{missing} & Medial over loamy, amorphic over mixed, superactive Andic Humicryods & Naptowne & \\emph{missing} & \\emph{missing} & \\emph{missing} & \\emph{missing} & \\emph{missing} & \\emph{missing} & \\emph{missing} & \\emph{missing} & \\emph{missing} & \\emph{missing} & \\emph{missing} & \\emph{missing} & \\emph{missing} & 0,03 & Eqn 6 + NRCS (c---w) & \\emph{missing} & \\emph{missing} & \\emph{missing} & \\emph{missing} & \\emph{missing} & \\emph{missing} & \\emph{missing} & \\emph{missing} & \\emph{missing} & \\emph{missing} & \\emph{missing} & \\emph{missing} & \\emph{missing} & \\emph{missing} & \\emph{missing} & \\emph{missing} & $\\dots$ \\\\\n",
       "\t10 & AK DSC Project SOC stock computation & AK DSC Project SOC stock computation & 60,5219 & -150,686 & NAD27 & Alaska & United States & S2001AK122001 & 06/09/2001 & 01N1159 & 01N05972 & \\emph{missing} & \\emph{missing} & \\emph{missing} & \\emph{missing} & \\emph{missing} & \\emph{missing} & \\emph{missing} & \\emph{missing} & Medial over loamy, amorphic over mixed, superactive Andic Humicryods & Naptowne & \\emph{missing} & \\emph{missing} & \\emph{missing} & \\emph{missing} & \\emph{missing} & \\emph{missing} & \\emph{missing} & \\emph{missing} & \\emph{missing} & \\emph{missing} & \\emph{missing} & \\emph{missing} & \\emph{missing} & 0,1 & noFill + NRCS (c-s-w) & \\emph{missing} & \\emph{missing} & \\emph{missing} & \\emph{missing} & \\emph{missing} & \\emph{missing} & \\emph{missing} & \\emph{missing} & \\emph{missing} & \\emph{missing} & \\emph{missing} & \\emph{missing} & \\emph{missing} & \\emph{missing} & \\emph{missing} & \\emph{missing} & $\\dots$ \\\\\n",
       "\t11 & AK DSC Project SOC stock computation & AK DSC Project SOC stock computation & 60,5219 & -150,686 & NAD27 & Alaska & United States & S2001AK122001 & 06/09/2001 & 01N1159 & 01N05973 & \\emph{missing} & \\emph{missing} & \\emph{missing} & \\emph{missing} & \\emph{missing} & \\emph{missing} & \\emph{missing} & \\emph{missing} & Medial over loamy, amorphic over mixed, superactive Andic Humicryods & Naptowne & \\emph{missing} & \\emph{missing} & \\emph{missing} & \\emph{missing} & \\emph{missing} & \\emph{missing} & \\emph{missing} & \\emph{missing} & \\emph{missing} & \\emph{missing} & \\emph{missing} & \\emph{missing} & \\emph{missing} & 0,05 & Eqn 6 + NRCS (c---w) & \\emph{missing} & \\emph{missing} & \\emph{missing} & \\emph{missing} & \\emph{missing} & \\emph{missing} & \\emph{missing} & \\emph{missing} & \\emph{missing} & \\emph{missing} & \\emph{missing} & \\emph{missing} & \\emph{missing} & \\emph{missing} & \\emph{missing} & \\emph{missing} & $\\dots$ \\\\\n",
       "\t12 & AK DSC Project SOC stock computation & AK DSC Project SOC stock computation & 60,5219 & -150,686 & NAD27 & Alaska & United States & S2001AK122001 & 06/09/2001 & 01N1159 & 01N05974 & \\emph{missing} & \\emph{missing} & \\emph{missing} & \\emph{missing} & \\emph{missing} & \\emph{missing} & \\emph{missing} & \\emph{missing} & Medial over loamy, amorphic over mixed, superactive Andic Humicryods & Naptowne & \\emph{missing} & \\emph{missing} & \\emph{missing} & \\emph{missing} & \\emph{missing} & \\emph{missing} & \\emph{missing} & \\emph{missing} & \\emph{missing} & \\emph{missing} & \\emph{missing} & \\emph{missing} & \\emph{missing} & 0,04 & noFill + NRCS (c-s-w) & \\emph{missing} & \\emph{missing} & \\emph{missing} & \\emph{missing} & \\emph{missing} & \\emph{missing} & \\emph{missing} & \\emph{missing} & \\emph{missing} & \\emph{missing} & \\emph{missing} & \\emph{missing} & \\emph{missing} & \\emph{missing} & \\emph{missing} & \\emph{missing} & $\\dots$ \\\\\n",
       "\t13 & AK DSC Project SOC stock computation & AK DSC Project SOC stock computation & 60,5242 & -151,037 & NAD27 & Alaska & United States & S2001AK122002 & 06/09/2001 & 01N1160 & 01N05975 & \\emph{missing} & \\emph{missing} & \\emph{missing} & \\emph{missing} & \\emph{missing} & \\emph{missing} & \\emph{missing} & \\emph{missing} & Medial over loamy, amorphic over mixed, superactive Andic Haplocryods & Kenai & \\emph{missing} & \\emph{missing} & \\emph{missing} & \\emph{missing} & \\emph{missing} & \\emph{missing} & \\emph{missing} & \\emph{missing} & \\emph{missing} & \\emph{missing} & \\emph{missing} & \\emph{missing} & \\emph{missing} & 0,27 & Eqn 11 + NRCS (c---w) & \\emph{missing} & \\emph{missing} & \\emph{missing} & \\emph{missing} & \\emph{missing} & \\emph{missing} & \\emph{missing} & \\emph{missing} & \\emph{missing} & \\emph{missing} & \\emph{missing} & \\emph{missing} & \\emph{missing} & \\emph{missing} & \\emph{missing} & \\emph{missing} & $\\dots$ \\\\\n",
       "\t14 & AK DSC Project SOC stock computation & AK DSC Project SOC stock computation & 60,5242 & -151,037 & NAD27 & Alaska & United States & S2001AK122002 & 06/09/2001 & 01N1160 & 01N05976 & \\emph{missing} & \\emph{missing} & \\emph{missing} & \\emph{missing} & \\emph{missing} & \\emph{missing} & \\emph{missing} & \\emph{missing} & Medial over loamy, amorphic over mixed, superactive Andic Haplocryods & Kenai & \\emph{missing} & \\emph{missing} & \\emph{missing} & \\emph{missing} & \\emph{missing} & \\emph{missing} & \\emph{missing} & \\emph{missing} & \\emph{missing} & \\emph{missing} & \\emph{missing} & \\emph{missing} & \\emph{missing} & 0,42 & Eqn 7 + NRCS (c---w) & \\emph{missing} & \\emph{missing} & \\emph{missing} & \\emph{missing} & \\emph{missing} & \\emph{missing} & \\emph{missing} & \\emph{missing} & \\emph{missing} & \\emph{missing} & \\emph{missing} & \\emph{missing} & \\emph{missing} & \\emph{missing} & \\emph{missing} & \\emph{missing} & $\\dots$ \\\\\n",
       "\t15 & AK DSC Project SOC stock computation & AK DSC Project SOC stock computation & 60,5242 & -151,037 & NAD27 & Alaska & United States & S2001AK122002 & 06/09/2001 & 01N1160 & 01N05977 & \\emph{missing} & \\emph{missing} & \\emph{missing} & \\emph{missing} & \\emph{missing} & \\emph{missing} & \\emph{missing} & \\emph{missing} & Medial over loamy, amorphic over mixed, superactive Andic Haplocryods & Kenai & \\emph{missing} & \\emph{missing} & \\emph{missing} & \\emph{missing} & \\emph{missing} & \\emph{missing} & \\emph{missing} & \\emph{missing} & \\emph{missing} & \\emph{missing} & \\emph{missing} & \\emph{missing} & \\emph{missing} & 0,52 & noFill + NRCS (c-s-w) & \\emph{missing} & \\emph{missing} & \\emph{missing} & \\emph{missing} & \\emph{missing} & \\emph{missing} & \\emph{missing} & \\emph{missing} & \\emph{missing} & \\emph{missing} & \\emph{missing} & \\emph{missing} & \\emph{missing} & \\emph{missing} & \\emph{missing} & \\emph{missing} & $\\dots$ \\\\\n",
       "\t16 & AK DSC Project SOC stock computation & AK DSC Project SOC stock computation & 60,5242 & -151,037 & NAD27 & Alaska & United States & S2001AK122002 & 06/09/2001 & 01N1160 & 01N05978 & \\emph{missing} & \\emph{missing} & \\emph{missing} & \\emph{missing} & \\emph{missing} & \\emph{missing} & \\emph{missing} & \\emph{missing} & Medial over loamy, amorphic over mixed, superactive Andic Haplocryods & Kenai & \\emph{missing} & \\emph{missing} & \\emph{missing} & \\emph{missing} & \\emph{missing} & \\emph{missing} & \\emph{missing} & \\emph{missing} & \\emph{missing} & \\emph{missing} & \\emph{missing} & \\emph{missing} & \\emph{missing} & 0,13 & noFill + NRCS (c-s-w) & \\emph{missing} & \\emph{missing} & \\emph{missing} & \\emph{missing} & \\emph{missing} & \\emph{missing} & \\emph{missing} & \\emph{missing} & \\emph{missing} & \\emph{missing} & \\emph{missing} & \\emph{missing} & \\emph{missing} & \\emph{missing} & \\emph{missing} & \\emph{missing} & $\\dots$ \\\\\n",
       "\t17 & AK DSC Project SOC stock computation & AK DSC Project SOC stock computation & 60,5242 & -151,037 & NAD27 & Alaska & United States & S2001AK122002 & 06/09/2001 & 01N1160 & 01N05979 & \\emph{missing} & \\emph{missing} & \\emph{missing} & \\emph{missing} & \\emph{missing} & \\emph{missing} & \\emph{missing} & \\emph{missing} & Medial over loamy, amorphic over mixed, superactive Andic Haplocryods & Kenai & \\emph{missing} & \\emph{missing} & \\emph{missing} & \\emph{missing} & \\emph{missing} & \\emph{missing} & \\emph{missing} & \\emph{missing} & \\emph{missing} & \\emph{missing} & \\emph{missing} & \\emph{missing} & \\emph{missing} & 0,11 & noFill + NRCS (c-s-w) & \\emph{missing} & \\emph{missing} & \\emph{missing} & \\emph{missing} & \\emph{missing} & \\emph{missing} & \\emph{missing} & \\emph{missing} & \\emph{missing} & \\emph{missing} & \\emph{missing} & \\emph{missing} & \\emph{missing} & \\emph{missing} & \\emph{missing} & \\emph{missing} & $\\dots$ \\\\\n",
       "\t18 & AK DSC Project SOC stock computation & AK DSC Project SOC stock computation & 60,5242 & -151,037 & NAD27 & Alaska & United States & S2001AK122002 & 06/09/2001 & 01N1160 & 01N05980 & \\emph{missing} & \\emph{missing} & \\emph{missing} & \\emph{missing} & \\emph{missing} & \\emph{missing} & \\emph{missing} & \\emph{missing} & Medial over loamy, amorphic over mixed, superactive Andic Haplocryods & Kenai & \\emph{missing} & \\emph{missing} & \\emph{missing} & \\emph{missing} & \\emph{missing} & \\emph{missing} & \\emph{missing} & \\emph{missing} & \\emph{missing} & \\emph{missing} & \\emph{missing} & \\emph{missing} & \\emph{missing} & 0,06 & noFill + NRCS (c-s-w) & \\emph{missing} & \\emph{missing} & \\emph{missing} & \\emph{missing} & \\emph{missing} & \\emph{missing} & \\emph{missing} & \\emph{missing} & \\emph{missing} & \\emph{missing} & \\emph{missing} & \\emph{missing} & \\emph{missing} & \\emph{missing} & \\emph{missing} & \\emph{missing} & $\\dots$ \\\\\n",
       "\t19 & AK DSC Project SOC stock computation & AK DSC Project SOC stock computation & 60,5242 & -151,037 & NAD27 & Alaska & United States & S2001AK122002 & 06/09/2001 & 01N1160 & 01N05981 & \\emph{missing} & \\emph{missing} & \\emph{missing} & \\emph{missing} & \\emph{missing} & \\emph{missing} & \\emph{missing} & \\emph{missing} & Medial over loamy, amorphic over mixed, superactive Andic Haplocryods & Kenai & \\emph{missing} & \\emph{missing} & \\emph{missing} & \\emph{missing} & \\emph{missing} & \\emph{missing} & \\emph{missing} & \\emph{missing} & \\emph{missing} & \\emph{missing} & \\emph{missing} & \\emph{missing} & \\emph{missing} & 0,11 & noFill + NRCS (c-s-w) & \\emph{missing} & \\emph{missing} & \\emph{missing} & \\emph{missing} & \\emph{missing} & \\emph{missing} & \\emph{missing} & \\emph{missing} & \\emph{missing} & \\emph{missing} & \\emph{missing} & \\emph{missing} & \\emph{missing} & \\emph{missing} & \\emph{missing} & \\emph{missing} & $\\dots$ \\\\\n",
       "\t20 & AK DSC Project SOC stock computation & AK DSC Project SOC stock computation & 60,5242 & -151,037 & NAD27 & Alaska & United States & S2001AK122002 & 06/09/2001 & 01N1160 & 01N05982 & \\emph{missing} & \\emph{missing} & \\emph{missing} & \\emph{missing} & \\emph{missing} & \\emph{missing} & \\emph{missing} & \\emph{missing} & Medial over loamy, amorphic over mixed, superactive Andic Haplocryods & Kenai & \\emph{missing} & \\emph{missing} & \\emph{missing} & \\emph{missing} & \\emph{missing} & \\emph{missing} & \\emph{missing} & \\emph{missing} & \\emph{missing} & \\emph{missing} & \\emph{missing} & \\emph{missing} & \\emph{missing} & 0,08 & noFill + NRCS (c-s-w) & \\emph{missing} & \\emph{missing} & \\emph{missing} & \\emph{missing} & \\emph{missing} & \\emph{missing} & \\emph{missing} & \\emph{missing} & \\emph{missing} & \\emph{missing} & \\emph{missing} & \\emph{missing} & \\emph{missing} & \\emph{missing} & \\emph{missing} & \\emph{missing} & $\\dots$ \\\\\n",
       "\t$\\dots$ & $\\dots$ & $\\dots$ & $\\dots$ & $\\dots$ & $\\dots$ & $\\dots$ & $\\dots$ & $\\dots$ & $\\dots$ & $\\dots$ & $\\dots$ & $\\dots$ & $\\dots$ & $\\dots$ & $\\dots$ & $\\dots$ & $\\dots$ & $\\dots$ & $\\dots$ & $\\dots$ & $\\dots$ & $\\dots$ & $\\dots$ & $\\dots$ & $\\dots$ & $\\dots$ & $\\dots$ & $\\dots$ & $\\dots$ & $\\dots$ & $\\dots$ & $\\dots$ & $\\dots$ & $\\dots$ & $\\dots$ & $\\dots$ & $\\dots$ & $\\dots$ & $\\dots$ & $\\dots$ & $\\dots$ & $\\dots$ & $\\dots$ & $\\dots$ & $\\dots$ & $\\dots$ & $\\dots$ & $\\dots$ & $\\dots$ & $\\dots$ & $\\dots$ & $\\dots$ &  \\\\\n",
       "\\end{tabular}\n"
      ],
      "text/plain": [
       "114930×94 DataFrame. Omitted printing of 45 columns\n",
       "│ Row    │ dataset_name_sub                     │ dataset_name_soc                     │ lat (dec. deg) │ long (dec. deg) │ datum (datum) │ state (state_province) │ country (country) │ site_name     │ observation_date (YYYY-MM-DD) │ profile_name │ layer_name   │ layer_top (cm) │ layer_bot (cm) │ hzn_desgn_other │ hzn     │ hzn_desgn │ layer_note │ color   │ vegclass_local │ soil_taxon                                                           │ soil_series │ bd_method │ bd_samp (g cm-3) │ bd_tot (g cm-3) │ bd_whole (g cm-3) │ bd_other (g cm-3) │ bdNRCS_prep_code │ cNRCS_prep_code │ c_method │ c_tot (percent) │ oc (percent) │ loi (percent) │ n_tot (percent) │ c_to_n (mass ratio) │ soc (g cm-2) │ soc_carbon_flag       │ soc_method │ ph_method │ ph_cacl │ ph_h2o  │ ph_other │ caco3 (percent) │ sand_tot_psa (percent) │ silt_tot_psa (percent) │ clay_tot_psa (percent) │ wpg2_method │ wpg2 (percent) │ cat_exch (cmol H+ kg-1) │ al_dith (specified by al_fe_units) │\n",
       "│        │ \u001b[90mString\u001b[39m                               │ \u001b[90mString\u001b[39m                               │ \u001b[90mString?\u001b[39m        │ \u001b[90mString?\u001b[39m         │ \u001b[90mString?\u001b[39m       │ \u001b[90mUnion{Missing, String}\u001b[39m │ \u001b[90mString?\u001b[39m           │ \u001b[90mString\u001b[39m        │ \u001b[90mUnion{Missing, String}\u001b[39m        │ \u001b[90mString\u001b[39m       │ \u001b[90mString\u001b[39m       │ \u001b[90mInt64?\u001b[39m         │ \u001b[90mInt64?\u001b[39m         │ \u001b[90mMissing\u001b[39m         │ \u001b[90mString?\u001b[39m │ \u001b[90mString?\u001b[39m   │ \u001b[90mString?\u001b[39m    │ \u001b[90mString?\u001b[39m │ \u001b[90mString?\u001b[39m        │ \u001b[90mUnion{Missing, String}\u001b[39m                                               │ \u001b[90mString?\u001b[39m     │ \u001b[90mString?\u001b[39m   │ \u001b[90mString?\u001b[39m          │ \u001b[90mString?\u001b[39m         │ \u001b[90mString?\u001b[39m           │ \u001b[90mString?\u001b[39m           │ \u001b[90mString?\u001b[39m          │ \u001b[90mString?\u001b[39m         │ \u001b[90mString?\u001b[39m  │ \u001b[90mString?\u001b[39m         │ \u001b[90mString?\u001b[39m      │ \u001b[90mString?\u001b[39m       │ \u001b[90mString?\u001b[39m         │ \u001b[90mMissing\u001b[39m             │ \u001b[90mString?\u001b[39m      │ \u001b[90mString?\u001b[39m               │ \u001b[90mString?\u001b[39m    │ \u001b[90mString?\u001b[39m   │ \u001b[90mString?\u001b[39m │ \u001b[90mString?\u001b[39m │ \u001b[90mString?\u001b[39m  │ \u001b[90mString?\u001b[39m         │ \u001b[90mUnion{Missing, Int64}\u001b[39m  │ \u001b[90mUnion{Missing, Int64}\u001b[39m  │ \u001b[90mUnion{Missing, Int64}\u001b[39m  │ \u001b[90mString?\u001b[39m     │ \u001b[90mInt64?\u001b[39m         │ \u001b[90mUnion{Missing, String}\u001b[39m  │ \u001b[90mUnion{Missing, String}\u001b[39m             │\n",
       "├────────┼──────────────────────────────────────┼──────────────────────────────────────┼────────────────┼─────────────────┼───────────────┼────────────────────────┼───────────────────┼───────────────┼───────────────────────────────┼──────────────┼──────────────┼────────────────┼────────────────┼─────────────────┼─────────┼───────────┼────────────┼─────────┼────────────────┼──────────────────────────────────────────────────────────────────────┼─────────────┼───────────┼──────────────────┼─────────────────┼───────────────────┼───────────────────┼──────────────────┼─────────────────┼──────────┼─────────────────┼──────────────┼───────────────┼─────────────────┼─────────────────────┼──────────────┼───────────────────────┼────────────┼───────────┼─────────┼─────────┼──────────┼─────────────────┼────────────────────────┼────────────────────────┼────────────────────────┼─────────────┼────────────────┼─────────────────────────┼────────────────────────────────────┤\n",
       "│ 1      │ AK DSC Project SOC stock computation │ AK DSC Project SOC stock computation │ 60,5219        │ -150,686        │ NAD27         │ Alaska                 │ United States     │ S2001AK122001 │ 06/09/2001                    │ 01N1159      │ 01N05963     │ \u001b[90mmissing\u001b[39m        │ \u001b[90mmissing\u001b[39m        │ \u001b[90mmissing\u001b[39m         │ \u001b[90mmissing\u001b[39m │ \u001b[90mmissing\u001b[39m   │ \u001b[90mmissing\u001b[39m    │ \u001b[90mmissing\u001b[39m │ \u001b[90mmissing\u001b[39m        │ Medial over loamy, amorphic over mixed, superactive Andic Humicryods │ Naptowne    │ \u001b[90mmissing\u001b[39m   │ \u001b[90mmissing\u001b[39m          │ \u001b[90mmissing\u001b[39m         │ \u001b[90mmissing\u001b[39m           │ \u001b[90mmissing\u001b[39m           │ \u001b[90mmissing\u001b[39m          │ \u001b[90mmissing\u001b[39m         │ \u001b[90mmissing\u001b[39m  │ \u001b[90mmissing\u001b[39m         │ \u001b[90mmissing\u001b[39m      │ \u001b[90mmissing\u001b[39m       │ \u001b[90mmissing\u001b[39m         │ \u001b[90mmissing\u001b[39m             │ 0,27         │ Eqn 11 + NRCS (c---w) │ \u001b[90mmissing\u001b[39m    │ \u001b[90mmissing\u001b[39m   │ \u001b[90mmissing\u001b[39m │ \u001b[90mmissing\u001b[39m │ \u001b[90mmissing\u001b[39m  │ \u001b[90mmissing\u001b[39m         │ \u001b[90mmissing\u001b[39m                │ \u001b[90mmissing\u001b[39m                │ \u001b[90mmissing\u001b[39m                │ \u001b[90mmissing\u001b[39m     │ \u001b[90mmissing\u001b[39m        │ \u001b[90mmissing\u001b[39m                 │ \u001b[90mmissing\u001b[39m                            │\n",
       "│ 2      │ AK DSC Project SOC stock computation │ AK DSC Project SOC stock computation │ 60,5219        │ -150,686        │ NAD27         │ Alaska                 │ United States     │ S2001AK122001 │ 06/09/2001                    │ 01N1159      │ 01N05964     │ \u001b[90mmissing\u001b[39m        │ \u001b[90mmissing\u001b[39m        │ \u001b[90mmissing\u001b[39m         │ \u001b[90mmissing\u001b[39m │ \u001b[90mmissing\u001b[39m   │ \u001b[90mmissing\u001b[39m    │ \u001b[90mmissing\u001b[39m │ \u001b[90mmissing\u001b[39m        │ Medial over loamy, amorphic over mixed, superactive Andic Humicryods │ Naptowne    │ \u001b[90mmissing\u001b[39m   │ \u001b[90mmissing\u001b[39m          │ \u001b[90mmissing\u001b[39m         │ \u001b[90mmissing\u001b[39m           │ \u001b[90mmissing\u001b[39m           │ \u001b[90mmissing\u001b[39m          │ \u001b[90mmissing\u001b[39m         │ \u001b[90mmissing\u001b[39m  │ \u001b[90mmissing\u001b[39m         │ \u001b[90mmissing\u001b[39m      │ \u001b[90mmissing\u001b[39m       │ \u001b[90mmissing\u001b[39m         │ \u001b[90mmissing\u001b[39m             │ 0,27         │ Eqn 7 + NRCS (c---w)  │ \u001b[90mmissing\u001b[39m    │ \u001b[90mmissing\u001b[39m   │ \u001b[90mmissing\u001b[39m │ \u001b[90mmissing\u001b[39m │ \u001b[90mmissing\u001b[39m  │ \u001b[90mmissing\u001b[39m         │ \u001b[90mmissing\u001b[39m                │ \u001b[90mmissing\u001b[39m                │ \u001b[90mmissing\u001b[39m                │ \u001b[90mmissing\u001b[39m     │ \u001b[90mmissing\u001b[39m        │ \u001b[90mmissing\u001b[39m                 │ \u001b[90mmissing\u001b[39m                            │\n",
       "│ 3      │ AK DSC Project SOC stock computation │ AK DSC Project SOC stock computation │ 60,5219        │ -150,686        │ NAD27         │ Alaska                 │ United States     │ S2001AK122001 │ 06/09/2001                    │ 01N1159      │ 01N05965     │ \u001b[90mmissing\u001b[39m        │ \u001b[90mmissing\u001b[39m        │ \u001b[90mmissing\u001b[39m         │ \u001b[90mmissing\u001b[39m │ \u001b[90mmissing\u001b[39m   │ \u001b[90mmissing\u001b[39m    │ \u001b[90mmissing\u001b[39m │ \u001b[90mmissing\u001b[39m        │ Medial over loamy, amorphic over mixed, superactive Andic Humicryods │ Naptowne    │ \u001b[90mmissing\u001b[39m   │ \u001b[90mmissing\u001b[39m          │ \u001b[90mmissing\u001b[39m         │ \u001b[90mmissing\u001b[39m           │ \u001b[90mmissing\u001b[39m           │ \u001b[90mmissing\u001b[39m          │ \u001b[90mmissing\u001b[39m         │ \u001b[90mmissing\u001b[39m  │ \u001b[90mmissing\u001b[39m         │ \u001b[90mmissing\u001b[39m      │ \u001b[90mmissing\u001b[39m       │ \u001b[90mmissing\u001b[39m         │ \u001b[90mmissing\u001b[39m             │ 0,12         │ noFill + NRCS (c-s-w) │ \u001b[90mmissing\u001b[39m    │ \u001b[90mmissing\u001b[39m   │ \u001b[90mmissing\u001b[39m │ \u001b[90mmissing\u001b[39m │ \u001b[90mmissing\u001b[39m  │ \u001b[90mmissing\u001b[39m         │ \u001b[90mmissing\u001b[39m                │ \u001b[90mmissing\u001b[39m                │ \u001b[90mmissing\u001b[39m                │ \u001b[90mmissing\u001b[39m     │ \u001b[90mmissing\u001b[39m        │ \u001b[90mmissing\u001b[39m                 │ \u001b[90mmissing\u001b[39m                            │\n",
       "│ 4      │ AK DSC Project SOC stock computation │ AK DSC Project SOC stock computation │ 60,5219        │ -150,686        │ NAD27         │ Alaska                 │ United States     │ S2001AK122001 │ 06/09/2001                    │ 01N1159      │ 01N05966     │ \u001b[90mmissing\u001b[39m        │ \u001b[90mmissing\u001b[39m        │ \u001b[90mmissing\u001b[39m         │ \u001b[90mmissing\u001b[39m │ \u001b[90mmissing\u001b[39m   │ \u001b[90mmissing\u001b[39m    │ \u001b[90mmissing\u001b[39m │ \u001b[90mmissing\u001b[39m        │ Medial over loamy, amorphic over mixed, superactive Andic Humicryods │ Naptowne    │ \u001b[90mmissing\u001b[39m   │ \u001b[90mmissing\u001b[39m          │ \u001b[90mmissing\u001b[39m         │ \u001b[90mmissing\u001b[39m           │ \u001b[90mmissing\u001b[39m           │ \u001b[90mmissing\u001b[39m          │ \u001b[90mmissing\u001b[39m         │ \u001b[90mmissing\u001b[39m  │ \u001b[90mmissing\u001b[39m         │ \u001b[90mmissing\u001b[39m      │ \u001b[90mmissing\u001b[39m       │ \u001b[90mmissing\u001b[39m         │ \u001b[90mmissing\u001b[39m             │ 0,25         │ noFill + NRCS (c-s-w) │ \u001b[90mmissing\u001b[39m    │ \u001b[90mmissing\u001b[39m   │ \u001b[90mmissing\u001b[39m │ \u001b[90mmissing\u001b[39m │ \u001b[90mmissing\u001b[39m  │ \u001b[90mmissing\u001b[39m         │ \u001b[90mmissing\u001b[39m                │ \u001b[90mmissing\u001b[39m                │ \u001b[90mmissing\u001b[39m                │ \u001b[90mmissing\u001b[39m     │ \u001b[90mmissing\u001b[39m        │ \u001b[90mmissing\u001b[39m                 │ \u001b[90mmissing\u001b[39m                            │\n",
       "│ 5      │ AK DSC Project SOC stock computation │ AK DSC Project SOC stock computation │ 60,5219        │ -150,686        │ NAD27         │ Alaska                 │ United States     │ S2001AK122001 │ 06/09/2001                    │ 01N1159      │ 01N05967     │ \u001b[90mmissing\u001b[39m        │ \u001b[90mmissing\u001b[39m        │ \u001b[90mmissing\u001b[39m         │ \u001b[90mmissing\u001b[39m │ \u001b[90mmissing\u001b[39m   │ \u001b[90mmissing\u001b[39m    │ \u001b[90mmissing\u001b[39m │ \u001b[90mmissing\u001b[39m        │ Medial over loamy, amorphic over mixed, superactive Andic Humicryods │ Naptowne    │ \u001b[90mmissing\u001b[39m   │ \u001b[90mmissing\u001b[39m          │ \u001b[90mmissing\u001b[39m         │ \u001b[90mmissing\u001b[39m           │ \u001b[90mmissing\u001b[39m           │ \u001b[90mmissing\u001b[39m          │ \u001b[90mmissing\u001b[39m         │ \u001b[90mmissing\u001b[39m  │ \u001b[90mmissing\u001b[39m         │ \u001b[90mmissing\u001b[39m      │ \u001b[90mmissing\u001b[39m       │ \u001b[90mmissing\u001b[39m         │ \u001b[90mmissing\u001b[39m             │ 0,05         │ noFill + NRCS (c-s-w) │ \u001b[90mmissing\u001b[39m    │ \u001b[90mmissing\u001b[39m   │ \u001b[90mmissing\u001b[39m │ \u001b[90mmissing\u001b[39m │ \u001b[90mmissing\u001b[39m  │ \u001b[90mmissing\u001b[39m         │ \u001b[90mmissing\u001b[39m                │ \u001b[90mmissing\u001b[39m                │ \u001b[90mmissing\u001b[39m                │ \u001b[90mmissing\u001b[39m     │ \u001b[90mmissing\u001b[39m        │ \u001b[90mmissing\u001b[39m                 │ \u001b[90mmissing\u001b[39m                            │\n",
       "⋮\n",
       "│ 114925 │ USGS Harden Yazoo                    │ USGS Harden Yazoo                    │ \u001b[90mmissing\u001b[39m        │ \u001b[90mmissing\u001b[39m         │ \u001b[90mmissing\u001b[39m       │ \u001b[90mmissing\u001b[39m                │ \u001b[90mmissing\u001b[39m           │ NFPV*         │ \u001b[90mmissing\u001b[39m                       │ NFPV 1       │ NFPV* 1.45x  │ \u001b[90mmissing\u001b[39m        │ \u001b[90mmissing\u001b[39m        │ \u001b[90mmissing\u001b[39m         │ \u001b[90mmissing\u001b[39m │ \u001b[90mmissing\u001b[39m   │ \u001b[90mmissing\u001b[39m    │ \u001b[90mmissing\u001b[39m │ \u001b[90mmissing\u001b[39m        │ \u001b[90mmissing\u001b[39m                                                              │ \u001b[90mmissing\u001b[39m     │ \u001b[90mmissing\u001b[39m   │ \u001b[90mmissing\u001b[39m          │ \u001b[90mmissing\u001b[39m         │ \u001b[90mmissing\u001b[39m           │ \u001b[90mmissing\u001b[39m           │ \u001b[90mmissing\u001b[39m          │ \u001b[90mmissing\u001b[39m         │ \u001b[90mmissing\u001b[39m  │ \u001b[90mmissing\u001b[39m         │ \u001b[90mmissing\u001b[39m      │ \u001b[90mmissing\u001b[39m       │ \u001b[90mmissing\u001b[39m         │ \u001b[90mmissing\u001b[39m             │ 0,03         │ \u001b[90mmissing\u001b[39m               │ \u001b[90mmissing\u001b[39m    │ \u001b[90mmissing\u001b[39m   │ \u001b[90mmissing\u001b[39m │ \u001b[90mmissing\u001b[39m │ \u001b[90mmissing\u001b[39m  │ \u001b[90mmissing\u001b[39m         │ \u001b[90mmissing\u001b[39m                │ \u001b[90mmissing\u001b[39m                │ \u001b[90mmissing\u001b[39m                │ \u001b[90mmissing\u001b[39m     │ \u001b[90mmissing\u001b[39m        │ \u001b[90mmissing\u001b[39m                 │ \u001b[90mmissing\u001b[39m                            │\n",
       "│ 114926 │ USGS Harden Yazoo                    │ USGS Harden Yazoo                    │ \u001b[90mmissing\u001b[39m        │ \u001b[90mmissing\u001b[39m         │ \u001b[90mmissing\u001b[39m       │ \u001b[90mmissing\u001b[39m                │ \u001b[90mmissing\u001b[39m           │ NFPV*         │ \u001b[90mmissing\u001b[39m                       │ NFPV 1       │ NFPV* 1.50x  │ \u001b[90mmissing\u001b[39m        │ \u001b[90mmissing\u001b[39m        │ \u001b[90mmissing\u001b[39m         │ \u001b[90mmissing\u001b[39m │ \u001b[90mmissing\u001b[39m   │ \u001b[90mmissing\u001b[39m    │ \u001b[90mmissing\u001b[39m │ \u001b[90mmissing\u001b[39m        │ \u001b[90mmissing\u001b[39m                                                              │ \u001b[90mmissing\u001b[39m     │ \u001b[90mmissing\u001b[39m   │ \u001b[90mmissing\u001b[39m          │ \u001b[90mmissing\u001b[39m         │ \u001b[90mmissing\u001b[39m           │ \u001b[90mmissing\u001b[39m           │ \u001b[90mmissing\u001b[39m          │ \u001b[90mmissing\u001b[39m         │ \u001b[90mmissing\u001b[39m  │ \u001b[90mmissing\u001b[39m         │ \u001b[90mmissing\u001b[39m      │ \u001b[90mmissing\u001b[39m       │ \u001b[90mmissing\u001b[39m         │ \u001b[90mmissing\u001b[39m             │ 0,03         │ \u001b[90mmissing\u001b[39m               │ \u001b[90mmissing\u001b[39m    │ \u001b[90mmissing\u001b[39m   │ \u001b[90mmissing\u001b[39m │ \u001b[90mmissing\u001b[39m │ \u001b[90mmissing\u001b[39m  │ \u001b[90mmissing\u001b[39m         │ \u001b[90mmissing\u001b[39m                │ \u001b[90mmissing\u001b[39m                │ \u001b[90mmissing\u001b[39m                │ \u001b[90mmissing\u001b[39m     │ \u001b[90mmissing\u001b[39m        │ \u001b[90mmissing\u001b[39m                 │ \u001b[90mmissing\u001b[39m                            │\n",
       "│ 114927 │ USGS Harden Yazoo                    │ USGS Harden Yazoo                    │ \u001b[90mmissing\u001b[39m        │ \u001b[90mmissing\u001b[39m         │ \u001b[90mmissing\u001b[39m       │ \u001b[90mmissing\u001b[39m                │ \u001b[90mmissing\u001b[39m           │ NFPV*         │ \u001b[90mmissing\u001b[39m                       │ NFPV 1       │ NFPV* 1.20x  │ \u001b[90mmissing\u001b[39m        │ \u001b[90mmissing\u001b[39m        │ \u001b[90mmissing\u001b[39m         │ \u001b[90mmissing\u001b[39m │ \u001b[90mmissing\u001b[39m   │ \u001b[90mmissing\u001b[39m    │ \u001b[90mmissing\u001b[39m │ \u001b[90mmissing\u001b[39m        │ \u001b[90mmissing\u001b[39m                                                              │ \u001b[90mmissing\u001b[39m     │ \u001b[90mmissing\u001b[39m   │ \u001b[90mmissing\u001b[39m          │ \u001b[90mmissing\u001b[39m         │ \u001b[90mmissing\u001b[39m           │ \u001b[90mmissing\u001b[39m           │ \u001b[90mmissing\u001b[39m          │ \u001b[90mmissing\u001b[39m         │ \u001b[90mmissing\u001b[39m  │ \u001b[90mmissing\u001b[39m         │ \u001b[90mmissing\u001b[39m      │ \u001b[90mmissing\u001b[39m       │ \u001b[90mmissing\u001b[39m         │ \u001b[90mmissing\u001b[39m             │ 0,05         │ \u001b[90mmissing\u001b[39m               │ \u001b[90mmissing\u001b[39m    │ \u001b[90mmissing\u001b[39m   │ \u001b[90mmissing\u001b[39m │ \u001b[90mmissing\u001b[39m │ \u001b[90mmissing\u001b[39m  │ \u001b[90mmissing\u001b[39m         │ \u001b[90mmissing\u001b[39m                │ \u001b[90mmissing\u001b[39m                │ \u001b[90mmissing\u001b[39m                │ \u001b[90mmissing\u001b[39m     │ \u001b[90mmissing\u001b[39m        │ \u001b[90mmissing\u001b[39m                 │ \u001b[90mmissing\u001b[39m                            │\n",
       "│ 114928 │ USGS Harden Yazoo                    │ USGS Harden Yazoo                    │ \u001b[90mmissing\u001b[39m        │ \u001b[90mmissing\u001b[39m         │ \u001b[90mmissing\u001b[39m       │ \u001b[90mmissing\u001b[39m                │ \u001b[90mmissing\u001b[39m           │ NFPV*         │ \u001b[90mmissing\u001b[39m                       │ NFPV 1       │ NFPV* 1.25x  │ \u001b[90mmissing\u001b[39m        │ \u001b[90mmissing\u001b[39m        │ \u001b[90mmissing\u001b[39m         │ \u001b[90mmissing\u001b[39m │ \u001b[90mmissing\u001b[39m   │ \u001b[90mmissing\u001b[39m    │ \u001b[90mmissing\u001b[39m │ \u001b[90mmissing\u001b[39m        │ \u001b[90mmissing\u001b[39m                                                              │ \u001b[90mmissing\u001b[39m     │ \u001b[90mmissing\u001b[39m   │ \u001b[90mmissing\u001b[39m          │ \u001b[90mmissing\u001b[39m         │ \u001b[90mmissing\u001b[39m           │ \u001b[90mmissing\u001b[39m           │ \u001b[90mmissing\u001b[39m          │ \u001b[90mmissing\u001b[39m         │ \u001b[90mmissing\u001b[39m  │ \u001b[90mmissing\u001b[39m         │ \u001b[90mmissing\u001b[39m      │ \u001b[90mmissing\u001b[39m       │ \u001b[90mmissing\u001b[39m         │ \u001b[90mmissing\u001b[39m             │ 0,05         │ \u001b[90mmissing\u001b[39m               │ \u001b[90mmissing\u001b[39m    │ \u001b[90mmissing\u001b[39m   │ \u001b[90mmissing\u001b[39m │ \u001b[90mmissing\u001b[39m │ \u001b[90mmissing\u001b[39m  │ \u001b[90mmissing\u001b[39m         │ \u001b[90mmissing\u001b[39m                │ \u001b[90mmissing\u001b[39m                │ \u001b[90mmissing\u001b[39m                │ \u001b[90mmissing\u001b[39m     │ \u001b[90mmissing\u001b[39m        │ \u001b[90mmissing\u001b[39m                 │ \u001b[90mmissing\u001b[39m                            │\n",
       "│ 114929 │ USGS Harden Yazoo                    │ USGS Harden Yazoo                    │ \u001b[90mmissing\u001b[39m        │ \u001b[90mmissing\u001b[39m         │ \u001b[90mmissing\u001b[39m       │ \u001b[90mmissing\u001b[39m                │ \u001b[90mmissing\u001b[39m           │ NFPV*         │ \u001b[90mmissing\u001b[39m                       │ NFPV 1       │ NFPV* 1.30x  │ \u001b[90mmissing\u001b[39m        │ \u001b[90mmissing\u001b[39m        │ \u001b[90mmissing\u001b[39m         │ \u001b[90mmissing\u001b[39m │ \u001b[90mmissing\u001b[39m   │ \u001b[90mmissing\u001b[39m    │ \u001b[90mmissing\u001b[39m │ \u001b[90mmissing\u001b[39m        │ \u001b[90mmissing\u001b[39m                                                              │ \u001b[90mmissing\u001b[39m     │ \u001b[90mmissing\u001b[39m   │ \u001b[90mmissing\u001b[39m          │ \u001b[90mmissing\u001b[39m         │ \u001b[90mmissing\u001b[39m           │ \u001b[90mmissing\u001b[39m           │ \u001b[90mmissing\u001b[39m          │ \u001b[90mmissing\u001b[39m         │ \u001b[90mmissing\u001b[39m  │ \u001b[90mmissing\u001b[39m         │ \u001b[90mmissing\u001b[39m      │ \u001b[90mmissing\u001b[39m       │ \u001b[90mmissing\u001b[39m         │ \u001b[90mmissing\u001b[39m             │ 0,04         │ \u001b[90mmissing\u001b[39m               │ \u001b[90mmissing\u001b[39m    │ \u001b[90mmissing\u001b[39m   │ \u001b[90mmissing\u001b[39m │ \u001b[90mmissing\u001b[39m │ \u001b[90mmissing\u001b[39m  │ \u001b[90mmissing\u001b[39m         │ \u001b[90mmissing\u001b[39m                │ \u001b[90mmissing\u001b[39m                │ \u001b[90mmissing\u001b[39m                │ \u001b[90mmissing\u001b[39m     │ \u001b[90mmissing\u001b[39m        │ \u001b[90mmissing\u001b[39m                 │ \u001b[90mmissing\u001b[39m                            │\n",
       "│ 114930 │ USGS Harden Yazoo                    │ USGS Harden Yazoo                    │ \u001b[90mmissing\u001b[39m        │ \u001b[90mmissing\u001b[39m         │ \u001b[90mmissing\u001b[39m       │ \u001b[90mmissing\u001b[39m                │ \u001b[90mmissing\u001b[39m           │ NFPV*         │ \u001b[90mmissing\u001b[39m                       │ NFPV 1       │ NFPV* 1.35x  │ \u001b[90mmissing\u001b[39m        │ \u001b[90mmissing\u001b[39m        │ \u001b[90mmissing\u001b[39m         │ \u001b[90mmissing\u001b[39m │ \u001b[90mmissing\u001b[39m   │ \u001b[90mmissing\u001b[39m    │ \u001b[90mmissing\u001b[39m │ \u001b[90mmissing\u001b[39m        │ \u001b[90mmissing\u001b[39m                                                              │ \u001b[90mmissing\u001b[39m     │ \u001b[90mmissing\u001b[39m   │ \u001b[90mmissing\u001b[39m          │ \u001b[90mmissing\u001b[39m         │ \u001b[90mmissing\u001b[39m           │ \u001b[90mmissing\u001b[39m           │ \u001b[90mmissing\u001b[39m          │ \u001b[90mmissing\u001b[39m         │ \u001b[90mmissing\u001b[39m  │ \u001b[90mmissing\u001b[39m         │ \u001b[90mmissing\u001b[39m      │ \u001b[90mmissing\u001b[39m       │ \u001b[90mmissing\u001b[39m         │ \u001b[90mmissing\u001b[39m             │ 0,04         │ \u001b[90mmissing\u001b[39m               │ \u001b[90mmissing\u001b[39m    │ \u001b[90mmissing\u001b[39m   │ \u001b[90mmissing\u001b[39m │ \u001b[90mmissing\u001b[39m │ \u001b[90mmissing\u001b[39m  │ \u001b[90mmissing\u001b[39m         │ \u001b[90mmissing\u001b[39m                │ \u001b[90mmissing\u001b[39m                │ \u001b[90mmissing\u001b[39m                │ \u001b[90mmissing\u001b[39m     │ \u001b[90mmissing\u001b[39m        │ \u001b[90mmissing\u001b[39m                 │ \u001b[90mmissing\u001b[39m                            │"
      ]
     },
     "execution_count": 3,
     "metadata": {},
     "output_type": "execute_result"
    }
   ],
   "source": [
    "df_ISCN_orig_c1 = CSV.read(\"ISCN_ALL_DATA_LAYER_C1_1-1.csv\", DataFrame)\n",
    "df_ISCN_orig_c2 = CSV.read(\"ISCN_ALL_DATA_LAYER_C2_1-1.csv\", DataFrame)\n",
    "df_ISCN_orig_c3 = CSV.read(\"ISCN_ALL_DATA_LAYER_C3_1-1.csv\", DataFrame)\n",
    "df_ISCN_orig_c4 = CSV.read(\"ISCN_ALL_DATA_LAYER_C4_1-1.csv\", DataFrame)"
   ]
  },
  {
   "cell_type": "code",
   "execution_count": 4,
   "metadata": {
    "scrolled": false
   },
   "outputs": [
    {
     "data": {
      "text/plain": [
       "true"
      ]
     },
     "execution_count": 4,
     "metadata": {},
     "output_type": "execute_result"
    }
   ],
   "source": [
    "#all names match\n",
    "all((names(df_ISCN_orig_c1) .== names(df_ISCN_orig_c2)) .& (names(df_ISCN_orig_c3) .== names(df_ISCN_orig_c4)))"
   ]
  },
  {
   "cell_type": "code",
   "execution_count": 5,
   "metadata": {
    "scrolled": true
   },
   "outputs": [
    {
     "data": {
      "text/html": [
       "<table class=\"data-frame\"><thead><tr><th></th><th>dataset_name_sub</th><th>dataset_name_soc</th><th>lat (dec. deg)</th><th>long (dec. deg)</th><th>datum (datum)</th><th>state (state_province)</th><th>country (country)</th><th>site_name</th><th>observation_date (YYYY-MM-DD)</th><th>profile_name</th><th>layer_name</th><th>layer_top (cm)</th><th>layer_bot (cm)</th><th>hzn_desgn_other</th><th>hzn</th><th>hzn_desgn</th><th>layer_note</th><th>color</th><th>vegclass_local</th><th>soil_taxon</th><th>soil_series</th><th>bd_method</th><th>bd_samp (g cm-3)</th><th>bd_tot (g cm-3)</th><th>bd_whole (g cm-3)</th><th>bd_other (g cm-3)</th><th>bdNRCS_prep_code</th><th>cNRCS_prep_code</th><th>c_method</th><th>c_tot (percent)</th><th>oc (percent)</th><th>loi (percent)</th><th>n_tot (percent)</th><th>c_to_n (mass ratio)</th><th>soc (g cm-2)</th><th>soc_carbon_flag</th><th>soc_method</th><th>ph_method</th><th>ph_cacl</th><th>ph_h2o</th><th>ph_other</th><th>caco3 (percent)</th><th>sand_tot_psa (percent)</th><th>silt_tot_psa (percent)</th><th>clay_tot_psa (percent)</th><th>wpg2_method</th><th>wpg2 (percent)</th><th>cat_exch (cmol H+ kg-1)</th><th>al_dith (specified by al_fe_units)</th><th>al_ox (specified by al_fe_units)</th><th>al_other (specified by al_fe_units)</th><th>fe_dith (specified by al_fe_units)</th><th>fe_ox (specified by al_fe_units)</th></tr><tr><th></th><th>String</th><th>String</th><th>String?</th><th>String?</th><th>String?</th><th>String?</th><th>String?</th><th>String</th><th>String?</th><th>String</th><th>String</th><th>Any</th><th>Int64?</th><th>Missing</th><th>String?</th><th>String?</th><th>String?</th><th>String?</th><th>String?</th><th>String?</th><th>String?</th><th>String?</th><th>String?</th><th>String?</th><th>String?</th><th>String?</th><th>String?</th><th>String?</th><th>String?</th><th>String?</th><th>String?</th><th>Any</th><th>String?</th><th>Missing</th><th>String?</th><th>String?</th><th>String?</th><th>String?</th><th>String?</th><th>String?</th><th>String?</th><th>String?</th><th>Int64?</th><th>Int64?</th><th>Int64?</th><th>String?</th><th>Int64?</th><th>String?</th><th>String?</th><th>String?</th><th>String?</th><th>String?</th><th>String?</th></tr></thead><tbody><p>445,829 rows × 94 columns (omitted printing of 41 columns)</p><tr><th>1</th><td>Heckman lithosequence</td><td>Heckman lithosequence</td><td>31,8875</td><td>-109,28</td><td>WGS84</td><td>Arizona</td><td><em>missing</em></td><td>Chiricahua Rhyolite</td><td>15/10/2006</td><td>CHRY1</td><td>CHRY1_A1</td><td><em>missing</em></td><td><em>missing</em></td><td><em>missing</em></td><td><em>missing</em></td><td><em>missing</em></td><td><em>missing</em></td><td><em>missing</em></td><td><em>missing</em></td><td>loamy, mixed, superactive, mesic Typic Haplustept</td><td><em>missing</em></td><td><em>missing</em></td><td><em>missing</em></td><td><em>missing</em></td><td><em>missing</em></td><td><em>missing</em></td><td><em>missing</em></td><td><em>missing</em></td><td><em>missing</em></td><td><em>missing</em></td><td><em>missing</em></td><td><em>missing</em></td><td><em>missing</em></td><td><em>missing</em></td><td>1,12</td><td><em>missing</em></td><td><em>missing</em></td><td><em>missing</em></td><td><em>missing</em></td><td><em>missing</em></td><td><em>missing</em></td><td><em>missing</em></td><td><em>missing</em></td><td><em>missing</em></td><td><em>missing</em></td><td><em>missing</em></td><td><em>missing</em></td><td><em>missing</em></td><td><em>missing</em></td><td><em>missing</em></td><td><em>missing</em></td><td><em>missing</em></td><td><em>missing</em></td></tr><tr><th>2</th><td>Heckman lithosequence</td><td>Heckman lithosequence</td><td>31,8875</td><td>-109,28</td><td>WGS84</td><td>Arizona</td><td><em>missing</em></td><td>Chiricahua Rhyolite</td><td>15/10/2006</td><td>CHRY1</td><td>CHRY1_A2</td><td><em>missing</em></td><td><em>missing</em></td><td><em>missing</em></td><td><em>missing</em></td><td><em>missing</em></td><td><em>missing</em></td><td><em>missing</em></td><td><em>missing</em></td><td>loamy, mixed, superactive, mesic Typic Haplustept</td><td><em>missing</em></td><td><em>missing</em></td><td><em>missing</em></td><td><em>missing</em></td><td><em>missing</em></td><td><em>missing</em></td><td><em>missing</em></td><td><em>missing</em></td><td><em>missing</em></td><td><em>missing</em></td><td><em>missing</em></td><td><em>missing</em></td><td><em>missing</em></td><td><em>missing</em></td><td>0,63</td><td><em>missing</em></td><td><em>missing</em></td><td><em>missing</em></td><td><em>missing</em></td><td><em>missing</em></td><td><em>missing</em></td><td><em>missing</em></td><td><em>missing</em></td><td><em>missing</em></td><td><em>missing</em></td><td><em>missing</em></td><td><em>missing</em></td><td><em>missing</em></td><td><em>missing</em></td><td><em>missing</em></td><td><em>missing</em></td><td><em>missing</em></td><td><em>missing</em></td></tr><tr><th>3</th><td>Heckman lithosequence</td><td>Heckman lithosequence</td><td>31,8875</td><td>-109,28</td><td>WGS84</td><td>Arizona</td><td><em>missing</em></td><td>Chiricahua Rhyolite</td><td>15/10/2006</td><td>CHRY1</td><td>CHRY1_A3</td><td><em>missing</em></td><td><em>missing</em></td><td><em>missing</em></td><td><em>missing</em></td><td><em>missing</em></td><td><em>missing</em></td><td><em>missing</em></td><td><em>missing</em></td><td>loamy, mixed, superactive, mesic Typic Haplustept</td><td><em>missing</em></td><td><em>missing</em></td><td><em>missing</em></td><td><em>missing</em></td><td><em>missing</em></td><td><em>missing</em></td><td><em>missing</em></td><td><em>missing</em></td><td><em>missing</em></td><td><em>missing</em></td><td><em>missing</em></td><td><em>missing</em></td><td><em>missing</em></td><td><em>missing</em></td><td>0,14</td><td><em>missing</em></td><td><em>missing</em></td><td><em>missing</em></td><td><em>missing</em></td><td><em>missing</em></td><td><em>missing</em></td><td><em>missing</em></td><td><em>missing</em></td><td><em>missing</em></td><td><em>missing</em></td><td><em>missing</em></td><td><em>missing</em></td><td><em>missing</em></td><td><em>missing</em></td><td><em>missing</em></td><td><em>missing</em></td><td><em>missing</em></td><td><em>missing</em></td></tr><tr><th>4</th><td>Heckman lithosequence</td><td>Heckman lithosequence</td><td>31,8875</td><td>-109,28</td><td>WGS84</td><td>Arizona</td><td><em>missing</em></td><td>Chiricahua Rhyolite</td><td>15/10/2006</td><td>CHRY1</td><td>CHRY1_Bw1</td><td><em>missing</em></td><td><em>missing</em></td><td><em>missing</em></td><td><em>missing</em></td><td><em>missing</em></td><td><em>missing</em></td><td><em>missing</em></td><td><em>missing</em></td><td>loamy, mixed, superactive, mesic Typic Haplustept</td><td><em>missing</em></td><td><em>missing</em></td><td><em>missing</em></td><td><em>missing</em></td><td><em>missing</em></td><td><em>missing</em></td><td><em>missing</em></td><td><em>missing</em></td><td><em>missing</em></td><td><em>missing</em></td><td><em>missing</em></td><td><em>missing</em></td><td><em>missing</em></td><td><em>missing</em></td><td>0,26</td><td><em>missing</em></td><td><em>missing</em></td><td><em>missing</em></td><td><em>missing</em></td><td><em>missing</em></td><td><em>missing</em></td><td><em>missing</em></td><td><em>missing</em></td><td><em>missing</em></td><td><em>missing</em></td><td><em>missing</em></td><td><em>missing</em></td><td><em>missing</em></td><td><em>missing</em></td><td><em>missing</em></td><td><em>missing</em></td><td><em>missing</em></td><td><em>missing</em></td></tr><tr><th>5</th><td>Heckman lithosequence</td><td>Heckman lithosequence</td><td>31,8875</td><td>-109,28</td><td>WGS84</td><td>Arizona</td><td><em>missing</em></td><td>Chiricahua Rhyolite</td><td>15/10/2006</td><td>CHRY1</td><td>CHRY1_Bw2</td><td><em>missing</em></td><td><em>missing</em></td><td><em>missing</em></td><td><em>missing</em></td><td><em>missing</em></td><td><em>missing</em></td><td><em>missing</em></td><td><em>missing</em></td><td>loamy, mixed, superactive, mesic Typic Haplustept</td><td><em>missing</em></td><td><em>missing</em></td><td><em>missing</em></td><td><em>missing</em></td><td><em>missing</em></td><td><em>missing</em></td><td><em>missing</em></td><td><em>missing</em></td><td><em>missing</em></td><td><em>missing</em></td><td><em>missing</em></td><td><em>missing</em></td><td><em>missing</em></td><td><em>missing</em></td><td>0,06</td><td><em>missing</em></td><td><em>missing</em></td><td><em>missing</em></td><td><em>missing</em></td><td><em>missing</em></td><td><em>missing</em></td><td><em>missing</em></td><td><em>missing</em></td><td><em>missing</em></td><td><em>missing</em></td><td><em>missing</em></td><td><em>missing</em></td><td><em>missing</em></td><td><em>missing</em></td><td><em>missing</em></td><td><em>missing</em></td><td><em>missing</em></td><td><em>missing</em></td></tr><tr><th>6</th><td>Heckman lithosequence</td><td>Heckman lithosequence</td><td>31,8875</td><td>-109,28</td><td>WGS84</td><td>Arizona</td><td><em>missing</em></td><td>Chiricahua Rhyolite</td><td>15/10/2006</td><td>CHRY1</td><td>CHRY1_BCr</td><td><em>missing</em></td><td><em>missing</em></td><td><em>missing</em></td><td><em>missing</em></td><td><em>missing</em></td><td><em>missing</em></td><td><em>missing</em></td><td><em>missing</em></td><td>loamy, mixed, superactive, mesic Typic Haplustept</td><td><em>missing</em></td><td><em>missing</em></td><td><em>missing</em></td><td><em>missing</em></td><td><em>missing</em></td><td><em>missing</em></td><td><em>missing</em></td><td><em>missing</em></td><td><em>missing</em></td><td><em>missing</em></td><td><em>missing</em></td><td><em>missing</em></td><td><em>missing</em></td><td><em>missing</em></td><td>0,08</td><td><em>missing</em></td><td><em>missing</em></td><td><em>missing</em></td><td><em>missing</em></td><td><em>missing</em></td><td><em>missing</em></td><td><em>missing</em></td><td><em>missing</em></td><td><em>missing</em></td><td><em>missing</em></td><td><em>missing</em></td><td><em>missing</em></td><td><em>missing</em></td><td><em>missing</em></td><td><em>missing</em></td><td><em>missing</em></td><td><em>missing</em></td><td><em>missing</em></td></tr><tr><th>7</th><td>Heckman lithosequence</td><td>Heckman lithosequence</td><td>31,8875</td><td>-109,28</td><td>WGS84</td><td>Arizona</td><td><em>missing</em></td><td>Chiricahua Rhyolite</td><td>15/10/2006</td><td>CHRY2</td><td>CHRY2_A1</td><td><em>missing</em></td><td><em>missing</em></td><td><em>missing</em></td><td><em>missing</em></td><td><em>missing</em></td><td><em>missing</em></td><td><em>missing</em></td><td><em>missing</em></td><td>loamy, mixed, superactive, mesic Typic Haplustept</td><td><em>missing</em></td><td><em>missing</em></td><td><em>missing</em></td><td><em>missing</em></td><td><em>missing</em></td><td><em>missing</em></td><td><em>missing</em></td><td><em>missing</em></td><td><em>missing</em></td><td><em>missing</em></td><td><em>missing</em></td><td><em>missing</em></td><td><em>missing</em></td><td><em>missing</em></td><td>0,09</td><td><em>missing</em></td><td><em>missing</em></td><td><em>missing</em></td><td><em>missing</em></td><td><em>missing</em></td><td><em>missing</em></td><td><em>missing</em></td><td><em>missing</em></td><td><em>missing</em></td><td><em>missing</em></td><td><em>missing</em></td><td><em>missing</em></td><td><em>missing</em></td><td><em>missing</em></td><td><em>missing</em></td><td><em>missing</em></td><td><em>missing</em></td><td><em>missing</em></td></tr><tr><th>8</th><td>Heckman lithosequence</td><td>Heckman lithosequence</td><td>31,8875</td><td>-109,28</td><td>WGS84</td><td>Arizona</td><td><em>missing</em></td><td>Chiricahua Rhyolite</td><td>15/10/2006</td><td>CHRY2</td><td>CHRY2_A2</td><td><em>missing</em></td><td><em>missing</em></td><td><em>missing</em></td><td><em>missing</em></td><td><em>missing</em></td><td><em>missing</em></td><td><em>missing</em></td><td><em>missing</em></td><td>loamy, mixed, superactive, mesic Typic Haplustept</td><td><em>missing</em></td><td><em>missing</em></td><td><em>missing</em></td><td><em>missing</em></td><td><em>missing</em></td><td><em>missing</em></td><td><em>missing</em></td><td><em>missing</em></td><td><em>missing</em></td><td><em>missing</em></td><td><em>missing</em></td><td><em>missing</em></td><td><em>missing</em></td><td><em>missing</em></td><td>0,38</td><td><em>missing</em></td><td><em>missing</em></td><td><em>missing</em></td><td><em>missing</em></td><td><em>missing</em></td><td><em>missing</em></td><td><em>missing</em></td><td><em>missing</em></td><td><em>missing</em></td><td><em>missing</em></td><td><em>missing</em></td><td><em>missing</em></td><td><em>missing</em></td><td><em>missing</em></td><td><em>missing</em></td><td><em>missing</em></td><td><em>missing</em></td><td><em>missing</em></td></tr><tr><th>9</th><td>Heckman lithosequence</td><td>Heckman lithosequence</td><td>31,8875</td><td>-109,28</td><td>WGS84</td><td>Arizona</td><td><em>missing</em></td><td>Chiricahua Rhyolite</td><td>15/10/2006</td><td>CHRY2</td><td>CHRY2_A3</td><td><em>missing</em></td><td><em>missing</em></td><td><em>missing</em></td><td><em>missing</em></td><td><em>missing</em></td><td><em>missing</em></td><td><em>missing</em></td><td><em>missing</em></td><td>loamy, mixed, superactive, mesic Typic Haplustept</td><td><em>missing</em></td><td><em>missing</em></td><td><em>missing</em></td><td><em>missing</em></td><td><em>missing</em></td><td><em>missing</em></td><td><em>missing</em></td><td><em>missing</em></td><td><em>missing</em></td><td><em>missing</em></td><td><em>missing</em></td><td><em>missing</em></td><td><em>missing</em></td><td><em>missing</em></td><td>0,33</td><td><em>missing</em></td><td><em>missing</em></td><td><em>missing</em></td><td><em>missing</em></td><td><em>missing</em></td><td><em>missing</em></td><td><em>missing</em></td><td><em>missing</em></td><td><em>missing</em></td><td><em>missing</em></td><td><em>missing</em></td><td><em>missing</em></td><td><em>missing</em></td><td><em>missing</em></td><td><em>missing</em></td><td><em>missing</em></td><td><em>missing</em></td><td><em>missing</em></td></tr><tr><th>10</th><td>Heckman lithosequence</td><td>Heckman lithosequence</td><td>31,8875</td><td>-109,28</td><td>WGS84</td><td>Arizona</td><td><em>missing</em></td><td>Chiricahua Rhyolite</td><td>15/10/2006</td><td>CHRY2</td><td>CHRY2_Bw1</td><td><em>missing</em></td><td><em>missing</em></td><td><em>missing</em></td><td><em>missing</em></td><td><em>missing</em></td><td><em>missing</em></td><td><em>missing</em></td><td><em>missing</em></td><td>loamy, mixed, superactive, mesic Typic Haplustept</td><td><em>missing</em></td><td><em>missing</em></td><td><em>missing</em></td><td><em>missing</em></td><td><em>missing</em></td><td><em>missing</em></td><td><em>missing</em></td><td><em>missing</em></td><td><em>missing</em></td><td><em>missing</em></td><td><em>missing</em></td><td><em>missing</em></td><td><em>missing</em></td><td><em>missing</em></td><td>0,16</td><td><em>missing</em></td><td><em>missing</em></td><td><em>missing</em></td><td><em>missing</em></td><td><em>missing</em></td><td><em>missing</em></td><td><em>missing</em></td><td><em>missing</em></td><td><em>missing</em></td><td><em>missing</em></td><td><em>missing</em></td><td><em>missing</em></td><td><em>missing</em></td><td><em>missing</em></td><td><em>missing</em></td><td><em>missing</em></td><td><em>missing</em></td><td><em>missing</em></td></tr><tr><th>11</th><td>Heckman lithosequence</td><td>Heckman lithosequence</td><td>31,8875</td><td>-109,28</td><td>WGS84</td><td>Arizona</td><td><em>missing</em></td><td>Chiricahua Rhyolite</td><td>15/10/2006</td><td>CHRY2</td><td>CHRY2_Bw2</td><td><em>missing</em></td><td><em>missing</em></td><td><em>missing</em></td><td><em>missing</em></td><td><em>missing</em></td><td><em>missing</em></td><td><em>missing</em></td><td><em>missing</em></td><td>loamy, mixed, superactive, mesic Typic Haplustept</td><td><em>missing</em></td><td><em>missing</em></td><td><em>missing</em></td><td><em>missing</em></td><td><em>missing</em></td><td><em>missing</em></td><td><em>missing</em></td><td><em>missing</em></td><td><em>missing</em></td><td><em>missing</em></td><td><em>missing</em></td><td><em>missing</em></td><td><em>missing</em></td><td><em>missing</em></td><td>0,09</td><td><em>missing</em></td><td><em>missing</em></td><td><em>missing</em></td><td><em>missing</em></td><td><em>missing</em></td><td><em>missing</em></td><td><em>missing</em></td><td><em>missing</em></td><td><em>missing</em></td><td><em>missing</em></td><td><em>missing</em></td><td><em>missing</em></td><td><em>missing</em></td><td><em>missing</em></td><td><em>missing</em></td><td><em>missing</em></td><td><em>missing</em></td><td><em>missing</em></td></tr><tr><th>12</th><td>Heckman lithosequence</td><td>Heckman lithosequence</td><td>31,8875</td><td>-109,28</td><td>WGS84</td><td>Arizona</td><td><em>missing</em></td><td>Chiricahua Rhyolite</td><td>15/10/2006</td><td>CHRY2</td><td>CHRY2_BCr</td><td><em>missing</em></td><td><em>missing</em></td><td><em>missing</em></td><td><em>missing</em></td><td><em>missing</em></td><td><em>missing</em></td><td><em>missing</em></td><td><em>missing</em></td><td>loamy, mixed, superactive, mesic Typic Haplustept</td><td><em>missing</em></td><td><em>missing</em></td><td><em>missing</em></td><td><em>missing</em></td><td><em>missing</em></td><td><em>missing</em></td><td><em>missing</em></td><td><em>missing</em></td><td><em>missing</em></td><td><em>missing</em></td><td><em>missing</em></td><td><em>missing</em></td><td><em>missing</em></td><td><em>missing</em></td><td>0,05</td><td><em>missing</em></td><td><em>missing</em></td><td><em>missing</em></td><td><em>missing</em></td><td><em>missing</em></td><td><em>missing</em></td><td><em>missing</em></td><td><em>missing</em></td><td><em>missing</em></td><td><em>missing</em></td><td><em>missing</em></td><td><em>missing</em></td><td><em>missing</em></td><td><em>missing</em></td><td><em>missing</em></td><td><em>missing</em></td><td><em>missing</em></td><td><em>missing</em></td></tr><tr><th>13</th><td>Heckman lithosequence</td><td>Heckman lithosequence</td><td>31,8875</td><td>-109,28</td><td>WGS84</td><td>Arizona</td><td><em>missing</em></td><td>Chiricahua Rhyolite</td><td>15/10/2006</td><td>CHRY3</td><td>CHRY3_A1</td><td><em>missing</em></td><td><em>missing</em></td><td><em>missing</em></td><td><em>missing</em></td><td><em>missing</em></td><td><em>missing</em></td><td><em>missing</em></td><td><em>missing</em></td><td>loamy, mixed, superactive, mesic Typic Haplustept</td><td><em>missing</em></td><td><em>missing</em></td><td><em>missing</em></td><td><em>missing</em></td><td><em>missing</em></td><td><em>missing</em></td><td><em>missing</em></td><td><em>missing</em></td><td><em>missing</em></td><td><em>missing</em></td><td><em>missing</em></td><td><em>missing</em></td><td><em>missing</em></td><td><em>missing</em></td><td>0,37</td><td><em>missing</em></td><td><em>missing</em></td><td><em>missing</em></td><td><em>missing</em></td><td><em>missing</em></td><td><em>missing</em></td><td><em>missing</em></td><td><em>missing</em></td><td><em>missing</em></td><td><em>missing</em></td><td><em>missing</em></td><td><em>missing</em></td><td><em>missing</em></td><td><em>missing</em></td><td><em>missing</em></td><td><em>missing</em></td><td><em>missing</em></td><td><em>missing</em></td></tr><tr><th>14</th><td>Heckman lithosequence</td><td>Heckman lithosequence</td><td>31,8875</td><td>-109,28</td><td>WGS84</td><td>Arizona</td><td><em>missing</em></td><td>Chiricahua Rhyolite</td><td>15/10/2006</td><td>CHRY3</td><td>CHRY3_A2</td><td><em>missing</em></td><td><em>missing</em></td><td><em>missing</em></td><td><em>missing</em></td><td><em>missing</em></td><td><em>missing</em></td><td><em>missing</em></td><td><em>missing</em></td><td>loamy, mixed, superactive, mesic Typic Haplustept</td><td><em>missing</em></td><td><em>missing</em></td><td><em>missing</em></td><td><em>missing</em></td><td><em>missing</em></td><td><em>missing</em></td><td><em>missing</em></td><td><em>missing</em></td><td><em>missing</em></td><td><em>missing</em></td><td><em>missing</em></td><td><em>missing</em></td><td><em>missing</em></td><td><em>missing</em></td><td>0,24</td><td><em>missing</em></td><td><em>missing</em></td><td><em>missing</em></td><td><em>missing</em></td><td><em>missing</em></td><td><em>missing</em></td><td><em>missing</em></td><td><em>missing</em></td><td><em>missing</em></td><td><em>missing</em></td><td><em>missing</em></td><td><em>missing</em></td><td><em>missing</em></td><td><em>missing</em></td><td><em>missing</em></td><td><em>missing</em></td><td><em>missing</em></td><td><em>missing</em></td></tr><tr><th>15</th><td>Heckman lithosequence</td><td>Heckman lithosequence</td><td>31,8875</td><td>-109,28</td><td>WGS84</td><td>Arizona</td><td><em>missing</em></td><td>Chiricahua Rhyolite</td><td>15/10/2006</td><td>CHRY3</td><td>CHRY3_Bw1</td><td><em>missing</em></td><td><em>missing</em></td><td><em>missing</em></td><td><em>missing</em></td><td><em>missing</em></td><td><em>missing</em></td><td><em>missing</em></td><td><em>missing</em></td><td>loamy, mixed, superactive, mesic Typic Haplustept</td><td><em>missing</em></td><td><em>missing</em></td><td><em>missing</em></td><td><em>missing</em></td><td><em>missing</em></td><td><em>missing</em></td><td><em>missing</em></td><td><em>missing</em></td><td><em>missing</em></td><td><em>missing</em></td><td><em>missing</em></td><td><em>missing</em></td><td><em>missing</em></td><td><em>missing</em></td><td>0,22</td><td><em>missing</em></td><td><em>missing</em></td><td><em>missing</em></td><td><em>missing</em></td><td><em>missing</em></td><td><em>missing</em></td><td><em>missing</em></td><td><em>missing</em></td><td><em>missing</em></td><td><em>missing</em></td><td><em>missing</em></td><td><em>missing</em></td><td><em>missing</em></td><td><em>missing</em></td><td><em>missing</em></td><td><em>missing</em></td><td><em>missing</em></td><td><em>missing</em></td></tr><tr><th>16</th><td>Heckman lithosequence</td><td>Heckman lithosequence</td><td>31,8875</td><td>-109,28</td><td>WGS84</td><td>Arizona</td><td><em>missing</em></td><td>Chiricahua Rhyolite</td><td>15/10/2006</td><td>CHRY3</td><td>CHRY3_Bw2</td><td><em>missing</em></td><td><em>missing</em></td><td><em>missing</em></td><td><em>missing</em></td><td><em>missing</em></td><td><em>missing</em></td><td><em>missing</em></td><td><em>missing</em></td><td>loamy, mixed, superactive, mesic Typic Haplustept</td><td><em>missing</em></td><td><em>missing</em></td><td><em>missing</em></td><td><em>missing</em></td><td><em>missing</em></td><td><em>missing</em></td><td><em>missing</em></td><td><em>missing</em></td><td><em>missing</em></td><td><em>missing</em></td><td><em>missing</em></td><td><em>missing</em></td><td><em>missing</em></td><td><em>missing</em></td><td>0,15</td><td><em>missing</em></td><td><em>missing</em></td><td><em>missing</em></td><td><em>missing</em></td><td><em>missing</em></td><td><em>missing</em></td><td><em>missing</em></td><td><em>missing</em></td><td><em>missing</em></td><td><em>missing</em></td><td><em>missing</em></td><td><em>missing</em></td><td><em>missing</em></td><td><em>missing</em></td><td><em>missing</em></td><td><em>missing</em></td><td><em>missing</em></td><td><em>missing</em></td></tr><tr><th>17</th><td>Heckman lithosequence</td><td>Heckman lithosequence</td><td>31,8875</td><td>-109,28</td><td>WGS84</td><td>Arizona</td><td><em>missing</em></td><td>Chiricahua Rhyolite</td><td>15/10/2006</td><td>CHRY3</td><td>CHRY3_BCr</td><td><em>missing</em></td><td><em>missing</em></td><td><em>missing</em></td><td><em>missing</em></td><td><em>missing</em></td><td><em>missing</em></td><td><em>missing</em></td><td><em>missing</em></td><td>loamy, mixed, superactive, mesic Typic Haplustept</td><td><em>missing</em></td><td><em>missing</em></td><td><em>missing</em></td><td><em>missing</em></td><td><em>missing</em></td><td><em>missing</em></td><td><em>missing</em></td><td><em>missing</em></td><td><em>missing</em></td><td><em>missing</em></td><td><em>missing</em></td><td><em>missing</em></td><td><em>missing</em></td><td><em>missing</em></td><td>0,04</td><td><em>missing</em></td><td><em>missing</em></td><td><em>missing</em></td><td><em>missing</em></td><td><em>missing</em></td><td><em>missing</em></td><td><em>missing</em></td><td><em>missing</em></td><td><em>missing</em></td><td><em>missing</em></td><td><em>missing</em></td><td><em>missing</em></td><td><em>missing</em></td><td><em>missing</em></td><td><em>missing</em></td><td><em>missing</em></td><td><em>missing</em></td><td><em>missing</em></td></tr><tr><th>18</th><td>Heckman lithosequence</td><td>Heckman lithosequence</td><td>35,15944</td><td>-111,74083</td><td>WGS84</td><td>Arizona</td><td><em>missing</em></td><td>Flagstaff Basalt</td><td>03/11/2006</td><td>FGBA1</td><td>FGBA1_A</td><td><em>missing</em></td><td><em>missing</em></td><td><em>missing</em></td><td><em>missing</em></td><td><em>missing</em></td><td><em>missing</em></td><td><em>missing</em></td><td><em>missing</em></td><td>clayey-skeletal, mixed superactive, mesic Typic Paleustoll</td><td><em>missing</em></td><td><em>missing</em></td><td><em>missing</em></td><td><em>missing</em></td><td><em>missing</em></td><td><em>missing</em></td><td><em>missing</em></td><td><em>missing</em></td><td><em>missing</em></td><td><em>missing</em></td><td><em>missing</em></td><td><em>missing</em></td><td><em>missing</em></td><td><em>missing</em></td><td>0,4</td><td><em>missing</em></td><td><em>missing</em></td><td><em>missing</em></td><td><em>missing</em></td><td><em>missing</em></td><td><em>missing</em></td><td><em>missing</em></td><td><em>missing</em></td><td><em>missing</em></td><td><em>missing</em></td><td><em>missing</em></td><td><em>missing</em></td><td><em>missing</em></td><td><em>missing</em></td><td><em>missing</em></td><td><em>missing</em></td><td><em>missing</em></td><td><em>missing</em></td></tr><tr><th>19</th><td>Heckman lithosequence</td><td>Heckman lithosequence</td><td>35,15944</td><td>-111,74083</td><td>WGS84</td><td>Arizona</td><td><em>missing</em></td><td>Flagstaff Basalt</td><td>03/11/2006</td><td>FGBA1</td><td>FGBA1_Bt1</td><td><em>missing</em></td><td><em>missing</em></td><td><em>missing</em></td><td><em>missing</em></td><td><em>missing</em></td><td><em>missing</em></td><td><em>missing</em></td><td><em>missing</em></td><td>clayey-skeletal, mixed superactive, mesic Typic Paleustoll</td><td><em>missing</em></td><td><em>missing</em></td><td><em>missing</em></td><td><em>missing</em></td><td><em>missing</em></td><td><em>missing</em></td><td><em>missing</em></td><td><em>missing</em></td><td><em>missing</em></td><td><em>missing</em></td><td><em>missing</em></td><td><em>missing</em></td><td><em>missing</em></td><td><em>missing</em></td><td>0,27</td><td><em>missing</em></td><td><em>missing</em></td><td><em>missing</em></td><td><em>missing</em></td><td><em>missing</em></td><td><em>missing</em></td><td><em>missing</em></td><td><em>missing</em></td><td><em>missing</em></td><td><em>missing</em></td><td><em>missing</em></td><td><em>missing</em></td><td><em>missing</em></td><td><em>missing</em></td><td><em>missing</em></td><td><em>missing</em></td><td><em>missing</em></td><td><em>missing</em></td></tr><tr><th>20</th><td>Heckman lithosequence</td><td>Heckman lithosequence</td><td>35,15944</td><td>-111,74083</td><td>WGS84</td><td>Arizona</td><td><em>missing</em></td><td>Flagstaff Basalt</td><td>03/11/2006</td><td>FGBA1</td><td>FGBA1_Bt2</td><td><em>missing</em></td><td><em>missing</em></td><td><em>missing</em></td><td><em>missing</em></td><td><em>missing</em></td><td><em>missing</em></td><td><em>missing</em></td><td><em>missing</em></td><td>clayey-skeletal, mixed superactive, mesic Typic Paleustoll</td><td><em>missing</em></td><td><em>missing</em></td><td><em>missing</em></td><td><em>missing</em></td><td><em>missing</em></td><td><em>missing</em></td><td><em>missing</em></td><td><em>missing</em></td><td><em>missing</em></td><td><em>missing</em></td><td><em>missing</em></td><td><em>missing</em></td><td><em>missing</em></td><td><em>missing</em></td><td>0,12</td><td><em>missing</em></td><td><em>missing</em></td><td><em>missing</em></td><td><em>missing</em></td><td><em>missing</em></td><td><em>missing</em></td><td><em>missing</em></td><td><em>missing</em></td><td><em>missing</em></td><td><em>missing</em></td><td><em>missing</em></td><td><em>missing</em></td><td><em>missing</em></td><td><em>missing</em></td><td><em>missing</em></td><td><em>missing</em></td><td><em>missing</em></td><td><em>missing</em></td></tr><tr><th>&vellip;</th><td>&vellip;</td><td>&vellip;</td><td>&vellip;</td><td>&vellip;</td><td>&vellip;</td><td>&vellip;</td><td>&vellip;</td><td>&vellip;</td><td>&vellip;</td><td>&vellip;</td><td>&vellip;</td><td>&vellip;</td><td>&vellip;</td><td>&vellip;</td><td>&vellip;</td><td>&vellip;</td><td>&vellip;</td><td>&vellip;</td><td>&vellip;</td><td>&vellip;</td><td>&vellip;</td><td>&vellip;</td><td>&vellip;</td><td>&vellip;</td><td>&vellip;</td><td>&vellip;</td><td>&vellip;</td><td>&vellip;</td><td>&vellip;</td><td>&vellip;</td><td>&vellip;</td><td>&vellip;</td><td>&vellip;</td><td>&vellip;</td><td>&vellip;</td><td>&vellip;</td><td>&vellip;</td><td>&vellip;</td><td>&vellip;</td><td>&vellip;</td><td>&vellip;</td><td>&vellip;</td><td>&vellip;</td><td>&vellip;</td><td>&vellip;</td><td>&vellip;</td><td>&vellip;</td><td>&vellip;</td><td>&vellip;</td><td>&vellip;</td><td>&vellip;</td><td>&vellip;</td><td>&vellip;</td></tr></tbody></table>"
      ],
      "text/latex": [
       "\\begin{tabular}{r|cccccccccccccccccccccccccccccccccccccccccccccccccccccc}\n",
       "\t& dataset\\_name\\_sub & dataset\\_name\\_soc & lat (dec. deg) & long (dec. deg) & datum (datum) & state (state\\_province) & country (country) & site\\_name & observation\\_date (YYYY-MM-DD) & profile\\_name & layer\\_name & layer\\_top (cm) & layer\\_bot (cm) & hzn\\_desgn\\_other & hzn & hzn\\_desgn & layer\\_note & color & vegclass\\_local & soil\\_taxon & soil\\_series & bd\\_method & bd\\_samp (g cm-3) & bd\\_tot (g cm-3) & bd\\_whole (g cm-3) & bd\\_other (g cm-3) & bdNRCS\\_prep\\_code & cNRCS\\_prep\\_code & c\\_method & c\\_tot (percent) & oc (percent) & loi (percent) & n\\_tot (percent) & c\\_to\\_n (mass ratio) & soc (g cm-2) & soc\\_carbon\\_flag & soc\\_method & ph\\_method & ph\\_cacl & ph\\_h2o & ph\\_other & caco3 (percent) & sand\\_tot\\_psa (percent) & silt\\_tot\\_psa (percent) & clay\\_tot\\_psa (percent) & wpg2\\_method & wpg2 (percent) & cat\\_exch (cmol H+ kg-1) & al\\_dith (specified by al\\_fe\\_units) & al\\_ox (specified by al\\_fe\\_units) & al\\_other (specified by al\\_fe\\_units) & fe\\_dith (specified by al\\_fe\\_units) & fe\\_ox (specified by al\\_fe\\_units) & \\\\\n",
       "\t\\hline\n",
       "\t& String & String & String? & String? & String? & String? & String? & String & String? & String & String & Any & Int64? & Missing & String? & String? & String? & String? & String? & String? & String? & String? & String? & String? & String? & String? & String? & String? & String? & String? & String? & Any & String? & Missing & String? & String? & String? & String? & String? & String? & String? & String? & Int64? & Int64? & Int64? & String? & Int64? & String? & String? & String? & String? & String? & String? & \\\\\n",
       "\t\\hline\n",
       "\t1 & Heckman lithosequence & Heckman lithosequence & 31,8875 & -109,28 & WGS84 & Arizona & \\emph{missing} & Chiricahua Rhyolite & 15/10/2006 & CHRY1 & CHRY1\\_A1 & \\emph{missing} & \\emph{missing} & \\emph{missing} & \\emph{missing} & \\emph{missing} & \\emph{missing} & \\emph{missing} & \\emph{missing} & loamy, mixed, superactive, mesic Typic Haplustept & \\emph{missing} & \\emph{missing} & \\emph{missing} & \\emph{missing} & \\emph{missing} & \\emph{missing} & \\emph{missing} & \\emph{missing} & \\emph{missing} & \\emph{missing} & \\emph{missing} & \\emph{missing} & \\emph{missing} & \\emph{missing} & 1,12 & \\emph{missing} & \\emph{missing} & \\emph{missing} & \\emph{missing} & \\emph{missing} & \\emph{missing} & \\emph{missing} & \\emph{missing} & \\emph{missing} & \\emph{missing} & \\emph{missing} & \\emph{missing} & \\emph{missing} & \\emph{missing} & \\emph{missing} & \\emph{missing} & \\emph{missing} & \\emph{missing} & $\\dots$ \\\\\n",
       "\t2 & Heckman lithosequence & Heckman lithosequence & 31,8875 & -109,28 & WGS84 & Arizona & \\emph{missing} & Chiricahua Rhyolite & 15/10/2006 & CHRY1 & CHRY1\\_A2 & \\emph{missing} & \\emph{missing} & \\emph{missing} & \\emph{missing} & \\emph{missing} & \\emph{missing} & \\emph{missing} & \\emph{missing} & loamy, mixed, superactive, mesic Typic Haplustept & \\emph{missing} & \\emph{missing} & \\emph{missing} & \\emph{missing} & \\emph{missing} & \\emph{missing} & \\emph{missing} & \\emph{missing} & \\emph{missing} & \\emph{missing} & \\emph{missing} & \\emph{missing} & \\emph{missing} & \\emph{missing} & 0,63 & \\emph{missing} & \\emph{missing} & \\emph{missing} & \\emph{missing} & \\emph{missing} & \\emph{missing} & \\emph{missing} & \\emph{missing} & \\emph{missing} & \\emph{missing} & \\emph{missing} & \\emph{missing} & \\emph{missing} & \\emph{missing} & \\emph{missing} & \\emph{missing} & \\emph{missing} & \\emph{missing} & $\\dots$ \\\\\n",
       "\t3 & Heckman lithosequence & Heckman lithosequence & 31,8875 & -109,28 & WGS84 & Arizona & \\emph{missing} & Chiricahua Rhyolite & 15/10/2006 & CHRY1 & CHRY1\\_A3 & \\emph{missing} & \\emph{missing} & \\emph{missing} & \\emph{missing} & \\emph{missing} & \\emph{missing} & \\emph{missing} & \\emph{missing} & loamy, mixed, superactive, mesic Typic Haplustept & \\emph{missing} & \\emph{missing} & \\emph{missing} & \\emph{missing} & \\emph{missing} & \\emph{missing} & \\emph{missing} & \\emph{missing} & \\emph{missing} & \\emph{missing} & \\emph{missing} & \\emph{missing} & \\emph{missing} & \\emph{missing} & 0,14 & \\emph{missing} & \\emph{missing} & \\emph{missing} & \\emph{missing} & \\emph{missing} & \\emph{missing} & \\emph{missing} & \\emph{missing} & \\emph{missing} & \\emph{missing} & \\emph{missing} & \\emph{missing} & \\emph{missing} & \\emph{missing} & \\emph{missing} & \\emph{missing} & \\emph{missing} & \\emph{missing} & $\\dots$ \\\\\n",
       "\t4 & Heckman lithosequence & Heckman lithosequence & 31,8875 & -109,28 & WGS84 & Arizona & \\emph{missing} & Chiricahua Rhyolite & 15/10/2006 & CHRY1 & CHRY1\\_Bw1 & \\emph{missing} & \\emph{missing} & \\emph{missing} & \\emph{missing} & \\emph{missing} & \\emph{missing} & \\emph{missing} & \\emph{missing} & loamy, mixed, superactive, mesic Typic Haplustept & \\emph{missing} & \\emph{missing} & \\emph{missing} & \\emph{missing} & \\emph{missing} & \\emph{missing} & \\emph{missing} & \\emph{missing} & \\emph{missing} & \\emph{missing} & \\emph{missing} & \\emph{missing} & \\emph{missing} & \\emph{missing} & 0,26 & \\emph{missing} & \\emph{missing} & \\emph{missing} & \\emph{missing} & \\emph{missing} & \\emph{missing} & \\emph{missing} & \\emph{missing} & \\emph{missing} & \\emph{missing} & \\emph{missing} & \\emph{missing} & \\emph{missing} & \\emph{missing} & \\emph{missing} & \\emph{missing} & \\emph{missing} & \\emph{missing} & $\\dots$ \\\\\n",
       "\t5 & Heckman lithosequence & Heckman lithosequence & 31,8875 & -109,28 & WGS84 & Arizona & \\emph{missing} & Chiricahua Rhyolite & 15/10/2006 & CHRY1 & CHRY1\\_Bw2 & \\emph{missing} & \\emph{missing} & \\emph{missing} & \\emph{missing} & \\emph{missing} & \\emph{missing} & \\emph{missing} & \\emph{missing} & loamy, mixed, superactive, mesic Typic Haplustept & \\emph{missing} & \\emph{missing} & \\emph{missing} & \\emph{missing} & \\emph{missing} & \\emph{missing} & \\emph{missing} & \\emph{missing} & \\emph{missing} & \\emph{missing} & \\emph{missing} & \\emph{missing} & \\emph{missing} & \\emph{missing} & 0,06 & \\emph{missing} & \\emph{missing} & \\emph{missing} & \\emph{missing} & \\emph{missing} & \\emph{missing} & \\emph{missing} & \\emph{missing} & \\emph{missing} & \\emph{missing} & \\emph{missing} & \\emph{missing} & \\emph{missing} & \\emph{missing} & \\emph{missing} & \\emph{missing} & \\emph{missing} & \\emph{missing} & $\\dots$ \\\\\n",
       "\t6 & Heckman lithosequence & Heckman lithosequence & 31,8875 & -109,28 & WGS84 & Arizona & \\emph{missing} & Chiricahua Rhyolite & 15/10/2006 & CHRY1 & CHRY1\\_BCr & \\emph{missing} & \\emph{missing} & \\emph{missing} & \\emph{missing} & \\emph{missing} & \\emph{missing} & \\emph{missing} & \\emph{missing} & loamy, mixed, superactive, mesic Typic Haplustept & \\emph{missing} & \\emph{missing} & \\emph{missing} & \\emph{missing} & \\emph{missing} & \\emph{missing} & \\emph{missing} & \\emph{missing} & \\emph{missing} & \\emph{missing} & \\emph{missing} & \\emph{missing} & \\emph{missing} & \\emph{missing} & 0,08 & \\emph{missing} & \\emph{missing} & \\emph{missing} & \\emph{missing} & \\emph{missing} & \\emph{missing} & \\emph{missing} & \\emph{missing} & \\emph{missing} & \\emph{missing} & \\emph{missing} & \\emph{missing} & \\emph{missing} & \\emph{missing} & \\emph{missing} & \\emph{missing} & \\emph{missing} & \\emph{missing} & $\\dots$ \\\\\n",
       "\t7 & Heckman lithosequence & Heckman lithosequence & 31,8875 & -109,28 & WGS84 & Arizona & \\emph{missing} & Chiricahua Rhyolite & 15/10/2006 & CHRY2 & CHRY2\\_A1 & \\emph{missing} & \\emph{missing} & \\emph{missing} & \\emph{missing} & \\emph{missing} & \\emph{missing} & \\emph{missing} & \\emph{missing} & loamy, mixed, superactive, mesic Typic Haplustept & \\emph{missing} & \\emph{missing} & \\emph{missing} & \\emph{missing} & \\emph{missing} & \\emph{missing} & \\emph{missing} & \\emph{missing} & \\emph{missing} & \\emph{missing} & \\emph{missing} & \\emph{missing} & \\emph{missing} & \\emph{missing} & 0,09 & \\emph{missing} & \\emph{missing} & \\emph{missing} & \\emph{missing} & \\emph{missing} & \\emph{missing} & \\emph{missing} & \\emph{missing} & \\emph{missing} & \\emph{missing} & \\emph{missing} & \\emph{missing} & \\emph{missing} & \\emph{missing} & \\emph{missing} & \\emph{missing} & \\emph{missing} & \\emph{missing} & $\\dots$ \\\\\n",
       "\t8 & Heckman lithosequence & Heckman lithosequence & 31,8875 & -109,28 & WGS84 & Arizona & \\emph{missing} & Chiricahua Rhyolite & 15/10/2006 & CHRY2 & CHRY2\\_A2 & \\emph{missing} & \\emph{missing} & \\emph{missing} & \\emph{missing} & \\emph{missing} & \\emph{missing} & \\emph{missing} & \\emph{missing} & loamy, mixed, superactive, mesic Typic Haplustept & \\emph{missing} & \\emph{missing} & \\emph{missing} & \\emph{missing} & \\emph{missing} & \\emph{missing} & \\emph{missing} & \\emph{missing} & \\emph{missing} & \\emph{missing} & \\emph{missing} & \\emph{missing} & \\emph{missing} & \\emph{missing} & 0,38 & \\emph{missing} & \\emph{missing} & \\emph{missing} & \\emph{missing} & \\emph{missing} & \\emph{missing} & \\emph{missing} & \\emph{missing} & \\emph{missing} & \\emph{missing} & \\emph{missing} & \\emph{missing} & \\emph{missing} & \\emph{missing} & \\emph{missing} & \\emph{missing} & \\emph{missing} & \\emph{missing} & $\\dots$ \\\\\n",
       "\t9 & Heckman lithosequence & Heckman lithosequence & 31,8875 & -109,28 & WGS84 & Arizona & \\emph{missing} & Chiricahua Rhyolite & 15/10/2006 & CHRY2 & CHRY2\\_A3 & \\emph{missing} & \\emph{missing} & \\emph{missing} & \\emph{missing} & \\emph{missing} & \\emph{missing} & \\emph{missing} & \\emph{missing} & loamy, mixed, superactive, mesic Typic Haplustept & \\emph{missing} & \\emph{missing} & \\emph{missing} & \\emph{missing} & \\emph{missing} & \\emph{missing} & \\emph{missing} & \\emph{missing} & \\emph{missing} & \\emph{missing} & \\emph{missing} & \\emph{missing} & \\emph{missing} & \\emph{missing} & 0,33 & \\emph{missing} & \\emph{missing} & \\emph{missing} & \\emph{missing} & \\emph{missing} & \\emph{missing} & \\emph{missing} & \\emph{missing} & \\emph{missing} & \\emph{missing} & \\emph{missing} & \\emph{missing} & \\emph{missing} & \\emph{missing} & \\emph{missing} & \\emph{missing} & \\emph{missing} & \\emph{missing} & $\\dots$ \\\\\n",
       "\t10 & Heckman lithosequence & Heckman lithosequence & 31,8875 & -109,28 & WGS84 & Arizona & \\emph{missing} & Chiricahua Rhyolite & 15/10/2006 & CHRY2 & CHRY2\\_Bw1 & \\emph{missing} & \\emph{missing} & \\emph{missing} & \\emph{missing} & \\emph{missing} & \\emph{missing} & \\emph{missing} & \\emph{missing} & loamy, mixed, superactive, mesic Typic Haplustept & \\emph{missing} & \\emph{missing} & \\emph{missing} & \\emph{missing} & \\emph{missing} & \\emph{missing} & \\emph{missing} & \\emph{missing} & \\emph{missing} & \\emph{missing} & \\emph{missing} & \\emph{missing} & \\emph{missing} & \\emph{missing} & 0,16 & \\emph{missing} & \\emph{missing} & \\emph{missing} & \\emph{missing} & \\emph{missing} & \\emph{missing} & \\emph{missing} & \\emph{missing} & \\emph{missing} & \\emph{missing} & \\emph{missing} & \\emph{missing} & \\emph{missing} & \\emph{missing} & \\emph{missing} & \\emph{missing} & \\emph{missing} & \\emph{missing} & $\\dots$ \\\\\n",
       "\t11 & Heckman lithosequence & Heckman lithosequence & 31,8875 & -109,28 & WGS84 & Arizona & \\emph{missing} & Chiricahua Rhyolite & 15/10/2006 & CHRY2 & CHRY2\\_Bw2 & \\emph{missing} & \\emph{missing} & \\emph{missing} & \\emph{missing} & \\emph{missing} & \\emph{missing} & \\emph{missing} & \\emph{missing} & loamy, mixed, superactive, mesic Typic Haplustept & \\emph{missing} & \\emph{missing} & \\emph{missing} & \\emph{missing} & \\emph{missing} & \\emph{missing} & \\emph{missing} & \\emph{missing} & \\emph{missing} & \\emph{missing} & \\emph{missing} & \\emph{missing} & \\emph{missing} & \\emph{missing} & 0,09 & \\emph{missing} & \\emph{missing} & \\emph{missing} & \\emph{missing} & \\emph{missing} & \\emph{missing} & \\emph{missing} & \\emph{missing} & \\emph{missing} & \\emph{missing} & \\emph{missing} & \\emph{missing} & \\emph{missing} & \\emph{missing} & \\emph{missing} & \\emph{missing} & \\emph{missing} & \\emph{missing} & $\\dots$ \\\\\n",
       "\t12 & Heckman lithosequence & Heckman lithosequence & 31,8875 & -109,28 & WGS84 & Arizona & \\emph{missing} & Chiricahua Rhyolite & 15/10/2006 & CHRY2 & CHRY2\\_BCr & \\emph{missing} & \\emph{missing} & \\emph{missing} & \\emph{missing} & \\emph{missing} & \\emph{missing} & \\emph{missing} & \\emph{missing} & loamy, mixed, superactive, mesic Typic Haplustept & \\emph{missing} & \\emph{missing} & \\emph{missing} & \\emph{missing} & \\emph{missing} & \\emph{missing} & \\emph{missing} & \\emph{missing} & \\emph{missing} & \\emph{missing} & \\emph{missing} & \\emph{missing} & \\emph{missing} & \\emph{missing} & 0,05 & \\emph{missing} & \\emph{missing} & \\emph{missing} & \\emph{missing} & \\emph{missing} & \\emph{missing} & \\emph{missing} & \\emph{missing} & \\emph{missing} & \\emph{missing} & \\emph{missing} & \\emph{missing} & \\emph{missing} & \\emph{missing} & \\emph{missing} & \\emph{missing} & \\emph{missing} & \\emph{missing} & $\\dots$ \\\\\n",
       "\t13 & Heckman lithosequence & Heckman lithosequence & 31,8875 & -109,28 & WGS84 & Arizona & \\emph{missing} & Chiricahua Rhyolite & 15/10/2006 & CHRY3 & CHRY3\\_A1 & \\emph{missing} & \\emph{missing} & \\emph{missing} & \\emph{missing} & \\emph{missing} & \\emph{missing} & \\emph{missing} & \\emph{missing} & loamy, mixed, superactive, mesic Typic Haplustept & \\emph{missing} & \\emph{missing} & \\emph{missing} & \\emph{missing} & \\emph{missing} & \\emph{missing} & \\emph{missing} & \\emph{missing} & \\emph{missing} & \\emph{missing} & \\emph{missing} & \\emph{missing} & \\emph{missing} & \\emph{missing} & 0,37 & \\emph{missing} & \\emph{missing} & \\emph{missing} & \\emph{missing} & \\emph{missing} & \\emph{missing} & \\emph{missing} & \\emph{missing} & \\emph{missing} & \\emph{missing} & \\emph{missing} & \\emph{missing} & \\emph{missing} & \\emph{missing} & \\emph{missing} & \\emph{missing} & \\emph{missing} & \\emph{missing} & $\\dots$ \\\\\n",
       "\t14 & Heckman lithosequence & Heckman lithosequence & 31,8875 & -109,28 & WGS84 & Arizona & \\emph{missing} & Chiricahua Rhyolite & 15/10/2006 & CHRY3 & CHRY3\\_A2 & \\emph{missing} & \\emph{missing} & \\emph{missing} & \\emph{missing} & \\emph{missing} & \\emph{missing} & \\emph{missing} & \\emph{missing} & loamy, mixed, superactive, mesic Typic Haplustept & \\emph{missing} & \\emph{missing} & \\emph{missing} & \\emph{missing} & \\emph{missing} & \\emph{missing} & \\emph{missing} & \\emph{missing} & \\emph{missing} & \\emph{missing} & \\emph{missing} & \\emph{missing} & \\emph{missing} & \\emph{missing} & 0,24 & \\emph{missing} & \\emph{missing} & \\emph{missing} & \\emph{missing} & \\emph{missing} & \\emph{missing} & \\emph{missing} & \\emph{missing} & \\emph{missing} & \\emph{missing} & \\emph{missing} & \\emph{missing} & \\emph{missing} & \\emph{missing} & \\emph{missing} & \\emph{missing} & \\emph{missing} & \\emph{missing} & $\\dots$ \\\\\n",
       "\t15 & Heckman lithosequence & Heckman lithosequence & 31,8875 & -109,28 & WGS84 & Arizona & \\emph{missing} & Chiricahua Rhyolite & 15/10/2006 & CHRY3 & CHRY3\\_Bw1 & \\emph{missing} & \\emph{missing} & \\emph{missing} & \\emph{missing} & \\emph{missing} & \\emph{missing} & \\emph{missing} & \\emph{missing} & loamy, mixed, superactive, mesic Typic Haplustept & \\emph{missing} & \\emph{missing} & \\emph{missing} & \\emph{missing} & \\emph{missing} & \\emph{missing} & \\emph{missing} & \\emph{missing} & \\emph{missing} & \\emph{missing} & \\emph{missing} & \\emph{missing} & \\emph{missing} & \\emph{missing} & 0,22 & \\emph{missing} & \\emph{missing} & \\emph{missing} & \\emph{missing} & \\emph{missing} & \\emph{missing} & \\emph{missing} & \\emph{missing} & \\emph{missing} & \\emph{missing} & \\emph{missing} & \\emph{missing} & \\emph{missing} & \\emph{missing} & \\emph{missing} & \\emph{missing} & \\emph{missing} & \\emph{missing} & $\\dots$ \\\\\n",
       "\t16 & Heckman lithosequence & Heckman lithosequence & 31,8875 & -109,28 & WGS84 & Arizona & \\emph{missing} & Chiricahua Rhyolite & 15/10/2006 & CHRY3 & CHRY3\\_Bw2 & \\emph{missing} & \\emph{missing} & \\emph{missing} & \\emph{missing} & \\emph{missing} & \\emph{missing} & \\emph{missing} & \\emph{missing} & loamy, mixed, superactive, mesic Typic Haplustept & \\emph{missing} & \\emph{missing} & \\emph{missing} & \\emph{missing} & \\emph{missing} & \\emph{missing} & \\emph{missing} & \\emph{missing} & \\emph{missing} & \\emph{missing} & \\emph{missing} & \\emph{missing} & \\emph{missing} & \\emph{missing} & 0,15 & \\emph{missing} & \\emph{missing} & \\emph{missing} & \\emph{missing} & \\emph{missing} & \\emph{missing} & \\emph{missing} & \\emph{missing} & \\emph{missing} & \\emph{missing} & \\emph{missing} & \\emph{missing} & \\emph{missing} & \\emph{missing} & \\emph{missing} & \\emph{missing} & \\emph{missing} & \\emph{missing} & $\\dots$ \\\\\n",
       "\t17 & Heckman lithosequence & Heckman lithosequence & 31,8875 & -109,28 & WGS84 & Arizona & \\emph{missing} & Chiricahua Rhyolite & 15/10/2006 & CHRY3 & CHRY3\\_BCr & \\emph{missing} & \\emph{missing} & \\emph{missing} & \\emph{missing} & \\emph{missing} & \\emph{missing} & \\emph{missing} & \\emph{missing} & loamy, mixed, superactive, mesic Typic Haplustept & \\emph{missing} & \\emph{missing} & \\emph{missing} & \\emph{missing} & \\emph{missing} & \\emph{missing} & \\emph{missing} & \\emph{missing} & \\emph{missing} & \\emph{missing} & \\emph{missing} & \\emph{missing} & \\emph{missing} & \\emph{missing} & 0,04 & \\emph{missing} & \\emph{missing} & \\emph{missing} & \\emph{missing} & \\emph{missing} & \\emph{missing} & \\emph{missing} & \\emph{missing} & \\emph{missing} & \\emph{missing} & \\emph{missing} & \\emph{missing} & \\emph{missing} & \\emph{missing} & \\emph{missing} & \\emph{missing} & \\emph{missing} & \\emph{missing} & $\\dots$ \\\\\n",
       "\t18 & Heckman lithosequence & Heckman lithosequence & 35,15944 & -111,74083 & WGS84 & Arizona & \\emph{missing} & Flagstaff Basalt & 03/11/2006 & FGBA1 & FGBA1\\_A & \\emph{missing} & \\emph{missing} & \\emph{missing} & \\emph{missing} & \\emph{missing} & \\emph{missing} & \\emph{missing} & \\emph{missing} & clayey-skeletal, mixed superactive, mesic Typic Paleustoll & \\emph{missing} & \\emph{missing} & \\emph{missing} & \\emph{missing} & \\emph{missing} & \\emph{missing} & \\emph{missing} & \\emph{missing} & \\emph{missing} & \\emph{missing} & \\emph{missing} & \\emph{missing} & \\emph{missing} & \\emph{missing} & 0,4 & \\emph{missing} & \\emph{missing} & \\emph{missing} & \\emph{missing} & \\emph{missing} & \\emph{missing} & \\emph{missing} & \\emph{missing} & \\emph{missing} & \\emph{missing} & \\emph{missing} & \\emph{missing} & \\emph{missing} & \\emph{missing} & \\emph{missing} & \\emph{missing} & \\emph{missing} & \\emph{missing} & $\\dots$ \\\\\n",
       "\t19 & Heckman lithosequence & Heckman lithosequence & 35,15944 & -111,74083 & WGS84 & Arizona & \\emph{missing} & Flagstaff Basalt & 03/11/2006 & FGBA1 & FGBA1\\_Bt1 & \\emph{missing} & \\emph{missing} & \\emph{missing} & \\emph{missing} & \\emph{missing} & \\emph{missing} & \\emph{missing} & \\emph{missing} & clayey-skeletal, mixed superactive, mesic Typic Paleustoll & \\emph{missing} & \\emph{missing} & \\emph{missing} & \\emph{missing} & \\emph{missing} & \\emph{missing} & \\emph{missing} & \\emph{missing} & \\emph{missing} & \\emph{missing} & \\emph{missing} & \\emph{missing} & \\emph{missing} & \\emph{missing} & 0,27 & \\emph{missing} & \\emph{missing} & \\emph{missing} & \\emph{missing} & \\emph{missing} & \\emph{missing} & \\emph{missing} & \\emph{missing} & \\emph{missing} & \\emph{missing} & \\emph{missing} & \\emph{missing} & \\emph{missing} & \\emph{missing} & \\emph{missing} & \\emph{missing} & \\emph{missing} & \\emph{missing} & $\\dots$ \\\\\n",
       "\t20 & Heckman lithosequence & Heckman lithosequence & 35,15944 & -111,74083 & WGS84 & Arizona & \\emph{missing} & Flagstaff Basalt & 03/11/2006 & FGBA1 & FGBA1\\_Bt2 & \\emph{missing} & \\emph{missing} & \\emph{missing} & \\emph{missing} & \\emph{missing} & \\emph{missing} & \\emph{missing} & \\emph{missing} & clayey-skeletal, mixed superactive, mesic Typic Paleustoll & \\emph{missing} & \\emph{missing} & \\emph{missing} & \\emph{missing} & \\emph{missing} & \\emph{missing} & \\emph{missing} & \\emph{missing} & \\emph{missing} & \\emph{missing} & \\emph{missing} & \\emph{missing} & \\emph{missing} & \\emph{missing} & 0,12 & \\emph{missing} & \\emph{missing} & \\emph{missing} & \\emph{missing} & \\emph{missing} & \\emph{missing} & \\emph{missing} & \\emph{missing} & \\emph{missing} & \\emph{missing} & \\emph{missing} & \\emph{missing} & \\emph{missing} & \\emph{missing} & \\emph{missing} & \\emph{missing} & \\emph{missing} & \\emph{missing} & $\\dots$ \\\\\n",
       "\t$\\dots$ & $\\dots$ & $\\dots$ & $\\dots$ & $\\dots$ & $\\dots$ & $\\dots$ & $\\dots$ & $\\dots$ & $\\dots$ & $\\dots$ & $\\dots$ & $\\dots$ & $\\dots$ & $\\dots$ & $\\dots$ & $\\dots$ & $\\dots$ & $\\dots$ & $\\dots$ & $\\dots$ & $\\dots$ & $\\dots$ & $\\dots$ & $\\dots$ & $\\dots$ & $\\dots$ & $\\dots$ & $\\dots$ & $\\dots$ & $\\dots$ & $\\dots$ & $\\dots$ & $\\dots$ & $\\dots$ & $\\dots$ & $\\dots$ & $\\dots$ & $\\dots$ & $\\dots$ & $\\dots$ & $\\dots$ & $\\dots$ & $\\dots$ & $\\dots$ & $\\dots$ & $\\dots$ & $\\dots$ & $\\dots$ & $\\dots$ & $\\dots$ & $\\dots$ & $\\dots$ & $\\dots$ &  \\\\\n",
       "\\end{tabular}\n"
      ],
      "text/plain": [
       "445829×94 DataFrame. Omitted printing of 43 columns\n",
       "│ Row    │ dataset_name_sub      │ dataset_name_soc      │ lat (dec. deg) │ long (dec. deg) │ datum (datum) │ state (state_province) │ country (country) │ site_name           │ observation_date (YYYY-MM-DD) │ profile_name │ layer_name   │ layer_top (cm) │ layer_bot (cm) │ hzn_desgn_other │ hzn     │ hzn_desgn │ layer_note │ color   │ vegclass_local │ soil_taxon                                        │ soil_series │ bd_method │ bd_samp (g cm-3) │ bd_tot (g cm-3) │ bd_whole (g cm-3) │ bd_other (g cm-3) │ bdNRCS_prep_code │ cNRCS_prep_code │ c_method │ c_tot (percent) │ oc (percent) │ loi (percent) │ n_tot (percent) │ c_to_n (mass ratio) │ soc (g cm-2) │ soc_carbon_flag │ soc_method │ ph_method │ ph_cacl │ ph_h2o  │ ph_other │ caco3 (percent) │ sand_tot_psa (percent) │ silt_tot_psa (percent) │ clay_tot_psa (percent) │ wpg2_method │ wpg2 (percent) │ cat_exch (cmol H+ kg-1) │ al_dith (specified by al_fe_units) │ al_ox (specified by al_fe_units) │ al_other (specified by al_fe_units) │\n",
       "│        │ \u001b[90mString\u001b[39m                │ \u001b[90mString\u001b[39m                │ \u001b[90mString?\u001b[39m        │ \u001b[90mString?\u001b[39m         │ \u001b[90mString?\u001b[39m       │ \u001b[90mUnion{Missing, String}\u001b[39m │ \u001b[90mString?\u001b[39m           │ \u001b[90mString\u001b[39m              │ \u001b[90mUnion{Missing, String}\u001b[39m        │ \u001b[90mString\u001b[39m       │ \u001b[90mString\u001b[39m       │ \u001b[90mAny\u001b[39m            │ \u001b[90mInt64?\u001b[39m         │ \u001b[90mMissing\u001b[39m         │ \u001b[90mString?\u001b[39m │ \u001b[90mString?\u001b[39m   │ \u001b[90mString?\u001b[39m    │ \u001b[90mString?\u001b[39m │ \u001b[90mString?\u001b[39m        │ \u001b[90mUnion{Missing, String}\u001b[39m                            │ \u001b[90mString?\u001b[39m     │ \u001b[90mString?\u001b[39m   │ \u001b[90mString?\u001b[39m          │ \u001b[90mString?\u001b[39m         │ \u001b[90mString?\u001b[39m           │ \u001b[90mString?\u001b[39m           │ \u001b[90mString?\u001b[39m          │ \u001b[90mString?\u001b[39m         │ \u001b[90mString?\u001b[39m  │ \u001b[90mString?\u001b[39m         │ \u001b[90mString?\u001b[39m      │ \u001b[90mAny\u001b[39m           │ \u001b[90mString?\u001b[39m         │ \u001b[90mMissing\u001b[39m             │ \u001b[90mString?\u001b[39m      │ \u001b[90mString?\u001b[39m         │ \u001b[90mString?\u001b[39m    │ \u001b[90mString?\u001b[39m   │ \u001b[90mString?\u001b[39m │ \u001b[90mString?\u001b[39m │ \u001b[90mString?\u001b[39m  │ \u001b[90mString?\u001b[39m         │ \u001b[90mUnion{Missing, Int64}\u001b[39m  │ \u001b[90mUnion{Missing, Int64}\u001b[39m  │ \u001b[90mUnion{Missing, Int64}\u001b[39m  │ \u001b[90mString?\u001b[39m     │ \u001b[90mInt64?\u001b[39m         │ \u001b[90mUnion{Missing, String}\u001b[39m  │ \u001b[90mUnion{Missing, String}\u001b[39m             │ \u001b[90mUnion{Missing, String}\u001b[39m           │ \u001b[90mUnion{Missing, String}\u001b[39m              │\n",
       "├────────┼───────────────────────┼───────────────────────┼────────────────┼─────────────────┼───────────────┼────────────────────────┼───────────────────┼─────────────────────┼───────────────────────────────┼──────────────┼──────────────┼────────────────┼────────────────┼─────────────────┼─────────┼───────────┼────────────┼─────────┼────────────────┼───────────────────────────────────────────────────┼─────────────┼───────────┼──────────────────┼─────────────────┼───────────────────┼───────────────────┼──────────────────┼─────────────────┼──────────┼─────────────────┼──────────────┼───────────────┼─────────────────┼─────────────────────┼──────────────┼─────────────────┼────────────┼───────────┼─────────┼─────────┼──────────┼─────────────────┼────────────────────────┼────────────────────────┼────────────────────────┼─────────────┼────────────────┼─────────────────────────┼────────────────────────────────────┼──────────────────────────────────┼─────────────────────────────────────┤\n",
       "│ 1      │ Heckman lithosequence │ Heckman lithosequence │ 31,8875        │ -109,28         │ WGS84         │ Arizona                │ \u001b[90mmissing\u001b[39m           │ Chiricahua Rhyolite │ 15/10/2006                    │ CHRY1        │ CHRY1_A1     │ \u001b[90mmissing\u001b[39m        │ \u001b[90mmissing\u001b[39m        │ \u001b[90mmissing\u001b[39m         │ \u001b[90mmissing\u001b[39m │ \u001b[90mmissing\u001b[39m   │ \u001b[90mmissing\u001b[39m    │ \u001b[90mmissing\u001b[39m │ \u001b[90mmissing\u001b[39m        │ loamy, mixed, superactive, mesic Typic Haplustept │ \u001b[90mmissing\u001b[39m     │ \u001b[90mmissing\u001b[39m   │ \u001b[90mmissing\u001b[39m          │ \u001b[90mmissing\u001b[39m         │ \u001b[90mmissing\u001b[39m           │ \u001b[90mmissing\u001b[39m           │ \u001b[90mmissing\u001b[39m          │ \u001b[90mmissing\u001b[39m         │ \u001b[90mmissing\u001b[39m  │ \u001b[90mmissing\u001b[39m         │ \u001b[90mmissing\u001b[39m      │ \u001b[90mmissing\u001b[39m       │ \u001b[90mmissing\u001b[39m         │ \u001b[90mmissing\u001b[39m             │ 1,12         │ \u001b[90mmissing\u001b[39m         │ \u001b[90mmissing\u001b[39m    │ \u001b[90mmissing\u001b[39m   │ \u001b[90mmissing\u001b[39m │ \u001b[90mmissing\u001b[39m │ \u001b[90mmissing\u001b[39m  │ \u001b[90mmissing\u001b[39m         │ \u001b[90mmissing\u001b[39m                │ \u001b[90mmissing\u001b[39m                │ \u001b[90mmissing\u001b[39m                │ \u001b[90mmissing\u001b[39m     │ \u001b[90mmissing\u001b[39m        │ \u001b[90mmissing\u001b[39m                 │ \u001b[90mmissing\u001b[39m                            │ \u001b[90mmissing\u001b[39m                          │ \u001b[90mmissing\u001b[39m                             │\n",
       "│ 2      │ Heckman lithosequence │ Heckman lithosequence │ 31,8875        │ -109,28         │ WGS84         │ Arizona                │ \u001b[90mmissing\u001b[39m           │ Chiricahua Rhyolite │ 15/10/2006                    │ CHRY1        │ CHRY1_A2     │ \u001b[90mmissing\u001b[39m        │ \u001b[90mmissing\u001b[39m        │ \u001b[90mmissing\u001b[39m         │ \u001b[90mmissing\u001b[39m │ \u001b[90mmissing\u001b[39m   │ \u001b[90mmissing\u001b[39m    │ \u001b[90mmissing\u001b[39m │ \u001b[90mmissing\u001b[39m        │ loamy, mixed, superactive, mesic Typic Haplustept │ \u001b[90mmissing\u001b[39m     │ \u001b[90mmissing\u001b[39m   │ \u001b[90mmissing\u001b[39m          │ \u001b[90mmissing\u001b[39m         │ \u001b[90mmissing\u001b[39m           │ \u001b[90mmissing\u001b[39m           │ \u001b[90mmissing\u001b[39m          │ \u001b[90mmissing\u001b[39m         │ \u001b[90mmissing\u001b[39m  │ \u001b[90mmissing\u001b[39m         │ \u001b[90mmissing\u001b[39m      │ \u001b[90mmissing\u001b[39m       │ \u001b[90mmissing\u001b[39m         │ \u001b[90mmissing\u001b[39m             │ 0,63         │ \u001b[90mmissing\u001b[39m         │ \u001b[90mmissing\u001b[39m    │ \u001b[90mmissing\u001b[39m   │ \u001b[90mmissing\u001b[39m │ \u001b[90mmissing\u001b[39m │ \u001b[90mmissing\u001b[39m  │ \u001b[90mmissing\u001b[39m         │ \u001b[90mmissing\u001b[39m                │ \u001b[90mmissing\u001b[39m                │ \u001b[90mmissing\u001b[39m                │ \u001b[90mmissing\u001b[39m     │ \u001b[90mmissing\u001b[39m        │ \u001b[90mmissing\u001b[39m                 │ \u001b[90mmissing\u001b[39m                            │ \u001b[90mmissing\u001b[39m                          │ \u001b[90mmissing\u001b[39m                             │\n",
       "│ 3      │ Heckman lithosequence │ Heckman lithosequence │ 31,8875        │ -109,28         │ WGS84         │ Arizona                │ \u001b[90mmissing\u001b[39m           │ Chiricahua Rhyolite │ 15/10/2006                    │ CHRY1        │ CHRY1_A3     │ \u001b[90mmissing\u001b[39m        │ \u001b[90mmissing\u001b[39m        │ \u001b[90mmissing\u001b[39m         │ \u001b[90mmissing\u001b[39m │ \u001b[90mmissing\u001b[39m   │ \u001b[90mmissing\u001b[39m    │ \u001b[90mmissing\u001b[39m │ \u001b[90mmissing\u001b[39m        │ loamy, mixed, superactive, mesic Typic Haplustept │ \u001b[90mmissing\u001b[39m     │ \u001b[90mmissing\u001b[39m   │ \u001b[90mmissing\u001b[39m          │ \u001b[90mmissing\u001b[39m         │ \u001b[90mmissing\u001b[39m           │ \u001b[90mmissing\u001b[39m           │ \u001b[90mmissing\u001b[39m          │ \u001b[90mmissing\u001b[39m         │ \u001b[90mmissing\u001b[39m  │ \u001b[90mmissing\u001b[39m         │ \u001b[90mmissing\u001b[39m      │ \u001b[90mmissing\u001b[39m       │ \u001b[90mmissing\u001b[39m         │ \u001b[90mmissing\u001b[39m             │ 0,14         │ \u001b[90mmissing\u001b[39m         │ \u001b[90mmissing\u001b[39m    │ \u001b[90mmissing\u001b[39m   │ \u001b[90mmissing\u001b[39m │ \u001b[90mmissing\u001b[39m │ \u001b[90mmissing\u001b[39m  │ \u001b[90mmissing\u001b[39m         │ \u001b[90mmissing\u001b[39m                │ \u001b[90mmissing\u001b[39m                │ \u001b[90mmissing\u001b[39m                │ \u001b[90mmissing\u001b[39m     │ \u001b[90mmissing\u001b[39m        │ \u001b[90mmissing\u001b[39m                 │ \u001b[90mmissing\u001b[39m                            │ \u001b[90mmissing\u001b[39m                          │ \u001b[90mmissing\u001b[39m                             │\n",
       "│ 4      │ Heckman lithosequence │ Heckman lithosequence │ 31,8875        │ -109,28         │ WGS84         │ Arizona                │ \u001b[90mmissing\u001b[39m           │ Chiricahua Rhyolite │ 15/10/2006                    │ CHRY1        │ CHRY1_Bw1    │ \u001b[90mmissing\u001b[39m        │ \u001b[90mmissing\u001b[39m        │ \u001b[90mmissing\u001b[39m         │ \u001b[90mmissing\u001b[39m │ \u001b[90mmissing\u001b[39m   │ \u001b[90mmissing\u001b[39m    │ \u001b[90mmissing\u001b[39m │ \u001b[90mmissing\u001b[39m        │ loamy, mixed, superactive, mesic Typic Haplustept │ \u001b[90mmissing\u001b[39m     │ \u001b[90mmissing\u001b[39m   │ \u001b[90mmissing\u001b[39m          │ \u001b[90mmissing\u001b[39m         │ \u001b[90mmissing\u001b[39m           │ \u001b[90mmissing\u001b[39m           │ \u001b[90mmissing\u001b[39m          │ \u001b[90mmissing\u001b[39m         │ \u001b[90mmissing\u001b[39m  │ \u001b[90mmissing\u001b[39m         │ \u001b[90mmissing\u001b[39m      │ \u001b[90mmissing\u001b[39m       │ \u001b[90mmissing\u001b[39m         │ \u001b[90mmissing\u001b[39m             │ 0,26         │ \u001b[90mmissing\u001b[39m         │ \u001b[90mmissing\u001b[39m    │ \u001b[90mmissing\u001b[39m   │ \u001b[90mmissing\u001b[39m │ \u001b[90mmissing\u001b[39m │ \u001b[90mmissing\u001b[39m  │ \u001b[90mmissing\u001b[39m         │ \u001b[90mmissing\u001b[39m                │ \u001b[90mmissing\u001b[39m                │ \u001b[90mmissing\u001b[39m                │ \u001b[90mmissing\u001b[39m     │ \u001b[90mmissing\u001b[39m        │ \u001b[90mmissing\u001b[39m                 │ \u001b[90mmissing\u001b[39m                            │ \u001b[90mmissing\u001b[39m                          │ \u001b[90mmissing\u001b[39m                             │\n",
       "│ 5      │ Heckman lithosequence │ Heckman lithosequence │ 31,8875        │ -109,28         │ WGS84         │ Arizona                │ \u001b[90mmissing\u001b[39m           │ Chiricahua Rhyolite │ 15/10/2006                    │ CHRY1        │ CHRY1_Bw2    │ \u001b[90mmissing\u001b[39m        │ \u001b[90mmissing\u001b[39m        │ \u001b[90mmissing\u001b[39m         │ \u001b[90mmissing\u001b[39m │ \u001b[90mmissing\u001b[39m   │ \u001b[90mmissing\u001b[39m    │ \u001b[90mmissing\u001b[39m │ \u001b[90mmissing\u001b[39m        │ loamy, mixed, superactive, mesic Typic Haplustept │ \u001b[90mmissing\u001b[39m     │ \u001b[90mmissing\u001b[39m   │ \u001b[90mmissing\u001b[39m          │ \u001b[90mmissing\u001b[39m         │ \u001b[90mmissing\u001b[39m           │ \u001b[90mmissing\u001b[39m           │ \u001b[90mmissing\u001b[39m          │ \u001b[90mmissing\u001b[39m         │ \u001b[90mmissing\u001b[39m  │ \u001b[90mmissing\u001b[39m         │ \u001b[90mmissing\u001b[39m      │ \u001b[90mmissing\u001b[39m       │ \u001b[90mmissing\u001b[39m         │ \u001b[90mmissing\u001b[39m             │ 0,06         │ \u001b[90mmissing\u001b[39m         │ \u001b[90mmissing\u001b[39m    │ \u001b[90mmissing\u001b[39m   │ \u001b[90mmissing\u001b[39m │ \u001b[90mmissing\u001b[39m │ \u001b[90mmissing\u001b[39m  │ \u001b[90mmissing\u001b[39m         │ \u001b[90mmissing\u001b[39m                │ \u001b[90mmissing\u001b[39m                │ \u001b[90mmissing\u001b[39m                │ \u001b[90mmissing\u001b[39m     │ \u001b[90mmissing\u001b[39m        │ \u001b[90mmissing\u001b[39m                 │ \u001b[90mmissing\u001b[39m                            │ \u001b[90mmissing\u001b[39m                          │ \u001b[90mmissing\u001b[39m                             │\n",
       "⋮\n",
       "│ 445824 │ USGS Harden Yazoo     │ USGS Harden Yazoo     │ \u001b[90mmissing\u001b[39m        │ \u001b[90mmissing\u001b[39m         │ \u001b[90mmissing\u001b[39m       │ \u001b[90mmissing\u001b[39m                │ \u001b[90mmissing\u001b[39m           │ NFPV*               │ \u001b[90mmissing\u001b[39m                       │ NFPV 1       │ NFPV* 1.45x  │ \u001b[90mmissing\u001b[39m        │ \u001b[90mmissing\u001b[39m        │ \u001b[90mmissing\u001b[39m         │ \u001b[90mmissing\u001b[39m │ \u001b[90mmissing\u001b[39m   │ \u001b[90mmissing\u001b[39m    │ \u001b[90mmissing\u001b[39m │ \u001b[90mmissing\u001b[39m        │ \u001b[90mmissing\u001b[39m                                           │ \u001b[90mmissing\u001b[39m     │ \u001b[90mmissing\u001b[39m   │ \u001b[90mmissing\u001b[39m          │ \u001b[90mmissing\u001b[39m         │ \u001b[90mmissing\u001b[39m           │ \u001b[90mmissing\u001b[39m           │ \u001b[90mmissing\u001b[39m          │ \u001b[90mmissing\u001b[39m         │ \u001b[90mmissing\u001b[39m  │ \u001b[90mmissing\u001b[39m         │ \u001b[90mmissing\u001b[39m      │ \u001b[90mmissing\u001b[39m       │ \u001b[90mmissing\u001b[39m         │ \u001b[90mmissing\u001b[39m             │ 0,03         │ \u001b[90mmissing\u001b[39m         │ \u001b[90mmissing\u001b[39m    │ \u001b[90mmissing\u001b[39m   │ \u001b[90mmissing\u001b[39m │ \u001b[90mmissing\u001b[39m │ \u001b[90mmissing\u001b[39m  │ \u001b[90mmissing\u001b[39m         │ \u001b[90mmissing\u001b[39m                │ \u001b[90mmissing\u001b[39m                │ \u001b[90mmissing\u001b[39m                │ \u001b[90mmissing\u001b[39m     │ \u001b[90mmissing\u001b[39m        │ \u001b[90mmissing\u001b[39m                 │ \u001b[90mmissing\u001b[39m                            │ \u001b[90mmissing\u001b[39m                          │ \u001b[90mmissing\u001b[39m                             │\n",
       "│ 445825 │ USGS Harden Yazoo     │ USGS Harden Yazoo     │ \u001b[90mmissing\u001b[39m        │ \u001b[90mmissing\u001b[39m         │ \u001b[90mmissing\u001b[39m       │ \u001b[90mmissing\u001b[39m                │ \u001b[90mmissing\u001b[39m           │ NFPV*               │ \u001b[90mmissing\u001b[39m                       │ NFPV 1       │ NFPV* 1.50x  │ \u001b[90mmissing\u001b[39m        │ \u001b[90mmissing\u001b[39m        │ \u001b[90mmissing\u001b[39m         │ \u001b[90mmissing\u001b[39m │ \u001b[90mmissing\u001b[39m   │ \u001b[90mmissing\u001b[39m    │ \u001b[90mmissing\u001b[39m │ \u001b[90mmissing\u001b[39m        │ \u001b[90mmissing\u001b[39m                                           │ \u001b[90mmissing\u001b[39m     │ \u001b[90mmissing\u001b[39m   │ \u001b[90mmissing\u001b[39m          │ \u001b[90mmissing\u001b[39m         │ \u001b[90mmissing\u001b[39m           │ \u001b[90mmissing\u001b[39m           │ \u001b[90mmissing\u001b[39m          │ \u001b[90mmissing\u001b[39m         │ \u001b[90mmissing\u001b[39m  │ \u001b[90mmissing\u001b[39m         │ \u001b[90mmissing\u001b[39m      │ \u001b[90mmissing\u001b[39m       │ \u001b[90mmissing\u001b[39m         │ \u001b[90mmissing\u001b[39m             │ 0,03         │ \u001b[90mmissing\u001b[39m         │ \u001b[90mmissing\u001b[39m    │ \u001b[90mmissing\u001b[39m   │ \u001b[90mmissing\u001b[39m │ \u001b[90mmissing\u001b[39m │ \u001b[90mmissing\u001b[39m  │ \u001b[90mmissing\u001b[39m         │ \u001b[90mmissing\u001b[39m                │ \u001b[90mmissing\u001b[39m                │ \u001b[90mmissing\u001b[39m                │ \u001b[90mmissing\u001b[39m     │ \u001b[90mmissing\u001b[39m        │ \u001b[90mmissing\u001b[39m                 │ \u001b[90mmissing\u001b[39m                            │ \u001b[90mmissing\u001b[39m                          │ \u001b[90mmissing\u001b[39m                             │\n",
       "│ 445826 │ USGS Harden Yazoo     │ USGS Harden Yazoo     │ \u001b[90mmissing\u001b[39m        │ \u001b[90mmissing\u001b[39m         │ \u001b[90mmissing\u001b[39m       │ \u001b[90mmissing\u001b[39m                │ \u001b[90mmissing\u001b[39m           │ NFPV*               │ \u001b[90mmissing\u001b[39m                       │ NFPV 1       │ NFPV* 1.20x  │ \u001b[90mmissing\u001b[39m        │ \u001b[90mmissing\u001b[39m        │ \u001b[90mmissing\u001b[39m         │ \u001b[90mmissing\u001b[39m │ \u001b[90mmissing\u001b[39m   │ \u001b[90mmissing\u001b[39m    │ \u001b[90mmissing\u001b[39m │ \u001b[90mmissing\u001b[39m        │ \u001b[90mmissing\u001b[39m                                           │ \u001b[90mmissing\u001b[39m     │ \u001b[90mmissing\u001b[39m   │ \u001b[90mmissing\u001b[39m          │ \u001b[90mmissing\u001b[39m         │ \u001b[90mmissing\u001b[39m           │ \u001b[90mmissing\u001b[39m           │ \u001b[90mmissing\u001b[39m          │ \u001b[90mmissing\u001b[39m         │ \u001b[90mmissing\u001b[39m  │ \u001b[90mmissing\u001b[39m         │ \u001b[90mmissing\u001b[39m      │ \u001b[90mmissing\u001b[39m       │ \u001b[90mmissing\u001b[39m         │ \u001b[90mmissing\u001b[39m             │ 0,05         │ \u001b[90mmissing\u001b[39m         │ \u001b[90mmissing\u001b[39m    │ \u001b[90mmissing\u001b[39m   │ \u001b[90mmissing\u001b[39m │ \u001b[90mmissing\u001b[39m │ \u001b[90mmissing\u001b[39m  │ \u001b[90mmissing\u001b[39m         │ \u001b[90mmissing\u001b[39m                │ \u001b[90mmissing\u001b[39m                │ \u001b[90mmissing\u001b[39m                │ \u001b[90mmissing\u001b[39m     │ \u001b[90mmissing\u001b[39m        │ \u001b[90mmissing\u001b[39m                 │ \u001b[90mmissing\u001b[39m                            │ \u001b[90mmissing\u001b[39m                          │ \u001b[90mmissing\u001b[39m                             │\n",
       "│ 445827 │ USGS Harden Yazoo     │ USGS Harden Yazoo     │ \u001b[90mmissing\u001b[39m        │ \u001b[90mmissing\u001b[39m         │ \u001b[90mmissing\u001b[39m       │ \u001b[90mmissing\u001b[39m                │ \u001b[90mmissing\u001b[39m           │ NFPV*               │ \u001b[90mmissing\u001b[39m                       │ NFPV 1       │ NFPV* 1.25x  │ \u001b[90mmissing\u001b[39m        │ \u001b[90mmissing\u001b[39m        │ \u001b[90mmissing\u001b[39m         │ \u001b[90mmissing\u001b[39m │ \u001b[90mmissing\u001b[39m   │ \u001b[90mmissing\u001b[39m    │ \u001b[90mmissing\u001b[39m │ \u001b[90mmissing\u001b[39m        │ \u001b[90mmissing\u001b[39m                                           │ \u001b[90mmissing\u001b[39m     │ \u001b[90mmissing\u001b[39m   │ \u001b[90mmissing\u001b[39m          │ \u001b[90mmissing\u001b[39m         │ \u001b[90mmissing\u001b[39m           │ \u001b[90mmissing\u001b[39m           │ \u001b[90mmissing\u001b[39m          │ \u001b[90mmissing\u001b[39m         │ \u001b[90mmissing\u001b[39m  │ \u001b[90mmissing\u001b[39m         │ \u001b[90mmissing\u001b[39m      │ \u001b[90mmissing\u001b[39m       │ \u001b[90mmissing\u001b[39m         │ \u001b[90mmissing\u001b[39m             │ 0,05         │ \u001b[90mmissing\u001b[39m         │ \u001b[90mmissing\u001b[39m    │ \u001b[90mmissing\u001b[39m   │ \u001b[90mmissing\u001b[39m │ \u001b[90mmissing\u001b[39m │ \u001b[90mmissing\u001b[39m  │ \u001b[90mmissing\u001b[39m         │ \u001b[90mmissing\u001b[39m                │ \u001b[90mmissing\u001b[39m                │ \u001b[90mmissing\u001b[39m                │ \u001b[90mmissing\u001b[39m     │ \u001b[90mmissing\u001b[39m        │ \u001b[90mmissing\u001b[39m                 │ \u001b[90mmissing\u001b[39m                            │ \u001b[90mmissing\u001b[39m                          │ \u001b[90mmissing\u001b[39m                             │\n",
       "│ 445828 │ USGS Harden Yazoo     │ USGS Harden Yazoo     │ \u001b[90mmissing\u001b[39m        │ \u001b[90mmissing\u001b[39m         │ \u001b[90mmissing\u001b[39m       │ \u001b[90mmissing\u001b[39m                │ \u001b[90mmissing\u001b[39m           │ NFPV*               │ \u001b[90mmissing\u001b[39m                       │ NFPV 1       │ NFPV* 1.30x  │ \u001b[90mmissing\u001b[39m        │ \u001b[90mmissing\u001b[39m        │ \u001b[90mmissing\u001b[39m         │ \u001b[90mmissing\u001b[39m │ \u001b[90mmissing\u001b[39m   │ \u001b[90mmissing\u001b[39m    │ \u001b[90mmissing\u001b[39m │ \u001b[90mmissing\u001b[39m        │ \u001b[90mmissing\u001b[39m                                           │ \u001b[90mmissing\u001b[39m     │ \u001b[90mmissing\u001b[39m   │ \u001b[90mmissing\u001b[39m          │ \u001b[90mmissing\u001b[39m         │ \u001b[90mmissing\u001b[39m           │ \u001b[90mmissing\u001b[39m           │ \u001b[90mmissing\u001b[39m          │ \u001b[90mmissing\u001b[39m         │ \u001b[90mmissing\u001b[39m  │ \u001b[90mmissing\u001b[39m         │ \u001b[90mmissing\u001b[39m      │ \u001b[90mmissing\u001b[39m       │ \u001b[90mmissing\u001b[39m         │ \u001b[90mmissing\u001b[39m             │ 0,04         │ \u001b[90mmissing\u001b[39m         │ \u001b[90mmissing\u001b[39m    │ \u001b[90mmissing\u001b[39m   │ \u001b[90mmissing\u001b[39m │ \u001b[90mmissing\u001b[39m │ \u001b[90mmissing\u001b[39m  │ \u001b[90mmissing\u001b[39m         │ \u001b[90mmissing\u001b[39m                │ \u001b[90mmissing\u001b[39m                │ \u001b[90mmissing\u001b[39m                │ \u001b[90mmissing\u001b[39m     │ \u001b[90mmissing\u001b[39m        │ \u001b[90mmissing\u001b[39m                 │ \u001b[90mmissing\u001b[39m                            │ \u001b[90mmissing\u001b[39m                          │ \u001b[90mmissing\u001b[39m                             │\n",
       "│ 445829 │ USGS Harden Yazoo     │ USGS Harden Yazoo     │ \u001b[90mmissing\u001b[39m        │ \u001b[90mmissing\u001b[39m         │ \u001b[90mmissing\u001b[39m       │ \u001b[90mmissing\u001b[39m                │ \u001b[90mmissing\u001b[39m           │ NFPV*               │ \u001b[90mmissing\u001b[39m                       │ NFPV 1       │ NFPV* 1.35x  │ \u001b[90mmissing\u001b[39m        │ \u001b[90mmissing\u001b[39m        │ \u001b[90mmissing\u001b[39m         │ \u001b[90mmissing\u001b[39m │ \u001b[90mmissing\u001b[39m   │ \u001b[90mmissing\u001b[39m    │ \u001b[90mmissing\u001b[39m │ \u001b[90mmissing\u001b[39m        │ \u001b[90mmissing\u001b[39m                                           │ \u001b[90mmissing\u001b[39m     │ \u001b[90mmissing\u001b[39m   │ \u001b[90mmissing\u001b[39m          │ \u001b[90mmissing\u001b[39m         │ \u001b[90mmissing\u001b[39m           │ \u001b[90mmissing\u001b[39m           │ \u001b[90mmissing\u001b[39m          │ \u001b[90mmissing\u001b[39m         │ \u001b[90mmissing\u001b[39m  │ \u001b[90mmissing\u001b[39m         │ \u001b[90mmissing\u001b[39m      │ \u001b[90mmissing\u001b[39m       │ \u001b[90mmissing\u001b[39m         │ \u001b[90mmissing\u001b[39m             │ 0,04         │ \u001b[90mmissing\u001b[39m         │ \u001b[90mmissing\u001b[39m    │ \u001b[90mmissing\u001b[39m   │ \u001b[90mmissing\u001b[39m │ \u001b[90mmissing\u001b[39m │ \u001b[90mmissing\u001b[39m  │ \u001b[90mmissing\u001b[39m         │ \u001b[90mmissing\u001b[39m                │ \u001b[90mmissing\u001b[39m                │ \u001b[90mmissing\u001b[39m                │ \u001b[90mmissing\u001b[39m     │ \u001b[90mmissing\u001b[39m        │ \u001b[90mmissing\u001b[39m                 │ \u001b[90mmissing\u001b[39m                            │ \u001b[90mmissing\u001b[39m                          │ \u001b[90mmissing\u001b[39m                             │"
      ]
     },
     "execution_count": 5,
     "metadata": {},
     "output_type": "execute_result"
    }
   ],
   "source": [
    "df1 = deepcopy(df_ISCN_orig_c1)\n",
    "\n",
    "append!(df1, df_ISCN_orig_c2, promote=true)\n",
    "append!(df1, df_ISCN_orig_c3, promote=true)\n",
    "append!(df1, df_ISCN_orig_c4, promote=true)"
   ]
  },
  {
   "cell_type": "code",
   "execution_count": 6,
   "metadata": {
    "scrolled": false
   },
   "outputs": [
    {
     "data": {
      "text/plain": [
       "tidy_names (generic function with 1 method)"
      ]
     },
     "execution_count": 6,
     "metadata": {},
     "output_type": "execute_result"
    }
   ],
   "source": [
    "function tidy_names(old_names)\n",
    "\n",
    "return new_names = old_names |>\n",
    "    #remove leading and trailing spaces\n",
    "    n -> strip.(n) |>\n",
    "\n",
    "    #replace spaces with underscores\n",
    "    n -> replace.(n, ' ' => '_') |> \n",
    "\n",
    "    #remove parenthesis\n",
    "    n -> replace.(n,'(' => \"\") |> \n",
    "    n -> replace.(n,')' => \"\") |>\n",
    "\n",
    "    #remove dashes and dots\n",
    "    n -> replace.(n,'-' => \"\") |> \n",
    "    n -> replace.(n, '.' => \"\") |>\n",
    "\n",
    "    #all lowercase\n",
    "    n -> lowercase.(n)\n",
    "\n",
    "end"
   ]
  },
  {
   "cell_type": "code",
   "execution_count": 7,
   "metadata": {
    "scrolled": true
   },
   "outputs": [
    {
     "data": {
      "text/html": [
       "<table class=\"data-frame\"><thead><tr><th></th><th>sp_name</th><th>layer_name</th><th>lat_dec_deg</th><th>long_dec_deg</th><th>obs_date_yyyymmdd</th><th>hzn</th><th>hzn_desgn</th><th>layer_top_cm</th><th>layer_bot_cm</th><th>oc_percent</th></tr><tr><th></th><th>String</th><th>String</th><th>Float64</th><th>Float64</th><th>String?</th><th>String</th><th>String?</th><th>Int64</th><th>Int64</th><th>Float64</th></tr></thead><tbody><p>224,203 rows × 10 columns</p><tr><th>1</th><td>NCC 1_NCC 1</td><td>NCC 1.1</td><td>35.051</td><td>-83.4342</td><td>15/07/2009</td><td>?</td><td>unknown</td><td>0</td><td>10</td><td>3.17</td></tr><tr><th>2</th><td>NCC 1_NCC 1</td><td>NCC 1.2</td><td>35.051</td><td>-83.4342</td><td>15/07/2009</td><td>?</td><td>unknown</td><td>10</td><td>30</td><td>1.76</td></tr><tr><th>3</th><td>NCC 1_NCC 1</td><td>NCC 1.3</td><td>35.051</td><td>-83.4342</td><td>15/07/2009</td><td>?</td><td>unknown</td><td>30</td><td>90</td><td>0.89</td></tr><tr><th>4</th><td>NCC 2_NCC 2</td><td>NCC 2.1</td><td>35.0484</td><td>-83.4342</td><td>15/07/2009</td><td>?</td><td>unknown</td><td>0</td><td>10</td><td>3.91</td></tr><tr><th>5</th><td>NCC 2_NCC 2</td><td>NCC 2.2</td><td>35.0484</td><td>-83.4342</td><td>15/07/2009</td><td>?</td><td>unknown</td><td>10</td><td>30</td><td>2.34</td></tr><tr><th>6</th><td>NCC 2_NCC 2</td><td>NCC 2.3</td><td>35.0484</td><td>-83.4342</td><td>15/07/2009</td><td>?</td><td>unknown</td><td>30</td><td>90</td><td>1.7</td></tr><tr><th>7</th><td>NCC 3_NCC 3</td><td>NCC 3.1</td><td>35.0473</td><td>-83.434</td><td>15/07/2009</td><td>?</td><td>unknown</td><td>0</td><td>10</td><td>2.99</td></tr><tr><th>8</th><td>NCC 3_NCC 3</td><td>NCC 3.2</td><td>35.0473</td><td>-83.434</td><td>15/07/2009</td><td>?</td><td>unknown</td><td>10</td><td>30</td><td>1.85</td></tr><tr><th>9</th><td>NCC 3_NCC 3</td><td>NCC 3.3</td><td>35.0473</td><td>-83.434</td><td>15/07/2009</td><td>?</td><td>unknown</td><td>30</td><td>90</td><td>1.22</td></tr><tr><th>10</th><td>NCC 4_NCC 4</td><td>NCC 4.1</td><td>35.0385</td><td>-83.4598</td><td>15/07/2009</td><td>?</td><td>unknown</td><td>0</td><td>10</td><td>2.98</td></tr><tr><th>11</th><td>NCC 4_NCC 4</td><td>NCC 4.2</td><td>35.0385</td><td>-83.4598</td><td>15/07/2009</td><td>?</td><td>unknown</td><td>10</td><td>30</td><td>2.07</td></tr><tr><th>12</th><td>NCC 4_NCC 4</td><td>NCC 4.3</td><td>35.0385</td><td>-83.4598</td><td>15/07/2009</td><td>?</td><td>unknown</td><td>30</td><td>90</td><td>0.86</td></tr><tr><th>13</th><td>NCC 5_NCC 5</td><td>NCC 5.1</td><td>35.031</td><td>-83.4619</td><td>15/07/2009</td><td>?</td><td>unknown</td><td>0</td><td>10</td><td>6.08</td></tr><tr><th>14</th><td>NCC 5_NCC 5</td><td>NCC 5.2</td><td>35.031</td><td>-83.4619</td><td>15/07/2009</td><td>?</td><td>unknown</td><td>10</td><td>30</td><td>5.02</td></tr><tr><th>15</th><td>NCC 5_NCC 5</td><td>NCC 5.3</td><td>35.031</td><td>-83.4619</td><td>15/07/2009</td><td>?</td><td>unknown</td><td>30</td><td>90</td><td>2.0</td></tr><tr><th>16</th><td>NMJ 1_NMJ 1</td><td>NMJ 1.1</td><td>32.5603</td><td>-106.79</td><td>15/01/2010</td><td>A</td><td>A</td><td>0</td><td>2</td><td>5.64</td></tr><tr><th>17</th><td>NMJ 1_NMJ 1</td><td>NMJ 1.2</td><td>32.5603</td><td>-106.79</td><td>15/01/2010</td><td>B</td><td>BK1</td><td>2</td><td>25</td><td>6.03</td></tr><tr><th>18</th><td>NMJ 1_NMJ 1</td><td>NMJ 1.3</td><td>32.5603</td><td>-106.79</td><td>15/01/2010</td><td>B</td><td>BK2</td><td>25</td><td>50</td><td>5.63</td></tr><tr><th>19</th><td>NMJ 2_NMJ 2</td><td>NMJ 2.1</td><td>32.5734</td><td>-106.672</td><td>15/01/2010</td><td>A</td><td>A</td><td>0</td><td>2</td><td>2.93</td></tr><tr><th>20</th><td>NMJ 2_NMJ 2</td><td>NMJ 2.2</td><td>32.5734</td><td>-106.672</td><td>15/01/2010</td><td>B</td><td>BK1</td><td>2</td><td>34</td><td>3.99</td></tr><tr><th>&vellip;</th><td>&vellip;</td><td>&vellip;</td><td>&vellip;</td><td>&vellip;</td><td>&vellip;</td><td>&vellip;</td><td>&vellip;</td><td>&vellip;</td><td>&vellip;</td><td>&vellip;</td></tr></tbody></table>"
      ],
      "text/latex": [
       "\\begin{tabular}{r|cccccccccc}\n",
       "\t& sp\\_name & layer\\_name & lat\\_dec\\_deg & long\\_dec\\_deg & obs\\_date\\_yyyymmdd & hzn & hzn\\_desgn & layer\\_top\\_cm & layer\\_bot\\_cm & oc\\_percent\\\\\n",
       "\t\\hline\n",
       "\t& String & String & Float64 & Float64 & String? & String & String? & Int64 & Int64 & Float64\\\\\n",
       "\t\\hline\n",
       "\t1 & NCC 1\\_NCC 1 & NCC 1.1 & 35.051 & -83.4342 & 15/07/2009 & ? & unknown & 0 & 10 & 3.17 \\\\\n",
       "\t2 & NCC 1\\_NCC 1 & NCC 1.2 & 35.051 & -83.4342 & 15/07/2009 & ? & unknown & 10 & 30 & 1.76 \\\\\n",
       "\t3 & NCC 1\\_NCC 1 & NCC 1.3 & 35.051 & -83.4342 & 15/07/2009 & ? & unknown & 30 & 90 & 0.89 \\\\\n",
       "\t4 & NCC 2\\_NCC 2 & NCC 2.1 & 35.0484 & -83.4342 & 15/07/2009 & ? & unknown & 0 & 10 & 3.91 \\\\\n",
       "\t5 & NCC 2\\_NCC 2 & NCC 2.2 & 35.0484 & -83.4342 & 15/07/2009 & ? & unknown & 10 & 30 & 2.34 \\\\\n",
       "\t6 & NCC 2\\_NCC 2 & NCC 2.3 & 35.0484 & -83.4342 & 15/07/2009 & ? & unknown & 30 & 90 & 1.7 \\\\\n",
       "\t7 & NCC 3\\_NCC 3 & NCC 3.1 & 35.0473 & -83.434 & 15/07/2009 & ? & unknown & 0 & 10 & 2.99 \\\\\n",
       "\t8 & NCC 3\\_NCC 3 & NCC 3.2 & 35.0473 & -83.434 & 15/07/2009 & ? & unknown & 10 & 30 & 1.85 \\\\\n",
       "\t9 & NCC 3\\_NCC 3 & NCC 3.3 & 35.0473 & -83.434 & 15/07/2009 & ? & unknown & 30 & 90 & 1.22 \\\\\n",
       "\t10 & NCC 4\\_NCC 4 & NCC 4.1 & 35.0385 & -83.4598 & 15/07/2009 & ? & unknown & 0 & 10 & 2.98 \\\\\n",
       "\t11 & NCC 4\\_NCC 4 & NCC 4.2 & 35.0385 & -83.4598 & 15/07/2009 & ? & unknown & 10 & 30 & 2.07 \\\\\n",
       "\t12 & NCC 4\\_NCC 4 & NCC 4.3 & 35.0385 & -83.4598 & 15/07/2009 & ? & unknown & 30 & 90 & 0.86 \\\\\n",
       "\t13 & NCC 5\\_NCC 5 & NCC 5.1 & 35.031 & -83.4619 & 15/07/2009 & ? & unknown & 0 & 10 & 6.08 \\\\\n",
       "\t14 & NCC 5\\_NCC 5 & NCC 5.2 & 35.031 & -83.4619 & 15/07/2009 & ? & unknown & 10 & 30 & 5.02 \\\\\n",
       "\t15 & NCC 5\\_NCC 5 & NCC 5.3 & 35.031 & -83.4619 & 15/07/2009 & ? & unknown & 30 & 90 & 2.0 \\\\\n",
       "\t16 & NMJ 1\\_NMJ 1 & NMJ 1.1 & 32.5603 & -106.79 & 15/01/2010 & A & A & 0 & 2 & 5.64 \\\\\n",
       "\t17 & NMJ 1\\_NMJ 1 & NMJ 1.2 & 32.5603 & -106.79 & 15/01/2010 & B & BK1 & 2 & 25 & 6.03 \\\\\n",
       "\t18 & NMJ 1\\_NMJ 1 & NMJ 1.3 & 32.5603 & -106.79 & 15/01/2010 & B & BK2 & 25 & 50 & 5.63 \\\\\n",
       "\t19 & NMJ 2\\_NMJ 2 & NMJ 2.1 & 32.5734 & -106.672 & 15/01/2010 & A & A & 0 & 2 & 2.93 \\\\\n",
       "\t20 & NMJ 2\\_NMJ 2 & NMJ 2.2 & 32.5734 & -106.672 & 15/01/2010 & B & BK1 & 2 & 34 & 3.99 \\\\\n",
       "\t$\\dots$ & $\\dots$ & $\\dots$ & $\\dots$ & $\\dots$ & $\\dots$ & $\\dots$ & $\\dots$ & $\\dots$ & $\\dots$ & $\\dots$ \\\\\n",
       "\\end{tabular}\n"
      ],
      "text/plain": [
       "224203×10 DataFrame\n",
       "│ Row    │ sp_name       │ layer_name │ lat_dec_deg │ long_dec_deg │ obs_date_yyyymmdd │ hzn    │ hzn_desgn │ layer_top_cm │ layer_bot_cm │ oc_percent │\n",
       "│        │ \u001b[90mString\u001b[39m        │ \u001b[90mString\u001b[39m     │ \u001b[90mFloat64\u001b[39m     │ \u001b[90mFloat64\u001b[39m      │ \u001b[90mString?\u001b[39m           │ \u001b[90mString\u001b[39m │ \u001b[90mString?\u001b[39m   │ \u001b[90mInt64\u001b[39m        │ \u001b[90mInt64\u001b[39m        │ \u001b[90mFloat64\u001b[39m    │\n",
       "├────────┼───────────────┼────────────┼─────────────┼──────────────┼───────────────────┼────────┼───────────┼──────────────┼──────────────┼────────────┤\n",
       "│ 1      │ NCC 1_NCC 1   │ NCC 1.1    │ 35.051      │ -83.4342     │ 15/07/2009        │ ?      │ unknown   │ 0            │ 10           │ 3.17       │\n",
       "│ 2      │ NCC 1_NCC 1   │ NCC 1.2    │ 35.051      │ -83.4342     │ 15/07/2009        │ ?      │ unknown   │ 10           │ 30           │ 1.76       │\n",
       "│ 3      │ NCC 1_NCC 1   │ NCC 1.3    │ 35.051      │ -83.4342     │ 15/07/2009        │ ?      │ unknown   │ 30           │ 90           │ 0.89       │\n",
       "│ 4      │ NCC 2_NCC 2   │ NCC 2.1    │ 35.0484     │ -83.4342     │ 15/07/2009        │ ?      │ unknown   │ 0            │ 10           │ 3.91       │\n",
       "│ 5      │ NCC 2_NCC 2   │ NCC 2.2    │ 35.0484     │ -83.4342     │ 15/07/2009        │ ?      │ unknown   │ 10           │ 30           │ 2.34       │\n",
       "⋮\n",
       "│ 224198 │ UM34 NW_81034 │ 81034,5    │ 60.7833     │ -115.783     │ 1968              │ ?      │ unknown   │ 43           │ 51           │ 0.81       │\n",
       "│ 224199 │ UM36 NW_81036 │ 81036,2    │ 60.8167     │ -115.783     │ 1968              │ ?      │ unknown   │ 0            │ 8            │ 5.34       │\n",
       "│ 224200 │ UM36 NW_81036 │ 81036,3    │ 60.8167     │ -115.783     │ 1968              │ ?      │ unknown   │ 8            │ 13           │ 3.31       │\n",
       "│ 224201 │ UM36 NW_81036 │ 81036,4    │ 60.8167     │ -115.783     │ 1968              │ ?      │ unknown   │ 13           │ 20           │ 4.47       │\n",
       "│ 224202 │ UM36 NW_81036 │ 81036,5    │ 60.8167     │ -115.783     │ 1968              │ ?      │ unknown   │ 20           │ 33           │ 3.54       │\n",
       "│ 224203 │ UM36 NW_81036 │ 81036,6    │ 60.8167     │ -115.783     │ 1968              │ ?      │ unknown   │ 33           │ 46           │ 1.74       │"
      ]
     },
     "execution_count": 7,
     "metadata": {},
     "output_type": "execute_result"
    }
   ],
   "source": [
    "#copy of merged dataset and tidied up column names\n",
    "df_ISCN_layers = deepcopy(df1)\n",
    "\n",
    "rename!(df_ISCN_layers, names(df_ISCN_layers) .=> tidy_names(names(df_ISCN_layers)))\n",
    "\n",
    "#define new column that has unique key, site_name_profile_name\n",
    "df_ISCN_layers.sp_name = [(row.site_name * \"_\" * row.profile_name) for row in eachrow(df_ISCN_layers)]\n",
    "\n",
    "df_ISCN_layers = df_ISCN_layers |>\n",
    "\n",
    "#pick relevant columns\n",
    "@select(:sp_name,:layer_name,:lat_dec_deg,:long_dec_deg,\n",
    "        :observation_date_yyyymmdd,:hzn,:hzn_desgn,:layer_top_cm,:layer_bot_cm,:oc_percent) |>\n",
    "\n",
    "#remove layers with missing info\n",
    "@dropna(:layer_top_cm,:layer_bot_cm,:oc_percent) |>\n",
    "\n",
    "#parse oc_percent values and keep only non-negative ones\n",
    "@mutate(oc_percent = replace(_.oc_percent,','=>'.')) |>\n",
    "@mutate(oc_percent = parse(Float64, _.oc_percent)) |>\n",
    "@filter(_.oc_percent >= 0) |>\n",
    "\n",
    "#some layer_top values are wrongly represented as \"30/01/1900 0:00\" instead of 30\n",
    "#these values (strings) are longer than 4 chars, keep only first two\n",
    "@mutate(layer_top_cm = if length(_.layer_top_cm) > 4; _.layer_top_cm[1:2]; else _.layer_top_cm; end) |>\n",
    "\n",
    "\n",
    "#parsing layer_top_cm to Int and keeping  profiles with depths < 1000cm\n",
    "#if the value is a string, parse it to Int - otherwise leave it as-is\n",
    "@mutate(layer_top_cm = isa(_.layer_top_cm, String) ? parse(Int, _.layer_top_cm) : _.layer_top_cm) |>\n",
    "@filter(_.layer_top_cm < 1000) |>\n",
    "\n",
    "\n",
    "#keep layers for which top < bot\n",
    "@filter(_.layer_top_cm < _.layer_bot_cm) |>\n",
    "\n",
    "#parse latitude values, after dropping missing ones\n",
    "@dropna(:lat_dec_deg) |>\n",
    "@mutate(lat_dec_deg = replace(_.lat_dec_deg,','=>'.')) |>\n",
    "@mutate(lat_dec_deg = parse(Float64, _.lat_dec_deg)) |>\n",
    "\n",
    "#parse longitude values, after dropping missing ones\n",
    "@dropna(:long_dec_deg) |>\n",
    "@mutate(long_dec_deg = replace(_.long_dec_deg,','=>'.')) |>\n",
    "@mutate(long_dec_deg = parse(Float64, _.long_dec_deg)) |>\n",
    "\n",
    "@rename(:observation_date_yyyymmdd => :obs_date_yyyymmdd) |> \n",
    "\n",
    "#keep only unique layers\n",
    "@unique() |>\n",
    "\n",
    "\n",
    "DataFrame\n"
   ]
  },
  {
   "cell_type": "code",
   "execution_count": 8,
   "metadata": {
    "scrolled": false
   },
   "outputs": [
    {
     "data": {
      "text/plain": [
       "continuity_check (generic function with 1 method)"
      ]
     },
     "execution_count": 8,
     "metadata": {},
     "output_type": "execute_result"
    }
   ],
   "source": [
    "function continuity_check(profile) \n",
    "    #the function assumes layers are ordered (e.g.  0 -> 20 -> 40)\n",
    "\n",
    "    top = profile.layer_top_cm\n",
    "    bot = profile.layer_bot_cm\n",
    "\n",
    "    num_layers = length(top)\n",
    "\n",
    "    #1st layer is always good\n",
    "    mask = [true]\n",
    "\n",
    "    #from 2nd layer downward, we check for matching depths at bot/top\n",
    "    mask = append!(mask, [top[l] == bot[l-1] for l in 2:num_layers])\n",
    "\n",
    "    #if we run into a non-matching layer, we mark as 'false' all following ones\n",
    "    first_noMatch_id = findfirst(!, mask)\n",
    "\n",
    "    if !isnothing(first_noMatch_id) #true if a non-contiguous layer has been found\n",
    "        mask[first_noMatch_id:end] .= false\n",
    "    end\n",
    "\n",
    "    return mask\t\n",
    "end"
   ]
  },
  {
   "cell_type": "code",
   "execution_count": 9,
   "metadata": {
    "scrolled": false
   },
   "outputs": [
    {
     "data": {
      "text/plain": [
       "continuity_check_df (generic function with 1 method)"
      ]
     },
     "execution_count": 9,
     "metadata": {},
     "output_type": "execute_result"
    }
   ],
   "source": [
    "function continuity_check_df(df)\n",
    "#generate continuity mask for the whole dataframe\n",
    "layers_keep = Bool[]\n",
    "\n",
    "for profile in unique(df.sp_name)\n",
    "\n",
    "    append!(layers_keep,continuity_check(df[df.sp_name.==profile,:]))\n",
    "\n",
    "end\n",
    "\n",
    "return layers_keep\n",
    "\n",
    "end"
   ]
  },
  {
   "cell_type": "markdown",
   "metadata": {},
   "source": [
    "#### DataFrame with only continuous profiles:"
   ]
  },
  {
   "cell_type": "code",
   "execution_count": 10,
   "metadata": {
    "scrolled": true
   },
   "outputs": [
    {
     "data": {
      "text/html": [
       "<table class=\"data-frame\"><thead><tr><th></th><th>sp_name</th><th>layer_name</th><th>lat_dec_deg</th><th>long_dec_deg</th><th>obs_date_yyyymmdd</th><th>hzn</th><th>hzn_desgn</th><th>layer_top_cm</th><th>layer_bot_cm</th><th>oc_percent</th></tr><tr><th></th><th>String</th><th>String</th><th>Float64</th><th>Float64</th><th>String?</th><th>String</th><th>String?</th><th>Int64</th><th>Int64</th><th>Float64</th></tr></thead><tbody><p>213,317 rows × 10 columns</p><tr><th>1</th><td>NCC 1_NCC 1</td><td>NCC 1.1</td><td>35.051</td><td>-83.4342</td><td>15/07/2009</td><td>?</td><td>unknown</td><td>0</td><td>10</td><td>3.17</td></tr><tr><th>2</th><td>NCC 1_NCC 1</td><td>NCC 1.2</td><td>35.051</td><td>-83.4342</td><td>15/07/2009</td><td>?</td><td>unknown</td><td>10</td><td>30</td><td>1.76</td></tr><tr><th>3</th><td>NCC 1_NCC 1</td><td>NCC 1.3</td><td>35.051</td><td>-83.4342</td><td>15/07/2009</td><td>?</td><td>unknown</td><td>30</td><td>90</td><td>0.89</td></tr><tr><th>4</th><td>NCC 2_NCC 2</td><td>NCC 2.1</td><td>35.0484</td><td>-83.4342</td><td>15/07/2009</td><td>?</td><td>unknown</td><td>0</td><td>10</td><td>3.91</td></tr><tr><th>5</th><td>NCC 2_NCC 2</td><td>NCC 2.2</td><td>35.0484</td><td>-83.4342</td><td>15/07/2009</td><td>?</td><td>unknown</td><td>10</td><td>30</td><td>2.34</td></tr><tr><th>6</th><td>NCC 2_NCC 2</td><td>NCC 2.3</td><td>35.0484</td><td>-83.4342</td><td>15/07/2009</td><td>?</td><td>unknown</td><td>30</td><td>90</td><td>1.7</td></tr><tr><th>7</th><td>NCC 3_NCC 3</td><td>NCC 3.1</td><td>35.0473</td><td>-83.434</td><td>15/07/2009</td><td>?</td><td>unknown</td><td>0</td><td>10</td><td>2.99</td></tr><tr><th>8</th><td>NCC 3_NCC 3</td><td>NCC 3.2</td><td>35.0473</td><td>-83.434</td><td>15/07/2009</td><td>?</td><td>unknown</td><td>10</td><td>30</td><td>1.85</td></tr><tr><th>9</th><td>NCC 3_NCC 3</td><td>NCC 3.3</td><td>35.0473</td><td>-83.434</td><td>15/07/2009</td><td>?</td><td>unknown</td><td>30</td><td>90</td><td>1.22</td></tr><tr><th>10</th><td>NCC 4_NCC 4</td><td>NCC 4.1</td><td>35.0385</td><td>-83.4598</td><td>15/07/2009</td><td>?</td><td>unknown</td><td>0</td><td>10</td><td>2.98</td></tr><tr><th>11</th><td>NCC 4_NCC 4</td><td>NCC 4.2</td><td>35.0385</td><td>-83.4598</td><td>15/07/2009</td><td>?</td><td>unknown</td><td>10</td><td>30</td><td>2.07</td></tr><tr><th>12</th><td>NCC 4_NCC 4</td><td>NCC 4.3</td><td>35.0385</td><td>-83.4598</td><td>15/07/2009</td><td>?</td><td>unknown</td><td>30</td><td>90</td><td>0.86</td></tr><tr><th>13</th><td>NCC 5_NCC 5</td><td>NCC 5.1</td><td>35.031</td><td>-83.4619</td><td>15/07/2009</td><td>?</td><td>unknown</td><td>0</td><td>10</td><td>6.08</td></tr><tr><th>14</th><td>NCC 5_NCC 5</td><td>NCC 5.2</td><td>35.031</td><td>-83.4619</td><td>15/07/2009</td><td>?</td><td>unknown</td><td>10</td><td>30</td><td>5.02</td></tr><tr><th>15</th><td>NCC 5_NCC 5</td><td>NCC 5.3</td><td>35.031</td><td>-83.4619</td><td>15/07/2009</td><td>?</td><td>unknown</td><td>30</td><td>90</td><td>2.0</td></tr><tr><th>16</th><td>NMJ 1_NMJ 1</td><td>NMJ 1.1</td><td>32.5603</td><td>-106.79</td><td>15/01/2010</td><td>A</td><td>A</td><td>0</td><td>2</td><td>5.64</td></tr><tr><th>17</th><td>NMJ 1_NMJ 1</td><td>NMJ 1.2</td><td>32.5603</td><td>-106.79</td><td>15/01/2010</td><td>B</td><td>BK1</td><td>2</td><td>25</td><td>6.03</td></tr><tr><th>18</th><td>NMJ 1_NMJ 1</td><td>NMJ 1.3</td><td>32.5603</td><td>-106.79</td><td>15/01/2010</td><td>B</td><td>BK2</td><td>25</td><td>50</td><td>5.63</td></tr><tr><th>19</th><td>NMJ 2_NMJ 2</td><td>NMJ 2.1</td><td>32.5734</td><td>-106.672</td><td>15/01/2010</td><td>A</td><td>A</td><td>0</td><td>2</td><td>2.93</td></tr><tr><th>20</th><td>NMJ 2_NMJ 2</td><td>NMJ 2.2</td><td>32.5734</td><td>-106.672</td><td>15/01/2010</td><td>B</td><td>BK1</td><td>2</td><td>34</td><td>3.99</td></tr><tr><th>&vellip;</th><td>&vellip;</td><td>&vellip;</td><td>&vellip;</td><td>&vellip;</td><td>&vellip;</td><td>&vellip;</td><td>&vellip;</td><td>&vellip;</td><td>&vellip;</td><td>&vellip;</td></tr></tbody></table>"
      ],
      "text/latex": [
       "\\begin{tabular}{r|cccccccccc}\n",
       "\t& sp\\_name & layer\\_name & lat\\_dec\\_deg & long\\_dec\\_deg & obs\\_date\\_yyyymmdd & hzn & hzn\\_desgn & layer\\_top\\_cm & layer\\_bot\\_cm & oc\\_percent\\\\\n",
       "\t\\hline\n",
       "\t& String & String & Float64 & Float64 & String? & String & String? & Int64 & Int64 & Float64\\\\\n",
       "\t\\hline\n",
       "\t1 & NCC 1\\_NCC 1 & NCC 1.1 & 35.051 & -83.4342 & 15/07/2009 & ? & unknown & 0 & 10 & 3.17 \\\\\n",
       "\t2 & NCC 1\\_NCC 1 & NCC 1.2 & 35.051 & -83.4342 & 15/07/2009 & ? & unknown & 10 & 30 & 1.76 \\\\\n",
       "\t3 & NCC 1\\_NCC 1 & NCC 1.3 & 35.051 & -83.4342 & 15/07/2009 & ? & unknown & 30 & 90 & 0.89 \\\\\n",
       "\t4 & NCC 2\\_NCC 2 & NCC 2.1 & 35.0484 & -83.4342 & 15/07/2009 & ? & unknown & 0 & 10 & 3.91 \\\\\n",
       "\t5 & NCC 2\\_NCC 2 & NCC 2.2 & 35.0484 & -83.4342 & 15/07/2009 & ? & unknown & 10 & 30 & 2.34 \\\\\n",
       "\t6 & NCC 2\\_NCC 2 & NCC 2.3 & 35.0484 & -83.4342 & 15/07/2009 & ? & unknown & 30 & 90 & 1.7 \\\\\n",
       "\t7 & NCC 3\\_NCC 3 & NCC 3.1 & 35.0473 & -83.434 & 15/07/2009 & ? & unknown & 0 & 10 & 2.99 \\\\\n",
       "\t8 & NCC 3\\_NCC 3 & NCC 3.2 & 35.0473 & -83.434 & 15/07/2009 & ? & unknown & 10 & 30 & 1.85 \\\\\n",
       "\t9 & NCC 3\\_NCC 3 & NCC 3.3 & 35.0473 & -83.434 & 15/07/2009 & ? & unknown & 30 & 90 & 1.22 \\\\\n",
       "\t10 & NCC 4\\_NCC 4 & NCC 4.1 & 35.0385 & -83.4598 & 15/07/2009 & ? & unknown & 0 & 10 & 2.98 \\\\\n",
       "\t11 & NCC 4\\_NCC 4 & NCC 4.2 & 35.0385 & -83.4598 & 15/07/2009 & ? & unknown & 10 & 30 & 2.07 \\\\\n",
       "\t12 & NCC 4\\_NCC 4 & NCC 4.3 & 35.0385 & -83.4598 & 15/07/2009 & ? & unknown & 30 & 90 & 0.86 \\\\\n",
       "\t13 & NCC 5\\_NCC 5 & NCC 5.1 & 35.031 & -83.4619 & 15/07/2009 & ? & unknown & 0 & 10 & 6.08 \\\\\n",
       "\t14 & NCC 5\\_NCC 5 & NCC 5.2 & 35.031 & -83.4619 & 15/07/2009 & ? & unknown & 10 & 30 & 5.02 \\\\\n",
       "\t15 & NCC 5\\_NCC 5 & NCC 5.3 & 35.031 & -83.4619 & 15/07/2009 & ? & unknown & 30 & 90 & 2.0 \\\\\n",
       "\t16 & NMJ 1\\_NMJ 1 & NMJ 1.1 & 32.5603 & -106.79 & 15/01/2010 & A & A & 0 & 2 & 5.64 \\\\\n",
       "\t17 & NMJ 1\\_NMJ 1 & NMJ 1.2 & 32.5603 & -106.79 & 15/01/2010 & B & BK1 & 2 & 25 & 6.03 \\\\\n",
       "\t18 & NMJ 1\\_NMJ 1 & NMJ 1.3 & 32.5603 & -106.79 & 15/01/2010 & B & BK2 & 25 & 50 & 5.63 \\\\\n",
       "\t19 & NMJ 2\\_NMJ 2 & NMJ 2.1 & 32.5734 & -106.672 & 15/01/2010 & A & A & 0 & 2 & 2.93 \\\\\n",
       "\t20 & NMJ 2\\_NMJ 2 & NMJ 2.2 & 32.5734 & -106.672 & 15/01/2010 & B & BK1 & 2 & 34 & 3.99 \\\\\n",
       "\t$\\dots$ & $\\dots$ & $\\dots$ & $\\dots$ & $\\dots$ & $\\dots$ & $\\dots$ & $\\dots$ & $\\dots$ & $\\dots$ & $\\dots$ \\\\\n",
       "\\end{tabular}\n"
      ],
      "text/plain": [
       "213317×10 DataFrame\n",
       "│ Row    │ sp_name       │ layer_name │ lat_dec_deg │ long_dec_deg │ obs_date_yyyymmdd │ hzn    │ hzn_desgn │ layer_top_cm │ layer_bot_cm │ oc_percent │\n",
       "│        │ \u001b[90mString\u001b[39m        │ \u001b[90mString\u001b[39m     │ \u001b[90mFloat64\u001b[39m     │ \u001b[90mFloat64\u001b[39m      │ \u001b[90mString?\u001b[39m           │ \u001b[90mString\u001b[39m │ \u001b[90mString?\u001b[39m   │ \u001b[90mInt64\u001b[39m        │ \u001b[90mInt64\u001b[39m        │ \u001b[90mFloat64\u001b[39m    │\n",
       "├────────┼───────────────┼────────────┼─────────────┼──────────────┼───────────────────┼────────┼───────────┼──────────────┼──────────────┼────────────┤\n",
       "│ 1      │ NCC 1_NCC 1   │ NCC 1.1    │ 35.051      │ -83.4342     │ 15/07/2009        │ ?      │ unknown   │ 0            │ 10           │ 3.17       │\n",
       "│ 2      │ NCC 1_NCC 1   │ NCC 1.2    │ 35.051      │ -83.4342     │ 15/07/2009        │ ?      │ unknown   │ 10           │ 30           │ 1.76       │\n",
       "│ 3      │ NCC 1_NCC 1   │ NCC 1.3    │ 35.051      │ -83.4342     │ 15/07/2009        │ ?      │ unknown   │ 30           │ 90           │ 0.89       │\n",
       "│ 4      │ NCC 2_NCC 2   │ NCC 2.1    │ 35.0484     │ -83.4342     │ 15/07/2009        │ ?      │ unknown   │ 0            │ 10           │ 3.91       │\n",
       "│ 5      │ NCC 2_NCC 2   │ NCC 2.2    │ 35.0484     │ -83.4342     │ 15/07/2009        │ ?      │ unknown   │ 10           │ 30           │ 2.34       │\n",
       "⋮\n",
       "│ 213312 │ UM34 NW_81034 │ 81034,2    │ 60.7833     │ -115.783     │ 1968              │ ?      │ unknown   │ 0            │ 10           │ 0.81       │\n",
       "│ 213313 │ UM36 NW_81036 │ 81036,2    │ 60.8167     │ -115.783     │ 1968              │ ?      │ unknown   │ 0            │ 8            │ 5.34       │\n",
       "│ 213314 │ UM36 NW_81036 │ 81036,3    │ 60.8167     │ -115.783     │ 1968              │ ?      │ unknown   │ 8            │ 13           │ 3.31       │\n",
       "│ 213315 │ UM36 NW_81036 │ 81036,4    │ 60.8167     │ -115.783     │ 1968              │ ?      │ unknown   │ 13           │ 20           │ 4.47       │\n",
       "│ 213316 │ UM36 NW_81036 │ 81036,5    │ 60.8167     │ -115.783     │ 1968              │ ?      │ unknown   │ 20           │ 33           │ 3.54       │\n",
       "│ 213317 │ UM36 NW_81036 │ 81036,6    │ 60.8167     │ -115.783     │ 1968              │ ?      │ unknown   │ 33           │ 46           │ 1.74       │"
      ]
     },
     "execution_count": 10,
     "metadata": {},
     "output_type": "execute_result"
    }
   ],
   "source": [
    "df_ISCN_cont = df_ISCN_layers[continuity_check_df(df_ISCN_layers),:] "
   ]
  },
  {
   "cell_type": "markdown",
   "metadata": {},
   "source": [
    "#### Importing BD values is necessary before inferring layer designation:"
   ]
  },
  {
   "cell_type": "code",
   "execution_count": 11,
   "metadata": {
    "scrolled": true
   },
   "outputs": [
    {
     "name": "stderr",
     "output_type": "stream",
     "text": [
      "┌ Warning: thread = 1 warning: only found 26 / 27 columns around data row: 434583. Filling remaining columns with `missing`\n",
      "└ @ CSV /Users/Daniele/.julia/packages/CSV/la2cd/src/file.jl:603\n"
     ]
    },
    {
     "data": {
      "text/html": [
       "<table class=\"data-frame\"><thead><tr><th></th><th>dataset_name</th><th>site_name</th><th>profile_name</th><th>layer_name</th><th>layer_top</th><th>layer_bot</th><th>hzn_desgn</th><th>c_method</th><th>bd_method</th><th>bd_pred_1</th><th>bd_pred_2</th><th>bd_samp</th><th>bd_tot</th><th>bd_whole</th><th>bd_other</th><th>bdNRCS_prep_code</th><th>sand_tot_psa</th><th>silt_tot_psa</th><th>clay_tot_psa</th><th>wpg2_method</th><th>wpg2</th><th>soc</th><th>soc_sigma</th><th>soc_method</th><th>c_tot</th><th>oc</th><th>cNRCS_prep_code</th></tr><tr><th></th><th>String</th><th>String</th><th>String</th><th>String</th><th>String</th><th>String</th><th>String?</th><th>String?</th><th>String?</th><th>String</th><th>String</th><th>String</th><th>String</th><th>String</th><th>String</th><th>String?</th><th>String</th><th>String</th><th>String</th><th>String?</th><th>String</th><th>String</th><th>String</th><th>String</th><th>String</th><th>String</th><th>String?</th></tr></thead><tbody><p>434,582 rows × 27 columns</p><tr><th>1</th><td>Boby_Mack</td><td>BF-61</td><td>BF-61-1</td><td>BF61-1-F</td><td>0</td><td>4</td><td>unknown</td><td><em>missing</em></td><td><em>missing</em></td><td>1,14</td><td>0,73</td><td>0,04</td><td>NA</td><td>NA</td><td>NA</td><td><em>missing</em></td><td>NA</td><td>NA</td><td>NA</td><td><em>missing</em></td><td>NA</td><td>NA</td><td>NA</td><td>NA</td><td>44,62</td><td>NA</td><td><em>missing</em></td></tr><tr><th>2</th><td>Boby_Mack</td><td>BF-61</td><td>BF-61-1</td><td>BF61-1-H</td><td>4</td><td>6</td><td>unknown</td><td><em>missing</em></td><td><em>missing</em></td><td>1,14</td><td>0,74</td><td>0,12</td><td>NA</td><td>NA</td><td>NA</td><td><em>missing</em></td><td>NA</td><td>NA</td><td>NA</td><td><em>missing</em></td><td>NA</td><td>NA</td><td>NA</td><td>NA</td><td>30,21</td><td>NA</td><td><em>missing</em></td></tr><tr><th>3</th><td>Boby_Mack</td><td>BF-61</td><td>BF-61-1</td><td>BF61-1-M1</td><td>6</td><td>11</td><td>unknown</td><td><em>missing</em></td><td><em>missing</em></td><td>1,27</td><td>1,03</td><td>1,15</td><td>NA</td><td>NA</td><td>NA</td><td><em>missing</em></td><td>NA</td><td>NA</td><td>NA</td><td><em>missing</em></td><td>NA</td><td>NA</td><td>NA</td><td>NA</td><td>5,32</td><td>NA</td><td><em>missing</em></td></tr><tr><th>4</th><td>Boby_Mack</td><td>BF-61</td><td>BF-61-1</td><td>BF61-1-M2</td><td>11</td><td>16</td><td>unknown</td><td><em>missing</em></td><td><em>missing</em></td><td>1,31</td><td>1,13</td><td>1,12</td><td>NA</td><td>NA</td><td>NA</td><td><em>missing</em></td><td>NA</td><td>NA</td><td>NA</td><td><em>missing</em></td><td>NA</td><td>NA</td><td>NA</td><td>NA</td><td>3,88</td><td>NA</td><td><em>missing</em></td></tr><tr><th>5</th><td>Boby_Mack</td><td>BF-61</td><td>BF-61-2</td><td>BF61-2-DM</td><td>0</td><td>5</td><td>o</td><td><em>missing</em></td><td><em>missing</em></td><td>0,56</td><td>0,36</td><td>0,01</td><td>NA</td><td>NA</td><td>NA</td><td><em>missing</em></td><td>NA</td><td>NA</td><td>NA</td><td><em>missing</em></td><td>NA</td><td>NA</td><td>NA</td><td>NA</td><td>45,53</td><td>NA</td><td><em>missing</em></td></tr><tr><th>6</th><td>Boby_Mack</td><td>BF-61</td><td>BF-61-2</td><td>BF61-2-F</td><td>5</td><td>19</td><td>unknown</td><td><em>missing</em></td><td><em>missing</em></td><td>1,34</td><td>0,67</td><td>0,09</td><td>NA</td><td>NA</td><td>NA</td><td><em>missing</em></td><td>NA</td><td>NA</td><td>NA</td><td><em>missing</em></td><td>NA</td><td>NA</td><td>NA</td><td>NA</td><td>48,79</td><td>NA</td><td><em>missing</em></td></tr><tr><th>7</th><td>Boby_Mack</td><td>BF-61</td><td>BF-61-2</td><td>BF61-2-H</td><td>19</td><td>22</td><td>unknown</td><td><em>missing</em></td><td><em>missing</em></td><td>1,29</td><td>0,77</td><td>0,48</td><td>NA</td><td>NA</td><td>NA</td><td><em>missing</em></td><td>NA</td><td>NA</td><td>NA</td><td><em>missing</em></td><td>NA</td><td>NA</td><td>NA</td><td>NA</td><td>19,17</td><td>NA</td><td><em>missing</em></td></tr><tr><th>8</th><td>Boby_Mack</td><td>BF-61</td><td>BF-61-2</td><td>BF61-2-H:354</td><td>22</td><td>25</td><td>unknown</td><td><em>missing</em></td><td><em>missing</em></td><td>1,28</td><td>0,67</td><td>0,12</td><td>NA</td><td>NA</td><td>NA</td><td><em>missing</em></td><td>NA</td><td>NA</td><td>NA</td><td><em>missing</em></td><td>NA</td><td>NA</td><td>NA</td><td>NA</td><td>44,01</td><td>NA</td><td><em>missing</em></td></tr><tr><th>9</th><td>Boby_Mack</td><td>BF-61</td><td>BF-61-2</td><td>BF61-2-M1</td><td>25</td><td>30</td><td>unknown</td><td><em>missing</em></td><td><em>missing</em></td><td>1,31</td><td>0,96</td><td>1,04</td><td>NA</td><td>NA</td><td>NA</td><td><em>missing</em></td><td>NA</td><td>NA</td><td>NA</td><td><em>missing</em></td><td>NA</td><td>NA</td><td>NA</td><td>NA</td><td>5,65</td><td>NA</td><td><em>missing</em></td></tr><tr><th>10</th><td>Boby_Mack</td><td>BF-61</td><td>BF-61-2</td><td>BF61-2-M2</td><td>30</td><td>35</td><td>unknown</td><td><em>missing</em></td><td><em>missing</em></td><td>1,31</td><td>1,01</td><td>0,93</td><td>NA</td><td>NA</td><td>NA</td><td><em>missing</em></td><td>NA</td><td>NA</td><td>NA</td><td><em>missing</em></td><td>NA</td><td>NA</td><td>NA</td><td>NA</td><td>4,93</td><td>NA</td><td><em>missing</em></td></tr><tr><th>11</th><td>Boby_Mack</td><td>BF-61</td><td>BF-61-3</td><td>BF61-3-DM</td><td>0</td><td>4</td><td>o</td><td><em>missing</em></td><td><em>missing</em></td><td>0,52</td><td>0,35</td><td>0,04</td><td>NA</td><td>NA</td><td>NA</td><td><em>missing</em></td><td>NA</td><td>NA</td><td>NA</td><td><em>missing</em></td><td>NA</td><td>NA</td><td>NA</td><td>NA</td><td>43,8</td><td>NA</td><td><em>missing</em></td></tr><tr><th>12</th><td>Boby_Mack</td><td>BF-61</td><td>BF-61-3</td><td>BF61-3-F</td><td>4</td><td>9</td><td>unknown</td><td><em>missing</em></td><td><em>missing</em></td><td>1,22</td><td>0,70</td><td>0,03</td><td>NA</td><td>NA</td><td>NA</td><td><em>missing</em></td><td>NA</td><td>NA</td><td>NA</td><td><em>missing</em></td><td>NA</td><td>NA</td><td>NA</td><td>NA</td><td>51,06</td><td>NA</td><td><em>missing</em></td></tr><tr><th>13</th><td>Boby_Mack</td><td>BF-61</td><td>BF-61-3</td><td>BF61-3-H</td><td>9</td><td>14</td><td>unknown</td><td><em>missing</em></td><td><em>missing</em></td><td>1,30</td><td>0,71</td><td>0,15</td><td>NA</td><td>NA</td><td>NA</td><td><em>missing</em></td><td>NA</td><td>NA</td><td>NA</td><td><em>missing</em></td><td>NA</td><td>NA</td><td>NA</td><td>NA</td><td>35,02</td><td>NA</td><td><em>missing</em></td></tr><tr><th>14</th><td>Boby_Mack</td><td>BF-61</td><td>BF-61-3</td><td>BF61-3-M1</td><td>14</td><td>19</td><td>unknown</td><td><em>missing</em></td><td><em>missing</em></td><td>1,33</td><td>0,92</td><td>0,64</td><td>NA</td><td>NA</td><td>NA</td><td><em>missing</em></td><td>NA</td><td>NA</td><td>NA</td><td><em>missing</em></td><td>NA</td><td>NA</td><td>NA</td><td>NA</td><td>8,03</td><td>NA</td><td><em>missing</em></td></tr><tr><th>15</th><td>Boby_Mack</td><td>BF-61</td><td>BF-61-3</td><td>BF61-3-M2</td><td>19</td><td>24</td><td>unknown</td><td><em>missing</em></td><td><em>missing</em></td><td>1,32</td><td>1,08</td><td>1,25</td><td>NA</td><td>NA</td><td>NA</td><td><em>missing</em></td><td>NA</td><td>NA</td><td>NA</td><td><em>missing</em></td><td>NA</td><td>NA</td><td>NA</td><td>NA</td><td>4,52</td><td>NA</td><td><em>missing</em></td></tr><tr><th>16</th><td>Boby_Mack</td><td>BF-61</td><td>BF-61-4</td><td>BF61-4-F</td><td>0</td><td>28</td><td>unknown</td><td><em>missing</em></td><td><em>missing</em></td><td>1,33</td><td>0,68</td><td>0,04</td><td>NA</td><td>NA</td><td>NA</td><td><em>missing</em></td><td>NA</td><td>NA</td><td>NA</td><td><em>missing</em></td><td>NA</td><td>NA</td><td>NA</td><td>NA</td><td>43,25</td><td>NA</td><td><em>missing</em></td></tr><tr><th>17</th><td>Boby_Mack</td><td>BF-61</td><td>BF-61-4</td><td>BF61-4-H</td><td>28</td><td>34</td><td>unknown</td><td><em>missing</em></td><td><em>missing</em></td><td>1,31</td><td>0,68</td><td>0,15</td><td>NA</td><td>NA</td><td>NA</td><td><em>missing</em></td><td>NA</td><td>NA</td><td>NA</td><td><em>missing</em></td><td>NA</td><td>NA</td><td>NA</td><td>NA</td><td>33,71</td><td>NA</td><td><em>missing</em></td></tr><tr><th>18</th><td>Boby_Mack</td><td>BF-61</td><td>BF-61-4</td><td>BF61-4-M1</td><td>34</td><td>39</td><td>unknown</td><td><em>missing</em></td><td><em>missing</em></td><td>1,32</td><td>0,91</td><td>0,84</td><td>NA</td><td>NA</td><td>NA</td><td><em>missing</em></td><td>NA</td><td>NA</td><td>NA</td><td><em>missing</em></td><td>NA</td><td>NA</td><td>NA</td><td>NA</td><td>8,17</td><td>NA</td><td><em>missing</em></td></tr><tr><th>19</th><td>Boby_Mack</td><td>BF-61</td><td>BF-61-4</td><td>BF61-4-M2</td><td>39</td><td>44</td><td>unknown</td><td><em>missing</em></td><td><em>missing</em></td><td>1,32</td><td>1,02</td><td>0,78</td><td>NA</td><td>NA</td><td>NA</td><td><em>missing</em></td><td>NA</td><td>NA</td><td>NA</td><td><em>missing</em></td><td>NA</td><td>NA</td><td>NA</td><td>NA</td><td>4,98</td><td>NA</td><td><em>missing</em></td></tr><tr><th>20</th><td>Boby_Mack</td><td>BF-62</td><td>BF-62-1</td><td>BF62-1-DM</td><td>0</td><td>4</td><td>o</td><td><em>missing</em></td><td><em>missing</em></td><td>0,52</td><td>0,35</td><td>0,04</td><td>NA</td><td>NA</td><td>NA</td><td><em>missing</em></td><td>NA</td><td>NA</td><td>NA</td><td><em>missing</em></td><td>NA</td><td>NA</td><td>NA</td><td>NA</td><td>45,35</td><td>NA</td><td><em>missing</em></td></tr><tr><th>&vellip;</th><td>&vellip;</td><td>&vellip;</td><td>&vellip;</td><td>&vellip;</td><td>&vellip;</td><td>&vellip;</td><td>&vellip;</td><td>&vellip;</td><td>&vellip;</td><td>&vellip;</td><td>&vellip;</td><td>&vellip;</td><td>&vellip;</td><td>&vellip;</td><td>&vellip;</td><td>&vellip;</td><td>&vellip;</td><td>&vellip;</td><td>&vellip;</td><td>&vellip;</td><td>&vellip;</td><td>&vellip;</td><td>&vellip;</td><td>&vellip;</td><td>&vellip;</td><td>&vellip;</td><td>&vellip;</td></tr></tbody></table>"
      ],
      "text/latex": [
       "\\begin{tabular}{r|ccccccccccccccccccccccccccc}\n",
       "\t& dataset\\_name & site\\_name & profile\\_name & layer\\_name & layer\\_top & layer\\_bot & hzn\\_desgn & c\\_method & bd\\_method & bd\\_pred\\_1 & bd\\_pred\\_2 & bd\\_samp & bd\\_tot & bd\\_whole & bd\\_other & bdNRCS\\_prep\\_code & sand\\_tot\\_psa & silt\\_tot\\_psa & clay\\_tot\\_psa & wpg2\\_method & wpg2 & soc & soc\\_sigma & soc\\_method & c\\_tot & oc & cNRCS\\_prep\\_code\\\\\n",
       "\t\\hline\n",
       "\t& String & String & String & String & String & String & String? & String? & String? & String & String & String & String & String & String & String? & String & String & String & String? & String & String & String & String & String & String & String?\\\\\n",
       "\t\\hline\n",
       "\t1 & Boby\\_Mack & BF-61 & BF-61-1 & BF61-1-F & 0 & 4 & unknown & \\emph{missing} & \\emph{missing} & 1,14 & 0,73 & 0,04 & NA & NA & NA & \\emph{missing} & NA & NA & NA & \\emph{missing} & NA & NA & NA & NA & 44,62 & NA & \\emph{missing} \\\\\n",
       "\t2 & Boby\\_Mack & BF-61 & BF-61-1 & BF61-1-H & 4 & 6 & unknown & \\emph{missing} & \\emph{missing} & 1,14 & 0,74 & 0,12 & NA & NA & NA & \\emph{missing} & NA & NA & NA & \\emph{missing} & NA & NA & NA & NA & 30,21 & NA & \\emph{missing} \\\\\n",
       "\t3 & Boby\\_Mack & BF-61 & BF-61-1 & BF61-1-M1 & 6 & 11 & unknown & \\emph{missing} & \\emph{missing} & 1,27 & 1,03 & 1,15 & NA & NA & NA & \\emph{missing} & NA & NA & NA & \\emph{missing} & NA & NA & NA & NA & 5,32 & NA & \\emph{missing} \\\\\n",
       "\t4 & Boby\\_Mack & BF-61 & BF-61-1 & BF61-1-M2 & 11 & 16 & unknown & \\emph{missing} & \\emph{missing} & 1,31 & 1,13 & 1,12 & NA & NA & NA & \\emph{missing} & NA & NA & NA & \\emph{missing} & NA & NA & NA & NA & 3,88 & NA & \\emph{missing} \\\\\n",
       "\t5 & Boby\\_Mack & BF-61 & BF-61-2 & BF61-2-DM & 0 & 5 & o & \\emph{missing} & \\emph{missing} & 0,56 & 0,36 & 0,01 & NA & NA & NA & \\emph{missing} & NA & NA & NA & \\emph{missing} & NA & NA & NA & NA & 45,53 & NA & \\emph{missing} \\\\\n",
       "\t6 & Boby\\_Mack & BF-61 & BF-61-2 & BF61-2-F & 5 & 19 & unknown & \\emph{missing} & \\emph{missing} & 1,34 & 0,67 & 0,09 & NA & NA & NA & \\emph{missing} & NA & NA & NA & \\emph{missing} & NA & NA & NA & NA & 48,79 & NA & \\emph{missing} \\\\\n",
       "\t7 & Boby\\_Mack & BF-61 & BF-61-2 & BF61-2-H & 19 & 22 & unknown & \\emph{missing} & \\emph{missing} & 1,29 & 0,77 & 0,48 & NA & NA & NA & \\emph{missing} & NA & NA & NA & \\emph{missing} & NA & NA & NA & NA & 19,17 & NA & \\emph{missing} \\\\\n",
       "\t8 & Boby\\_Mack & BF-61 & BF-61-2 & BF61-2-H:354 & 22 & 25 & unknown & \\emph{missing} & \\emph{missing} & 1,28 & 0,67 & 0,12 & NA & NA & NA & \\emph{missing} & NA & NA & NA & \\emph{missing} & NA & NA & NA & NA & 44,01 & NA & \\emph{missing} \\\\\n",
       "\t9 & Boby\\_Mack & BF-61 & BF-61-2 & BF61-2-M1 & 25 & 30 & unknown & \\emph{missing} & \\emph{missing} & 1,31 & 0,96 & 1,04 & NA & NA & NA & \\emph{missing} & NA & NA & NA & \\emph{missing} & NA & NA & NA & NA & 5,65 & NA & \\emph{missing} \\\\\n",
       "\t10 & Boby\\_Mack & BF-61 & BF-61-2 & BF61-2-M2 & 30 & 35 & unknown & \\emph{missing} & \\emph{missing} & 1,31 & 1,01 & 0,93 & NA & NA & NA & \\emph{missing} & NA & NA & NA & \\emph{missing} & NA & NA & NA & NA & 4,93 & NA & \\emph{missing} \\\\\n",
       "\t11 & Boby\\_Mack & BF-61 & BF-61-3 & BF61-3-DM & 0 & 4 & o & \\emph{missing} & \\emph{missing} & 0,52 & 0,35 & 0,04 & NA & NA & NA & \\emph{missing} & NA & NA & NA & \\emph{missing} & NA & NA & NA & NA & 43,8 & NA & \\emph{missing} \\\\\n",
       "\t12 & Boby\\_Mack & BF-61 & BF-61-3 & BF61-3-F & 4 & 9 & unknown & \\emph{missing} & \\emph{missing} & 1,22 & 0,70 & 0,03 & NA & NA & NA & \\emph{missing} & NA & NA & NA & \\emph{missing} & NA & NA & NA & NA & 51,06 & NA & \\emph{missing} \\\\\n",
       "\t13 & Boby\\_Mack & BF-61 & BF-61-3 & BF61-3-H & 9 & 14 & unknown & \\emph{missing} & \\emph{missing} & 1,30 & 0,71 & 0,15 & NA & NA & NA & \\emph{missing} & NA & NA & NA & \\emph{missing} & NA & NA & NA & NA & 35,02 & NA & \\emph{missing} \\\\\n",
       "\t14 & Boby\\_Mack & BF-61 & BF-61-3 & BF61-3-M1 & 14 & 19 & unknown & \\emph{missing} & \\emph{missing} & 1,33 & 0,92 & 0,64 & NA & NA & NA & \\emph{missing} & NA & NA & NA & \\emph{missing} & NA & NA & NA & NA & 8,03 & NA & \\emph{missing} \\\\\n",
       "\t15 & Boby\\_Mack & BF-61 & BF-61-3 & BF61-3-M2 & 19 & 24 & unknown & \\emph{missing} & \\emph{missing} & 1,32 & 1,08 & 1,25 & NA & NA & NA & \\emph{missing} & NA & NA & NA & \\emph{missing} & NA & NA & NA & NA & 4,52 & NA & \\emph{missing} \\\\\n",
       "\t16 & Boby\\_Mack & BF-61 & BF-61-4 & BF61-4-F & 0 & 28 & unknown & \\emph{missing} & \\emph{missing} & 1,33 & 0,68 & 0,04 & NA & NA & NA & \\emph{missing} & NA & NA & NA & \\emph{missing} & NA & NA & NA & NA & 43,25 & NA & \\emph{missing} \\\\\n",
       "\t17 & Boby\\_Mack & BF-61 & BF-61-4 & BF61-4-H & 28 & 34 & unknown & \\emph{missing} & \\emph{missing} & 1,31 & 0,68 & 0,15 & NA & NA & NA & \\emph{missing} & NA & NA & NA & \\emph{missing} & NA & NA & NA & NA & 33,71 & NA & \\emph{missing} \\\\\n",
       "\t18 & Boby\\_Mack & BF-61 & BF-61-4 & BF61-4-M1 & 34 & 39 & unknown & \\emph{missing} & \\emph{missing} & 1,32 & 0,91 & 0,84 & NA & NA & NA & \\emph{missing} & NA & NA & NA & \\emph{missing} & NA & NA & NA & NA & 8,17 & NA & \\emph{missing} \\\\\n",
       "\t19 & Boby\\_Mack & BF-61 & BF-61-4 & BF61-4-M2 & 39 & 44 & unknown & \\emph{missing} & \\emph{missing} & 1,32 & 1,02 & 0,78 & NA & NA & NA & \\emph{missing} & NA & NA & NA & \\emph{missing} & NA & NA & NA & NA & 4,98 & NA & \\emph{missing} \\\\\n",
       "\t20 & Boby\\_Mack & BF-62 & BF-62-1 & BF62-1-DM & 0 & 4 & o & \\emph{missing} & \\emph{missing} & 0,52 & 0,35 & 0,04 & NA & NA & NA & \\emph{missing} & NA & NA & NA & \\emph{missing} & NA & NA & NA & NA & 45,35 & NA & \\emph{missing} \\\\\n",
       "\t$\\dots$ & $\\dots$ & $\\dots$ & $\\dots$ & $\\dots$ & $\\dots$ & $\\dots$ & $\\dots$ & $\\dots$ & $\\dots$ & $\\dots$ & $\\dots$ & $\\dots$ & $\\dots$ & $\\dots$ & $\\dots$ & $\\dots$ & $\\dots$ & $\\dots$ & $\\dots$ & $\\dots$ & $\\dots$ & $\\dots$ & $\\dots$ & $\\dots$ & $\\dots$ & $\\dots$ & $\\dots$ \\\\\n",
       "\\end{tabular}\n"
      ],
      "text/plain": [
       "434582×27 DataFrame\n",
       "│ Row    │ dataset_name                            │ site_name │ profile_name │ layer_name │ layer_top │ layer_bot │ hzn_desgn │ c_method      │ bd_method │ bd_pred_1 │ bd_pred_2 │ bd_samp │ bd_tot │ bd_whole │ bd_other │ bdNRCS_prep_code │ sand_tot_psa │ silt_tot_psa │ clay_tot_psa │ wpg2_method │ wpg2   │ soc    │ soc_sigma │ soc_method │ c_tot  │ oc     │ cNRCS_prep_code │\n",
       "│        │ \u001b[90mString\u001b[39m                                  │ \u001b[90mString\u001b[39m    │ \u001b[90mString\u001b[39m       │ \u001b[90mString\u001b[39m     │ \u001b[90mString\u001b[39m    │ \u001b[90mString\u001b[39m    │ \u001b[90mString?\u001b[39m   │ \u001b[90mString?\u001b[39m       │ \u001b[90mString?\u001b[39m   │ \u001b[90mString\u001b[39m    │ \u001b[90mString\u001b[39m    │ \u001b[90mString\u001b[39m  │ \u001b[90mString\u001b[39m │ \u001b[90mString\u001b[39m   │ \u001b[90mString\u001b[39m   │ \u001b[90mString?\u001b[39m          │ \u001b[90mString\u001b[39m       │ \u001b[90mString\u001b[39m       │ \u001b[90mString\u001b[39m       │ \u001b[90mString?\u001b[39m     │ \u001b[90mString\u001b[39m │ \u001b[90mString\u001b[39m │ \u001b[90mString\u001b[39m    │ \u001b[90mString\u001b[39m     │ \u001b[90mString\u001b[39m │ \u001b[90mString\u001b[39m │ \u001b[90mString?\u001b[39m         │\n",
       "├────────┼─────────────────────────────────────────┼───────────┼──────────────┼────────────┼───────────┼───────────┼───────────┼───────────────┼───────────┼───────────┼───────────┼─────────┼────────┼──────────┼──────────┼──────────────────┼──────────────┼──────────────┼──────────────┼─────────────┼────────┼────────┼───────────┼────────────┼────────┼────────┼─────────────────┤\n",
       "│ 1      │ Boby_Mack                               │ BF-61     │ BF-61-1      │ BF61-1-F   │ 0         │ 4         │ unknown   │ \u001b[90mmissing\u001b[39m       │ \u001b[90mmissing\u001b[39m   │ 1,14      │ 0,73      │ 0,04    │ NA     │ NA       │ NA       │ \u001b[90mmissing\u001b[39m          │ NA           │ NA           │ NA           │ \u001b[90mmissing\u001b[39m     │ NA     │ NA     │ NA        │ NA         │ 44,62  │ NA     │ \u001b[90mmissing\u001b[39m         │\n",
       "│ 2      │ Boby_Mack                               │ BF-61     │ BF-61-1      │ BF61-1-H   │ 4         │ 6         │ unknown   │ \u001b[90mmissing\u001b[39m       │ \u001b[90mmissing\u001b[39m   │ 1,14      │ 0,74      │ 0,12    │ NA     │ NA       │ NA       │ \u001b[90mmissing\u001b[39m          │ NA           │ NA           │ NA           │ \u001b[90mmissing\u001b[39m     │ NA     │ NA     │ NA        │ NA         │ 30,21  │ NA     │ \u001b[90mmissing\u001b[39m         │\n",
       "│ 3      │ Boby_Mack                               │ BF-61     │ BF-61-1      │ BF61-1-M1  │ 6         │ 11        │ unknown   │ \u001b[90mmissing\u001b[39m       │ \u001b[90mmissing\u001b[39m   │ 1,27      │ 1,03      │ 1,15    │ NA     │ NA       │ NA       │ \u001b[90mmissing\u001b[39m          │ NA           │ NA           │ NA           │ \u001b[90mmissing\u001b[39m     │ NA     │ NA     │ NA        │ NA         │ 5,32   │ NA     │ \u001b[90mmissing\u001b[39m         │\n",
       "│ 4      │ Boby_Mack                               │ BF-61     │ BF-61-1      │ BF61-1-M2  │ 11        │ 16        │ unknown   │ \u001b[90mmissing\u001b[39m       │ \u001b[90mmissing\u001b[39m   │ 1,31      │ 1,13      │ 1,12    │ NA     │ NA       │ NA       │ \u001b[90mmissing\u001b[39m          │ NA           │ NA           │ NA           │ \u001b[90mmissing\u001b[39m     │ NA     │ NA     │ NA        │ NA         │ 3,88   │ NA     │ \u001b[90mmissing\u001b[39m         │\n",
       "│ 5      │ Boby_Mack                               │ BF-61     │ BF-61-2      │ BF61-2-DM  │ 0         │ 5         │ o         │ \u001b[90mmissing\u001b[39m       │ \u001b[90mmissing\u001b[39m   │ 0,56      │ 0,36      │ 0,01    │ NA     │ NA       │ NA       │ \u001b[90mmissing\u001b[39m          │ NA           │ NA           │ NA           │ \u001b[90mmissing\u001b[39m     │ NA     │ NA     │ NA        │ NA         │ 45,53  │ NA     │ \u001b[90mmissing\u001b[39m         │\n",
       "⋮\n",
       "│ 434577 │ Worldwide soil carbon and nitrogen data │ ZV681 RS  │ 3002009      │ 3002009,6  │ 78        │ 98        │ \u001b[90mmissing\u001b[39m   │ \u001b[90mmissing\u001b[39m       │ \u001b[90mmissing\u001b[39m   │ 1,37      │ 1,36      │ NA      │ NA     │ NA       │ NA       │ \u001b[90mmissing\u001b[39m          │ NA           │ NA           │ NA           │ \u001b[90mmissing\u001b[39m     │ NA     │ NA     │ NA        │ NA         │ NA     │ NA     │ \u001b[90mmissing\u001b[39m         │\n",
       "│ 434578 │ Worldwide soil carbon and nitrogen data │ ZV8 RS    │ 3002004      │ 3002004,1  │ 0         │ 8         │ \u001b[90mmissing\u001b[39m   │ wet oxidation │ \u001b[90mmissing\u001b[39m   │ 1,21      │ 1,38      │ NA      │ NA     │ NA       │ NA       │ \u001b[90mmissing\u001b[39m          │ NA           │ NA           │ NA           │ \u001b[90mmissing\u001b[39m     │ NA     │ NA     │ NA        │ NA         │ NA     │ 1,77   │ \u001b[90mmissing\u001b[39m         │\n",
       "│ 434579 │ Worldwide soil carbon and nitrogen data │ ZV8 RS    │ 3002004      │ 3002004,2  │ 8         │ 20        │ \u001b[90mmissing\u001b[39m   │ wet oxidation │ \u001b[90mmissing\u001b[39m   │ 1,38      │ 1,42      │ NA      │ NA     │ NA       │ NA       │ \u001b[90mmissing\u001b[39m          │ NA           │ NA           │ NA           │ \u001b[90mmissing\u001b[39m     │ NA     │ NA     │ NA        │ NA         │ NA     │ 0,83   │ \u001b[90mmissing\u001b[39m         │\n",
       "│ 434580 │ Worldwide soil carbon and nitrogen data │ ZV8 RS    │ 3002004      │ 3002004,3  │ 20        │ 38        │ \u001b[90mmissing\u001b[39m   │ wet oxidation │ \u001b[90mmissing\u001b[39m   │ 1,32      │ 1,40      │ NA      │ NA     │ NA       │ NA       │ \u001b[90mmissing\u001b[39m          │ NA           │ NA           │ NA           │ \u001b[90mmissing\u001b[39m     │ NA     │ NA     │ NA        │ NA         │ NA     │ 0,42   │ \u001b[90mmissing\u001b[39m         │\n",
       "│ 434581 │ Worldwide soil carbon and nitrogen data │ ZV8 RS    │ 3002004      │ 3002004,4  │ 38        │ 85        │ \u001b[90mmissing\u001b[39m   │ wet oxidation │ \u001b[90mmissing\u001b[39m   │ 1,35      │ 1,34      │ NA      │ NA     │ NA       │ NA       │ \u001b[90mmissing\u001b[39m          │ NA           │ NA           │ NA           │ \u001b[90mmissing\u001b[39m     │ NA     │ NA     │ NA        │ NA         │ NA     │ 0,17   │ \u001b[90mmissing\u001b[39m         │\n",
       "│ 434582 │ Worldwide soil carbon and nitrogen data │ ZV8 RS    │ 3002004      │ 3002004,5  │ 85        │ 125       │ \u001b[90mmissing\u001b[39m   │ \u001b[90mmissing\u001b[39m       │ \u001b[90mmissing\u001b[39m   │ 1,36      │ 1,33      │ NA      │ NA     │ NA       │ NA       │ \u001b[90mmissing\u001b[39m          │ NA           │ NA           │ NA           │ \u001b[90mmissing\u001b[39m     │ NA     │ NA     │ NA        │ NA         │ NA     │ NA     │ \u001b[90mmissing\u001b[39m         │"
      ]
     },
     "execution_count": 11,
     "metadata": {},
     "output_type": "execute_result"
    }
   ],
   "source": [
    "df_BD_pred_orig = CSV.read(\"ISCNTemplate_NRCS_BD_predictions.csv\", DataFrame)"
   ]
  },
  {
   "cell_type": "code",
   "execution_count": 12,
   "metadata": {
    "scrolled": true
   },
   "outputs": [
    {
     "data": {
      "text/html": [
       "<table class=\"data-frame\"><thead><tr><th></th><th>sp_name</th><th>layer_name</th><th>bd_organic</th><th>bd_mineral</th></tr><tr><th></th><th>String</th><th>String</th><th>Float64</th><th>Float64</th></tr></thead><tbody><p>430,653 rows × 4 columns</p><tr><th>1</th><td>BF-61_BF-61-1</td><td>BF61-1-F</td><td>1.14</td><td>0.73</td></tr><tr><th>2</th><td>BF-61_BF-61-1</td><td>BF61-1-H</td><td>1.14</td><td>0.74</td></tr><tr><th>3</th><td>BF-61_BF-61-1</td><td>BF61-1-M1</td><td>1.27</td><td>1.03</td></tr><tr><th>4</th><td>BF-61_BF-61-1</td><td>BF61-1-M2</td><td>1.31</td><td>1.13</td></tr><tr><th>5</th><td>BF-61_BF-61-2</td><td>BF61-2-DM</td><td>0.56</td><td>0.36</td></tr><tr><th>6</th><td>BF-61_BF-61-2</td><td>BF61-2-F</td><td>1.34</td><td>0.67</td></tr><tr><th>7</th><td>BF-61_BF-61-2</td><td>BF61-2-H</td><td>1.29</td><td>0.77</td></tr><tr><th>8</th><td>BF-61_BF-61-2</td><td>BF61-2-H:354</td><td>1.28</td><td>0.67</td></tr><tr><th>9</th><td>BF-61_BF-61-2</td><td>BF61-2-M1</td><td>1.31</td><td>0.96</td></tr><tr><th>10</th><td>BF-61_BF-61-2</td><td>BF61-2-M2</td><td>1.31</td><td>1.01</td></tr><tr><th>11</th><td>BF-61_BF-61-3</td><td>BF61-3-DM</td><td>0.52</td><td>0.35</td></tr><tr><th>12</th><td>BF-61_BF-61-3</td><td>BF61-3-F</td><td>1.22</td><td>0.7</td></tr><tr><th>13</th><td>BF-61_BF-61-3</td><td>BF61-3-H</td><td>1.3</td><td>0.71</td></tr><tr><th>14</th><td>BF-61_BF-61-3</td><td>BF61-3-M1</td><td>1.33</td><td>0.92</td></tr><tr><th>15</th><td>BF-61_BF-61-3</td><td>BF61-3-M2</td><td>1.32</td><td>1.08</td></tr><tr><th>16</th><td>BF-61_BF-61-4</td><td>BF61-4-F</td><td>1.33</td><td>0.68</td></tr><tr><th>17</th><td>BF-61_BF-61-4</td><td>BF61-4-H</td><td>1.31</td><td>0.68</td></tr><tr><th>18</th><td>BF-61_BF-61-4</td><td>BF61-4-M1</td><td>1.32</td><td>0.91</td></tr><tr><th>19</th><td>BF-61_BF-61-4</td><td>BF61-4-M2</td><td>1.32</td><td>1.02</td></tr><tr><th>20</th><td>BF-62_BF-62-1</td><td>BF62-1-DM</td><td>0.52</td><td>0.35</td></tr><tr><th>&vellip;</th><td>&vellip;</td><td>&vellip;</td><td>&vellip;</td><td>&vellip;</td></tr></tbody></table>"
      ],
      "text/latex": [
       "\\begin{tabular}{r|cccc}\n",
       "\t& sp\\_name & layer\\_name & bd\\_organic & bd\\_mineral\\\\\n",
       "\t\\hline\n",
       "\t& String & String & Float64 & Float64\\\\\n",
       "\t\\hline\n",
       "\t1 & BF-61\\_BF-61-1 & BF61-1-F & 1.14 & 0.73 \\\\\n",
       "\t2 & BF-61\\_BF-61-1 & BF61-1-H & 1.14 & 0.74 \\\\\n",
       "\t3 & BF-61\\_BF-61-1 & BF61-1-M1 & 1.27 & 1.03 \\\\\n",
       "\t4 & BF-61\\_BF-61-1 & BF61-1-M2 & 1.31 & 1.13 \\\\\n",
       "\t5 & BF-61\\_BF-61-2 & BF61-2-DM & 0.56 & 0.36 \\\\\n",
       "\t6 & BF-61\\_BF-61-2 & BF61-2-F & 1.34 & 0.67 \\\\\n",
       "\t7 & BF-61\\_BF-61-2 & BF61-2-H & 1.29 & 0.77 \\\\\n",
       "\t8 & BF-61\\_BF-61-2 & BF61-2-H:354 & 1.28 & 0.67 \\\\\n",
       "\t9 & BF-61\\_BF-61-2 & BF61-2-M1 & 1.31 & 0.96 \\\\\n",
       "\t10 & BF-61\\_BF-61-2 & BF61-2-M2 & 1.31 & 1.01 \\\\\n",
       "\t11 & BF-61\\_BF-61-3 & BF61-3-DM & 0.52 & 0.35 \\\\\n",
       "\t12 & BF-61\\_BF-61-3 & BF61-3-F & 1.22 & 0.7 \\\\\n",
       "\t13 & BF-61\\_BF-61-3 & BF61-3-H & 1.3 & 0.71 \\\\\n",
       "\t14 & BF-61\\_BF-61-3 & BF61-3-M1 & 1.33 & 0.92 \\\\\n",
       "\t15 & BF-61\\_BF-61-3 & BF61-3-M2 & 1.32 & 1.08 \\\\\n",
       "\t16 & BF-61\\_BF-61-4 & BF61-4-F & 1.33 & 0.68 \\\\\n",
       "\t17 & BF-61\\_BF-61-4 & BF61-4-H & 1.31 & 0.68 \\\\\n",
       "\t18 & BF-61\\_BF-61-4 & BF61-4-M1 & 1.32 & 0.91 \\\\\n",
       "\t19 & BF-61\\_BF-61-4 & BF61-4-M2 & 1.32 & 1.02 \\\\\n",
       "\t20 & BF-62\\_BF-62-1 & BF62-1-DM & 0.52 & 0.35 \\\\\n",
       "\t$\\dots$ & $\\dots$ & $\\dots$ & $\\dots$ & $\\dots$ \\\\\n",
       "\\end{tabular}\n"
      ],
      "text/plain": [
       "430653×4 DataFrame\n",
       "│ Row    │ sp_name          │ layer_name │ bd_organic │ bd_mineral │\n",
       "│        │ \u001b[90mString\u001b[39m           │ \u001b[90mString\u001b[39m     │ \u001b[90mFloat64\u001b[39m    │ \u001b[90mFloat64\u001b[39m    │\n",
       "├────────┼──────────────────┼────────────┼────────────┼────────────┤\n",
       "│ 1      │ BF-61_BF-61-1    │ BF61-1-F   │ 1.14       │ 0.73       │\n",
       "│ 2      │ BF-61_BF-61-1    │ BF61-1-H   │ 1.14       │ 0.74       │\n",
       "│ 3      │ BF-61_BF-61-1    │ BF61-1-M1  │ 1.27       │ 1.03       │\n",
       "│ 4      │ BF-61_BF-61-1    │ BF61-1-M2  │ 1.31       │ 1.13       │\n",
       "│ 5      │ BF-61_BF-61-2    │ BF61-2-DM  │ 0.56       │ 0.36       │\n",
       "⋮\n",
       "│ 430648 │ ZV681 RS_3002009 │ 3002009,6  │ 1.37       │ 1.36       │\n",
       "│ 430649 │ ZV8 RS_3002004   │ 3002004,1  │ 1.21       │ 1.38       │\n",
       "│ 430650 │ ZV8 RS_3002004   │ 3002004,2  │ 1.38       │ 1.42       │\n",
       "│ 430651 │ ZV8 RS_3002004   │ 3002004,3  │ 1.32       │ 1.4        │\n",
       "│ 430652 │ ZV8 RS_3002004   │ 3002004,4  │ 1.35       │ 1.34       │\n",
       "│ 430653 │ ZV8 RS_3002004   │ 3002004,5  │ 1.36       │ 1.33       │"
      ]
     },
     "execution_count": 12,
     "metadata": {},
     "output_type": "execute_result"
    }
   ],
   "source": [
    "#copy of original dataset and tidied up column names\n",
    "df_BD_pred = deepcopy(df_BD_pred_orig)\n",
    "\n",
    "#define new column that has unique key, site_name_profile_name\n",
    "df_BD_pred.sp_name = [(row.site_name * \"_\" * row.profile_name) for row in eachrow(df_BD_pred)]\n",
    "\n",
    "df_BD_pred = df_BD_pred |>\n",
    "\n",
    "#pick relevant columns\n",
    "@select(:sp_name,:layer_name,:bd_pred_1,:bd_pred_2) |>\n",
    "\n",
    "##remove layers with missing predicted BD\n",
    "@dropna(:bd_pred_1, :bd_pred_2) |>\n",
    "\n",
    "#parse bd_pred_1 values and keep only non-negative ones\n",
    "@mutate(bd_pred_1 = replace(_.bd_pred_1,','=>'.')) |>\n",
    "@mutate(bd_pred_1 = parse(Float64, _.bd_pred_1)) |>\n",
    "@filter(_.bd_pred_1 > 0) |>\n",
    "\n",
    "#same with bd_pred_2 values\n",
    "@mutate(bd_pred_2 = replace(_.bd_pred_2,','=>'.')) |>\n",
    "@mutate(bd_pred_2 = parse(Float64, _.bd_pred_2)) |>\n",
    "@filter(_.bd_pred_2 > 0) |>\n",
    "\n",
    "#keep only unique sites/profiles/layers\n",
    "@unique((_.sp_name, _.layer_name)) |>\n",
    "\n",
    "#‘bd_pred_1’ to be used for organic horizons, ‘be_pred_2’ for mineral soil horizons\n",
    "@rename(:bd_pred_1 => :bd_organic) |>\n",
    "@rename(:bd_pred_2 => :bd_mineral) |>\n",
    "\n",
    "DataFrame"
   ]
  },
  {
   "cell_type": "code",
   "execution_count": 13,
   "metadata": {
    "scrolled": false
   },
   "outputs": [
    {
     "data": {
      "text/plain": [
       "infer_designation (generic function with 1 method)"
      ]
     },
     "execution_count": 13,
     "metadata": {},
     "output_type": "execute_result"
    }
   ],
   "source": [
    "function infer_designation(old_desig, blk)\n",
    "#takes layer and returns its inferred soil designation, either 'organic' or 'mineral'\n",
    "\n",
    "#old_desig = get(existing_desig)\n",
    "new_desig = \"no_desig\" #value to be eventually returned\n",
    "\n",
    "#blk = get(bulk_density) #already parsed to F64, no missing values assumed\n",
    "threshold = 0.5\n",
    "\n",
    "control_desig = ['O','o','H','h'] #possible chars in existing desig that indicate presence of organic material in the layer\n",
    "\n",
    "new_desig_organic = \"organic\"\n",
    "new_desig_mineral = \"mineral\"\n",
    "\n",
    "if old_desig == \"\"\n",
    "    #check on bulk density value to decide which designation applies \n",
    "    new_desig = (blk <= threshold) ? new_desig_organic : new_desig_mineral\n",
    "\n",
    "#designation not missing\t\t\t\n",
    "else\t\n",
    "    check_desig = [in(c,control_desig) for c in old_desig] #check if any char in the existing designation matches organic control\n",
    "    check_desig_BD = !isnothing(findfirst(check_desig)) & (blk <= threshold) #true if any char matches and BD < treshold\n",
    "\n",
    "    new_desig = check_desig_BD ? new_desig_organic : new_desig_mineral\n",
    "end\n",
    "\n",
    "\n",
    "return new_desig\n",
    "end"
   ]
  },
  {
   "cell_type": "code",
   "execution_count": 14,
   "metadata": {
    "scrolled": true
   },
   "outputs": [
    {
     "data": {
      "text/html": [
       "<table class=\"data-frame\"><thead><tr><th></th><th>sp_name</th><th>layer_name</th><th>lat_dec_deg</th><th>long_dec_deg</th><th>obs_date_yyyymmdd</th><th>layer_top_cm</th><th>layer_bot_cm</th><th>oc_percent</th><th>bd_organic</th><th>bd_mineral</th><th>hzn_merged</th><th>infer_DESIG</th></tr><tr><th></th><th>String</th><th>String</th><th>Float64</th><th>Float64</th><th>String?</th><th>Int64</th><th>Int64</th><th>Float64</th><th>Float64</th><th>Float64</th><th>String</th><th>String</th></tr></thead><tbody><p>213,314 rows × 12 columns</p><tr><th>1</th><td>NCC 1_NCC 1</td><td>NCC 1.1</td><td>35.051</td><td>-83.4342</td><td>15/07/2009</td><td>0</td><td>10</td><td>3.17</td><td>1.24</td><td>1.39</td><td></td><td>mineral</td></tr><tr><th>2</th><td>NCC 1_NCC 1</td><td>NCC 1.2</td><td>35.051</td><td>-83.4342</td><td>15/07/2009</td><td>10</td><td>30</td><td>1.76</td><td>1.33</td><td>1.42</td><td></td><td>mineral</td></tr><tr><th>3</th><td>NCC 1_NCC 1</td><td>NCC 1.3</td><td>35.051</td><td>-83.4342</td><td>15/07/2009</td><td>30</td><td>90</td><td>0.89</td><td>1.33</td><td>1.35</td><td></td><td>mineral</td></tr><tr><th>4</th><td>NCC 2_NCC 2</td><td>NCC 2.1</td><td>35.0484</td><td>-83.4342</td><td>15/07/2009</td><td>0</td><td>10</td><td>3.91</td><td>1.24</td><td>1.39</td><td></td><td>mineral</td></tr><tr><th>5</th><td>NCC 2_NCC 2</td><td>NCC 2.2</td><td>35.0484</td><td>-83.4342</td><td>15/07/2009</td><td>10</td><td>30</td><td>2.34</td><td>1.33</td><td>1.42</td><td></td><td>mineral</td></tr><tr><th>6</th><td>NCC 2_NCC 2</td><td>NCC 2.3</td><td>35.0484</td><td>-83.4342</td><td>15/07/2009</td><td>30</td><td>90</td><td>1.7</td><td>1.33</td><td>1.35</td><td></td><td>mineral</td></tr><tr><th>7</th><td>NCC 3_NCC 3</td><td>NCC 3.1</td><td>35.0473</td><td>-83.434</td><td>15/07/2009</td><td>0</td><td>10</td><td>2.99</td><td>1.24</td><td>1.39</td><td></td><td>mineral</td></tr><tr><th>8</th><td>NCC 3_NCC 3</td><td>NCC 3.2</td><td>35.0473</td><td>-83.434</td><td>15/07/2009</td><td>10</td><td>30</td><td>1.85</td><td>1.33</td><td>1.42</td><td></td><td>mineral</td></tr><tr><th>9</th><td>NCC 3_NCC 3</td><td>NCC 3.3</td><td>35.0473</td><td>-83.434</td><td>15/07/2009</td><td>30</td><td>90</td><td>1.22</td><td>1.33</td><td>1.35</td><td></td><td>mineral</td></tr><tr><th>10</th><td>NCC 4_NCC 4</td><td>NCC 4.1</td><td>35.0385</td><td>-83.4598</td><td>15/07/2009</td><td>0</td><td>10</td><td>2.98</td><td>1.24</td><td>1.39</td><td></td><td>mineral</td></tr><tr><th>11</th><td>NCC 4_NCC 4</td><td>NCC 4.2</td><td>35.0385</td><td>-83.4598</td><td>15/07/2009</td><td>10</td><td>30</td><td>2.07</td><td>1.33</td><td>1.42</td><td></td><td>mineral</td></tr><tr><th>12</th><td>NCC 4_NCC 4</td><td>NCC 4.3</td><td>35.0385</td><td>-83.4598</td><td>15/07/2009</td><td>30</td><td>90</td><td>0.86</td><td>1.33</td><td>1.35</td><td></td><td>mineral</td></tr><tr><th>13</th><td>NCC 5_NCC 5</td><td>NCC 5.1</td><td>35.031</td><td>-83.4619</td><td>15/07/2009</td><td>0</td><td>10</td><td>6.08</td><td>1.24</td><td>1.39</td><td></td><td>mineral</td></tr><tr><th>14</th><td>NCC 5_NCC 5</td><td>NCC 5.2</td><td>35.031</td><td>-83.4619</td><td>15/07/2009</td><td>10</td><td>30</td><td>5.02</td><td>1.33</td><td>1.42</td><td></td><td>mineral</td></tr><tr><th>15</th><td>NCC 5_NCC 5</td><td>NCC 5.3</td><td>35.031</td><td>-83.4619</td><td>15/07/2009</td><td>30</td><td>90</td><td>2.0</td><td>1.33</td><td>1.35</td><td></td><td>mineral</td></tr><tr><th>16</th><td>NMJ 1_NMJ 1</td><td>NMJ 1.1</td><td>32.5603</td><td>-106.79</td><td>15/01/2010</td><td>0</td><td>2</td><td>5.64</td><td>0.9</td><td>1.25</td><td>A_A</td><td>mineral</td></tr><tr><th>17</th><td>NMJ 1_NMJ 1</td><td>NMJ 1.2</td><td>32.5603</td><td>-106.79</td><td>15/01/2010</td><td>2</td><td>25</td><td>6.03</td><td>1.29</td><td>1.36</td><td>B_BK1</td><td>mineral</td></tr><tr><th>18</th><td>NMJ 1_NMJ 1</td><td>NMJ 1.3</td><td>32.5603</td><td>-106.79</td><td>15/01/2010</td><td>25</td><td>50</td><td>5.63</td><td>1.34</td><td>1.33</td><td>B_BK2</td><td>mineral</td></tr><tr><th>19</th><td>NMJ 2_NMJ 2</td><td>NMJ 2.1</td><td>32.5734</td><td>-106.672</td><td>15/01/2010</td><td>0</td><td>2</td><td>2.93</td><td>0.9</td><td>1.25</td><td>A_A</td><td>mineral</td></tr><tr><th>20</th><td>NMJ 2_NMJ 2</td><td>NMJ 2.2</td><td>32.5734</td><td>-106.672</td><td>15/01/2010</td><td>2</td><td>34</td><td>3.99</td><td>1.3</td><td>1.35</td><td>B_BK1</td><td>mineral</td></tr><tr><th>&vellip;</th><td>&vellip;</td><td>&vellip;</td><td>&vellip;</td><td>&vellip;</td><td>&vellip;</td><td>&vellip;</td><td>&vellip;</td><td>&vellip;</td><td>&vellip;</td><td>&vellip;</td><td>&vellip;</td><td>&vellip;</td></tr></tbody></table>"
      ],
      "text/latex": [
       "\\begin{tabular}{r|cccccccccccc}\n",
       "\t& sp\\_name & layer\\_name & lat\\_dec\\_deg & long\\_dec\\_deg & obs\\_date\\_yyyymmdd & layer\\_top\\_cm & layer\\_bot\\_cm & oc\\_percent & bd\\_organic & bd\\_mineral & hzn\\_merged & infer\\_DESIG\\\\\n",
       "\t\\hline\n",
       "\t& String & String & Float64 & Float64 & String? & Int64 & Int64 & Float64 & Float64 & Float64 & String & String\\\\\n",
       "\t\\hline\n",
       "\t1 & NCC 1\\_NCC 1 & NCC 1.1 & 35.051 & -83.4342 & 15/07/2009 & 0 & 10 & 3.17 & 1.24 & 1.39 &  & mineral \\\\\n",
       "\t2 & NCC 1\\_NCC 1 & NCC 1.2 & 35.051 & -83.4342 & 15/07/2009 & 10 & 30 & 1.76 & 1.33 & 1.42 &  & mineral \\\\\n",
       "\t3 & NCC 1\\_NCC 1 & NCC 1.3 & 35.051 & -83.4342 & 15/07/2009 & 30 & 90 & 0.89 & 1.33 & 1.35 &  & mineral \\\\\n",
       "\t4 & NCC 2\\_NCC 2 & NCC 2.1 & 35.0484 & -83.4342 & 15/07/2009 & 0 & 10 & 3.91 & 1.24 & 1.39 &  & mineral \\\\\n",
       "\t5 & NCC 2\\_NCC 2 & NCC 2.2 & 35.0484 & -83.4342 & 15/07/2009 & 10 & 30 & 2.34 & 1.33 & 1.42 &  & mineral \\\\\n",
       "\t6 & NCC 2\\_NCC 2 & NCC 2.3 & 35.0484 & -83.4342 & 15/07/2009 & 30 & 90 & 1.7 & 1.33 & 1.35 &  & mineral \\\\\n",
       "\t7 & NCC 3\\_NCC 3 & NCC 3.1 & 35.0473 & -83.434 & 15/07/2009 & 0 & 10 & 2.99 & 1.24 & 1.39 &  & mineral \\\\\n",
       "\t8 & NCC 3\\_NCC 3 & NCC 3.2 & 35.0473 & -83.434 & 15/07/2009 & 10 & 30 & 1.85 & 1.33 & 1.42 &  & mineral \\\\\n",
       "\t9 & NCC 3\\_NCC 3 & NCC 3.3 & 35.0473 & -83.434 & 15/07/2009 & 30 & 90 & 1.22 & 1.33 & 1.35 &  & mineral \\\\\n",
       "\t10 & NCC 4\\_NCC 4 & NCC 4.1 & 35.0385 & -83.4598 & 15/07/2009 & 0 & 10 & 2.98 & 1.24 & 1.39 &  & mineral \\\\\n",
       "\t11 & NCC 4\\_NCC 4 & NCC 4.2 & 35.0385 & -83.4598 & 15/07/2009 & 10 & 30 & 2.07 & 1.33 & 1.42 &  & mineral \\\\\n",
       "\t12 & NCC 4\\_NCC 4 & NCC 4.3 & 35.0385 & -83.4598 & 15/07/2009 & 30 & 90 & 0.86 & 1.33 & 1.35 &  & mineral \\\\\n",
       "\t13 & NCC 5\\_NCC 5 & NCC 5.1 & 35.031 & -83.4619 & 15/07/2009 & 0 & 10 & 6.08 & 1.24 & 1.39 &  & mineral \\\\\n",
       "\t14 & NCC 5\\_NCC 5 & NCC 5.2 & 35.031 & -83.4619 & 15/07/2009 & 10 & 30 & 5.02 & 1.33 & 1.42 &  & mineral \\\\\n",
       "\t15 & NCC 5\\_NCC 5 & NCC 5.3 & 35.031 & -83.4619 & 15/07/2009 & 30 & 90 & 2.0 & 1.33 & 1.35 &  & mineral \\\\\n",
       "\t16 & NMJ 1\\_NMJ 1 & NMJ 1.1 & 32.5603 & -106.79 & 15/01/2010 & 0 & 2 & 5.64 & 0.9 & 1.25 & A\\_A & mineral \\\\\n",
       "\t17 & NMJ 1\\_NMJ 1 & NMJ 1.2 & 32.5603 & -106.79 & 15/01/2010 & 2 & 25 & 6.03 & 1.29 & 1.36 & B\\_BK1 & mineral \\\\\n",
       "\t18 & NMJ 1\\_NMJ 1 & NMJ 1.3 & 32.5603 & -106.79 & 15/01/2010 & 25 & 50 & 5.63 & 1.34 & 1.33 & B\\_BK2 & mineral \\\\\n",
       "\t19 & NMJ 2\\_NMJ 2 & NMJ 2.1 & 32.5734 & -106.672 & 15/01/2010 & 0 & 2 & 2.93 & 0.9 & 1.25 & A\\_A & mineral \\\\\n",
       "\t20 & NMJ 2\\_NMJ 2 & NMJ 2.2 & 32.5734 & -106.672 & 15/01/2010 & 2 & 34 & 3.99 & 1.3 & 1.35 & B\\_BK1 & mineral \\\\\n",
       "\t$\\dots$ & $\\dots$ & $\\dots$ & $\\dots$ & $\\dots$ & $\\dots$ & $\\dots$ & $\\dots$ & $\\dots$ & $\\dots$ & $\\dots$ & $\\dots$ & $\\dots$ \\\\\n",
       "\\end{tabular}\n"
      ],
      "text/plain": [
       "213314×12 DataFrame\n",
       "│ Row    │ sp_name       │ layer_name │ lat_dec_deg │ long_dec_deg │ obs_date_yyyymmdd │ layer_top_cm │ layer_bot_cm │ oc_percent │ bd_organic │ bd_mineral │ hzn_merged │ infer_DESIG │\n",
       "│        │ \u001b[90mString\u001b[39m        │ \u001b[90mString\u001b[39m     │ \u001b[90mFloat64\u001b[39m     │ \u001b[90mFloat64\u001b[39m      │ \u001b[90mString?\u001b[39m           │ \u001b[90mInt64\u001b[39m        │ \u001b[90mInt64\u001b[39m        │ \u001b[90mFloat64\u001b[39m    │ \u001b[90mFloat64\u001b[39m    │ \u001b[90mFloat64\u001b[39m    │ \u001b[90mString\u001b[39m     │ \u001b[90mString\u001b[39m      │\n",
       "├────────┼───────────────┼────────────┼─────────────┼──────────────┼───────────────────┼──────────────┼──────────────┼────────────┼────────────┼────────────┼────────────┼─────────────┤\n",
       "│ 1      │ NCC 1_NCC 1   │ NCC 1.1    │ 35.051      │ -83.4342     │ 15/07/2009        │ 0            │ 10           │ 3.17       │ 1.24       │ 1.39       │            │ mineral     │\n",
       "│ 2      │ NCC 1_NCC 1   │ NCC 1.2    │ 35.051      │ -83.4342     │ 15/07/2009        │ 10           │ 30           │ 1.76       │ 1.33       │ 1.42       │            │ mineral     │\n",
       "│ 3      │ NCC 1_NCC 1   │ NCC 1.3    │ 35.051      │ -83.4342     │ 15/07/2009        │ 30           │ 90           │ 0.89       │ 1.33       │ 1.35       │            │ mineral     │\n",
       "│ 4      │ NCC 2_NCC 2   │ NCC 2.1    │ 35.0484     │ -83.4342     │ 15/07/2009        │ 0            │ 10           │ 3.91       │ 1.24       │ 1.39       │            │ mineral     │\n",
       "│ 5      │ NCC 2_NCC 2   │ NCC 2.2    │ 35.0484     │ -83.4342     │ 15/07/2009        │ 10           │ 30           │ 2.34       │ 1.33       │ 1.42       │            │ mineral     │\n",
       "⋮\n",
       "│ 213309 │ UM34 NW_81034 │ 81034,2    │ 60.7833     │ -115.783     │ 1968              │ 0            │ 10           │ 0.81       │ 1.24       │ 1.39       │            │ mineral     │\n",
       "│ 213310 │ UM36 NW_81036 │ 81036,2    │ 60.8167     │ -115.783     │ 1968              │ 0            │ 8            │ 5.34       │ 1.21       │ 1.38       │            │ mineral     │\n",
       "│ 213311 │ UM36 NW_81036 │ 81036,3    │ 60.8167     │ -115.783     │ 1968              │ 8            │ 13           │ 3.31       │ 1.3        │ 1.41       │            │ mineral     │\n",
       "│ 213312 │ UM36 NW_81036 │ 81036,4    │ 60.8167     │ -115.783     │ 1968              │ 13           │ 20           │ 4.47       │ 1.33       │ 1.42       │            │ mineral     │\n",
       "│ 213313 │ UM36 NW_81036 │ 81036,5    │ 60.8167     │ -115.783     │ 1968              │ 20           │ 33           │ 3.54       │ 1.36       │ 1.42       │            │ mineral     │\n",
       "│ 213314 │ UM36 NW_81036 │ 81036,6    │ 60.8167     │ -115.783     │ 1968              │ 33           │ 46           │ 1.74       │ 1.36       │ 1.4        │            │ mineral     │"
      ]
     },
     "execution_count": 14,
     "metadata": {},
     "output_type": "execute_result"
    }
   ],
   "source": [
    "#adding predicted BD values to each layer\n",
    "df_hz = innerjoin(df_ISCN_cont, df_BD_pred, on = [:sp_name, :layer_name])\t\n",
    "unique!(df_hz, [:sp_name, :layer_name])\n",
    "\t\n",
    "#work on layer designation\n",
    "df_hz.hzn = replace(df_hz.hzn, \"?\" => \"\") \n",
    "df_hz.hzn = replace(df_hz.hzn, missing => \"\")\n",
    "\t\n",
    "df_hz.hzn_desgn = replace(df_hz.hzn_desgn, \"unknown\" => \"\") \n",
    "df_hz.hzn_desgn = replace(df_hz.hzn_desgn, missing => \"\") \n",
    "\n",
    "#create new column with concatenated designations, but leave row empty if both are empty\n",
    "df_hz.hzn_merged = [!isempty(row.hzn * row.hzn_desgn) ? (row.hzn * \"_\" * row.hzn_desgn) : \"\" for row in eachrow(df_hz)]\n",
    "\t\n",
    "#infer layer designation and write to new col, using only bd_organic for threshold check\n",
    "df_hz.infer_DESIG = [infer_designation(r.hzn_merged,r.bd_organic) for r in eachrow(df_hz) ]\t\n",
    "\n",
    "#getting rid of old designation cols\n",
    "select!(df_hz, Not(:hzn))\t\n",
    "select!(df_hz, Not(:hzn_desgn))\t\n"
   ]
  },
  {
   "cell_type": "code",
   "execution_count": 15,
   "metadata": {
    "scrolled": false
   },
   "outputs": [
    {
     "data": {
      "text/plain": [
       "depth_clip (generic function with 1 method)"
      ]
     },
     "execution_count": 15,
     "metadata": {},
     "output_type": "execute_result"
    }
   ],
   "source": [
    "function depth_clip(profile; depth_min=0, depth_max=100)\n",
    "#takes in a profile with N layers and returns a clipped profile, by default from 0 to 100cm\n",
    "#run this function ALWAYS AFTER checking for layers continuity\n",
    "\n",
    "\n",
    "top = profile.layer_top_cm\n",
    "bot = deepcopy(profile.layer_bot_cm) #create copy of the original profile bot, to be edited later\n",
    "\n",
    "n_layers = length(top)\n",
    "\n",
    "#init array of 'true' -> keep all layers unless proven guilty\n",
    "layers_keep = Vector{Bool}(undef,n_layers)\n",
    "layers_keep .= true\n",
    "\n",
    "#if profile doesn't reach threshold, or starts after min, ditch the whole profile\n",
    "if maximum(bot) < depth_max || minimum(top) > depth_min; \t\n",
    "\n",
    "    layers_keep .= false\n",
    "\n",
    "#othewise mark layers to drop above threshold, and clip the overlapping one\n",
    "else \n",
    "    for lr in 1:n_layers\n",
    "        #simple case, both top and bot below threshold\n",
    "        if top[lr] >= depth_max; layers_keep[lr] = false; end\n",
    "\n",
    "        #layers overlapping threshold\n",
    "        if top[lr] < depth_max && bot[lr] > depth_max\n",
    "            bot[lr] = depth_max\n",
    "        end\n",
    "\n",
    "    end\n",
    "\n",
    "    profile.layer_bot_cm = bot\n",
    "\n",
    "end\n",
    "\n",
    "\n",
    "return profile[layers_keep,:]\n",
    "\n",
    "end"
   ]
  },
  {
   "cell_type": "code",
   "execution_count": 16,
   "metadata": {
    "scrolled": false
   },
   "outputs": [
    {
     "data": {
      "text/plain": [
       "compute_clipped_profiles (generic function with 1 method)"
      ]
     },
     "execution_count": 16,
     "metadata": {},
     "output_type": "execute_result"
    }
   ],
   "source": [
    "function compute_clipped_profiles(df)\n",
    "#initialize empty DF with same columns and types as starting one\n",
    "results = DataFrame(eltypes(df), names(df))\n",
    "\n",
    "for profile in unique(df.sp_name)\n",
    "\n",
    "\tappend!(results, depth_clip(df[df.sp_name .== profile,:]))\n",
    "\n",
    "end\n",
    "\n",
    "return results\n",
    "\n",
    "end"
   ]
  },
  {
   "cell_type": "code",
   "execution_count": 17,
   "metadata": {
    "scrolled": true
   },
   "outputs": [
    {
     "data": {
      "text/html": [
       "<table class=\"data-frame\"><thead><tr><th></th><th>sp_name</th><th>layer_name</th><th>lat_dec_deg</th><th>long_dec_deg</th><th>obs_date_yyyymmdd</th><th>layer_top_cm</th><th>layer_bot_cm</th><th>oc_percent</th><th>bd_organic</th><th>bd_mineral</th><th>hzn_merged</th><th>infer_DESIG</th></tr><tr><th></th><th>String</th><th>String</th><th>Float64</th><th>Float64</th><th>String?</th><th>Int64</th><th>Int64</th><th>Float64</th><th>Float64</th><th>Float64</th><th>String</th><th>String</th></tr></thead><tbody><p>129,018 rows × 12 columns</p><tr><th>1</th><td>NMJ 4_NMJ 4</td><td>NMJ 4.1</td><td>32.5738</td><td>-106.615</td><td>15/01/2010</td><td>0</td><td>2</td><td>0.5</td><td>0.9</td><td>1.25</td><td>A_A</td><td>mineral</td></tr><tr><th>2</th><td>NMJ 4_NMJ 4</td><td>NMJ 4.2</td><td>32.5738</td><td>-106.615</td><td>15/01/2010</td><td>2</td><td>60</td><td>1.03</td><td>1.28</td><td>1.33</td><td>B_BW</td><td>mineral</td></tr><tr><th>3</th><td>NMJ 4_NMJ 4</td><td>NMJ 4.3</td><td>32.5738</td><td>-106.615</td><td>15/01/2010</td><td>60</td><td>100</td><td>2.11</td><td>1.37</td><td>1.34</td><td>B_BK</td><td>mineral</td></tr><tr><th>4</th><td>04KY-007-001_04KY-007-001</td><td>KY0099</td><td>37.1613</td><td>-89.0593</td><td>15/04/2004</td><td>0</td><td>18</td><td>2.15</td><td>1.33</td><td>1.42</td><td>A_Ap</td><td>mineral</td></tr><tr><th>5</th><td>04KY-007-001_04KY-007-001</td><td>KY0100</td><td>37.1613</td><td>-89.0593</td><td>15/04/2004</td><td>18</td><td>28</td><td>0.84</td><td>1.41</td><td>1.39</td><td>B_Bt1</td><td>mineral</td></tr><tr><th>6</th><td>04KY-007-001_04KY-007-001</td><td>KY0101</td><td>37.1613</td><td>-89.0593</td><td>15/04/2004</td><td>28</td><td>58</td><td>0.52</td><td>1.45</td><td>1.38</td><td>B_Bt2</td><td>mineral</td></tr><tr><th>7</th><td>04KY-007-001_04KY-007-001</td><td>KY0102</td><td>37.1613</td><td>-89.0593</td><td>15/04/2004</td><td>58</td><td>84</td><td>0.34</td><td>1.46</td><td>1.37</td><td>B_Bt3</td><td>mineral</td></tr><tr><th>8</th><td>04KY-007-001_04KY-007-001</td><td>KY0103</td><td>37.1613</td><td>-89.0593</td><td>15/04/2004</td><td>84</td><td>100</td><td>0.25</td><td>1.48</td><td>1.35</td><td>B_Bt4</td><td>mineral</td></tr><tr><th>9</th><td>03KY145003_04KY-145-001</td><td>KY0136</td><td>37.1135</td><td>-88.7034</td><td>31/10/2003</td><td>0</td><td>23</td><td>2.3</td><td>1.36</td><td>1.44</td><td>A_Ap</td><td>mineral</td></tr><tr><th>10</th><td>03KY145003_04KY-145-001</td><td>KY0137</td><td>37.1135</td><td>-88.7034</td><td>31/10/2003</td><td>23</td><td>33</td><td>0.93</td><td>1.26</td><td>1.37</td><td>A_AB</td><td>mineral</td></tr><tr><th>11</th><td>03KY145003_04KY-145-001</td><td>KY0138</td><td>37.1135</td><td>-88.7034</td><td>31/10/2003</td><td>33</td><td>81</td><td>0.47</td><td>1.42</td><td>1.34</td><td>B_Bt1</td><td>mineral</td></tr><tr><th>12</th><td>03KY145003_04KY-145-001</td><td>KY0139</td><td>37.1135</td><td>-88.7034</td><td>31/10/2003</td><td>81</td><td>97</td><td>0.28</td><td>1.48</td><td>1.37</td><td>B_Bt2</td><td>mineral</td></tr><tr><th>13</th><td>03KY145003_04KY-145-001</td><td>KY0140</td><td>37.1135</td><td>-88.7034</td><td>31/10/2003</td><td>97</td><td>100</td><td>0.27</td><td>1.48</td><td>1.36</td><td>B_Bt3</td><td>mineral</td></tr><tr><th>14</th><td>04KY-145-002_04KY-145-002</td><td>KY0143</td><td>37.1123</td><td>-88.7036</td><td>31/10/2003</td><td>0</td><td>13</td><td>2.59</td><td>1.31</td><td>1.41</td><td>A_Ap</td><td>mineral</td></tr><tr><th>15</th><td>04KY-145-002_04KY-145-002</td><td>KY0144</td><td>37.1123</td><td>-88.7036</td><td>31/10/2003</td><td>13</td><td>25</td><td>0.94</td><td>1.39</td><td>1.4</td><td>B_2Bt1</td><td>mineral</td></tr><tr><th>16</th><td>04KY-145-002_04KY-145-002</td><td>KY0145</td><td>37.1123</td><td>-88.7036</td><td>31/10/2003</td><td>25</td><td>61</td><td>0.39</td><td>1.42</td><td>1.38</td><td>B_2Bt2</td><td>mineral</td></tr><tr><th>17</th><td>04KY-145-002_04KY-145-002</td><td>KY0146</td><td>37.1123</td><td>-88.7036</td><td>31/10/2003</td><td>61</td><td>91</td><td>0.26</td><td>1.49</td><td>1.38</td><td>B_2Bt3</td><td>mineral</td></tr><tr><th>18</th><td>04KY-145-002_04KY-145-002</td><td>KY0147</td><td>37.1123</td><td>-88.7036</td><td>31/10/2003</td><td>91</td><td>100</td><td>0.21</td><td>1.44</td><td>1.38</td><td>B_2Btg</td><td>mineral</td></tr><tr><th>19</th><td>04KY145001_04KY-145-003</td><td>KY0148</td><td>37.1093</td><td>-88.6962</td><td>04/11/2003</td><td>0</td><td>20</td><td>1.54</td><td>1.34</td><td>1.43</td><td>A_Ap</td><td>mineral</td></tr><tr><th>20</th><td>04KY145001_04KY-145-003</td><td>KY0149</td><td>37.1093</td><td>-88.6962</td><td>04/11/2003</td><td>20</td><td>41</td><td>0.72</td><td>1.43</td><td>1.39</td><td>B_Btg1</td><td>mineral</td></tr><tr><th>&vellip;</th><td>&vellip;</td><td>&vellip;</td><td>&vellip;</td><td>&vellip;</td><td>&vellip;</td><td>&vellip;</td><td>&vellip;</td><td>&vellip;</td><td>&vellip;</td><td>&vellip;</td><td>&vellip;</td><td>&vellip;</td></tr></tbody></table>"
      ],
      "text/latex": [
       "\\begin{tabular}{r|cccccccccccc}\n",
       "\t& sp\\_name & layer\\_name & lat\\_dec\\_deg & long\\_dec\\_deg & obs\\_date\\_yyyymmdd & layer\\_top\\_cm & layer\\_bot\\_cm & oc\\_percent & bd\\_organic & bd\\_mineral & hzn\\_merged & infer\\_DESIG\\\\\n",
       "\t\\hline\n",
       "\t& String & String & Float64 & Float64 & String? & Int64 & Int64 & Float64 & Float64 & Float64 & String & String\\\\\n",
       "\t\\hline\n",
       "\t1 & NMJ 4\\_NMJ 4 & NMJ 4.1 & 32.5738 & -106.615 & 15/01/2010 & 0 & 2 & 0.5 & 0.9 & 1.25 & A\\_A & mineral \\\\\n",
       "\t2 & NMJ 4\\_NMJ 4 & NMJ 4.2 & 32.5738 & -106.615 & 15/01/2010 & 2 & 60 & 1.03 & 1.28 & 1.33 & B\\_BW & mineral \\\\\n",
       "\t3 & NMJ 4\\_NMJ 4 & NMJ 4.3 & 32.5738 & -106.615 & 15/01/2010 & 60 & 100 & 2.11 & 1.37 & 1.34 & B\\_BK & mineral \\\\\n",
       "\t4 & 04KY-007-001\\_04KY-007-001 & KY0099 & 37.1613 & -89.0593 & 15/04/2004 & 0 & 18 & 2.15 & 1.33 & 1.42 & A\\_Ap & mineral \\\\\n",
       "\t5 & 04KY-007-001\\_04KY-007-001 & KY0100 & 37.1613 & -89.0593 & 15/04/2004 & 18 & 28 & 0.84 & 1.41 & 1.39 & B\\_Bt1 & mineral \\\\\n",
       "\t6 & 04KY-007-001\\_04KY-007-001 & KY0101 & 37.1613 & -89.0593 & 15/04/2004 & 28 & 58 & 0.52 & 1.45 & 1.38 & B\\_Bt2 & mineral \\\\\n",
       "\t7 & 04KY-007-001\\_04KY-007-001 & KY0102 & 37.1613 & -89.0593 & 15/04/2004 & 58 & 84 & 0.34 & 1.46 & 1.37 & B\\_Bt3 & mineral \\\\\n",
       "\t8 & 04KY-007-001\\_04KY-007-001 & KY0103 & 37.1613 & -89.0593 & 15/04/2004 & 84 & 100 & 0.25 & 1.48 & 1.35 & B\\_Bt4 & mineral \\\\\n",
       "\t9 & 03KY145003\\_04KY-145-001 & KY0136 & 37.1135 & -88.7034 & 31/10/2003 & 0 & 23 & 2.3 & 1.36 & 1.44 & A\\_Ap & mineral \\\\\n",
       "\t10 & 03KY145003\\_04KY-145-001 & KY0137 & 37.1135 & -88.7034 & 31/10/2003 & 23 & 33 & 0.93 & 1.26 & 1.37 & A\\_AB & mineral \\\\\n",
       "\t11 & 03KY145003\\_04KY-145-001 & KY0138 & 37.1135 & -88.7034 & 31/10/2003 & 33 & 81 & 0.47 & 1.42 & 1.34 & B\\_Bt1 & mineral \\\\\n",
       "\t12 & 03KY145003\\_04KY-145-001 & KY0139 & 37.1135 & -88.7034 & 31/10/2003 & 81 & 97 & 0.28 & 1.48 & 1.37 & B\\_Bt2 & mineral \\\\\n",
       "\t13 & 03KY145003\\_04KY-145-001 & KY0140 & 37.1135 & -88.7034 & 31/10/2003 & 97 & 100 & 0.27 & 1.48 & 1.36 & B\\_Bt3 & mineral \\\\\n",
       "\t14 & 04KY-145-002\\_04KY-145-002 & KY0143 & 37.1123 & -88.7036 & 31/10/2003 & 0 & 13 & 2.59 & 1.31 & 1.41 & A\\_Ap & mineral \\\\\n",
       "\t15 & 04KY-145-002\\_04KY-145-002 & KY0144 & 37.1123 & -88.7036 & 31/10/2003 & 13 & 25 & 0.94 & 1.39 & 1.4 & B\\_2Bt1 & mineral \\\\\n",
       "\t16 & 04KY-145-002\\_04KY-145-002 & KY0145 & 37.1123 & -88.7036 & 31/10/2003 & 25 & 61 & 0.39 & 1.42 & 1.38 & B\\_2Bt2 & mineral \\\\\n",
       "\t17 & 04KY-145-002\\_04KY-145-002 & KY0146 & 37.1123 & -88.7036 & 31/10/2003 & 61 & 91 & 0.26 & 1.49 & 1.38 & B\\_2Bt3 & mineral \\\\\n",
       "\t18 & 04KY-145-002\\_04KY-145-002 & KY0147 & 37.1123 & -88.7036 & 31/10/2003 & 91 & 100 & 0.21 & 1.44 & 1.38 & B\\_2Btg & mineral \\\\\n",
       "\t19 & 04KY145001\\_04KY-145-003 & KY0148 & 37.1093 & -88.6962 & 04/11/2003 & 0 & 20 & 1.54 & 1.34 & 1.43 & A\\_Ap & mineral \\\\\n",
       "\t20 & 04KY145001\\_04KY-145-003 & KY0149 & 37.1093 & -88.6962 & 04/11/2003 & 20 & 41 & 0.72 & 1.43 & 1.39 & B\\_Btg1 & mineral \\\\\n",
       "\t$\\dots$ & $\\dots$ & $\\dots$ & $\\dots$ & $\\dots$ & $\\dots$ & $\\dots$ & $\\dots$ & $\\dots$ & $\\dots$ & $\\dots$ & $\\dots$ & $\\dots$ \\\\\n",
       "\\end{tabular}\n"
      ],
      "text/plain": [
       "129018×12 DataFrame\n",
       "│ Row    │ sp_name                   │ layer_name │ lat_dec_deg │ long_dec_deg │ obs_date_yyyymmdd │ layer_top_cm │ layer_bot_cm │ oc_percent │ bd_organic │ bd_mineral │ hzn_merged │ infer_DESIG │\n",
       "│        │ \u001b[90mString\u001b[39m                    │ \u001b[90mString\u001b[39m     │ \u001b[90mFloat64\u001b[39m     │ \u001b[90mFloat64\u001b[39m      │ \u001b[90mString?\u001b[39m           │ \u001b[90mInt64\u001b[39m        │ \u001b[90mInt64\u001b[39m        │ \u001b[90mFloat64\u001b[39m    │ \u001b[90mFloat64\u001b[39m    │ \u001b[90mFloat64\u001b[39m    │ \u001b[90mString\u001b[39m     │ \u001b[90mString\u001b[39m      │\n",
       "├────────┼───────────────────────────┼────────────┼─────────────┼──────────────┼───────────────────┼──────────────┼──────────────┼────────────┼────────────┼────────────┼────────────┼─────────────┤\n",
       "│ 1      │ NMJ 4_NMJ 4               │ NMJ 4.1    │ 32.5738     │ -106.615     │ 15/01/2010        │ 0            │ 2            │ 0.5        │ 0.9        │ 1.25       │ A_A        │ mineral     │\n",
       "│ 2      │ NMJ 4_NMJ 4               │ NMJ 4.2    │ 32.5738     │ -106.615     │ 15/01/2010        │ 2            │ 60           │ 1.03       │ 1.28       │ 1.33       │ B_BW       │ mineral     │\n",
       "│ 3      │ NMJ 4_NMJ 4               │ NMJ 4.3    │ 32.5738     │ -106.615     │ 15/01/2010        │ 60           │ 100          │ 2.11       │ 1.37       │ 1.34       │ B_BK       │ mineral     │\n",
       "│ 4      │ 04KY-007-001_04KY-007-001 │ KY0099     │ 37.1613     │ -89.0593     │ 15/04/2004        │ 0            │ 18           │ 2.15       │ 1.33       │ 1.42       │ A_Ap       │ mineral     │\n",
       "│ 5      │ 04KY-007-001_04KY-007-001 │ KY0100     │ 37.1613     │ -89.0593     │ 15/04/2004        │ 18           │ 28           │ 0.84       │ 1.41       │ 1.39       │ B_Bt1      │ mineral     │\n",
       "⋮\n",
       "│ 129013 │ UM25 NW_81025             │ 81025,2    │ 61.5167     │ -118.0       │ 1968              │ 10           │ 28           │ 2.09       │ 1.34       │ 1.41       │            │ mineral     │\n",
       "│ 129014 │ UM25 NW_81025             │ 81025,3    │ 61.5167     │ -118.0       │ 1968              │ 28           │ 91           │ 0.75       │ 1.34       │ 1.35       │            │ mineral     │\n",
       "│ 129015 │ UM25 NW_81025             │ 81025,4    │ 61.5167     │ -118.0       │ 1968              │ 91           │ 100          │ 0.64       │ 1.36       │ 1.34       │            │ mineral     │\n",
       "│ 129016 │ UM29 NW_81029             │ 81029,1    │ 61.2667     │ -119.783     │ 1968              │ 0            │ 10           │ 1.86       │ 1.24       │ 1.39       │            │ mineral     │\n",
       "│ 129017 │ UM29 NW_81029             │ 81029,2    │ 61.2667     │ -119.783     │ 1968              │ 10           │ 43           │ 0.23       │ 1.31       │ 1.38       │            │ mineral     │\n",
       "│ 129018 │ UM29 NW_81029             │ 81029,3    │ 61.2667     │ -119.783     │ 1968              │ 43           │ 100          │ 0.7        │ 1.34       │ 1.35       │            │ mineral     │"
      ]
     },
     "execution_count": 17,
     "metadata": {},
     "output_type": "execute_result"
    }
   ],
   "source": [
    "df_hz_clipped = compute_clipped_profiles(df_hz)"
   ]
  },
  {
   "cell_type": "markdown",
   "metadata": {},
   "source": [
    "#### For the ISCN dataset, organic carbon stock can be calculated as:\n",
    "\n",
    "( 100cm x 100cm x layer\\_height [cm] x bulk\\_density [g/cm³] x oc_percent / 100 ) / 1000 \n",
    "\n",
    "ORG carbon stock in [Kg]"
   ]
  },
  {
   "cell_type": "code",
   "execution_count": 18,
   "metadata": {
    "scrolled": false
   },
   "outputs": [
    {
     "data": {
      "text/plain": [
       "orgc_storage_desig (generic function with 1 method)"
      ]
     },
     "execution_count": 18,
     "metadata": {},
     "output_type": "execute_result"
    }
   ],
   "source": [
    "function orgc_storage_desig(profile) \n",
    "\n",
    "id = profile.sp_name[1]\n",
    "top = profile.layer_top_cm\n",
    "bot = profile.layer_bot_cm\n",
    "des = profile.infer_DESIG\n",
    "\n",
    "org_bd = profile.bd_organic #[g/cm³]\n",
    "min_bd = profile.bd_mineral\n",
    "\n",
    "orgc = profile.oc_percent #[%]\n",
    "\n",
    "layer_height = (bot.-top)\n",
    "num_layers = length(top)\n",
    "\n",
    "orgc_stored_mineral = 0.0\n",
    "orgc_stored_organic = 0.0\n",
    "\n",
    "\n",
    "for l in 1:num_layers\n",
    "    #using different BD values depending on layer designation\n",
    "    if des[l] == \"organic\"; orgc_stored_organic += ( 100 * 100 * layer_height[l] ) * ( org_bd[l] * orgc[l] / 100 ) / 1000; end\n",
    "    if des[l] == \"mineral\"; orgc_stored_mineral += ( 100 * 100 * layer_height[l] ) * ( min_bd[l] * orgc[l] / 100 ) / 1000; end\n",
    "\n",
    "end\n",
    "\n",
    "return DataFrame(profile_id = id, \n",
    "                 orgc_stored_mineral = orgc_stored_mineral, \n",
    "                 orgc_stored_organic = orgc_stored_organic)\n",
    "end"
   ]
  },
  {
   "cell_type": "code",
   "execution_count": 19,
   "metadata": {
    "scrolled": false
   },
   "outputs": [
    {
     "data": {
      "text/plain": [
       "compute_orgc_storage_desig (generic function with 1 method)"
      ]
     },
     "execution_count": 19,
     "metadata": {},
     "output_type": "execute_result"
    }
   ],
   "source": [
    "function compute_orgc_storage_desig(df)\n",
    "\n",
    "    unique_profiles = unique(df.sp_name)\n",
    "\n",
    "    #initialize result var with 1st call to function\n",
    "    result = orgc_storage_desig(df[df.sp_name .== unique_profiles[1],:])\n",
    "\n",
    "    for profile in unique_profiles[2:end]\n",
    "\n",
    "        append!(result, orgc_storage_desig(df[df.sp_name .== profile,:]))\n",
    "\n",
    "    end\n",
    "\n",
    "    return result\n",
    "end"
   ]
  },
  {
   "cell_type": "code",
   "execution_count": 20,
   "metadata": {
    "scrolled": true
   },
   "outputs": [
    {
     "data": {
      "text/html": [
       "<table class=\"data-frame\"><thead><tr><th></th><th>profile_id</th><th>orgc_stored_mineral</th><th>orgc_stored_organic</th></tr><tr><th></th><th>String</th><th>Float64</th><th>Float64</th></tr></thead><tbody><p>37,297 rows × 3 columns</p><tr><th>1</th><td>NCC 1_NCC 1</td><td>16.6137</td><td>0.0</td></tr><tr><th>2</th><td>NCC 2_NCC 2</td><td>25.8505</td><td>0.0</td></tr><tr><th>3</th><td>NCC 3_NCC 3</td><td>19.2921</td><td>0.0</td></tr><tr><th>4</th><td>NCC 4_NCC 4</td><td>16.987</td><td>0.0</td></tr><tr><th>5</th><td>NCC 5_NCC 5</td><td>38.908</td><td>0.0</td></tr><tr><th>6</th><td>NMJ 1_NMJ 1</td><td>38.9916</td><td>0.0</td></tr><tr><th>7</th><td>NMJ 2_NMJ 2</td><td>31.2134</td><td>0.0</td></tr><tr><th>8</th><td>NMJ 3_NMJ 3</td><td>24.7325</td><td>0.0</td></tr><tr><th>9</th><td>NMJ 4_NMJ 4</td><td>19.38</td><td>0.0</td></tr><tr><th>10</th><td>NMJ 5_NMJ 5</td><td>19.083</td><td>0.0</td></tr><tr><th>11</th><td>NMJ 6_NMJ 6</td><td>39.6416</td><td>0.0</td></tr><tr><th>12</th><td>SRS 1_SRS 1</td><td>13.464</td><td>0.0</td></tr><tr><th>13</th><td>SRS 2_SRS 2</td><td>17.633</td><td>0.0</td></tr><tr><th>14</th><td>SRS 3_SRS 3</td><td>19.6782</td><td>0.0</td></tr><tr><th>15</th><td>SRS 4_SRS 4</td><td>24.7668</td><td>0.0</td></tr><tr><th>16</th><td>SRS 5_SRS 5</td><td>18.7016</td><td>0.0</td></tr><tr><th>17</th><td>SRS 6_SRS 6</td><td>16.326</td><td>0.0</td></tr><tr><th>18</th><td>04KY-007-001_04KY-007-001</td><td>13.0153</td><td>0.0</td></tr><tr><th>19</th><td>04KY-025-002_04KY-025-UK2</td><td>27.3757</td><td>0.0</td></tr><tr><th>20</th><td>03KY145003_04KY-145-001</td><td>17.0512</td><td>0.0</td></tr><tr><th>&vellip;</th><td>&vellip;</td><td>&vellip;</td><td>&vellip;</td></tr></tbody></table>"
      ],
      "text/latex": [
       "\\begin{tabular}{r|ccc}\n",
       "\t& profile\\_id & orgc\\_stored\\_mineral & orgc\\_stored\\_organic\\\\\n",
       "\t\\hline\n",
       "\t& String & Float64 & Float64\\\\\n",
       "\t\\hline\n",
       "\t1 & NCC 1\\_NCC 1 & 16.6137 & 0.0 \\\\\n",
       "\t2 & NCC 2\\_NCC 2 & 25.8505 & 0.0 \\\\\n",
       "\t3 & NCC 3\\_NCC 3 & 19.2921 & 0.0 \\\\\n",
       "\t4 & NCC 4\\_NCC 4 & 16.987 & 0.0 \\\\\n",
       "\t5 & NCC 5\\_NCC 5 & 38.908 & 0.0 \\\\\n",
       "\t6 & NMJ 1\\_NMJ 1 & 38.9916 & 0.0 \\\\\n",
       "\t7 & NMJ 2\\_NMJ 2 & 31.2134 & 0.0 \\\\\n",
       "\t8 & NMJ 3\\_NMJ 3 & 24.7325 & 0.0 \\\\\n",
       "\t9 & NMJ 4\\_NMJ 4 & 19.38 & 0.0 \\\\\n",
       "\t10 & NMJ 5\\_NMJ 5 & 19.083 & 0.0 \\\\\n",
       "\t11 & NMJ 6\\_NMJ 6 & 39.6416 & 0.0 \\\\\n",
       "\t12 & SRS 1\\_SRS 1 & 13.464 & 0.0 \\\\\n",
       "\t13 & SRS 2\\_SRS 2 & 17.633 & 0.0 \\\\\n",
       "\t14 & SRS 3\\_SRS 3 & 19.6782 & 0.0 \\\\\n",
       "\t15 & SRS 4\\_SRS 4 & 24.7668 & 0.0 \\\\\n",
       "\t16 & SRS 5\\_SRS 5 & 18.7016 & 0.0 \\\\\n",
       "\t17 & SRS 6\\_SRS 6 & 16.326 & 0.0 \\\\\n",
       "\t18 & 04KY-007-001\\_04KY-007-001 & 13.0153 & 0.0 \\\\\n",
       "\t19 & 04KY-025-002\\_04KY-025-UK2 & 27.3757 & 0.0 \\\\\n",
       "\t20 & 03KY145003\\_04KY-145-001 & 17.0512 & 0.0 \\\\\n",
       "\t$\\dots$ & $\\dots$ & $\\dots$ & $\\dots$ \\\\\n",
       "\\end{tabular}\n"
      ],
      "text/plain": [
       "37297×3 DataFrame\n",
       "│ Row   │ profile_id    │ orgc_stored_mineral │ orgc_stored_organic │\n",
       "│       │ \u001b[90mString\u001b[39m        │ \u001b[90mFloat64\u001b[39m             │ \u001b[90mFloat64\u001b[39m             │\n",
       "├───────┼───────────────┼─────────────────────┼─────────────────────┤\n",
       "│ 1     │ NCC 1_NCC 1   │ 16.6137             │ 0.0                 │\n",
       "│ 2     │ NCC 2_NCC 2   │ 25.8505             │ 0.0                 │\n",
       "│ 3     │ NCC 3_NCC 3   │ 19.2921             │ 0.0                 │\n",
       "│ 4     │ NCC 4_NCC 4   │ 16.987              │ 0.0                 │\n",
       "│ 5     │ NCC 5_NCC 5   │ 38.908              │ 0.0                 │\n",
       "⋮\n",
       "│ 37292 │ UM29 NW_81029 │ 9.39732             │ 0.0                 │\n",
       "│ 37293 │ UM30 NW_81030 │ 8.04976             │ 0.0                 │\n",
       "│ 37294 │ UM32 NW_81032 │ 5.69788             │ 0.0                 │\n",
       "│ 37295 │ UM33 NW_81033 │ 16.7454             │ 0.0                 │\n",
       "│ 37296 │ UM34 NW_81034 │ 1.1259              │ 0.0                 │\n",
       "│ 37297 │ UM36 NW_81036 │ 22.3737             │ 0.0                 │"
      ]
     },
     "execution_count": 20,
     "metadata": {},
     "output_type": "execute_result"
    }
   ],
   "source": [
    "#compute stored ORGC for continuous, not clipped, profiles\n",
    "df_storage_cont = compute_orgc_storage_desig(df_hz)"
   ]
  },
  {
   "cell_type": "code",
   "execution_count": 21,
   "metadata": {
    "scrolled": false
   },
   "outputs": [],
   "source": [
    "#compute stored ORGC for continuous and clipped profiles\n",
    "df_storage_clipped = compute_orgc_storage_desig(df_hz_clipped);"
   ]
  },
  {
   "cell_type": "code",
   "execution_count": 22,
   "metadata": {
    "scrolled": true
   },
   "outputs": [
    {
     "data": {
      "text/html": [
       "<table class=\"data-frame\"><thead><tr><th></th><th>profile_id</th><th>lat_dec_deg</th><th>long_dec_deg</th><th>obs_date_yyyymmdd</th></tr><tr><th></th><th>String</th><th>Float64</th><th>Float64</th><th>String?</th></tr></thead><tbody><p>37,333 rows × 4 columns</p><tr><th>1</th><td>NCC 1_NCC 1</td><td>35.051</td><td>-83.4342</td><td>15/07/2009</td></tr><tr><th>2</th><td>NCC 2_NCC 2</td><td>35.0484</td><td>-83.4342</td><td>15/07/2009</td></tr><tr><th>3</th><td>NCC 3_NCC 3</td><td>35.0473</td><td>-83.434</td><td>15/07/2009</td></tr><tr><th>4</th><td>NCC 4_NCC 4</td><td>35.0385</td><td>-83.4598</td><td>15/07/2009</td></tr><tr><th>5</th><td>NCC 5_NCC 5</td><td>35.031</td><td>-83.4619</td><td>15/07/2009</td></tr><tr><th>6</th><td>NMJ 1_NMJ 1</td><td>32.5603</td><td>-106.79</td><td>15/01/2010</td></tr><tr><th>7</th><td>NMJ 2_NMJ 2</td><td>32.5734</td><td>-106.672</td><td>15/01/2010</td></tr><tr><th>8</th><td>NMJ 3_NMJ 3</td><td>32.5717</td><td>-106.644</td><td>15/01/2010</td></tr><tr><th>9</th><td>NMJ 4_NMJ 4</td><td>32.5738</td><td>-106.615</td><td>15/01/2010</td></tr><tr><th>10</th><td>NMJ 5_NMJ 5</td><td>32.6204</td><td>-106.551</td><td>15/01/2010</td></tr><tr><th>11</th><td>NMJ 6_NMJ 6</td><td>32.5895</td><td>-106.534</td><td>15/01/2010</td></tr><tr><th>12</th><td>SRS 1_SRS 1</td><td>25.7463</td><td>-80.6537</td><td>15/09/2009</td></tr><tr><th>13</th><td>SRS 2_SRS 2</td><td>25.5497</td><td>-80.7852</td><td>15/09/2009</td></tr><tr><th>14</th><td>SRS 3_SRS 3</td><td>25.4682</td><td>-80.8533</td><td>15/09/2009</td></tr><tr><th>15</th><td>SRS 4_SRS 4</td><td>25.4098</td><td>-80.9643</td><td>15/09/2009</td></tr><tr><th>16</th><td>SRS 5_SRS 5</td><td>25.377</td><td>-81.0323</td><td>15/09/2009</td></tr><tr><th>17</th><td>SRS 6_SRS 6</td><td>25.3646</td><td>-81.078</td><td>15/09/2009</td></tr><tr><th>18</th><td>04KY-007-001_04KY-007-001</td><td>37.1613</td><td>-89.0593</td><td>15/04/2004</td></tr><tr><th>19</th><td>04KY-025-002_04KY-025-UK2</td><td>37.4641</td><td>-83.1559</td><td>28/07/2004</td></tr><tr><th>20</th><td>03KY145003_04KY-145-001</td><td>37.1135</td><td>-88.7034</td><td>31/10/2003</td></tr><tr><th>&vellip;</th><td>&vellip;</td><td>&vellip;</td><td>&vellip;</td><td>&vellip;</td></tr></tbody></table>"
      ],
      "text/latex": [
       "\\begin{tabular}{r|cccc}\n",
       "\t& profile\\_id & lat\\_dec\\_deg & long\\_dec\\_deg & obs\\_date\\_yyyymmdd\\\\\n",
       "\t\\hline\n",
       "\t& String & Float64 & Float64 & String?\\\\\n",
       "\t\\hline\n",
       "\t1 & NCC 1\\_NCC 1 & 35.051 & -83.4342 & 15/07/2009 \\\\\n",
       "\t2 & NCC 2\\_NCC 2 & 35.0484 & -83.4342 & 15/07/2009 \\\\\n",
       "\t3 & NCC 3\\_NCC 3 & 35.0473 & -83.434 & 15/07/2009 \\\\\n",
       "\t4 & NCC 4\\_NCC 4 & 35.0385 & -83.4598 & 15/07/2009 \\\\\n",
       "\t5 & NCC 5\\_NCC 5 & 35.031 & -83.4619 & 15/07/2009 \\\\\n",
       "\t6 & NMJ 1\\_NMJ 1 & 32.5603 & -106.79 & 15/01/2010 \\\\\n",
       "\t7 & NMJ 2\\_NMJ 2 & 32.5734 & -106.672 & 15/01/2010 \\\\\n",
       "\t8 & NMJ 3\\_NMJ 3 & 32.5717 & -106.644 & 15/01/2010 \\\\\n",
       "\t9 & NMJ 4\\_NMJ 4 & 32.5738 & -106.615 & 15/01/2010 \\\\\n",
       "\t10 & NMJ 5\\_NMJ 5 & 32.6204 & -106.551 & 15/01/2010 \\\\\n",
       "\t11 & NMJ 6\\_NMJ 6 & 32.5895 & -106.534 & 15/01/2010 \\\\\n",
       "\t12 & SRS 1\\_SRS 1 & 25.7463 & -80.6537 & 15/09/2009 \\\\\n",
       "\t13 & SRS 2\\_SRS 2 & 25.5497 & -80.7852 & 15/09/2009 \\\\\n",
       "\t14 & SRS 3\\_SRS 3 & 25.4682 & -80.8533 & 15/09/2009 \\\\\n",
       "\t15 & SRS 4\\_SRS 4 & 25.4098 & -80.9643 & 15/09/2009 \\\\\n",
       "\t16 & SRS 5\\_SRS 5 & 25.377 & -81.0323 & 15/09/2009 \\\\\n",
       "\t17 & SRS 6\\_SRS 6 & 25.3646 & -81.078 & 15/09/2009 \\\\\n",
       "\t18 & 04KY-007-001\\_04KY-007-001 & 37.1613 & -89.0593 & 15/04/2004 \\\\\n",
       "\t19 & 04KY-025-002\\_04KY-025-UK2 & 37.4641 & -83.1559 & 28/07/2004 \\\\\n",
       "\t20 & 03KY145003\\_04KY-145-001 & 37.1135 & -88.7034 & 31/10/2003 \\\\\n",
       "\t$\\dots$ & $\\dots$ & $\\dots$ & $\\dots$ & $\\dots$ \\\\\n",
       "\\end{tabular}\n"
      ],
      "text/plain": [
       "37333×4 DataFrame\n",
       "│ Row   │ profile_id    │ lat_dec_deg │ long_dec_deg │ obs_date_yyyymmdd │\n",
       "│       │ \u001b[90mString\u001b[39m        │ \u001b[90mFloat64\u001b[39m     │ \u001b[90mFloat64\u001b[39m      │ \u001b[90mString?\u001b[39m           │\n",
       "├───────┼───────────────┼─────────────┼──────────────┼───────────────────┤\n",
       "│ 1     │ NCC 1_NCC 1   │ 35.051      │ -83.4342     │ 15/07/2009        │\n",
       "│ 2     │ NCC 2_NCC 2   │ 35.0484     │ -83.4342     │ 15/07/2009        │\n",
       "│ 3     │ NCC 3_NCC 3   │ 35.0473     │ -83.434      │ 15/07/2009        │\n",
       "│ 4     │ NCC 4_NCC 4   │ 35.0385     │ -83.4598     │ 15/07/2009        │\n",
       "│ 5     │ NCC 5_NCC 5   │ 35.031      │ -83.4619     │ 15/07/2009        │\n",
       "⋮\n",
       "│ 37328 │ UM29 NW_81029 │ 61.2667     │ -119.783     │ 1968              │\n",
       "│ 37329 │ UM30 NW_81030 │ 61.5667     │ -120.667     │ 1968              │\n",
       "│ 37330 │ UM32 NW_81032 │ 60.9333     │ -116.933     │ 1968              │\n",
       "│ 37331 │ UM33 NW_81033 │ 60.8        │ -115.767     │ 1968              │\n",
       "│ 37332 │ UM34 NW_81034 │ 60.7833     │ -115.783     │ 1968              │\n",
       "│ 37333 │ UM36 NW_81036 │ 60.8167     │ -115.783     │ 1968              │"
      ]
     },
     "execution_count": 22,
     "metadata": {},
     "output_type": "execute_result"
    }
   ],
   "source": [
    "#profiles' info from the original dataset\n",
    "df_info = df_hz[:,[:sp_name, :lat_dec_deg, :long_dec_deg, :obs_date_yyyymmdd]]\n",
    "rename!(df_info, :sp_name => :profile_id )\n",
    "unique!(df_info)"
   ]
  },
  {
   "cell_type": "code",
   "execution_count": 23,
   "metadata": {
    "scrolled": false
   },
   "outputs": [
    {
     "data": {
      "text/plain": [
       "depth_desig (generic function with 1 method)"
      ]
     },
     "execution_count": 23,
     "metadata": {},
     "output_type": "execute_result"
    }
   ],
   "source": [
    "function depth_desig(profile) \n",
    "\n",
    "    id = profile.sp_name[1]\n",
    "    des = profile.infer_DESIG\n",
    "    top = profile.layer_top_cm\n",
    "    bot = profile.layer_bot_cm\n",
    "\n",
    "    missing_val = -1\n",
    "\n",
    "    num_layers = length(top)\n",
    "\n",
    "    mineral_index = [i for i in 1:num_layers if des[i] == \"mineral\"]\n",
    "    organic_index = [i for i in 1:num_layers if des[i] == \"organic\"]\n",
    "\n",
    "    #values to return\n",
    "\n",
    "    profile_top = minimum(top)\n",
    "    profile_bot = maximum(bot)\n",
    "\n",
    "    mineral_top = isempty(mineral_index) ? missing_val : minimum(top[mineral_index])\n",
    "    mineral_bot = isempty(mineral_index) ? missing_val : maximum(bot[mineral_index])\n",
    "\n",
    "    organic_top = isempty(organic_index) ? missing_val : minimum(top[organic_index])\n",
    "    organic_bot = isempty(organic_index) ? missing_val : maximum(bot[organic_index])\n",
    "\n",
    "\n",
    "    return DataFrame(profile_id = id, \n",
    "                     profile_top = profile_top,\n",
    "                     profile_bot = profile_bot,\n",
    "                     organic_top = organic_top,\n",
    "                     organic_bot = organic_bot,\n",
    "                     mineral_top = mineral_top,\n",
    "                     mineral_bot = mineral_bot)\n",
    "\n",
    "\n",
    "end"
   ]
  },
  {
   "cell_type": "code",
   "execution_count": 24,
   "metadata": {
    "scrolled": false
   },
   "outputs": [
    {
     "data": {
      "text/plain": [
       "compute_depth_desig (generic function with 1 method)"
      ]
     },
     "execution_count": 24,
     "metadata": {},
     "output_type": "execute_result"
    }
   ],
   "source": [
    "function compute_depth_desig(df)\n",
    "\n",
    "    unique_profiles = unique(df.sp_name)\n",
    "\n",
    "    #initialize results with 1st call to function\n",
    "    result = depth_desig(df[df.sp_name .== unique_profiles[1],:])\n",
    "\n",
    "    for profile in unique_profiles[2:end]\n",
    "\n",
    "        append!(result, depth_desig(df[df.sp_name .== profile,:]))\n",
    "\n",
    "    end\n",
    "\n",
    "    return result\n",
    "end"
   ]
  },
  {
   "cell_type": "code",
   "execution_count": 25,
   "metadata": {
    "scrolled": true
   },
   "outputs": [
    {
     "data": {
      "text/html": [
       "<table class=\"data-frame\"><thead><tr><th></th><th>profile_id</th><th>profile_top</th><th>profile_bot</th><th>organic_top</th><th>organic_bot</th><th>mineral_top</th><th>mineral_bot</th></tr><tr><th></th><th>String</th><th>Int64</th><th>Int64</th><th>Int64</th><th>Int64</th><th>Int64</th><th>Int64</th></tr></thead><tbody><p>37,297 rows × 7 columns</p><tr><th>1</th><td>NCC 1_NCC 1</td><td>0</td><td>90</td><td>-1</td><td>-1</td><td>0</td><td>90</td></tr><tr><th>2</th><td>NCC 2_NCC 2</td><td>0</td><td>90</td><td>-1</td><td>-1</td><td>0</td><td>90</td></tr><tr><th>3</th><td>NCC 3_NCC 3</td><td>0</td><td>90</td><td>-1</td><td>-1</td><td>0</td><td>90</td></tr><tr><th>4</th><td>NCC 4_NCC 4</td><td>0</td><td>90</td><td>-1</td><td>-1</td><td>0</td><td>90</td></tr><tr><th>5</th><td>NCC 5_NCC 5</td><td>0</td><td>90</td><td>-1</td><td>-1</td><td>0</td><td>90</td></tr><tr><th>6</th><td>NMJ 1_NMJ 1</td><td>0</td><td>50</td><td>-1</td><td>-1</td><td>0</td><td>50</td></tr><tr><th>7</th><td>NMJ 2_NMJ 2</td><td>0</td><td>60</td><td>-1</td><td>-1</td><td>0</td><td>60</td></tr><tr><th>8</th><td>NMJ 3_NMJ 3</td><td>0</td><td>45</td><td>-1</td><td>-1</td><td>0</td><td>45</td></tr><tr><th>9</th><td>NMJ 4_NMJ 4</td><td>0</td><td>100</td><td>-1</td><td>-1</td><td>0</td><td>100</td></tr><tr><th>10</th><td>NMJ 5_NMJ 5</td><td>0</td><td>45</td><td>-1</td><td>-1</td><td>0</td><td>45</td></tr><tr><th>11</th><td>NMJ 6_NMJ 6</td><td>0</td><td>75</td><td>-1</td><td>-1</td><td>0</td><td>75</td></tr><tr><th>12</th><td>SRS 1_SRS 1</td><td>0</td><td>6</td><td>-1</td><td>-1</td><td>0</td><td>6</td></tr><tr><th>13</th><td>SRS 2_SRS 2</td><td>0</td><td>10</td><td>-1</td><td>-1</td><td>0</td><td>10</td></tr><tr><th>14</th><td>SRS 3_SRS 3</td><td>0</td><td>10</td><td>-1</td><td>-1</td><td>0</td><td>10</td></tr><tr><th>15</th><td>SRS 4_SRS 4</td><td>0</td><td>12</td><td>-1</td><td>-1</td><td>0</td><td>12</td></tr><tr><th>16</th><td>SRS 5_SRS 5</td><td>0</td><td>11</td><td>-1</td><td>-1</td><td>0</td><td>11</td></tr><tr><th>17</th><td>SRS 6_SRS 6</td><td>0</td><td>13</td><td>-1</td><td>-1</td><td>0</td><td>13</td></tr><tr><th>18</th><td>04KY-007-001_04KY-007-001</td><td>0</td><td>188</td><td>-1</td><td>-1</td><td>0</td><td>188</td></tr><tr><th>19</th><td>04KY-025-002_04KY-025-UK2</td><td>3</td><td>135</td><td>-1</td><td>-1</td><td>3</td><td>135</td></tr><tr><th>20</th><td>03KY145003_04KY-145-001</td><td>0</td><td>234</td><td>-1</td><td>-1</td><td>0</td><td>234</td></tr><tr><th>&vellip;</th><td>&vellip;</td><td>&vellip;</td><td>&vellip;</td><td>&vellip;</td><td>&vellip;</td><td>&vellip;</td><td>&vellip;</td></tr></tbody></table>"
      ],
      "text/latex": [
       "\\begin{tabular}{r|ccccccc}\n",
       "\t& profile\\_id & profile\\_top & profile\\_bot & organic\\_top & organic\\_bot & mineral\\_top & mineral\\_bot\\\\\n",
       "\t\\hline\n",
       "\t& String & Int64 & Int64 & Int64 & Int64 & Int64 & Int64\\\\\n",
       "\t\\hline\n",
       "\t1 & NCC 1\\_NCC 1 & 0 & 90 & -1 & -1 & 0 & 90 \\\\\n",
       "\t2 & NCC 2\\_NCC 2 & 0 & 90 & -1 & -1 & 0 & 90 \\\\\n",
       "\t3 & NCC 3\\_NCC 3 & 0 & 90 & -1 & -1 & 0 & 90 \\\\\n",
       "\t4 & NCC 4\\_NCC 4 & 0 & 90 & -1 & -1 & 0 & 90 \\\\\n",
       "\t5 & NCC 5\\_NCC 5 & 0 & 90 & -1 & -1 & 0 & 90 \\\\\n",
       "\t6 & NMJ 1\\_NMJ 1 & 0 & 50 & -1 & -1 & 0 & 50 \\\\\n",
       "\t7 & NMJ 2\\_NMJ 2 & 0 & 60 & -1 & -1 & 0 & 60 \\\\\n",
       "\t8 & NMJ 3\\_NMJ 3 & 0 & 45 & -1 & -1 & 0 & 45 \\\\\n",
       "\t9 & NMJ 4\\_NMJ 4 & 0 & 100 & -1 & -1 & 0 & 100 \\\\\n",
       "\t10 & NMJ 5\\_NMJ 5 & 0 & 45 & -1 & -1 & 0 & 45 \\\\\n",
       "\t11 & NMJ 6\\_NMJ 6 & 0 & 75 & -1 & -1 & 0 & 75 \\\\\n",
       "\t12 & SRS 1\\_SRS 1 & 0 & 6 & -1 & -1 & 0 & 6 \\\\\n",
       "\t13 & SRS 2\\_SRS 2 & 0 & 10 & -1 & -1 & 0 & 10 \\\\\n",
       "\t14 & SRS 3\\_SRS 3 & 0 & 10 & -1 & -1 & 0 & 10 \\\\\n",
       "\t15 & SRS 4\\_SRS 4 & 0 & 12 & -1 & -1 & 0 & 12 \\\\\n",
       "\t16 & SRS 5\\_SRS 5 & 0 & 11 & -1 & -1 & 0 & 11 \\\\\n",
       "\t17 & SRS 6\\_SRS 6 & 0 & 13 & -1 & -1 & 0 & 13 \\\\\n",
       "\t18 & 04KY-007-001\\_04KY-007-001 & 0 & 188 & -1 & -1 & 0 & 188 \\\\\n",
       "\t19 & 04KY-025-002\\_04KY-025-UK2 & 3 & 135 & -1 & -1 & 3 & 135 \\\\\n",
       "\t20 & 03KY145003\\_04KY-145-001 & 0 & 234 & -1 & -1 & 0 & 234 \\\\\n",
       "\t$\\dots$ & $\\dots$ & $\\dots$ & $\\dots$ & $\\dots$ & $\\dots$ & $\\dots$ & $\\dots$ \\\\\n",
       "\\end{tabular}\n"
      ],
      "text/plain": [
       "37297×7 DataFrame\n",
       "│ Row   │ profile_id    │ profile_top │ profile_bot │ organic_top │ organic_bot │ mineral_top │ mineral_bot │\n",
       "│       │ \u001b[90mString\u001b[39m        │ \u001b[90mInt64\u001b[39m       │ \u001b[90mInt64\u001b[39m       │ \u001b[90mInt64\u001b[39m       │ \u001b[90mInt64\u001b[39m       │ \u001b[90mInt64\u001b[39m       │ \u001b[90mInt64\u001b[39m       │\n",
       "├───────┼───────────────┼─────────────┼─────────────┼─────────────┼─────────────┼─────────────┼─────────────┤\n",
       "│ 1     │ NCC 1_NCC 1   │ 0           │ 90          │ -1          │ -1          │ 0           │ 90          │\n",
       "│ 2     │ NCC 2_NCC 2   │ 0           │ 90          │ -1          │ -1          │ 0           │ 90          │\n",
       "│ 3     │ NCC 3_NCC 3   │ 0           │ 90          │ -1          │ -1          │ 0           │ 90          │\n",
       "│ 4     │ NCC 4_NCC 4   │ 0           │ 90          │ -1          │ -1          │ 0           │ 90          │\n",
       "│ 5     │ NCC 5_NCC 5   │ 0           │ 90          │ -1          │ -1          │ 0           │ 90          │\n",
       "⋮\n",
       "│ 37292 │ UM29 NW_81029 │ 0           │ 104         │ -1          │ -1          │ 0           │ 104         │\n",
       "│ 37293 │ UM30 NW_81030 │ 0           │ 61          │ -1          │ -1          │ 0           │ 61          │\n",
       "│ 37294 │ UM32 NW_81032 │ 0           │ 46          │ -1          │ -1          │ 0           │ 46          │\n",
       "│ 37295 │ UM33 NW_81033 │ 0           │ 53          │ -1          │ -1          │ 0           │ 53          │\n",
       "│ 37296 │ UM34 NW_81034 │ 0           │ 10          │ -1          │ -1          │ 0           │ 10          │\n",
       "│ 37297 │ UM36 NW_81036 │ 0           │ 46          │ -1          │ -1          │ 0           │ 46          │"
      ]
     },
     "execution_count": 25,
     "metadata": {},
     "output_type": "execute_result"
    }
   ],
   "source": [
    "#designations depths per profile (non clipped)\n",
    "df_cont_depth_desig = compute_depth_desig(df_hz)"
   ]
  },
  {
   "cell_type": "code",
   "execution_count": 26,
   "metadata": {
    "scrolled": false
   },
   "outputs": [],
   "source": [
    "#designations depths per clipped profiles \n",
    "df_clipped_depth_desig = compute_depth_desig(df_hz_clipped);"
   ]
  },
  {
   "cell_type": "code",
   "execution_count": 27,
   "metadata": {
    "scrolled": true
   },
   "outputs": [
    {
     "data": {
      "text/html": [
       "<table class=\"data-frame\"><thead><tr><th></th><th>profile_id</th><th>orgc_stored_mineral</th><th>orgc_stored_organic</th><th>profile_top</th><th>profile_bot</th><th>organic_top</th><th>organic_bot</th><th>mineral_top</th><th>mineral_bot</th><th>lat_dec_deg</th><th>long_dec_deg</th><th>obs_date_yyyymmdd</th></tr><tr><th></th><th>String</th><th>Float64</th><th>Float64</th><th>Int64</th><th>Int64</th><th>Int64</th><th>Int64</th><th>Int64</th><th>Int64</th><th>Float64</th><th>Float64</th><th>String?</th></tr></thead><tbody><p>37,333 rows × 12 columns</p><tr><th>1</th><td>NCC 1_NCC 1</td><td>16.6137</td><td>0.0</td><td>0</td><td>90</td><td>-1</td><td>-1</td><td>0</td><td>90</td><td>35.051</td><td>-83.4342</td><td>15/07/2009</td></tr><tr><th>2</th><td>NCC 2_NCC 2</td><td>25.8505</td><td>0.0</td><td>0</td><td>90</td><td>-1</td><td>-1</td><td>0</td><td>90</td><td>35.0484</td><td>-83.4342</td><td>15/07/2009</td></tr><tr><th>3</th><td>NCC 3_NCC 3</td><td>19.2921</td><td>0.0</td><td>0</td><td>90</td><td>-1</td><td>-1</td><td>0</td><td>90</td><td>35.0473</td><td>-83.434</td><td>15/07/2009</td></tr><tr><th>4</th><td>NCC 4_NCC 4</td><td>16.987</td><td>0.0</td><td>0</td><td>90</td><td>-1</td><td>-1</td><td>0</td><td>90</td><td>35.0385</td><td>-83.4598</td><td>15/07/2009</td></tr><tr><th>5</th><td>NCC 5_NCC 5</td><td>38.908</td><td>0.0</td><td>0</td><td>90</td><td>-1</td><td>-1</td><td>0</td><td>90</td><td>35.031</td><td>-83.4619</td><td>15/07/2009</td></tr><tr><th>6</th><td>NMJ 1_NMJ 1</td><td>38.9916</td><td>0.0</td><td>0</td><td>50</td><td>-1</td><td>-1</td><td>0</td><td>50</td><td>32.5603</td><td>-106.79</td><td>15/01/2010</td></tr><tr><th>7</th><td>NMJ 2_NMJ 2</td><td>31.2134</td><td>0.0</td><td>0</td><td>60</td><td>-1</td><td>-1</td><td>0</td><td>60</td><td>32.5734</td><td>-106.672</td><td>15/01/2010</td></tr><tr><th>8</th><td>NMJ 3_NMJ 3</td><td>24.7325</td><td>0.0</td><td>0</td><td>45</td><td>-1</td><td>-1</td><td>0</td><td>45</td><td>32.5717</td><td>-106.644</td><td>15/01/2010</td></tr><tr><th>9</th><td>NMJ 4_NMJ 4</td><td>19.38</td><td>0.0</td><td>0</td><td>100</td><td>-1</td><td>-1</td><td>0</td><td>100</td><td>32.5738</td><td>-106.615</td><td>15/01/2010</td></tr><tr><th>10</th><td>NMJ 5_NMJ 5</td><td>19.083</td><td>0.0</td><td>0</td><td>45</td><td>-1</td><td>-1</td><td>0</td><td>45</td><td>32.6204</td><td>-106.551</td><td>15/01/2010</td></tr><tr><th>11</th><td>NMJ 6_NMJ 6</td><td>39.6416</td><td>0.0</td><td>0</td><td>75</td><td>-1</td><td>-1</td><td>0</td><td>75</td><td>32.5895</td><td>-106.534</td><td>15/01/2010</td></tr><tr><th>12</th><td>SRS 1_SRS 1</td><td>13.464</td><td>0.0</td><td>0</td><td>6</td><td>-1</td><td>-1</td><td>0</td><td>6</td><td>25.7463</td><td>-80.6537</td><td>15/09/2009</td></tr><tr><th>13</th><td>SRS 2_SRS 2</td><td>17.633</td><td>0.0</td><td>0</td><td>10</td><td>-1</td><td>-1</td><td>0</td><td>10</td><td>25.5497</td><td>-80.7852</td><td>15/09/2009</td></tr><tr><th>14</th><td>SRS 3_SRS 3</td><td>19.6782</td><td>0.0</td><td>0</td><td>10</td><td>-1</td><td>-1</td><td>0</td><td>10</td><td>25.4682</td><td>-80.8533</td><td>15/09/2009</td></tr><tr><th>15</th><td>SRS 4_SRS 4</td><td>24.7668</td><td>0.0</td><td>0</td><td>12</td><td>-1</td><td>-1</td><td>0</td><td>12</td><td>25.4098</td><td>-80.9643</td><td>15/09/2009</td></tr><tr><th>16</th><td>SRS 5_SRS 5</td><td>18.7016</td><td>0.0</td><td>0</td><td>11</td><td>-1</td><td>-1</td><td>0</td><td>11</td><td>25.377</td><td>-81.0323</td><td>15/09/2009</td></tr><tr><th>17</th><td>SRS 6_SRS 6</td><td>16.326</td><td>0.0</td><td>0</td><td>13</td><td>-1</td><td>-1</td><td>0</td><td>13</td><td>25.3646</td><td>-81.078</td><td>15/09/2009</td></tr><tr><th>18</th><td>04KY-007-001_04KY-007-001</td><td>13.0153</td><td>0.0</td><td>0</td><td>188</td><td>-1</td><td>-1</td><td>0</td><td>188</td><td>37.1613</td><td>-89.0593</td><td>15/04/2004</td></tr><tr><th>19</th><td>04KY-025-002_04KY-025-UK2</td><td>27.3757</td><td>0.0</td><td>3</td><td>135</td><td>-1</td><td>-1</td><td>3</td><td>135</td><td>37.4641</td><td>-83.1559</td><td>28/07/2004</td></tr><tr><th>20</th><td>03KY145003_04KY-145-001</td><td>17.0512</td><td>0.0</td><td>0</td><td>234</td><td>-1</td><td>-1</td><td>0</td><td>234</td><td>37.1135</td><td>-88.7034</td><td>31/10/2003</td></tr><tr><th>&vellip;</th><td>&vellip;</td><td>&vellip;</td><td>&vellip;</td><td>&vellip;</td><td>&vellip;</td><td>&vellip;</td><td>&vellip;</td><td>&vellip;</td><td>&vellip;</td><td>&vellip;</td><td>&vellip;</td><td>&vellip;</td></tr></tbody></table>"
      ],
      "text/latex": [
       "\\begin{tabular}{r|cccccccccccc}\n",
       "\t& profile\\_id & orgc\\_stored\\_mineral & orgc\\_stored\\_organic & profile\\_top & profile\\_bot & organic\\_top & organic\\_bot & mineral\\_top & mineral\\_bot & lat\\_dec\\_deg & long\\_dec\\_deg & obs\\_date\\_yyyymmdd\\\\\n",
       "\t\\hline\n",
       "\t& String & Float64 & Float64 & Int64 & Int64 & Int64 & Int64 & Int64 & Int64 & Float64 & Float64 & String?\\\\\n",
       "\t\\hline\n",
       "\t1 & NCC 1\\_NCC 1 & 16.6137 & 0.0 & 0 & 90 & -1 & -1 & 0 & 90 & 35.051 & -83.4342 & 15/07/2009 \\\\\n",
       "\t2 & NCC 2\\_NCC 2 & 25.8505 & 0.0 & 0 & 90 & -1 & -1 & 0 & 90 & 35.0484 & -83.4342 & 15/07/2009 \\\\\n",
       "\t3 & NCC 3\\_NCC 3 & 19.2921 & 0.0 & 0 & 90 & -1 & -1 & 0 & 90 & 35.0473 & -83.434 & 15/07/2009 \\\\\n",
       "\t4 & NCC 4\\_NCC 4 & 16.987 & 0.0 & 0 & 90 & -1 & -1 & 0 & 90 & 35.0385 & -83.4598 & 15/07/2009 \\\\\n",
       "\t5 & NCC 5\\_NCC 5 & 38.908 & 0.0 & 0 & 90 & -1 & -1 & 0 & 90 & 35.031 & -83.4619 & 15/07/2009 \\\\\n",
       "\t6 & NMJ 1\\_NMJ 1 & 38.9916 & 0.0 & 0 & 50 & -1 & -1 & 0 & 50 & 32.5603 & -106.79 & 15/01/2010 \\\\\n",
       "\t7 & NMJ 2\\_NMJ 2 & 31.2134 & 0.0 & 0 & 60 & -1 & -1 & 0 & 60 & 32.5734 & -106.672 & 15/01/2010 \\\\\n",
       "\t8 & NMJ 3\\_NMJ 3 & 24.7325 & 0.0 & 0 & 45 & -1 & -1 & 0 & 45 & 32.5717 & -106.644 & 15/01/2010 \\\\\n",
       "\t9 & NMJ 4\\_NMJ 4 & 19.38 & 0.0 & 0 & 100 & -1 & -1 & 0 & 100 & 32.5738 & -106.615 & 15/01/2010 \\\\\n",
       "\t10 & NMJ 5\\_NMJ 5 & 19.083 & 0.0 & 0 & 45 & -1 & -1 & 0 & 45 & 32.6204 & -106.551 & 15/01/2010 \\\\\n",
       "\t11 & NMJ 6\\_NMJ 6 & 39.6416 & 0.0 & 0 & 75 & -1 & -1 & 0 & 75 & 32.5895 & -106.534 & 15/01/2010 \\\\\n",
       "\t12 & SRS 1\\_SRS 1 & 13.464 & 0.0 & 0 & 6 & -1 & -1 & 0 & 6 & 25.7463 & -80.6537 & 15/09/2009 \\\\\n",
       "\t13 & SRS 2\\_SRS 2 & 17.633 & 0.0 & 0 & 10 & -1 & -1 & 0 & 10 & 25.5497 & -80.7852 & 15/09/2009 \\\\\n",
       "\t14 & SRS 3\\_SRS 3 & 19.6782 & 0.0 & 0 & 10 & -1 & -1 & 0 & 10 & 25.4682 & -80.8533 & 15/09/2009 \\\\\n",
       "\t15 & SRS 4\\_SRS 4 & 24.7668 & 0.0 & 0 & 12 & -1 & -1 & 0 & 12 & 25.4098 & -80.9643 & 15/09/2009 \\\\\n",
       "\t16 & SRS 5\\_SRS 5 & 18.7016 & 0.0 & 0 & 11 & -1 & -1 & 0 & 11 & 25.377 & -81.0323 & 15/09/2009 \\\\\n",
       "\t17 & SRS 6\\_SRS 6 & 16.326 & 0.0 & 0 & 13 & -1 & -1 & 0 & 13 & 25.3646 & -81.078 & 15/09/2009 \\\\\n",
       "\t18 & 04KY-007-001\\_04KY-007-001 & 13.0153 & 0.0 & 0 & 188 & -1 & -1 & 0 & 188 & 37.1613 & -89.0593 & 15/04/2004 \\\\\n",
       "\t19 & 04KY-025-002\\_04KY-025-UK2 & 27.3757 & 0.0 & 3 & 135 & -1 & -1 & 3 & 135 & 37.4641 & -83.1559 & 28/07/2004 \\\\\n",
       "\t20 & 03KY145003\\_04KY-145-001 & 17.0512 & 0.0 & 0 & 234 & -1 & -1 & 0 & 234 & 37.1135 & -88.7034 & 31/10/2003 \\\\\n",
       "\t$\\dots$ & $\\dots$ & $\\dots$ & $\\dots$ & $\\dots$ & $\\dots$ & $\\dots$ & $\\dots$ & $\\dots$ & $\\dots$ & $\\dots$ & $\\dots$ & $\\dots$ \\\\\n",
       "\\end{tabular}\n"
      ],
      "text/plain": [
       "37333×12 DataFrame\n",
       "│ Row   │ profile_id    │ orgc_stored_mineral │ orgc_stored_organic │ profile_top │ profile_bot │ organic_top │ organic_bot │ mineral_top │ mineral_bot │ lat_dec_deg │ long_dec_deg │ obs_date_yyyymmdd │\n",
       "│       │ \u001b[90mString\u001b[39m        │ \u001b[90mFloat64\u001b[39m             │ \u001b[90mFloat64\u001b[39m             │ \u001b[90mInt64\u001b[39m       │ \u001b[90mInt64\u001b[39m       │ \u001b[90mInt64\u001b[39m       │ \u001b[90mInt64\u001b[39m       │ \u001b[90mInt64\u001b[39m       │ \u001b[90mInt64\u001b[39m       │ \u001b[90mFloat64\u001b[39m     │ \u001b[90mFloat64\u001b[39m      │ \u001b[90mString?\u001b[39m           │\n",
       "├───────┼───────────────┼─────────────────────┼─────────────────────┼─────────────┼─────────────┼─────────────┼─────────────┼─────────────┼─────────────┼─────────────┼──────────────┼───────────────────┤\n",
       "│ 1     │ NCC 1_NCC 1   │ 16.6137             │ 0.0                 │ 0           │ 90          │ -1          │ -1          │ 0           │ 90          │ 35.051      │ -83.4342     │ 15/07/2009        │\n",
       "│ 2     │ NCC 2_NCC 2   │ 25.8505             │ 0.0                 │ 0           │ 90          │ -1          │ -1          │ 0           │ 90          │ 35.0484     │ -83.4342     │ 15/07/2009        │\n",
       "│ 3     │ NCC 3_NCC 3   │ 19.2921             │ 0.0                 │ 0           │ 90          │ -1          │ -1          │ 0           │ 90          │ 35.0473     │ -83.434      │ 15/07/2009        │\n",
       "│ 4     │ NCC 4_NCC 4   │ 16.987              │ 0.0                 │ 0           │ 90          │ -1          │ -1          │ 0           │ 90          │ 35.0385     │ -83.4598     │ 15/07/2009        │\n",
       "│ 5     │ NCC 5_NCC 5   │ 38.908              │ 0.0                 │ 0           │ 90          │ -1          │ -1          │ 0           │ 90          │ 35.031      │ -83.4619     │ 15/07/2009        │\n",
       "⋮\n",
       "│ 37328 │ UM29 NW_81029 │ 9.39732             │ 0.0                 │ 0           │ 104         │ -1          │ -1          │ 0           │ 104         │ 61.2667     │ -119.783     │ 1968              │\n",
       "│ 37329 │ UM30 NW_81030 │ 8.04976             │ 0.0                 │ 0           │ 61          │ -1          │ -1          │ 0           │ 61          │ 61.5667     │ -120.667     │ 1968              │\n",
       "│ 37330 │ UM32 NW_81032 │ 5.69788             │ 0.0                 │ 0           │ 46          │ -1          │ -1          │ 0           │ 46          │ 60.9333     │ -116.933     │ 1968              │\n",
       "│ 37331 │ UM33 NW_81033 │ 16.7454             │ 0.0                 │ 0           │ 53          │ -1          │ -1          │ 0           │ 53          │ 60.8        │ -115.767     │ 1968              │\n",
       "│ 37332 │ UM34 NW_81034 │ 1.1259              │ 0.0                 │ 0           │ 10          │ -1          │ -1          │ 0           │ 10          │ 60.7833     │ -115.783     │ 1968              │\n",
       "│ 37333 │ UM36 NW_81036 │ 22.3737             │ 0.0                 │ 0           │ 46          │ -1          │ -1          │ 0           │ 46          │ 60.8167     │ -115.783     │ 1968              │"
      ]
     },
     "execution_count": 27,
     "metadata": {},
     "output_type": "execute_result"
    }
   ],
   "source": [
    "#joining results with extra info\t\n",
    "df_cont_results = innerjoin(df_storage_cont, df_cont_depth_desig, df_info, on = :profile_id)"
   ]
  },
  {
   "cell_type": "code",
   "execution_count": 28,
   "metadata": {
    "scrolled": true
   },
   "outputs": [
    {
     "data": {
      "text/html": [
       "<table class=\"data-frame\"><thead><tr><th></th><th>profile_id</th><th>orgc_stored_mineral</th><th>orgc_stored_organic</th><th>profile_top</th><th>profile_bot</th><th>organic_top</th><th>organic_bot</th><th>mineral_top</th><th>mineral_bot</th><th>lat_dec_deg</th><th>long_dec_deg</th><th>obs_date_yyyymmdd</th></tr><tr><th></th><th>String</th><th>Float64</th><th>Float64</th><th>Int64</th><th>Int64</th><th>Int64</th><th>Int64</th><th>Int64</th><th>Int64</th><th>Float64</th><th>Float64</th><th>String?</th></tr></thead><tbody><p>24,343 rows × 12 columns</p><tr><th>1</th><td>NMJ 4_NMJ 4</td><td>19.38</td><td>0.0</td><td>0</td><td>100</td><td>-1</td><td>-1</td><td>0</td><td>100</td><td>32.5738</td><td>-106.615</td><td>15/01/2010</td></tr><tr><th>2</th><td>04KY-007-001_04KY-007-001</td><td>10.5669</td><td>0.0</td><td>0</td><td>100</td><td>-1</td><td>-1</td><td>0</td><td>100</td><td>37.1613</td><td>-89.0593</td><td>15/04/2004</td></tr><tr><th>3</th><td>03KY145003_04KY-145-001</td><td>12.6387</td><td>0.0</td><td>0</td><td>100</td><td>-1</td><td>-1</td><td>0</td><td>100</td><td>37.1135</td><td>-88.7034</td><td>31/10/2003</td></tr><tr><th>4</th><td>04KY-145-002_04KY-145-002</td><td>9.60141</td><td>0.0</td><td>0</td><td>100</td><td>-1</td><td>-1</td><td>0</td><td>100</td><td>37.1123</td><td>-88.7036</td><td>31/10/2003</td></tr><tr><th>5</th><td>04KY145001_04KY-145-003</td><td>9.18743</td><td>0.0</td><td>0</td><td>100</td><td>-1</td><td>-1</td><td>0</td><td>100</td><td>37.1093</td><td>-88.6962</td><td>04/11/2003</td></tr><tr><th>6</th><td>04KY145004_04KY-145-004</td><td>7.3845</td><td>0.0</td><td>0</td><td>100</td><td>-1</td><td>-1</td><td>0</td><td>100</td><td>36.9536</td><td>-88.515</td><td>05/08/2003</td></tr><tr><th>7</th><td>67FN220000_40A0165</td><td>18.3729</td><td>0.0</td><td>0</td><td>100</td><td>-1</td><td>-1</td><td>0</td><td>100</td><td>-15.6667</td><td>-47.7833</td><td>01/03/1967</td></tr><tr><th>8</th><td>S1959PR019008_40A0166</td><td>15.225</td><td>0.0</td><td>0</td><td>100</td><td>-1</td><td>-1</td><td>0</td><td>100</td><td>18.2392</td><td>-66.2839</td><td>16/12/1959</td></tr><tr><th>9</th><td>S1961TX389003_40A0171</td><td>6.18199</td><td>0.0</td><td>0</td><td>100</td><td>-1</td><td>-1</td><td>0</td><td>100</td><td>31.3936</td><td>-103.518</td><td>26/10/1961</td></tr><tr><th>10</th><td>S1955CA071003_40A0173</td><td>2.08574</td><td>0.0</td><td>0</td><td>100</td><td>-1</td><td>-1</td><td>0</td><td>100</td><td>34.5089</td><td>-116.935</td><td>01/01/1955</td></tr><tr><th>11</th><td>S1961PR127001_40A0179</td><td>8.45736</td><td>0.0</td><td>0</td><td>100</td><td>-1</td><td>-1</td><td>0</td><td>100</td><td>18.395</td><td>-66.053</td><td>11/10/1961</td></tr><tr><th>12</th><td>S1953TX305063_40A0184</td><td>7.59875</td><td>0.0</td><td>0</td><td>100</td><td>-1</td><td>-1</td><td>0</td><td>100</td><td>33.3083</td><td>-101.667</td><td>01/07/1953</td></tr><tr><th>13</th><td>S1964AZ003018_40A0187</td><td>4.80524</td><td>0.0</td><td>0</td><td>100</td><td>-1</td><td>-1</td><td>0</td><td>100</td><td>32.4004</td><td>-109.961</td><td>19/10/1964</td></tr><tr><th>14</th><td>S1961NM013007_40A0190</td><td>1.92394</td><td>0.0</td><td>0</td><td>100</td><td>-1</td><td>-1</td><td>0</td><td>100</td><td>32.2974</td><td>-106.908</td><td>05/05/1961</td></tr><tr><th>15</th><td>S1959NV017033_40A0193</td><td>1.43188</td><td>0.0</td><td>0</td><td>100</td><td>-1</td><td>-1</td><td>0</td><td>100</td><td>37.3589</td><td>-115.194</td><td>01/11/1959</td></tr><tr><th>16</th><td>S1960NV003001_40A0195</td><td>4.56481</td><td>0.0</td><td>0</td><td>100</td><td>-1</td><td>-1</td><td>0</td><td>100</td><td>36.6675</td><td>-114.583</td><td>23/01/1960</td></tr><tr><th>17</th><td>S1967TX141003_40A0197</td><td>6.80183</td><td>0.0</td><td>0</td><td>100</td><td>-1</td><td>-1</td><td>0</td><td>100</td><td>31.5417</td><td>-106.192</td><td>02/03/1967</td></tr><tr><th>18</th><td>S1965HI009023_40A0201</td><td>51.9381</td><td>0.0</td><td>0</td><td>100</td><td>-1</td><td>-1</td><td>0</td><td>100</td><td>20.825</td><td>-156.311</td><td>12/04/1965</td></tr><tr><th>19</th><td>S1961PR093001_40A0208</td><td>9.45848</td><td>0.0</td><td>0</td><td>100</td><td>-1</td><td>-1</td><td>0</td><td>100</td><td>18.2125</td><td>-67.0617</td><td>19/12/1961</td></tr><tr><th>20</th><td>S1960OK115001_40A0218</td><td>8.45053</td><td>0.0</td><td>0</td><td>100</td><td>-1</td><td>-1</td><td>0</td><td>100</td><td>36.8092</td><td>-94.855</td><td>01/06/1960</td></tr><tr><th>&vellip;</th><td>&vellip;</td><td>&vellip;</td><td>&vellip;</td><td>&vellip;</td><td>&vellip;</td><td>&vellip;</td><td>&vellip;</td><td>&vellip;</td><td>&vellip;</td><td>&vellip;</td><td>&vellip;</td><td>&vellip;</td></tr></tbody></table>"
      ],
      "text/latex": [
       "\\begin{tabular}{r|cccccccccccc}\n",
       "\t& profile\\_id & orgc\\_stored\\_mineral & orgc\\_stored\\_organic & profile\\_top & profile\\_bot & organic\\_top & organic\\_bot & mineral\\_top & mineral\\_bot & lat\\_dec\\_deg & long\\_dec\\_deg & obs\\_date\\_yyyymmdd\\\\\n",
       "\t\\hline\n",
       "\t& String & Float64 & Float64 & Int64 & Int64 & Int64 & Int64 & Int64 & Int64 & Float64 & Float64 & String?\\\\\n",
       "\t\\hline\n",
       "\t1 & NMJ 4\\_NMJ 4 & 19.38 & 0.0 & 0 & 100 & -1 & -1 & 0 & 100 & 32.5738 & -106.615 & 15/01/2010 \\\\\n",
       "\t2 & 04KY-007-001\\_04KY-007-001 & 10.5669 & 0.0 & 0 & 100 & -1 & -1 & 0 & 100 & 37.1613 & -89.0593 & 15/04/2004 \\\\\n",
       "\t3 & 03KY145003\\_04KY-145-001 & 12.6387 & 0.0 & 0 & 100 & -1 & -1 & 0 & 100 & 37.1135 & -88.7034 & 31/10/2003 \\\\\n",
       "\t4 & 04KY-145-002\\_04KY-145-002 & 9.60141 & 0.0 & 0 & 100 & -1 & -1 & 0 & 100 & 37.1123 & -88.7036 & 31/10/2003 \\\\\n",
       "\t5 & 04KY145001\\_04KY-145-003 & 9.18743 & 0.0 & 0 & 100 & -1 & -1 & 0 & 100 & 37.1093 & -88.6962 & 04/11/2003 \\\\\n",
       "\t6 & 04KY145004\\_04KY-145-004 & 7.3845 & 0.0 & 0 & 100 & -1 & -1 & 0 & 100 & 36.9536 & -88.515 & 05/08/2003 \\\\\n",
       "\t7 & 67FN220000\\_40A0165 & 18.3729 & 0.0 & 0 & 100 & -1 & -1 & 0 & 100 & -15.6667 & -47.7833 & 01/03/1967 \\\\\n",
       "\t8 & S1959PR019008\\_40A0166 & 15.225 & 0.0 & 0 & 100 & -1 & -1 & 0 & 100 & 18.2392 & -66.2839 & 16/12/1959 \\\\\n",
       "\t9 & S1961TX389003\\_40A0171 & 6.18199 & 0.0 & 0 & 100 & -1 & -1 & 0 & 100 & 31.3936 & -103.518 & 26/10/1961 \\\\\n",
       "\t10 & S1955CA071003\\_40A0173 & 2.08574 & 0.0 & 0 & 100 & -1 & -1 & 0 & 100 & 34.5089 & -116.935 & 01/01/1955 \\\\\n",
       "\t11 & S1961PR127001\\_40A0179 & 8.45736 & 0.0 & 0 & 100 & -1 & -1 & 0 & 100 & 18.395 & -66.053 & 11/10/1961 \\\\\n",
       "\t12 & S1953TX305063\\_40A0184 & 7.59875 & 0.0 & 0 & 100 & -1 & -1 & 0 & 100 & 33.3083 & -101.667 & 01/07/1953 \\\\\n",
       "\t13 & S1964AZ003018\\_40A0187 & 4.80524 & 0.0 & 0 & 100 & -1 & -1 & 0 & 100 & 32.4004 & -109.961 & 19/10/1964 \\\\\n",
       "\t14 & S1961NM013007\\_40A0190 & 1.92394 & 0.0 & 0 & 100 & -1 & -1 & 0 & 100 & 32.2974 & -106.908 & 05/05/1961 \\\\\n",
       "\t15 & S1959NV017033\\_40A0193 & 1.43188 & 0.0 & 0 & 100 & -1 & -1 & 0 & 100 & 37.3589 & -115.194 & 01/11/1959 \\\\\n",
       "\t16 & S1960NV003001\\_40A0195 & 4.56481 & 0.0 & 0 & 100 & -1 & -1 & 0 & 100 & 36.6675 & -114.583 & 23/01/1960 \\\\\n",
       "\t17 & S1967TX141003\\_40A0197 & 6.80183 & 0.0 & 0 & 100 & -1 & -1 & 0 & 100 & 31.5417 & -106.192 & 02/03/1967 \\\\\n",
       "\t18 & S1965HI009023\\_40A0201 & 51.9381 & 0.0 & 0 & 100 & -1 & -1 & 0 & 100 & 20.825 & -156.311 & 12/04/1965 \\\\\n",
       "\t19 & S1961PR093001\\_40A0208 & 9.45848 & 0.0 & 0 & 100 & -1 & -1 & 0 & 100 & 18.2125 & -67.0617 & 19/12/1961 \\\\\n",
       "\t20 & S1960OK115001\\_40A0218 & 8.45053 & 0.0 & 0 & 100 & -1 & -1 & 0 & 100 & 36.8092 & -94.855 & 01/06/1960 \\\\\n",
       "\t$\\dots$ & $\\dots$ & $\\dots$ & $\\dots$ & $\\dots$ & $\\dots$ & $\\dots$ & $\\dots$ & $\\dots$ & $\\dots$ & $\\dots$ & $\\dots$ & $\\dots$ \\\\\n",
       "\\end{tabular}\n"
      ],
      "text/plain": [
       "24343×12 DataFrame\n",
       "│ Row   │ profile_id                │ orgc_stored_mineral │ orgc_stored_organic │ profile_top │ profile_bot │ organic_top │ organic_bot │ mineral_top │ mineral_bot │ lat_dec_deg │ long_dec_deg │ obs_date_yyyymmdd │\n",
       "│       │ \u001b[90mString\u001b[39m                    │ \u001b[90mFloat64\u001b[39m             │ \u001b[90mFloat64\u001b[39m             │ \u001b[90mInt64\u001b[39m       │ \u001b[90mInt64\u001b[39m       │ \u001b[90mInt64\u001b[39m       │ \u001b[90mInt64\u001b[39m       │ \u001b[90mInt64\u001b[39m       │ \u001b[90mInt64\u001b[39m       │ \u001b[90mFloat64\u001b[39m     │ \u001b[90mFloat64\u001b[39m      │ \u001b[90mString?\u001b[39m           │\n",
       "├───────┼───────────────────────────┼─────────────────────┼─────────────────────┼─────────────┼─────────────┼─────────────┼─────────────┼─────────────┼─────────────┼─────────────┼──────────────┼───────────────────┤\n",
       "│ 1     │ NMJ 4_NMJ 4               │ 19.38               │ 0.0                 │ 0           │ 100         │ -1          │ -1          │ 0           │ 100         │ 32.5738     │ -106.615     │ 15/01/2010        │\n",
       "│ 2     │ 04KY-007-001_04KY-007-001 │ 10.5669             │ 0.0                 │ 0           │ 100         │ -1          │ -1          │ 0           │ 100         │ 37.1613     │ -89.0593     │ 15/04/2004        │\n",
       "│ 3     │ 03KY145003_04KY-145-001   │ 12.6387             │ 0.0                 │ 0           │ 100         │ -1          │ -1          │ 0           │ 100         │ 37.1135     │ -88.7034     │ 31/10/2003        │\n",
       "│ 4     │ 04KY-145-002_04KY-145-002 │ 9.60141             │ 0.0                 │ 0           │ 100         │ -1          │ -1          │ 0           │ 100         │ 37.1123     │ -88.7036     │ 31/10/2003        │\n",
       "│ 5     │ 04KY145001_04KY-145-003   │ 9.18743             │ 0.0                 │ 0           │ 100         │ -1          │ -1          │ 0           │ 100         │ 37.1093     │ -88.6962     │ 04/11/2003        │\n",
       "⋮\n",
       "│ 24338 │ S1996ND005002_97P0370     │ 12.1095             │ 0.0                 │ 0           │ 100         │ -1          │ -1          │ 0           │ 100         │ 48.3055     │ -99.5362     │ 16/09/1996        │\n",
       "│ 24339 │ S1996ND005003_97P0371     │ 11.5687             │ 0.0                 │ 0           │ 100         │ -1          │ -1          │ 0           │ 100         │ 48.3055     │ -99.5363     │ 16/09/1996        │\n",
       "│ 24340 │ S1997ID021005_98P0035     │ 7.9617              │ 0.0                 │ 0           │ 100         │ -1          │ -1          │ 0           │ 100         │ 48.6392     │ -116.348     │ 23/09/1997        │\n",
       "│ 24341 │ UM24 NW_81024             │ 11.6113             │ 0.0                 │ 0           │ 100         │ -1          │ -1          │ 0           │ 100         │ 61.8833     │ -116.567     │ 1968              │\n",
       "│ 24342 │ UM25 NW_81025             │ 23.019              │ 0.0                 │ 0           │ 100         │ -1          │ -1          │ 0           │ 100         │ 61.5167     │ -118.0       │ 1968              │\n",
       "│ 24343 │ UM29 NW_81029             │ 9.01932             │ 0.0                 │ 0           │ 100         │ -1          │ -1          │ 0           │ 100         │ 61.2667     │ -119.783     │ 1968              │"
      ]
     },
     "execution_count": 28,
     "metadata": {},
     "output_type": "execute_result"
    }
   ],
   "source": [
    "df_clipped_results = innerjoin(df_storage_clipped, df_clipped_depth_desig, df_info, on = :profile_id)"
   ]
  },
  {
   "cell_type": "markdown",
   "metadata": {},
   "source": [
    "Results here:\n",
    "\n",
    "(full) https://drive.google.com/file/d/1v8YxVTfFq0x4MhkRtBLtFGgBQIC_9RFI/view?usp=sharing\n",
    "\n",
    "(clipped) https://drive.google.com/file/d/1Gw8uGphn3Mup8OPABXaumtgQEg37UIj6/view?usp=sharing\n"
   ]
  }
 ],
 "metadata": {
  "kernelspec": {
   "display_name": "Julia 1.5.3",
   "language": "julia",
   "name": "julia-1.5"
  },
  "language_info": {
   "file_extension": ".jl",
   "mimetype": "application/julia",
   "name": "julia",
   "version": "1.5.3"
  }
 },
 "nbformat": 4,
 "nbformat_minor": 2
}
