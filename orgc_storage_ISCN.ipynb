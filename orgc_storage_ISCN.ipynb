{
 "cells": [
  {
   "cell_type": "code",
   "execution_count": 1,
   "metadata": {},
   "outputs": [],
   "source": [
    "using DataFrames, CSV, Query, StatsBase"
   ]
  },
  {
   "cell_type": "code",
   "execution_count": 2,
   "metadata": {},
   "outputs": [],
   "source": [
    "ENV[\"COLUMNS\"] = 1000; ENV[\"LINES\"] = 20;"
   ]
  },
  {
   "cell_type": "markdown",
   "metadata": {},
   "source": [
    "Loading ISCN Layers dataset"
   ]
  },
  {
   "cell_type": "code",
   "execution_count": 3,
   "metadata": {},
   "outputs": [
    {
     "name": "stderr",
     "output_type": "stream",
     "text": [
      "┌ Warning: thread = 1 warning: only found 93 / 94 columns around data row: 227765. Filling remaining columns with `missing`\n",
      "└ @ CSV /Users/Daniele/.julia/packages/CSV/la2cd/src/file.jl:603\n"
     ]
    },
    {
     "data": {
      "text/html": [
       "<table class=\"data-frame\"><thead><tr><th></th><th>dataset_name_sub</th><th>dataset_name_soc</th><th>lat (dec. deg)</th><th>long (dec. deg)</th><th>datum (datum)</th><th>state (state_province)</th><th>country (country)</th><th>site_name</th><th>observation_date (YYYY-MM-DD)</th><th>profile_name</th><th>layer_name</th><th>layer_top (cm)</th><th>layer_bot (cm)</th><th>hzn_desgn_other</th><th>hzn</th><th>hzn_desgn</th><th>layer_note</th><th>color</th><th>vegclass_local</th><th>soil_taxon</th><th>soil_series</th><th>bd_method</th><th>bd_samp (g cm-3)</th><th>bd_tot (g cm-3)</th><th>bd_whole (g cm-3)</th><th>bd_other (g cm-3)</th><th>bdNRCS_prep_code</th><th>cNRCS_prep_code</th><th>c_method</th><th>c_tot (percent)</th><th>oc (percent)</th><th>loi (percent)</th><th>n_tot (percent)</th><th>c_to_n (mass ratio)</th><th>soc (g cm-2)</th><th>soc_carbon_flag</th><th>soc_method</th><th>ph_method</th><th>ph_cacl</th><th>ph_h2o</th><th>ph_other</th><th>caco3 (percent)</th><th>sand_tot_psa (percent)</th><th>silt_tot_psa (percent)</th><th>clay_tot_psa (percent)</th><th>wpg2_method</th><th>wpg2 (percent)</th><th>cat_exch (cmol H+ kg-1)</th><th>al_dith (specified by al_fe_units)</th><th>al_ox (specified by al_fe_units)</th><th>al_other (specified by al_fe_units)</th><th>fe_dith (specified by al_fe_units)</th></tr><tr><th></th><th>String</th><th>String</th><th>String?</th><th>String?</th><th>String?</th><th>String?</th><th>String?</th><th>String</th><th>String?</th><th>String</th><th>String</th><th>Int64?</th><th>Int64?</th><th>Missing</th><th>String?</th><th>String?</th><th>String?</th><th>String?</th><th>String?</th><th>String?</th><th>String?</th><th>String?</th><th>String?</th><th>String?</th><th>String?</th><th>String?</th><th>String?</th><th>String?</th><th>String?</th><th>String?</th><th>String?</th><th>String?</th><th>String?</th><th>Missing</th><th>String?</th><th>String?</th><th>String?</th><th>String?</th><th>String?</th><th>String?</th><th>String?</th><th>String?</th><th>Int64?</th><th>Int64?</th><th>Int64?</th><th>String?</th><th>Int64?</th><th>String?</th><th>String?</th><th>String?</th><th>String?</th><th>String?</th></tr></thead><tbody><p>227,764 rows × 94 columns (omitted printing of 42 columns)</p><tr><th>1</th><td>AK DSC Project SOC stock computation</td><td>AK DSC Project SOC stock computation</td><td>60,5219</td><td>-150,686</td><td>NAD27</td><td>Alaska</td><td>United States</td><td>S2001AK122001</td><td>06/09/2001</td><td>01N1159</td><td>01N05963</td><td><em>missing</em></td><td><em>missing</em></td><td><em>missing</em></td><td><em>missing</em></td><td><em>missing</em></td><td><em>missing</em></td><td><em>missing</em></td><td><em>missing</em></td><td>Medial over loamy, amorphic over mixed, superactive Andic Humicryods</td><td>Naptowne</td><td><em>missing</em></td><td><em>missing</em></td><td><em>missing</em></td><td><em>missing</em></td><td><em>missing</em></td><td><em>missing</em></td><td><em>missing</em></td><td><em>missing</em></td><td><em>missing</em></td><td><em>missing</em></td><td><em>missing</em></td><td><em>missing</em></td><td><em>missing</em></td><td>0,27</td><td>Eqn 11 + NRCS (c---w)</td><td><em>missing</em></td><td><em>missing</em></td><td><em>missing</em></td><td><em>missing</em></td><td><em>missing</em></td><td><em>missing</em></td><td><em>missing</em></td><td><em>missing</em></td><td><em>missing</em></td><td><em>missing</em></td><td><em>missing</em></td><td><em>missing</em></td><td><em>missing</em></td><td><em>missing</em></td><td><em>missing</em></td><td><em>missing</em></td></tr><tr><th>2</th><td>AK DSC Project SOC stock computation</td><td>AK DSC Project SOC stock computation</td><td>60,5219</td><td>-150,686</td><td>NAD27</td><td>Alaska</td><td>United States</td><td>S2001AK122001</td><td>06/09/2001</td><td>01N1159</td><td>01N05964</td><td><em>missing</em></td><td><em>missing</em></td><td><em>missing</em></td><td><em>missing</em></td><td><em>missing</em></td><td><em>missing</em></td><td><em>missing</em></td><td><em>missing</em></td><td>Medial over loamy, amorphic over mixed, superactive Andic Humicryods</td><td>Naptowne</td><td><em>missing</em></td><td><em>missing</em></td><td><em>missing</em></td><td><em>missing</em></td><td><em>missing</em></td><td><em>missing</em></td><td><em>missing</em></td><td><em>missing</em></td><td><em>missing</em></td><td><em>missing</em></td><td><em>missing</em></td><td><em>missing</em></td><td><em>missing</em></td><td>0,27</td><td>Eqn 7 + NRCS (c---w)</td><td><em>missing</em></td><td><em>missing</em></td><td><em>missing</em></td><td><em>missing</em></td><td><em>missing</em></td><td><em>missing</em></td><td><em>missing</em></td><td><em>missing</em></td><td><em>missing</em></td><td><em>missing</em></td><td><em>missing</em></td><td><em>missing</em></td><td><em>missing</em></td><td><em>missing</em></td><td><em>missing</em></td><td><em>missing</em></td></tr><tr><th>3</th><td>AK DSC Project SOC stock computation</td><td>AK DSC Project SOC stock computation</td><td>60,5219</td><td>-150,686</td><td>NAD27</td><td>Alaska</td><td>United States</td><td>S2001AK122001</td><td>06/09/2001</td><td>01N1159</td><td>01N05965</td><td><em>missing</em></td><td><em>missing</em></td><td><em>missing</em></td><td><em>missing</em></td><td><em>missing</em></td><td><em>missing</em></td><td><em>missing</em></td><td><em>missing</em></td><td>Medial over loamy, amorphic over mixed, superactive Andic Humicryods</td><td>Naptowne</td><td><em>missing</em></td><td><em>missing</em></td><td><em>missing</em></td><td><em>missing</em></td><td><em>missing</em></td><td><em>missing</em></td><td><em>missing</em></td><td><em>missing</em></td><td><em>missing</em></td><td><em>missing</em></td><td><em>missing</em></td><td><em>missing</em></td><td><em>missing</em></td><td>0,12</td><td>noFill + NRCS (c-s-w)</td><td><em>missing</em></td><td><em>missing</em></td><td><em>missing</em></td><td><em>missing</em></td><td><em>missing</em></td><td><em>missing</em></td><td><em>missing</em></td><td><em>missing</em></td><td><em>missing</em></td><td><em>missing</em></td><td><em>missing</em></td><td><em>missing</em></td><td><em>missing</em></td><td><em>missing</em></td><td><em>missing</em></td><td><em>missing</em></td></tr><tr><th>4</th><td>AK DSC Project SOC stock computation</td><td>AK DSC Project SOC stock computation</td><td>60,5219</td><td>-150,686</td><td>NAD27</td><td>Alaska</td><td>United States</td><td>S2001AK122001</td><td>06/09/2001</td><td>01N1159</td><td>01N05969</td><td><em>missing</em></td><td><em>missing</em></td><td><em>missing</em></td><td><em>missing</em></td><td><em>missing</em></td><td><em>missing</em></td><td><em>missing</em></td><td><em>missing</em></td><td>Medial over loamy, amorphic over mixed, superactive Andic Humicryods</td><td>Naptowne</td><td><em>missing</em></td><td><em>missing</em></td><td><em>missing</em></td><td><em>missing</em></td><td><em>missing</em></td><td><em>missing</em></td><td><em>missing</em></td><td><em>missing</em></td><td><em>missing</em></td><td><em>missing</em></td><td><em>missing</em></td><td><em>missing</em></td><td><em>missing</em></td><td>0,02</td><td>noFill + NRCS (c-s-w)</td><td><em>missing</em></td><td><em>missing</em></td><td><em>missing</em></td><td><em>missing</em></td><td><em>missing</em></td><td><em>missing</em></td><td><em>missing</em></td><td><em>missing</em></td><td><em>missing</em></td><td><em>missing</em></td><td><em>missing</em></td><td><em>missing</em></td><td><em>missing</em></td><td><em>missing</em></td><td><em>missing</em></td><td><em>missing</em></td></tr><tr><th>5</th><td>AK DSC Project SOC stock computation</td><td>AK DSC Project SOC stock computation</td><td>60,5219</td><td>-150,686</td><td>NAD27</td><td>Alaska</td><td>United States</td><td>S2001AK122001</td><td>06/09/2001</td><td>01N1159</td><td>01N05970</td><td><em>missing</em></td><td><em>missing</em></td><td><em>missing</em></td><td><em>missing</em></td><td><em>missing</em></td><td><em>missing</em></td><td><em>missing</em></td><td><em>missing</em></td><td>Medial over loamy, amorphic over mixed, superactive Andic Humicryods</td><td>Naptowne</td><td><em>missing</em></td><td><em>missing</em></td><td><em>missing</em></td><td><em>missing</em></td><td><em>missing</em></td><td><em>missing</em></td><td><em>missing</em></td><td><em>missing</em></td><td><em>missing</em></td><td><em>missing</em></td><td><em>missing</em></td><td><em>missing</em></td><td><em>missing</em></td><td>0,02</td><td>noFill + NRCS (c-s-w)</td><td><em>missing</em></td><td><em>missing</em></td><td><em>missing</em></td><td><em>missing</em></td><td><em>missing</em></td><td><em>missing</em></td><td><em>missing</em></td><td><em>missing</em></td><td><em>missing</em></td><td><em>missing</em></td><td><em>missing</em></td><td><em>missing</em></td><td><em>missing</em></td><td><em>missing</em></td><td><em>missing</em></td><td><em>missing</em></td></tr><tr><th>6</th><td>AK DSC Project SOC stock computation</td><td>AK DSC Project SOC stock computation</td><td>60,5219</td><td>-150,686</td><td>NAD27</td><td>Alaska</td><td>United States</td><td>S2001AK122001</td><td>06/09/2001</td><td>01N1159</td><td>01N05971</td><td><em>missing</em></td><td><em>missing</em></td><td><em>missing</em></td><td><em>missing</em></td><td><em>missing</em></td><td><em>missing</em></td><td><em>missing</em></td><td><em>missing</em></td><td>Medial over loamy, amorphic over mixed, superactive Andic Humicryods</td><td>Naptowne</td><td><em>missing</em></td><td><em>missing</em></td><td><em>missing</em></td><td><em>missing</em></td><td><em>missing</em></td><td><em>missing</em></td><td><em>missing</em></td><td><em>missing</em></td><td><em>missing</em></td><td><em>missing</em></td><td><em>missing</em></td><td><em>missing</em></td><td><em>missing</em></td><td>0,03</td><td>Eqn 6 + NRCS (c---w)</td><td><em>missing</em></td><td><em>missing</em></td><td><em>missing</em></td><td><em>missing</em></td><td><em>missing</em></td><td><em>missing</em></td><td><em>missing</em></td><td><em>missing</em></td><td><em>missing</em></td><td><em>missing</em></td><td><em>missing</em></td><td><em>missing</em></td><td><em>missing</em></td><td><em>missing</em></td><td><em>missing</em></td><td><em>missing</em></td></tr><tr><th>7</th><td>AK DSC Project SOC stock computation</td><td>AK DSC Project SOC stock computation</td><td>60,5219</td><td>-150,686</td><td>NAD27</td><td>Alaska</td><td>United States</td><td>S2001AK122001</td><td>06/09/2001</td><td>01N1159</td><td>01N05972</td><td><em>missing</em></td><td><em>missing</em></td><td><em>missing</em></td><td><em>missing</em></td><td><em>missing</em></td><td><em>missing</em></td><td><em>missing</em></td><td><em>missing</em></td><td>Medial over loamy, amorphic over mixed, superactive Andic Humicryods</td><td>Naptowne</td><td><em>missing</em></td><td><em>missing</em></td><td><em>missing</em></td><td><em>missing</em></td><td><em>missing</em></td><td><em>missing</em></td><td><em>missing</em></td><td><em>missing</em></td><td><em>missing</em></td><td><em>missing</em></td><td><em>missing</em></td><td><em>missing</em></td><td><em>missing</em></td><td>0,1</td><td>noFill + NRCS (c-s-w)</td><td><em>missing</em></td><td><em>missing</em></td><td><em>missing</em></td><td><em>missing</em></td><td><em>missing</em></td><td><em>missing</em></td><td><em>missing</em></td><td><em>missing</em></td><td><em>missing</em></td><td><em>missing</em></td><td><em>missing</em></td><td><em>missing</em></td><td><em>missing</em></td><td><em>missing</em></td><td><em>missing</em></td><td><em>missing</em></td></tr><tr><th>8</th><td>AK DSC Project SOC stock computation</td><td>AK DSC Project SOC stock computation</td><td>60,5219</td><td>-150,686</td><td>NAD27</td><td>Alaska</td><td>United States</td><td>S2001AK122001</td><td>06/09/2001</td><td>01N1159</td><td>01N05973</td><td><em>missing</em></td><td><em>missing</em></td><td><em>missing</em></td><td><em>missing</em></td><td><em>missing</em></td><td><em>missing</em></td><td><em>missing</em></td><td><em>missing</em></td><td>Medial over loamy, amorphic over mixed, superactive Andic Humicryods</td><td>Naptowne</td><td><em>missing</em></td><td><em>missing</em></td><td><em>missing</em></td><td><em>missing</em></td><td><em>missing</em></td><td><em>missing</em></td><td><em>missing</em></td><td><em>missing</em></td><td><em>missing</em></td><td><em>missing</em></td><td><em>missing</em></td><td><em>missing</em></td><td><em>missing</em></td><td>0,05</td><td>Eqn 6 + NRCS (c---w)</td><td><em>missing</em></td><td><em>missing</em></td><td><em>missing</em></td><td><em>missing</em></td><td><em>missing</em></td><td><em>missing</em></td><td><em>missing</em></td><td><em>missing</em></td><td><em>missing</em></td><td><em>missing</em></td><td><em>missing</em></td><td><em>missing</em></td><td><em>missing</em></td><td><em>missing</em></td><td><em>missing</em></td><td><em>missing</em></td></tr><tr><th>9</th><td>AK DSC Project SOC stock computation</td><td>AK DSC Project SOC stock computation</td><td>60,5219</td><td>-150,686</td><td>NAD27</td><td>Alaska</td><td>United States</td><td>S2001AK122001</td><td>06/09/2001</td><td>01N1159</td><td>01N05974</td><td><em>missing</em></td><td><em>missing</em></td><td><em>missing</em></td><td><em>missing</em></td><td><em>missing</em></td><td><em>missing</em></td><td><em>missing</em></td><td><em>missing</em></td><td>Medial over loamy, amorphic over mixed, superactive Andic Humicryods</td><td>Naptowne</td><td><em>missing</em></td><td><em>missing</em></td><td><em>missing</em></td><td><em>missing</em></td><td><em>missing</em></td><td><em>missing</em></td><td><em>missing</em></td><td><em>missing</em></td><td><em>missing</em></td><td><em>missing</em></td><td><em>missing</em></td><td><em>missing</em></td><td><em>missing</em></td><td>0,04</td><td>noFill + NRCS (c-s-w)</td><td><em>missing</em></td><td><em>missing</em></td><td><em>missing</em></td><td><em>missing</em></td><td><em>missing</em></td><td><em>missing</em></td><td><em>missing</em></td><td><em>missing</em></td><td><em>missing</em></td><td><em>missing</em></td><td><em>missing</em></td><td><em>missing</em></td><td><em>missing</em></td><td><em>missing</em></td><td><em>missing</em></td><td><em>missing</em></td></tr><tr><th>10</th><td>AK DSC Project SOC stock computation</td><td>AK DSC Project SOC stock computation</td><td>60,5219</td><td>-150,686</td><td>NAD27</td><td>Alaska</td><td>United States</td><td>S2001AK122001</td><td>06/09/2001</td><td>01N1159</td><td>01N05966</td><td><em>missing</em></td><td><em>missing</em></td><td><em>missing</em></td><td><em>missing</em></td><td><em>missing</em></td><td><em>missing</em></td><td><em>missing</em></td><td><em>missing</em></td><td>Medial over loamy, amorphic over mixed, superactive Andic Humicryods</td><td>Naptowne</td><td><em>missing</em></td><td><em>missing</em></td><td><em>missing</em></td><td><em>missing</em></td><td><em>missing</em></td><td><em>missing</em></td><td><em>missing</em></td><td><em>missing</em></td><td><em>missing</em></td><td><em>missing</em></td><td><em>missing</em></td><td><em>missing</em></td><td><em>missing</em></td><td>0,25</td><td>noFill + NRCS (c-s-w)</td><td><em>missing</em></td><td><em>missing</em></td><td><em>missing</em></td><td><em>missing</em></td><td><em>missing</em></td><td><em>missing</em></td><td><em>missing</em></td><td><em>missing</em></td><td><em>missing</em></td><td><em>missing</em></td><td><em>missing</em></td><td><em>missing</em></td><td><em>missing</em></td><td><em>missing</em></td><td><em>missing</em></td><td><em>missing</em></td></tr><tr><th>11</th><td>AK DSC Project SOC stock computation</td><td>AK DSC Project SOC stock computation</td><td>60,5219</td><td>-150,686</td><td>NAD27</td><td>Alaska</td><td>United States</td><td>S2001AK122001</td><td>06/09/2001</td><td>01N1159</td><td>01N05967</td><td><em>missing</em></td><td><em>missing</em></td><td><em>missing</em></td><td><em>missing</em></td><td><em>missing</em></td><td><em>missing</em></td><td><em>missing</em></td><td><em>missing</em></td><td>Medial over loamy, amorphic over mixed, superactive Andic Humicryods</td><td>Naptowne</td><td><em>missing</em></td><td><em>missing</em></td><td><em>missing</em></td><td><em>missing</em></td><td><em>missing</em></td><td><em>missing</em></td><td><em>missing</em></td><td><em>missing</em></td><td><em>missing</em></td><td><em>missing</em></td><td><em>missing</em></td><td><em>missing</em></td><td><em>missing</em></td><td>0,05</td><td>noFill + NRCS (c-s-w)</td><td><em>missing</em></td><td><em>missing</em></td><td><em>missing</em></td><td><em>missing</em></td><td><em>missing</em></td><td><em>missing</em></td><td><em>missing</em></td><td><em>missing</em></td><td><em>missing</em></td><td><em>missing</em></td><td><em>missing</em></td><td><em>missing</em></td><td><em>missing</em></td><td><em>missing</em></td><td><em>missing</em></td><td><em>missing</em></td></tr><tr><th>12</th><td>AK DSC Project SOC stock computation</td><td>AK DSC Project SOC stock computation</td><td>60,5219</td><td>-150,686</td><td>NAD27</td><td>Alaska</td><td>United States</td><td>S2001AK122001</td><td>06/09/2001</td><td>01N1159</td><td>01N05968</td><td><em>missing</em></td><td><em>missing</em></td><td><em>missing</em></td><td><em>missing</em></td><td><em>missing</em></td><td><em>missing</em></td><td><em>missing</em></td><td><em>missing</em></td><td>Medial over loamy, amorphic over mixed, superactive Andic Humicryods</td><td>Naptowne</td><td><em>missing</em></td><td><em>missing</em></td><td><em>missing</em></td><td><em>missing</em></td><td><em>missing</em></td><td><em>missing</em></td><td><em>missing</em></td><td><em>missing</em></td><td><em>missing</em></td><td><em>missing</em></td><td><em>missing</em></td><td><em>missing</em></td><td><em>missing</em></td><td>0,03</td><td>noFill + NRCS (c-s-w)</td><td><em>missing</em></td><td><em>missing</em></td><td><em>missing</em></td><td><em>missing</em></td><td><em>missing</em></td><td><em>missing</em></td><td><em>missing</em></td><td><em>missing</em></td><td><em>missing</em></td><td><em>missing</em></td><td><em>missing</em></td><td><em>missing</em></td><td><em>missing</em></td><td><em>missing</em></td><td><em>missing</em></td><td><em>missing</em></td></tr><tr><th>13</th><td>AK DSC Project SOC stock computation</td><td>AK DSC Project SOC stock computation</td><td>60,5242</td><td>-151,037</td><td>NAD27</td><td>Alaska</td><td>United States</td><td>S2001AK122002</td><td>06/09/2001</td><td>01N1160</td><td>01N05975</td><td><em>missing</em></td><td><em>missing</em></td><td><em>missing</em></td><td><em>missing</em></td><td><em>missing</em></td><td><em>missing</em></td><td><em>missing</em></td><td><em>missing</em></td><td>Medial over loamy, amorphic over mixed, superactive Andic Haplocryods</td><td>Kenai</td><td><em>missing</em></td><td><em>missing</em></td><td><em>missing</em></td><td><em>missing</em></td><td><em>missing</em></td><td><em>missing</em></td><td><em>missing</em></td><td><em>missing</em></td><td><em>missing</em></td><td><em>missing</em></td><td><em>missing</em></td><td><em>missing</em></td><td><em>missing</em></td><td>0,27</td><td>Eqn 11 + NRCS (c---w)</td><td><em>missing</em></td><td><em>missing</em></td><td><em>missing</em></td><td><em>missing</em></td><td><em>missing</em></td><td><em>missing</em></td><td><em>missing</em></td><td><em>missing</em></td><td><em>missing</em></td><td><em>missing</em></td><td><em>missing</em></td><td><em>missing</em></td><td><em>missing</em></td><td><em>missing</em></td><td><em>missing</em></td><td><em>missing</em></td></tr><tr><th>14</th><td>AK DSC Project SOC stock computation</td><td>AK DSC Project SOC stock computation</td><td>60,5242</td><td>-151,037</td><td>NAD27</td><td>Alaska</td><td>United States</td><td>S2001AK122002</td><td>06/09/2001</td><td>01N1160</td><td>01N05976</td><td><em>missing</em></td><td><em>missing</em></td><td><em>missing</em></td><td><em>missing</em></td><td><em>missing</em></td><td><em>missing</em></td><td><em>missing</em></td><td><em>missing</em></td><td>Medial over loamy, amorphic over mixed, superactive Andic Haplocryods</td><td>Kenai</td><td><em>missing</em></td><td><em>missing</em></td><td><em>missing</em></td><td><em>missing</em></td><td><em>missing</em></td><td><em>missing</em></td><td><em>missing</em></td><td><em>missing</em></td><td><em>missing</em></td><td><em>missing</em></td><td><em>missing</em></td><td><em>missing</em></td><td><em>missing</em></td><td>0,42</td><td>Eqn 7 + NRCS (c---w)</td><td><em>missing</em></td><td><em>missing</em></td><td><em>missing</em></td><td><em>missing</em></td><td><em>missing</em></td><td><em>missing</em></td><td><em>missing</em></td><td><em>missing</em></td><td><em>missing</em></td><td><em>missing</em></td><td><em>missing</em></td><td><em>missing</em></td><td><em>missing</em></td><td><em>missing</em></td><td><em>missing</em></td><td><em>missing</em></td></tr><tr><th>15</th><td>AK DSC Project SOC stock computation</td><td>AK DSC Project SOC stock computation</td><td>60,5242</td><td>-151,037</td><td>NAD27</td><td>Alaska</td><td>United States</td><td>S2001AK122002</td><td>06/09/2001</td><td>01N1160</td><td>01N05977</td><td><em>missing</em></td><td><em>missing</em></td><td><em>missing</em></td><td><em>missing</em></td><td><em>missing</em></td><td><em>missing</em></td><td><em>missing</em></td><td><em>missing</em></td><td>Medial over loamy, amorphic over mixed, superactive Andic Haplocryods</td><td>Kenai</td><td><em>missing</em></td><td><em>missing</em></td><td><em>missing</em></td><td><em>missing</em></td><td><em>missing</em></td><td><em>missing</em></td><td><em>missing</em></td><td><em>missing</em></td><td><em>missing</em></td><td><em>missing</em></td><td><em>missing</em></td><td><em>missing</em></td><td><em>missing</em></td><td>0,52</td><td>noFill + NRCS (c-s-w)</td><td><em>missing</em></td><td><em>missing</em></td><td><em>missing</em></td><td><em>missing</em></td><td><em>missing</em></td><td><em>missing</em></td><td><em>missing</em></td><td><em>missing</em></td><td><em>missing</em></td><td><em>missing</em></td><td><em>missing</em></td><td><em>missing</em></td><td><em>missing</em></td><td><em>missing</em></td><td><em>missing</em></td><td><em>missing</em></td></tr><tr><th>16</th><td>AK DSC Project SOC stock computation</td><td>AK DSC Project SOC stock computation</td><td>60,5242</td><td>-151,037</td><td>NAD27</td><td>Alaska</td><td>United States</td><td>S2001AK122002</td><td>06/09/2001</td><td>01N1160</td><td>01N05978</td><td><em>missing</em></td><td><em>missing</em></td><td><em>missing</em></td><td><em>missing</em></td><td><em>missing</em></td><td><em>missing</em></td><td><em>missing</em></td><td><em>missing</em></td><td>Medial over loamy, amorphic over mixed, superactive Andic Haplocryods</td><td>Kenai</td><td><em>missing</em></td><td><em>missing</em></td><td><em>missing</em></td><td><em>missing</em></td><td><em>missing</em></td><td><em>missing</em></td><td><em>missing</em></td><td><em>missing</em></td><td><em>missing</em></td><td><em>missing</em></td><td><em>missing</em></td><td><em>missing</em></td><td><em>missing</em></td><td>0,13</td><td>noFill + NRCS (c-s-w)</td><td><em>missing</em></td><td><em>missing</em></td><td><em>missing</em></td><td><em>missing</em></td><td><em>missing</em></td><td><em>missing</em></td><td><em>missing</em></td><td><em>missing</em></td><td><em>missing</em></td><td><em>missing</em></td><td><em>missing</em></td><td><em>missing</em></td><td><em>missing</em></td><td><em>missing</em></td><td><em>missing</em></td><td><em>missing</em></td></tr><tr><th>17</th><td>AK DSC Project SOC stock computation</td><td>AK DSC Project SOC stock computation</td><td>60,5242</td><td>-151,037</td><td>NAD27</td><td>Alaska</td><td>United States</td><td>S2001AK122002</td><td>06/09/2001</td><td>01N1160</td><td>01N05979</td><td><em>missing</em></td><td><em>missing</em></td><td><em>missing</em></td><td><em>missing</em></td><td><em>missing</em></td><td><em>missing</em></td><td><em>missing</em></td><td><em>missing</em></td><td>Medial over loamy, amorphic over mixed, superactive Andic Haplocryods</td><td>Kenai</td><td><em>missing</em></td><td><em>missing</em></td><td><em>missing</em></td><td><em>missing</em></td><td><em>missing</em></td><td><em>missing</em></td><td><em>missing</em></td><td><em>missing</em></td><td><em>missing</em></td><td><em>missing</em></td><td><em>missing</em></td><td><em>missing</em></td><td><em>missing</em></td><td>0,11</td><td>noFill + NRCS (c-s-w)</td><td><em>missing</em></td><td><em>missing</em></td><td><em>missing</em></td><td><em>missing</em></td><td><em>missing</em></td><td><em>missing</em></td><td><em>missing</em></td><td><em>missing</em></td><td><em>missing</em></td><td><em>missing</em></td><td><em>missing</em></td><td><em>missing</em></td><td><em>missing</em></td><td><em>missing</em></td><td><em>missing</em></td><td><em>missing</em></td></tr><tr><th>18</th><td>AK DSC Project SOC stock computation</td><td>AK DSC Project SOC stock computation</td><td>60,5242</td><td>-151,037</td><td>NAD27</td><td>Alaska</td><td>United States</td><td>S2001AK122002</td><td>06/09/2001</td><td>01N1160</td><td>01N05980</td><td><em>missing</em></td><td><em>missing</em></td><td><em>missing</em></td><td><em>missing</em></td><td><em>missing</em></td><td><em>missing</em></td><td><em>missing</em></td><td><em>missing</em></td><td>Medial over loamy, amorphic over mixed, superactive Andic Haplocryods</td><td>Kenai</td><td><em>missing</em></td><td><em>missing</em></td><td><em>missing</em></td><td><em>missing</em></td><td><em>missing</em></td><td><em>missing</em></td><td><em>missing</em></td><td><em>missing</em></td><td><em>missing</em></td><td><em>missing</em></td><td><em>missing</em></td><td><em>missing</em></td><td><em>missing</em></td><td>0,06</td><td>noFill + NRCS (c-s-w)</td><td><em>missing</em></td><td><em>missing</em></td><td><em>missing</em></td><td><em>missing</em></td><td><em>missing</em></td><td><em>missing</em></td><td><em>missing</em></td><td><em>missing</em></td><td><em>missing</em></td><td><em>missing</em></td><td><em>missing</em></td><td><em>missing</em></td><td><em>missing</em></td><td><em>missing</em></td><td><em>missing</em></td><td><em>missing</em></td></tr><tr><th>19</th><td>AK DSC Project SOC stock computation</td><td>AK DSC Project SOC stock computation</td><td>60,5242</td><td>-151,037</td><td>NAD27</td><td>Alaska</td><td>United States</td><td>S2001AK122002</td><td>06/09/2001</td><td>01N1160</td><td>01N05981</td><td><em>missing</em></td><td><em>missing</em></td><td><em>missing</em></td><td><em>missing</em></td><td><em>missing</em></td><td><em>missing</em></td><td><em>missing</em></td><td><em>missing</em></td><td>Medial over loamy, amorphic over mixed, superactive Andic Haplocryods</td><td>Kenai</td><td><em>missing</em></td><td><em>missing</em></td><td><em>missing</em></td><td><em>missing</em></td><td><em>missing</em></td><td><em>missing</em></td><td><em>missing</em></td><td><em>missing</em></td><td><em>missing</em></td><td><em>missing</em></td><td><em>missing</em></td><td><em>missing</em></td><td><em>missing</em></td><td>0,11</td><td>noFill + NRCS (c-s-w)</td><td><em>missing</em></td><td><em>missing</em></td><td><em>missing</em></td><td><em>missing</em></td><td><em>missing</em></td><td><em>missing</em></td><td><em>missing</em></td><td><em>missing</em></td><td><em>missing</em></td><td><em>missing</em></td><td><em>missing</em></td><td><em>missing</em></td><td><em>missing</em></td><td><em>missing</em></td><td><em>missing</em></td><td><em>missing</em></td></tr><tr><th>20</th><td>AK DSC Project SOC stock computation</td><td>AK DSC Project SOC stock computation</td><td>60,5242</td><td>-151,037</td><td>NAD27</td><td>Alaska</td><td>United States</td><td>S2001AK122002</td><td>06/09/2001</td><td>01N1160</td><td>01N05982</td><td><em>missing</em></td><td><em>missing</em></td><td><em>missing</em></td><td><em>missing</em></td><td><em>missing</em></td><td><em>missing</em></td><td><em>missing</em></td><td><em>missing</em></td><td>Medial over loamy, amorphic over mixed, superactive Andic Haplocryods</td><td>Kenai</td><td><em>missing</em></td><td><em>missing</em></td><td><em>missing</em></td><td><em>missing</em></td><td><em>missing</em></td><td><em>missing</em></td><td><em>missing</em></td><td><em>missing</em></td><td><em>missing</em></td><td><em>missing</em></td><td><em>missing</em></td><td><em>missing</em></td><td><em>missing</em></td><td>0,08</td><td>noFill + NRCS (c-s-w)</td><td><em>missing</em></td><td><em>missing</em></td><td><em>missing</em></td><td><em>missing</em></td><td><em>missing</em></td><td><em>missing</em></td><td><em>missing</em></td><td><em>missing</em></td><td><em>missing</em></td><td><em>missing</em></td><td><em>missing</em></td><td><em>missing</em></td><td><em>missing</em></td><td><em>missing</em></td><td><em>missing</em></td><td><em>missing</em></td></tr><tr><th>&vellip;</th><td>&vellip;</td><td>&vellip;</td><td>&vellip;</td><td>&vellip;</td><td>&vellip;</td><td>&vellip;</td><td>&vellip;</td><td>&vellip;</td><td>&vellip;</td><td>&vellip;</td><td>&vellip;</td><td>&vellip;</td><td>&vellip;</td><td>&vellip;</td><td>&vellip;</td><td>&vellip;</td><td>&vellip;</td><td>&vellip;</td><td>&vellip;</td><td>&vellip;</td><td>&vellip;</td><td>&vellip;</td><td>&vellip;</td><td>&vellip;</td><td>&vellip;</td><td>&vellip;</td><td>&vellip;</td><td>&vellip;</td><td>&vellip;</td><td>&vellip;</td><td>&vellip;</td><td>&vellip;</td><td>&vellip;</td><td>&vellip;</td><td>&vellip;</td><td>&vellip;</td><td>&vellip;</td><td>&vellip;</td><td>&vellip;</td><td>&vellip;</td><td>&vellip;</td><td>&vellip;</td><td>&vellip;</td><td>&vellip;</td><td>&vellip;</td><td>&vellip;</td><td>&vellip;</td><td>&vellip;</td><td>&vellip;</td><td>&vellip;</td><td>&vellip;</td><td>&vellip;</td></tr></tbody></table>"
      ],
      "text/latex": [
       "\\begin{tabular}{r|ccccccccccccccccccccccccccccccccccccccccccccccccccccc}\n",
       "\t& dataset\\_name\\_sub & dataset\\_name\\_soc & lat (dec. deg) & long (dec. deg) & datum (datum) & state (state\\_province) & country (country) & site\\_name & observation\\_date (YYYY-MM-DD) & profile\\_name & layer\\_name & layer\\_top (cm) & layer\\_bot (cm) & hzn\\_desgn\\_other & hzn & hzn\\_desgn & layer\\_note & color & vegclass\\_local & soil\\_taxon & soil\\_series & bd\\_method & bd\\_samp (g cm-3) & bd\\_tot (g cm-3) & bd\\_whole (g cm-3) & bd\\_other (g cm-3) & bdNRCS\\_prep\\_code & cNRCS\\_prep\\_code & c\\_method & c\\_tot (percent) & oc (percent) & loi (percent) & n\\_tot (percent) & c\\_to\\_n (mass ratio) & soc (g cm-2) & soc\\_carbon\\_flag & soc\\_method & ph\\_method & ph\\_cacl & ph\\_h2o & ph\\_other & caco3 (percent) & sand\\_tot\\_psa (percent) & silt\\_tot\\_psa (percent) & clay\\_tot\\_psa (percent) & wpg2\\_method & wpg2 (percent) & cat\\_exch (cmol H+ kg-1) & al\\_dith (specified by al\\_fe\\_units) & al\\_ox (specified by al\\_fe\\_units) & al\\_other (specified by al\\_fe\\_units) & fe\\_dith (specified by al\\_fe\\_units) & \\\\\n",
       "\t\\hline\n",
       "\t& String & String & String? & String? & String? & String? & String? & String & String? & String & String & Int64? & Int64? & Missing & String? & String? & String? & String? & String? & String? & String? & String? & String? & String? & String? & String? & String? & String? & String? & String? & String? & String? & String? & Missing & String? & String? & String? & String? & String? & String? & String? & String? & Int64? & Int64? & Int64? & String? & Int64? & String? & String? & String? & String? & String? & \\\\\n",
       "\t\\hline\n",
       "\t1 & AK DSC Project SOC stock computation & AK DSC Project SOC stock computation & 60,5219 & -150,686 & NAD27 & Alaska & United States & S2001AK122001 & 06/09/2001 & 01N1159 & 01N05963 & \\emph{missing} & \\emph{missing} & \\emph{missing} & \\emph{missing} & \\emph{missing} & \\emph{missing} & \\emph{missing} & \\emph{missing} & Medial over loamy, amorphic over mixed, superactive Andic Humicryods & Naptowne & \\emph{missing} & \\emph{missing} & \\emph{missing} & \\emph{missing} & \\emph{missing} & \\emph{missing} & \\emph{missing} & \\emph{missing} & \\emph{missing} & \\emph{missing} & \\emph{missing} & \\emph{missing} & \\emph{missing} & 0,27 & Eqn 11 + NRCS (c---w) & \\emph{missing} & \\emph{missing} & \\emph{missing} & \\emph{missing} & \\emph{missing} & \\emph{missing} & \\emph{missing} & \\emph{missing} & \\emph{missing} & \\emph{missing} & \\emph{missing} & \\emph{missing} & \\emph{missing} & \\emph{missing} & \\emph{missing} & \\emph{missing} & $\\dots$ \\\\\n",
       "\t2 & AK DSC Project SOC stock computation & AK DSC Project SOC stock computation & 60,5219 & -150,686 & NAD27 & Alaska & United States & S2001AK122001 & 06/09/2001 & 01N1159 & 01N05964 & \\emph{missing} & \\emph{missing} & \\emph{missing} & \\emph{missing} & \\emph{missing} & \\emph{missing} & \\emph{missing} & \\emph{missing} & Medial over loamy, amorphic over mixed, superactive Andic Humicryods & Naptowne & \\emph{missing} & \\emph{missing} & \\emph{missing} & \\emph{missing} & \\emph{missing} & \\emph{missing} & \\emph{missing} & \\emph{missing} & \\emph{missing} & \\emph{missing} & \\emph{missing} & \\emph{missing} & \\emph{missing} & 0,27 & Eqn 7 + NRCS (c---w) & \\emph{missing} & \\emph{missing} & \\emph{missing} & \\emph{missing} & \\emph{missing} & \\emph{missing} & \\emph{missing} & \\emph{missing} & \\emph{missing} & \\emph{missing} & \\emph{missing} & \\emph{missing} & \\emph{missing} & \\emph{missing} & \\emph{missing} & \\emph{missing} & $\\dots$ \\\\\n",
       "\t3 & AK DSC Project SOC stock computation & AK DSC Project SOC stock computation & 60,5219 & -150,686 & NAD27 & Alaska & United States & S2001AK122001 & 06/09/2001 & 01N1159 & 01N05965 & \\emph{missing} & \\emph{missing} & \\emph{missing} & \\emph{missing} & \\emph{missing} & \\emph{missing} & \\emph{missing} & \\emph{missing} & Medial over loamy, amorphic over mixed, superactive Andic Humicryods & Naptowne & \\emph{missing} & \\emph{missing} & \\emph{missing} & \\emph{missing} & \\emph{missing} & \\emph{missing} & \\emph{missing} & \\emph{missing} & \\emph{missing} & \\emph{missing} & \\emph{missing} & \\emph{missing} & \\emph{missing} & 0,12 & noFill + NRCS (c-s-w) & \\emph{missing} & \\emph{missing} & \\emph{missing} & \\emph{missing} & \\emph{missing} & \\emph{missing} & \\emph{missing} & \\emph{missing} & \\emph{missing} & \\emph{missing} & \\emph{missing} & \\emph{missing} & \\emph{missing} & \\emph{missing} & \\emph{missing} & \\emph{missing} & $\\dots$ \\\\\n",
       "\t4 & AK DSC Project SOC stock computation & AK DSC Project SOC stock computation & 60,5219 & -150,686 & NAD27 & Alaska & United States & S2001AK122001 & 06/09/2001 & 01N1159 & 01N05969 & \\emph{missing} & \\emph{missing} & \\emph{missing} & \\emph{missing} & \\emph{missing} & \\emph{missing} & \\emph{missing} & \\emph{missing} & Medial over loamy, amorphic over mixed, superactive Andic Humicryods & Naptowne & \\emph{missing} & \\emph{missing} & \\emph{missing} & \\emph{missing} & \\emph{missing} & \\emph{missing} & \\emph{missing} & \\emph{missing} & \\emph{missing} & \\emph{missing} & \\emph{missing} & \\emph{missing} & \\emph{missing} & 0,02 & noFill + NRCS (c-s-w) & \\emph{missing} & \\emph{missing} & \\emph{missing} & \\emph{missing} & \\emph{missing} & \\emph{missing} & \\emph{missing} & \\emph{missing} & \\emph{missing} & \\emph{missing} & \\emph{missing} & \\emph{missing} & \\emph{missing} & \\emph{missing} & \\emph{missing} & \\emph{missing} & $\\dots$ \\\\\n",
       "\t5 & AK DSC Project SOC stock computation & AK DSC Project SOC stock computation & 60,5219 & -150,686 & NAD27 & Alaska & United States & S2001AK122001 & 06/09/2001 & 01N1159 & 01N05970 & \\emph{missing} & \\emph{missing} & \\emph{missing} & \\emph{missing} & \\emph{missing} & \\emph{missing} & \\emph{missing} & \\emph{missing} & Medial over loamy, amorphic over mixed, superactive Andic Humicryods & Naptowne & \\emph{missing} & \\emph{missing} & \\emph{missing} & \\emph{missing} & \\emph{missing} & \\emph{missing} & \\emph{missing} & \\emph{missing} & \\emph{missing} & \\emph{missing} & \\emph{missing} & \\emph{missing} & \\emph{missing} & 0,02 & noFill + NRCS (c-s-w) & \\emph{missing} & \\emph{missing} & \\emph{missing} & \\emph{missing} & \\emph{missing} & \\emph{missing} & \\emph{missing} & \\emph{missing} & \\emph{missing} & \\emph{missing} & \\emph{missing} & \\emph{missing} & \\emph{missing} & \\emph{missing} & \\emph{missing} & \\emph{missing} & $\\dots$ \\\\\n",
       "\t6 & AK DSC Project SOC stock computation & AK DSC Project SOC stock computation & 60,5219 & -150,686 & NAD27 & Alaska & United States & S2001AK122001 & 06/09/2001 & 01N1159 & 01N05971 & \\emph{missing} & \\emph{missing} & \\emph{missing} & \\emph{missing} & \\emph{missing} & \\emph{missing} & \\emph{missing} & \\emph{missing} & Medial over loamy, amorphic over mixed, superactive Andic Humicryods & Naptowne & \\emph{missing} & \\emph{missing} & \\emph{missing} & \\emph{missing} & \\emph{missing} & \\emph{missing} & \\emph{missing} & \\emph{missing} & \\emph{missing} & \\emph{missing} & \\emph{missing} & \\emph{missing} & \\emph{missing} & 0,03 & Eqn 6 + NRCS (c---w) & \\emph{missing} & \\emph{missing} & \\emph{missing} & \\emph{missing} & \\emph{missing} & \\emph{missing} & \\emph{missing} & \\emph{missing} & \\emph{missing} & \\emph{missing} & \\emph{missing} & \\emph{missing} & \\emph{missing} & \\emph{missing} & \\emph{missing} & \\emph{missing} & $\\dots$ \\\\\n",
       "\t7 & AK DSC Project SOC stock computation & AK DSC Project SOC stock computation & 60,5219 & -150,686 & NAD27 & Alaska & United States & S2001AK122001 & 06/09/2001 & 01N1159 & 01N05972 & \\emph{missing} & \\emph{missing} & \\emph{missing} & \\emph{missing} & \\emph{missing} & \\emph{missing} & \\emph{missing} & \\emph{missing} & Medial over loamy, amorphic over mixed, superactive Andic Humicryods & Naptowne & \\emph{missing} & \\emph{missing} & \\emph{missing} & \\emph{missing} & \\emph{missing} & \\emph{missing} & \\emph{missing} & \\emph{missing} & \\emph{missing} & \\emph{missing} & \\emph{missing} & \\emph{missing} & \\emph{missing} & 0,1 & noFill + NRCS (c-s-w) & \\emph{missing} & \\emph{missing} & \\emph{missing} & \\emph{missing} & \\emph{missing} & \\emph{missing} & \\emph{missing} & \\emph{missing} & \\emph{missing} & \\emph{missing} & \\emph{missing} & \\emph{missing} & \\emph{missing} & \\emph{missing} & \\emph{missing} & \\emph{missing} & $\\dots$ \\\\\n",
       "\t8 & AK DSC Project SOC stock computation & AK DSC Project SOC stock computation & 60,5219 & -150,686 & NAD27 & Alaska & United States & S2001AK122001 & 06/09/2001 & 01N1159 & 01N05973 & \\emph{missing} & \\emph{missing} & \\emph{missing} & \\emph{missing} & \\emph{missing} & \\emph{missing} & \\emph{missing} & \\emph{missing} & Medial over loamy, amorphic over mixed, superactive Andic Humicryods & Naptowne & \\emph{missing} & \\emph{missing} & \\emph{missing} & \\emph{missing} & \\emph{missing} & \\emph{missing} & \\emph{missing} & \\emph{missing} & \\emph{missing} & \\emph{missing} & \\emph{missing} & \\emph{missing} & \\emph{missing} & 0,05 & Eqn 6 + NRCS (c---w) & \\emph{missing} & \\emph{missing} & \\emph{missing} & \\emph{missing} & \\emph{missing} & \\emph{missing} & \\emph{missing} & \\emph{missing} & \\emph{missing} & \\emph{missing} & \\emph{missing} & \\emph{missing} & \\emph{missing} & \\emph{missing} & \\emph{missing} & \\emph{missing} & $\\dots$ \\\\\n",
       "\t9 & AK DSC Project SOC stock computation & AK DSC Project SOC stock computation & 60,5219 & -150,686 & NAD27 & Alaska & United States & S2001AK122001 & 06/09/2001 & 01N1159 & 01N05974 & \\emph{missing} & \\emph{missing} & \\emph{missing} & \\emph{missing} & \\emph{missing} & \\emph{missing} & \\emph{missing} & \\emph{missing} & Medial over loamy, amorphic over mixed, superactive Andic Humicryods & Naptowne & \\emph{missing} & \\emph{missing} & \\emph{missing} & \\emph{missing} & \\emph{missing} & \\emph{missing} & \\emph{missing} & \\emph{missing} & \\emph{missing} & \\emph{missing} & \\emph{missing} & \\emph{missing} & \\emph{missing} & 0,04 & noFill + NRCS (c-s-w) & \\emph{missing} & \\emph{missing} & \\emph{missing} & \\emph{missing} & \\emph{missing} & \\emph{missing} & \\emph{missing} & \\emph{missing} & \\emph{missing} & \\emph{missing} & \\emph{missing} & \\emph{missing} & \\emph{missing} & \\emph{missing} & \\emph{missing} & \\emph{missing} & $\\dots$ \\\\\n",
       "\t10 & AK DSC Project SOC stock computation & AK DSC Project SOC stock computation & 60,5219 & -150,686 & NAD27 & Alaska & United States & S2001AK122001 & 06/09/2001 & 01N1159 & 01N05966 & \\emph{missing} & \\emph{missing} & \\emph{missing} & \\emph{missing} & \\emph{missing} & \\emph{missing} & \\emph{missing} & \\emph{missing} & Medial over loamy, amorphic over mixed, superactive Andic Humicryods & Naptowne & \\emph{missing} & \\emph{missing} & \\emph{missing} & \\emph{missing} & \\emph{missing} & \\emph{missing} & \\emph{missing} & \\emph{missing} & \\emph{missing} & \\emph{missing} & \\emph{missing} & \\emph{missing} & \\emph{missing} & 0,25 & noFill + NRCS (c-s-w) & \\emph{missing} & \\emph{missing} & \\emph{missing} & \\emph{missing} & \\emph{missing} & \\emph{missing} & \\emph{missing} & \\emph{missing} & \\emph{missing} & \\emph{missing} & \\emph{missing} & \\emph{missing} & \\emph{missing} & \\emph{missing} & \\emph{missing} & \\emph{missing} & $\\dots$ \\\\\n",
       "\t11 & AK DSC Project SOC stock computation & AK DSC Project SOC stock computation & 60,5219 & -150,686 & NAD27 & Alaska & United States & S2001AK122001 & 06/09/2001 & 01N1159 & 01N05967 & \\emph{missing} & \\emph{missing} & \\emph{missing} & \\emph{missing} & \\emph{missing} & \\emph{missing} & \\emph{missing} & \\emph{missing} & Medial over loamy, amorphic over mixed, superactive Andic Humicryods & Naptowne & \\emph{missing} & \\emph{missing} & \\emph{missing} & \\emph{missing} & \\emph{missing} & \\emph{missing} & \\emph{missing} & \\emph{missing} & \\emph{missing} & \\emph{missing} & \\emph{missing} & \\emph{missing} & \\emph{missing} & 0,05 & noFill + NRCS (c-s-w) & \\emph{missing} & \\emph{missing} & \\emph{missing} & \\emph{missing} & \\emph{missing} & \\emph{missing} & \\emph{missing} & \\emph{missing} & \\emph{missing} & \\emph{missing} & \\emph{missing} & \\emph{missing} & \\emph{missing} & \\emph{missing} & \\emph{missing} & \\emph{missing} & $\\dots$ \\\\\n",
       "\t12 & AK DSC Project SOC stock computation & AK DSC Project SOC stock computation & 60,5219 & -150,686 & NAD27 & Alaska & United States & S2001AK122001 & 06/09/2001 & 01N1159 & 01N05968 & \\emph{missing} & \\emph{missing} & \\emph{missing} & \\emph{missing} & \\emph{missing} & \\emph{missing} & \\emph{missing} & \\emph{missing} & Medial over loamy, amorphic over mixed, superactive Andic Humicryods & Naptowne & \\emph{missing} & \\emph{missing} & \\emph{missing} & \\emph{missing} & \\emph{missing} & \\emph{missing} & \\emph{missing} & \\emph{missing} & \\emph{missing} & \\emph{missing} & \\emph{missing} & \\emph{missing} & \\emph{missing} & 0,03 & noFill + NRCS (c-s-w) & \\emph{missing} & \\emph{missing} & \\emph{missing} & \\emph{missing} & \\emph{missing} & \\emph{missing} & \\emph{missing} & \\emph{missing} & \\emph{missing} & \\emph{missing} & \\emph{missing} & \\emph{missing} & \\emph{missing} & \\emph{missing} & \\emph{missing} & \\emph{missing} & $\\dots$ \\\\\n",
       "\t13 & AK DSC Project SOC stock computation & AK DSC Project SOC stock computation & 60,5242 & -151,037 & NAD27 & Alaska & United States & S2001AK122002 & 06/09/2001 & 01N1160 & 01N05975 & \\emph{missing} & \\emph{missing} & \\emph{missing} & \\emph{missing} & \\emph{missing} & \\emph{missing} & \\emph{missing} & \\emph{missing} & Medial over loamy, amorphic over mixed, superactive Andic Haplocryods & Kenai & \\emph{missing} & \\emph{missing} & \\emph{missing} & \\emph{missing} & \\emph{missing} & \\emph{missing} & \\emph{missing} & \\emph{missing} & \\emph{missing} & \\emph{missing} & \\emph{missing} & \\emph{missing} & \\emph{missing} & 0,27 & Eqn 11 + NRCS (c---w) & \\emph{missing} & \\emph{missing} & \\emph{missing} & \\emph{missing} & \\emph{missing} & \\emph{missing} & \\emph{missing} & \\emph{missing} & \\emph{missing} & \\emph{missing} & \\emph{missing} & \\emph{missing} & \\emph{missing} & \\emph{missing} & \\emph{missing} & \\emph{missing} & $\\dots$ \\\\\n",
       "\t14 & AK DSC Project SOC stock computation & AK DSC Project SOC stock computation & 60,5242 & -151,037 & NAD27 & Alaska & United States & S2001AK122002 & 06/09/2001 & 01N1160 & 01N05976 & \\emph{missing} & \\emph{missing} & \\emph{missing} & \\emph{missing} & \\emph{missing} & \\emph{missing} & \\emph{missing} & \\emph{missing} & Medial over loamy, amorphic over mixed, superactive Andic Haplocryods & Kenai & \\emph{missing} & \\emph{missing} & \\emph{missing} & \\emph{missing} & \\emph{missing} & \\emph{missing} & \\emph{missing} & \\emph{missing} & \\emph{missing} & \\emph{missing} & \\emph{missing} & \\emph{missing} & \\emph{missing} & 0,42 & Eqn 7 + NRCS (c---w) & \\emph{missing} & \\emph{missing} & \\emph{missing} & \\emph{missing} & \\emph{missing} & \\emph{missing} & \\emph{missing} & \\emph{missing} & \\emph{missing} & \\emph{missing} & \\emph{missing} & \\emph{missing} & \\emph{missing} & \\emph{missing} & \\emph{missing} & \\emph{missing} & $\\dots$ \\\\\n",
       "\t15 & AK DSC Project SOC stock computation & AK DSC Project SOC stock computation & 60,5242 & -151,037 & NAD27 & Alaska & United States & S2001AK122002 & 06/09/2001 & 01N1160 & 01N05977 & \\emph{missing} & \\emph{missing} & \\emph{missing} & \\emph{missing} & \\emph{missing} & \\emph{missing} & \\emph{missing} & \\emph{missing} & Medial over loamy, amorphic over mixed, superactive Andic Haplocryods & Kenai & \\emph{missing} & \\emph{missing} & \\emph{missing} & \\emph{missing} & \\emph{missing} & \\emph{missing} & \\emph{missing} & \\emph{missing} & \\emph{missing} & \\emph{missing} & \\emph{missing} & \\emph{missing} & \\emph{missing} & 0,52 & noFill + NRCS (c-s-w) & \\emph{missing} & \\emph{missing} & \\emph{missing} & \\emph{missing} & \\emph{missing} & \\emph{missing} & \\emph{missing} & \\emph{missing} & \\emph{missing} & \\emph{missing} & \\emph{missing} & \\emph{missing} & \\emph{missing} & \\emph{missing} & \\emph{missing} & \\emph{missing} & $\\dots$ \\\\\n",
       "\t16 & AK DSC Project SOC stock computation & AK DSC Project SOC stock computation & 60,5242 & -151,037 & NAD27 & Alaska & United States & S2001AK122002 & 06/09/2001 & 01N1160 & 01N05978 & \\emph{missing} & \\emph{missing} & \\emph{missing} & \\emph{missing} & \\emph{missing} & \\emph{missing} & \\emph{missing} & \\emph{missing} & Medial over loamy, amorphic over mixed, superactive Andic Haplocryods & Kenai & \\emph{missing} & \\emph{missing} & \\emph{missing} & \\emph{missing} & \\emph{missing} & \\emph{missing} & \\emph{missing} & \\emph{missing} & \\emph{missing} & \\emph{missing} & \\emph{missing} & \\emph{missing} & \\emph{missing} & 0,13 & noFill + NRCS (c-s-w) & \\emph{missing} & \\emph{missing} & \\emph{missing} & \\emph{missing} & \\emph{missing} & \\emph{missing} & \\emph{missing} & \\emph{missing} & \\emph{missing} & \\emph{missing} & \\emph{missing} & \\emph{missing} & \\emph{missing} & \\emph{missing} & \\emph{missing} & \\emph{missing} & $\\dots$ \\\\\n",
       "\t17 & AK DSC Project SOC stock computation & AK DSC Project SOC stock computation & 60,5242 & -151,037 & NAD27 & Alaska & United States & S2001AK122002 & 06/09/2001 & 01N1160 & 01N05979 & \\emph{missing} & \\emph{missing} & \\emph{missing} & \\emph{missing} & \\emph{missing} & \\emph{missing} & \\emph{missing} & \\emph{missing} & Medial over loamy, amorphic over mixed, superactive Andic Haplocryods & Kenai & \\emph{missing} & \\emph{missing} & \\emph{missing} & \\emph{missing} & \\emph{missing} & \\emph{missing} & \\emph{missing} & \\emph{missing} & \\emph{missing} & \\emph{missing} & \\emph{missing} & \\emph{missing} & \\emph{missing} & 0,11 & noFill + NRCS (c-s-w) & \\emph{missing} & \\emph{missing} & \\emph{missing} & \\emph{missing} & \\emph{missing} & \\emph{missing} & \\emph{missing} & \\emph{missing} & \\emph{missing} & \\emph{missing} & \\emph{missing} & \\emph{missing} & \\emph{missing} & \\emph{missing} & \\emph{missing} & \\emph{missing} & $\\dots$ \\\\\n",
       "\t18 & AK DSC Project SOC stock computation & AK DSC Project SOC stock computation & 60,5242 & -151,037 & NAD27 & Alaska & United States & S2001AK122002 & 06/09/2001 & 01N1160 & 01N05980 & \\emph{missing} & \\emph{missing} & \\emph{missing} & \\emph{missing} & \\emph{missing} & \\emph{missing} & \\emph{missing} & \\emph{missing} & Medial over loamy, amorphic over mixed, superactive Andic Haplocryods & Kenai & \\emph{missing} & \\emph{missing} & \\emph{missing} & \\emph{missing} & \\emph{missing} & \\emph{missing} & \\emph{missing} & \\emph{missing} & \\emph{missing} & \\emph{missing} & \\emph{missing} & \\emph{missing} & \\emph{missing} & 0,06 & noFill + NRCS (c-s-w) & \\emph{missing} & \\emph{missing} & \\emph{missing} & \\emph{missing} & \\emph{missing} & \\emph{missing} & \\emph{missing} & \\emph{missing} & \\emph{missing} & \\emph{missing} & \\emph{missing} & \\emph{missing} & \\emph{missing} & \\emph{missing} & \\emph{missing} & \\emph{missing} & $\\dots$ \\\\\n",
       "\t19 & AK DSC Project SOC stock computation & AK DSC Project SOC stock computation & 60,5242 & -151,037 & NAD27 & Alaska & United States & S2001AK122002 & 06/09/2001 & 01N1160 & 01N05981 & \\emph{missing} & \\emph{missing} & \\emph{missing} & \\emph{missing} & \\emph{missing} & \\emph{missing} & \\emph{missing} & \\emph{missing} & Medial over loamy, amorphic over mixed, superactive Andic Haplocryods & Kenai & \\emph{missing} & \\emph{missing} & \\emph{missing} & \\emph{missing} & \\emph{missing} & \\emph{missing} & \\emph{missing} & \\emph{missing} & \\emph{missing} & \\emph{missing} & \\emph{missing} & \\emph{missing} & \\emph{missing} & 0,11 & noFill + NRCS (c-s-w) & \\emph{missing} & \\emph{missing} & \\emph{missing} & \\emph{missing} & \\emph{missing} & \\emph{missing} & \\emph{missing} & \\emph{missing} & \\emph{missing} & \\emph{missing} & \\emph{missing} & \\emph{missing} & \\emph{missing} & \\emph{missing} & \\emph{missing} & \\emph{missing} & $\\dots$ \\\\\n",
       "\t20 & AK DSC Project SOC stock computation & AK DSC Project SOC stock computation & 60,5242 & -151,037 & NAD27 & Alaska & United States & S2001AK122002 & 06/09/2001 & 01N1160 & 01N05982 & \\emph{missing} & \\emph{missing} & \\emph{missing} & \\emph{missing} & \\emph{missing} & \\emph{missing} & \\emph{missing} & \\emph{missing} & Medial over loamy, amorphic over mixed, superactive Andic Haplocryods & Kenai & \\emph{missing} & \\emph{missing} & \\emph{missing} & \\emph{missing} & \\emph{missing} & \\emph{missing} & \\emph{missing} & \\emph{missing} & \\emph{missing} & \\emph{missing} & \\emph{missing} & \\emph{missing} & \\emph{missing} & 0,08 & noFill + NRCS (c-s-w) & \\emph{missing} & \\emph{missing} & \\emph{missing} & \\emph{missing} & \\emph{missing} & \\emph{missing} & \\emph{missing} & \\emph{missing} & \\emph{missing} & \\emph{missing} & \\emph{missing} & \\emph{missing} & \\emph{missing} & \\emph{missing} & \\emph{missing} & \\emph{missing} & $\\dots$ \\\\\n",
       "\t$\\dots$ & $\\dots$ & $\\dots$ & $\\dots$ & $\\dots$ & $\\dots$ & $\\dots$ & $\\dots$ & $\\dots$ & $\\dots$ & $\\dots$ & $\\dots$ & $\\dots$ & $\\dots$ & $\\dots$ & $\\dots$ & $\\dots$ & $\\dots$ & $\\dots$ & $\\dots$ & $\\dots$ & $\\dots$ & $\\dots$ & $\\dots$ & $\\dots$ & $\\dots$ & $\\dots$ & $\\dots$ & $\\dots$ & $\\dots$ & $\\dots$ & $\\dots$ & $\\dots$ & $\\dots$ & $\\dots$ & $\\dots$ & $\\dots$ & $\\dots$ & $\\dots$ & $\\dots$ & $\\dots$ & $\\dots$ & $\\dots$ & $\\dots$ & $\\dots$ & $\\dots$ & $\\dots$ & $\\dots$ & $\\dots$ & $\\dots$ & $\\dots$ & $\\dots$ & $\\dots$ &  \\\\\n",
       "\\end{tabular}\n"
      ],
      "text/plain": [
       "227764×94 DataFrame. Omitted printing of 45 columns\n",
       "│ Row    │ dataset_name_sub                     │ dataset_name_soc                     │ lat (dec. deg) │ long (dec. deg) │ datum (datum) │ state (state_province) │ country (country) │ site_name     │ observation_date (YYYY-MM-DD) │ profile_name │ layer_name   │ layer_top (cm) │ layer_bot (cm) │ hzn_desgn_other │ hzn     │ hzn_desgn │ layer_note │ color   │ vegclass_local │ soil_taxon                                                           │ soil_series │ bd_method │ bd_samp (g cm-3) │ bd_tot (g cm-3) │ bd_whole (g cm-3) │ bd_other (g cm-3) │ bdNRCS_prep_code │ cNRCS_prep_code │ c_method │ c_tot (percent) │ oc (percent) │ loi (percent) │ n_tot (percent) │ c_to_n (mass ratio) │ soc (g cm-2) │ soc_carbon_flag       │ soc_method │ ph_method │ ph_cacl │ ph_h2o  │ ph_other │ caco3 (percent) │ sand_tot_psa (percent) │ silt_tot_psa (percent) │ clay_tot_psa (percent) │ wpg2_method │ wpg2 (percent) │ cat_exch (cmol H+ kg-1) │ al_dith (specified by al_fe_units) │\n",
       "│        │ \u001b[90mString\u001b[39m                               │ \u001b[90mString\u001b[39m                               │ \u001b[90mString?\u001b[39m        │ \u001b[90mString?\u001b[39m         │ \u001b[90mString?\u001b[39m       │ \u001b[90mUnion{Missing, String}\u001b[39m │ \u001b[90mString?\u001b[39m           │ \u001b[90mString\u001b[39m        │ \u001b[90mUnion{Missing, String}\u001b[39m        │ \u001b[90mString\u001b[39m       │ \u001b[90mString\u001b[39m       │ \u001b[90mInt64?\u001b[39m         │ \u001b[90mInt64?\u001b[39m         │ \u001b[90mMissing\u001b[39m         │ \u001b[90mString?\u001b[39m │ \u001b[90mString?\u001b[39m   │ \u001b[90mString?\u001b[39m    │ \u001b[90mString?\u001b[39m │ \u001b[90mString?\u001b[39m        │ \u001b[90mUnion{Missing, String}\u001b[39m                                               │ \u001b[90mString?\u001b[39m     │ \u001b[90mString?\u001b[39m   │ \u001b[90mString?\u001b[39m          │ \u001b[90mString?\u001b[39m         │ \u001b[90mString?\u001b[39m           │ \u001b[90mString?\u001b[39m           │ \u001b[90mString?\u001b[39m          │ \u001b[90mString?\u001b[39m         │ \u001b[90mString?\u001b[39m  │ \u001b[90mString?\u001b[39m         │ \u001b[90mString?\u001b[39m      │ \u001b[90mString?\u001b[39m       │ \u001b[90mString?\u001b[39m         │ \u001b[90mMissing\u001b[39m             │ \u001b[90mString?\u001b[39m      │ \u001b[90mString?\u001b[39m               │ \u001b[90mString?\u001b[39m    │ \u001b[90mString?\u001b[39m   │ \u001b[90mString?\u001b[39m │ \u001b[90mString?\u001b[39m │ \u001b[90mString?\u001b[39m  │ \u001b[90mString?\u001b[39m         │ \u001b[90mUnion{Missing, Int64}\u001b[39m  │ \u001b[90mUnion{Missing, Int64}\u001b[39m  │ \u001b[90mUnion{Missing, Int64}\u001b[39m  │ \u001b[90mString?\u001b[39m     │ \u001b[90mInt64?\u001b[39m         │ \u001b[90mUnion{Missing, String}\u001b[39m  │ \u001b[90mUnion{Missing, String}\u001b[39m             │\n",
       "├────────┼──────────────────────────────────────┼──────────────────────────────────────┼────────────────┼─────────────────┼───────────────┼────────────────────────┼───────────────────┼───────────────┼───────────────────────────────┼──────────────┼──────────────┼────────────────┼────────────────┼─────────────────┼─────────┼───────────┼────────────┼─────────┼────────────────┼──────────────────────────────────────────────────────────────────────┼─────────────┼───────────┼──────────────────┼─────────────────┼───────────────────┼───────────────────┼──────────────────┼─────────────────┼──────────┼─────────────────┼──────────────┼───────────────┼─────────────────┼─────────────────────┼──────────────┼───────────────────────┼────────────┼───────────┼─────────┼─────────┼──────────┼─────────────────┼────────────────────────┼────────────────────────┼────────────────────────┼─────────────┼────────────────┼─────────────────────────┼────────────────────────────────────┤\n",
       "│ 1      │ AK DSC Project SOC stock computation │ AK DSC Project SOC stock computation │ 60,5219        │ -150,686        │ NAD27         │ Alaska                 │ United States     │ S2001AK122001 │ 06/09/2001                    │ 01N1159      │ 01N05963     │ \u001b[90mmissing\u001b[39m        │ \u001b[90mmissing\u001b[39m        │ \u001b[90mmissing\u001b[39m         │ \u001b[90mmissing\u001b[39m │ \u001b[90mmissing\u001b[39m   │ \u001b[90mmissing\u001b[39m    │ \u001b[90mmissing\u001b[39m │ \u001b[90mmissing\u001b[39m        │ Medial over loamy, amorphic over mixed, superactive Andic Humicryods │ Naptowne    │ \u001b[90mmissing\u001b[39m   │ \u001b[90mmissing\u001b[39m          │ \u001b[90mmissing\u001b[39m         │ \u001b[90mmissing\u001b[39m           │ \u001b[90mmissing\u001b[39m           │ \u001b[90mmissing\u001b[39m          │ \u001b[90mmissing\u001b[39m         │ \u001b[90mmissing\u001b[39m  │ \u001b[90mmissing\u001b[39m         │ \u001b[90mmissing\u001b[39m      │ \u001b[90mmissing\u001b[39m       │ \u001b[90mmissing\u001b[39m         │ \u001b[90mmissing\u001b[39m             │ 0,27         │ Eqn 11 + NRCS (c---w) │ \u001b[90mmissing\u001b[39m    │ \u001b[90mmissing\u001b[39m   │ \u001b[90mmissing\u001b[39m │ \u001b[90mmissing\u001b[39m │ \u001b[90mmissing\u001b[39m  │ \u001b[90mmissing\u001b[39m         │ \u001b[90mmissing\u001b[39m                │ \u001b[90mmissing\u001b[39m                │ \u001b[90mmissing\u001b[39m                │ \u001b[90mmissing\u001b[39m     │ \u001b[90mmissing\u001b[39m        │ \u001b[90mmissing\u001b[39m                 │ \u001b[90mmissing\u001b[39m                            │\n",
       "│ 2      │ AK DSC Project SOC stock computation │ AK DSC Project SOC stock computation │ 60,5219        │ -150,686        │ NAD27         │ Alaska                 │ United States     │ S2001AK122001 │ 06/09/2001                    │ 01N1159      │ 01N05964     │ \u001b[90mmissing\u001b[39m        │ \u001b[90mmissing\u001b[39m        │ \u001b[90mmissing\u001b[39m         │ \u001b[90mmissing\u001b[39m │ \u001b[90mmissing\u001b[39m   │ \u001b[90mmissing\u001b[39m    │ \u001b[90mmissing\u001b[39m │ \u001b[90mmissing\u001b[39m        │ Medial over loamy, amorphic over mixed, superactive Andic Humicryods │ Naptowne    │ \u001b[90mmissing\u001b[39m   │ \u001b[90mmissing\u001b[39m          │ \u001b[90mmissing\u001b[39m         │ \u001b[90mmissing\u001b[39m           │ \u001b[90mmissing\u001b[39m           │ \u001b[90mmissing\u001b[39m          │ \u001b[90mmissing\u001b[39m         │ \u001b[90mmissing\u001b[39m  │ \u001b[90mmissing\u001b[39m         │ \u001b[90mmissing\u001b[39m      │ \u001b[90mmissing\u001b[39m       │ \u001b[90mmissing\u001b[39m         │ \u001b[90mmissing\u001b[39m             │ 0,27         │ Eqn 7 + NRCS (c---w)  │ \u001b[90mmissing\u001b[39m    │ \u001b[90mmissing\u001b[39m   │ \u001b[90mmissing\u001b[39m │ \u001b[90mmissing\u001b[39m │ \u001b[90mmissing\u001b[39m  │ \u001b[90mmissing\u001b[39m         │ \u001b[90mmissing\u001b[39m                │ \u001b[90mmissing\u001b[39m                │ \u001b[90mmissing\u001b[39m                │ \u001b[90mmissing\u001b[39m     │ \u001b[90mmissing\u001b[39m        │ \u001b[90mmissing\u001b[39m                 │ \u001b[90mmissing\u001b[39m                            │\n",
       "│ 3      │ AK DSC Project SOC stock computation │ AK DSC Project SOC stock computation │ 60,5219        │ -150,686        │ NAD27         │ Alaska                 │ United States     │ S2001AK122001 │ 06/09/2001                    │ 01N1159      │ 01N05965     │ \u001b[90mmissing\u001b[39m        │ \u001b[90mmissing\u001b[39m        │ \u001b[90mmissing\u001b[39m         │ \u001b[90mmissing\u001b[39m │ \u001b[90mmissing\u001b[39m   │ \u001b[90mmissing\u001b[39m    │ \u001b[90mmissing\u001b[39m │ \u001b[90mmissing\u001b[39m        │ Medial over loamy, amorphic over mixed, superactive Andic Humicryods │ Naptowne    │ \u001b[90mmissing\u001b[39m   │ \u001b[90mmissing\u001b[39m          │ \u001b[90mmissing\u001b[39m         │ \u001b[90mmissing\u001b[39m           │ \u001b[90mmissing\u001b[39m           │ \u001b[90mmissing\u001b[39m          │ \u001b[90mmissing\u001b[39m         │ \u001b[90mmissing\u001b[39m  │ \u001b[90mmissing\u001b[39m         │ \u001b[90mmissing\u001b[39m      │ \u001b[90mmissing\u001b[39m       │ \u001b[90mmissing\u001b[39m         │ \u001b[90mmissing\u001b[39m             │ 0,12         │ noFill + NRCS (c-s-w) │ \u001b[90mmissing\u001b[39m    │ \u001b[90mmissing\u001b[39m   │ \u001b[90mmissing\u001b[39m │ \u001b[90mmissing\u001b[39m │ \u001b[90mmissing\u001b[39m  │ \u001b[90mmissing\u001b[39m         │ \u001b[90mmissing\u001b[39m                │ \u001b[90mmissing\u001b[39m                │ \u001b[90mmissing\u001b[39m                │ \u001b[90mmissing\u001b[39m     │ \u001b[90mmissing\u001b[39m        │ \u001b[90mmissing\u001b[39m                 │ \u001b[90mmissing\u001b[39m                            │\n",
       "│ 4      │ AK DSC Project SOC stock computation │ AK DSC Project SOC stock computation │ 60,5219        │ -150,686        │ NAD27         │ Alaska                 │ United States     │ S2001AK122001 │ 06/09/2001                    │ 01N1159      │ 01N05969     │ \u001b[90mmissing\u001b[39m        │ \u001b[90mmissing\u001b[39m        │ \u001b[90mmissing\u001b[39m         │ \u001b[90mmissing\u001b[39m │ \u001b[90mmissing\u001b[39m   │ \u001b[90mmissing\u001b[39m    │ \u001b[90mmissing\u001b[39m │ \u001b[90mmissing\u001b[39m        │ Medial over loamy, amorphic over mixed, superactive Andic Humicryods │ Naptowne    │ \u001b[90mmissing\u001b[39m   │ \u001b[90mmissing\u001b[39m          │ \u001b[90mmissing\u001b[39m         │ \u001b[90mmissing\u001b[39m           │ \u001b[90mmissing\u001b[39m           │ \u001b[90mmissing\u001b[39m          │ \u001b[90mmissing\u001b[39m         │ \u001b[90mmissing\u001b[39m  │ \u001b[90mmissing\u001b[39m         │ \u001b[90mmissing\u001b[39m      │ \u001b[90mmissing\u001b[39m       │ \u001b[90mmissing\u001b[39m         │ \u001b[90mmissing\u001b[39m             │ 0,02         │ noFill + NRCS (c-s-w) │ \u001b[90mmissing\u001b[39m    │ \u001b[90mmissing\u001b[39m   │ \u001b[90mmissing\u001b[39m │ \u001b[90mmissing\u001b[39m │ \u001b[90mmissing\u001b[39m  │ \u001b[90mmissing\u001b[39m         │ \u001b[90mmissing\u001b[39m                │ \u001b[90mmissing\u001b[39m                │ \u001b[90mmissing\u001b[39m                │ \u001b[90mmissing\u001b[39m     │ \u001b[90mmissing\u001b[39m        │ \u001b[90mmissing\u001b[39m                 │ \u001b[90mmissing\u001b[39m                            │\n",
       "│ 5      │ AK DSC Project SOC stock computation │ AK DSC Project SOC stock computation │ 60,5219        │ -150,686        │ NAD27         │ Alaska                 │ United States     │ S2001AK122001 │ 06/09/2001                    │ 01N1159      │ 01N05970     │ \u001b[90mmissing\u001b[39m        │ \u001b[90mmissing\u001b[39m        │ \u001b[90mmissing\u001b[39m         │ \u001b[90mmissing\u001b[39m │ \u001b[90mmissing\u001b[39m   │ \u001b[90mmissing\u001b[39m    │ \u001b[90mmissing\u001b[39m │ \u001b[90mmissing\u001b[39m        │ Medial over loamy, amorphic over mixed, superactive Andic Humicryods │ Naptowne    │ \u001b[90mmissing\u001b[39m   │ \u001b[90mmissing\u001b[39m          │ \u001b[90mmissing\u001b[39m         │ \u001b[90mmissing\u001b[39m           │ \u001b[90mmissing\u001b[39m           │ \u001b[90mmissing\u001b[39m          │ \u001b[90mmissing\u001b[39m         │ \u001b[90mmissing\u001b[39m  │ \u001b[90mmissing\u001b[39m         │ \u001b[90mmissing\u001b[39m      │ \u001b[90mmissing\u001b[39m       │ \u001b[90mmissing\u001b[39m         │ \u001b[90mmissing\u001b[39m             │ 0,02         │ noFill + NRCS (c-s-w) │ \u001b[90mmissing\u001b[39m    │ \u001b[90mmissing\u001b[39m   │ \u001b[90mmissing\u001b[39m │ \u001b[90mmissing\u001b[39m │ \u001b[90mmissing\u001b[39m  │ \u001b[90mmissing\u001b[39m         │ \u001b[90mmissing\u001b[39m                │ \u001b[90mmissing\u001b[39m                │ \u001b[90mmissing\u001b[39m                │ \u001b[90mmissing\u001b[39m     │ \u001b[90mmissing\u001b[39m        │ \u001b[90mmissing\u001b[39m                 │ \u001b[90mmissing\u001b[39m                            │\n",
       "⋮\n",
       "│ 227759 │ USGS Harden Yazoo                    │ USGS Harden Yazoo                    │ \u001b[90mmissing\u001b[39m        │ \u001b[90mmissing\u001b[39m         │ \u001b[90mmissing\u001b[39m       │ \u001b[90mmissing\u001b[39m                │ \u001b[90mmissing\u001b[39m           │ NFPV*         │ \u001b[90mmissing\u001b[39m                       │ NFPV 1       │ NFPV* 1.61x  │ \u001b[90mmissing\u001b[39m        │ \u001b[90mmissing\u001b[39m        │ \u001b[90mmissing\u001b[39m         │ \u001b[90mmissing\u001b[39m │ \u001b[90mmissing\u001b[39m   │ \u001b[90mmissing\u001b[39m    │ \u001b[90mmissing\u001b[39m │ \u001b[90mmissing\u001b[39m        │ \u001b[90mmissing\u001b[39m                                                              │ \u001b[90mmissing\u001b[39m     │ \u001b[90mmissing\u001b[39m   │ \u001b[90mmissing\u001b[39m          │ \u001b[90mmissing\u001b[39m         │ \u001b[90mmissing\u001b[39m           │ \u001b[90mmissing\u001b[39m           │ \u001b[90mmissing\u001b[39m          │ \u001b[90mmissing\u001b[39m         │ \u001b[90mmissing\u001b[39m  │ \u001b[90mmissing\u001b[39m         │ \u001b[90mmissing\u001b[39m      │ \u001b[90mmissing\u001b[39m       │ \u001b[90mmissing\u001b[39m         │ \u001b[90mmissing\u001b[39m             │ 0,02         │ \u001b[90mmissing\u001b[39m               │ \u001b[90mmissing\u001b[39m    │ \u001b[90mmissing\u001b[39m   │ \u001b[90mmissing\u001b[39m │ \u001b[90mmissing\u001b[39m │ \u001b[90mmissing\u001b[39m  │ \u001b[90mmissing\u001b[39m         │ \u001b[90mmissing\u001b[39m                │ \u001b[90mmissing\u001b[39m                │ \u001b[90mmissing\u001b[39m                │ \u001b[90mmissing\u001b[39m     │ \u001b[90mmissing\u001b[39m        │ \u001b[90mmissing\u001b[39m                 │ \u001b[90mmissing\u001b[39m                            │\n",
       "│ 227760 │ USGS Harden Yazoo                    │ USGS Harden Yazoo                    │ \u001b[90mmissing\u001b[39m        │ \u001b[90mmissing\u001b[39m         │ \u001b[90mmissing\u001b[39m       │ \u001b[90mmissing\u001b[39m                │ \u001b[90mmissing\u001b[39m           │ NFPV*         │ \u001b[90mmissing\u001b[39m                       │ NFPV 1       │ NFPV* 1.65x  │ \u001b[90mmissing\u001b[39m        │ \u001b[90mmissing\u001b[39m        │ \u001b[90mmissing\u001b[39m         │ \u001b[90mmissing\u001b[39m │ \u001b[90mmissing\u001b[39m   │ \u001b[90mmissing\u001b[39m    │ \u001b[90mmissing\u001b[39m │ \u001b[90mmissing\u001b[39m        │ \u001b[90mmissing\u001b[39m                                                              │ \u001b[90mmissing\u001b[39m     │ \u001b[90mmissing\u001b[39m   │ \u001b[90mmissing\u001b[39m          │ \u001b[90mmissing\u001b[39m         │ \u001b[90mmissing\u001b[39m           │ \u001b[90mmissing\u001b[39m           │ \u001b[90mmissing\u001b[39m          │ \u001b[90mmissing\u001b[39m         │ \u001b[90mmissing\u001b[39m  │ \u001b[90mmissing\u001b[39m         │ \u001b[90mmissing\u001b[39m      │ \u001b[90mmissing\u001b[39m       │ \u001b[90mmissing\u001b[39m         │ \u001b[90mmissing\u001b[39m             │ 0,01         │ \u001b[90mmissing\u001b[39m               │ \u001b[90mmissing\u001b[39m    │ \u001b[90mmissing\u001b[39m   │ \u001b[90mmissing\u001b[39m │ \u001b[90mmissing\u001b[39m │ \u001b[90mmissing\u001b[39m  │ \u001b[90mmissing\u001b[39m         │ \u001b[90mmissing\u001b[39m                │ \u001b[90mmissing\u001b[39m                │ \u001b[90mmissing\u001b[39m                │ \u001b[90mmissing\u001b[39m     │ \u001b[90mmissing\u001b[39m        │ \u001b[90mmissing\u001b[39m                 │ \u001b[90mmissing\u001b[39m                            │\n",
       "│ 227761 │ USGS Harden Yazoo                    │ USGS Harden Yazoo                    │ \u001b[90mmissing\u001b[39m        │ \u001b[90mmissing\u001b[39m         │ \u001b[90mmissing\u001b[39m       │ \u001b[90mmissing\u001b[39m                │ \u001b[90mmissing\u001b[39m           │ NFPV*         │ \u001b[90mmissing\u001b[39m                       │ NFPV 1       │ NFPV* 1.20x  │ \u001b[90mmissing\u001b[39m        │ \u001b[90mmissing\u001b[39m        │ \u001b[90mmissing\u001b[39m         │ \u001b[90mmissing\u001b[39m │ \u001b[90mmissing\u001b[39m   │ \u001b[90mmissing\u001b[39m    │ \u001b[90mmissing\u001b[39m │ \u001b[90mmissing\u001b[39m        │ \u001b[90mmissing\u001b[39m                                                              │ \u001b[90mmissing\u001b[39m     │ \u001b[90mmissing\u001b[39m   │ \u001b[90mmissing\u001b[39m          │ \u001b[90mmissing\u001b[39m         │ \u001b[90mmissing\u001b[39m           │ \u001b[90mmissing\u001b[39m           │ \u001b[90mmissing\u001b[39m          │ \u001b[90mmissing\u001b[39m         │ \u001b[90mmissing\u001b[39m  │ \u001b[90mmissing\u001b[39m         │ \u001b[90mmissing\u001b[39m      │ \u001b[90mmissing\u001b[39m       │ \u001b[90mmissing\u001b[39m         │ \u001b[90mmissing\u001b[39m             │ 0,05         │ \u001b[90mmissing\u001b[39m               │ \u001b[90mmissing\u001b[39m    │ \u001b[90mmissing\u001b[39m   │ \u001b[90mmissing\u001b[39m │ \u001b[90mmissing\u001b[39m │ \u001b[90mmissing\u001b[39m  │ \u001b[90mmissing\u001b[39m         │ \u001b[90mmissing\u001b[39m                │ \u001b[90mmissing\u001b[39m                │ \u001b[90mmissing\u001b[39m                │ \u001b[90mmissing\u001b[39m     │ \u001b[90mmissing\u001b[39m        │ \u001b[90mmissing\u001b[39m                 │ \u001b[90mmissing\u001b[39m                            │\n",
       "│ 227762 │ USGS Harden Yazoo                    │ USGS Harden Yazoo                    │ \u001b[90mmissing\u001b[39m        │ \u001b[90mmissing\u001b[39m         │ \u001b[90mmissing\u001b[39m       │ \u001b[90mmissing\u001b[39m                │ \u001b[90mmissing\u001b[39m           │ NFPV*         │ \u001b[90mmissing\u001b[39m                       │ NFPV 1       │ NFPV* 1.25x  │ \u001b[90mmissing\u001b[39m        │ \u001b[90mmissing\u001b[39m        │ \u001b[90mmissing\u001b[39m         │ \u001b[90mmissing\u001b[39m │ \u001b[90mmissing\u001b[39m   │ \u001b[90mmissing\u001b[39m    │ \u001b[90mmissing\u001b[39m │ \u001b[90mmissing\u001b[39m        │ \u001b[90mmissing\u001b[39m                                                              │ \u001b[90mmissing\u001b[39m     │ \u001b[90mmissing\u001b[39m   │ \u001b[90mmissing\u001b[39m          │ \u001b[90mmissing\u001b[39m         │ \u001b[90mmissing\u001b[39m           │ \u001b[90mmissing\u001b[39m           │ \u001b[90mmissing\u001b[39m          │ \u001b[90mmissing\u001b[39m         │ \u001b[90mmissing\u001b[39m  │ \u001b[90mmissing\u001b[39m         │ \u001b[90mmissing\u001b[39m      │ \u001b[90mmissing\u001b[39m       │ \u001b[90mmissing\u001b[39m         │ \u001b[90mmissing\u001b[39m             │ 0,05         │ \u001b[90mmissing\u001b[39m               │ \u001b[90mmissing\u001b[39m    │ \u001b[90mmissing\u001b[39m   │ \u001b[90mmissing\u001b[39m │ \u001b[90mmissing\u001b[39m │ \u001b[90mmissing\u001b[39m  │ \u001b[90mmissing\u001b[39m         │ \u001b[90mmissing\u001b[39m                │ \u001b[90mmissing\u001b[39m                │ \u001b[90mmissing\u001b[39m                │ \u001b[90mmissing\u001b[39m     │ \u001b[90mmissing\u001b[39m        │ \u001b[90mmissing\u001b[39m                 │ \u001b[90mmissing\u001b[39m                            │\n",
       "│ 227763 │ USGS Harden Yazoo                    │ USGS Harden Yazoo                    │ \u001b[90mmissing\u001b[39m        │ \u001b[90mmissing\u001b[39m         │ \u001b[90mmissing\u001b[39m       │ \u001b[90mmissing\u001b[39m                │ \u001b[90mmissing\u001b[39m           │ NFPV*         │ \u001b[90mmissing\u001b[39m                       │ NFPV 1       │ NFPV* 1.30x  │ \u001b[90mmissing\u001b[39m        │ \u001b[90mmissing\u001b[39m        │ \u001b[90mmissing\u001b[39m         │ \u001b[90mmissing\u001b[39m │ \u001b[90mmissing\u001b[39m   │ \u001b[90mmissing\u001b[39m    │ \u001b[90mmissing\u001b[39m │ \u001b[90mmissing\u001b[39m        │ \u001b[90mmissing\u001b[39m                                                              │ \u001b[90mmissing\u001b[39m     │ \u001b[90mmissing\u001b[39m   │ \u001b[90mmissing\u001b[39m          │ \u001b[90mmissing\u001b[39m         │ \u001b[90mmissing\u001b[39m           │ \u001b[90mmissing\u001b[39m           │ \u001b[90mmissing\u001b[39m          │ \u001b[90mmissing\u001b[39m         │ \u001b[90mmissing\u001b[39m  │ \u001b[90mmissing\u001b[39m         │ \u001b[90mmissing\u001b[39m      │ \u001b[90mmissing\u001b[39m       │ \u001b[90mmissing\u001b[39m         │ \u001b[90mmissing\u001b[39m             │ 0,04         │ \u001b[90mmissing\u001b[39m               │ \u001b[90mmissing\u001b[39m    │ \u001b[90mmissing\u001b[39m   │ \u001b[90mmissing\u001b[39m │ \u001b[90mmissing\u001b[39m │ \u001b[90mmissing\u001b[39m  │ \u001b[90mmissing\u001b[39m         │ \u001b[90mmissing\u001b[39m                │ \u001b[90mmissing\u001b[39m                │ \u001b[90mmissing\u001b[39m                │ \u001b[90mmissing\u001b[39m     │ \u001b[90mmissing\u001b[39m        │ \u001b[90mmissing\u001b[39m                 │ \u001b[90mmissing\u001b[39m                            │\n",
       "│ 227764 │ USGS Harden Yazoo                    │ USGS Harden Yazoo                    │ \u001b[90mmissing\u001b[39m        │ \u001b[90mmissing\u001b[39m         │ \u001b[90mmissing\u001b[39m       │ \u001b[90mmissing\u001b[39m                │ \u001b[90mmissing\u001b[39m           │ NFPV*         │ \u001b[90mmissing\u001b[39m                       │ NFPV 1       │ NFPV* 1.35x  │ \u001b[90mmissing\u001b[39m        │ \u001b[90mmissing\u001b[39m        │ \u001b[90mmissing\u001b[39m         │ \u001b[90mmissing\u001b[39m │ \u001b[90mmissing\u001b[39m   │ \u001b[90mmissing\u001b[39m    │ \u001b[90mmissing\u001b[39m │ \u001b[90mmissing\u001b[39m        │ \u001b[90mmissing\u001b[39m                                                              │ \u001b[90mmissing\u001b[39m     │ \u001b[90mmissing\u001b[39m   │ \u001b[90mmissing\u001b[39m          │ \u001b[90mmissing\u001b[39m         │ \u001b[90mmissing\u001b[39m           │ \u001b[90mmissing\u001b[39m           │ \u001b[90mmissing\u001b[39m          │ \u001b[90mmissing\u001b[39m         │ \u001b[90mmissing\u001b[39m  │ \u001b[90mmissing\u001b[39m         │ \u001b[90mmissing\u001b[39m      │ \u001b[90mmissing\u001b[39m       │ \u001b[90mmissing\u001b[39m         │ \u001b[90mmissing\u001b[39m             │ 0,04         │ \u001b[90mmissing\u001b[39m               │ \u001b[90mmissing\u001b[39m    │ \u001b[90mmissing\u001b[39m   │ \u001b[90mmissing\u001b[39m │ \u001b[90mmissing\u001b[39m │ \u001b[90mmissing\u001b[39m  │ \u001b[90mmissing\u001b[39m         │ \u001b[90mmissing\u001b[39m                │ \u001b[90mmissing\u001b[39m                │ \u001b[90mmissing\u001b[39m                │ \u001b[90mmissing\u001b[39m     │ \u001b[90mmissing\u001b[39m        │ \u001b[90mmissing\u001b[39m                 │ \u001b[90mmissing\u001b[39m                            │"
      ]
     },
     "execution_count": 3,
     "metadata": {},
     "output_type": "execute_result"
    }
   ],
   "source": [
    "df_ISCN_orig = CSV.read(\"ISCN_SOC-DATA_LAYER_1-1.csv\", DataFrame)"
   ]
  },
  {
   "cell_type": "code",
   "execution_count": 4,
   "metadata": {},
   "outputs": [
    {
     "data": {
      "text/plain": [
       "12244"
      ]
     },
     "execution_count": 4,
     "metadata": {},
     "output_type": "execute_result"
    }
   ],
   "source": [
    "count(ismissing,(df_ISCN_orig[:,:hzn_desgn_other])) #227764 - all missing values, not using this column\n",
    "count(ismissing,(df_ISCN_orig[:,:hzn_desgn]))  \t\t#13812  - ok\n",
    "count(ismissing,(df_ISCN_orig[:,:hzn])) \t\t\t#12244  - ok"
   ]
  },
  {
   "cell_type": "code",
   "execution_count": 5,
   "metadata": {},
   "outputs": [
    {
     "data": {
      "text/plain": [
       "tidy_names (generic function with 1 method)"
      ]
     },
     "execution_count": 5,
     "metadata": {},
     "output_type": "execute_result"
    }
   ],
   "source": [
    "function tidy_names(old_names)\n",
    "\n",
    "return new_names = old_names |>\n",
    "    #remove leading and trailing spaces\n",
    "    n -> strip.(n) |>\n",
    "\n",
    "    #replace spaces with underscores\n",
    "    n -> replace.(n, ' ' => '_') |> \n",
    "\n",
    "    #remove parenthesis\n",
    "    n -> replace.(n,'(' => \"\") |> \n",
    "    n -> replace.(n,')' => \"\") |>\n",
    "\n",
    "    #remove dashes and dots\n",
    "    n -> replace.(n,'-' => \"\") |> \n",
    "    n -> replace.(n, '.' => \"\") |>\n",
    "\n",
    "    #all lowercase\n",
    "    n -> lowercase.(n)\n",
    "\n",
    "end"
   ]
  },
  {
   "cell_type": "code",
   "execution_count": 6,
   "metadata": {},
   "outputs": [
    {
     "ename": "LoadError",
     "evalue": "syntax: unexpected \"end\"",
     "output_type": "error",
     "traceback": [
      "syntax: unexpected \"end\"",
      "",
      "Stacktrace:",
      " [1] top-level scope at In[6]:43",
      " [2] include_string(::Function, ::Module, ::String, ::String) at ./loading.jl:1091"
     ]
    }
   ],
   "source": [
    "#copy of original dataset and tidied up column names\n",
    "df_ISCN = deepcopy(df_ISCN_orig)\n",
    "rename!(df_ISCN, names(df_ISCN) .=> tidy_names(names(df_ISCN)))\n",
    "\n",
    "#define new column that has unique key, site_name_profile_name\n",
    "df_ISCN.sp_name = [(row.site_name * \"_\" * row.profile_name) for row in eachrow(df_ISCN)]\n",
    "\n",
    "df_ISCN = df_ISCN |>\n",
    "\n",
    "#pick relevant columns\n",
    "@select(:sp_name,:layer_name,:lat_dec_deg,:long_dec_deg,\n",
    "        :observation_date_yyyymmdd,:hzn,:hzn_desgn,:layer_top_cm,:layer_bot_cm,:oc_percent) |>\n",
    "\n",
    "#remove layers with missing info\n",
    "@dropna(:layer_top_cm,:layer_bot_cm,:oc_percent) |>\n",
    "\n",
    "#keep layers for which top < bot\n",
    "@filter(_.layer_top_cm < _.layer_bot_cm) |>\n",
    "\n",
    "#parse oc_percent values and keep only non-negative ones\n",
    "@mutate(oc_percent = replace(_.oc_percent,','=>'.')) |>\n",
    "@mutate(oc_percent = parse(Float64, _.oc_percent)) |>\n",
    "@filter(_.oc_percent >= 0) |>\n",
    "\n",
    "#parse latitude values\n",
    "#missings are replaced with -300 to allow parsing, but we keep layers with missing lat/long\n",
    "@replacena(:lat_dec_deg=>\"-300\") |>\n",
    "@mutate(lat_dec_deg = replace(_.lat_dec_deg,','=>'.')) |>\n",
    "@mutate(lat_dec_deg = parse(Float64, _.lat_dec_deg)) |>\n",
    "\n",
    "#parse longitude values \n",
    "@replacena(:long_dec_deg=>\"-300\") |>\n",
    "@mutate(long_dec_deg = replace(_.long_dec_deg,','=>'.')) |>\n",
    "@mutate(long_dec_deg = parse(Float64, _.long_dec_deg)) |>\n",
    "\n",
    "@rename(:observation_date_yyyymmdd => :obs_date_yyyymmdd) |> \n",
    "\n",
    "#keep only unique layers\n",
    "@unique() |>\n",
    "\n",
    "DataFrame\n",
    "\n",
    "end"
   ]
  },
  {
   "cell_type": "code",
   "execution_count": 7,
   "metadata": {},
   "outputs": [
    {
     "data": {
      "text/plain": [
       "continuity_check (generic function with 1 method)"
      ]
     },
     "execution_count": 7,
     "metadata": {},
     "output_type": "execute_result"
    }
   ],
   "source": [
    "function continuity_check(profile) \n",
    "    #the function assumes layers are ordered (e.g.  0 -> 20 -> 40)\n",
    "\n",
    "    top = profile.layer_top_cm\n",
    "    bot = profile.layer_bot_cm\n",
    "\n",
    "    num_layers = length(top)\n",
    "\n",
    "    #1st layer is always good\n",
    "    mask = [true]\n",
    "\n",
    "    #from 2nd layer downward, we check for matching depths at bot/top\n",
    "    mask = append!(mask, [top[l] == bot[l-1] for l in 2:num_layers])\n",
    "\n",
    "    #if we run into a non-matching layer, we mark as 'false' all following ones\n",
    "    first_noMatch_id = findfirst(!, mask)\n",
    "\n",
    "    if !isnothing(first_noMatch_id) #true if a non-contiguous layer has been found\n",
    "        mask[first_noMatch_id:end] .= false\n",
    "    end\n",
    "\n",
    "    return mask\t\n",
    "end"
   ]
  },
  {
   "cell_type": "code",
   "execution_count": 8,
   "metadata": {},
   "outputs": [
    {
     "data": {
      "text/plain": [
       "continuity_check_df (generic function with 1 method)"
      ]
     },
     "execution_count": 8,
     "metadata": {},
     "output_type": "execute_result"
    }
   ],
   "source": [
    "function continuity_check_df(df)\n",
    "#generate continuity mask for the whole dataframe\n",
    "layers_keep = Bool[]\n",
    "\n",
    "for profile in unique(df.sp_name)\n",
    "\n",
    "    append!(layers_keep,continuity_check(df[df.sp_name.==profile,:]))\n",
    "\n",
    "end\n",
    "\n",
    "return layers_keep\n",
    "\n",
    "end"
   ]
  },
  {
   "cell_type": "code",
   "execution_count": 9,
   "metadata": {},
   "outputs": [
    {
     "data": {
      "text/html": [
       "<table class=\"data-frame\"><thead><tr><th></th><th>sp_name</th><th>layer_name</th><th>lat_dec_deg</th><th>long_dec_deg</th><th>obs_date_yyyymmdd</th><th>hzn</th><th>hzn_desgn</th><th>layer_top_cm</th><th>layer_bot_cm</th><th>oc_percent</th></tr><tr><th></th><th>String</th><th>String</th><th>Float64</th><th>Float64</th><th>String?</th><th>String?</th><th>String?</th><th>Int64</th><th>Int64</th><th>Float64</th></tr></thead><tbody><p>112,101 rows × 10 columns</p><tr><th>1</th><td>50ND075005_40A0001</td><td>40A00001</td><td>48.805</td><td>-101.735</td><td>19/09/1950</td><td>A</td><td>Ap</td><td>0</td><td>23</td><td>2.99</td></tr><tr><th>2</th><td>50ND075005_40A0001</td><td>40A00002</td><td>48.805</td><td>-101.735</td><td>19/09/1950</td><td>A</td><td>A</td><td>23</td><td>33</td><td>0.93</td></tr><tr><th>3</th><td>50ND075005_40A0001</td><td>40A00003</td><td>48.805</td><td>-101.735</td><td>19/09/1950</td><td>B</td><td>Bw</td><td>33</td><td>48</td><td>0.7</td></tr><tr><th>4</th><td>50ND075005_40A0001</td><td>40A00004</td><td>48.805</td><td>-101.735</td><td>19/09/1950</td><td>B</td><td>Bk</td><td>48</td><td>97</td><td>0.34</td></tr><tr><th>5</th><td>50ND075005_40A0001</td><td>40A00005</td><td>48.805</td><td>-101.735</td><td>19/09/1950</td><td>B</td><td>B21</td><td>97</td><td>122</td><td>0.2</td></tr><tr><th>6</th><td>50ND075005_40A0001</td><td>40A00006</td><td>48.805</td><td>-101.735</td><td>19/09/1950</td><td>B</td><td>B22</td><td>122</td><td>145</td><td>0.18</td></tr><tr><th>7</th><td>50ND075005_40A0001</td><td>40A00007</td><td>48.805</td><td>-101.735</td><td>19/09/1950</td><td>B</td><td>By</td><td>145</td><td>183</td><td>0.15</td></tr><tr><th>8</th><td>50ND075003_40A0013</td><td>40A00094</td><td>48.9366</td><td>-101.585</td><td>18/09/1950</td><td>A</td><td>Ap</td><td>0</td><td>15</td><td>2.42</td></tr><tr><th>9</th><td>50ND075003_40A0013</td><td>40A00095</td><td>48.9366</td><td>-101.585</td><td>18/09/1950</td><td>B</td><td>Bw1</td><td>15</td><td>25</td><td>0.98</td></tr><tr><th>10</th><td>50ND075003_40A0013</td><td>40A00096</td><td>48.9366</td><td>-101.585</td><td>18/09/1950</td><td>B</td><td>Bw2</td><td>25</td><td>46</td><td>0.76</td></tr><tr><th>11</th><td>50ND075003_40A0013</td><td>40A00097</td><td>48.9366</td><td>-101.585</td><td>18/09/1950</td><td>B</td><td>Bk</td><td>46</td><td>102</td><td>0.27</td></tr><tr><th>12</th><td>50ND075003_40A0013</td><td>40A00098</td><td>48.9366</td><td>-101.585</td><td>18/09/1950</td><td>C</td><td>C1</td><td>102</td><td>152</td><td>0.14</td></tr><tr><th>13</th><td>50ND075003_40A0013</td><td>40A00099</td><td>48.9366</td><td>-101.585</td><td>18/09/1950</td><td>C</td><td>C2</td><td>152</td><td>183</td><td>0.14</td></tr><tr><th>14</th><td>50ND075003_40A0013</td><td>40A00100</td><td>48.9366</td><td>-101.585</td><td>18/09/1950</td><td>C</td><td>C3</td><td>183</td><td>213</td><td>0.13</td></tr><tr><th>15</th><td>50ND075007_40A0067</td><td>40A00476</td><td>48.8083</td><td>-101.707</td><td>19/09/1950</td><td>A</td><td>Ap</td><td>0</td><td>15</td><td>2.42</td></tr><tr><th>16</th><td>50ND075007_40A0067</td><td>40A00477</td><td>48.8083</td><td>-101.707</td><td>19/09/1950</td><td>B</td><td>Bk1</td><td>15</td><td>41</td><td>0.69</td></tr><tr><th>17</th><td>50ND075007_40A0067</td><td>40A00478</td><td>48.8083</td><td>-101.707</td><td>19/09/1950</td><td>B</td><td>Bk2</td><td>41</td><td>66</td><td>0.26</td></tr><tr><th>18</th><td>50ND075007_40A0067</td><td>40A00479</td><td>48.8083</td><td>-101.707</td><td>19/09/1950</td><td>B</td><td>B1</td><td>66</td><td>91</td><td>0.19</td></tr><tr><th>19</th><td>50ND075007_40A0067</td><td>40A00480</td><td>48.8083</td><td>-101.707</td><td>19/09/1950</td><td>B</td><td>B2</td><td>91</td><td>122</td><td>0.18</td></tr><tr><th>20</th><td>50ND075007_40A0067</td><td>40A00481</td><td>48.8083</td><td>-101.707</td><td>19/09/1950</td><td>B</td><td>By1</td><td>122</td><td>152</td><td>0.2</td></tr><tr><th>&vellip;</th><td>&vellip;</td><td>&vellip;</td><td>&vellip;</td><td>&vellip;</td><td>&vellip;</td><td>&vellip;</td><td>&vellip;</td><td>&vellip;</td><td>&vellip;</td><td>&vellip;</td></tr></tbody></table>"
      ],
      "text/latex": [
       "\\begin{tabular}{r|cccccccccc}\n",
       "\t& sp\\_name & layer\\_name & lat\\_dec\\_deg & long\\_dec\\_deg & obs\\_date\\_yyyymmdd & hzn & hzn\\_desgn & layer\\_top\\_cm & layer\\_bot\\_cm & oc\\_percent\\\\\n",
       "\t\\hline\n",
       "\t& String & String & Float64 & Float64 & String? & String? & String? & Int64 & Int64 & Float64\\\\\n",
       "\t\\hline\n",
       "\t1 & 50ND075005\\_40A0001 & 40A00001 & 48.805 & -101.735 & 19/09/1950 & A & Ap & 0 & 23 & 2.99 \\\\\n",
       "\t2 & 50ND075005\\_40A0001 & 40A00002 & 48.805 & -101.735 & 19/09/1950 & A & A & 23 & 33 & 0.93 \\\\\n",
       "\t3 & 50ND075005\\_40A0001 & 40A00003 & 48.805 & -101.735 & 19/09/1950 & B & Bw & 33 & 48 & 0.7 \\\\\n",
       "\t4 & 50ND075005\\_40A0001 & 40A00004 & 48.805 & -101.735 & 19/09/1950 & B & Bk & 48 & 97 & 0.34 \\\\\n",
       "\t5 & 50ND075005\\_40A0001 & 40A00005 & 48.805 & -101.735 & 19/09/1950 & B & B21 & 97 & 122 & 0.2 \\\\\n",
       "\t6 & 50ND075005\\_40A0001 & 40A00006 & 48.805 & -101.735 & 19/09/1950 & B & B22 & 122 & 145 & 0.18 \\\\\n",
       "\t7 & 50ND075005\\_40A0001 & 40A00007 & 48.805 & -101.735 & 19/09/1950 & B & By & 145 & 183 & 0.15 \\\\\n",
       "\t8 & 50ND075003\\_40A0013 & 40A00094 & 48.9366 & -101.585 & 18/09/1950 & A & Ap & 0 & 15 & 2.42 \\\\\n",
       "\t9 & 50ND075003\\_40A0013 & 40A00095 & 48.9366 & -101.585 & 18/09/1950 & B & Bw1 & 15 & 25 & 0.98 \\\\\n",
       "\t10 & 50ND075003\\_40A0013 & 40A00096 & 48.9366 & -101.585 & 18/09/1950 & B & Bw2 & 25 & 46 & 0.76 \\\\\n",
       "\t11 & 50ND075003\\_40A0013 & 40A00097 & 48.9366 & -101.585 & 18/09/1950 & B & Bk & 46 & 102 & 0.27 \\\\\n",
       "\t12 & 50ND075003\\_40A0013 & 40A00098 & 48.9366 & -101.585 & 18/09/1950 & C & C1 & 102 & 152 & 0.14 \\\\\n",
       "\t13 & 50ND075003\\_40A0013 & 40A00099 & 48.9366 & -101.585 & 18/09/1950 & C & C2 & 152 & 183 & 0.14 \\\\\n",
       "\t14 & 50ND075003\\_40A0013 & 40A00100 & 48.9366 & -101.585 & 18/09/1950 & C & C3 & 183 & 213 & 0.13 \\\\\n",
       "\t15 & 50ND075007\\_40A0067 & 40A00476 & 48.8083 & -101.707 & 19/09/1950 & A & Ap & 0 & 15 & 2.42 \\\\\n",
       "\t16 & 50ND075007\\_40A0067 & 40A00477 & 48.8083 & -101.707 & 19/09/1950 & B & Bk1 & 15 & 41 & 0.69 \\\\\n",
       "\t17 & 50ND075007\\_40A0067 & 40A00478 & 48.8083 & -101.707 & 19/09/1950 & B & Bk2 & 41 & 66 & 0.26 \\\\\n",
       "\t18 & 50ND075007\\_40A0067 & 40A00479 & 48.8083 & -101.707 & 19/09/1950 & B & B1 & 66 & 91 & 0.19 \\\\\n",
       "\t19 & 50ND075007\\_40A0067 & 40A00480 & 48.8083 & -101.707 & 19/09/1950 & B & B2 & 91 & 122 & 0.18 \\\\\n",
       "\t20 & 50ND075007\\_40A0067 & 40A00481 & 48.8083 & -101.707 & 19/09/1950 & B & By1 & 122 & 152 & 0.2 \\\\\n",
       "\t$\\dots$ & $\\dots$ & $\\dots$ & $\\dots$ & $\\dots$ & $\\dots$ & $\\dots$ & $\\dots$ & $\\dots$ & $\\dots$ & $\\dots$ \\\\\n",
       "\\end{tabular}\n"
      ],
      "text/plain": [
       "112101×10 DataFrame\n",
       "│ Row    │ sp_name            │ layer_name │ lat_dec_deg │ long_dec_deg │ obs_date_yyyymmdd │ hzn     │ hzn_desgn │ layer_top_cm │ layer_bot_cm │ oc_percent │\n",
       "│        │ \u001b[90mString\u001b[39m             │ \u001b[90mString\u001b[39m     │ \u001b[90mFloat64\u001b[39m     │ \u001b[90mFloat64\u001b[39m      │ \u001b[90mString?\u001b[39m           │ \u001b[90mString?\u001b[39m │ \u001b[90mString?\u001b[39m   │ \u001b[90mInt64\u001b[39m        │ \u001b[90mInt64\u001b[39m        │ \u001b[90mFloat64\u001b[39m    │\n",
       "├────────┼────────────────────┼────────────┼─────────────┼──────────────┼───────────────────┼─────────┼───────────┼──────────────┼──────────────┼────────────┤\n",
       "│ 1      │ 50ND075005_40A0001 │ 40A00001   │ 48.805      │ -101.735     │ 19/09/1950        │ A       │ Ap        │ 0            │ 23           │ 2.99       │\n",
       "│ 2      │ 50ND075005_40A0001 │ 40A00002   │ 48.805      │ -101.735     │ 19/09/1950        │ A       │ A         │ 23           │ 33           │ 0.93       │\n",
       "│ 3      │ 50ND075005_40A0001 │ 40A00003   │ 48.805      │ -101.735     │ 19/09/1950        │ B       │ Bw        │ 33           │ 48           │ 0.7        │\n",
       "│ 4      │ 50ND075005_40A0001 │ 40A00004   │ 48.805      │ -101.735     │ 19/09/1950        │ B       │ Bk        │ 48           │ 97           │ 0.34       │\n",
       "│ 5      │ 50ND075005_40A0001 │ 40A00005   │ 48.805      │ -101.735     │ 19/09/1950        │ B       │ B21       │ 97           │ 122          │ 0.2        │\n",
       "⋮\n",
       "│ 112096 │ TY34 JP_7003034    │ 7003034,4  │ 43.0        │ 142.0        │ 1962              │ ?       │ unknown   │ 31           │ 49           │ 1.14       │\n",
       "│ 112097 │ TY35 JP_7003035    │ 7003035,1  │ 43.0        │ 144.0        │ 1962              │ ?       │ unknown   │ 0            │ 6            │ 15.14      │\n",
       "│ 112098 │ TY35 JP_7003035    │ 7003035,2  │ 43.0        │ 144.0        │ 1962              │ ?       │ unknown   │ 6            │ 11           │ 4.51       │\n",
       "│ 112099 │ TY35 JP_7003035    │ 7003035,3  │ 43.0        │ 144.0        │ 1962              │ ?       │ unknown   │ 11           │ 30           │ 14.33      │\n",
       "│ 112100 │ TY35 JP_7003035    │ 7003035,4  │ 43.0        │ 144.0        │ 1962              │ ?       │ unknown   │ 30           │ 57           │ 9.09       │\n",
       "│ 112101 │ TY35 JP_7003035    │ 7003035,5  │ 43.0        │ 144.0        │ 1962              │ ?       │ unknown   │ 57           │ 75           │ 2.91       │"
      ]
     },
     "execution_count": 9,
     "metadata": {},
     "output_type": "execute_result"
    }
   ],
   "source": [
    "df_ISCN_cont = df_ISCN[continuity_check_df(df_ISCN),:] #df with only continuous profiles"
   ]
  },
  {
   "cell_type": "markdown",
   "metadata": {},
   "source": [
    "Importing BD values is necessary before inferring layer designation"
   ]
  },
  {
   "cell_type": "code",
   "execution_count": 10,
   "metadata": {},
   "outputs": [
    {
     "name": "stderr",
     "output_type": "stream",
     "text": [
      "┌ Warning: thread = 1 warning: only found 26 / 27 columns around data row: 434583. Filling remaining columns with `missing`\n",
      "└ @ CSV /Users/Daniele/.julia/packages/CSV/la2cd/src/file.jl:603\n"
     ]
    },
    {
     "data": {
      "text/html": [
       "<table class=\"data-frame\"><thead><tr><th></th><th>dataset_name</th><th>site_name</th><th>profile_name</th><th>layer_name</th><th>layer_top</th><th>layer_bot</th><th>hzn_desgn</th><th>c_method</th><th>bd_method</th><th>bd_pred_1</th><th>bd_pred_2</th><th>bd_samp</th><th>bd_tot</th><th>bd_whole</th><th>bd_other</th><th>bdNRCS_prep_code</th><th>sand_tot_psa</th><th>silt_tot_psa</th><th>clay_tot_psa</th><th>wpg2_method</th><th>wpg2</th><th>soc</th><th>soc_sigma</th><th>soc_method</th><th>c_tot</th><th>oc</th><th>cNRCS_prep_code</th></tr><tr><th></th><th>String</th><th>String</th><th>String</th><th>String</th><th>String</th><th>String</th><th>String?</th><th>String?</th><th>String?</th><th>String</th><th>String</th><th>String</th><th>String</th><th>String</th><th>String</th><th>String?</th><th>String</th><th>String</th><th>String</th><th>String?</th><th>String</th><th>String</th><th>String</th><th>String</th><th>String</th><th>String</th><th>String?</th></tr></thead><tbody><p>434,582 rows × 27 columns</p><tr><th>1</th><td>Boby_Mack</td><td>BF-61</td><td>BF-61-1</td><td>BF61-1-F</td><td>0</td><td>4</td><td>unknown</td><td><em>missing</em></td><td><em>missing</em></td><td>1,14</td><td>0,73</td><td>0,04</td><td>NA</td><td>NA</td><td>NA</td><td><em>missing</em></td><td>NA</td><td>NA</td><td>NA</td><td><em>missing</em></td><td>NA</td><td>NA</td><td>NA</td><td>NA</td><td>44,62</td><td>NA</td><td><em>missing</em></td></tr><tr><th>2</th><td>Boby_Mack</td><td>BF-61</td><td>BF-61-1</td><td>BF61-1-H</td><td>4</td><td>6</td><td>unknown</td><td><em>missing</em></td><td><em>missing</em></td><td>1,14</td><td>0,74</td><td>0,12</td><td>NA</td><td>NA</td><td>NA</td><td><em>missing</em></td><td>NA</td><td>NA</td><td>NA</td><td><em>missing</em></td><td>NA</td><td>NA</td><td>NA</td><td>NA</td><td>30,21</td><td>NA</td><td><em>missing</em></td></tr><tr><th>3</th><td>Boby_Mack</td><td>BF-61</td><td>BF-61-1</td><td>BF61-1-M1</td><td>6</td><td>11</td><td>unknown</td><td><em>missing</em></td><td><em>missing</em></td><td>1,27</td><td>1,03</td><td>1,15</td><td>NA</td><td>NA</td><td>NA</td><td><em>missing</em></td><td>NA</td><td>NA</td><td>NA</td><td><em>missing</em></td><td>NA</td><td>NA</td><td>NA</td><td>NA</td><td>5,32</td><td>NA</td><td><em>missing</em></td></tr><tr><th>4</th><td>Boby_Mack</td><td>BF-61</td><td>BF-61-1</td><td>BF61-1-M2</td><td>11</td><td>16</td><td>unknown</td><td><em>missing</em></td><td><em>missing</em></td><td>1,31</td><td>1,13</td><td>1,12</td><td>NA</td><td>NA</td><td>NA</td><td><em>missing</em></td><td>NA</td><td>NA</td><td>NA</td><td><em>missing</em></td><td>NA</td><td>NA</td><td>NA</td><td>NA</td><td>3,88</td><td>NA</td><td><em>missing</em></td></tr><tr><th>5</th><td>Boby_Mack</td><td>BF-61</td><td>BF-61-2</td><td>BF61-2-DM</td><td>0</td><td>5</td><td>o</td><td><em>missing</em></td><td><em>missing</em></td><td>0,56</td><td>0,36</td><td>0,01</td><td>NA</td><td>NA</td><td>NA</td><td><em>missing</em></td><td>NA</td><td>NA</td><td>NA</td><td><em>missing</em></td><td>NA</td><td>NA</td><td>NA</td><td>NA</td><td>45,53</td><td>NA</td><td><em>missing</em></td></tr><tr><th>6</th><td>Boby_Mack</td><td>BF-61</td><td>BF-61-2</td><td>BF61-2-F</td><td>5</td><td>19</td><td>unknown</td><td><em>missing</em></td><td><em>missing</em></td><td>1,34</td><td>0,67</td><td>0,09</td><td>NA</td><td>NA</td><td>NA</td><td><em>missing</em></td><td>NA</td><td>NA</td><td>NA</td><td><em>missing</em></td><td>NA</td><td>NA</td><td>NA</td><td>NA</td><td>48,79</td><td>NA</td><td><em>missing</em></td></tr><tr><th>7</th><td>Boby_Mack</td><td>BF-61</td><td>BF-61-2</td><td>BF61-2-H</td><td>19</td><td>22</td><td>unknown</td><td><em>missing</em></td><td><em>missing</em></td><td>1,29</td><td>0,77</td><td>0,48</td><td>NA</td><td>NA</td><td>NA</td><td><em>missing</em></td><td>NA</td><td>NA</td><td>NA</td><td><em>missing</em></td><td>NA</td><td>NA</td><td>NA</td><td>NA</td><td>19,17</td><td>NA</td><td><em>missing</em></td></tr><tr><th>8</th><td>Boby_Mack</td><td>BF-61</td><td>BF-61-2</td><td>BF61-2-H:354</td><td>22</td><td>25</td><td>unknown</td><td><em>missing</em></td><td><em>missing</em></td><td>1,28</td><td>0,67</td><td>0,12</td><td>NA</td><td>NA</td><td>NA</td><td><em>missing</em></td><td>NA</td><td>NA</td><td>NA</td><td><em>missing</em></td><td>NA</td><td>NA</td><td>NA</td><td>NA</td><td>44,01</td><td>NA</td><td><em>missing</em></td></tr><tr><th>9</th><td>Boby_Mack</td><td>BF-61</td><td>BF-61-2</td><td>BF61-2-M1</td><td>25</td><td>30</td><td>unknown</td><td><em>missing</em></td><td><em>missing</em></td><td>1,31</td><td>0,96</td><td>1,04</td><td>NA</td><td>NA</td><td>NA</td><td><em>missing</em></td><td>NA</td><td>NA</td><td>NA</td><td><em>missing</em></td><td>NA</td><td>NA</td><td>NA</td><td>NA</td><td>5,65</td><td>NA</td><td><em>missing</em></td></tr><tr><th>10</th><td>Boby_Mack</td><td>BF-61</td><td>BF-61-2</td><td>BF61-2-M2</td><td>30</td><td>35</td><td>unknown</td><td><em>missing</em></td><td><em>missing</em></td><td>1,31</td><td>1,01</td><td>0,93</td><td>NA</td><td>NA</td><td>NA</td><td><em>missing</em></td><td>NA</td><td>NA</td><td>NA</td><td><em>missing</em></td><td>NA</td><td>NA</td><td>NA</td><td>NA</td><td>4,93</td><td>NA</td><td><em>missing</em></td></tr><tr><th>11</th><td>Boby_Mack</td><td>BF-61</td><td>BF-61-3</td><td>BF61-3-DM</td><td>0</td><td>4</td><td>o</td><td><em>missing</em></td><td><em>missing</em></td><td>0,52</td><td>0,35</td><td>0,04</td><td>NA</td><td>NA</td><td>NA</td><td><em>missing</em></td><td>NA</td><td>NA</td><td>NA</td><td><em>missing</em></td><td>NA</td><td>NA</td><td>NA</td><td>NA</td><td>43,8</td><td>NA</td><td><em>missing</em></td></tr><tr><th>12</th><td>Boby_Mack</td><td>BF-61</td><td>BF-61-3</td><td>BF61-3-F</td><td>4</td><td>9</td><td>unknown</td><td><em>missing</em></td><td><em>missing</em></td><td>1,22</td><td>0,70</td><td>0,03</td><td>NA</td><td>NA</td><td>NA</td><td><em>missing</em></td><td>NA</td><td>NA</td><td>NA</td><td><em>missing</em></td><td>NA</td><td>NA</td><td>NA</td><td>NA</td><td>51,06</td><td>NA</td><td><em>missing</em></td></tr><tr><th>13</th><td>Boby_Mack</td><td>BF-61</td><td>BF-61-3</td><td>BF61-3-H</td><td>9</td><td>14</td><td>unknown</td><td><em>missing</em></td><td><em>missing</em></td><td>1,30</td><td>0,71</td><td>0,15</td><td>NA</td><td>NA</td><td>NA</td><td><em>missing</em></td><td>NA</td><td>NA</td><td>NA</td><td><em>missing</em></td><td>NA</td><td>NA</td><td>NA</td><td>NA</td><td>35,02</td><td>NA</td><td><em>missing</em></td></tr><tr><th>14</th><td>Boby_Mack</td><td>BF-61</td><td>BF-61-3</td><td>BF61-3-M1</td><td>14</td><td>19</td><td>unknown</td><td><em>missing</em></td><td><em>missing</em></td><td>1,33</td><td>0,92</td><td>0,64</td><td>NA</td><td>NA</td><td>NA</td><td><em>missing</em></td><td>NA</td><td>NA</td><td>NA</td><td><em>missing</em></td><td>NA</td><td>NA</td><td>NA</td><td>NA</td><td>8,03</td><td>NA</td><td><em>missing</em></td></tr><tr><th>15</th><td>Boby_Mack</td><td>BF-61</td><td>BF-61-3</td><td>BF61-3-M2</td><td>19</td><td>24</td><td>unknown</td><td><em>missing</em></td><td><em>missing</em></td><td>1,32</td><td>1,08</td><td>1,25</td><td>NA</td><td>NA</td><td>NA</td><td><em>missing</em></td><td>NA</td><td>NA</td><td>NA</td><td><em>missing</em></td><td>NA</td><td>NA</td><td>NA</td><td>NA</td><td>4,52</td><td>NA</td><td><em>missing</em></td></tr><tr><th>16</th><td>Boby_Mack</td><td>BF-61</td><td>BF-61-4</td><td>BF61-4-F</td><td>0</td><td>28</td><td>unknown</td><td><em>missing</em></td><td><em>missing</em></td><td>1,33</td><td>0,68</td><td>0,04</td><td>NA</td><td>NA</td><td>NA</td><td><em>missing</em></td><td>NA</td><td>NA</td><td>NA</td><td><em>missing</em></td><td>NA</td><td>NA</td><td>NA</td><td>NA</td><td>43,25</td><td>NA</td><td><em>missing</em></td></tr><tr><th>17</th><td>Boby_Mack</td><td>BF-61</td><td>BF-61-4</td><td>BF61-4-H</td><td>28</td><td>34</td><td>unknown</td><td><em>missing</em></td><td><em>missing</em></td><td>1,31</td><td>0,68</td><td>0,15</td><td>NA</td><td>NA</td><td>NA</td><td><em>missing</em></td><td>NA</td><td>NA</td><td>NA</td><td><em>missing</em></td><td>NA</td><td>NA</td><td>NA</td><td>NA</td><td>33,71</td><td>NA</td><td><em>missing</em></td></tr><tr><th>18</th><td>Boby_Mack</td><td>BF-61</td><td>BF-61-4</td><td>BF61-4-M1</td><td>34</td><td>39</td><td>unknown</td><td><em>missing</em></td><td><em>missing</em></td><td>1,32</td><td>0,91</td><td>0,84</td><td>NA</td><td>NA</td><td>NA</td><td><em>missing</em></td><td>NA</td><td>NA</td><td>NA</td><td><em>missing</em></td><td>NA</td><td>NA</td><td>NA</td><td>NA</td><td>8,17</td><td>NA</td><td><em>missing</em></td></tr><tr><th>19</th><td>Boby_Mack</td><td>BF-61</td><td>BF-61-4</td><td>BF61-4-M2</td><td>39</td><td>44</td><td>unknown</td><td><em>missing</em></td><td><em>missing</em></td><td>1,32</td><td>1,02</td><td>0,78</td><td>NA</td><td>NA</td><td>NA</td><td><em>missing</em></td><td>NA</td><td>NA</td><td>NA</td><td><em>missing</em></td><td>NA</td><td>NA</td><td>NA</td><td>NA</td><td>4,98</td><td>NA</td><td><em>missing</em></td></tr><tr><th>20</th><td>Boby_Mack</td><td>BF-62</td><td>BF-62-1</td><td>BF62-1-DM</td><td>0</td><td>4</td><td>o</td><td><em>missing</em></td><td><em>missing</em></td><td>0,52</td><td>0,35</td><td>0,04</td><td>NA</td><td>NA</td><td>NA</td><td><em>missing</em></td><td>NA</td><td>NA</td><td>NA</td><td><em>missing</em></td><td>NA</td><td>NA</td><td>NA</td><td>NA</td><td>45,35</td><td>NA</td><td><em>missing</em></td></tr><tr><th>&vellip;</th><td>&vellip;</td><td>&vellip;</td><td>&vellip;</td><td>&vellip;</td><td>&vellip;</td><td>&vellip;</td><td>&vellip;</td><td>&vellip;</td><td>&vellip;</td><td>&vellip;</td><td>&vellip;</td><td>&vellip;</td><td>&vellip;</td><td>&vellip;</td><td>&vellip;</td><td>&vellip;</td><td>&vellip;</td><td>&vellip;</td><td>&vellip;</td><td>&vellip;</td><td>&vellip;</td><td>&vellip;</td><td>&vellip;</td><td>&vellip;</td><td>&vellip;</td><td>&vellip;</td><td>&vellip;</td></tr></tbody></table>"
      ],
      "text/latex": [
       "\\begin{tabular}{r|ccccccccccccccccccccccccccc}\n",
       "\t& dataset\\_name & site\\_name & profile\\_name & layer\\_name & layer\\_top & layer\\_bot & hzn\\_desgn & c\\_method & bd\\_method & bd\\_pred\\_1 & bd\\_pred\\_2 & bd\\_samp & bd\\_tot & bd\\_whole & bd\\_other & bdNRCS\\_prep\\_code & sand\\_tot\\_psa & silt\\_tot\\_psa & clay\\_tot\\_psa & wpg2\\_method & wpg2 & soc & soc\\_sigma & soc\\_method & c\\_tot & oc & cNRCS\\_prep\\_code\\\\\n",
       "\t\\hline\n",
       "\t& String & String & String & String & String & String & String? & String? & String? & String & String & String & String & String & String & String? & String & String & String & String? & String & String & String & String & String & String & String?\\\\\n",
       "\t\\hline\n",
       "\t1 & Boby\\_Mack & BF-61 & BF-61-1 & BF61-1-F & 0 & 4 & unknown & \\emph{missing} & \\emph{missing} & 1,14 & 0,73 & 0,04 & NA & NA & NA & \\emph{missing} & NA & NA & NA & \\emph{missing} & NA & NA & NA & NA & 44,62 & NA & \\emph{missing} \\\\\n",
       "\t2 & Boby\\_Mack & BF-61 & BF-61-1 & BF61-1-H & 4 & 6 & unknown & \\emph{missing} & \\emph{missing} & 1,14 & 0,74 & 0,12 & NA & NA & NA & \\emph{missing} & NA & NA & NA & \\emph{missing} & NA & NA & NA & NA & 30,21 & NA & \\emph{missing} \\\\\n",
       "\t3 & Boby\\_Mack & BF-61 & BF-61-1 & BF61-1-M1 & 6 & 11 & unknown & \\emph{missing} & \\emph{missing} & 1,27 & 1,03 & 1,15 & NA & NA & NA & \\emph{missing} & NA & NA & NA & \\emph{missing} & NA & NA & NA & NA & 5,32 & NA & \\emph{missing} \\\\\n",
       "\t4 & Boby\\_Mack & BF-61 & BF-61-1 & BF61-1-M2 & 11 & 16 & unknown & \\emph{missing} & \\emph{missing} & 1,31 & 1,13 & 1,12 & NA & NA & NA & \\emph{missing} & NA & NA & NA & \\emph{missing} & NA & NA & NA & NA & 3,88 & NA & \\emph{missing} \\\\\n",
       "\t5 & Boby\\_Mack & BF-61 & BF-61-2 & BF61-2-DM & 0 & 5 & o & \\emph{missing} & \\emph{missing} & 0,56 & 0,36 & 0,01 & NA & NA & NA & \\emph{missing} & NA & NA & NA & \\emph{missing} & NA & NA & NA & NA & 45,53 & NA & \\emph{missing} \\\\\n",
       "\t6 & Boby\\_Mack & BF-61 & BF-61-2 & BF61-2-F & 5 & 19 & unknown & \\emph{missing} & \\emph{missing} & 1,34 & 0,67 & 0,09 & NA & NA & NA & \\emph{missing} & NA & NA & NA & \\emph{missing} & NA & NA & NA & NA & 48,79 & NA & \\emph{missing} \\\\\n",
       "\t7 & Boby\\_Mack & BF-61 & BF-61-2 & BF61-2-H & 19 & 22 & unknown & \\emph{missing} & \\emph{missing} & 1,29 & 0,77 & 0,48 & NA & NA & NA & \\emph{missing} & NA & NA & NA & \\emph{missing} & NA & NA & NA & NA & 19,17 & NA & \\emph{missing} \\\\\n",
       "\t8 & Boby\\_Mack & BF-61 & BF-61-2 & BF61-2-H:354 & 22 & 25 & unknown & \\emph{missing} & \\emph{missing} & 1,28 & 0,67 & 0,12 & NA & NA & NA & \\emph{missing} & NA & NA & NA & \\emph{missing} & NA & NA & NA & NA & 44,01 & NA & \\emph{missing} \\\\\n",
       "\t9 & Boby\\_Mack & BF-61 & BF-61-2 & BF61-2-M1 & 25 & 30 & unknown & \\emph{missing} & \\emph{missing} & 1,31 & 0,96 & 1,04 & NA & NA & NA & \\emph{missing} & NA & NA & NA & \\emph{missing} & NA & NA & NA & NA & 5,65 & NA & \\emph{missing} \\\\\n",
       "\t10 & Boby\\_Mack & BF-61 & BF-61-2 & BF61-2-M2 & 30 & 35 & unknown & \\emph{missing} & \\emph{missing} & 1,31 & 1,01 & 0,93 & NA & NA & NA & \\emph{missing} & NA & NA & NA & \\emph{missing} & NA & NA & NA & NA & 4,93 & NA & \\emph{missing} \\\\\n",
       "\t11 & Boby\\_Mack & BF-61 & BF-61-3 & BF61-3-DM & 0 & 4 & o & \\emph{missing} & \\emph{missing} & 0,52 & 0,35 & 0,04 & NA & NA & NA & \\emph{missing} & NA & NA & NA & \\emph{missing} & NA & NA & NA & NA & 43,8 & NA & \\emph{missing} \\\\\n",
       "\t12 & Boby\\_Mack & BF-61 & BF-61-3 & BF61-3-F & 4 & 9 & unknown & \\emph{missing} & \\emph{missing} & 1,22 & 0,70 & 0,03 & NA & NA & NA & \\emph{missing} & NA & NA & NA & \\emph{missing} & NA & NA & NA & NA & 51,06 & NA & \\emph{missing} \\\\\n",
       "\t13 & Boby\\_Mack & BF-61 & BF-61-3 & BF61-3-H & 9 & 14 & unknown & \\emph{missing} & \\emph{missing} & 1,30 & 0,71 & 0,15 & NA & NA & NA & \\emph{missing} & NA & NA & NA & \\emph{missing} & NA & NA & NA & NA & 35,02 & NA & \\emph{missing} \\\\\n",
       "\t14 & Boby\\_Mack & BF-61 & BF-61-3 & BF61-3-M1 & 14 & 19 & unknown & \\emph{missing} & \\emph{missing} & 1,33 & 0,92 & 0,64 & NA & NA & NA & \\emph{missing} & NA & NA & NA & \\emph{missing} & NA & NA & NA & NA & 8,03 & NA & \\emph{missing} \\\\\n",
       "\t15 & Boby\\_Mack & BF-61 & BF-61-3 & BF61-3-M2 & 19 & 24 & unknown & \\emph{missing} & \\emph{missing} & 1,32 & 1,08 & 1,25 & NA & NA & NA & \\emph{missing} & NA & NA & NA & \\emph{missing} & NA & NA & NA & NA & 4,52 & NA & \\emph{missing} \\\\\n",
       "\t16 & Boby\\_Mack & BF-61 & BF-61-4 & BF61-4-F & 0 & 28 & unknown & \\emph{missing} & \\emph{missing} & 1,33 & 0,68 & 0,04 & NA & NA & NA & \\emph{missing} & NA & NA & NA & \\emph{missing} & NA & NA & NA & NA & 43,25 & NA & \\emph{missing} \\\\\n",
       "\t17 & Boby\\_Mack & BF-61 & BF-61-4 & BF61-4-H & 28 & 34 & unknown & \\emph{missing} & \\emph{missing} & 1,31 & 0,68 & 0,15 & NA & NA & NA & \\emph{missing} & NA & NA & NA & \\emph{missing} & NA & NA & NA & NA & 33,71 & NA & \\emph{missing} \\\\\n",
       "\t18 & Boby\\_Mack & BF-61 & BF-61-4 & BF61-4-M1 & 34 & 39 & unknown & \\emph{missing} & \\emph{missing} & 1,32 & 0,91 & 0,84 & NA & NA & NA & \\emph{missing} & NA & NA & NA & \\emph{missing} & NA & NA & NA & NA & 8,17 & NA & \\emph{missing} \\\\\n",
       "\t19 & Boby\\_Mack & BF-61 & BF-61-4 & BF61-4-M2 & 39 & 44 & unknown & \\emph{missing} & \\emph{missing} & 1,32 & 1,02 & 0,78 & NA & NA & NA & \\emph{missing} & NA & NA & NA & \\emph{missing} & NA & NA & NA & NA & 4,98 & NA & \\emph{missing} \\\\\n",
       "\t20 & Boby\\_Mack & BF-62 & BF-62-1 & BF62-1-DM & 0 & 4 & o & \\emph{missing} & \\emph{missing} & 0,52 & 0,35 & 0,04 & NA & NA & NA & \\emph{missing} & NA & NA & NA & \\emph{missing} & NA & NA & NA & NA & 45,35 & NA & \\emph{missing} \\\\\n",
       "\t$\\dots$ & $\\dots$ & $\\dots$ & $\\dots$ & $\\dots$ & $\\dots$ & $\\dots$ & $\\dots$ & $\\dots$ & $\\dots$ & $\\dots$ & $\\dots$ & $\\dots$ & $\\dots$ & $\\dots$ & $\\dots$ & $\\dots$ & $\\dots$ & $\\dots$ & $\\dots$ & $\\dots$ & $\\dots$ & $\\dots$ & $\\dots$ & $\\dots$ & $\\dots$ & $\\dots$ & $\\dots$ \\\\\n",
       "\\end{tabular}\n"
      ],
      "text/plain": [
       "434582×27 DataFrame\n",
       "│ Row    │ dataset_name                            │ site_name │ profile_name │ layer_name │ layer_top │ layer_bot │ hzn_desgn │ c_method      │ bd_method │ bd_pred_1 │ bd_pred_2 │ bd_samp │ bd_tot │ bd_whole │ bd_other │ bdNRCS_prep_code │ sand_tot_psa │ silt_tot_psa │ clay_tot_psa │ wpg2_method │ wpg2   │ soc    │ soc_sigma │ soc_method │ c_tot  │ oc     │ cNRCS_prep_code │\n",
       "│        │ \u001b[90mString\u001b[39m                                  │ \u001b[90mString\u001b[39m    │ \u001b[90mString\u001b[39m       │ \u001b[90mString\u001b[39m     │ \u001b[90mString\u001b[39m    │ \u001b[90mString\u001b[39m    │ \u001b[90mString?\u001b[39m   │ \u001b[90mString?\u001b[39m       │ \u001b[90mString?\u001b[39m   │ \u001b[90mString\u001b[39m    │ \u001b[90mString\u001b[39m    │ \u001b[90mString\u001b[39m  │ \u001b[90mString\u001b[39m │ \u001b[90mString\u001b[39m   │ \u001b[90mString\u001b[39m   │ \u001b[90mString?\u001b[39m          │ \u001b[90mString\u001b[39m       │ \u001b[90mString\u001b[39m       │ \u001b[90mString\u001b[39m       │ \u001b[90mString?\u001b[39m     │ \u001b[90mString\u001b[39m │ \u001b[90mString\u001b[39m │ \u001b[90mString\u001b[39m    │ \u001b[90mString\u001b[39m     │ \u001b[90mString\u001b[39m │ \u001b[90mString\u001b[39m │ \u001b[90mString?\u001b[39m         │\n",
       "├────────┼─────────────────────────────────────────┼───────────┼──────────────┼────────────┼───────────┼───────────┼───────────┼───────────────┼───────────┼───────────┼───────────┼─────────┼────────┼──────────┼──────────┼──────────────────┼──────────────┼──────────────┼──────────────┼─────────────┼────────┼────────┼───────────┼────────────┼────────┼────────┼─────────────────┤\n",
       "│ 1      │ Boby_Mack                               │ BF-61     │ BF-61-1      │ BF61-1-F   │ 0         │ 4         │ unknown   │ \u001b[90mmissing\u001b[39m       │ \u001b[90mmissing\u001b[39m   │ 1,14      │ 0,73      │ 0,04    │ NA     │ NA       │ NA       │ \u001b[90mmissing\u001b[39m          │ NA           │ NA           │ NA           │ \u001b[90mmissing\u001b[39m     │ NA     │ NA     │ NA        │ NA         │ 44,62  │ NA     │ \u001b[90mmissing\u001b[39m         │\n",
       "│ 2      │ Boby_Mack                               │ BF-61     │ BF-61-1      │ BF61-1-H   │ 4         │ 6         │ unknown   │ \u001b[90mmissing\u001b[39m       │ \u001b[90mmissing\u001b[39m   │ 1,14      │ 0,74      │ 0,12    │ NA     │ NA       │ NA       │ \u001b[90mmissing\u001b[39m          │ NA           │ NA           │ NA           │ \u001b[90mmissing\u001b[39m     │ NA     │ NA     │ NA        │ NA         │ 30,21  │ NA     │ \u001b[90mmissing\u001b[39m         │\n",
       "│ 3      │ Boby_Mack                               │ BF-61     │ BF-61-1      │ BF61-1-M1  │ 6         │ 11        │ unknown   │ \u001b[90mmissing\u001b[39m       │ \u001b[90mmissing\u001b[39m   │ 1,27      │ 1,03      │ 1,15    │ NA     │ NA       │ NA       │ \u001b[90mmissing\u001b[39m          │ NA           │ NA           │ NA           │ \u001b[90mmissing\u001b[39m     │ NA     │ NA     │ NA        │ NA         │ 5,32   │ NA     │ \u001b[90mmissing\u001b[39m         │\n",
       "│ 4      │ Boby_Mack                               │ BF-61     │ BF-61-1      │ BF61-1-M2  │ 11        │ 16        │ unknown   │ \u001b[90mmissing\u001b[39m       │ \u001b[90mmissing\u001b[39m   │ 1,31      │ 1,13      │ 1,12    │ NA     │ NA       │ NA       │ \u001b[90mmissing\u001b[39m          │ NA           │ NA           │ NA           │ \u001b[90mmissing\u001b[39m     │ NA     │ NA     │ NA        │ NA         │ 3,88   │ NA     │ \u001b[90mmissing\u001b[39m         │\n",
       "│ 5      │ Boby_Mack                               │ BF-61     │ BF-61-2      │ BF61-2-DM  │ 0         │ 5         │ o         │ \u001b[90mmissing\u001b[39m       │ \u001b[90mmissing\u001b[39m   │ 0,56      │ 0,36      │ 0,01    │ NA     │ NA       │ NA       │ \u001b[90mmissing\u001b[39m          │ NA           │ NA           │ NA           │ \u001b[90mmissing\u001b[39m     │ NA     │ NA     │ NA        │ NA         │ 45,53  │ NA     │ \u001b[90mmissing\u001b[39m         │\n",
       "⋮\n",
       "│ 434577 │ Worldwide soil carbon and nitrogen data │ ZV681 RS  │ 3002009      │ 3002009,6  │ 78        │ 98        │ \u001b[90mmissing\u001b[39m   │ \u001b[90mmissing\u001b[39m       │ \u001b[90mmissing\u001b[39m   │ 1,37      │ 1,36      │ NA      │ NA     │ NA       │ NA       │ \u001b[90mmissing\u001b[39m          │ NA           │ NA           │ NA           │ \u001b[90mmissing\u001b[39m     │ NA     │ NA     │ NA        │ NA         │ NA     │ NA     │ \u001b[90mmissing\u001b[39m         │\n",
       "│ 434578 │ Worldwide soil carbon and nitrogen data │ ZV8 RS    │ 3002004      │ 3002004,1  │ 0         │ 8         │ \u001b[90mmissing\u001b[39m   │ wet oxidation │ \u001b[90mmissing\u001b[39m   │ 1,21      │ 1,38      │ NA      │ NA     │ NA       │ NA       │ \u001b[90mmissing\u001b[39m          │ NA           │ NA           │ NA           │ \u001b[90mmissing\u001b[39m     │ NA     │ NA     │ NA        │ NA         │ NA     │ 1,77   │ \u001b[90mmissing\u001b[39m         │\n",
       "│ 434579 │ Worldwide soil carbon and nitrogen data │ ZV8 RS    │ 3002004      │ 3002004,2  │ 8         │ 20        │ \u001b[90mmissing\u001b[39m   │ wet oxidation │ \u001b[90mmissing\u001b[39m   │ 1,38      │ 1,42      │ NA      │ NA     │ NA       │ NA       │ \u001b[90mmissing\u001b[39m          │ NA           │ NA           │ NA           │ \u001b[90mmissing\u001b[39m     │ NA     │ NA     │ NA        │ NA         │ NA     │ 0,83   │ \u001b[90mmissing\u001b[39m         │\n",
       "│ 434580 │ Worldwide soil carbon and nitrogen data │ ZV8 RS    │ 3002004      │ 3002004,3  │ 20        │ 38        │ \u001b[90mmissing\u001b[39m   │ wet oxidation │ \u001b[90mmissing\u001b[39m   │ 1,32      │ 1,40      │ NA      │ NA     │ NA       │ NA       │ \u001b[90mmissing\u001b[39m          │ NA           │ NA           │ NA           │ \u001b[90mmissing\u001b[39m     │ NA     │ NA     │ NA        │ NA         │ NA     │ 0,42   │ \u001b[90mmissing\u001b[39m         │\n",
       "│ 434581 │ Worldwide soil carbon and nitrogen data │ ZV8 RS    │ 3002004      │ 3002004,4  │ 38        │ 85        │ \u001b[90mmissing\u001b[39m   │ wet oxidation │ \u001b[90mmissing\u001b[39m   │ 1,35      │ 1,34      │ NA      │ NA     │ NA       │ NA       │ \u001b[90mmissing\u001b[39m          │ NA           │ NA           │ NA           │ \u001b[90mmissing\u001b[39m     │ NA     │ NA     │ NA        │ NA         │ NA     │ 0,17   │ \u001b[90mmissing\u001b[39m         │\n",
       "│ 434582 │ Worldwide soil carbon and nitrogen data │ ZV8 RS    │ 3002004      │ 3002004,5  │ 85        │ 125       │ \u001b[90mmissing\u001b[39m   │ \u001b[90mmissing\u001b[39m       │ \u001b[90mmissing\u001b[39m   │ 1,36      │ 1,33      │ NA      │ NA     │ NA       │ NA       │ \u001b[90mmissing\u001b[39m          │ NA           │ NA           │ NA           │ \u001b[90mmissing\u001b[39m     │ NA     │ NA     │ NA        │ NA         │ NA     │ NA     │ \u001b[90mmissing\u001b[39m         │"
      ]
     },
     "execution_count": 10,
     "metadata": {},
     "output_type": "execute_result"
    }
   ],
   "source": [
    "df_BD_pred_orig = CSV.read(\"ISCNTemplate_NRCS_BD_predictions.csv\", DataFrame)"
   ]
  },
  {
   "cell_type": "code",
   "execution_count": 11,
   "metadata": {},
   "outputs": [
    {
     "data": {
      "text/html": [
       "<table class=\"data-frame\"><thead><tr><th></th><th>sp_name</th><th>layer_name</th><th>bd_organic</th><th>bd_mineral</th></tr><tr><th></th><th>String</th><th>String</th><th>Float64</th><th>Float64</th></tr></thead><tbody><p>430,653 rows × 4 columns</p><tr><th>1</th><td>BF-61_BF-61-1</td><td>BF61-1-F</td><td>1.14</td><td>0.73</td></tr><tr><th>2</th><td>BF-61_BF-61-1</td><td>BF61-1-H</td><td>1.14</td><td>0.74</td></tr><tr><th>3</th><td>BF-61_BF-61-1</td><td>BF61-1-M1</td><td>1.27</td><td>1.03</td></tr><tr><th>4</th><td>BF-61_BF-61-1</td><td>BF61-1-M2</td><td>1.31</td><td>1.13</td></tr><tr><th>5</th><td>BF-61_BF-61-2</td><td>BF61-2-DM</td><td>0.56</td><td>0.36</td></tr><tr><th>6</th><td>BF-61_BF-61-2</td><td>BF61-2-F</td><td>1.34</td><td>0.67</td></tr><tr><th>7</th><td>BF-61_BF-61-2</td><td>BF61-2-H</td><td>1.29</td><td>0.77</td></tr><tr><th>8</th><td>BF-61_BF-61-2</td><td>BF61-2-H:354</td><td>1.28</td><td>0.67</td></tr><tr><th>9</th><td>BF-61_BF-61-2</td><td>BF61-2-M1</td><td>1.31</td><td>0.96</td></tr><tr><th>10</th><td>BF-61_BF-61-2</td><td>BF61-2-M2</td><td>1.31</td><td>1.01</td></tr><tr><th>11</th><td>BF-61_BF-61-3</td><td>BF61-3-DM</td><td>0.52</td><td>0.35</td></tr><tr><th>12</th><td>BF-61_BF-61-3</td><td>BF61-3-F</td><td>1.22</td><td>0.7</td></tr><tr><th>13</th><td>BF-61_BF-61-3</td><td>BF61-3-H</td><td>1.3</td><td>0.71</td></tr><tr><th>14</th><td>BF-61_BF-61-3</td><td>BF61-3-M1</td><td>1.33</td><td>0.92</td></tr><tr><th>15</th><td>BF-61_BF-61-3</td><td>BF61-3-M2</td><td>1.32</td><td>1.08</td></tr><tr><th>16</th><td>BF-61_BF-61-4</td><td>BF61-4-F</td><td>1.33</td><td>0.68</td></tr><tr><th>17</th><td>BF-61_BF-61-4</td><td>BF61-4-H</td><td>1.31</td><td>0.68</td></tr><tr><th>18</th><td>BF-61_BF-61-4</td><td>BF61-4-M1</td><td>1.32</td><td>0.91</td></tr><tr><th>19</th><td>BF-61_BF-61-4</td><td>BF61-4-M2</td><td>1.32</td><td>1.02</td></tr><tr><th>20</th><td>BF-62_BF-62-1</td><td>BF62-1-DM</td><td>0.52</td><td>0.35</td></tr><tr><th>&vellip;</th><td>&vellip;</td><td>&vellip;</td><td>&vellip;</td><td>&vellip;</td></tr></tbody></table>"
      ],
      "text/latex": [
       "\\begin{tabular}{r|cccc}\n",
       "\t& sp\\_name & layer\\_name & bd\\_organic & bd\\_mineral\\\\\n",
       "\t\\hline\n",
       "\t& String & String & Float64 & Float64\\\\\n",
       "\t\\hline\n",
       "\t1 & BF-61\\_BF-61-1 & BF61-1-F & 1.14 & 0.73 \\\\\n",
       "\t2 & BF-61\\_BF-61-1 & BF61-1-H & 1.14 & 0.74 \\\\\n",
       "\t3 & BF-61\\_BF-61-1 & BF61-1-M1 & 1.27 & 1.03 \\\\\n",
       "\t4 & BF-61\\_BF-61-1 & BF61-1-M2 & 1.31 & 1.13 \\\\\n",
       "\t5 & BF-61\\_BF-61-2 & BF61-2-DM & 0.56 & 0.36 \\\\\n",
       "\t6 & BF-61\\_BF-61-2 & BF61-2-F & 1.34 & 0.67 \\\\\n",
       "\t7 & BF-61\\_BF-61-2 & BF61-2-H & 1.29 & 0.77 \\\\\n",
       "\t8 & BF-61\\_BF-61-2 & BF61-2-H:354 & 1.28 & 0.67 \\\\\n",
       "\t9 & BF-61\\_BF-61-2 & BF61-2-M1 & 1.31 & 0.96 \\\\\n",
       "\t10 & BF-61\\_BF-61-2 & BF61-2-M2 & 1.31 & 1.01 \\\\\n",
       "\t11 & BF-61\\_BF-61-3 & BF61-3-DM & 0.52 & 0.35 \\\\\n",
       "\t12 & BF-61\\_BF-61-3 & BF61-3-F & 1.22 & 0.7 \\\\\n",
       "\t13 & BF-61\\_BF-61-3 & BF61-3-H & 1.3 & 0.71 \\\\\n",
       "\t14 & BF-61\\_BF-61-3 & BF61-3-M1 & 1.33 & 0.92 \\\\\n",
       "\t15 & BF-61\\_BF-61-3 & BF61-3-M2 & 1.32 & 1.08 \\\\\n",
       "\t16 & BF-61\\_BF-61-4 & BF61-4-F & 1.33 & 0.68 \\\\\n",
       "\t17 & BF-61\\_BF-61-4 & BF61-4-H & 1.31 & 0.68 \\\\\n",
       "\t18 & BF-61\\_BF-61-4 & BF61-4-M1 & 1.32 & 0.91 \\\\\n",
       "\t19 & BF-61\\_BF-61-4 & BF61-4-M2 & 1.32 & 1.02 \\\\\n",
       "\t20 & BF-62\\_BF-62-1 & BF62-1-DM & 0.52 & 0.35 \\\\\n",
       "\t$\\dots$ & $\\dots$ & $\\dots$ & $\\dots$ & $\\dots$ \\\\\n",
       "\\end{tabular}\n"
      ],
      "text/plain": [
       "430653×4 DataFrame\n",
       "│ Row    │ sp_name          │ layer_name │ bd_organic │ bd_mineral │\n",
       "│        │ \u001b[90mString\u001b[39m           │ \u001b[90mString\u001b[39m     │ \u001b[90mFloat64\u001b[39m    │ \u001b[90mFloat64\u001b[39m    │\n",
       "├────────┼──────────────────┼────────────┼────────────┼────────────┤\n",
       "│ 1      │ BF-61_BF-61-1    │ BF61-1-F   │ 1.14       │ 0.73       │\n",
       "│ 2      │ BF-61_BF-61-1    │ BF61-1-H   │ 1.14       │ 0.74       │\n",
       "│ 3      │ BF-61_BF-61-1    │ BF61-1-M1  │ 1.27       │ 1.03       │\n",
       "│ 4      │ BF-61_BF-61-1    │ BF61-1-M2  │ 1.31       │ 1.13       │\n",
       "│ 5      │ BF-61_BF-61-2    │ BF61-2-DM  │ 0.56       │ 0.36       │\n",
       "⋮\n",
       "│ 430648 │ ZV681 RS_3002009 │ 3002009,6  │ 1.37       │ 1.36       │\n",
       "│ 430649 │ ZV8 RS_3002004   │ 3002004,1  │ 1.21       │ 1.38       │\n",
       "│ 430650 │ ZV8 RS_3002004   │ 3002004,2  │ 1.38       │ 1.42       │\n",
       "│ 430651 │ ZV8 RS_3002004   │ 3002004,3  │ 1.32       │ 1.4        │\n",
       "│ 430652 │ ZV8 RS_3002004   │ 3002004,4  │ 1.35       │ 1.34       │\n",
       "│ 430653 │ ZV8 RS_3002004   │ 3002004,5  │ 1.36       │ 1.33       │"
      ]
     },
     "execution_count": 11,
     "metadata": {},
     "output_type": "execute_result"
    }
   ],
   "source": [
    "#copy of original dataset and tidied up column names\n",
    "df_BD_pred = deepcopy(df_BD_pred_orig)\n",
    "\n",
    "#define new column that has unique key, site_name_profile_name\n",
    "df_BD_pred.sp_name = [(row.site_name * \"_\" * row.profile_name) for row in eachrow(df_BD_pred)]\n",
    "\n",
    "df_BD_pred = df_BD_pred |>\n",
    "\n",
    "#pick relevant columns\n",
    "@select(:sp_name,:layer_name,:bd_pred_1,:bd_pred_2) |>\n",
    "\n",
    "##remove layers with missing predicted BD\n",
    "@dropna(:bd_pred_1, :bd_pred_2) |>\n",
    "\n",
    "#parse bd_pred_1 values and keep only non-negative ones\n",
    "@mutate(bd_pred_1 = replace(_.bd_pred_1,','=>'.')) |>\n",
    "@mutate(bd_pred_1 = parse(Float64, _.bd_pred_1)) |>\n",
    "@filter(_.bd_pred_1 > 0) |>\n",
    "\n",
    "#same with bd_pred_2 values\n",
    "@mutate(bd_pred_2 = replace(_.bd_pred_2,','=>'.')) |>\n",
    "@mutate(bd_pred_2 = parse(Float64, _.bd_pred_2)) |>\n",
    "@filter(_.bd_pred_2 > 0) |>\n",
    "\n",
    "#keep only unique sites/profiles/layers\n",
    "@unique((_.sp_name, _.layer_name)) |>\n",
    "\n",
    "#‘bd_pred_1’ to be used for organic horizons, ‘be_pred_2’ for mineral soil horizons\n",
    "@rename(:bd_pred_1 => :bd_organic) |>\n",
    "@rename(:bd_pred_2 => :bd_mineral) |>\n",
    "\n",
    "DataFrame"
   ]
  },
  {
   "cell_type": "code",
   "execution_count": 12,
   "metadata": {},
   "outputs": [
    {
     "data": {
      "text/plain": [
       "infer_designation (generic function with 1 method)"
      ]
     },
     "execution_count": 12,
     "metadata": {},
     "output_type": "execute_result"
    }
   ],
   "source": [
    "function infer_designation(old_desig, blk)\n",
    "#takes layer and returns its inferred soil designation, either 'organic' or 'mineral'\n",
    "\n",
    "#old_desig = get(existing_desig)\n",
    "new_desig = \"no_desig\" #value to be eventually returned\n",
    "\n",
    "#blk = get(bulk_density) #already parsed to F64, no missing values assumed\n",
    "threshold = 0.5\n",
    "\n",
    "control_desig = ['O','o','H','h'] #possible chars in existing desig that indicate presence of organic material in the layer\n",
    "\n",
    "new_desig_organic = \"organic\"\n",
    "new_desig_mineral = \"mineral\"\n",
    "\n",
    "if old_desig == \"\"\n",
    "    #check on bulk density value to decide which designation applies \n",
    "    new_desig = (blk <= threshold) ? new_desig_organic : new_desig_mineral\n",
    "\n",
    "#designation not missing\t\t\t\n",
    "else\t\n",
    "    check_desig = [in(c,control_desig) for c in old_desig] #check if any char in the existing designation matches organic control\n",
    "    check_desig_BD = !isnothing(findfirst(check_desig)) & (blk <= threshold) #true if any char matches and BD < treshold\n",
    "\n",
    "    new_desig = check_desig_BD ? new_desig_organic : new_desig_mineral\n",
    "end\n",
    "\n",
    "\n",
    "return new_desig\n",
    "end"
   ]
  },
  {
   "cell_type": "code",
   "execution_count": 13,
   "metadata": {},
   "outputs": [
    {
     "data": {
      "text/html": [
       "<table class=\"data-frame\"><thead><tr><th></th><th>sp_name</th><th>layer_name</th><th>lat_dec_deg</th><th>long_dec_deg</th><th>obs_date_yyyymmdd</th><th>layer_top_cm</th><th>layer_bot_cm</th><th>oc_percent</th><th>bd_organic</th><th>bd_mineral</th><th>hzn_merged</th><th>infer_DESIG</th></tr><tr><th></th><th>String</th><th>String</th><th>Float64</th><th>Float64</th><th>String?</th><th>Int64</th><th>Int64</th><th>Float64</th><th>Float64</th><th>Float64</th><th>String</th><th>String</th></tr></thead><tbody><p>112,057 rows × 12 columns</p><tr><th>1</th><td>50ND075005_40A0001</td><td>40A00001</td><td>48.805</td><td>-101.735</td><td>19/09/1950</td><td>0</td><td>23</td><td>2.99</td><td>1.36</td><td>1.44</td><td>A_Ap</td><td>mineral</td></tr><tr><th>2</th><td>50ND075005_40A0001</td><td>40A00002</td><td>48.805</td><td>-101.735</td><td>19/09/1950</td><td>23</td><td>33</td><td>0.93</td><td>1.24</td><td>1.36</td><td>A_A</td><td>mineral</td></tr><tr><th>3</th><td>50ND075005_40A0001</td><td>40A00003</td><td>48.805</td><td>-101.735</td><td>19/09/1950</td><td>33</td><td>48</td><td>0.7</td><td>1.35</td><td>1.38</td><td>B_Bw</td><td>mineral</td></tr><tr><th>4</th><td>50ND075005_40A0001</td><td>40A00004</td><td>48.805</td><td>-101.735</td><td>19/09/1950</td><td>48</td><td>97</td><td>0.34</td><td>1.43</td><td>1.36</td><td>B_Bk</td><td>mineral</td></tr><tr><th>5</th><td>50ND075005_40A0001</td><td>40A00005</td><td>48.805</td><td>-101.735</td><td>19/09/1950</td><td>97</td><td>122</td><td>0.2</td><td>1.43</td><td>1.31</td><td>B_B21</td><td>mineral</td></tr><tr><th>6</th><td>50ND075005_40A0001</td><td>40A00006</td><td>48.805</td><td>-101.735</td><td>19/09/1950</td><td>122</td><td>145</td><td>0.18</td><td>1.35</td><td>1.32</td><td>B_B22</td><td>mineral</td></tr><tr><th>7</th><td>50ND075005_40A0001</td><td>40A00007</td><td>48.805</td><td>-101.735</td><td>19/09/1950</td><td>145</td><td>183</td><td>0.15</td><td>1.41</td><td>1.34</td><td>B_By</td><td>mineral</td></tr><tr><th>8</th><td>50ND075003_40A0013</td><td>40A00094</td><td>48.9366</td><td>-101.585</td><td>18/09/1950</td><td>0</td><td>15</td><td>2.42</td><td>1.46</td><td>1.5</td><td>A_Ap</td><td>mineral</td></tr><tr><th>9</th><td>50ND075003_40A0013</td><td>40A00095</td><td>48.9366</td><td>-101.585</td><td>18/09/1950</td><td>15</td><td>25</td><td>0.98</td><td>1.34</td><td>1.36</td><td>B_Bw1</td><td>mineral</td></tr><tr><th>10</th><td>50ND075003_40A0013</td><td>40A00096</td><td>48.9366</td><td>-101.585</td><td>18/09/1950</td><td>25</td><td>46</td><td>0.76</td><td>1.41</td><td>1.37</td><td>B_Bw2</td><td>mineral</td></tr><tr><th>11</th><td>50ND075003_40A0013</td><td>40A00097</td><td>48.9366</td><td>-101.585</td><td>18/09/1950</td><td>46</td><td>102</td><td>0.27</td><td>1.41</td><td>1.36</td><td>B_Bk</td><td>mineral</td></tr><tr><th>12</th><td>50ND075003_40A0013</td><td>40A00098</td><td>48.9366</td><td>-101.585</td><td>18/09/1950</td><td>102</td><td>152</td><td>0.14</td><td>1.41</td><td>1.35</td><td>C_C1</td><td>mineral</td></tr><tr><th>13</th><td>50ND075003_40A0013</td><td>40A00099</td><td>48.9366</td><td>-101.585</td><td>18/09/1950</td><td>152</td><td>183</td><td>0.14</td><td>1.52</td><td>1.38</td><td>C_C2</td><td>mineral</td></tr><tr><th>14</th><td>50ND075003_40A0013</td><td>40A00100</td><td>48.9366</td><td>-101.585</td><td>18/09/1950</td><td>183</td><td>213</td><td>0.13</td><td>1.41</td><td>1.36</td><td>C_C3</td><td>mineral</td></tr><tr><th>15</th><td>50ND075007_40A0067</td><td>40A00476</td><td>48.8083</td><td>-101.707</td><td>19/09/1950</td><td>0</td><td>15</td><td>2.42</td><td>1.32</td><td>1.4</td><td>A_Ap</td><td>mineral</td></tr><tr><th>16</th><td>50ND075007_40A0067</td><td>40A00477</td><td>48.8083</td><td>-101.707</td><td>19/09/1950</td><td>15</td><td>41</td><td>0.69</td><td>1.34</td><td>1.33</td><td>B_Bk1</td><td>mineral</td></tr><tr><th>17</th><td>50ND075007_40A0067</td><td>40A00478</td><td>48.8083</td><td>-101.707</td><td>19/09/1950</td><td>41</td><td>66</td><td>0.26</td><td>1.41</td><td>1.33</td><td>B_Bk2</td><td>mineral</td></tr><tr><th>18</th><td>50ND075007_40A0067</td><td>40A00479</td><td>48.8083</td><td>-101.707</td><td>19/09/1950</td><td>66</td><td>91</td><td>0.19</td><td>1.42</td><td>1.3</td><td>B_B1</td><td>mineral</td></tr><tr><th>19</th><td>50ND075007_40A0067</td><td>40A00480</td><td>48.8083</td><td>-101.707</td><td>19/09/1950</td><td>91</td><td>122</td><td>0.18</td><td>1.42</td><td>1.33</td><td>B_B2</td><td>mineral</td></tr><tr><th>20</th><td>50ND075007_40A0067</td><td>40A00481</td><td>48.8083</td><td>-101.707</td><td>19/09/1950</td><td>122</td><td>152</td><td>0.2</td><td>1.34</td><td>1.35</td><td>B_By1</td><td>mineral</td></tr><tr><th>&vellip;</th><td>&vellip;</td><td>&vellip;</td><td>&vellip;</td><td>&vellip;</td><td>&vellip;</td><td>&vellip;</td><td>&vellip;</td><td>&vellip;</td><td>&vellip;</td><td>&vellip;</td><td>&vellip;</td><td>&vellip;</td></tr></tbody></table>"
      ],
      "text/latex": [
       "\\begin{tabular}{r|cccccccccccc}\n",
       "\t& sp\\_name & layer\\_name & lat\\_dec\\_deg & long\\_dec\\_deg & obs\\_date\\_yyyymmdd & layer\\_top\\_cm & layer\\_bot\\_cm & oc\\_percent & bd\\_organic & bd\\_mineral & hzn\\_merged & infer\\_DESIG\\\\\n",
       "\t\\hline\n",
       "\t& String & String & Float64 & Float64 & String? & Int64 & Int64 & Float64 & Float64 & Float64 & String & String\\\\\n",
       "\t\\hline\n",
       "\t1 & 50ND075005\\_40A0001 & 40A00001 & 48.805 & -101.735 & 19/09/1950 & 0 & 23 & 2.99 & 1.36 & 1.44 & A\\_Ap & mineral \\\\\n",
       "\t2 & 50ND075005\\_40A0001 & 40A00002 & 48.805 & -101.735 & 19/09/1950 & 23 & 33 & 0.93 & 1.24 & 1.36 & A\\_A & mineral \\\\\n",
       "\t3 & 50ND075005\\_40A0001 & 40A00003 & 48.805 & -101.735 & 19/09/1950 & 33 & 48 & 0.7 & 1.35 & 1.38 & B\\_Bw & mineral \\\\\n",
       "\t4 & 50ND075005\\_40A0001 & 40A00004 & 48.805 & -101.735 & 19/09/1950 & 48 & 97 & 0.34 & 1.43 & 1.36 & B\\_Bk & mineral \\\\\n",
       "\t5 & 50ND075005\\_40A0001 & 40A00005 & 48.805 & -101.735 & 19/09/1950 & 97 & 122 & 0.2 & 1.43 & 1.31 & B\\_B21 & mineral \\\\\n",
       "\t6 & 50ND075005\\_40A0001 & 40A00006 & 48.805 & -101.735 & 19/09/1950 & 122 & 145 & 0.18 & 1.35 & 1.32 & B\\_B22 & mineral \\\\\n",
       "\t7 & 50ND075005\\_40A0001 & 40A00007 & 48.805 & -101.735 & 19/09/1950 & 145 & 183 & 0.15 & 1.41 & 1.34 & B\\_By & mineral \\\\\n",
       "\t8 & 50ND075003\\_40A0013 & 40A00094 & 48.9366 & -101.585 & 18/09/1950 & 0 & 15 & 2.42 & 1.46 & 1.5 & A\\_Ap & mineral \\\\\n",
       "\t9 & 50ND075003\\_40A0013 & 40A00095 & 48.9366 & -101.585 & 18/09/1950 & 15 & 25 & 0.98 & 1.34 & 1.36 & B\\_Bw1 & mineral \\\\\n",
       "\t10 & 50ND075003\\_40A0013 & 40A00096 & 48.9366 & -101.585 & 18/09/1950 & 25 & 46 & 0.76 & 1.41 & 1.37 & B\\_Bw2 & mineral \\\\\n",
       "\t11 & 50ND075003\\_40A0013 & 40A00097 & 48.9366 & -101.585 & 18/09/1950 & 46 & 102 & 0.27 & 1.41 & 1.36 & B\\_Bk & mineral \\\\\n",
       "\t12 & 50ND075003\\_40A0013 & 40A00098 & 48.9366 & -101.585 & 18/09/1950 & 102 & 152 & 0.14 & 1.41 & 1.35 & C\\_C1 & mineral \\\\\n",
       "\t13 & 50ND075003\\_40A0013 & 40A00099 & 48.9366 & -101.585 & 18/09/1950 & 152 & 183 & 0.14 & 1.52 & 1.38 & C\\_C2 & mineral \\\\\n",
       "\t14 & 50ND075003\\_40A0013 & 40A00100 & 48.9366 & -101.585 & 18/09/1950 & 183 & 213 & 0.13 & 1.41 & 1.36 & C\\_C3 & mineral \\\\\n",
       "\t15 & 50ND075007\\_40A0067 & 40A00476 & 48.8083 & -101.707 & 19/09/1950 & 0 & 15 & 2.42 & 1.32 & 1.4 & A\\_Ap & mineral \\\\\n",
       "\t16 & 50ND075007\\_40A0067 & 40A00477 & 48.8083 & -101.707 & 19/09/1950 & 15 & 41 & 0.69 & 1.34 & 1.33 & B\\_Bk1 & mineral \\\\\n",
       "\t17 & 50ND075007\\_40A0067 & 40A00478 & 48.8083 & -101.707 & 19/09/1950 & 41 & 66 & 0.26 & 1.41 & 1.33 & B\\_Bk2 & mineral \\\\\n",
       "\t18 & 50ND075007\\_40A0067 & 40A00479 & 48.8083 & -101.707 & 19/09/1950 & 66 & 91 & 0.19 & 1.42 & 1.3 & B\\_B1 & mineral \\\\\n",
       "\t19 & 50ND075007\\_40A0067 & 40A00480 & 48.8083 & -101.707 & 19/09/1950 & 91 & 122 & 0.18 & 1.42 & 1.33 & B\\_B2 & mineral \\\\\n",
       "\t20 & 50ND075007\\_40A0067 & 40A00481 & 48.8083 & -101.707 & 19/09/1950 & 122 & 152 & 0.2 & 1.34 & 1.35 & B\\_By1 & mineral \\\\\n",
       "\t$\\dots$ & $\\dots$ & $\\dots$ & $\\dots$ & $\\dots$ & $\\dots$ & $\\dots$ & $\\dots$ & $\\dots$ & $\\dots$ & $\\dots$ & $\\dots$ & $\\dots$ \\\\\n",
       "\\end{tabular}\n"
      ],
      "text/plain": [
       "112057×12 DataFrame\n",
       "│ Row    │ sp_name            │ layer_name │ lat_dec_deg │ long_dec_deg │ obs_date_yyyymmdd │ layer_top_cm │ layer_bot_cm │ oc_percent │ bd_organic │ bd_mineral │ hzn_merged │ infer_DESIG │\n",
       "│        │ \u001b[90mString\u001b[39m             │ \u001b[90mString\u001b[39m     │ \u001b[90mFloat64\u001b[39m     │ \u001b[90mFloat64\u001b[39m      │ \u001b[90mString?\u001b[39m           │ \u001b[90mInt64\u001b[39m        │ \u001b[90mInt64\u001b[39m        │ \u001b[90mFloat64\u001b[39m    │ \u001b[90mFloat64\u001b[39m    │ \u001b[90mFloat64\u001b[39m    │ \u001b[90mString\u001b[39m     │ \u001b[90mString\u001b[39m      │\n",
       "├────────┼────────────────────┼────────────┼─────────────┼──────────────┼───────────────────┼──────────────┼──────────────┼────────────┼────────────┼────────────┼────────────┼─────────────┤\n",
       "│ 1      │ 50ND075005_40A0001 │ 40A00001   │ 48.805      │ -101.735     │ 19/09/1950        │ 0            │ 23           │ 2.99       │ 1.36       │ 1.44       │ A_Ap       │ mineral     │\n",
       "│ 2      │ 50ND075005_40A0001 │ 40A00002   │ 48.805      │ -101.735     │ 19/09/1950        │ 23           │ 33           │ 0.93       │ 1.24       │ 1.36       │ A_A        │ mineral     │\n",
       "│ 3      │ 50ND075005_40A0001 │ 40A00003   │ 48.805      │ -101.735     │ 19/09/1950        │ 33           │ 48           │ 0.7        │ 1.35       │ 1.38       │ B_Bw       │ mineral     │\n",
       "│ 4      │ 50ND075005_40A0001 │ 40A00004   │ 48.805      │ -101.735     │ 19/09/1950        │ 48           │ 97           │ 0.34       │ 1.43       │ 1.36       │ B_Bk       │ mineral     │\n",
       "│ 5      │ 50ND075005_40A0001 │ 40A00005   │ 48.805      │ -101.735     │ 19/09/1950        │ 97           │ 122          │ 0.2        │ 1.43       │ 1.31       │ B_B21      │ mineral     │\n",
       "⋮\n",
       "│ 112052 │ TY34 JP_7003034    │ 7003034,4  │ 43.0        │ 142.0        │ 1962              │ 31           │ 49           │ 1.14       │ 1.41       │ 1.42       │            │ mineral     │\n",
       "│ 112053 │ TY35 JP_7003035    │ 7003035,1  │ 43.0        │ 144.0        │ 1962              │ 0            │ 6            │ 15.14      │ 1.27       │ 1.43       │            │ mineral     │\n",
       "│ 112054 │ TY35 JP_7003035    │ 7003035,2  │ 43.0        │ 144.0        │ 1962              │ 6            │ 11           │ 4.51       │ 1.36       │ 1.45       │            │ mineral     │\n",
       "│ 112055 │ TY35 JP_7003035    │ 7003035,3  │ 43.0        │ 144.0        │ 1962              │ 11           │ 30           │ 14.33      │ 1.43       │ 1.46       │            │ mineral     │\n",
       "│ 112056 │ TY35 JP_7003035    │ 7003035,4  │ 43.0        │ 144.0        │ 1962              │ 30           │ 57           │ 9.09       │ 1.45       │ 1.46       │            │ mineral     │\n",
       "│ 112057 │ TY35 JP_7003035    │ 7003035,5  │ 43.0        │ 144.0        │ 1962              │ 57           │ 75           │ 2.91       │ 1.41       │ 1.45       │            │ mineral     │"
      ]
     },
     "execution_count": 13,
     "metadata": {},
     "output_type": "execute_result"
    }
   ],
   "source": [
    "#adding predicted BD values to each layer\n",
    "df_hz = innerjoin(df_ISCN_cont, df_BD_pred, on = [:sp_name, :layer_name])\t\n",
    "unique!(df_hz, [:sp_name, :layer_name])\n",
    "\t\n",
    "#work on layer designation\n",
    "df_hz.hzn = replace(df_hz.hzn, \"?\" => \"\") \n",
    "df_hz.hzn = replace(df_hz.hzn, missing => \"\")\n",
    "\t\n",
    "df_hz.hzn_desgn = replace(df_hz.hzn_desgn, \"unknown\" => \"\") \n",
    "df_hz.hzn_desgn = replace(df_hz.hzn_desgn, missing => \"\") \n",
    "\n",
    "#create new column with concatenated designations, but leave row empty if both are empty\n",
    "df_hz.hzn_merged = [!isempty(row.hzn * row.hzn_desgn) ? (row.hzn * \"_\" * row.hzn_desgn) : \"\" for row in eachrow(df_hz)]\n",
    "\t\n",
    "#infer layer designation and write to new col, using only bd_organic for threshold check\n",
    "df_hz.infer_DESIG = [infer_designation(r.hzn_merged,r.bd_organic) for r in eachrow(df_hz) ]\t\n",
    "\n",
    "#getting rid of old designation cols\n",
    "select!(df_hz, Not(:hzn))\t\n",
    "select!(df_hz, Not(:hzn_desgn))\t\n"
   ]
  },
  {
   "cell_type": "code",
   "execution_count": 14,
   "metadata": {},
   "outputs": [
    {
     "data": {
      "text/plain": [
       "depth_clip (generic function with 1 method)"
      ]
     },
     "execution_count": 14,
     "metadata": {},
     "output_type": "execute_result"
    }
   ],
   "source": [
    "function depth_clip(profile; depth_min=0, depth_max=100)\n",
    "#takes in a profile with N layers and returns a clipped profile, by default from 0 to 100cm\n",
    "#run this function ALWAYS AFTER checking for layers continuity\n",
    "\n",
    "\n",
    "top = profile.layer_top_cm\n",
    "bot = deepcopy(profile.layer_bot_cm) #create copy of the original profile bot, to be edited later\n",
    "\n",
    "n_layers = length(top)\n",
    "\n",
    "#init array of 'true' -> keep all layers unless proven guilty\n",
    "layers_keep = Vector{Bool}(undef,n_layers)\n",
    "layers_keep .= true\n",
    "\n",
    "#if profile doesn't reach threshold, or starts after min, ditch the whole profile\n",
    "if maximum(bot) < depth_max || minimum(top) > depth_min; \t\n",
    "\n",
    "    layers_keep .= false\n",
    "\n",
    "#othewise mark layers to drop above threshold, and clip the overlapping one\n",
    "else \n",
    "    for lr in 1:n_layers\n",
    "        #simple case, both top and bot below threshold\n",
    "        if top[lr] >= depth_max; layers_keep[lr] = false; end\n",
    "\n",
    "        #layers overlapping threshold\n",
    "        if top[lr] < depth_max && bot[lr] > depth_max\n",
    "            bot[lr] = depth_max\n",
    "        end\n",
    "\n",
    "    end\n",
    "\n",
    "    profile.layer_bot_cm = bot\n",
    "\n",
    "end\n",
    "\n",
    "\n",
    "return profile[layers_keep,:]\n",
    "\n",
    "end"
   ]
  },
  {
   "cell_type": "code",
   "execution_count": 15,
   "metadata": {},
   "outputs": [
    {
     "data": {
      "text/plain": [
       "compute_clipped_profiles (generic function with 1 method)"
      ]
     },
     "execution_count": 15,
     "metadata": {},
     "output_type": "execute_result"
    }
   ],
   "source": [
    "function compute_clipped_profiles(df)\n",
    "#initialize empty DF with same columns and types as starting one\n",
    "results = DataFrame(eltypes(df), names(df))\n",
    "\n",
    "for profile in unique(df.sp_name)\n",
    "\n",
    "\tappend!(results, depth_clip(df[df.sp_name .== profile,:]))\n",
    "\n",
    "end\n",
    "\n",
    "return results\n",
    "\n",
    "end"
   ]
  },
  {
   "cell_type": "code",
   "execution_count": 16,
   "metadata": {},
   "outputs": [
    {
     "data": {
      "text/html": [
       "<table class=\"data-frame\"><thead><tr><th></th><th>sp_name</th><th>layer_name</th><th>lat_dec_deg</th><th>long_dec_deg</th><th>obs_date_yyyymmdd</th><th>layer_top_cm</th><th>layer_bot_cm</th><th>oc_percent</th><th>bd_organic</th><th>bd_mineral</th><th>hzn_merged</th><th>infer_DESIG</th></tr><tr><th></th><th>String</th><th>String</th><th>Float64</th><th>Float64</th><th>String?</th><th>Int64</th><th>Int64</th><th>Float64</th><th>Float64</th><th>Float64</th><th>String</th><th>String</th></tr></thead><tbody><p>66,383 rows × 12 columns</p><tr><th>1</th><td>50ND075005_40A0001</td><td>40A00001</td><td>48.805</td><td>-101.735</td><td>19/09/1950</td><td>0</td><td>23</td><td>2.99</td><td>1.36</td><td>1.44</td><td>A_Ap</td><td>mineral</td></tr><tr><th>2</th><td>50ND075005_40A0001</td><td>40A00002</td><td>48.805</td><td>-101.735</td><td>19/09/1950</td><td>23</td><td>33</td><td>0.93</td><td>1.24</td><td>1.36</td><td>A_A</td><td>mineral</td></tr><tr><th>3</th><td>50ND075005_40A0001</td><td>40A00003</td><td>48.805</td><td>-101.735</td><td>19/09/1950</td><td>33</td><td>48</td><td>0.7</td><td>1.35</td><td>1.38</td><td>B_Bw</td><td>mineral</td></tr><tr><th>4</th><td>50ND075005_40A0001</td><td>40A00004</td><td>48.805</td><td>-101.735</td><td>19/09/1950</td><td>48</td><td>97</td><td>0.34</td><td>1.43</td><td>1.36</td><td>B_Bk</td><td>mineral</td></tr><tr><th>5</th><td>50ND075005_40A0001</td><td>40A00005</td><td>48.805</td><td>-101.735</td><td>19/09/1950</td><td>97</td><td>100</td><td>0.2</td><td>1.43</td><td>1.31</td><td>B_B21</td><td>mineral</td></tr><tr><th>6</th><td>50ND075003_40A0013</td><td>40A00094</td><td>48.9366</td><td>-101.585</td><td>18/09/1950</td><td>0</td><td>15</td><td>2.42</td><td>1.46</td><td>1.5</td><td>A_Ap</td><td>mineral</td></tr><tr><th>7</th><td>50ND075003_40A0013</td><td>40A00095</td><td>48.9366</td><td>-101.585</td><td>18/09/1950</td><td>15</td><td>25</td><td>0.98</td><td>1.34</td><td>1.36</td><td>B_Bw1</td><td>mineral</td></tr><tr><th>8</th><td>50ND075003_40A0013</td><td>40A00096</td><td>48.9366</td><td>-101.585</td><td>18/09/1950</td><td>25</td><td>46</td><td>0.76</td><td>1.41</td><td>1.37</td><td>B_Bw2</td><td>mineral</td></tr><tr><th>9</th><td>50ND075003_40A0013</td><td>40A00097</td><td>48.9366</td><td>-101.585</td><td>18/09/1950</td><td>46</td><td>100</td><td>0.27</td><td>1.41</td><td>1.36</td><td>B_Bk</td><td>mineral</td></tr><tr><th>10</th><td>50ND075007_40A0067</td><td>40A00476</td><td>48.8083</td><td>-101.707</td><td>19/09/1950</td><td>0</td><td>15</td><td>2.42</td><td>1.32</td><td>1.4</td><td>A_Ap</td><td>mineral</td></tr><tr><th>11</th><td>50ND075007_40A0067</td><td>40A00477</td><td>48.8083</td><td>-101.707</td><td>19/09/1950</td><td>15</td><td>41</td><td>0.69</td><td>1.34</td><td>1.33</td><td>B_Bk1</td><td>mineral</td></tr><tr><th>12</th><td>50ND075007_40A0067</td><td>40A00478</td><td>48.8083</td><td>-101.707</td><td>19/09/1950</td><td>41</td><td>66</td><td>0.26</td><td>1.41</td><td>1.33</td><td>B_Bk2</td><td>mineral</td></tr><tr><th>13</th><td>50ND075007_40A0067</td><td>40A00479</td><td>48.8083</td><td>-101.707</td><td>19/09/1950</td><td>66</td><td>91</td><td>0.19</td><td>1.42</td><td>1.3</td><td>B_B1</td><td>mineral</td></tr><tr><th>14</th><td>50ND075007_40A0067</td><td>40A00480</td><td>48.8083</td><td>-101.707</td><td>19/09/1950</td><td>91</td><td>100</td><td>0.18</td><td>1.42</td><td>1.33</td><td>B_B2</td><td>mineral</td></tr><tr><th>15</th><td>59ND045001_40A0102</td><td>40A00729</td><td>46.4494</td><td>-98.37</td><td>21/08/1959</td><td>0</td><td>15</td><td>1.97</td><td>1.46</td><td>1.5</td><td>A_Ap</td><td>mineral</td></tr><tr><th>16</th><td>59ND045001_40A0102</td><td>40A00730</td><td>46.4494</td><td>-98.37</td><td>21/08/1959</td><td>15</td><td>30</td><td>1.0</td><td>1.51</td><td>1.45</td><td>B_B</td><td>mineral</td></tr><tr><th>17</th><td>59ND045001_40A0102</td><td>40A00731</td><td>46.4494</td><td>-98.37</td><td>21/08/1959</td><td>30</td><td>41</td><td>0.65</td><td>1.56</td><td>1.51</td><td>A_Apb</td><td>mineral</td></tr><tr><th>18</th><td>59ND045001_40A0102</td><td>40A00732</td><td>46.4494</td><td>-98.37</td><td>21/08/1959</td><td>41</td><td>51</td><td>0.43</td><td>1.54</td><td>1.45</td><td>B_Bb1</td><td>mineral</td></tr><tr><th>19</th><td>59ND045001_40A0102</td><td>40A00733</td><td>46.4494</td><td>-98.37</td><td>21/08/1959</td><td>51</td><td>58</td><td>0.2</td><td>1.55</td><td>1.47</td><td>B_Bb2</td><td>mineral</td></tr><tr><th>20</th><td>59ND045001_40A0102</td><td>40A00734</td><td>46.4494</td><td>-98.37</td><td>21/08/1959</td><td>58</td><td>81</td><td>0.08</td><td>1.58</td><td>1.45</td><td>C_C1</td><td>mineral</td></tr><tr><th>&vellip;</th><td>&vellip;</td><td>&vellip;</td><td>&vellip;</td><td>&vellip;</td><td>&vellip;</td><td>&vellip;</td><td>&vellip;</td><td>&vellip;</td><td>&vellip;</td><td>&vellip;</td><td>&vellip;</td><td>&vellip;</td></tr></tbody></table>"
      ],
      "text/latex": [
       "\\begin{tabular}{r|cccccccccccc}\n",
       "\t& sp\\_name & layer\\_name & lat\\_dec\\_deg & long\\_dec\\_deg & obs\\_date\\_yyyymmdd & layer\\_top\\_cm & layer\\_bot\\_cm & oc\\_percent & bd\\_organic & bd\\_mineral & hzn\\_merged & infer\\_DESIG\\\\\n",
       "\t\\hline\n",
       "\t& String & String & Float64 & Float64 & String? & Int64 & Int64 & Float64 & Float64 & Float64 & String & String\\\\\n",
       "\t\\hline\n",
       "\t1 & 50ND075005\\_40A0001 & 40A00001 & 48.805 & -101.735 & 19/09/1950 & 0 & 23 & 2.99 & 1.36 & 1.44 & A\\_Ap & mineral \\\\\n",
       "\t2 & 50ND075005\\_40A0001 & 40A00002 & 48.805 & -101.735 & 19/09/1950 & 23 & 33 & 0.93 & 1.24 & 1.36 & A\\_A & mineral \\\\\n",
       "\t3 & 50ND075005\\_40A0001 & 40A00003 & 48.805 & -101.735 & 19/09/1950 & 33 & 48 & 0.7 & 1.35 & 1.38 & B\\_Bw & mineral \\\\\n",
       "\t4 & 50ND075005\\_40A0001 & 40A00004 & 48.805 & -101.735 & 19/09/1950 & 48 & 97 & 0.34 & 1.43 & 1.36 & B\\_Bk & mineral \\\\\n",
       "\t5 & 50ND075005\\_40A0001 & 40A00005 & 48.805 & -101.735 & 19/09/1950 & 97 & 100 & 0.2 & 1.43 & 1.31 & B\\_B21 & mineral \\\\\n",
       "\t6 & 50ND075003\\_40A0013 & 40A00094 & 48.9366 & -101.585 & 18/09/1950 & 0 & 15 & 2.42 & 1.46 & 1.5 & A\\_Ap & mineral \\\\\n",
       "\t7 & 50ND075003\\_40A0013 & 40A00095 & 48.9366 & -101.585 & 18/09/1950 & 15 & 25 & 0.98 & 1.34 & 1.36 & B\\_Bw1 & mineral \\\\\n",
       "\t8 & 50ND075003\\_40A0013 & 40A00096 & 48.9366 & -101.585 & 18/09/1950 & 25 & 46 & 0.76 & 1.41 & 1.37 & B\\_Bw2 & mineral \\\\\n",
       "\t9 & 50ND075003\\_40A0013 & 40A00097 & 48.9366 & -101.585 & 18/09/1950 & 46 & 100 & 0.27 & 1.41 & 1.36 & B\\_Bk & mineral \\\\\n",
       "\t10 & 50ND075007\\_40A0067 & 40A00476 & 48.8083 & -101.707 & 19/09/1950 & 0 & 15 & 2.42 & 1.32 & 1.4 & A\\_Ap & mineral \\\\\n",
       "\t11 & 50ND075007\\_40A0067 & 40A00477 & 48.8083 & -101.707 & 19/09/1950 & 15 & 41 & 0.69 & 1.34 & 1.33 & B\\_Bk1 & mineral \\\\\n",
       "\t12 & 50ND075007\\_40A0067 & 40A00478 & 48.8083 & -101.707 & 19/09/1950 & 41 & 66 & 0.26 & 1.41 & 1.33 & B\\_Bk2 & mineral \\\\\n",
       "\t13 & 50ND075007\\_40A0067 & 40A00479 & 48.8083 & -101.707 & 19/09/1950 & 66 & 91 & 0.19 & 1.42 & 1.3 & B\\_B1 & mineral \\\\\n",
       "\t14 & 50ND075007\\_40A0067 & 40A00480 & 48.8083 & -101.707 & 19/09/1950 & 91 & 100 & 0.18 & 1.42 & 1.33 & B\\_B2 & mineral \\\\\n",
       "\t15 & 59ND045001\\_40A0102 & 40A00729 & 46.4494 & -98.37 & 21/08/1959 & 0 & 15 & 1.97 & 1.46 & 1.5 & A\\_Ap & mineral \\\\\n",
       "\t16 & 59ND045001\\_40A0102 & 40A00730 & 46.4494 & -98.37 & 21/08/1959 & 15 & 30 & 1.0 & 1.51 & 1.45 & B\\_B & mineral \\\\\n",
       "\t17 & 59ND045001\\_40A0102 & 40A00731 & 46.4494 & -98.37 & 21/08/1959 & 30 & 41 & 0.65 & 1.56 & 1.51 & A\\_Apb & mineral \\\\\n",
       "\t18 & 59ND045001\\_40A0102 & 40A00732 & 46.4494 & -98.37 & 21/08/1959 & 41 & 51 & 0.43 & 1.54 & 1.45 & B\\_Bb1 & mineral \\\\\n",
       "\t19 & 59ND045001\\_40A0102 & 40A00733 & 46.4494 & -98.37 & 21/08/1959 & 51 & 58 & 0.2 & 1.55 & 1.47 & B\\_Bb2 & mineral \\\\\n",
       "\t20 & 59ND045001\\_40A0102 & 40A00734 & 46.4494 & -98.37 & 21/08/1959 & 58 & 81 & 0.08 & 1.58 & 1.45 & C\\_C1 & mineral \\\\\n",
       "\t$\\dots$ & $\\dots$ & $\\dots$ & $\\dots$ & $\\dots$ & $\\dots$ & $\\dots$ & $\\dots$ & $\\dots$ & $\\dots$ & $\\dots$ & $\\dots$ & $\\dots$ \\\\\n",
       "\\end{tabular}\n"
      ],
      "text/plain": [
       "66383×12 DataFrame\n",
       "│ Row   │ sp_name            │ layer_name │ lat_dec_deg │ long_dec_deg │ obs_date_yyyymmdd │ layer_top_cm │ layer_bot_cm │ oc_percent │ bd_organic │ bd_mineral │ hzn_merged │ infer_DESIG │\n",
       "│       │ \u001b[90mString\u001b[39m             │ \u001b[90mString\u001b[39m     │ \u001b[90mFloat64\u001b[39m     │ \u001b[90mFloat64\u001b[39m      │ \u001b[90mString?\u001b[39m           │ \u001b[90mInt64\u001b[39m        │ \u001b[90mInt64\u001b[39m        │ \u001b[90mFloat64\u001b[39m    │ \u001b[90mFloat64\u001b[39m    │ \u001b[90mFloat64\u001b[39m    │ \u001b[90mString\u001b[39m     │ \u001b[90mString\u001b[39m      │\n",
       "├───────┼────────────────────┼────────────┼─────────────┼──────────────┼───────────────────┼──────────────┼──────────────┼────────────┼────────────┼────────────┼────────────┼─────────────┤\n",
       "│ 1     │ 50ND075005_40A0001 │ 40A00001   │ 48.805      │ -101.735     │ 19/09/1950        │ 0            │ 23           │ 2.99       │ 1.36       │ 1.44       │ A_Ap       │ mineral     │\n",
       "│ 2     │ 50ND075005_40A0001 │ 40A00002   │ 48.805      │ -101.735     │ 19/09/1950        │ 23           │ 33           │ 0.93       │ 1.24       │ 1.36       │ A_A        │ mineral     │\n",
       "│ 3     │ 50ND075005_40A0001 │ 40A00003   │ 48.805      │ -101.735     │ 19/09/1950        │ 33           │ 48           │ 0.7        │ 1.35       │ 1.38       │ B_Bw       │ mineral     │\n",
       "│ 4     │ 50ND075005_40A0001 │ 40A00004   │ 48.805      │ -101.735     │ 19/09/1950        │ 48           │ 97           │ 0.34       │ 1.43       │ 1.36       │ B_Bk       │ mineral     │\n",
       "│ 5     │ 50ND075005_40A0001 │ 40A00005   │ 48.805      │ -101.735     │ 19/09/1950        │ 97           │ 100          │ 0.2        │ 1.43       │ 1.31       │ B_B21      │ mineral     │\n",
       "⋮\n",
       "│ 66378 │ 4 SW_3005004       │ 3005004,3  │ 47.4167     │ 8.0          │ 1950              │ 50           │ 65           │ 0.29       │ 1.26       │ 1.25       │            │ mineral     │\n",
       "│ 66379 │ 4 SW_3005004       │ 3005004,4  │ 47.4167     │ 8.0          │ 1950              │ 65           │ 100          │ 0.3        │ 1.37       │ 1.33       │            │ mineral     │\n",
       "│ 66380 │ 5 SW_3005005       │ 3005005,1  │ 47.4167     │ 8.0          │ 1950              │ 0            │ 20           │ 2.73       │ 1.31       │ 1.34       │            │ mineral     │\n",
       "│ 66381 │ 5 SW_3005005       │ 3005005,2  │ 47.4167     │ 8.0          │ 1950              │ 20           │ 60           │ 0.97       │ 1.28       │ 1.27       │            │ mineral     │\n",
       "│ 66382 │ 5 SW_3005005       │ 3005005,3  │ 47.4167     │ 8.0          │ 1950              │ 60           │ 80           │ 0.75       │ 1.3        │ 1.26       │            │ mineral     │\n",
       "│ 66383 │ 5 SW_3005005       │ 3005005,4  │ 47.4167     │ 8.0          │ 1950              │ 80           │ 100          │ 0.44       │ 1.37       │ 1.33       │            │ mineral     │"
      ]
     },
     "execution_count": 16,
     "metadata": {},
     "output_type": "execute_result"
    }
   ],
   "source": [
    "df_hz_clipped = compute_clipped_profiles(df_hz)"
   ]
  },
  {
   "cell_type": "markdown",
   "metadata": {},
   "source": [
    "#### For the ISCN dataset, organic carbon stock can be calculated as:\n",
    "\n",
    "( 100cm * 100cm * layer\\_height [cm] * bulk\\_density [g/cm³] * oc_percent / 100 ) / 1000 \n",
    "\n",
    "ORG carbon stock in [Kg]"
   ]
  },
  {
   "cell_type": "code",
   "execution_count": 17,
   "metadata": {},
   "outputs": [
    {
     "data": {
      "text/plain": [
       "orgc_storage_desig (generic function with 1 method)"
      ]
     },
     "execution_count": 17,
     "metadata": {},
     "output_type": "execute_result"
    }
   ],
   "source": [
    "function orgc_storage_desig(profile) \n",
    "\n",
    "id = profile.sp_name[1]\n",
    "top = profile.layer_top_cm\n",
    "bot = profile.layer_bot_cm\n",
    "des = profile.infer_DESIG\n",
    "\n",
    "org_bd = profile.bd_organic #[g/cm³]\n",
    "min_bd = profile.bd_mineral\n",
    "\n",
    "orgc = profile.oc_percent #[%]\n",
    "\n",
    "layer_height = (bot.-top)\n",
    "num_layers = length(top)\n",
    "\n",
    "orgc_stored_mineral = 0.0\n",
    "orgc_stored_organic = 0.0\n",
    "\n",
    "\n",
    "for l in 1:num_layers\n",
    "    #using different BD values depending on layer designation\n",
    "    if des[l] == \"organic\"; orgc_stored_organic += ( 100 * 100 * layer_height[l] ) * ( org_bd[l] * orgc[l] / 100 ) / 1000; end\n",
    "    if des[l] == \"mineral\"; orgc_stored_mineral += ( 100 * 100 * layer_height[l] ) * ( min_bd[l] * orgc[l] / 100 ) / 1000; end\n",
    "\n",
    "end\n",
    "\n",
    "return DataFrame(profile_id = id, \n",
    "                 orgc_stored_mineral = orgc_stored_mineral, \n",
    "                 orgc_stored_organic = orgc_stored_organic)\n",
    "end"
   ]
  },
  {
   "cell_type": "code",
   "execution_count": 18,
   "metadata": {},
   "outputs": [
    {
     "data": {
      "text/plain": [
       "compute_orgc_storage_desig (generic function with 1 method)"
      ]
     },
     "execution_count": 18,
     "metadata": {},
     "output_type": "execute_result"
    }
   ],
   "source": [
    "function compute_orgc_storage_desig(df)\n",
    "\n",
    "    unique_profiles = unique(df.sp_name)\n",
    "\n",
    "    #initialize result var with 1st call to function\n",
    "    result = orgc_storage_desig(df[df.sp_name .== unique_profiles[1],:])\n",
    "\n",
    "    for profile in unique_profiles[2:end]\n",
    "\n",
    "        append!(result, orgc_storage_desig(df[df.sp_name .== profile,:]))\n",
    "\n",
    "    end\n",
    "\n",
    "    return result\n",
    "end"
   ]
  },
  {
   "cell_type": "code",
   "execution_count": 19,
   "metadata": {},
   "outputs": [
    {
     "data": {
      "text/html": [
       "<table class=\"data-frame\"><thead><tr><th></th><th>profile_id</th><th>orgc_stored_mineral</th><th>orgc_stored_organic</th></tr><tr><th></th><th>String</th><th>Float64</th><th>Float64</th></tr></thead><tbody><p>19,250 rows × 3 columns</p><tr><th>1</th><td>50ND075005_40A0001</td><td>16.8477</td><td>0.0</td></tr><tr><th>2</th><td>50ND075003_40A0013</td><td>13.095</td><td>0.0</td></tr><tr><th>3</th><td>50ND075007_40A0067</td><td>11.2555</td><td>0.0</td></tr><tr><th>4</th><td>59ND045001_40A0102</td><td>9.00305</td><td>0.0</td></tr><tr><th>5</th><td>50ND075006_40A0107</td><td>20.3409</td><td>0.0</td></tr><tr><th>6</th><td>50ND075008_40A0111</td><td>20.3598</td><td>0.0</td></tr><tr><th>7</th><td>50ND075009_40A0130</td><td>15.3723</td><td>0.0</td></tr><tr><th>8</th><td>50ND075010_40A0131</td><td>17.5185</td><td>0.0</td></tr><tr><th>9</th><td>S1949CO049005_40A0138</td><td>4.76136</td><td>0.0</td></tr><tr><th>10</th><td>S1949CO049007_40A0140</td><td>9.11452</td><td>0.0</td></tr><tr><th>11</th><td>S1964TN157003_40A0158</td><td>5.61786</td><td>0.0</td></tr><tr><th>12</th><td>S1958WV025003_40A0162</td><td>6.72175</td><td>0.0</td></tr><tr><th>13</th><td>67FN220000_40A0165</td><td>35.7636</td><td>0.0</td></tr><tr><th>14</th><td>S1960NM013002_40A0169</td><td>2.61672</td><td>0.0</td></tr><tr><th>15</th><td>S1964AZ003018_40A0187</td><td>5.15239</td><td>0.0</td></tr><tr><th>16</th><td>S1961NM013007_40A0190</td><td>2.34694</td><td>0.0</td></tr><tr><th>17</th><td>S1967TX141003_40A0197</td><td>7.87208</td><td>0.0</td></tr><tr><th>18</th><td>S1965HI001013_40A0204</td><td>31.9361</td><td>0.0</td></tr><tr><th>19</th><td>S1960MA003007_40A0206</td><td>7.4403</td><td>0.0</td></tr><tr><th>20</th><td>S1961PR047002_40A0209</td><td>6.09333</td><td>0.0</td></tr><tr><th>&vellip;</th><td>&vellip;</td><td>&vellip;</td><td>&vellip;</td></tr></tbody></table>"
      ],
      "text/latex": [
       "\\begin{tabular}{r|ccc}\n",
       "\t& profile\\_id & orgc\\_stored\\_mineral & orgc\\_stored\\_organic\\\\\n",
       "\t\\hline\n",
       "\t& String & Float64 & Float64\\\\\n",
       "\t\\hline\n",
       "\t1 & 50ND075005\\_40A0001 & 16.8477 & 0.0 \\\\\n",
       "\t2 & 50ND075003\\_40A0013 & 13.095 & 0.0 \\\\\n",
       "\t3 & 50ND075007\\_40A0067 & 11.2555 & 0.0 \\\\\n",
       "\t4 & 59ND045001\\_40A0102 & 9.00305 & 0.0 \\\\\n",
       "\t5 & 50ND075006\\_40A0107 & 20.3409 & 0.0 \\\\\n",
       "\t6 & 50ND075008\\_40A0111 & 20.3598 & 0.0 \\\\\n",
       "\t7 & 50ND075009\\_40A0130 & 15.3723 & 0.0 \\\\\n",
       "\t8 & 50ND075010\\_40A0131 & 17.5185 & 0.0 \\\\\n",
       "\t9 & S1949CO049005\\_40A0138 & 4.76136 & 0.0 \\\\\n",
       "\t10 & S1949CO049007\\_40A0140 & 9.11452 & 0.0 \\\\\n",
       "\t11 & S1964TN157003\\_40A0158 & 5.61786 & 0.0 \\\\\n",
       "\t12 & S1958WV025003\\_40A0162 & 6.72175 & 0.0 \\\\\n",
       "\t13 & 67FN220000\\_40A0165 & 35.7636 & 0.0 \\\\\n",
       "\t14 & S1960NM013002\\_40A0169 & 2.61672 & 0.0 \\\\\n",
       "\t15 & S1964AZ003018\\_40A0187 & 5.15239 & 0.0 \\\\\n",
       "\t16 & S1961NM013007\\_40A0190 & 2.34694 & 0.0 \\\\\n",
       "\t17 & S1967TX141003\\_40A0197 & 7.87208 & 0.0 \\\\\n",
       "\t18 & S1965HI001013\\_40A0204 & 31.9361 & 0.0 \\\\\n",
       "\t19 & S1960MA003007\\_40A0206 & 7.4403 & 0.0 \\\\\n",
       "\t20 & S1961PR047002\\_40A0209 & 6.09333 & 0.0 \\\\\n",
       "\t$\\dots$ & $\\dots$ & $\\dots$ & $\\dots$ \\\\\n",
       "\\end{tabular}\n"
      ],
      "text/plain": [
       "19250×3 DataFrame\n",
       "│ Row   │ profile_id         │ orgc_stored_mineral │ orgc_stored_organic │\n",
       "│       │ \u001b[90mString\u001b[39m             │ \u001b[90mFloat64\u001b[39m             │ \u001b[90mFloat64\u001b[39m             │\n",
       "├───────┼────────────────────┼─────────────────────┼─────────────────────┤\n",
       "│ 1     │ 50ND075005_40A0001 │ 16.8477             │ 0.0                 │\n",
       "│ 2     │ 50ND075003_40A0013 │ 13.095              │ 0.0                 │\n",
       "│ 3     │ 50ND075007_40A0067 │ 11.2555             │ 0.0                 │\n",
       "│ 4     │ 59ND045001_40A0102 │ 9.00305             │ 0.0                 │\n",
       "│ 5     │ 50ND075006_40A0107 │ 20.3409             │ 0.0                 │\n",
       "⋮\n",
       "│ 19245 │ TY30 JP_7003030    │ 25.7355             │ 0.0                 │\n",
       "│ 19246 │ TY31 JP_7003031    │ 18.5463             │ 0.0                 │\n",
       "│ 19247 │ TY32 JP_7003032    │ 88.2206             │ 0.0                 │\n",
       "│ 19248 │ TY33 JP_7003033    │ 34.3816             │ 0.0                 │\n",
       "│ 19249 │ TY34 JP_7003034    │ 20.0657             │ 0.0                 │\n",
       "│ 19250 │ TY35 JP_7003035    │ 99.4392             │ 0.0                 │"
      ]
     },
     "execution_count": 19,
     "metadata": {},
     "output_type": "execute_result"
    }
   ],
   "source": [
    "#compute stored ORGC for continuous, not clipped, profiles\n",
    "df_storage_cont = compute_orgc_storage_desig(df_hz)"
   ]
  },
  {
   "cell_type": "code",
   "execution_count": 20,
   "metadata": {},
   "outputs": [],
   "source": [
    "#compute stored ORGC for continuous and clipped profiles\n",
    "df_storage_clipped = compute_orgc_storage_desig(df_hz_clipped);"
   ]
  },
  {
   "cell_type": "code",
   "execution_count": 21,
   "metadata": {},
   "outputs": [
    {
     "data": {
      "text/html": [
       "<table class=\"data-frame\"><thead><tr><th></th><th>profile_id</th><th>lat_dec_deg</th><th>long_dec_deg</th><th>obs_date_yyyymmdd</th></tr><tr><th></th><th>String</th><th>Float64</th><th>Float64</th><th>String?</th></tr></thead><tbody><p>19,250 rows × 4 columns</p><tr><th>1</th><td>50ND075005_40A0001</td><td>48.805</td><td>-101.735</td><td>19/09/1950</td></tr><tr><th>2</th><td>50ND075003_40A0013</td><td>48.9366</td><td>-101.585</td><td>18/09/1950</td></tr><tr><th>3</th><td>50ND075007_40A0067</td><td>48.8083</td><td>-101.707</td><td>19/09/1950</td></tr><tr><th>4</th><td>59ND045001_40A0102</td><td>46.4494</td><td>-98.37</td><td>21/08/1959</td></tr><tr><th>5</th><td>50ND075006_40A0107</td><td>48.8211</td><td>-101.747</td><td>19/09/1950</td></tr><tr><th>6</th><td>50ND075008_40A0111</td><td>48.8991</td><td>-101.554</td><td>20/09/1950</td></tr><tr><th>7</th><td>50ND075009_40A0130</td><td>48.9427</td><td>-101.587</td><td>20/09/1950</td></tr><tr><th>8</th><td>50ND075010_40A0131</td><td>48.9153</td><td>-101.606</td><td>20/09/1950</td></tr><tr><th>9</th><td>S1949CO049005_40A0138</td><td>-300.0</td><td>-300.0</td><td>02/09/1949</td></tr><tr><th>10</th><td>S1949CO049007_40A0140</td><td>-300.0</td><td>-300.0</td><td>31/08/1949</td></tr><tr><th>11</th><td>S1964TN157003_40A0158</td><td>-300.0</td><td>-300.0</td><td>01/03/1964</td></tr><tr><th>12</th><td>S1958WV025003_40A0162</td><td>-300.0</td><td>-300.0</td><td>01/06/1958</td></tr><tr><th>13</th><td>67FN220000_40A0165</td><td>-15.6667</td><td>-47.7833</td><td>01/03/1967</td></tr><tr><th>14</th><td>S1960NM013002_40A0169</td><td>32.3168</td><td>-106.767</td><td>12/11/1960</td></tr><tr><th>15</th><td>S1964AZ003018_40A0187</td><td>32.4004</td><td>-109.961</td><td>19/10/1964</td></tr><tr><th>16</th><td>S1961NM013007_40A0190</td><td>32.2974</td><td>-106.908</td><td>05/05/1961</td></tr><tr><th>17</th><td>S1967TX141003_40A0197</td><td>31.5417</td><td>-106.192</td><td>02/03/1967</td></tr><tr><th>18</th><td>S1965HI001013_40A0204</td><td>19.9083</td><td>-155.392</td><td>09/04/1965</td></tr><tr><th>19</th><td>S1960MA003007_40A0206</td><td>42.2139</td><td>-73.4056</td><td>09/06/1960</td></tr><tr><th>20</th><td>S1961PR047002_40A0209</td><td>18.2417</td><td>-66.2839</td><td>12/03/1961</td></tr><tr><th>&vellip;</th><td>&vellip;</td><td>&vellip;</td><td>&vellip;</td><td>&vellip;</td></tr></tbody></table>"
      ],
      "text/latex": [
       "\\begin{tabular}{r|cccc}\n",
       "\t& profile\\_id & lat\\_dec\\_deg & long\\_dec\\_deg & obs\\_date\\_yyyymmdd\\\\\n",
       "\t\\hline\n",
       "\t& String & Float64 & Float64 & String?\\\\\n",
       "\t\\hline\n",
       "\t1 & 50ND075005\\_40A0001 & 48.805 & -101.735 & 19/09/1950 \\\\\n",
       "\t2 & 50ND075003\\_40A0013 & 48.9366 & -101.585 & 18/09/1950 \\\\\n",
       "\t3 & 50ND075007\\_40A0067 & 48.8083 & -101.707 & 19/09/1950 \\\\\n",
       "\t4 & 59ND045001\\_40A0102 & 46.4494 & -98.37 & 21/08/1959 \\\\\n",
       "\t5 & 50ND075006\\_40A0107 & 48.8211 & -101.747 & 19/09/1950 \\\\\n",
       "\t6 & 50ND075008\\_40A0111 & 48.8991 & -101.554 & 20/09/1950 \\\\\n",
       "\t7 & 50ND075009\\_40A0130 & 48.9427 & -101.587 & 20/09/1950 \\\\\n",
       "\t8 & 50ND075010\\_40A0131 & 48.9153 & -101.606 & 20/09/1950 \\\\\n",
       "\t9 & S1949CO049005\\_40A0138 & -300.0 & -300.0 & 02/09/1949 \\\\\n",
       "\t10 & S1949CO049007\\_40A0140 & -300.0 & -300.0 & 31/08/1949 \\\\\n",
       "\t11 & S1964TN157003\\_40A0158 & -300.0 & -300.0 & 01/03/1964 \\\\\n",
       "\t12 & S1958WV025003\\_40A0162 & -300.0 & -300.0 & 01/06/1958 \\\\\n",
       "\t13 & 67FN220000\\_40A0165 & -15.6667 & -47.7833 & 01/03/1967 \\\\\n",
       "\t14 & S1960NM013002\\_40A0169 & 32.3168 & -106.767 & 12/11/1960 \\\\\n",
       "\t15 & S1964AZ003018\\_40A0187 & 32.4004 & -109.961 & 19/10/1964 \\\\\n",
       "\t16 & S1961NM013007\\_40A0190 & 32.2974 & -106.908 & 05/05/1961 \\\\\n",
       "\t17 & S1967TX141003\\_40A0197 & 31.5417 & -106.192 & 02/03/1967 \\\\\n",
       "\t18 & S1965HI001013\\_40A0204 & 19.9083 & -155.392 & 09/04/1965 \\\\\n",
       "\t19 & S1960MA003007\\_40A0206 & 42.2139 & -73.4056 & 09/06/1960 \\\\\n",
       "\t20 & S1961PR047002\\_40A0209 & 18.2417 & -66.2839 & 12/03/1961 \\\\\n",
       "\t$\\dots$ & $\\dots$ & $\\dots$ & $\\dots$ & $\\dots$ \\\\\n",
       "\\end{tabular}\n"
      ],
      "text/plain": [
       "19250×4 DataFrame\n",
       "│ Row   │ profile_id         │ lat_dec_deg │ long_dec_deg │ obs_date_yyyymmdd │\n",
       "│       │ \u001b[90mString\u001b[39m             │ \u001b[90mFloat64\u001b[39m     │ \u001b[90mFloat64\u001b[39m      │ \u001b[90mString?\u001b[39m           │\n",
       "├───────┼────────────────────┼─────────────┼──────────────┼───────────────────┤\n",
       "│ 1     │ 50ND075005_40A0001 │ 48.805      │ -101.735     │ 19/09/1950        │\n",
       "│ 2     │ 50ND075003_40A0013 │ 48.9366     │ -101.585     │ 18/09/1950        │\n",
       "│ 3     │ 50ND075007_40A0067 │ 48.8083     │ -101.707     │ 19/09/1950        │\n",
       "│ 4     │ 59ND045001_40A0102 │ 46.4494     │ -98.37       │ 21/08/1959        │\n",
       "│ 5     │ 50ND075006_40A0107 │ 48.8211     │ -101.747     │ 19/09/1950        │\n",
       "⋮\n",
       "│ 19245 │ TY30 JP_7003030    │ 42.8333     │ 142.0        │ 1962              │\n",
       "│ 19246 │ TY31 JP_7003031    │ 43.8333     │ 144.0        │ 1962              │\n",
       "│ 19247 │ TY32 JP_7003032    │ 43.8333     │ 145.0        │ 1962              │\n",
       "│ 19248 │ TY33 JP_7003033    │ 43.0        │ 144.833      │ 1962              │\n",
       "│ 19249 │ TY34 JP_7003034    │ 43.0        │ 142.0        │ 1962              │\n",
       "│ 19250 │ TY35 JP_7003035    │ 43.0        │ 144.0        │ 1962              │"
      ]
     },
     "execution_count": 21,
     "metadata": {},
     "output_type": "execute_result"
    }
   ],
   "source": [
    "#profiles' info from the original dataset\n",
    "df_info = df_hz[:,[:sp_name, :lat_dec_deg, :long_dec_deg, :obs_date_yyyymmdd]]\n",
    "rename!(df_info, :sp_name => :profile_id )\n",
    "unique!(df_info)"
   ]
  },
  {
   "cell_type": "code",
   "execution_count": 22,
   "metadata": {},
   "outputs": [
    {
     "data": {
      "text/plain": [
       "depth_desig (generic function with 1 method)"
      ]
     },
     "execution_count": 22,
     "metadata": {},
     "output_type": "execute_result"
    }
   ],
   "source": [
    "function depth_desig(profile) \n",
    "\n",
    "    id = profile.sp_name[1]\n",
    "    des = profile.infer_DESIG\n",
    "    top = profile.layer_top_cm\n",
    "    bot = profile.layer_bot_cm\n",
    "\n",
    "    missing_val = -1\n",
    "\n",
    "    num_layers = length(top)\n",
    "\n",
    "    mineral_index = [i for i in 1:num_layers if des[i] == \"mineral\"]\n",
    "    organic_index = [i for i in 1:num_layers if des[i] == \"organic\"]\n",
    "\n",
    "    #values to return\n",
    "\n",
    "    profile_top = minimum(top)\n",
    "    profile_bot = maximum(bot)\n",
    "\n",
    "    mineral_top = isempty(mineral_index) ? missing_val : minimum(top[mineral_index])\n",
    "    mineral_bot = isempty(mineral_index) ? missing_val : maximum(bot[mineral_index])\n",
    "\n",
    "    organic_top = isempty(organic_index) ? missing_val : minimum(top[organic_index])\n",
    "    organic_bot = isempty(organic_index) ? missing_val : maximum(bot[organic_index])\n",
    "\n",
    "\n",
    "    return DataFrame(profile_id = id, \n",
    "                     profile_top = profile_top,\n",
    "                     profile_bot = profile_bot,\n",
    "                     organic_top = organic_top,\n",
    "                     organic_bot = organic_bot,\n",
    "                     mineral_top = mineral_top,\n",
    "                     mineral_bot = mineral_bot)\n",
    "\n",
    "\n",
    "end"
   ]
  },
  {
   "cell_type": "code",
   "execution_count": 23,
   "metadata": {},
   "outputs": [
    {
     "data": {
      "text/plain": [
       "compute_depth_desig (generic function with 1 method)"
      ]
     },
     "execution_count": 23,
     "metadata": {},
     "output_type": "execute_result"
    }
   ],
   "source": [
    "function compute_depth_desig(df)\n",
    "\n",
    "    unique_profiles = unique(df.sp_name)\n",
    "\n",
    "    #initialize results with 1st call to function\n",
    "    result = depth_desig(df[df.sp_name .== unique_profiles[1],:])\n",
    "\n",
    "    for profile in unique_profiles[2:end]\n",
    "\n",
    "        append!(result, depth_desig(df[df.sp_name .== profile,:]))\n",
    "\n",
    "    end\n",
    "\n",
    "    return result\n",
    "end"
   ]
  },
  {
   "cell_type": "code",
   "execution_count": 24,
   "metadata": {},
   "outputs": [
    {
     "data": {
      "text/html": [
       "<table class=\"data-frame\"><thead><tr><th></th><th>profile_id</th><th>profile_top</th><th>profile_bot</th><th>organic_top</th><th>organic_bot</th><th>mineral_top</th><th>mineral_bot</th></tr><tr><th></th><th>String</th><th>Int64</th><th>Int64</th><th>Int64</th><th>Int64</th><th>Int64</th><th>Int64</th></tr></thead><tbody><p>19,250 rows × 7 columns</p><tr><th>1</th><td>50ND075005_40A0001</td><td>0</td><td>183</td><td>-1</td><td>-1</td><td>0</td><td>183</td></tr><tr><th>2</th><td>50ND075003_40A0013</td><td>0</td><td>213</td><td>-1</td><td>-1</td><td>0</td><td>213</td></tr><tr><th>3</th><td>50ND075007_40A0067</td><td>0</td><td>183</td><td>-1</td><td>-1</td><td>0</td><td>183</td></tr><tr><th>4</th><td>59ND045001_40A0102</td><td>0</td><td>124</td><td>-1</td><td>-1</td><td>0</td><td>124</td></tr><tr><th>5</th><td>50ND075006_40A0107</td><td>0</td><td>229</td><td>-1</td><td>-1</td><td>0</td><td>229</td></tr><tr><th>6</th><td>50ND075008_40A0111</td><td>0</td><td>203</td><td>-1</td><td>-1</td><td>0</td><td>203</td></tr><tr><th>7</th><td>50ND075009_40A0130</td><td>0</td><td>183</td><td>-1</td><td>-1</td><td>0</td><td>183</td></tr><tr><th>8</th><td>50ND075010_40A0131</td><td>0</td><td>183</td><td>-1</td><td>-1</td><td>0</td><td>183</td></tr><tr><th>9</th><td>S1949CO049005_40A0138</td><td>0</td><td>71</td><td>-1</td><td>-1</td><td>0</td><td>71</td></tr><tr><th>10</th><td>S1949CO049007_40A0140</td><td>0</td><td>86</td><td>-1</td><td>-1</td><td>0</td><td>86</td></tr><tr><th>11</th><td>S1964TN157003_40A0158</td><td>0</td><td>305</td><td>-1</td><td>-1</td><td>0</td><td>305</td></tr><tr><th>12</th><td>S1958WV025003_40A0162</td><td>0</td><td>58</td><td>-1</td><td>-1</td><td>0</td><td>58</td></tr><tr><th>13</th><td>67FN220000_40A0165</td><td>0</td><td>310</td><td>-1</td><td>-1</td><td>0</td><td>310</td></tr><tr><th>14</th><td>S1960NM013002_40A0169</td><td>0</td><td>89</td><td>-1</td><td>-1</td><td>0</td><td>89</td></tr><tr><th>15</th><td>S1964AZ003018_40A0187</td><td>0</td><td>235</td><td>-1</td><td>-1</td><td>0</td><td>235</td></tr><tr><th>16</th><td>S1961NM013007_40A0190</td><td>0</td><td>150</td><td>-1</td><td>-1</td><td>0</td><td>150</td></tr><tr><th>17</th><td>S1967TX141003_40A0197</td><td>0</td><td>150</td><td>-1</td><td>-1</td><td>0</td><td>150</td></tr><tr><th>18</th><td>S1965HI001013_40A0204</td><td>0</td><td>88</td><td>-1</td><td>-1</td><td>0</td><td>88</td></tr><tr><th>19</th><td>S1960MA003007_40A0206</td><td>0</td><td>152</td><td>-1</td><td>-1</td><td>0</td><td>152</td></tr><tr><th>20</th><td>S1961PR047002_40A0209</td><td>0</td><td>56</td><td>-1</td><td>-1</td><td>0</td><td>56</td></tr><tr><th>&vellip;</th><td>&vellip;</td><td>&vellip;</td><td>&vellip;</td><td>&vellip;</td><td>&vellip;</td><td>&vellip;</td><td>&vellip;</td></tr></tbody></table>"
      ],
      "text/latex": [
       "\\begin{tabular}{r|ccccccc}\n",
       "\t& profile\\_id & profile\\_top & profile\\_bot & organic\\_top & organic\\_bot & mineral\\_top & mineral\\_bot\\\\\n",
       "\t\\hline\n",
       "\t& String & Int64 & Int64 & Int64 & Int64 & Int64 & Int64\\\\\n",
       "\t\\hline\n",
       "\t1 & 50ND075005\\_40A0001 & 0 & 183 & -1 & -1 & 0 & 183 \\\\\n",
       "\t2 & 50ND075003\\_40A0013 & 0 & 213 & -1 & -1 & 0 & 213 \\\\\n",
       "\t3 & 50ND075007\\_40A0067 & 0 & 183 & -1 & -1 & 0 & 183 \\\\\n",
       "\t4 & 59ND045001\\_40A0102 & 0 & 124 & -1 & -1 & 0 & 124 \\\\\n",
       "\t5 & 50ND075006\\_40A0107 & 0 & 229 & -1 & -1 & 0 & 229 \\\\\n",
       "\t6 & 50ND075008\\_40A0111 & 0 & 203 & -1 & -1 & 0 & 203 \\\\\n",
       "\t7 & 50ND075009\\_40A0130 & 0 & 183 & -1 & -1 & 0 & 183 \\\\\n",
       "\t8 & 50ND075010\\_40A0131 & 0 & 183 & -1 & -1 & 0 & 183 \\\\\n",
       "\t9 & S1949CO049005\\_40A0138 & 0 & 71 & -1 & -1 & 0 & 71 \\\\\n",
       "\t10 & S1949CO049007\\_40A0140 & 0 & 86 & -1 & -1 & 0 & 86 \\\\\n",
       "\t11 & S1964TN157003\\_40A0158 & 0 & 305 & -1 & -1 & 0 & 305 \\\\\n",
       "\t12 & S1958WV025003\\_40A0162 & 0 & 58 & -1 & -1 & 0 & 58 \\\\\n",
       "\t13 & 67FN220000\\_40A0165 & 0 & 310 & -1 & -1 & 0 & 310 \\\\\n",
       "\t14 & S1960NM013002\\_40A0169 & 0 & 89 & -1 & -1 & 0 & 89 \\\\\n",
       "\t15 & S1964AZ003018\\_40A0187 & 0 & 235 & -1 & -1 & 0 & 235 \\\\\n",
       "\t16 & S1961NM013007\\_40A0190 & 0 & 150 & -1 & -1 & 0 & 150 \\\\\n",
       "\t17 & S1967TX141003\\_40A0197 & 0 & 150 & -1 & -1 & 0 & 150 \\\\\n",
       "\t18 & S1965HI001013\\_40A0204 & 0 & 88 & -1 & -1 & 0 & 88 \\\\\n",
       "\t19 & S1960MA003007\\_40A0206 & 0 & 152 & -1 & -1 & 0 & 152 \\\\\n",
       "\t20 & S1961PR047002\\_40A0209 & 0 & 56 & -1 & -1 & 0 & 56 \\\\\n",
       "\t$\\dots$ & $\\dots$ & $\\dots$ & $\\dots$ & $\\dots$ & $\\dots$ & $\\dots$ & $\\dots$ \\\\\n",
       "\\end{tabular}\n"
      ],
      "text/plain": [
       "19250×7 DataFrame\n",
       "│ Row   │ profile_id         │ profile_top │ profile_bot │ organic_top │ organic_bot │ mineral_top │ mineral_bot │\n",
       "│       │ \u001b[90mString\u001b[39m             │ \u001b[90mInt64\u001b[39m       │ \u001b[90mInt64\u001b[39m       │ \u001b[90mInt64\u001b[39m       │ \u001b[90mInt64\u001b[39m       │ \u001b[90mInt64\u001b[39m       │ \u001b[90mInt64\u001b[39m       │\n",
       "├───────┼────────────────────┼─────────────┼─────────────┼─────────────┼─────────────┼─────────────┼─────────────┤\n",
       "│ 1     │ 50ND075005_40A0001 │ 0           │ 183         │ -1          │ -1          │ 0           │ 183         │\n",
       "│ 2     │ 50ND075003_40A0013 │ 0           │ 213         │ -1          │ -1          │ 0           │ 213         │\n",
       "│ 3     │ 50ND075007_40A0067 │ 0           │ 183         │ -1          │ -1          │ 0           │ 183         │\n",
       "│ 4     │ 59ND045001_40A0102 │ 0           │ 124         │ -1          │ -1          │ 0           │ 124         │\n",
       "│ 5     │ 50ND075006_40A0107 │ 0           │ 229         │ -1          │ -1          │ 0           │ 229         │\n",
       "⋮\n",
       "│ 19245 │ TY30 JP_7003030    │ 0           │ 40          │ -1          │ -1          │ 0           │ 40          │\n",
       "│ 19246 │ TY31 JP_7003031    │ 0           │ 47          │ -1          │ -1          │ 0           │ 47          │\n",
       "│ 19247 │ TY32 JP_7003032    │ 0           │ 49          │ -1          │ -1          │ 0           │ 49          │\n",
       "│ 19248 │ TY33 JP_7003033    │ 0           │ 45          │ -1          │ -1          │ 0           │ 45          │\n",
       "│ 19249 │ TY34 JP_7003034    │ 0           │ 49          │ -1          │ -1          │ 0           │ 49          │\n",
       "│ 19250 │ TY35 JP_7003035    │ 0           │ 75          │ -1          │ -1          │ 0           │ 75          │"
      ]
     },
     "execution_count": 24,
     "metadata": {},
     "output_type": "execute_result"
    }
   ],
   "source": [
    "#designations depths per profile (non clipped)\n",
    "df_cont_depth_desig = compute_depth_desig(df_hz)"
   ]
  },
  {
   "cell_type": "code",
   "execution_count": 25,
   "metadata": {},
   "outputs": [],
   "source": [
    "#designations depths per clipped profiles \n",
    "df_clipped_depth_desig = compute_depth_desig(df_hz_clipped);"
   ]
  },
  {
   "cell_type": "code",
   "execution_count": 26,
   "metadata": {},
   "outputs": [
    {
     "data": {
      "text/html": [
       "<table class=\"data-frame\"><thead><tr><th></th><th>profile_id</th><th>orgc_stored_mineral</th><th>orgc_stored_organic</th><th>profile_top</th><th>profile_bot</th><th>organic_top</th><th>organic_bot</th><th>mineral_top</th><th>mineral_bot</th><th>lat_dec_deg</th><th>long_dec_deg</th><th>obs_date_yyyymmdd</th></tr><tr><th></th><th>String</th><th>Float64</th><th>Float64</th><th>Int64</th><th>Int64</th><th>Int64</th><th>Int64</th><th>Int64</th><th>Int64</th><th>Float64</th><th>Float64</th><th>String?</th></tr></thead><tbody><p>19,250 rows × 12 columns</p><tr><th>1</th><td>50ND075005_40A0001</td><td>16.8477</td><td>0.0</td><td>0</td><td>183</td><td>-1</td><td>-1</td><td>0</td><td>183</td><td>48.805</td><td>-101.735</td><td>19/09/1950</td></tr><tr><th>2</th><td>50ND075003_40A0013</td><td>13.095</td><td>0.0</td><td>0</td><td>213</td><td>-1</td><td>-1</td><td>0</td><td>213</td><td>48.9366</td><td>-101.585</td><td>18/09/1950</td></tr><tr><th>3</th><td>50ND075007_40A0067</td><td>11.2555</td><td>0.0</td><td>0</td><td>183</td><td>-1</td><td>-1</td><td>0</td><td>183</td><td>48.8083</td><td>-101.707</td><td>19/09/1950</td></tr><tr><th>4</th><td>59ND045001_40A0102</td><td>9.00305</td><td>0.0</td><td>0</td><td>124</td><td>-1</td><td>-1</td><td>0</td><td>124</td><td>46.4494</td><td>-98.37</td><td>21/08/1959</td></tr><tr><th>5</th><td>50ND075006_40A0107</td><td>20.3409</td><td>0.0</td><td>0</td><td>229</td><td>-1</td><td>-1</td><td>0</td><td>229</td><td>48.8211</td><td>-101.747</td><td>19/09/1950</td></tr><tr><th>6</th><td>50ND075008_40A0111</td><td>20.3598</td><td>0.0</td><td>0</td><td>203</td><td>-1</td><td>-1</td><td>0</td><td>203</td><td>48.8991</td><td>-101.554</td><td>20/09/1950</td></tr><tr><th>7</th><td>50ND075009_40A0130</td><td>15.3723</td><td>0.0</td><td>0</td><td>183</td><td>-1</td><td>-1</td><td>0</td><td>183</td><td>48.9427</td><td>-101.587</td><td>20/09/1950</td></tr><tr><th>8</th><td>50ND075010_40A0131</td><td>17.5185</td><td>0.0</td><td>0</td><td>183</td><td>-1</td><td>-1</td><td>0</td><td>183</td><td>48.9153</td><td>-101.606</td><td>20/09/1950</td></tr><tr><th>9</th><td>S1949CO049005_40A0138</td><td>4.76136</td><td>0.0</td><td>0</td><td>71</td><td>-1</td><td>-1</td><td>0</td><td>71</td><td>-300.0</td><td>-300.0</td><td>02/09/1949</td></tr><tr><th>10</th><td>S1949CO049007_40A0140</td><td>9.11452</td><td>0.0</td><td>0</td><td>86</td><td>-1</td><td>-1</td><td>0</td><td>86</td><td>-300.0</td><td>-300.0</td><td>31/08/1949</td></tr><tr><th>11</th><td>S1964TN157003_40A0158</td><td>5.61786</td><td>0.0</td><td>0</td><td>305</td><td>-1</td><td>-1</td><td>0</td><td>305</td><td>-300.0</td><td>-300.0</td><td>01/03/1964</td></tr><tr><th>12</th><td>S1958WV025003_40A0162</td><td>6.72175</td><td>0.0</td><td>0</td><td>58</td><td>-1</td><td>-1</td><td>0</td><td>58</td><td>-300.0</td><td>-300.0</td><td>01/06/1958</td></tr><tr><th>13</th><td>67FN220000_40A0165</td><td>35.7636</td><td>0.0</td><td>0</td><td>310</td><td>-1</td><td>-1</td><td>0</td><td>310</td><td>-15.6667</td><td>-47.7833</td><td>01/03/1967</td></tr><tr><th>14</th><td>S1960NM013002_40A0169</td><td>2.61672</td><td>0.0</td><td>0</td><td>89</td><td>-1</td><td>-1</td><td>0</td><td>89</td><td>32.3168</td><td>-106.767</td><td>12/11/1960</td></tr><tr><th>15</th><td>S1964AZ003018_40A0187</td><td>5.15239</td><td>0.0</td><td>0</td><td>235</td><td>-1</td><td>-1</td><td>0</td><td>235</td><td>32.4004</td><td>-109.961</td><td>19/10/1964</td></tr><tr><th>16</th><td>S1961NM013007_40A0190</td><td>2.34694</td><td>0.0</td><td>0</td><td>150</td><td>-1</td><td>-1</td><td>0</td><td>150</td><td>32.2974</td><td>-106.908</td><td>05/05/1961</td></tr><tr><th>17</th><td>S1967TX141003_40A0197</td><td>7.87208</td><td>0.0</td><td>0</td><td>150</td><td>-1</td><td>-1</td><td>0</td><td>150</td><td>31.5417</td><td>-106.192</td><td>02/03/1967</td></tr><tr><th>18</th><td>S1965HI001013_40A0204</td><td>31.9361</td><td>0.0</td><td>0</td><td>88</td><td>-1</td><td>-1</td><td>0</td><td>88</td><td>19.9083</td><td>-155.392</td><td>09/04/1965</td></tr><tr><th>19</th><td>S1960MA003007_40A0206</td><td>7.4403</td><td>0.0</td><td>0</td><td>152</td><td>-1</td><td>-1</td><td>0</td><td>152</td><td>42.2139</td><td>-73.4056</td><td>09/06/1960</td></tr><tr><th>20</th><td>S1961PR047002_40A0209</td><td>6.09333</td><td>0.0</td><td>0</td><td>56</td><td>-1</td><td>-1</td><td>0</td><td>56</td><td>18.2417</td><td>-66.2839</td><td>12/03/1961</td></tr><tr><th>&vellip;</th><td>&vellip;</td><td>&vellip;</td><td>&vellip;</td><td>&vellip;</td><td>&vellip;</td><td>&vellip;</td><td>&vellip;</td><td>&vellip;</td><td>&vellip;</td><td>&vellip;</td><td>&vellip;</td><td>&vellip;</td></tr></tbody></table>"
      ],
      "text/latex": [
       "\\begin{tabular}{r|cccccccccccc}\n",
       "\t& profile\\_id & orgc\\_stored\\_mineral & orgc\\_stored\\_organic & profile\\_top & profile\\_bot & organic\\_top & organic\\_bot & mineral\\_top & mineral\\_bot & lat\\_dec\\_deg & long\\_dec\\_deg & obs\\_date\\_yyyymmdd\\\\\n",
       "\t\\hline\n",
       "\t& String & Float64 & Float64 & Int64 & Int64 & Int64 & Int64 & Int64 & Int64 & Float64 & Float64 & String?\\\\\n",
       "\t\\hline\n",
       "\t1 & 50ND075005\\_40A0001 & 16.8477 & 0.0 & 0 & 183 & -1 & -1 & 0 & 183 & 48.805 & -101.735 & 19/09/1950 \\\\\n",
       "\t2 & 50ND075003\\_40A0013 & 13.095 & 0.0 & 0 & 213 & -1 & -1 & 0 & 213 & 48.9366 & -101.585 & 18/09/1950 \\\\\n",
       "\t3 & 50ND075007\\_40A0067 & 11.2555 & 0.0 & 0 & 183 & -1 & -1 & 0 & 183 & 48.8083 & -101.707 & 19/09/1950 \\\\\n",
       "\t4 & 59ND045001\\_40A0102 & 9.00305 & 0.0 & 0 & 124 & -1 & -1 & 0 & 124 & 46.4494 & -98.37 & 21/08/1959 \\\\\n",
       "\t5 & 50ND075006\\_40A0107 & 20.3409 & 0.0 & 0 & 229 & -1 & -1 & 0 & 229 & 48.8211 & -101.747 & 19/09/1950 \\\\\n",
       "\t6 & 50ND075008\\_40A0111 & 20.3598 & 0.0 & 0 & 203 & -1 & -1 & 0 & 203 & 48.8991 & -101.554 & 20/09/1950 \\\\\n",
       "\t7 & 50ND075009\\_40A0130 & 15.3723 & 0.0 & 0 & 183 & -1 & -1 & 0 & 183 & 48.9427 & -101.587 & 20/09/1950 \\\\\n",
       "\t8 & 50ND075010\\_40A0131 & 17.5185 & 0.0 & 0 & 183 & -1 & -1 & 0 & 183 & 48.9153 & -101.606 & 20/09/1950 \\\\\n",
       "\t9 & S1949CO049005\\_40A0138 & 4.76136 & 0.0 & 0 & 71 & -1 & -1 & 0 & 71 & -300.0 & -300.0 & 02/09/1949 \\\\\n",
       "\t10 & S1949CO049007\\_40A0140 & 9.11452 & 0.0 & 0 & 86 & -1 & -1 & 0 & 86 & -300.0 & -300.0 & 31/08/1949 \\\\\n",
       "\t11 & S1964TN157003\\_40A0158 & 5.61786 & 0.0 & 0 & 305 & -1 & -1 & 0 & 305 & -300.0 & -300.0 & 01/03/1964 \\\\\n",
       "\t12 & S1958WV025003\\_40A0162 & 6.72175 & 0.0 & 0 & 58 & -1 & -1 & 0 & 58 & -300.0 & -300.0 & 01/06/1958 \\\\\n",
       "\t13 & 67FN220000\\_40A0165 & 35.7636 & 0.0 & 0 & 310 & -1 & -1 & 0 & 310 & -15.6667 & -47.7833 & 01/03/1967 \\\\\n",
       "\t14 & S1960NM013002\\_40A0169 & 2.61672 & 0.0 & 0 & 89 & -1 & -1 & 0 & 89 & 32.3168 & -106.767 & 12/11/1960 \\\\\n",
       "\t15 & S1964AZ003018\\_40A0187 & 5.15239 & 0.0 & 0 & 235 & -1 & -1 & 0 & 235 & 32.4004 & -109.961 & 19/10/1964 \\\\\n",
       "\t16 & S1961NM013007\\_40A0190 & 2.34694 & 0.0 & 0 & 150 & -1 & -1 & 0 & 150 & 32.2974 & -106.908 & 05/05/1961 \\\\\n",
       "\t17 & S1967TX141003\\_40A0197 & 7.87208 & 0.0 & 0 & 150 & -1 & -1 & 0 & 150 & 31.5417 & -106.192 & 02/03/1967 \\\\\n",
       "\t18 & S1965HI001013\\_40A0204 & 31.9361 & 0.0 & 0 & 88 & -1 & -1 & 0 & 88 & 19.9083 & -155.392 & 09/04/1965 \\\\\n",
       "\t19 & S1960MA003007\\_40A0206 & 7.4403 & 0.0 & 0 & 152 & -1 & -1 & 0 & 152 & 42.2139 & -73.4056 & 09/06/1960 \\\\\n",
       "\t20 & S1961PR047002\\_40A0209 & 6.09333 & 0.0 & 0 & 56 & -1 & -1 & 0 & 56 & 18.2417 & -66.2839 & 12/03/1961 \\\\\n",
       "\t$\\dots$ & $\\dots$ & $\\dots$ & $\\dots$ & $\\dots$ & $\\dots$ & $\\dots$ & $\\dots$ & $\\dots$ & $\\dots$ & $\\dots$ & $\\dots$ & $\\dots$ \\\\\n",
       "\\end{tabular}\n"
      ],
      "text/plain": [
       "19250×12 DataFrame\n",
       "│ Row   │ profile_id         │ orgc_stored_mineral │ orgc_stored_organic │ profile_top │ profile_bot │ organic_top │ organic_bot │ mineral_top │ mineral_bot │ lat_dec_deg │ long_dec_deg │ obs_date_yyyymmdd │\n",
       "│       │ \u001b[90mString\u001b[39m             │ \u001b[90mFloat64\u001b[39m             │ \u001b[90mFloat64\u001b[39m             │ \u001b[90mInt64\u001b[39m       │ \u001b[90mInt64\u001b[39m       │ \u001b[90mInt64\u001b[39m       │ \u001b[90mInt64\u001b[39m       │ \u001b[90mInt64\u001b[39m       │ \u001b[90mInt64\u001b[39m       │ \u001b[90mFloat64\u001b[39m     │ \u001b[90mFloat64\u001b[39m      │ \u001b[90mString?\u001b[39m           │\n",
       "├───────┼────────────────────┼─────────────────────┼─────────────────────┼─────────────┼─────────────┼─────────────┼─────────────┼─────────────┼─────────────┼─────────────┼──────────────┼───────────────────┤\n",
       "│ 1     │ 50ND075005_40A0001 │ 16.8477             │ 0.0                 │ 0           │ 183         │ -1          │ -1          │ 0           │ 183         │ 48.805      │ -101.735     │ 19/09/1950        │\n",
       "│ 2     │ 50ND075003_40A0013 │ 13.095              │ 0.0                 │ 0           │ 213         │ -1          │ -1          │ 0           │ 213         │ 48.9366     │ -101.585     │ 18/09/1950        │\n",
       "│ 3     │ 50ND075007_40A0067 │ 11.2555             │ 0.0                 │ 0           │ 183         │ -1          │ -1          │ 0           │ 183         │ 48.8083     │ -101.707     │ 19/09/1950        │\n",
       "│ 4     │ 59ND045001_40A0102 │ 9.00305             │ 0.0                 │ 0           │ 124         │ -1          │ -1          │ 0           │ 124         │ 46.4494     │ -98.37       │ 21/08/1959        │\n",
       "│ 5     │ 50ND075006_40A0107 │ 20.3409             │ 0.0                 │ 0           │ 229         │ -1          │ -1          │ 0           │ 229         │ 48.8211     │ -101.747     │ 19/09/1950        │\n",
       "⋮\n",
       "│ 19245 │ TY30 JP_7003030    │ 25.7355             │ 0.0                 │ 0           │ 40          │ -1          │ -1          │ 0           │ 40          │ 42.8333     │ 142.0        │ 1962              │\n",
       "│ 19246 │ TY31 JP_7003031    │ 18.5463             │ 0.0                 │ 0           │ 47          │ -1          │ -1          │ 0           │ 47          │ 43.8333     │ 144.0        │ 1962              │\n",
       "│ 19247 │ TY32 JP_7003032    │ 88.2206             │ 0.0                 │ 0           │ 49          │ -1          │ -1          │ 0           │ 49          │ 43.8333     │ 145.0        │ 1962              │\n",
       "│ 19248 │ TY33 JP_7003033    │ 34.3816             │ 0.0                 │ 0           │ 45          │ -1          │ -1          │ 0           │ 45          │ 43.0        │ 144.833      │ 1962              │\n",
       "│ 19249 │ TY34 JP_7003034    │ 20.0657             │ 0.0                 │ 0           │ 49          │ -1          │ -1          │ 0           │ 49          │ 43.0        │ 142.0        │ 1962              │\n",
       "│ 19250 │ TY35 JP_7003035    │ 99.4392             │ 0.0                 │ 0           │ 75          │ -1          │ -1          │ 0           │ 75          │ 43.0        │ 144.0        │ 1962              │"
      ]
     },
     "execution_count": 26,
     "metadata": {},
     "output_type": "execute_result"
    }
   ],
   "source": [
    "#joining results with extra info\t\n",
    "df_cont_results = innerjoin(df_storage_cont, df_cont_depth_desig, df_info, on = :profile_id)"
   ]
  },
  {
   "cell_type": "code",
   "execution_count": 27,
   "metadata": {},
   "outputs": [
    {
     "data": {
      "text/html": [
       "<table class=\"data-frame\"><thead><tr><th></th><th>profile_id</th><th>orgc_stored_mineral</th><th>orgc_stored_organic</th><th>profile_top</th><th>profile_bot</th><th>organic_top</th><th>organic_bot</th><th>mineral_top</th><th>mineral_bot</th><th>lat_dec_deg</th><th>long_dec_deg</th><th>obs_date_yyyymmdd</th></tr><tr><th></th><th>String</th><th>Float64</th><th>Float64</th><th>Int64</th><th>Int64</th><th>Int64</th><th>Int64</th><th>Int64</th><th>Int64</th><th>Float64</th><th>Float64</th><th>String?</th></tr></thead><tbody><p>12,074 rows × 12 columns</p><tr><th>1</th><td>50ND075005_40A0001</td><td>14.961</td><td>0.0</td><td>0</td><td>100</td><td>-1</td><td>-1</td><td>0</td><td>100</td><td>48.805</td><td>-101.735</td><td>19/09/1950</td></tr><tr><th>2</th><td>50ND075003_40A0013</td><td>10.9472</td><td>0.0</td><td>0</td><td>100</td><td>-1</td><td>-1</td><td>0</td><td>100</td><td>48.9366</td><td>-101.585</td><td>18/09/1950</td></tr><tr><th>3</th><td>50ND075007_40A0067</td><td>9.16548</td><td>0.0</td><td>0</td><td>100</td><td>-1</td><td>-1</td><td>0</td><td>100</td><td>48.8083</td><td>-101.707</td><td>19/09/1950</td></tr><tr><th>4</th><td>59ND045001_40A0102</td><td>8.89345</td><td>0.0</td><td>0</td><td>100</td><td>-1</td><td>-1</td><td>0</td><td>100</td><td>46.4494</td><td>-98.37</td><td>21/08/1959</td></tr><tr><th>5</th><td>50ND075006_40A0107</td><td>17.5183</td><td>0.0</td><td>0</td><td>100</td><td>-1</td><td>-1</td><td>0</td><td>100</td><td>48.8211</td><td>-101.747</td><td>19/09/1950</td></tr><tr><th>6</th><td>50ND075008_40A0111</td><td>14.9803</td><td>0.0</td><td>0</td><td>100</td><td>-1</td><td>-1</td><td>0</td><td>100</td><td>48.8991</td><td>-101.554</td><td>20/09/1950</td></tr><tr><th>7</th><td>50ND075009_40A0130</td><td>13.7386</td><td>0.0</td><td>0</td><td>100</td><td>-1</td><td>-1</td><td>0</td><td>100</td><td>48.9427</td><td>-101.587</td><td>20/09/1950</td></tr><tr><th>8</th><td>50ND075010_40A0131</td><td>15.3312</td><td>0.0</td><td>0</td><td>100</td><td>-1</td><td>-1</td><td>0</td><td>100</td><td>48.9153</td><td>-101.606</td><td>20/09/1950</td></tr><tr><th>9</th><td>S1964TN157003_40A0158</td><td>4.67086</td><td>0.0</td><td>0</td><td>100</td><td>-1</td><td>-1</td><td>0</td><td>100</td><td>-300.0</td><td>-300.0</td><td>01/03/1964</td></tr><tr><th>10</th><td>67FN220000_40A0165</td><td>18.3729</td><td>0.0</td><td>0</td><td>100</td><td>-1</td><td>-1</td><td>0</td><td>100</td><td>-15.6667</td><td>-47.7833</td><td>01/03/1967</td></tr><tr><th>11</th><td>S1964AZ003018_40A0187</td><td>4.80524</td><td>0.0</td><td>0</td><td>100</td><td>-1</td><td>-1</td><td>0</td><td>100</td><td>32.4004</td><td>-109.961</td><td>19/10/1964</td></tr><tr><th>12</th><td>S1961NM013007_40A0190</td><td>1.92394</td><td>0.0</td><td>0</td><td>100</td><td>-1</td><td>-1</td><td>0</td><td>100</td><td>32.2974</td><td>-106.908</td><td>05/05/1961</td></tr><tr><th>13</th><td>S1967TX141003_40A0197</td><td>6.80183</td><td>0.0</td><td>0</td><td>100</td><td>-1</td><td>-1</td><td>0</td><td>100</td><td>31.5417</td><td>-106.192</td><td>02/03/1967</td></tr><tr><th>14</th><td>S1960MA003007_40A0206</td><td>6.86996</td><td>0.0</td><td>0</td><td>100</td><td>-1</td><td>-1</td><td>0</td><td>100</td><td>42.2139</td><td>-73.4056</td><td>09/06/1960</td></tr><tr><th>15</th><td>S1965NE181001_40A0219</td><td>13.4548</td><td>0.0</td><td>0</td><td>100</td><td>-1</td><td>-1</td><td>0</td><td>100</td><td>40.2628</td><td>-98.3901</td><td>21/04/1965</td></tr><tr><th>16</th><td>S1965CA053004_40A0224</td><td>15.4332</td><td>0.0</td><td>0</td><td>100</td><td>-1</td><td>-1</td><td>0</td><td>100</td><td>36.2833</td><td>-121.1</td><td>18/05/1965</td></tr><tr><th>17</th><td>S1965NC101002_40A0237</td><td>7.91091</td><td>0.0</td><td>0</td><td>100</td><td>-1</td><td>-1</td><td>0</td><td>100</td><td>35.365</td><td>-78.5478</td><td>20/10/1965</td></tr><tr><th>18</th><td>S1963PR063002_40A0247</td><td>9.42532</td><td>0.0</td><td>0</td><td>100</td><td>-1</td><td>-1</td><td>0</td><td>100</td><td>18.2575</td><td>-65.6595</td><td>01/10/1965</td></tr><tr><th>19</th><td>S1964CA073008_40A0251</td><td>5.95633</td><td>0.0</td><td>0</td><td>100</td><td>-1</td><td>-1</td><td>0</td><td>100</td><td>33.2639</td><td>-117.297</td><td>11/03/1964</td></tr><tr><th>20</th><td>S1957NY033001_40A0257</td><td>32.2848</td><td>0.0</td><td>0</td><td>100</td><td>-1</td><td>-1</td><td>0</td><td>100</td><td>44.9819</td><td>-74.4833</td><td>23/09/1957</td></tr><tr><th>&vellip;</th><td>&vellip;</td><td>&vellip;</td><td>&vellip;</td><td>&vellip;</td><td>&vellip;</td><td>&vellip;</td><td>&vellip;</td><td>&vellip;</td><td>&vellip;</td><td>&vellip;</td><td>&vellip;</td><td>&vellip;</td></tr></tbody></table>"
      ],
      "text/latex": [
       "\\begin{tabular}{r|cccccccccccc}\n",
       "\t& profile\\_id & orgc\\_stored\\_mineral & orgc\\_stored\\_organic & profile\\_top & profile\\_bot & organic\\_top & organic\\_bot & mineral\\_top & mineral\\_bot & lat\\_dec\\_deg & long\\_dec\\_deg & obs\\_date\\_yyyymmdd\\\\\n",
       "\t\\hline\n",
       "\t& String & Float64 & Float64 & Int64 & Int64 & Int64 & Int64 & Int64 & Int64 & Float64 & Float64 & String?\\\\\n",
       "\t\\hline\n",
       "\t1 & 50ND075005\\_40A0001 & 14.961 & 0.0 & 0 & 100 & -1 & -1 & 0 & 100 & 48.805 & -101.735 & 19/09/1950 \\\\\n",
       "\t2 & 50ND075003\\_40A0013 & 10.9472 & 0.0 & 0 & 100 & -1 & -1 & 0 & 100 & 48.9366 & -101.585 & 18/09/1950 \\\\\n",
       "\t3 & 50ND075007\\_40A0067 & 9.16548 & 0.0 & 0 & 100 & -1 & -1 & 0 & 100 & 48.8083 & -101.707 & 19/09/1950 \\\\\n",
       "\t4 & 59ND045001\\_40A0102 & 8.89345 & 0.0 & 0 & 100 & -1 & -1 & 0 & 100 & 46.4494 & -98.37 & 21/08/1959 \\\\\n",
       "\t5 & 50ND075006\\_40A0107 & 17.5183 & 0.0 & 0 & 100 & -1 & -1 & 0 & 100 & 48.8211 & -101.747 & 19/09/1950 \\\\\n",
       "\t6 & 50ND075008\\_40A0111 & 14.9803 & 0.0 & 0 & 100 & -1 & -1 & 0 & 100 & 48.8991 & -101.554 & 20/09/1950 \\\\\n",
       "\t7 & 50ND075009\\_40A0130 & 13.7386 & 0.0 & 0 & 100 & -1 & -1 & 0 & 100 & 48.9427 & -101.587 & 20/09/1950 \\\\\n",
       "\t8 & 50ND075010\\_40A0131 & 15.3312 & 0.0 & 0 & 100 & -1 & -1 & 0 & 100 & 48.9153 & -101.606 & 20/09/1950 \\\\\n",
       "\t9 & S1964TN157003\\_40A0158 & 4.67086 & 0.0 & 0 & 100 & -1 & -1 & 0 & 100 & -300.0 & -300.0 & 01/03/1964 \\\\\n",
       "\t10 & 67FN220000\\_40A0165 & 18.3729 & 0.0 & 0 & 100 & -1 & -1 & 0 & 100 & -15.6667 & -47.7833 & 01/03/1967 \\\\\n",
       "\t11 & S1964AZ003018\\_40A0187 & 4.80524 & 0.0 & 0 & 100 & -1 & -1 & 0 & 100 & 32.4004 & -109.961 & 19/10/1964 \\\\\n",
       "\t12 & S1961NM013007\\_40A0190 & 1.92394 & 0.0 & 0 & 100 & -1 & -1 & 0 & 100 & 32.2974 & -106.908 & 05/05/1961 \\\\\n",
       "\t13 & S1967TX141003\\_40A0197 & 6.80183 & 0.0 & 0 & 100 & -1 & -1 & 0 & 100 & 31.5417 & -106.192 & 02/03/1967 \\\\\n",
       "\t14 & S1960MA003007\\_40A0206 & 6.86996 & 0.0 & 0 & 100 & -1 & -1 & 0 & 100 & 42.2139 & -73.4056 & 09/06/1960 \\\\\n",
       "\t15 & S1965NE181001\\_40A0219 & 13.4548 & 0.0 & 0 & 100 & -1 & -1 & 0 & 100 & 40.2628 & -98.3901 & 21/04/1965 \\\\\n",
       "\t16 & S1965CA053004\\_40A0224 & 15.4332 & 0.0 & 0 & 100 & -1 & -1 & 0 & 100 & 36.2833 & -121.1 & 18/05/1965 \\\\\n",
       "\t17 & S1965NC101002\\_40A0237 & 7.91091 & 0.0 & 0 & 100 & -1 & -1 & 0 & 100 & 35.365 & -78.5478 & 20/10/1965 \\\\\n",
       "\t18 & S1963PR063002\\_40A0247 & 9.42532 & 0.0 & 0 & 100 & -1 & -1 & 0 & 100 & 18.2575 & -65.6595 & 01/10/1965 \\\\\n",
       "\t19 & S1964CA073008\\_40A0251 & 5.95633 & 0.0 & 0 & 100 & -1 & -1 & 0 & 100 & 33.2639 & -117.297 & 11/03/1964 \\\\\n",
       "\t20 & S1957NY033001\\_40A0257 & 32.2848 & 0.0 & 0 & 100 & -1 & -1 & 0 & 100 & 44.9819 & -74.4833 & 23/09/1957 \\\\\n",
       "\t$\\dots$ & $\\dots$ & $\\dots$ & $\\dots$ & $\\dots$ & $\\dots$ & $\\dots$ & $\\dots$ & $\\dots$ & $\\dots$ & $\\dots$ & $\\dots$ & $\\dots$ \\\\\n",
       "\\end{tabular}\n"
      ],
      "text/plain": [
       "12074×12 DataFrame\n",
       "│ Row   │ profile_id         │ orgc_stored_mineral │ orgc_stored_organic │ profile_top │ profile_bot │ organic_top │ organic_bot │ mineral_top │ mineral_bot │ lat_dec_deg │ long_dec_deg │ obs_date_yyyymmdd │\n",
       "│       │ \u001b[90mString\u001b[39m             │ \u001b[90mFloat64\u001b[39m             │ \u001b[90mFloat64\u001b[39m             │ \u001b[90mInt64\u001b[39m       │ \u001b[90mInt64\u001b[39m       │ \u001b[90mInt64\u001b[39m       │ \u001b[90mInt64\u001b[39m       │ \u001b[90mInt64\u001b[39m       │ \u001b[90mInt64\u001b[39m       │ \u001b[90mFloat64\u001b[39m     │ \u001b[90mFloat64\u001b[39m      │ \u001b[90mString?\u001b[39m           │\n",
       "├───────┼────────────────────┼─────────────────────┼─────────────────────┼─────────────┼─────────────┼─────────────┼─────────────┼─────────────┼─────────────┼─────────────┼──────────────┼───────────────────┤\n",
       "│ 1     │ 50ND075005_40A0001 │ 14.961              │ 0.0                 │ 0           │ 100         │ -1          │ -1          │ 0           │ 100         │ 48.805      │ -101.735     │ 19/09/1950        │\n",
       "│ 2     │ 50ND075003_40A0013 │ 10.9472             │ 0.0                 │ 0           │ 100         │ -1          │ -1          │ 0           │ 100         │ 48.9366     │ -101.585     │ 18/09/1950        │\n",
       "│ 3     │ 50ND075007_40A0067 │ 9.16548             │ 0.0                 │ 0           │ 100         │ -1          │ -1          │ 0           │ 100         │ 48.8083     │ -101.707     │ 19/09/1950        │\n",
       "│ 4     │ 59ND045001_40A0102 │ 8.89345             │ 0.0                 │ 0           │ 100         │ -1          │ -1          │ 0           │ 100         │ 46.4494     │ -98.37       │ 21/08/1959        │\n",
       "│ 5     │ 50ND075006_40A0107 │ 17.5183             │ 0.0                 │ 0           │ 100         │ -1          │ -1          │ 0           │ 100         │ 48.8211     │ -101.747     │ 19/09/1950        │\n",
       "⋮\n",
       "│ 12069 │ 5 II_2074005       │ 16.0998             │ 0.0                 │ 0           │ 100         │ -1          │ -1          │ 0           │ 100         │ 30.0        │ 78.0         │ 1980              │\n",
       "│ 12070 │ 1 SW_3005001       │ 87.0456             │ 0.0                 │ 0           │ 100         │ -1          │ -1          │ 0           │ 100         │ 47.4167     │ 8.0          │ 1950              │\n",
       "│ 12071 │ 2 SW_3005002       │ 17.4332             │ 0.0                 │ 0           │ 100         │ -1          │ -1          │ 0           │ 100         │ 47.4167     │ 8.0          │ 1950              │\n",
       "│ 12072 │ 3 SW_3005003       │ 35.4811             │ 0.0                 │ 0           │ 100         │ -1          │ -1          │ 0           │ 100         │ 47.4167     │ 8.0          │ 1950              │\n",
       "│ 12073 │ 4 SW_3005004       │ 11.7796             │ 0.0                 │ 0           │ 100         │ -1          │ -1          │ 0           │ 100         │ 47.4167     │ 8.0          │ 1950              │\n",
       "│ 12074 │ 5 SW_3005005       │ 15.3044             │ 0.0                 │ 0           │ 100         │ -1          │ -1          │ 0           │ 100         │ 47.4167     │ 8.0          │ 1950              │"
      ]
     },
     "execution_count": 27,
     "metadata": {},
     "output_type": "execute_result"
    }
   ],
   "source": [
    "df_clipped_results = innerjoin(df_storage_clipped, df_clipped_depth_desig, df_info, on = :profile_id)"
   ]
  },
  {
   "cell_type": "markdown",
   "metadata": {},
   "source": [
    "Results here:\n",
    "\n",
    "(full) https://drive.google.com/file/d/1v8YxVTfFq0x4MhkRtBLtFGgBQIC_9RFI/view?usp=sharing\n",
    "\n",
    "(clipped) https://drive.google.com/file/d/1Gw8uGphn3Mup8OPABXaumtgQEg37UIj6/view?usp=sharing\n"
   ]
  }
 ],
 "metadata": {
  "kernelspec": {
   "display_name": "Julia 1.5.3",
   "language": "julia",
   "name": "julia-1.5"
  },
  "language_info": {
   "file_extension": ".jl",
   "mimetype": "application/julia",
   "name": "julia",
   "version": "1.5.3"
  }
 },
 "nbformat": 4,
 "nbformat_minor": 2
}
