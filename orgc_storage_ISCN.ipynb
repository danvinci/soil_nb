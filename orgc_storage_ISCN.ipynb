{
 "cells": [
  {
   "cell_type": "markdown",
   "metadata": {},
   "source": [
    "In this notebook we calculate Stored Carbon for the ISCN available here (registration/login necessary):\n",
    "\n",
    "https://iscn.fluxdata.org/data/access-data/database-reports/"
   ]
  },
  {
   "cell_type": "markdown",
   "metadata": {},
   "source": [
    "I've used the 'ISCN_SOC-DATA_LAYER_1-1' dataset for everything but Bulk Density values, that were instead taken from 'ISCNTemplate_NRCS_BD_predictions'. \n",
    "\n",
    "Stored organic carbon has been calculated only for non-organic horizons, so the value 'be_pred_2' has been used.\n",
    "\n",
    "I also check for layers continuity (still WIP)."
   ]
  },
  {
   "cell_type": "code",
   "execution_count": 23,
   "metadata": {},
   "outputs": [],
   "source": [
    "using DataFrames, CSV, Query, StatsBase"
   ]
  },
  {
   "cell_type": "markdown",
   "metadata": {},
   "source": [
    "Importing layer samplings data:"
   ]
  },
  {
   "cell_type": "code",
   "execution_count": 24,
   "metadata": {
    "scrolled": true
   },
   "outputs": [
    {
     "name": "stderr",
     "output_type": "stream",
     "text": [
      "┌ Warning: thread = 1 warning: only found 93 / 94 columns around data row: 227765. Filling remaining columns with `missing`\n",
      "└ @ CSV /Users/Daniele/.julia/packages/CSV/la2cd/src/file.jl:603\n"
     ]
    },
    {
     "data": {
      "text/html": [
       "<table class=\"data-frame\"><thead><tr><th></th><th>dataset_name_sub</th><th>dataset_name_soc</th><th>lat (dec. deg)</th></tr><tr><th></th><th>String</th><th>String</th><th>String?</th></tr></thead><tbody><p>227,764 rows × 94 columns (omitted printing of 91 columns)</p><tr><th>1</th><td>AK DSC Project SOC stock computation</td><td>AK DSC Project SOC stock computation</td><td>60,5219</td></tr><tr><th>2</th><td>AK DSC Project SOC stock computation</td><td>AK DSC Project SOC stock computation</td><td>60,5219</td></tr><tr><th>3</th><td>AK DSC Project SOC stock computation</td><td>AK DSC Project SOC stock computation</td><td>60,5219</td></tr><tr><th>4</th><td>AK DSC Project SOC stock computation</td><td>AK DSC Project SOC stock computation</td><td>60,5219</td></tr><tr><th>5</th><td>AK DSC Project SOC stock computation</td><td>AK DSC Project SOC stock computation</td><td>60,5219</td></tr><tr><th>6</th><td>AK DSC Project SOC stock computation</td><td>AK DSC Project SOC stock computation</td><td>60,5219</td></tr><tr><th>7</th><td>AK DSC Project SOC stock computation</td><td>AK DSC Project SOC stock computation</td><td>60,5219</td></tr><tr><th>8</th><td>AK DSC Project SOC stock computation</td><td>AK DSC Project SOC stock computation</td><td>60,5219</td></tr><tr><th>9</th><td>AK DSC Project SOC stock computation</td><td>AK DSC Project SOC stock computation</td><td>60,5219</td></tr><tr><th>10</th><td>AK DSC Project SOC stock computation</td><td>AK DSC Project SOC stock computation</td><td>60,5219</td></tr><tr><th>11</th><td>AK DSC Project SOC stock computation</td><td>AK DSC Project SOC stock computation</td><td>60,5219</td></tr><tr><th>12</th><td>AK DSC Project SOC stock computation</td><td>AK DSC Project SOC stock computation</td><td>60,5219</td></tr><tr><th>13</th><td>AK DSC Project SOC stock computation</td><td>AK DSC Project SOC stock computation</td><td>60,5242</td></tr><tr><th>14</th><td>AK DSC Project SOC stock computation</td><td>AK DSC Project SOC stock computation</td><td>60,5242</td></tr><tr><th>15</th><td>AK DSC Project SOC stock computation</td><td>AK DSC Project SOC stock computation</td><td>60,5242</td></tr><tr><th>16</th><td>AK DSC Project SOC stock computation</td><td>AK DSC Project SOC stock computation</td><td>60,5242</td></tr><tr><th>17</th><td>AK DSC Project SOC stock computation</td><td>AK DSC Project SOC stock computation</td><td>60,5242</td></tr><tr><th>18</th><td>AK DSC Project SOC stock computation</td><td>AK DSC Project SOC stock computation</td><td>60,5242</td></tr><tr><th>19</th><td>AK DSC Project SOC stock computation</td><td>AK DSC Project SOC stock computation</td><td>60,5242</td></tr><tr><th>20</th><td>AK DSC Project SOC stock computation</td><td>AK DSC Project SOC stock computation</td><td>60,5242</td></tr><tr><th>21</th><td>AK DSC Project SOC stock computation</td><td>AK DSC Project SOC stock computation</td><td>60,5242</td></tr><tr><th>22</th><td>AK DSC Project SOC stock computation</td><td>AK DSC Project SOC stock computation</td><td>60,3583</td></tr><tr><th>23</th><td>AK DSC Project SOC stock computation</td><td>AK DSC Project SOC stock computation</td><td>60,3583</td></tr><tr><th>24</th><td>AK DSC Project SOC stock computation</td><td>AK DSC Project SOC stock computation</td><td>60,3583</td></tr><tr><th>25</th><td>AK DSC Project SOC stock computation</td><td>AK DSC Project SOC stock computation</td><td>60,3583</td></tr><tr><th>26</th><td>AK DSC Project SOC stock computation</td><td>AK DSC Project SOC stock computation</td><td>60,3583</td></tr><tr><th>27</th><td>AK DSC Project SOC stock computation</td><td>AK DSC Project SOC stock computation</td><td>60,3583</td></tr><tr><th>28</th><td>AK DSC Project SOC stock computation</td><td>AK DSC Project SOC stock computation</td><td>60,3583</td></tr><tr><th>29</th><td>AK DSC Project SOC stock computation</td><td>AK DSC Project SOC stock computation</td><td>60,3583</td></tr><tr><th>30</th><td>AK DSC Project SOC stock computation</td><td>AK DSC Project SOC stock computation</td><td>60,3583</td></tr><tr><th>&vellip;</th><td>&vellip;</td><td>&vellip;</td><td>&vellip;</td></tr></tbody></table>"
      ],
      "text/latex": [
       "\\begin{tabular}{r|cccc}\n",
       "\t& dataset\\_name\\_sub & dataset\\_name\\_soc & lat (dec. deg) & \\\\\n",
       "\t\\hline\n",
       "\t& String & String & String? & \\\\\n",
       "\t\\hline\n",
       "\t1 & AK DSC Project SOC stock computation & AK DSC Project SOC stock computation & 60,5219 & $\\dots$ \\\\\n",
       "\t2 & AK DSC Project SOC stock computation & AK DSC Project SOC stock computation & 60,5219 & $\\dots$ \\\\\n",
       "\t3 & AK DSC Project SOC stock computation & AK DSC Project SOC stock computation & 60,5219 & $\\dots$ \\\\\n",
       "\t4 & AK DSC Project SOC stock computation & AK DSC Project SOC stock computation & 60,5219 & $\\dots$ \\\\\n",
       "\t5 & AK DSC Project SOC stock computation & AK DSC Project SOC stock computation & 60,5219 & $\\dots$ \\\\\n",
       "\t6 & AK DSC Project SOC stock computation & AK DSC Project SOC stock computation & 60,5219 & $\\dots$ \\\\\n",
       "\t7 & AK DSC Project SOC stock computation & AK DSC Project SOC stock computation & 60,5219 & $\\dots$ \\\\\n",
       "\t8 & AK DSC Project SOC stock computation & AK DSC Project SOC stock computation & 60,5219 & $\\dots$ \\\\\n",
       "\t9 & AK DSC Project SOC stock computation & AK DSC Project SOC stock computation & 60,5219 & $\\dots$ \\\\\n",
       "\t10 & AK DSC Project SOC stock computation & AK DSC Project SOC stock computation & 60,5219 & $\\dots$ \\\\\n",
       "\t11 & AK DSC Project SOC stock computation & AK DSC Project SOC stock computation & 60,5219 & $\\dots$ \\\\\n",
       "\t12 & AK DSC Project SOC stock computation & AK DSC Project SOC stock computation & 60,5219 & $\\dots$ \\\\\n",
       "\t13 & AK DSC Project SOC stock computation & AK DSC Project SOC stock computation & 60,5242 & $\\dots$ \\\\\n",
       "\t14 & AK DSC Project SOC stock computation & AK DSC Project SOC stock computation & 60,5242 & $\\dots$ \\\\\n",
       "\t15 & AK DSC Project SOC stock computation & AK DSC Project SOC stock computation & 60,5242 & $\\dots$ \\\\\n",
       "\t16 & AK DSC Project SOC stock computation & AK DSC Project SOC stock computation & 60,5242 & $\\dots$ \\\\\n",
       "\t17 & AK DSC Project SOC stock computation & AK DSC Project SOC stock computation & 60,5242 & $\\dots$ \\\\\n",
       "\t18 & AK DSC Project SOC stock computation & AK DSC Project SOC stock computation & 60,5242 & $\\dots$ \\\\\n",
       "\t19 & AK DSC Project SOC stock computation & AK DSC Project SOC stock computation & 60,5242 & $\\dots$ \\\\\n",
       "\t20 & AK DSC Project SOC stock computation & AK DSC Project SOC stock computation & 60,5242 & $\\dots$ \\\\\n",
       "\t21 & AK DSC Project SOC stock computation & AK DSC Project SOC stock computation & 60,5242 & $\\dots$ \\\\\n",
       "\t22 & AK DSC Project SOC stock computation & AK DSC Project SOC stock computation & 60,3583 & $\\dots$ \\\\\n",
       "\t23 & AK DSC Project SOC stock computation & AK DSC Project SOC stock computation & 60,3583 & $\\dots$ \\\\\n",
       "\t24 & AK DSC Project SOC stock computation & AK DSC Project SOC stock computation & 60,3583 & $\\dots$ \\\\\n",
       "\t25 & AK DSC Project SOC stock computation & AK DSC Project SOC stock computation & 60,3583 & $\\dots$ \\\\\n",
       "\t26 & AK DSC Project SOC stock computation & AK DSC Project SOC stock computation & 60,3583 & $\\dots$ \\\\\n",
       "\t27 & AK DSC Project SOC stock computation & AK DSC Project SOC stock computation & 60,3583 & $\\dots$ \\\\\n",
       "\t28 & AK DSC Project SOC stock computation & AK DSC Project SOC stock computation & 60,3583 & $\\dots$ \\\\\n",
       "\t29 & AK DSC Project SOC stock computation & AK DSC Project SOC stock computation & 60,3583 & $\\dots$ \\\\\n",
       "\t30 & AK DSC Project SOC stock computation & AK DSC Project SOC stock computation & 60,3583 & $\\dots$ \\\\\n",
       "\t$\\dots$ & $\\dots$ & $\\dots$ & $\\dots$ &  \\\\\n",
       "\\end{tabular}\n"
      ],
      "text/plain": [
       "227764×94 DataFrame. Omitted printing of 93 columns\n",
       "│ Row    │ dataset_name_sub                     │\n",
       "│        │ \u001b[90mString\u001b[39m                               │\n",
       "├────────┼──────────────────────────────────────┤\n",
       "│ 1      │ AK DSC Project SOC stock computation │\n",
       "│ 2      │ AK DSC Project SOC stock computation │\n",
       "│ 3      │ AK DSC Project SOC stock computation │\n",
       "│ 4      │ AK DSC Project SOC stock computation │\n",
       "│ 5      │ AK DSC Project SOC stock computation │\n",
       "│ 6      │ AK DSC Project SOC stock computation │\n",
       "│ 7      │ AK DSC Project SOC stock computation │\n",
       "│ 8      │ AK DSC Project SOC stock computation │\n",
       "│ 9      │ AK DSC Project SOC stock computation │\n",
       "│ 10     │ AK DSC Project SOC stock computation │\n",
       "⋮\n",
       "│ 227754 │ USGS Harden Yazoo                    │\n",
       "│ 227755 │ USGS Harden Yazoo                    │\n",
       "│ 227756 │ USGS Harden Yazoo                    │\n",
       "│ 227757 │ USGS Harden Yazoo                    │\n",
       "│ 227758 │ USGS Harden Yazoo                    │\n",
       "│ 227759 │ USGS Harden Yazoo                    │\n",
       "│ 227760 │ USGS Harden Yazoo                    │\n",
       "│ 227761 │ USGS Harden Yazoo                    │\n",
       "│ 227762 │ USGS Harden Yazoo                    │\n",
       "│ 227763 │ USGS Harden Yazoo                    │\n",
       "│ 227764 │ USGS Harden Yazoo                    │"
      ]
     },
     "execution_count": 24,
     "metadata": {},
     "output_type": "execute_result"
    }
   ],
   "source": [
    "df_ISCN_orig = CSV.read(\"ISCN_SOC-DATA_LAYER_1-1.csv\", DataFrame)"
   ]
  },
  {
   "cell_type": "code",
   "execution_count": 25,
   "metadata": {},
   "outputs": [
    {
     "data": {
      "text/plain": [
       "12244"
      ]
     },
     "execution_count": 25,
     "metadata": {},
     "output_type": "execute_result"
    }
   ],
   "source": [
    "count(ismissing,(df_ISCN_orig[:,:hzn_desgn_other])) #227764 - all missing values, dropping this column\n",
    "count(ismissing,(df_ISCN_orig[:,:hzn_desgn]))  \t\t#13812  - ok\n",
    "count(ismissing,(df_ISCN_orig[:,:hzn])) \t\t\t#12244  - ok"
   ]
  },
  {
   "cell_type": "markdown",
   "metadata": {},
   "source": [
    "Cleaning up layers data:"
   ]
  },
  {
   "cell_type": "code",
   "execution_count": 26,
   "metadata": {
    "scrolled": true
   },
   "outputs": [
    {
     "data": {
      "text/html": [
       "<table class=\"data-frame\"><thead><tr><th></th><th>site_name</th><th>profile_name</th><th>layer_name</th><th>lat_dec_deg</th><th>long_dec_deg</th><th>datum_datum</th><th>observation_date_yyyymmdd</th></tr><tr><th></th><th>String</th><th>String</th><th>String</th><th>Float64</th><th>Float64</th><th>String?</th><th>String?</th></tr></thead><tbody><p>115,417 rows × 12 columns (omitted printing of 5 columns)</p><tr><th>1</th><td>50ND075005</td><td>40A0001</td><td>40A00001</td><td>48.805</td><td>-101.735</td><td>WGS84</td><td>19/09/1950</td></tr><tr><th>2</th><td>50ND075005</td><td>40A0001</td><td>40A00002</td><td>48.805</td><td>-101.735</td><td>WGS84</td><td>19/09/1950</td></tr><tr><th>3</th><td>50ND075005</td><td>40A0001</td><td>40A00003</td><td>48.805</td><td>-101.735</td><td>WGS84</td><td>19/09/1950</td></tr><tr><th>4</th><td>50ND075005</td><td>40A0001</td><td>40A00004</td><td>48.805</td><td>-101.735</td><td>WGS84</td><td>19/09/1950</td></tr><tr><th>5</th><td>50ND075005</td><td>40A0001</td><td>40A00005</td><td>48.805</td><td>-101.735</td><td>WGS84</td><td>19/09/1950</td></tr><tr><th>6</th><td>50ND075005</td><td>40A0001</td><td>40A00006</td><td>48.805</td><td>-101.735</td><td>WGS84</td><td>19/09/1950</td></tr><tr><th>7</th><td>50ND075005</td><td>40A0001</td><td>40A00007</td><td>48.805</td><td>-101.735</td><td>WGS84</td><td>19/09/1950</td></tr><tr><th>8</th><td>50ND075003</td><td>40A0013</td><td>40A00094</td><td>48.9366</td><td>-101.585</td><td>WGS84</td><td>18/09/1950</td></tr><tr><th>9</th><td>50ND075003</td><td>40A0013</td><td>40A00095</td><td>48.9366</td><td>-101.585</td><td>WGS84</td><td>18/09/1950</td></tr><tr><th>10</th><td>50ND075003</td><td>40A0013</td><td>40A00096</td><td>48.9366</td><td>-101.585</td><td>WGS84</td><td>18/09/1950</td></tr><tr><th>11</th><td>50ND075003</td><td>40A0013</td><td>40A00097</td><td>48.9366</td><td>-101.585</td><td>WGS84</td><td>18/09/1950</td></tr><tr><th>12</th><td>50ND075003</td><td>40A0013</td><td>40A00098</td><td>48.9366</td><td>-101.585</td><td>WGS84</td><td>18/09/1950</td></tr><tr><th>13</th><td>50ND075003</td><td>40A0013</td><td>40A00099</td><td>48.9366</td><td>-101.585</td><td>WGS84</td><td>18/09/1950</td></tr><tr><th>14</th><td>50ND075003</td><td>40A0013</td><td>40A00100</td><td>48.9366</td><td>-101.585</td><td>WGS84</td><td>18/09/1950</td></tr><tr><th>15</th><td>50ND075007</td><td>40A0067</td><td>40A00476</td><td>48.8083</td><td>-101.707</td><td>WGS84</td><td>19/09/1950</td></tr><tr><th>16</th><td>50ND075007</td><td>40A0067</td><td>40A00477</td><td>48.8083</td><td>-101.707</td><td>WGS84</td><td>19/09/1950</td></tr><tr><th>17</th><td>50ND075007</td><td>40A0067</td><td>40A00478</td><td>48.8083</td><td>-101.707</td><td>WGS84</td><td>19/09/1950</td></tr><tr><th>18</th><td>50ND075007</td><td>40A0067</td><td>40A00479</td><td>48.8083</td><td>-101.707</td><td>WGS84</td><td>19/09/1950</td></tr><tr><th>19</th><td>50ND075007</td><td>40A0067</td><td>40A00480</td><td>48.8083</td><td>-101.707</td><td>WGS84</td><td>19/09/1950</td></tr><tr><th>20</th><td>50ND075007</td><td>40A0067</td><td>40A00481</td><td>48.8083</td><td>-101.707</td><td>WGS84</td><td>19/09/1950</td></tr><tr><th>21</th><td>50ND075007</td><td>40A0067</td><td>40A00482</td><td>48.8083</td><td>-101.707</td><td>WGS84</td><td>19/09/1950</td></tr><tr><th>22</th><td>59ND045001</td><td>40A0102</td><td>40A00729</td><td>46.4494</td><td>-98.37</td><td>WGS84</td><td>21/08/1959</td></tr><tr><th>23</th><td>59ND045001</td><td>40A0102</td><td>40A00730</td><td>46.4494</td><td>-98.37</td><td>WGS84</td><td>21/08/1959</td></tr><tr><th>24</th><td>59ND045001</td><td>40A0102</td><td>40A00731</td><td>46.4494</td><td>-98.37</td><td>WGS84</td><td>21/08/1959</td></tr><tr><th>25</th><td>59ND045001</td><td>40A0102</td><td>40A00732</td><td>46.4494</td><td>-98.37</td><td>WGS84</td><td>21/08/1959</td></tr><tr><th>26</th><td>59ND045001</td><td>40A0102</td><td>40A00733</td><td>46.4494</td><td>-98.37</td><td>WGS84</td><td>21/08/1959</td></tr><tr><th>27</th><td>59ND045001</td><td>40A0102</td><td>40A00734</td><td>46.4494</td><td>-98.37</td><td>WGS84</td><td>21/08/1959</td></tr><tr><th>28</th><td>59ND045001</td><td>40A0102</td><td>40A00735</td><td>46.4494</td><td>-98.37</td><td>WGS84</td><td>21/08/1959</td></tr><tr><th>29</th><td>59ND045001</td><td>40A0102</td><td>40A00736</td><td>46.4494</td><td>-98.37</td><td>WGS84</td><td>21/08/1959</td></tr><tr><th>30</th><td>50ND075006</td><td>40A0107</td><td>40A00769</td><td>48.8211</td><td>-101.747</td><td>WGS84</td><td>19/09/1950</td></tr><tr><th>&vellip;</th><td>&vellip;</td><td>&vellip;</td><td>&vellip;</td><td>&vellip;</td><td>&vellip;</td><td>&vellip;</td><td>&vellip;</td></tr></tbody></table>"
      ],
      "text/latex": [
       "\\begin{tabular}{r|cccccccc}\n",
       "\t& site\\_name & profile\\_name & layer\\_name & lat\\_dec\\_deg & long\\_dec\\_deg & datum\\_datum & observation\\_date\\_yyyymmdd & \\\\\n",
       "\t\\hline\n",
       "\t& String & String & String & Float64 & Float64 & String? & String? & \\\\\n",
       "\t\\hline\n",
       "\t1 & 50ND075005 & 40A0001 & 40A00001 & 48.805 & -101.735 & WGS84 & 19/09/1950 & $\\dots$ \\\\\n",
       "\t2 & 50ND075005 & 40A0001 & 40A00002 & 48.805 & -101.735 & WGS84 & 19/09/1950 & $\\dots$ \\\\\n",
       "\t3 & 50ND075005 & 40A0001 & 40A00003 & 48.805 & -101.735 & WGS84 & 19/09/1950 & $\\dots$ \\\\\n",
       "\t4 & 50ND075005 & 40A0001 & 40A00004 & 48.805 & -101.735 & WGS84 & 19/09/1950 & $\\dots$ \\\\\n",
       "\t5 & 50ND075005 & 40A0001 & 40A00005 & 48.805 & -101.735 & WGS84 & 19/09/1950 & $\\dots$ \\\\\n",
       "\t6 & 50ND075005 & 40A0001 & 40A00006 & 48.805 & -101.735 & WGS84 & 19/09/1950 & $\\dots$ \\\\\n",
       "\t7 & 50ND075005 & 40A0001 & 40A00007 & 48.805 & -101.735 & WGS84 & 19/09/1950 & $\\dots$ \\\\\n",
       "\t8 & 50ND075003 & 40A0013 & 40A00094 & 48.9366 & -101.585 & WGS84 & 18/09/1950 & $\\dots$ \\\\\n",
       "\t9 & 50ND075003 & 40A0013 & 40A00095 & 48.9366 & -101.585 & WGS84 & 18/09/1950 & $\\dots$ \\\\\n",
       "\t10 & 50ND075003 & 40A0013 & 40A00096 & 48.9366 & -101.585 & WGS84 & 18/09/1950 & $\\dots$ \\\\\n",
       "\t11 & 50ND075003 & 40A0013 & 40A00097 & 48.9366 & -101.585 & WGS84 & 18/09/1950 & $\\dots$ \\\\\n",
       "\t12 & 50ND075003 & 40A0013 & 40A00098 & 48.9366 & -101.585 & WGS84 & 18/09/1950 & $\\dots$ \\\\\n",
       "\t13 & 50ND075003 & 40A0013 & 40A00099 & 48.9366 & -101.585 & WGS84 & 18/09/1950 & $\\dots$ \\\\\n",
       "\t14 & 50ND075003 & 40A0013 & 40A00100 & 48.9366 & -101.585 & WGS84 & 18/09/1950 & $\\dots$ \\\\\n",
       "\t15 & 50ND075007 & 40A0067 & 40A00476 & 48.8083 & -101.707 & WGS84 & 19/09/1950 & $\\dots$ \\\\\n",
       "\t16 & 50ND075007 & 40A0067 & 40A00477 & 48.8083 & -101.707 & WGS84 & 19/09/1950 & $\\dots$ \\\\\n",
       "\t17 & 50ND075007 & 40A0067 & 40A00478 & 48.8083 & -101.707 & WGS84 & 19/09/1950 & $\\dots$ \\\\\n",
       "\t18 & 50ND075007 & 40A0067 & 40A00479 & 48.8083 & -101.707 & WGS84 & 19/09/1950 & $\\dots$ \\\\\n",
       "\t19 & 50ND075007 & 40A0067 & 40A00480 & 48.8083 & -101.707 & WGS84 & 19/09/1950 & $\\dots$ \\\\\n",
       "\t20 & 50ND075007 & 40A0067 & 40A00481 & 48.8083 & -101.707 & WGS84 & 19/09/1950 & $\\dots$ \\\\\n",
       "\t21 & 50ND075007 & 40A0067 & 40A00482 & 48.8083 & -101.707 & WGS84 & 19/09/1950 & $\\dots$ \\\\\n",
       "\t22 & 59ND045001 & 40A0102 & 40A00729 & 46.4494 & -98.37 & WGS84 & 21/08/1959 & $\\dots$ \\\\\n",
       "\t23 & 59ND045001 & 40A0102 & 40A00730 & 46.4494 & -98.37 & WGS84 & 21/08/1959 & $\\dots$ \\\\\n",
       "\t24 & 59ND045001 & 40A0102 & 40A00731 & 46.4494 & -98.37 & WGS84 & 21/08/1959 & $\\dots$ \\\\\n",
       "\t25 & 59ND045001 & 40A0102 & 40A00732 & 46.4494 & -98.37 & WGS84 & 21/08/1959 & $\\dots$ \\\\\n",
       "\t26 & 59ND045001 & 40A0102 & 40A00733 & 46.4494 & -98.37 & WGS84 & 21/08/1959 & $\\dots$ \\\\\n",
       "\t27 & 59ND045001 & 40A0102 & 40A00734 & 46.4494 & -98.37 & WGS84 & 21/08/1959 & $\\dots$ \\\\\n",
       "\t28 & 59ND045001 & 40A0102 & 40A00735 & 46.4494 & -98.37 & WGS84 & 21/08/1959 & $\\dots$ \\\\\n",
       "\t29 & 59ND045001 & 40A0102 & 40A00736 & 46.4494 & -98.37 & WGS84 & 21/08/1959 & $\\dots$ \\\\\n",
       "\t30 & 50ND075006 & 40A0107 & 40A00769 & 48.8211 & -101.747 & WGS84 & 19/09/1950 & $\\dots$ \\\\\n",
       "\t$\\dots$ & $\\dots$ & $\\dots$ & $\\dots$ & $\\dots$ & $\\dots$ & $\\dots$ & $\\dots$ &  \\\\\n",
       "\\end{tabular}\n"
      ],
      "text/plain": [
       "115417×12 DataFrame. Omitted printing of 8 columns\n",
       "│ Row    │ site_name     │ profile_name  │ layer_name        │ lat_dec_deg │\n",
       "│        │ \u001b[90mString\u001b[39m        │ \u001b[90mString\u001b[39m        │ \u001b[90mString\u001b[39m            │ \u001b[90mFloat64\u001b[39m     │\n",
       "├────────┼───────────────┼───────────────┼───────────────────┼─────────────┤\n",
       "│ 1      │ 50ND075005    │ 40A0001       │ 40A00001          │ 48.805      │\n",
       "│ 2      │ 50ND075005    │ 40A0001       │ 40A00002          │ 48.805      │\n",
       "│ 3      │ 50ND075005    │ 40A0001       │ 40A00003          │ 48.805      │\n",
       "│ 4      │ 50ND075005    │ 40A0001       │ 40A00004          │ 48.805      │\n",
       "│ 5      │ 50ND075005    │ 40A0001       │ 40A00005          │ 48.805      │\n",
       "│ 6      │ 50ND075005    │ 40A0001       │ 40A00006          │ 48.805      │\n",
       "│ 7      │ 50ND075005    │ 40A0001       │ 40A00007          │ 48.805      │\n",
       "│ 8      │ 50ND075003    │ 40A0013       │ 40A00094          │ 48.9366     │\n",
       "│ 9      │ 50ND075003    │ 40A0013       │ 40A00095          │ 48.9366     │\n",
       "│ 10     │ 50ND075003    │ 40A0013       │ 40A00096          │ 48.9366     │\n",
       "⋮\n",
       "│ 115407 │ uiuc198902036 │ uiuc198902036 │ uiuc198902036.51  │ 40.7331     │\n",
       "│ 115408 │ uiuc198902036 │ uiuc198902036 │ uiuc198902036.76  │ 40.7331     │\n",
       "│ 115409 │ uiuc198902036 │ uiuc198902036 │ uiuc198902036.104 │ 40.7331     │\n",
       "│ 115410 │ uiuc198902036 │ uiuc198902036 │ uiuc198902036.150 │ 40.7331     │\n",
       "│ 115411 │ uiuc198902036 │ uiuc198902036 │ uiuc198902036.190 │ 40.7331     │\n",
       "│ 115412 │ uiuc199002049 │ uiuc199002049 │ uiuc199002049.28  │ 40.7397     │\n",
       "│ 115413 │ uiuc199002049 │ uiuc199002049 │ uiuc199002049.38  │ 40.7397     │\n",
       "│ 115414 │ uiuc199002049 │ uiuc199002049 │ uiuc199002049.61  │ 40.7397     │\n",
       "│ 115415 │ uiuc199002049 │ uiuc199002049 │ uiuc199002049.86  │ 40.7397     │\n",
       "│ 115416 │ uiuc199002049 │ uiuc199002049 │ uiuc199002049.102 │ 40.7397     │\n",
       "│ 115417 │ uiuc199002049 │ uiuc199002049 │ uiuc199002049.152 │ 40.7397     │"
      ]
     },
     "execution_count": 26,
     "metadata": {},
     "output_type": "execute_result"
    }
   ],
   "source": [
    "#copy of original dataset and tidied up column names\n",
    "df_ISCN = deepcopy(df_ISCN_orig)\n",
    "rename!(df_ISCN,names(df_ISCN) .=> tidy_names(names(df_ISCN)))\n",
    "\n",
    "df_ISCN = df_ISCN |>\n",
    "\n",
    "#pick relevant columns\n",
    "@select(:site_name,:profile_name,:layer_name,:lat_dec_deg,:long_dec_deg,:datum_datum,\n",
    "        :observation_date_yyyymmdd,:hzn,:hzn_desgn,:layer_top_cm,:layer_bot_cm,:oc_percent) |>\n",
    "\n",
    "#remove layers with missing info\n",
    "@dropna(:layer_top_cm,:layer_bot_cm,:oc_percent) |>\n",
    "\n",
    "#keep layers for which top < bot\n",
    "@filter(_.layer_top_cm < _.layer_bot_cm) |>\n",
    "\n",
    "#keep only non-organic layers\n",
    "#replacing missings with Z necessary for comparison\n",
    "#organic layers contain 'O' or 'o' in the horizon designation\n",
    "@replacena(:hzn=>\"Z\") |>\n",
    "@filter(!occursin(\"O\",_.hzn) && !occursin(\"o\",_.hzn)) |>\n",
    "\n",
    "#repeat the same above for the other designation column\n",
    "@replacena(:hzn_desgn=>\"Z\") |>\n",
    "@filter(!occursin(\"O\",_.hzn_desgn) && !occursin(\"o\",_.hzn_desgn)) |>\n",
    "\n",
    "#parse oc_percent values and keep only non-negative ones\n",
    "@mutate(oc_percent = replace(_.oc_percent,','=>'.')) |>\n",
    "@mutate(oc_percent = parse(Float64, _.oc_percent)) |>\n",
    "@filter(_.oc_percent >= 0) |>\n",
    "\n",
    "#parse latitude values\n",
    "#missings are replaced with 0 to allow parsing, but we keep layers with missing lat/long\n",
    "@replacena(:lat_dec_deg=>\"0\") |>\n",
    "@mutate(lat_dec_deg = replace(_.lat_dec_deg,','=>'.')) |>\n",
    "@mutate(lat_dec_deg = parse(Float64, _.lat_dec_deg)) |>\n",
    "\n",
    "#parse longitude values \n",
    "@replacena(:long_dec_deg=>\"0\") |>\n",
    "@mutate(long_dec_deg = replace(_.long_dec_deg,','=>'.')) |>\n",
    "@mutate(long_dec_deg = parse(Float64, _.long_dec_deg)) |>\n",
    "\n",
    "#keep only unique sites/profiles/layers\n",
    "@unique((_.site_name, _.profile_name, _.layer_name)) |>\n",
    "\n",
    "DataFrame"
   ]
  },
  {
   "cell_type": "code",
   "execution_count": 27,
   "metadata": {},
   "outputs": [
    {
     "data": {
      "text/plain": [
       "tidy_names (generic function with 1 method)"
      ]
     },
     "execution_count": 27,
     "metadata": {},
     "output_type": "execute_result"
    }
   ],
   "source": [
    "function tidy_names(old_names)\n",
    "\n",
    "return new_names = old_names |>\n",
    "    #remove leading and trailing spaces\n",
    "    n -> strip.(n) |>\n",
    "\n",
    "    #replace spaces with underscores\n",
    "    n -> replace.(n, ' ' => '_') |> \n",
    "\n",
    "    #remove parenthesis\n",
    "    n -> replace.(n,'(' => \"\") |> \n",
    "    n -> replace.(n,')' => \"\") |>\n",
    "\n",
    "    #remove dashes and dots\n",
    "    n -> replace.(n,'-' => \"\") |> \n",
    "    n -> replace.(n, '.' => \"\") |>\n",
    "\n",
    "    #all lowercase\n",
    "    n -> lowercase.(n)\n",
    "\n",
    "end"
   ]
  },
  {
   "cell_type": "code",
   "execution_count": 28,
   "metadata": {},
   "outputs": [
    {
     "data": {
      "text/plain": [
       "continuity_check (generic function with 1 method)"
      ]
     },
     "execution_count": 28,
     "metadata": {},
     "output_type": "execute_result"
    }
   ],
   "source": [
    "function continuity_check(profile) \n",
    "    #the function assumes layers are ordered (e.g.  0 -> 20 -> 40)\n",
    "\n",
    "    top = profile.layer_top_cm\n",
    "    bot = profile.layer_bot_cm\n",
    "\n",
    "    n_layers = length(top)\n",
    "\n",
    "    #1st layer is always good, from 2nd we check for matching depths at bot/top\n",
    "    mask = append!([true],[top[l] == bot[l-1] for l in 2:n_layers])\n",
    "\n",
    "    #if we run into a non-matching layer, we mark as 'false' all following ones\n",
    "    first_noMatch_id = findfirst(!, mask)\n",
    "\n",
    "    if isnothing(first_noMatch_id) == false\n",
    "        mask[first_noMatch_id:end] .= false\n",
    "    end\n",
    "\n",
    "    return mask\n",
    "end"
   ]
  },
  {
   "cell_type": "code",
   "execution_count": 29,
   "metadata": {
    "scrolled": true
   },
   "outputs": [
    {
     "data": {
      "text/plain": [
       "18387-element Array{Tuple{String,String},1}:\n",
       " (\"50ND075005\", \"40A0001\")\n",
       " (\"50ND075003\", \"40A0013\")\n",
       " (\"50ND075007\", \"40A0067\")\n",
       " (\"59ND045001\", \"40A0102\")\n",
       " (\"50ND075006\", \"40A0107\")\n",
       " (\"50ND075008\", \"40A0111\")\n",
       " (\"50ND075009\", \"40A0130\")\n",
       " (\"50ND075010\", \"40A0131\")\n",
       " (\"S1949CO049005\", \"40A0138\")\n",
       " (\"S1949CO049007\", \"40A0140\")\n",
       " (\"S1964TN157003\", \"40A0158\")\n",
       " (\"S1958WV025003\", \"40A0162\")\n",
       " (\"67FN220000\", \"40A0165\")\n",
       " ⋮\n",
       " (\"uiuc198801942\", \"uiuc198801942\")\n",
       " (\"uiuc198801967\", \"uiuc198801967\")\n",
       " (\"uiuc198801968\", \"uiuc198801968\")\n",
       " (\"uiuc198801969\", \"uiuc198801969\")\n",
       " (\"uiuc198801970\", \"uiuc198801970\")\n",
       " (\"uiuc198801972\", \"uiuc198801972\")\n",
       " (\"uiuc198801973\", \"uiuc198801973\")\n",
       " (\"uiuc198902031\", \"uiuc198902031\")\n",
       " (\"uiuc198902034\", \"uiuc198902034\")\n",
       " (\"uiuc198902035\", \"uiuc198902035\")\n",
       " (\"uiuc198902036\", \"uiuc198902036\")\n",
       " (\"uiuc199002049\", \"uiuc199002049\")"
      ]
     },
     "execution_count": 29,
     "metadata": {},
     "output_type": "execute_result"
    }
   ],
   "source": [
    "sp_key_ISCN = unique([(row.site_name, row.profile_name) for row in eachrow(df_ISCN)])"
   ]
  },
  {
   "cell_type": "code",
   "execution_count": 30,
   "metadata": {},
   "outputs": [],
   "source": [
    "#generate continuity layers mask\t\n",
    "layers_keep = Vector{Bool}(undef,0)\n",
    "\n",
    "for (s,p) in sp_key_ISCN\n",
    "\n",
    "    append!(layers_keep,continuity_check(df_ISCN[(df_ISCN.site_name.==s) .& (df_ISCN.profile_name.==p),:]))\n",
    "\n",
    "end"
   ]
  },
  {
   "cell_type": "code",
   "execution_count": 31,
   "metadata": {
    "scrolled": true
   },
   "outputs": [
    {
     "data": {
      "text/html": [
       "<table class=\"data-frame\"><thead><tr><th></th><th>site_name</th><th>profile_name</th><th>layer_name</th><th>lat_dec_deg</th><th>long_dec_deg</th><th>datum_datum</th><th>observation_date_yyyymmdd</th></tr><tr><th></th><th>String</th><th>String</th><th>String</th><th>Float64</th><th>Float64</th><th>String?</th><th>String?</th></tr></thead><tbody><p>107,210 rows × 12 columns (omitted printing of 5 columns)</p><tr><th>1</th><td>50ND075005</td><td>40A0001</td><td>40A00001</td><td>48.805</td><td>-101.735</td><td>WGS84</td><td>19/09/1950</td></tr><tr><th>2</th><td>50ND075005</td><td>40A0001</td><td>40A00002</td><td>48.805</td><td>-101.735</td><td>WGS84</td><td>19/09/1950</td></tr><tr><th>3</th><td>50ND075005</td><td>40A0001</td><td>40A00003</td><td>48.805</td><td>-101.735</td><td>WGS84</td><td>19/09/1950</td></tr><tr><th>4</th><td>50ND075005</td><td>40A0001</td><td>40A00004</td><td>48.805</td><td>-101.735</td><td>WGS84</td><td>19/09/1950</td></tr><tr><th>5</th><td>50ND075005</td><td>40A0001</td><td>40A00005</td><td>48.805</td><td>-101.735</td><td>WGS84</td><td>19/09/1950</td></tr><tr><th>6</th><td>50ND075005</td><td>40A0001</td><td>40A00006</td><td>48.805</td><td>-101.735</td><td>WGS84</td><td>19/09/1950</td></tr><tr><th>7</th><td>50ND075005</td><td>40A0001</td><td>40A00007</td><td>48.805</td><td>-101.735</td><td>WGS84</td><td>19/09/1950</td></tr><tr><th>8</th><td>50ND075003</td><td>40A0013</td><td>40A00094</td><td>48.9366</td><td>-101.585</td><td>WGS84</td><td>18/09/1950</td></tr><tr><th>9</th><td>50ND075003</td><td>40A0013</td><td>40A00095</td><td>48.9366</td><td>-101.585</td><td>WGS84</td><td>18/09/1950</td></tr><tr><th>10</th><td>50ND075003</td><td>40A0013</td><td>40A00096</td><td>48.9366</td><td>-101.585</td><td>WGS84</td><td>18/09/1950</td></tr><tr><th>11</th><td>50ND075003</td><td>40A0013</td><td>40A00097</td><td>48.9366</td><td>-101.585</td><td>WGS84</td><td>18/09/1950</td></tr><tr><th>12</th><td>50ND075003</td><td>40A0013</td><td>40A00098</td><td>48.9366</td><td>-101.585</td><td>WGS84</td><td>18/09/1950</td></tr><tr><th>13</th><td>50ND075003</td><td>40A0013</td><td>40A00099</td><td>48.9366</td><td>-101.585</td><td>WGS84</td><td>18/09/1950</td></tr><tr><th>14</th><td>50ND075003</td><td>40A0013</td><td>40A00100</td><td>48.9366</td><td>-101.585</td><td>WGS84</td><td>18/09/1950</td></tr><tr><th>15</th><td>50ND075007</td><td>40A0067</td><td>40A00476</td><td>48.8083</td><td>-101.707</td><td>WGS84</td><td>19/09/1950</td></tr><tr><th>16</th><td>50ND075007</td><td>40A0067</td><td>40A00477</td><td>48.8083</td><td>-101.707</td><td>WGS84</td><td>19/09/1950</td></tr><tr><th>17</th><td>50ND075007</td><td>40A0067</td><td>40A00478</td><td>48.8083</td><td>-101.707</td><td>WGS84</td><td>19/09/1950</td></tr><tr><th>18</th><td>50ND075007</td><td>40A0067</td><td>40A00479</td><td>48.8083</td><td>-101.707</td><td>WGS84</td><td>19/09/1950</td></tr><tr><th>19</th><td>50ND075007</td><td>40A0067</td><td>40A00480</td><td>48.8083</td><td>-101.707</td><td>WGS84</td><td>19/09/1950</td></tr><tr><th>20</th><td>50ND075007</td><td>40A0067</td><td>40A00481</td><td>48.8083</td><td>-101.707</td><td>WGS84</td><td>19/09/1950</td></tr><tr><th>21</th><td>50ND075007</td><td>40A0067</td><td>40A00482</td><td>48.8083</td><td>-101.707</td><td>WGS84</td><td>19/09/1950</td></tr><tr><th>22</th><td>59ND045001</td><td>40A0102</td><td>40A00729</td><td>46.4494</td><td>-98.37</td><td>WGS84</td><td>21/08/1959</td></tr><tr><th>23</th><td>59ND045001</td><td>40A0102</td><td>40A00730</td><td>46.4494</td><td>-98.37</td><td>WGS84</td><td>21/08/1959</td></tr><tr><th>24</th><td>59ND045001</td><td>40A0102</td><td>40A00731</td><td>46.4494</td><td>-98.37</td><td>WGS84</td><td>21/08/1959</td></tr><tr><th>25</th><td>59ND045001</td><td>40A0102</td><td>40A00732</td><td>46.4494</td><td>-98.37</td><td>WGS84</td><td>21/08/1959</td></tr><tr><th>26</th><td>59ND045001</td><td>40A0102</td><td>40A00733</td><td>46.4494</td><td>-98.37</td><td>WGS84</td><td>21/08/1959</td></tr><tr><th>27</th><td>59ND045001</td><td>40A0102</td><td>40A00734</td><td>46.4494</td><td>-98.37</td><td>WGS84</td><td>21/08/1959</td></tr><tr><th>28</th><td>59ND045001</td><td>40A0102</td><td>40A00735</td><td>46.4494</td><td>-98.37</td><td>WGS84</td><td>21/08/1959</td></tr><tr><th>29</th><td>59ND045001</td><td>40A0102</td><td>40A00736</td><td>46.4494</td><td>-98.37</td><td>WGS84</td><td>21/08/1959</td></tr><tr><th>30</th><td>50ND075006</td><td>40A0107</td><td>40A00769</td><td>48.8211</td><td>-101.747</td><td>WGS84</td><td>19/09/1950</td></tr><tr><th>&vellip;</th><td>&vellip;</td><td>&vellip;</td><td>&vellip;</td><td>&vellip;</td><td>&vellip;</td><td>&vellip;</td><td>&vellip;</td></tr></tbody></table>"
      ],
      "text/latex": [
       "\\begin{tabular}{r|cccccccc}\n",
       "\t& site\\_name & profile\\_name & layer\\_name & lat\\_dec\\_deg & long\\_dec\\_deg & datum\\_datum & observation\\_date\\_yyyymmdd & \\\\\n",
       "\t\\hline\n",
       "\t& String & String & String & Float64 & Float64 & String? & String? & \\\\\n",
       "\t\\hline\n",
       "\t1 & 50ND075005 & 40A0001 & 40A00001 & 48.805 & -101.735 & WGS84 & 19/09/1950 & $\\dots$ \\\\\n",
       "\t2 & 50ND075005 & 40A0001 & 40A00002 & 48.805 & -101.735 & WGS84 & 19/09/1950 & $\\dots$ \\\\\n",
       "\t3 & 50ND075005 & 40A0001 & 40A00003 & 48.805 & -101.735 & WGS84 & 19/09/1950 & $\\dots$ \\\\\n",
       "\t4 & 50ND075005 & 40A0001 & 40A00004 & 48.805 & -101.735 & WGS84 & 19/09/1950 & $\\dots$ \\\\\n",
       "\t5 & 50ND075005 & 40A0001 & 40A00005 & 48.805 & -101.735 & WGS84 & 19/09/1950 & $\\dots$ \\\\\n",
       "\t6 & 50ND075005 & 40A0001 & 40A00006 & 48.805 & -101.735 & WGS84 & 19/09/1950 & $\\dots$ \\\\\n",
       "\t7 & 50ND075005 & 40A0001 & 40A00007 & 48.805 & -101.735 & WGS84 & 19/09/1950 & $\\dots$ \\\\\n",
       "\t8 & 50ND075003 & 40A0013 & 40A00094 & 48.9366 & -101.585 & WGS84 & 18/09/1950 & $\\dots$ \\\\\n",
       "\t9 & 50ND075003 & 40A0013 & 40A00095 & 48.9366 & -101.585 & WGS84 & 18/09/1950 & $\\dots$ \\\\\n",
       "\t10 & 50ND075003 & 40A0013 & 40A00096 & 48.9366 & -101.585 & WGS84 & 18/09/1950 & $\\dots$ \\\\\n",
       "\t11 & 50ND075003 & 40A0013 & 40A00097 & 48.9366 & -101.585 & WGS84 & 18/09/1950 & $\\dots$ \\\\\n",
       "\t12 & 50ND075003 & 40A0013 & 40A00098 & 48.9366 & -101.585 & WGS84 & 18/09/1950 & $\\dots$ \\\\\n",
       "\t13 & 50ND075003 & 40A0013 & 40A00099 & 48.9366 & -101.585 & WGS84 & 18/09/1950 & $\\dots$ \\\\\n",
       "\t14 & 50ND075003 & 40A0013 & 40A00100 & 48.9366 & -101.585 & WGS84 & 18/09/1950 & $\\dots$ \\\\\n",
       "\t15 & 50ND075007 & 40A0067 & 40A00476 & 48.8083 & -101.707 & WGS84 & 19/09/1950 & $\\dots$ \\\\\n",
       "\t16 & 50ND075007 & 40A0067 & 40A00477 & 48.8083 & -101.707 & WGS84 & 19/09/1950 & $\\dots$ \\\\\n",
       "\t17 & 50ND075007 & 40A0067 & 40A00478 & 48.8083 & -101.707 & WGS84 & 19/09/1950 & $\\dots$ \\\\\n",
       "\t18 & 50ND075007 & 40A0067 & 40A00479 & 48.8083 & -101.707 & WGS84 & 19/09/1950 & $\\dots$ \\\\\n",
       "\t19 & 50ND075007 & 40A0067 & 40A00480 & 48.8083 & -101.707 & WGS84 & 19/09/1950 & $\\dots$ \\\\\n",
       "\t20 & 50ND075007 & 40A0067 & 40A00481 & 48.8083 & -101.707 & WGS84 & 19/09/1950 & $\\dots$ \\\\\n",
       "\t21 & 50ND075007 & 40A0067 & 40A00482 & 48.8083 & -101.707 & WGS84 & 19/09/1950 & $\\dots$ \\\\\n",
       "\t22 & 59ND045001 & 40A0102 & 40A00729 & 46.4494 & -98.37 & WGS84 & 21/08/1959 & $\\dots$ \\\\\n",
       "\t23 & 59ND045001 & 40A0102 & 40A00730 & 46.4494 & -98.37 & WGS84 & 21/08/1959 & $\\dots$ \\\\\n",
       "\t24 & 59ND045001 & 40A0102 & 40A00731 & 46.4494 & -98.37 & WGS84 & 21/08/1959 & $\\dots$ \\\\\n",
       "\t25 & 59ND045001 & 40A0102 & 40A00732 & 46.4494 & -98.37 & WGS84 & 21/08/1959 & $\\dots$ \\\\\n",
       "\t26 & 59ND045001 & 40A0102 & 40A00733 & 46.4494 & -98.37 & WGS84 & 21/08/1959 & $\\dots$ \\\\\n",
       "\t27 & 59ND045001 & 40A0102 & 40A00734 & 46.4494 & -98.37 & WGS84 & 21/08/1959 & $\\dots$ \\\\\n",
       "\t28 & 59ND045001 & 40A0102 & 40A00735 & 46.4494 & -98.37 & WGS84 & 21/08/1959 & $\\dots$ \\\\\n",
       "\t29 & 59ND045001 & 40A0102 & 40A00736 & 46.4494 & -98.37 & WGS84 & 21/08/1959 & $\\dots$ \\\\\n",
       "\t30 & 50ND075006 & 40A0107 & 40A00769 & 48.8211 & -101.747 & WGS84 & 19/09/1950 & $\\dots$ \\\\\n",
       "\t$\\dots$ & $\\dots$ & $\\dots$ & $\\dots$ & $\\dots$ & $\\dots$ & $\\dots$ & $\\dots$ &  \\\\\n",
       "\\end{tabular}\n"
      ],
      "text/plain": [
       "107210×12 DataFrame. Omitted printing of 8 columns\n",
       "│ Row    │ site_name     │ profile_name  │ layer_name        │ lat_dec_deg │\n",
       "│        │ \u001b[90mString\u001b[39m        │ \u001b[90mString\u001b[39m        │ \u001b[90mString\u001b[39m            │ \u001b[90mFloat64\u001b[39m     │\n",
       "├────────┼───────────────┼───────────────┼───────────────────┼─────────────┤\n",
       "│ 1      │ 50ND075005    │ 40A0001       │ 40A00001          │ 48.805      │\n",
       "│ 2      │ 50ND075005    │ 40A0001       │ 40A00002          │ 48.805      │\n",
       "│ 3      │ 50ND075005    │ 40A0001       │ 40A00003          │ 48.805      │\n",
       "│ 4      │ 50ND075005    │ 40A0001       │ 40A00004          │ 48.805      │\n",
       "│ 5      │ 50ND075005    │ 40A0001       │ 40A00005          │ 48.805      │\n",
       "│ 6      │ 50ND075005    │ 40A0001       │ 40A00006          │ 48.805      │\n",
       "│ 7      │ 50ND075005    │ 40A0001       │ 40A00007          │ 48.805      │\n",
       "│ 8      │ 50ND075003    │ 40A0013       │ 40A00094          │ 48.9366     │\n",
       "│ 9      │ 50ND075003    │ 40A0013       │ 40A00095          │ 48.9366     │\n",
       "│ 10     │ 50ND075003    │ 40A0013       │ 40A00096          │ 48.9366     │\n",
       "⋮\n",
       "│ 107200 │ uiuc198902036 │ uiuc198902036 │ uiuc198902036.51  │ 40.7331     │\n",
       "│ 107201 │ uiuc198902036 │ uiuc198902036 │ uiuc198902036.76  │ 40.7331     │\n",
       "│ 107202 │ uiuc198902036 │ uiuc198902036 │ uiuc198902036.104 │ 40.7331     │\n",
       "│ 107203 │ uiuc198902036 │ uiuc198902036 │ uiuc198902036.150 │ 40.7331     │\n",
       "│ 107204 │ uiuc198902036 │ uiuc198902036 │ uiuc198902036.190 │ 40.7331     │\n",
       "│ 107205 │ uiuc199002049 │ uiuc199002049 │ uiuc199002049.28  │ 40.7397     │\n",
       "│ 107206 │ uiuc199002049 │ uiuc199002049 │ uiuc199002049.38  │ 40.7397     │\n",
       "│ 107207 │ uiuc199002049 │ uiuc199002049 │ uiuc199002049.61  │ 40.7397     │\n",
       "│ 107208 │ uiuc199002049 │ uiuc199002049 │ uiuc199002049.86  │ 40.7397     │\n",
       "│ 107209 │ uiuc199002049 │ uiuc199002049 │ uiuc199002049.102 │ 40.7397     │\n",
       "│ 107210 │ uiuc199002049 │ uiuc199002049 │ uiuc199002049.152 │ 40.7397     │"
      ]
     },
     "execution_count": 31,
     "metadata": {},
     "output_type": "execute_result"
    }
   ],
   "source": [
    "#apply mask to define new DF\n",
    "df_ISCN_mask = df_ISCN[layers_keep,:]"
   ]
  },
  {
   "cell_type": "markdown",
   "metadata": {},
   "source": [
    "Importing set with BD values:"
   ]
  },
  {
   "cell_type": "code",
   "execution_count": 32,
   "metadata": {
    "scrolled": true
   },
   "outputs": [
    {
     "name": "stderr",
     "output_type": "stream",
     "text": [
      "┌ Warning: thread = 1 warning: only found 26 / 27 columns around data row: 434583. Filling remaining columns with `missing`\n",
      "└ @ CSV /Users/Daniele/.julia/packages/CSV/la2cd/src/file.jl:603\n"
     ]
    },
    {
     "data": {
      "text/html": [
       "<table class=\"data-frame\"><thead><tr><th></th><th>dataset_name</th><th>site_name</th><th>profile_name</th><th>layer_name</th><th>layer_top</th><th>layer_bot</th><th>hzn_desgn</th></tr><tr><th></th><th>String</th><th>String</th><th>String</th><th>String</th><th>String</th><th>String</th><th>String?</th></tr></thead><tbody><p>434,582 rows × 27 columns (omitted printing of 20 columns)</p><tr><th>1</th><td>Boby_Mack</td><td>BF-61</td><td>BF-61-1</td><td>BF61-1-F</td><td>0</td><td>4</td><td>unknown</td></tr><tr><th>2</th><td>Boby_Mack</td><td>BF-61</td><td>BF-61-1</td><td>BF61-1-H</td><td>4</td><td>6</td><td>unknown</td></tr><tr><th>3</th><td>Boby_Mack</td><td>BF-61</td><td>BF-61-1</td><td>BF61-1-M1</td><td>6</td><td>11</td><td>unknown</td></tr><tr><th>4</th><td>Boby_Mack</td><td>BF-61</td><td>BF-61-1</td><td>BF61-1-M2</td><td>11</td><td>16</td><td>unknown</td></tr><tr><th>5</th><td>Boby_Mack</td><td>BF-61</td><td>BF-61-2</td><td>BF61-2-DM</td><td>0</td><td>5</td><td>o</td></tr><tr><th>6</th><td>Boby_Mack</td><td>BF-61</td><td>BF-61-2</td><td>BF61-2-F</td><td>5</td><td>19</td><td>unknown</td></tr><tr><th>7</th><td>Boby_Mack</td><td>BF-61</td><td>BF-61-2</td><td>BF61-2-H</td><td>19</td><td>22</td><td>unknown</td></tr><tr><th>8</th><td>Boby_Mack</td><td>BF-61</td><td>BF-61-2</td><td>BF61-2-H:354</td><td>22</td><td>25</td><td>unknown</td></tr><tr><th>9</th><td>Boby_Mack</td><td>BF-61</td><td>BF-61-2</td><td>BF61-2-M1</td><td>25</td><td>30</td><td>unknown</td></tr><tr><th>10</th><td>Boby_Mack</td><td>BF-61</td><td>BF-61-2</td><td>BF61-2-M2</td><td>30</td><td>35</td><td>unknown</td></tr><tr><th>11</th><td>Boby_Mack</td><td>BF-61</td><td>BF-61-3</td><td>BF61-3-DM</td><td>0</td><td>4</td><td>o</td></tr><tr><th>12</th><td>Boby_Mack</td><td>BF-61</td><td>BF-61-3</td><td>BF61-3-F</td><td>4</td><td>9</td><td>unknown</td></tr><tr><th>13</th><td>Boby_Mack</td><td>BF-61</td><td>BF-61-3</td><td>BF61-3-H</td><td>9</td><td>14</td><td>unknown</td></tr><tr><th>14</th><td>Boby_Mack</td><td>BF-61</td><td>BF-61-3</td><td>BF61-3-M1</td><td>14</td><td>19</td><td>unknown</td></tr><tr><th>15</th><td>Boby_Mack</td><td>BF-61</td><td>BF-61-3</td><td>BF61-3-M2</td><td>19</td><td>24</td><td>unknown</td></tr><tr><th>16</th><td>Boby_Mack</td><td>BF-61</td><td>BF-61-4</td><td>BF61-4-F</td><td>0</td><td>28</td><td>unknown</td></tr><tr><th>17</th><td>Boby_Mack</td><td>BF-61</td><td>BF-61-4</td><td>BF61-4-H</td><td>28</td><td>34</td><td>unknown</td></tr><tr><th>18</th><td>Boby_Mack</td><td>BF-61</td><td>BF-61-4</td><td>BF61-4-M1</td><td>34</td><td>39</td><td>unknown</td></tr><tr><th>19</th><td>Boby_Mack</td><td>BF-61</td><td>BF-61-4</td><td>BF61-4-M2</td><td>39</td><td>44</td><td>unknown</td></tr><tr><th>20</th><td>Boby_Mack</td><td>BF-62</td><td>BF-62-1</td><td>BF62-1-DM</td><td>0</td><td>4</td><td>o</td></tr><tr><th>21</th><td>Boby_Mack</td><td>BF-62</td><td>BF-62-1</td><td>BF62-1-F</td><td>4</td><td>21</td><td>unknown</td></tr><tr><th>22</th><td>Boby_Mack</td><td>BF-62</td><td>BF-62-1</td><td>BF62-1-M1</td><td>21</td><td>26</td><td>unknown</td></tr><tr><th>23</th><td>Boby_Mack</td><td>BF-62</td><td>BF-62-1</td><td>BF62-1-M2</td><td>26</td><td>30</td><td>unknown</td></tr><tr><th>24</th><td>Boby_Mack</td><td>BF-62</td><td>BF-62-2</td><td>BF62-2-F</td><td>0</td><td>16</td><td>unknown</td></tr><tr><th>25</th><td>Boby_Mack</td><td>BF-62</td><td>BF-62-2</td><td>BF62-2-H</td><td>16</td><td>19</td><td>unknown</td></tr><tr><th>26</th><td>Boby_Mack</td><td>BF-62</td><td>BF-62-2</td><td>BF62-2-M1</td><td>19</td><td>24</td><td>unknown</td></tr><tr><th>27</th><td>Boby_Mack</td><td>BF-62</td><td>BF-62-2</td><td>BF62-2-M2</td><td>24</td><td>27</td><td>unknown</td></tr><tr><th>28</th><td>Boby_Mack</td><td>BF-62</td><td>BF-62-3</td><td>BF62-3-H</td><td>0</td><td>8</td><td>unknown</td></tr><tr><th>29</th><td>Boby_Mack</td><td>BF-62</td><td>BF-62-3</td><td>BF62-3-M1</td><td>8</td><td>14</td><td>unknown</td></tr><tr><th>30</th><td>Boby_Mack</td><td>BF-62</td><td>BF-62-4</td><td>BF62-4-DM</td><td>0</td><td>5</td><td>o</td></tr><tr><th>&vellip;</th><td>&vellip;</td><td>&vellip;</td><td>&vellip;</td><td>&vellip;</td><td>&vellip;</td><td>&vellip;</td><td>&vellip;</td></tr></tbody></table>"
      ],
      "text/latex": [
       "\\begin{tabular}{r|cccccccc}\n",
       "\t& dataset\\_name & site\\_name & profile\\_name & layer\\_name & layer\\_top & layer\\_bot & hzn\\_desgn & \\\\\n",
       "\t\\hline\n",
       "\t& String & String & String & String & String & String & String? & \\\\\n",
       "\t\\hline\n",
       "\t1 & Boby\\_Mack & BF-61 & BF-61-1 & BF61-1-F & 0 & 4 & unknown & $\\dots$ \\\\\n",
       "\t2 & Boby\\_Mack & BF-61 & BF-61-1 & BF61-1-H & 4 & 6 & unknown & $\\dots$ \\\\\n",
       "\t3 & Boby\\_Mack & BF-61 & BF-61-1 & BF61-1-M1 & 6 & 11 & unknown & $\\dots$ \\\\\n",
       "\t4 & Boby\\_Mack & BF-61 & BF-61-1 & BF61-1-M2 & 11 & 16 & unknown & $\\dots$ \\\\\n",
       "\t5 & Boby\\_Mack & BF-61 & BF-61-2 & BF61-2-DM & 0 & 5 & o & $\\dots$ \\\\\n",
       "\t6 & Boby\\_Mack & BF-61 & BF-61-2 & BF61-2-F & 5 & 19 & unknown & $\\dots$ \\\\\n",
       "\t7 & Boby\\_Mack & BF-61 & BF-61-2 & BF61-2-H & 19 & 22 & unknown & $\\dots$ \\\\\n",
       "\t8 & Boby\\_Mack & BF-61 & BF-61-2 & BF61-2-H:354 & 22 & 25 & unknown & $\\dots$ \\\\\n",
       "\t9 & Boby\\_Mack & BF-61 & BF-61-2 & BF61-2-M1 & 25 & 30 & unknown & $\\dots$ \\\\\n",
       "\t10 & Boby\\_Mack & BF-61 & BF-61-2 & BF61-2-M2 & 30 & 35 & unknown & $\\dots$ \\\\\n",
       "\t11 & Boby\\_Mack & BF-61 & BF-61-3 & BF61-3-DM & 0 & 4 & o & $\\dots$ \\\\\n",
       "\t12 & Boby\\_Mack & BF-61 & BF-61-3 & BF61-3-F & 4 & 9 & unknown & $\\dots$ \\\\\n",
       "\t13 & Boby\\_Mack & BF-61 & BF-61-3 & BF61-3-H & 9 & 14 & unknown & $\\dots$ \\\\\n",
       "\t14 & Boby\\_Mack & BF-61 & BF-61-3 & BF61-3-M1 & 14 & 19 & unknown & $\\dots$ \\\\\n",
       "\t15 & Boby\\_Mack & BF-61 & BF-61-3 & BF61-3-M2 & 19 & 24 & unknown & $\\dots$ \\\\\n",
       "\t16 & Boby\\_Mack & BF-61 & BF-61-4 & BF61-4-F & 0 & 28 & unknown & $\\dots$ \\\\\n",
       "\t17 & Boby\\_Mack & BF-61 & BF-61-4 & BF61-4-H & 28 & 34 & unknown & $\\dots$ \\\\\n",
       "\t18 & Boby\\_Mack & BF-61 & BF-61-4 & BF61-4-M1 & 34 & 39 & unknown & $\\dots$ \\\\\n",
       "\t19 & Boby\\_Mack & BF-61 & BF-61-4 & BF61-4-M2 & 39 & 44 & unknown & $\\dots$ \\\\\n",
       "\t20 & Boby\\_Mack & BF-62 & BF-62-1 & BF62-1-DM & 0 & 4 & o & $\\dots$ \\\\\n",
       "\t21 & Boby\\_Mack & BF-62 & BF-62-1 & BF62-1-F & 4 & 21 & unknown & $\\dots$ \\\\\n",
       "\t22 & Boby\\_Mack & BF-62 & BF-62-1 & BF62-1-M1 & 21 & 26 & unknown & $\\dots$ \\\\\n",
       "\t23 & Boby\\_Mack & BF-62 & BF-62-1 & BF62-1-M2 & 26 & 30 & unknown & $\\dots$ \\\\\n",
       "\t24 & Boby\\_Mack & BF-62 & BF-62-2 & BF62-2-F & 0 & 16 & unknown & $\\dots$ \\\\\n",
       "\t25 & Boby\\_Mack & BF-62 & BF-62-2 & BF62-2-H & 16 & 19 & unknown & $\\dots$ \\\\\n",
       "\t26 & Boby\\_Mack & BF-62 & BF-62-2 & BF62-2-M1 & 19 & 24 & unknown & $\\dots$ \\\\\n",
       "\t27 & Boby\\_Mack & BF-62 & BF-62-2 & BF62-2-M2 & 24 & 27 & unknown & $\\dots$ \\\\\n",
       "\t28 & Boby\\_Mack & BF-62 & BF-62-3 & BF62-3-H & 0 & 8 & unknown & $\\dots$ \\\\\n",
       "\t29 & Boby\\_Mack & BF-62 & BF-62-3 & BF62-3-M1 & 8 & 14 & unknown & $\\dots$ \\\\\n",
       "\t30 & Boby\\_Mack & BF-62 & BF-62-4 & BF62-4-DM & 0 & 5 & o & $\\dots$ \\\\\n",
       "\t$\\dots$ & $\\dots$ & $\\dots$ & $\\dots$ & $\\dots$ & $\\dots$ & $\\dots$ & $\\dots$ &  \\\\\n",
       "\\end{tabular}\n"
      ],
      "text/plain": [
       "434582×27 DataFrame. Omitted printing of 24 columns\n",
       "│ Row    │ dataset_name                            │ site_name │ profile_name │\n",
       "│        │ \u001b[90mString\u001b[39m                                  │ \u001b[90mString\u001b[39m    │ \u001b[90mString\u001b[39m       │\n",
       "├────────┼─────────────────────────────────────────┼───────────┼──────────────┤\n",
       "│ 1      │ Boby_Mack                               │ BF-61     │ BF-61-1      │\n",
       "│ 2      │ Boby_Mack                               │ BF-61     │ BF-61-1      │\n",
       "│ 3      │ Boby_Mack                               │ BF-61     │ BF-61-1      │\n",
       "│ 4      │ Boby_Mack                               │ BF-61     │ BF-61-1      │\n",
       "│ 5      │ Boby_Mack                               │ BF-61     │ BF-61-2      │\n",
       "│ 6      │ Boby_Mack                               │ BF-61     │ BF-61-2      │\n",
       "│ 7      │ Boby_Mack                               │ BF-61     │ BF-61-2      │\n",
       "│ 8      │ Boby_Mack                               │ BF-61     │ BF-61-2      │\n",
       "│ 9      │ Boby_Mack                               │ BF-61     │ BF-61-2      │\n",
       "│ 10     │ Boby_Mack                               │ BF-61     │ BF-61-2      │\n",
       "⋮\n",
       "│ 434572 │ Worldwide soil carbon and nitrogen data │ ZV681 RS  │ 3002009      │\n",
       "│ 434573 │ Worldwide soil carbon and nitrogen data │ ZV681 RS  │ 3002009      │\n",
       "│ 434574 │ Worldwide soil carbon and nitrogen data │ ZV681 RS  │ 3002009      │\n",
       "│ 434575 │ Worldwide soil carbon and nitrogen data │ ZV681 RS  │ 3002009      │\n",
       "│ 434576 │ Worldwide soil carbon and nitrogen data │ ZV681 RS  │ 3002009      │\n",
       "│ 434577 │ Worldwide soil carbon and nitrogen data │ ZV681 RS  │ 3002009      │\n",
       "│ 434578 │ Worldwide soil carbon and nitrogen data │ ZV8 RS    │ 3002004      │\n",
       "│ 434579 │ Worldwide soil carbon and nitrogen data │ ZV8 RS    │ 3002004      │\n",
       "│ 434580 │ Worldwide soil carbon and nitrogen data │ ZV8 RS    │ 3002004      │\n",
       "│ 434581 │ Worldwide soil carbon and nitrogen data │ ZV8 RS    │ 3002004      │\n",
       "│ 434582 │ Worldwide soil carbon and nitrogen data │ ZV8 RS    │ 3002004      │"
      ]
     },
     "execution_count": 32,
     "metadata": {},
     "output_type": "execute_result"
    }
   ],
   "source": [
    "df_BD_pred_orig = CSV.read(\"ISCNTemplate_NRCS_BD_predictions.csv\", DataFrame)"
   ]
  },
  {
   "cell_type": "markdown",
   "metadata": {},
   "source": [
    "Cleaning up BD set:"
   ]
  },
  {
   "cell_type": "code",
   "execution_count": 33,
   "metadata": {
    "scrolled": true
   },
   "outputs": [
    {
     "data": {
      "text/html": [
       "<table class=\"data-frame\"><thead><tr><th></th><th>site_name</th><th>profile_name</th><th>layer_name</th><th>bd_pred_2</th></tr><tr><th></th><th>String</th><th>String</th><th>String</th><th>Float64</th></tr></thead><tbody><p>434,582 rows × 4 columns</p><tr><th>1</th><td>BF-61</td><td>BF-61-1</td><td>BF61-1-F</td><td>0.73</td></tr><tr><th>2</th><td>BF-61</td><td>BF-61-1</td><td>BF61-1-H</td><td>0.74</td></tr><tr><th>3</th><td>BF-61</td><td>BF-61-1</td><td>BF61-1-M1</td><td>1.03</td></tr><tr><th>4</th><td>BF-61</td><td>BF-61-1</td><td>BF61-1-M2</td><td>1.13</td></tr><tr><th>5</th><td>BF-61</td><td>BF-61-2</td><td>BF61-2-DM</td><td>0.36</td></tr><tr><th>6</th><td>BF-61</td><td>BF-61-2</td><td>BF61-2-F</td><td>0.67</td></tr><tr><th>7</th><td>BF-61</td><td>BF-61-2</td><td>BF61-2-H</td><td>0.77</td></tr><tr><th>8</th><td>BF-61</td><td>BF-61-2</td><td>BF61-2-H:354</td><td>0.67</td></tr><tr><th>9</th><td>BF-61</td><td>BF-61-2</td><td>BF61-2-M1</td><td>0.96</td></tr><tr><th>10</th><td>BF-61</td><td>BF-61-2</td><td>BF61-2-M2</td><td>1.01</td></tr><tr><th>11</th><td>BF-61</td><td>BF-61-3</td><td>BF61-3-DM</td><td>0.35</td></tr><tr><th>12</th><td>BF-61</td><td>BF-61-3</td><td>BF61-3-F</td><td>0.7</td></tr><tr><th>13</th><td>BF-61</td><td>BF-61-3</td><td>BF61-3-H</td><td>0.71</td></tr><tr><th>14</th><td>BF-61</td><td>BF-61-3</td><td>BF61-3-M1</td><td>0.92</td></tr><tr><th>15</th><td>BF-61</td><td>BF-61-3</td><td>BF61-3-M2</td><td>1.08</td></tr><tr><th>16</th><td>BF-61</td><td>BF-61-4</td><td>BF61-4-F</td><td>0.68</td></tr><tr><th>17</th><td>BF-61</td><td>BF-61-4</td><td>BF61-4-H</td><td>0.68</td></tr><tr><th>18</th><td>BF-61</td><td>BF-61-4</td><td>BF61-4-M1</td><td>0.91</td></tr><tr><th>19</th><td>BF-61</td><td>BF-61-4</td><td>BF61-4-M2</td><td>1.02</td></tr><tr><th>20</th><td>BF-62</td><td>BF-62-1</td><td>BF62-1-DM</td><td>0.35</td></tr><tr><th>21</th><td>BF-62</td><td>BF-62-1</td><td>BF62-1-F</td><td>0.67</td></tr><tr><th>22</th><td>BF-62</td><td>BF-62-1</td><td>BF62-1-M1</td><td>1.01</td></tr><tr><th>23</th><td>BF-62</td><td>BF-62-1</td><td>BF62-1-M2</td><td>1.14</td></tr><tr><th>24</th><td>BF-62</td><td>BF-62-2</td><td>BF62-2-F</td><td>0.67</td></tr><tr><th>25</th><td>BF-62</td><td>BF-62-2</td><td>BF62-2-H</td><td>0.74</td></tr><tr><th>26</th><td>BF-62</td><td>BF-62-2</td><td>BF62-2-M1</td><td>1.11</td></tr><tr><th>27</th><td>BF-62</td><td>BF-62-2</td><td>BF62-2-M2</td><td>1.11</td></tr><tr><th>28</th><td>BF-62</td><td>BF-62-3</td><td>BF62-3-H</td><td>0.77</td></tr><tr><th>29</th><td>BF-62</td><td>BF-62-3</td><td>BF62-3-M1</td><td>0.87</td></tr><tr><th>30</th><td>BF-62</td><td>BF-62-4</td><td>BF62-4-DM</td><td>0.37</td></tr><tr><th>&vellip;</th><td>&vellip;</td><td>&vellip;</td><td>&vellip;</td><td>&vellip;</td></tr></tbody></table>"
      ],
      "text/latex": [
       "\\begin{tabular}{r|cccc}\n",
       "\t& site\\_name & profile\\_name & layer\\_name & bd\\_pred\\_2\\\\\n",
       "\t\\hline\n",
       "\t& String & String & String & Float64\\\\\n",
       "\t\\hline\n",
       "\t1 & BF-61 & BF-61-1 & BF61-1-F & 0.73 \\\\\n",
       "\t2 & BF-61 & BF-61-1 & BF61-1-H & 0.74 \\\\\n",
       "\t3 & BF-61 & BF-61-1 & BF61-1-M1 & 1.03 \\\\\n",
       "\t4 & BF-61 & BF-61-1 & BF61-1-M2 & 1.13 \\\\\n",
       "\t5 & BF-61 & BF-61-2 & BF61-2-DM & 0.36 \\\\\n",
       "\t6 & BF-61 & BF-61-2 & BF61-2-F & 0.67 \\\\\n",
       "\t7 & BF-61 & BF-61-2 & BF61-2-H & 0.77 \\\\\n",
       "\t8 & BF-61 & BF-61-2 & BF61-2-H:354 & 0.67 \\\\\n",
       "\t9 & BF-61 & BF-61-2 & BF61-2-M1 & 0.96 \\\\\n",
       "\t10 & BF-61 & BF-61-2 & BF61-2-M2 & 1.01 \\\\\n",
       "\t11 & BF-61 & BF-61-3 & BF61-3-DM & 0.35 \\\\\n",
       "\t12 & BF-61 & BF-61-3 & BF61-3-F & 0.7 \\\\\n",
       "\t13 & BF-61 & BF-61-3 & BF61-3-H & 0.71 \\\\\n",
       "\t14 & BF-61 & BF-61-3 & BF61-3-M1 & 0.92 \\\\\n",
       "\t15 & BF-61 & BF-61-3 & BF61-3-M2 & 1.08 \\\\\n",
       "\t16 & BF-61 & BF-61-4 & BF61-4-F & 0.68 \\\\\n",
       "\t17 & BF-61 & BF-61-4 & BF61-4-H & 0.68 \\\\\n",
       "\t18 & BF-61 & BF-61-4 & BF61-4-M1 & 0.91 \\\\\n",
       "\t19 & BF-61 & BF-61-4 & BF61-4-M2 & 1.02 \\\\\n",
       "\t20 & BF-62 & BF-62-1 & BF62-1-DM & 0.35 \\\\\n",
       "\t21 & BF-62 & BF-62-1 & BF62-1-F & 0.67 \\\\\n",
       "\t22 & BF-62 & BF-62-1 & BF62-1-M1 & 1.01 \\\\\n",
       "\t23 & BF-62 & BF-62-1 & BF62-1-M2 & 1.14 \\\\\n",
       "\t24 & BF-62 & BF-62-2 & BF62-2-F & 0.67 \\\\\n",
       "\t25 & BF-62 & BF-62-2 & BF62-2-H & 0.74 \\\\\n",
       "\t26 & BF-62 & BF-62-2 & BF62-2-M1 & 1.11 \\\\\n",
       "\t27 & BF-62 & BF-62-2 & BF62-2-M2 & 1.11 \\\\\n",
       "\t28 & BF-62 & BF-62-3 & BF62-3-H & 0.77 \\\\\n",
       "\t29 & BF-62 & BF-62-3 & BF62-3-M1 & 0.87 \\\\\n",
       "\t30 & BF-62 & BF-62-4 & BF62-4-DM & 0.37 \\\\\n",
       "\t$\\dots$ & $\\dots$ & $\\dots$ & $\\dots$ & $\\dots$ \\\\\n",
       "\\end{tabular}\n"
      ],
      "text/plain": [
       "434582×4 DataFrame\n",
       "│ Row    │ site_name │ profile_name │ layer_name   │ bd_pred_2 │\n",
       "│        │ \u001b[90mString\u001b[39m    │ \u001b[90mString\u001b[39m       │ \u001b[90mString\u001b[39m       │ \u001b[90mFloat64\u001b[39m   │\n",
       "├────────┼───────────┼──────────────┼──────────────┼───────────┤\n",
       "│ 1      │ BF-61     │ BF-61-1      │ BF61-1-F     │ 0.73      │\n",
       "│ 2      │ BF-61     │ BF-61-1      │ BF61-1-H     │ 0.74      │\n",
       "│ 3      │ BF-61     │ BF-61-1      │ BF61-1-M1    │ 1.03      │\n",
       "│ 4      │ BF-61     │ BF-61-1      │ BF61-1-M2    │ 1.13      │\n",
       "│ 5      │ BF-61     │ BF-61-2      │ BF61-2-DM    │ 0.36      │\n",
       "│ 6      │ BF-61     │ BF-61-2      │ BF61-2-F     │ 0.67      │\n",
       "│ 7      │ BF-61     │ BF-61-2      │ BF61-2-H     │ 0.77      │\n",
       "│ 8      │ BF-61     │ BF-61-2      │ BF61-2-H:354 │ 0.67      │\n",
       "│ 9      │ BF-61     │ BF-61-2      │ BF61-2-M1    │ 0.96      │\n",
       "│ 10     │ BF-61     │ BF-61-2      │ BF61-2-M2    │ 1.01      │\n",
       "⋮\n",
       "│ 434572 │ ZV681 RS  │ 3002009      │ 3002009,1    │ 1.39      │\n",
       "│ 434573 │ ZV681 RS  │ 3002009      │ 3002009,2    │ 1.42      │\n",
       "│ 434574 │ ZV681 RS  │ 3002009      │ 3002009,3    │ 1.43      │\n",
       "│ 434575 │ ZV681 RS  │ 3002009      │ 3002009,4    │ 1.38      │\n",
       "│ 434576 │ ZV681 RS  │ 3002009      │ 3002009,5    │ 1.34      │\n",
       "│ 434577 │ ZV681 RS  │ 3002009      │ 3002009,6    │ 1.36      │\n",
       "│ 434578 │ ZV8 RS    │ 3002004      │ 3002004,1    │ 1.38      │\n",
       "│ 434579 │ ZV8 RS    │ 3002004      │ 3002004,2    │ 1.42      │\n",
       "│ 434580 │ ZV8 RS    │ 3002004      │ 3002004,3    │ 1.4       │\n",
       "│ 434581 │ ZV8 RS    │ 3002004      │ 3002004,4    │ 1.34      │\n",
       "│ 434582 │ ZV8 RS    │ 3002004      │ 3002004,5    │ 1.33      │"
      ]
     },
     "execution_count": 33,
     "metadata": {},
     "output_type": "execute_result"
    }
   ],
   "source": [
    "#copy of original dataset and tidied up column names\n",
    "df_BD_pred = deepcopy(df_BD_pred_orig)\n",
    "\n",
    "df_BD_pred = df_BD_pred |>\n",
    "\n",
    "#pick relevant columns\n",
    "@select(:site_name,:profile_name,:layer_name,:bd_pred_2) |>\n",
    "\n",
    "#remove layers with missing predicted BD\n",
    "@dropna(:bd_pred_2) |>\n",
    "\n",
    "#parse bd_pred_2 values and keep only non-negative ones\n",
    "@mutate(bd_pred_2 = replace(_.bd_pred_2,','=>'.')) |>\n",
    "@mutate(bd_pred_2 = parse(Float64, _.bd_pred_2)) |>\n",
    "@filter(_.bd_pred_2 > 0) |>\n",
    "\n",
    "DataFrame"
   ]
  },
  {
   "cell_type": "markdown",
   "metadata": {},
   "source": [
    "NOTE: ‘bd_pred_1’ is for organic horizons (hzn = O), ‘be_pred_2’ for mineral soil horizons (hzn != O).\n"
   ]
  },
  {
   "cell_type": "code",
   "execution_count": 34,
   "metadata": {
    "scrolled": true
   },
   "outputs": [
    {
     "data": {
      "text/html": [
       "<table class=\"data-frame\"><thead><tr><th></th><th>site_name</th><th>profile_name</th><th>layer_name</th><th>lat_dec_deg</th><th>long_dec_deg</th><th>datum_datum</th><th>observation_date_yyyymmdd</th></tr><tr><th></th><th>String</th><th>String</th><th>String</th><th>Float64</th><th>Float64</th><th>String?</th><th>String?</th></tr></thead><tbody><p>107,200 rows × 13 columns (omitted printing of 6 columns)</p><tr><th>1</th><td>50ND075005</td><td>40A0001</td><td>40A00001</td><td>48.805</td><td>-101.735</td><td>WGS84</td><td>19/09/1950</td></tr><tr><th>2</th><td>50ND075005</td><td>40A0001</td><td>40A00002</td><td>48.805</td><td>-101.735</td><td>WGS84</td><td>19/09/1950</td></tr><tr><th>3</th><td>50ND075005</td><td>40A0001</td><td>40A00003</td><td>48.805</td><td>-101.735</td><td>WGS84</td><td>19/09/1950</td></tr><tr><th>4</th><td>50ND075005</td><td>40A0001</td><td>40A00004</td><td>48.805</td><td>-101.735</td><td>WGS84</td><td>19/09/1950</td></tr><tr><th>5</th><td>50ND075005</td><td>40A0001</td><td>40A00005</td><td>48.805</td><td>-101.735</td><td>WGS84</td><td>19/09/1950</td></tr><tr><th>6</th><td>50ND075005</td><td>40A0001</td><td>40A00006</td><td>48.805</td><td>-101.735</td><td>WGS84</td><td>19/09/1950</td></tr><tr><th>7</th><td>50ND075005</td><td>40A0001</td><td>40A00007</td><td>48.805</td><td>-101.735</td><td>WGS84</td><td>19/09/1950</td></tr><tr><th>8</th><td>50ND075003</td><td>40A0013</td><td>40A00094</td><td>48.9366</td><td>-101.585</td><td>WGS84</td><td>18/09/1950</td></tr><tr><th>9</th><td>50ND075003</td><td>40A0013</td><td>40A00095</td><td>48.9366</td><td>-101.585</td><td>WGS84</td><td>18/09/1950</td></tr><tr><th>10</th><td>50ND075003</td><td>40A0013</td><td>40A00096</td><td>48.9366</td><td>-101.585</td><td>WGS84</td><td>18/09/1950</td></tr><tr><th>11</th><td>50ND075003</td><td>40A0013</td><td>40A00097</td><td>48.9366</td><td>-101.585</td><td>WGS84</td><td>18/09/1950</td></tr><tr><th>12</th><td>50ND075003</td><td>40A0013</td><td>40A00098</td><td>48.9366</td><td>-101.585</td><td>WGS84</td><td>18/09/1950</td></tr><tr><th>13</th><td>50ND075003</td><td>40A0013</td><td>40A00099</td><td>48.9366</td><td>-101.585</td><td>WGS84</td><td>18/09/1950</td></tr><tr><th>14</th><td>50ND075003</td><td>40A0013</td><td>40A00100</td><td>48.9366</td><td>-101.585</td><td>WGS84</td><td>18/09/1950</td></tr><tr><th>15</th><td>50ND075007</td><td>40A0067</td><td>40A00476</td><td>48.8083</td><td>-101.707</td><td>WGS84</td><td>19/09/1950</td></tr><tr><th>16</th><td>50ND075007</td><td>40A0067</td><td>40A00477</td><td>48.8083</td><td>-101.707</td><td>WGS84</td><td>19/09/1950</td></tr><tr><th>17</th><td>50ND075007</td><td>40A0067</td><td>40A00478</td><td>48.8083</td><td>-101.707</td><td>WGS84</td><td>19/09/1950</td></tr><tr><th>18</th><td>50ND075007</td><td>40A0067</td><td>40A00479</td><td>48.8083</td><td>-101.707</td><td>WGS84</td><td>19/09/1950</td></tr><tr><th>19</th><td>50ND075007</td><td>40A0067</td><td>40A00480</td><td>48.8083</td><td>-101.707</td><td>WGS84</td><td>19/09/1950</td></tr><tr><th>20</th><td>50ND075007</td><td>40A0067</td><td>40A00481</td><td>48.8083</td><td>-101.707</td><td>WGS84</td><td>19/09/1950</td></tr><tr><th>21</th><td>50ND075007</td><td>40A0067</td><td>40A00482</td><td>48.8083</td><td>-101.707</td><td>WGS84</td><td>19/09/1950</td></tr><tr><th>22</th><td>59ND045001</td><td>40A0102</td><td>40A00729</td><td>46.4494</td><td>-98.37</td><td>WGS84</td><td>21/08/1959</td></tr><tr><th>23</th><td>59ND045001</td><td>40A0102</td><td>40A00730</td><td>46.4494</td><td>-98.37</td><td>WGS84</td><td>21/08/1959</td></tr><tr><th>24</th><td>59ND045001</td><td>40A0102</td><td>40A00731</td><td>46.4494</td><td>-98.37</td><td>WGS84</td><td>21/08/1959</td></tr><tr><th>25</th><td>59ND045001</td><td>40A0102</td><td>40A00732</td><td>46.4494</td><td>-98.37</td><td>WGS84</td><td>21/08/1959</td></tr><tr><th>26</th><td>59ND045001</td><td>40A0102</td><td>40A00733</td><td>46.4494</td><td>-98.37</td><td>WGS84</td><td>21/08/1959</td></tr><tr><th>27</th><td>59ND045001</td><td>40A0102</td><td>40A00734</td><td>46.4494</td><td>-98.37</td><td>WGS84</td><td>21/08/1959</td></tr><tr><th>28</th><td>59ND045001</td><td>40A0102</td><td>40A00735</td><td>46.4494</td><td>-98.37</td><td>WGS84</td><td>21/08/1959</td></tr><tr><th>29</th><td>59ND045001</td><td>40A0102</td><td>40A00736</td><td>46.4494</td><td>-98.37</td><td>WGS84</td><td>21/08/1959</td></tr><tr><th>30</th><td>50ND075006</td><td>40A0107</td><td>40A00769</td><td>48.8211</td><td>-101.747</td><td>WGS84</td><td>19/09/1950</td></tr><tr><th>&vellip;</th><td>&vellip;</td><td>&vellip;</td><td>&vellip;</td><td>&vellip;</td><td>&vellip;</td><td>&vellip;</td><td>&vellip;</td></tr></tbody></table>"
      ],
      "text/latex": [
       "\\begin{tabular}{r|cccccccc}\n",
       "\t& site\\_name & profile\\_name & layer\\_name & lat\\_dec\\_deg & long\\_dec\\_deg & datum\\_datum & observation\\_date\\_yyyymmdd & \\\\\n",
       "\t\\hline\n",
       "\t& String & String & String & Float64 & Float64 & String? & String? & \\\\\n",
       "\t\\hline\n",
       "\t1 & 50ND075005 & 40A0001 & 40A00001 & 48.805 & -101.735 & WGS84 & 19/09/1950 & $\\dots$ \\\\\n",
       "\t2 & 50ND075005 & 40A0001 & 40A00002 & 48.805 & -101.735 & WGS84 & 19/09/1950 & $\\dots$ \\\\\n",
       "\t3 & 50ND075005 & 40A0001 & 40A00003 & 48.805 & -101.735 & WGS84 & 19/09/1950 & $\\dots$ \\\\\n",
       "\t4 & 50ND075005 & 40A0001 & 40A00004 & 48.805 & -101.735 & WGS84 & 19/09/1950 & $\\dots$ \\\\\n",
       "\t5 & 50ND075005 & 40A0001 & 40A00005 & 48.805 & -101.735 & WGS84 & 19/09/1950 & $\\dots$ \\\\\n",
       "\t6 & 50ND075005 & 40A0001 & 40A00006 & 48.805 & -101.735 & WGS84 & 19/09/1950 & $\\dots$ \\\\\n",
       "\t7 & 50ND075005 & 40A0001 & 40A00007 & 48.805 & -101.735 & WGS84 & 19/09/1950 & $\\dots$ \\\\\n",
       "\t8 & 50ND075003 & 40A0013 & 40A00094 & 48.9366 & -101.585 & WGS84 & 18/09/1950 & $\\dots$ \\\\\n",
       "\t9 & 50ND075003 & 40A0013 & 40A00095 & 48.9366 & -101.585 & WGS84 & 18/09/1950 & $\\dots$ \\\\\n",
       "\t10 & 50ND075003 & 40A0013 & 40A00096 & 48.9366 & -101.585 & WGS84 & 18/09/1950 & $\\dots$ \\\\\n",
       "\t11 & 50ND075003 & 40A0013 & 40A00097 & 48.9366 & -101.585 & WGS84 & 18/09/1950 & $\\dots$ \\\\\n",
       "\t12 & 50ND075003 & 40A0013 & 40A00098 & 48.9366 & -101.585 & WGS84 & 18/09/1950 & $\\dots$ \\\\\n",
       "\t13 & 50ND075003 & 40A0013 & 40A00099 & 48.9366 & -101.585 & WGS84 & 18/09/1950 & $\\dots$ \\\\\n",
       "\t14 & 50ND075003 & 40A0013 & 40A00100 & 48.9366 & -101.585 & WGS84 & 18/09/1950 & $\\dots$ \\\\\n",
       "\t15 & 50ND075007 & 40A0067 & 40A00476 & 48.8083 & -101.707 & WGS84 & 19/09/1950 & $\\dots$ \\\\\n",
       "\t16 & 50ND075007 & 40A0067 & 40A00477 & 48.8083 & -101.707 & WGS84 & 19/09/1950 & $\\dots$ \\\\\n",
       "\t17 & 50ND075007 & 40A0067 & 40A00478 & 48.8083 & -101.707 & WGS84 & 19/09/1950 & $\\dots$ \\\\\n",
       "\t18 & 50ND075007 & 40A0067 & 40A00479 & 48.8083 & -101.707 & WGS84 & 19/09/1950 & $\\dots$ \\\\\n",
       "\t19 & 50ND075007 & 40A0067 & 40A00480 & 48.8083 & -101.707 & WGS84 & 19/09/1950 & $\\dots$ \\\\\n",
       "\t20 & 50ND075007 & 40A0067 & 40A00481 & 48.8083 & -101.707 & WGS84 & 19/09/1950 & $\\dots$ \\\\\n",
       "\t21 & 50ND075007 & 40A0067 & 40A00482 & 48.8083 & -101.707 & WGS84 & 19/09/1950 & $\\dots$ \\\\\n",
       "\t22 & 59ND045001 & 40A0102 & 40A00729 & 46.4494 & -98.37 & WGS84 & 21/08/1959 & $\\dots$ \\\\\n",
       "\t23 & 59ND045001 & 40A0102 & 40A00730 & 46.4494 & -98.37 & WGS84 & 21/08/1959 & $\\dots$ \\\\\n",
       "\t24 & 59ND045001 & 40A0102 & 40A00731 & 46.4494 & -98.37 & WGS84 & 21/08/1959 & $\\dots$ \\\\\n",
       "\t25 & 59ND045001 & 40A0102 & 40A00732 & 46.4494 & -98.37 & WGS84 & 21/08/1959 & $\\dots$ \\\\\n",
       "\t26 & 59ND045001 & 40A0102 & 40A00733 & 46.4494 & -98.37 & WGS84 & 21/08/1959 & $\\dots$ \\\\\n",
       "\t27 & 59ND045001 & 40A0102 & 40A00734 & 46.4494 & -98.37 & WGS84 & 21/08/1959 & $\\dots$ \\\\\n",
       "\t28 & 59ND045001 & 40A0102 & 40A00735 & 46.4494 & -98.37 & WGS84 & 21/08/1959 & $\\dots$ \\\\\n",
       "\t29 & 59ND045001 & 40A0102 & 40A00736 & 46.4494 & -98.37 & WGS84 & 21/08/1959 & $\\dots$ \\\\\n",
       "\t30 & 50ND075006 & 40A0107 & 40A00769 & 48.8211 & -101.747 & WGS84 & 19/09/1950 & $\\dots$ \\\\\n",
       "\t$\\dots$ & $\\dots$ & $\\dots$ & $\\dots$ & $\\dots$ & $\\dots$ & $\\dots$ & $\\dots$ &  \\\\\n",
       "\\end{tabular}\n"
      ],
      "text/plain": [
       "107200×13 DataFrame. Omitted printing of 9 columns\n",
       "│ Row    │ site_name     │ profile_name  │ layer_name        │ lat_dec_deg │\n",
       "│        │ \u001b[90mString\u001b[39m        │ \u001b[90mString\u001b[39m        │ \u001b[90mString\u001b[39m            │ \u001b[90mFloat64\u001b[39m     │\n",
       "├────────┼───────────────┼───────────────┼───────────────────┼─────────────┤\n",
       "│ 1      │ 50ND075005    │ 40A0001       │ 40A00001          │ 48.805      │\n",
       "│ 2      │ 50ND075005    │ 40A0001       │ 40A00002          │ 48.805      │\n",
       "│ 3      │ 50ND075005    │ 40A0001       │ 40A00003          │ 48.805      │\n",
       "│ 4      │ 50ND075005    │ 40A0001       │ 40A00004          │ 48.805      │\n",
       "│ 5      │ 50ND075005    │ 40A0001       │ 40A00005          │ 48.805      │\n",
       "│ 6      │ 50ND075005    │ 40A0001       │ 40A00006          │ 48.805      │\n",
       "│ 7      │ 50ND075005    │ 40A0001       │ 40A00007          │ 48.805      │\n",
       "│ 8      │ 50ND075003    │ 40A0013       │ 40A00094          │ 48.9366     │\n",
       "│ 9      │ 50ND075003    │ 40A0013       │ 40A00095          │ 48.9366     │\n",
       "│ 10     │ 50ND075003    │ 40A0013       │ 40A00096          │ 48.9366     │\n",
       "⋮\n",
       "│ 107190 │ uiuc198902036 │ uiuc198902036 │ uiuc198902036.51  │ 40.7331     │\n",
       "│ 107191 │ uiuc198902036 │ uiuc198902036 │ uiuc198902036.76  │ 40.7331     │\n",
       "│ 107192 │ uiuc198902036 │ uiuc198902036 │ uiuc198902036.104 │ 40.7331     │\n",
       "│ 107193 │ uiuc198902036 │ uiuc198902036 │ uiuc198902036.150 │ 40.7331     │\n",
       "│ 107194 │ uiuc198902036 │ uiuc198902036 │ uiuc198902036.190 │ 40.7331     │\n",
       "│ 107195 │ uiuc199002049 │ uiuc199002049 │ uiuc199002049.28  │ 40.7397     │\n",
       "│ 107196 │ uiuc199002049 │ uiuc199002049 │ uiuc199002049.38  │ 40.7397     │\n",
       "│ 107197 │ uiuc199002049 │ uiuc199002049 │ uiuc199002049.61  │ 40.7397     │\n",
       "│ 107198 │ uiuc199002049 │ uiuc199002049 │ uiuc199002049.86  │ 40.7397     │\n",
       "│ 107199 │ uiuc199002049 │ uiuc199002049 │ uiuc199002049.102 │ 40.7397     │\n",
       "│ 107200 │ uiuc199002049 │ uiuc199002049 │ uiuc199002049.152 │ 40.7397     │"
      ]
     },
     "execution_count": 34,
     "metadata": {},
     "output_type": "execute_result"
    }
   ],
   "source": [
    "#adding predicted BD values to each layer\n",
    "df_merged = innerjoin(df_ISCN_mask, df_BD_pred, on = [:site_name, :profile_name, :layer_name])\n",
    "\n",
    "#making sure there are no missing BD values and no duplicated layers\n",
    "dropmissing!(df_merged,:bd_pred_2)\n",
    "unique!(df_merged, [:site_name, :profile_name, :layer_name])"
   ]
  },
  {
   "cell_type": "code",
   "execution_count": 35,
   "metadata": {
    "scrolled": true
   },
   "outputs": [
    {
     "data": {
      "text/plain": [
       "18386-element Array{Tuple{String,String},1}:\n",
       " (\"50ND075005\", \"40A0001\")\n",
       " (\"50ND075003\", \"40A0013\")\n",
       " (\"50ND075007\", \"40A0067\")\n",
       " (\"59ND045001\", \"40A0102\")\n",
       " (\"50ND075006\", \"40A0107\")\n",
       " (\"50ND075008\", \"40A0111\")\n",
       " (\"50ND075009\", \"40A0130\")\n",
       " (\"50ND075010\", \"40A0131\")\n",
       " (\"S1949CO049005\", \"40A0138\")\n",
       " (\"S1949CO049007\", \"40A0140\")\n",
       " (\"S1964TN157003\", \"40A0158\")\n",
       " (\"S1958WV025003\", \"40A0162\")\n",
       " (\"67FN220000\", \"40A0165\")\n",
       " ⋮\n",
       " (\"uiuc198801942\", \"uiuc198801942\")\n",
       " (\"uiuc198801967\", \"uiuc198801967\")\n",
       " (\"uiuc198801968\", \"uiuc198801968\")\n",
       " (\"uiuc198801969\", \"uiuc198801969\")\n",
       " (\"uiuc198801970\", \"uiuc198801970\")\n",
       " (\"uiuc198801972\", \"uiuc198801972\")\n",
       " (\"uiuc198801973\", \"uiuc198801973\")\n",
       " (\"uiuc198902031\", \"uiuc198902031\")\n",
       " (\"uiuc198902034\", \"uiuc198902034\")\n",
       " (\"uiuc198902035\", \"uiuc198902035\")\n",
       " (\"uiuc198902036\", \"uiuc198902036\")\n",
       " (\"uiuc199002049\", \"uiuc199002049\")"
      ]
     },
     "execution_count": 35,
     "metadata": {},
     "output_type": "execute_result"
    }
   ],
   "source": [
    "#keys to wrangle profiles/layers\n",
    "sp_key_merged = unique([(row.site_name, row.profile_name) for row in eachrow(df_merged)])"
   ]
  },
  {
   "cell_type": "code",
   "execution_count": 36,
   "metadata": {},
   "outputs": [
    {
     "data": {
      "text/plain": [
       "orgc_storage (generic function with 1 method)"
      ]
     },
     "execution_count": 36,
     "metadata": {},
     "output_type": "execute_result"
    }
   ],
   "source": [
    "function orgc_storage(profile) \n",
    "\n",
    "    top = profile.layer_top_cm\n",
    "    bot = profile.layer_bot_cm\n",
    "\n",
    "    blk = profile.bd_pred_2 #[g/cm³]\n",
    "    orgc = profile.oc_percent #[%]\n",
    "\n",
    "    layers_heights = (bot.-top)\n",
    "\n",
    "    mass=0.0\n",
    "    for layer in 1:length(layers_heights)\n",
    "        #calculation for 100cmx100cm of surface, for all layers: volume x carbon/volume\n",
    "        mass += (100*100*layers_heights[layer])*(blk[layer]*orgc[layer]/100)/1000 #result in [Kg]\n",
    "    end\n",
    "\n",
    "    return mass\n",
    "end"
   ]
  },
  {
   "cell_type": "code",
   "execution_count": 37,
   "metadata": {
    "scrolled": true
   },
   "outputs": [
    {
     "data": {
      "text/html": [
       "<table class=\"data-frame\"><thead><tr><th></th><th>site_name</th><th>profile_name</th><th>orgc_kg</th></tr><tr><th></th><th>String</th><th>String</th><th>Float64</th></tr></thead><tbody><p>18,386 rows × 3 columns</p><tr><th>1</th><td>50ND075005</td><td>40A0001</td><td>3.81415</td></tr><tr><th>2</th><td>50ND075003</td><td>40A0013</td><td>8.54735</td></tr><tr><th>3</th><td>50ND075007</td><td>40A0067</td><td>3.94668</td></tr><tr><th>4</th><td>59ND045001</td><td>40A0102</td><td>18.5023</td></tr><tr><th>5</th><td>50ND075006</td><td>40A0107</td><td>6.55938</td></tr><tr><th>6</th><td>50ND075008</td><td>40A0111</td><td>9.44642</td></tr><tr><th>7</th><td>50ND075009</td><td>40A0130</td><td>5.94671</td></tr><tr><th>8</th><td>50ND075010</td><td>40A0131</td><td>10.0302</td></tr><tr><th>9</th><td>S1949CO049005</td><td>40A0138</td><td>12.5975</td></tr><tr><th>10</th><td>S1949CO049007</td><td>40A0140</td><td>8.11315</td></tr><tr><th>11</th><td>S1964TN157003</td><td>40A0158</td><td>2.82454</td></tr><tr><th>12</th><td>S1958WV025003</td><td>40A0162</td><td>14.1617</td></tr><tr><th>13</th><td>67FN220000</td><td>40A0165</td><td>5.3846</td></tr><tr><th>14</th><td>S1960NM013002</td><td>40A0169</td><td>0.7035</td></tr><tr><th>15</th><td>S1964AZ003018</td><td>40A0187</td><td>16.7274</td></tr><tr><th>16</th><td>S1961NM013007</td><td>40A0190</td><td>1.45</td></tr><tr><th>17</th><td>S1967TX141003</td><td>40A0197</td><td>6.80579</td></tr><tr><th>18</th><td>S1965HI001013</td><td>40A0204</td><td>19.975</td></tr><tr><th>19</th><td>S1960MA003007</td><td>40A0206</td><td>16.7581</td></tr><tr><th>20</th><td>S1961PR047002</td><td>40A0209</td><td>10.5139</td></tr><tr><th>21</th><td>S1965NE181001</td><td>40A0219</td><td>2.04665</td></tr><tr><th>22</th><td>S1965CA053004</td><td>40A0224</td><td>6.8014</td></tr><tr><th>23</th><td>S1966NV007004</td><td>40A0225</td><td>8.0067</td></tr><tr><th>24</th><td>65FN190002</td><td>40A0235</td><td>21.0919</td></tr><tr><th>25</th><td>S1965NC101002</td><td>40A0237</td><td>8.64489</td></tr><tr><th>26</th><td>S1963PR063002</td><td>40A0247</td><td>4.99217</td></tr><tr><th>27</th><td>S1964CA073008</td><td>40A0251</td><td>8.98132</td></tr><tr><th>28</th><td>S1957NY033001</td><td>40A0257</td><td>11.6633</td></tr><tr><th>29</th><td>S1957NY045001</td><td>40A0267</td><td>29.2998</td></tr><tr><th>30</th><td>S1957NY055001</td><td>40A0275</td><td>2.38525</td></tr><tr><th>&vellip;</th><td>&vellip;</td><td>&vellip;</td><td>&vellip;</td></tr></tbody></table>"
      ],
      "text/latex": [
       "\\begin{tabular}{r|ccc}\n",
       "\t& site\\_name & profile\\_name & orgc\\_kg\\\\\n",
       "\t\\hline\n",
       "\t& String & String & Float64\\\\\n",
       "\t\\hline\n",
       "\t1 & 50ND075005 & 40A0001 & 3.81415 \\\\\n",
       "\t2 & 50ND075003 & 40A0013 & 8.54735 \\\\\n",
       "\t3 & 50ND075007 & 40A0067 & 3.94668 \\\\\n",
       "\t4 & 59ND045001 & 40A0102 & 18.5023 \\\\\n",
       "\t5 & 50ND075006 & 40A0107 & 6.55938 \\\\\n",
       "\t6 & 50ND075008 & 40A0111 & 9.44642 \\\\\n",
       "\t7 & 50ND075009 & 40A0130 & 5.94671 \\\\\n",
       "\t8 & 50ND075010 & 40A0131 & 10.0302 \\\\\n",
       "\t9 & S1949CO049005 & 40A0138 & 12.5975 \\\\\n",
       "\t10 & S1949CO049007 & 40A0140 & 8.11315 \\\\\n",
       "\t11 & S1964TN157003 & 40A0158 & 2.82454 \\\\\n",
       "\t12 & S1958WV025003 & 40A0162 & 14.1617 \\\\\n",
       "\t13 & 67FN220000 & 40A0165 & 5.3846 \\\\\n",
       "\t14 & S1960NM013002 & 40A0169 & 0.7035 \\\\\n",
       "\t15 & S1964AZ003018 & 40A0187 & 16.7274 \\\\\n",
       "\t16 & S1961NM013007 & 40A0190 & 1.45 \\\\\n",
       "\t17 & S1967TX141003 & 40A0197 & 6.80579 \\\\\n",
       "\t18 & S1965HI001013 & 40A0204 & 19.975 \\\\\n",
       "\t19 & S1960MA003007 & 40A0206 & 16.7581 \\\\\n",
       "\t20 & S1961PR047002 & 40A0209 & 10.5139 \\\\\n",
       "\t21 & S1965NE181001 & 40A0219 & 2.04665 \\\\\n",
       "\t22 & S1965CA053004 & 40A0224 & 6.8014 \\\\\n",
       "\t23 & S1966NV007004 & 40A0225 & 8.0067 \\\\\n",
       "\t24 & 65FN190002 & 40A0235 & 21.0919 \\\\\n",
       "\t25 & S1965NC101002 & 40A0237 & 8.64489 \\\\\n",
       "\t26 & S1963PR063002 & 40A0247 & 4.99217 \\\\\n",
       "\t27 & S1964CA073008 & 40A0251 & 8.98132 \\\\\n",
       "\t28 & S1957NY033001 & 40A0257 & 11.6633 \\\\\n",
       "\t29 & S1957NY045001 & 40A0267 & 29.2998 \\\\\n",
       "\t30 & S1957NY055001 & 40A0275 & 2.38525 \\\\\n",
       "\t$\\dots$ & $\\dots$ & $\\dots$ & $\\dots$ \\\\\n",
       "\\end{tabular}\n"
      ],
      "text/plain": [
       "18386×3 DataFrame\n",
       "│ Row   │ site_name     │ profile_name  │ orgc_kg │\n",
       "│       │ \u001b[90mString\u001b[39m        │ \u001b[90mString\u001b[39m        │ \u001b[90mFloat64\u001b[39m │\n",
       "├───────┼───────────────┼───────────────┼─────────┤\n",
       "│ 1     │ 50ND075005    │ 40A0001       │ 3.81415 │\n",
       "│ 2     │ 50ND075003    │ 40A0013       │ 8.54735 │\n",
       "│ 3     │ 50ND075007    │ 40A0067       │ 3.94668 │\n",
       "│ 4     │ 59ND045001    │ 40A0102       │ 18.5023 │\n",
       "│ 5     │ 50ND075006    │ 40A0107       │ 6.55938 │\n",
       "│ 6     │ 50ND075008    │ 40A0111       │ 9.44642 │\n",
       "│ 7     │ 50ND075009    │ 40A0130       │ 5.94671 │\n",
       "│ 8     │ 50ND075010    │ 40A0131       │ 10.0302 │\n",
       "│ 9     │ S1949CO049005 │ 40A0138       │ 12.5975 │\n",
       "│ 10    │ S1949CO049007 │ 40A0140       │ 8.11315 │\n",
       "⋮\n",
       "│ 18376 │ uiuc198801967 │ uiuc198801967 │ 14.1148 │\n",
       "│ 18377 │ uiuc198801968 │ uiuc198801968 │ 12.5612 │\n",
       "│ 18378 │ uiuc198801969 │ uiuc198801969 │ 20.6229 │\n",
       "│ 18379 │ uiuc198801970 │ uiuc198801970 │ 15.6076 │\n",
       "│ 18380 │ uiuc198801972 │ uiuc198801972 │ 12.4568 │\n",
       "│ 18381 │ uiuc198801973 │ uiuc198801973 │ 2.3072  │\n",
       "│ 18382 │ uiuc198902031 │ uiuc198902031 │ 3.38356 │\n",
       "│ 18383 │ uiuc198902034 │ uiuc198902034 │ 14.1139 │\n",
       "│ 18384 │ uiuc198902035 │ uiuc198902035 │ 8.06338 │\n",
       "│ 18385 │ uiuc198902036 │ uiuc198902036 │ 16.4164 │\n",
       "│ 18386 │ uiuc199002049 │ uiuc199002049 │ 13.2689 │"
      ]
     },
     "execution_count": 37,
     "metadata": {},
     "output_type": "execute_result"
    }
   ],
   "source": [
    "#computing stored ORGC\n",
    "\n",
    "computed_orgc = Dict()\n",
    "\n",
    "for (s,p) in sp_key_merged\n",
    "    profile_calc = df_merged[(df_merged.site_name .== s) .& (df_merged.profile_name .== p), :]\n",
    "    computed_orgc[(s,p)] = orgc_storage(profile_calc)\n",
    "end\n",
    "\n",
    "#storing results in DF\t\n",
    "df_orgc = DataFrame(site_name = [s for (s,_) in sp_key_merged], \n",
    "                    profile_name = [p for (_,p) in sp_key_merged], \n",
    "                    orgc_kg = Float64.(values(computed_orgc)))\n"
   ]
  },
  {
   "cell_type": "code",
   "execution_count": 38,
   "metadata": {
    "scrolled": true
   },
   "outputs": [
    {
     "data": {
      "text/html": [
       "<table class=\"data-frame\"><thead><tr><th></th><th>site_name</th><th>profile_name</th><th>min_depth</th><th>max_depth</th></tr><tr><th></th><th>String</th><th>String</th><th>Int64</th><th>Int64</th></tr></thead><tbody><p>18,386 rows × 4 columns</p><tr><th>1</th><td>01NE031001</td><td>40A3476</td><td>33</td><td>64</td></tr><tr><th>2</th><td>01NE079001-OSD</td><td>94P0105</td><td>12</td><td>119</td></tr><tr><th>3</th><td>02KY195004</td><td>83P0647</td><td>0</td><td>152</td></tr><tr><th>4</th><td>03MT021001</td><td>91P0898</td><td>0</td><td>64</td></tr><tr><th>5</th><td>04-PMP-03</td><td>90P1050</td><td>0</td><td>100</td></tr><tr><th>6</th><td>04ut626-122lab</td><td>92P0737</td><td>10</td><td>152</td></tr><tr><th>7</th><td>04ut626-123lab</td><td>92P0738</td><td>0</td><td>5</td></tr><tr><th>8</th><td>07-CBR-002</td><td>40A1051</td><td>0</td><td>101</td></tr><tr><th>9</th><td>08CO073026</td><td>90P0037</td><td>0</td><td>120</td></tr><tr><th>10</th><td>100</td><td>68PA017009</td><td>0</td><td>160</td></tr><tr><th>11</th><td>101</td><td>68PA017010</td><td>0</td><td>203</td></tr><tr><th>12</th><td>102</td><td>68PA017011</td><td>0</td><td>279</td></tr><tr><th>13</th><td>104</td><td>68PA017013</td><td>0</td><td>150</td></tr><tr><th>14</th><td>105</td><td>68PA017014</td><td>0</td><td>142</td></tr><tr><th>15</th><td>106</td><td>71PA017051</td><td>0</td><td>30</td></tr><tr><th>16</th><td>107</td><td>71PA017052</td><td>3</td><td>23</td></tr><tr><th>17</th><td>108</td><td>71PA017053</td><td>0</td><td>45</td></tr><tr><th>18</th><td>109</td><td>69PA019001</td><td>0</td><td>89</td></tr><tr><th>19</th><td>110</td><td>69PA019002</td><td>0</td><td>328</td></tr><tr><th>20</th><td>112</td><td>69PA019004</td><td>1</td><td>122</td></tr><tr><th>21</th><td>114</td><td>69PA019006</td><td>0</td><td>63</td></tr><tr><th>22</th><td>115</td><td>69PA019007</td><td>0</td><td>15</td></tr><tr><th>23</th><td>116</td><td>69PA019008</td><td>0</td><td>152</td></tr><tr><th>24</th><td>117</td><td>69PA019009</td><td>0</td><td>203</td></tr><tr><th>25</th><td>118</td><td>69PA019010</td><td>0</td><td>190</td></tr><tr><th>26</th><td>119</td><td>69PA019011</td><td>5</td><td>152</td></tr><tr><th>27</th><td>11PR700008</td><td>87P0305</td><td>0</td><td>200</td></tr><tr><th>28</th><td>11PR700009</td><td>87P0303</td><td>0</td><td>152</td></tr><tr><th>29</th><td>11TN163 Steadman-OSD</td><td>87P0139</td><td>0</td><td>120</td></tr><tr><th>30</th><td>120</td><td>69PA019012</td><td>0</td><td>147</td></tr><tr><th>&vellip;</th><td>&vellip;</td><td>&vellip;</td><td>&vellip;</td><td>&vellip;</td></tr></tbody></table>"
      ],
      "text/latex": [
       "\\begin{tabular}{r|cccc}\n",
       "\t& site\\_name & profile\\_name & min\\_depth & max\\_depth\\\\\n",
       "\t\\hline\n",
       "\t& String & String & Int64 & Int64\\\\\n",
       "\t\\hline\n",
       "\t1 & 01NE031001 & 40A3476 & 33 & 64 \\\\\n",
       "\t2 & 01NE079001-OSD & 94P0105 & 12 & 119 \\\\\n",
       "\t3 & 02KY195004 & 83P0647 & 0 & 152 \\\\\n",
       "\t4 & 03MT021001 & 91P0898 & 0 & 64 \\\\\n",
       "\t5 & 04-PMP-03 & 90P1050 & 0 & 100 \\\\\n",
       "\t6 & 04ut626-122lab & 92P0737 & 10 & 152 \\\\\n",
       "\t7 & 04ut626-123lab & 92P0738 & 0 & 5 \\\\\n",
       "\t8 & 07-CBR-002 & 40A1051 & 0 & 101 \\\\\n",
       "\t9 & 08CO073026 & 90P0037 & 0 & 120 \\\\\n",
       "\t10 & 100 & 68PA017009 & 0 & 160 \\\\\n",
       "\t11 & 101 & 68PA017010 & 0 & 203 \\\\\n",
       "\t12 & 102 & 68PA017011 & 0 & 279 \\\\\n",
       "\t13 & 104 & 68PA017013 & 0 & 150 \\\\\n",
       "\t14 & 105 & 68PA017014 & 0 & 142 \\\\\n",
       "\t15 & 106 & 71PA017051 & 0 & 30 \\\\\n",
       "\t16 & 107 & 71PA017052 & 3 & 23 \\\\\n",
       "\t17 & 108 & 71PA017053 & 0 & 45 \\\\\n",
       "\t18 & 109 & 69PA019001 & 0 & 89 \\\\\n",
       "\t19 & 110 & 69PA019002 & 0 & 328 \\\\\n",
       "\t20 & 112 & 69PA019004 & 1 & 122 \\\\\n",
       "\t21 & 114 & 69PA019006 & 0 & 63 \\\\\n",
       "\t22 & 115 & 69PA019007 & 0 & 15 \\\\\n",
       "\t23 & 116 & 69PA019008 & 0 & 152 \\\\\n",
       "\t24 & 117 & 69PA019009 & 0 & 203 \\\\\n",
       "\t25 & 118 & 69PA019010 & 0 & 190 \\\\\n",
       "\t26 & 119 & 69PA019011 & 5 & 152 \\\\\n",
       "\t27 & 11PR700008 & 87P0305 & 0 & 200 \\\\\n",
       "\t28 & 11PR700009 & 87P0303 & 0 & 152 \\\\\n",
       "\t29 & 11TN163 Steadman-OSD & 87P0139 & 0 & 120 \\\\\n",
       "\t30 & 120 & 69PA019012 & 0 & 147 \\\\\n",
       "\t$\\dots$ & $\\dots$ & $\\dots$ & $\\dots$ & $\\dots$ \\\\\n",
       "\\end{tabular}\n"
      ],
      "text/plain": [
       "18386×4 DataFrame\n",
       "│ Row   │ site_name      │ profile_name  │ min_depth │ max_depth │\n",
       "│       │ \u001b[90mString\u001b[39m         │ \u001b[90mString\u001b[39m        │ \u001b[90mInt64\u001b[39m     │ \u001b[90mInt64\u001b[39m     │\n",
       "├───────┼────────────────┼───────────────┼───────────┼───────────┤\n",
       "│ 1     │ 01NE031001     │ 40A3476       │ 33        │ 64        │\n",
       "│ 2     │ 01NE079001-OSD │ 94P0105       │ 12        │ 119       │\n",
       "│ 3     │ 02KY195004     │ 83P0647       │ 0         │ 152       │\n",
       "│ 4     │ 03MT021001     │ 91P0898       │ 0         │ 64        │\n",
       "│ 5     │ 04-PMP-03      │ 90P1050       │ 0         │ 100       │\n",
       "│ 6     │ 04ut626-122lab │ 92P0737       │ 10        │ 152       │\n",
       "│ 7     │ 04ut626-123lab │ 92P0738       │ 0         │ 5         │\n",
       "│ 8     │ 07-CBR-002     │ 40A1051       │ 0         │ 101       │\n",
       "│ 9     │ 08CO073026     │ 90P0037       │ 0         │ 120       │\n",
       "│ 10    │ 100            │ 68PA017009    │ 0         │ 160       │\n",
       "⋮\n",
       "│ 18376 │ uiuc198902009  │ uiuc198902009 │ 0         │ 208       │\n",
       "│ 18377 │ uiuc198902010  │ uiuc198902010 │ 0         │ 35        │\n",
       "│ 18378 │ uiuc198902011  │ uiuc198902011 │ 3         │ 20        │\n",
       "│ 18379 │ uiuc198902012  │ uiuc198902012 │ 18        │ 82        │\n",
       "│ 18380 │ uiuc198902013  │ uiuc198902013 │ 0         │ 69        │\n",
       "│ 18381 │ uiuc198902014  │ uiuc198902014 │ 0         │ 152       │\n",
       "│ 18382 │ uiuc198902031  │ uiuc198902031 │ 0         │ 74        │\n",
       "│ 18383 │ uiuc198902034  │ uiuc198902034 │ 0         │ 112       │\n",
       "│ 18384 │ uiuc198902035  │ uiuc198902035 │ 0         │ 183       │\n",
       "│ 18385 │ uiuc198902036  │ uiuc198902036 │ 0         │ 108       │\n",
       "│ 18386 │ uiuc199002049  │ uiuc199002049 │ 0         │ 183       │"
      ]
     },
     "execution_count": 38,
     "metadata": {},
     "output_type": "execute_result"
    }
   ],
   "source": [
    "#retrieving min/max depth per profile \n",
    "\n",
    "depth(profile) = (minimum(profile.layer_top_cm), maximum(profile.layer_bot_cm))\n",
    "\n",
    "\n",
    "profiles_depth = Dict()\n",
    "\n",
    "for (s,p) in sp_key_merged\n",
    "profiles_depth[(s,p)] = depth(df_merged[(df_merged.site_name .== s) .& (df_merged.profile_name .== p), :])\n",
    "end\n",
    "\n",
    "df_depths = sort!(DataFrame(site_name = [s for (s,_) in sp_key_merged],\n",
    "                            profile_name = profile_name = [p for (_,p) in sp_key_merged],\n",
    "                            min_depth = [min for (min,_) in values(profiles_depth)],\n",
    "                            max_depth = [max for (_,max) in values(profiles_depth)]))\n",
    "\n",
    "\n"
   ]
  },
  {
   "cell_type": "code",
   "execution_count": 39,
   "metadata": {},
   "outputs": [],
   "source": [
    "#covariates from starting dataset\n",
    "df_lat_long_date = unique(df_merged[:,[:site_name,:profile_name,:lat_dec_deg,:long_dec_deg,:observation_date_yyyymmdd]]);"
   ]
  },
  {
   "cell_type": "code",
   "execution_count": 40,
   "metadata": {
    "scrolled": true
   },
   "outputs": [
    {
     "data": {
      "text/html": [
       "<table class=\"data-frame\"><thead><tr><th></th><th>site_name</th><th>profile_name</th><th>orgc_kg</th><th>lat_dec_deg</th><th>long_dec_deg</th><th>observation_date_yyyymmdd</th></tr><tr><th></th><th>String</th><th>String</th><th>Float64</th><th>Float64</th><th>Float64</th><th>String?</th></tr></thead><tbody><p>18,386 rows × 6 columns</p><tr><th>1</th><td>50ND075005</td><td>40A0001</td><td>3.81415</td><td>48.805</td><td>-101.735</td><td>19/09/1950</td></tr><tr><th>2</th><td>50ND075003</td><td>40A0013</td><td>8.54735</td><td>48.9366</td><td>-101.585</td><td>18/09/1950</td></tr><tr><th>3</th><td>50ND075007</td><td>40A0067</td><td>3.94668</td><td>48.8083</td><td>-101.707</td><td>19/09/1950</td></tr><tr><th>4</th><td>59ND045001</td><td>40A0102</td><td>18.5023</td><td>46.4494</td><td>-98.37</td><td>21/08/1959</td></tr><tr><th>5</th><td>50ND075006</td><td>40A0107</td><td>6.55938</td><td>48.8211</td><td>-101.747</td><td>19/09/1950</td></tr><tr><th>6</th><td>50ND075008</td><td>40A0111</td><td>9.44642</td><td>48.8991</td><td>-101.554</td><td>20/09/1950</td></tr><tr><th>7</th><td>50ND075009</td><td>40A0130</td><td>5.94671</td><td>48.9427</td><td>-101.587</td><td>20/09/1950</td></tr><tr><th>8</th><td>50ND075010</td><td>40A0131</td><td>10.0302</td><td>48.9153</td><td>-101.606</td><td>20/09/1950</td></tr><tr><th>9</th><td>S1949CO049005</td><td>40A0138</td><td>12.5975</td><td>0.0</td><td>0.0</td><td>02/09/1949</td></tr><tr><th>10</th><td>S1949CO049007</td><td>40A0140</td><td>8.11315</td><td>0.0</td><td>0.0</td><td>31/08/1949</td></tr><tr><th>11</th><td>S1964TN157003</td><td>40A0158</td><td>2.82454</td><td>0.0</td><td>0.0</td><td>01/03/1964</td></tr><tr><th>12</th><td>S1958WV025003</td><td>40A0162</td><td>14.1617</td><td>0.0</td><td>0.0</td><td>01/06/1958</td></tr><tr><th>13</th><td>67FN220000</td><td>40A0165</td><td>5.3846</td><td>-15.6667</td><td>-47.7833</td><td>01/03/1967</td></tr><tr><th>14</th><td>S1960NM013002</td><td>40A0169</td><td>0.7035</td><td>32.3168</td><td>-106.767</td><td>12/11/1960</td></tr><tr><th>15</th><td>S1964AZ003018</td><td>40A0187</td><td>16.7274</td><td>32.4004</td><td>-109.961</td><td>19/10/1964</td></tr><tr><th>16</th><td>S1961NM013007</td><td>40A0190</td><td>1.45</td><td>32.2974</td><td>-106.908</td><td>05/05/1961</td></tr><tr><th>17</th><td>S1967TX141003</td><td>40A0197</td><td>6.80579</td><td>31.5417</td><td>-106.192</td><td>02/03/1967</td></tr><tr><th>18</th><td>S1965HI001013</td><td>40A0204</td><td>19.975</td><td>19.9083</td><td>-155.392</td><td>09/04/1965</td></tr><tr><th>19</th><td>S1960MA003007</td><td>40A0206</td><td>16.7581</td><td>42.2139</td><td>-73.4056</td><td>09/06/1960</td></tr><tr><th>20</th><td>S1961PR047002</td><td>40A0209</td><td>10.5139</td><td>18.2417</td><td>-66.2839</td><td>12/03/1961</td></tr><tr><th>21</th><td>S1965NE181001</td><td>40A0219</td><td>2.04665</td><td>40.2628</td><td>-98.3901</td><td>21/04/1965</td></tr><tr><th>22</th><td>S1965CA053004</td><td>40A0224</td><td>6.8014</td><td>36.2833</td><td>-121.1</td><td>18/05/1965</td></tr><tr><th>23</th><td>S1966NV007004</td><td>40A0225</td><td>8.0067</td><td>41.1018</td><td>-116.132</td><td>06/05/1966</td></tr><tr><th>24</th><td>65FN190002</td><td>40A0235</td><td>21.0919</td><td>51.1667</td><td>4.83333</td><td>01/04/1965</td></tr><tr><th>25</th><td>S1965NC101002</td><td>40A0237</td><td>8.64489</td><td>35.365</td><td>-78.5478</td><td>20/10/1965</td></tr><tr><th>26</th><td>S1963PR063002</td><td>40A0247</td><td>4.99217</td><td>18.2575</td><td>-65.6595</td><td>01/10/1965</td></tr><tr><th>27</th><td>S1964CA073008</td><td>40A0251</td><td>8.98132</td><td>33.2639</td><td>-117.297</td><td>11/03/1964</td></tr><tr><th>28</th><td>S1957NY033001</td><td>40A0257</td><td>11.6633</td><td>44.9819</td><td>-74.4833</td><td>23/09/1957</td></tr><tr><th>29</th><td>S1957NY045001</td><td>40A0267</td><td>29.2998</td><td>43.9992</td><td>-75.9003</td><td>26/09/1957</td></tr><tr><th>30</th><td>S1957NY055001</td><td>40A0275</td><td>2.38525</td><td>0.0</td><td>0.0</td><td>30/09/1957</td></tr><tr><th>&vellip;</th><td>&vellip;</td><td>&vellip;</td><td>&vellip;</td><td>&vellip;</td><td>&vellip;</td><td>&vellip;</td></tr></tbody></table>"
      ],
      "text/latex": [
       "\\begin{tabular}{r|cccccc}\n",
       "\t& site\\_name & profile\\_name & orgc\\_kg & lat\\_dec\\_deg & long\\_dec\\_deg & observation\\_date\\_yyyymmdd\\\\\n",
       "\t\\hline\n",
       "\t& String & String & Float64 & Float64 & Float64 & String?\\\\\n",
       "\t\\hline\n",
       "\t1 & 50ND075005 & 40A0001 & 3.81415 & 48.805 & -101.735 & 19/09/1950 \\\\\n",
       "\t2 & 50ND075003 & 40A0013 & 8.54735 & 48.9366 & -101.585 & 18/09/1950 \\\\\n",
       "\t3 & 50ND075007 & 40A0067 & 3.94668 & 48.8083 & -101.707 & 19/09/1950 \\\\\n",
       "\t4 & 59ND045001 & 40A0102 & 18.5023 & 46.4494 & -98.37 & 21/08/1959 \\\\\n",
       "\t5 & 50ND075006 & 40A0107 & 6.55938 & 48.8211 & -101.747 & 19/09/1950 \\\\\n",
       "\t6 & 50ND075008 & 40A0111 & 9.44642 & 48.8991 & -101.554 & 20/09/1950 \\\\\n",
       "\t7 & 50ND075009 & 40A0130 & 5.94671 & 48.9427 & -101.587 & 20/09/1950 \\\\\n",
       "\t8 & 50ND075010 & 40A0131 & 10.0302 & 48.9153 & -101.606 & 20/09/1950 \\\\\n",
       "\t9 & S1949CO049005 & 40A0138 & 12.5975 & 0.0 & 0.0 & 02/09/1949 \\\\\n",
       "\t10 & S1949CO049007 & 40A0140 & 8.11315 & 0.0 & 0.0 & 31/08/1949 \\\\\n",
       "\t11 & S1964TN157003 & 40A0158 & 2.82454 & 0.0 & 0.0 & 01/03/1964 \\\\\n",
       "\t12 & S1958WV025003 & 40A0162 & 14.1617 & 0.0 & 0.0 & 01/06/1958 \\\\\n",
       "\t13 & 67FN220000 & 40A0165 & 5.3846 & -15.6667 & -47.7833 & 01/03/1967 \\\\\n",
       "\t14 & S1960NM013002 & 40A0169 & 0.7035 & 32.3168 & -106.767 & 12/11/1960 \\\\\n",
       "\t15 & S1964AZ003018 & 40A0187 & 16.7274 & 32.4004 & -109.961 & 19/10/1964 \\\\\n",
       "\t16 & S1961NM013007 & 40A0190 & 1.45 & 32.2974 & -106.908 & 05/05/1961 \\\\\n",
       "\t17 & S1967TX141003 & 40A0197 & 6.80579 & 31.5417 & -106.192 & 02/03/1967 \\\\\n",
       "\t18 & S1965HI001013 & 40A0204 & 19.975 & 19.9083 & -155.392 & 09/04/1965 \\\\\n",
       "\t19 & S1960MA003007 & 40A0206 & 16.7581 & 42.2139 & -73.4056 & 09/06/1960 \\\\\n",
       "\t20 & S1961PR047002 & 40A0209 & 10.5139 & 18.2417 & -66.2839 & 12/03/1961 \\\\\n",
       "\t21 & S1965NE181001 & 40A0219 & 2.04665 & 40.2628 & -98.3901 & 21/04/1965 \\\\\n",
       "\t22 & S1965CA053004 & 40A0224 & 6.8014 & 36.2833 & -121.1 & 18/05/1965 \\\\\n",
       "\t23 & S1966NV007004 & 40A0225 & 8.0067 & 41.1018 & -116.132 & 06/05/1966 \\\\\n",
       "\t24 & 65FN190002 & 40A0235 & 21.0919 & 51.1667 & 4.83333 & 01/04/1965 \\\\\n",
       "\t25 & S1965NC101002 & 40A0237 & 8.64489 & 35.365 & -78.5478 & 20/10/1965 \\\\\n",
       "\t26 & S1963PR063002 & 40A0247 & 4.99217 & 18.2575 & -65.6595 & 01/10/1965 \\\\\n",
       "\t27 & S1964CA073008 & 40A0251 & 8.98132 & 33.2639 & -117.297 & 11/03/1964 \\\\\n",
       "\t28 & S1957NY033001 & 40A0257 & 11.6633 & 44.9819 & -74.4833 & 23/09/1957 \\\\\n",
       "\t29 & S1957NY045001 & 40A0267 & 29.2998 & 43.9992 & -75.9003 & 26/09/1957 \\\\\n",
       "\t30 & S1957NY055001 & 40A0275 & 2.38525 & 0.0 & 0.0 & 30/09/1957 \\\\\n",
       "\t$\\dots$ & $\\dots$ & $\\dots$ & $\\dots$ & $\\dots$ & $\\dots$ & $\\dots$ \\\\\n",
       "\\end{tabular}\n"
      ],
      "text/plain": [
       "18386×6 DataFrame. Omitted printing of 1 columns\n",
       "│ Row   │ site_name     │ profile_name  │ orgc_kg │ lat_dec_deg │ long_dec_deg │\n",
       "│       │ \u001b[90mString\u001b[39m        │ \u001b[90mString\u001b[39m        │ \u001b[90mFloat64\u001b[39m │ \u001b[90mFloat64\u001b[39m     │ \u001b[90mFloat64\u001b[39m      │\n",
       "├───────┼───────────────┼───────────────┼─────────┼─────────────┼──────────────┤\n",
       "│ 1     │ 50ND075005    │ 40A0001       │ 3.81415 │ 48.805      │ -101.735     │\n",
       "│ 2     │ 50ND075003    │ 40A0013       │ 8.54735 │ 48.9366     │ -101.585     │\n",
       "│ 3     │ 50ND075007    │ 40A0067       │ 3.94668 │ 48.8083     │ -101.707     │\n",
       "│ 4     │ 59ND045001    │ 40A0102       │ 18.5023 │ 46.4494     │ -98.37       │\n",
       "│ 5     │ 50ND075006    │ 40A0107       │ 6.55938 │ 48.8211     │ -101.747     │\n",
       "│ 6     │ 50ND075008    │ 40A0111       │ 9.44642 │ 48.8991     │ -101.554     │\n",
       "│ 7     │ 50ND075009    │ 40A0130       │ 5.94671 │ 48.9427     │ -101.587     │\n",
       "│ 8     │ 50ND075010    │ 40A0131       │ 10.0302 │ 48.9153     │ -101.606     │\n",
       "│ 9     │ S1949CO049005 │ 40A0138       │ 12.5975 │ 0.0         │ 0.0          │\n",
       "│ 10    │ S1949CO049007 │ 40A0140       │ 8.11315 │ 0.0         │ 0.0          │\n",
       "⋮\n",
       "│ 18376 │ uiuc198801967 │ uiuc198801967 │ 14.1148 │ 0.0         │ 0.0          │\n",
       "│ 18377 │ uiuc198801968 │ uiuc198801968 │ 12.5612 │ 0.0         │ 0.0          │\n",
       "│ 18378 │ uiuc198801969 │ uiuc198801969 │ 20.6229 │ 0.0         │ 0.0          │\n",
       "│ 18379 │ uiuc198801970 │ uiuc198801970 │ 15.6076 │ 0.0         │ 0.0          │\n",
       "│ 18380 │ uiuc198801972 │ uiuc198801972 │ 12.4568 │ 0.0         │ 0.0          │\n",
       "│ 18381 │ uiuc198801973 │ uiuc198801973 │ 2.3072  │ 0.0         │ 0.0          │\n",
       "│ 18382 │ uiuc198902031 │ uiuc198902031 │ 3.38356 │ 40.7328     │ -88.6239     │\n",
       "│ 18383 │ uiuc198902034 │ uiuc198902034 │ 14.1139 │ 40.7336     │ -88.6239     │\n",
       "│ 18384 │ uiuc198902035 │ uiuc198902035 │ 8.06338 │ 40.7339     │ -88.625      │\n",
       "│ 18385 │ uiuc198902036 │ uiuc198902036 │ 16.4164 │ 40.7331     │ -88.6233     │\n",
       "│ 18386 │ uiuc199002049 │ uiuc199002049 │ 13.2689 │ 40.7397     │ -89.2142     │"
      ]
     },
     "execution_count": 40,
     "metadata": {},
     "output_type": "execute_result"
    }
   ],
   "source": [
    "#first join\n",
    "df_join_A = innerjoin(df_orgc,df_lat_long_date, on = [:site_name,:profile_name])"
   ]
  },
  {
   "cell_type": "code",
   "execution_count": 41,
   "metadata": {
    "scrolled": true
   },
   "outputs": [
    {
     "data": {
      "text/html": [
       "<table class=\"data-frame\"><thead><tr><th></th><th>site_name</th><th>profile_name</th><th>orgc_kg</th><th>lat_dec_deg</th><th>long_dec_deg</th><th>observation_date_yyyymmdd</th></tr><tr><th></th><th>String</th><th>String</th><th>Float64</th><th>Float64</th><th>Float64</th><th>String?</th></tr></thead><tbody><p>18,386 rows × 8 columns (omitted printing of 2 columns)</p><tr><th>1</th><td>50ND075005</td><td>40A0001</td><td>3.81415</td><td>48.805</td><td>-101.735</td><td>19/09/1950</td></tr><tr><th>2</th><td>50ND075003</td><td>40A0013</td><td>8.54735</td><td>48.9366</td><td>-101.585</td><td>18/09/1950</td></tr><tr><th>3</th><td>50ND075007</td><td>40A0067</td><td>3.94668</td><td>48.8083</td><td>-101.707</td><td>19/09/1950</td></tr><tr><th>4</th><td>59ND045001</td><td>40A0102</td><td>18.5023</td><td>46.4494</td><td>-98.37</td><td>21/08/1959</td></tr><tr><th>5</th><td>50ND075006</td><td>40A0107</td><td>6.55938</td><td>48.8211</td><td>-101.747</td><td>19/09/1950</td></tr><tr><th>6</th><td>50ND075008</td><td>40A0111</td><td>9.44642</td><td>48.8991</td><td>-101.554</td><td>20/09/1950</td></tr><tr><th>7</th><td>50ND075009</td><td>40A0130</td><td>5.94671</td><td>48.9427</td><td>-101.587</td><td>20/09/1950</td></tr><tr><th>8</th><td>50ND075010</td><td>40A0131</td><td>10.0302</td><td>48.9153</td><td>-101.606</td><td>20/09/1950</td></tr><tr><th>9</th><td>S1949CO049005</td><td>40A0138</td><td>12.5975</td><td>0.0</td><td>0.0</td><td>02/09/1949</td></tr><tr><th>10</th><td>S1949CO049007</td><td>40A0140</td><td>8.11315</td><td>0.0</td><td>0.0</td><td>31/08/1949</td></tr><tr><th>11</th><td>S1964TN157003</td><td>40A0158</td><td>2.82454</td><td>0.0</td><td>0.0</td><td>01/03/1964</td></tr><tr><th>12</th><td>S1958WV025003</td><td>40A0162</td><td>14.1617</td><td>0.0</td><td>0.0</td><td>01/06/1958</td></tr><tr><th>13</th><td>67FN220000</td><td>40A0165</td><td>5.3846</td><td>-15.6667</td><td>-47.7833</td><td>01/03/1967</td></tr><tr><th>14</th><td>S1960NM013002</td><td>40A0169</td><td>0.7035</td><td>32.3168</td><td>-106.767</td><td>12/11/1960</td></tr><tr><th>15</th><td>S1964AZ003018</td><td>40A0187</td><td>16.7274</td><td>32.4004</td><td>-109.961</td><td>19/10/1964</td></tr><tr><th>16</th><td>S1961NM013007</td><td>40A0190</td><td>1.45</td><td>32.2974</td><td>-106.908</td><td>05/05/1961</td></tr><tr><th>17</th><td>S1967TX141003</td><td>40A0197</td><td>6.80579</td><td>31.5417</td><td>-106.192</td><td>02/03/1967</td></tr><tr><th>18</th><td>S1965HI001013</td><td>40A0204</td><td>19.975</td><td>19.9083</td><td>-155.392</td><td>09/04/1965</td></tr><tr><th>19</th><td>S1960MA003007</td><td>40A0206</td><td>16.7581</td><td>42.2139</td><td>-73.4056</td><td>09/06/1960</td></tr><tr><th>20</th><td>S1961PR047002</td><td>40A0209</td><td>10.5139</td><td>18.2417</td><td>-66.2839</td><td>12/03/1961</td></tr><tr><th>21</th><td>S1965NE181001</td><td>40A0219</td><td>2.04665</td><td>40.2628</td><td>-98.3901</td><td>21/04/1965</td></tr><tr><th>22</th><td>S1965CA053004</td><td>40A0224</td><td>6.8014</td><td>36.2833</td><td>-121.1</td><td>18/05/1965</td></tr><tr><th>23</th><td>S1966NV007004</td><td>40A0225</td><td>8.0067</td><td>41.1018</td><td>-116.132</td><td>06/05/1966</td></tr><tr><th>24</th><td>65FN190002</td><td>40A0235</td><td>21.0919</td><td>51.1667</td><td>4.83333</td><td>01/04/1965</td></tr><tr><th>25</th><td>S1965NC101002</td><td>40A0237</td><td>8.64489</td><td>35.365</td><td>-78.5478</td><td>20/10/1965</td></tr><tr><th>26</th><td>S1963PR063002</td><td>40A0247</td><td>4.99217</td><td>18.2575</td><td>-65.6595</td><td>01/10/1965</td></tr><tr><th>27</th><td>S1964CA073008</td><td>40A0251</td><td>8.98132</td><td>33.2639</td><td>-117.297</td><td>11/03/1964</td></tr><tr><th>28</th><td>S1957NY033001</td><td>40A0257</td><td>11.6633</td><td>44.9819</td><td>-74.4833</td><td>23/09/1957</td></tr><tr><th>29</th><td>S1957NY045001</td><td>40A0267</td><td>29.2998</td><td>43.9992</td><td>-75.9003</td><td>26/09/1957</td></tr><tr><th>30</th><td>S1957NY055001</td><td>40A0275</td><td>2.38525</td><td>0.0</td><td>0.0</td><td>30/09/1957</td></tr><tr><th>&vellip;</th><td>&vellip;</td><td>&vellip;</td><td>&vellip;</td><td>&vellip;</td><td>&vellip;</td><td>&vellip;</td></tr></tbody></table>"
      ],
      "text/latex": [
       "\\begin{tabular}{r|ccccccc}\n",
       "\t& site\\_name & profile\\_name & orgc\\_kg & lat\\_dec\\_deg & long\\_dec\\_deg & observation\\_date\\_yyyymmdd & \\\\\n",
       "\t\\hline\n",
       "\t& String & String & Float64 & Float64 & Float64 & String? & \\\\\n",
       "\t\\hline\n",
       "\t1 & 50ND075005 & 40A0001 & 3.81415 & 48.805 & -101.735 & 19/09/1950 & $\\dots$ \\\\\n",
       "\t2 & 50ND075003 & 40A0013 & 8.54735 & 48.9366 & -101.585 & 18/09/1950 & $\\dots$ \\\\\n",
       "\t3 & 50ND075007 & 40A0067 & 3.94668 & 48.8083 & -101.707 & 19/09/1950 & $\\dots$ \\\\\n",
       "\t4 & 59ND045001 & 40A0102 & 18.5023 & 46.4494 & -98.37 & 21/08/1959 & $\\dots$ \\\\\n",
       "\t5 & 50ND075006 & 40A0107 & 6.55938 & 48.8211 & -101.747 & 19/09/1950 & $\\dots$ \\\\\n",
       "\t6 & 50ND075008 & 40A0111 & 9.44642 & 48.8991 & -101.554 & 20/09/1950 & $\\dots$ \\\\\n",
       "\t7 & 50ND075009 & 40A0130 & 5.94671 & 48.9427 & -101.587 & 20/09/1950 & $\\dots$ \\\\\n",
       "\t8 & 50ND075010 & 40A0131 & 10.0302 & 48.9153 & -101.606 & 20/09/1950 & $\\dots$ \\\\\n",
       "\t9 & S1949CO049005 & 40A0138 & 12.5975 & 0.0 & 0.0 & 02/09/1949 & $\\dots$ \\\\\n",
       "\t10 & S1949CO049007 & 40A0140 & 8.11315 & 0.0 & 0.0 & 31/08/1949 & $\\dots$ \\\\\n",
       "\t11 & S1964TN157003 & 40A0158 & 2.82454 & 0.0 & 0.0 & 01/03/1964 & $\\dots$ \\\\\n",
       "\t12 & S1958WV025003 & 40A0162 & 14.1617 & 0.0 & 0.0 & 01/06/1958 & $\\dots$ \\\\\n",
       "\t13 & 67FN220000 & 40A0165 & 5.3846 & -15.6667 & -47.7833 & 01/03/1967 & $\\dots$ \\\\\n",
       "\t14 & S1960NM013002 & 40A0169 & 0.7035 & 32.3168 & -106.767 & 12/11/1960 & $\\dots$ \\\\\n",
       "\t15 & S1964AZ003018 & 40A0187 & 16.7274 & 32.4004 & -109.961 & 19/10/1964 & $\\dots$ \\\\\n",
       "\t16 & S1961NM013007 & 40A0190 & 1.45 & 32.2974 & -106.908 & 05/05/1961 & $\\dots$ \\\\\n",
       "\t17 & S1967TX141003 & 40A0197 & 6.80579 & 31.5417 & -106.192 & 02/03/1967 & $\\dots$ \\\\\n",
       "\t18 & S1965HI001013 & 40A0204 & 19.975 & 19.9083 & -155.392 & 09/04/1965 & $\\dots$ \\\\\n",
       "\t19 & S1960MA003007 & 40A0206 & 16.7581 & 42.2139 & -73.4056 & 09/06/1960 & $\\dots$ \\\\\n",
       "\t20 & S1961PR047002 & 40A0209 & 10.5139 & 18.2417 & -66.2839 & 12/03/1961 & $\\dots$ \\\\\n",
       "\t21 & S1965NE181001 & 40A0219 & 2.04665 & 40.2628 & -98.3901 & 21/04/1965 & $\\dots$ \\\\\n",
       "\t22 & S1965CA053004 & 40A0224 & 6.8014 & 36.2833 & -121.1 & 18/05/1965 & $\\dots$ \\\\\n",
       "\t23 & S1966NV007004 & 40A0225 & 8.0067 & 41.1018 & -116.132 & 06/05/1966 & $\\dots$ \\\\\n",
       "\t24 & 65FN190002 & 40A0235 & 21.0919 & 51.1667 & 4.83333 & 01/04/1965 & $\\dots$ \\\\\n",
       "\t25 & S1965NC101002 & 40A0237 & 8.64489 & 35.365 & -78.5478 & 20/10/1965 & $\\dots$ \\\\\n",
       "\t26 & S1963PR063002 & 40A0247 & 4.99217 & 18.2575 & -65.6595 & 01/10/1965 & $\\dots$ \\\\\n",
       "\t27 & S1964CA073008 & 40A0251 & 8.98132 & 33.2639 & -117.297 & 11/03/1964 & $\\dots$ \\\\\n",
       "\t28 & S1957NY033001 & 40A0257 & 11.6633 & 44.9819 & -74.4833 & 23/09/1957 & $\\dots$ \\\\\n",
       "\t29 & S1957NY045001 & 40A0267 & 29.2998 & 43.9992 & -75.9003 & 26/09/1957 & $\\dots$ \\\\\n",
       "\t30 & S1957NY055001 & 40A0275 & 2.38525 & 0.0 & 0.0 & 30/09/1957 & $\\dots$ \\\\\n",
       "\t$\\dots$ & $\\dots$ & $\\dots$ & $\\dots$ & $\\dots$ & $\\dots$ & $\\dots$ &  \\\\\n",
       "\\end{tabular}\n"
      ],
      "text/plain": [
       "18386×8 DataFrame. Omitted printing of 3 columns\n",
       "│ Row   │ site_name     │ profile_name  │ orgc_kg │ lat_dec_deg │ long_dec_deg │\n",
       "│       │ \u001b[90mString\u001b[39m        │ \u001b[90mString\u001b[39m        │ \u001b[90mFloat64\u001b[39m │ \u001b[90mFloat64\u001b[39m     │ \u001b[90mFloat64\u001b[39m      │\n",
       "├───────┼───────────────┼───────────────┼─────────┼─────────────┼──────────────┤\n",
       "│ 1     │ 50ND075005    │ 40A0001       │ 3.81415 │ 48.805      │ -101.735     │\n",
       "│ 2     │ 50ND075003    │ 40A0013       │ 8.54735 │ 48.9366     │ -101.585     │\n",
       "│ 3     │ 50ND075007    │ 40A0067       │ 3.94668 │ 48.8083     │ -101.707     │\n",
       "│ 4     │ 59ND045001    │ 40A0102       │ 18.5023 │ 46.4494     │ -98.37       │\n",
       "│ 5     │ 50ND075006    │ 40A0107       │ 6.55938 │ 48.8211     │ -101.747     │\n",
       "│ 6     │ 50ND075008    │ 40A0111       │ 9.44642 │ 48.8991     │ -101.554     │\n",
       "│ 7     │ 50ND075009    │ 40A0130       │ 5.94671 │ 48.9427     │ -101.587     │\n",
       "│ 8     │ 50ND075010    │ 40A0131       │ 10.0302 │ 48.9153     │ -101.606     │\n",
       "│ 9     │ S1949CO049005 │ 40A0138       │ 12.5975 │ 0.0         │ 0.0          │\n",
       "│ 10    │ S1949CO049007 │ 40A0140       │ 8.11315 │ 0.0         │ 0.0          │\n",
       "⋮\n",
       "│ 18376 │ uiuc198801967 │ uiuc198801967 │ 14.1148 │ 0.0         │ 0.0          │\n",
       "│ 18377 │ uiuc198801968 │ uiuc198801968 │ 12.5612 │ 0.0         │ 0.0          │\n",
       "│ 18378 │ uiuc198801969 │ uiuc198801969 │ 20.6229 │ 0.0         │ 0.0          │\n",
       "│ 18379 │ uiuc198801970 │ uiuc198801970 │ 15.6076 │ 0.0         │ 0.0          │\n",
       "│ 18380 │ uiuc198801972 │ uiuc198801972 │ 12.4568 │ 0.0         │ 0.0          │\n",
       "│ 18381 │ uiuc198801973 │ uiuc198801973 │ 2.3072  │ 0.0         │ 0.0          │\n",
       "│ 18382 │ uiuc198902031 │ uiuc198902031 │ 3.38356 │ 40.7328     │ -88.6239     │\n",
       "│ 18383 │ uiuc198902034 │ uiuc198902034 │ 14.1139 │ 40.7336     │ -88.6239     │\n",
       "│ 18384 │ uiuc198902035 │ uiuc198902035 │ 8.06338 │ 40.7339     │ -88.625      │\n",
       "│ 18385 │ uiuc198902036 │ uiuc198902036 │ 16.4164 │ 40.7331     │ -88.6233     │\n",
       "│ 18386 │ uiuc199002049 │ uiuc199002049 │ 13.2689 │ 40.7397     │ -89.2142     │"
      ]
     },
     "execution_count": 41,
     "metadata": {},
     "output_type": "execute_result"
    }
   ],
   "source": [
    "df_final = innerjoin(df_join_A, df_depths, on = [:site_name,:profile_name])"
   ]
  },
  {
   "cell_type": "code",
   "execution_count": 42,
   "metadata": {},
   "outputs": [
    {
     "data": {
      "text/plain": [
       "\"stored_orgc_ISCN.csv\""
      ]
     },
     "execution_count": 42,
     "metadata": {},
     "output_type": "execute_result"
    }
   ],
   "source": [
    "CSV.write(\"stored_orgc_ISCN.csv\", df_final)"
   ]
  },
  {
   "cell_type": "markdown",
   "metadata": {},
   "source": [
    "Results here: https://drive.google.com/file/d/1z2rm7TpxoBf8Lpk9artj6-2bzfIkK1_T/view?usp=sharing"
   ]
  }
 ],
 "metadata": {
  "kernelspec": {
   "display_name": "Julia 1.5.3",
   "language": "julia",
   "name": "julia-1.5"
  },
  "language_info": {
   "file_extension": ".jl",
   "mimetype": "application/julia",
   "name": "julia",
   "version": "1.5.3"
  }
 },
 "nbformat": 4,
 "nbformat_minor": 2
}
