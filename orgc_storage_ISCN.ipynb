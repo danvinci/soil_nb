{
 "cells": [
  {
   "cell_type": "markdown",
   "metadata": {},
   "source": [
    "In this notebook we calculate Stored Carbon for the ISCN available here (registration/login necessary): https://iscn.fluxdata.org/data/access-data/database-reports/"
   ]
  },
  {
   "cell_type": "markdown",
   "metadata": {},
   "source": [
    "I've used the 'ISCN_SOC-DATA_LAYER_1-1' dataset for everything but Bulk Density values, that were instead taken from 'ISCNTemplate_NRCS_BD_predictions'. Stored organic carbon has been calculated only for non-organic horizons, so the value 'be_pred_2' has been used."
   ]
  },
  {
   "cell_type": "code",
   "execution_count": 47,
   "metadata": {},
   "outputs": [],
   "source": [
    "using DataFrames, CSV"
   ]
  },
  {
   "cell_type": "markdown",
   "metadata": {},
   "source": [
    "Let's import the layer samplings data:"
   ]
  },
  {
   "cell_type": "code",
   "execution_count": 48,
   "metadata": {
    "scrolled": true
   },
   "outputs": [
    {
     "name": "stderr",
     "output_type": "stream",
     "text": [
      "┌ Warning: thread = 1 warning: only found 93 / 94 columns around data row: 227765. Filling remaining columns with `missing`\n",
      "└ @ CSV /Users/Daniele/.julia/packages/CSV/la2cd/src/file.jl:603\n"
     ]
    },
    {
     "data": {
      "text/html": [
       "<table class=\"data-frame\"><thead><tr><th></th><th>dataset_name_sub</th><th>dataset_name_soc</th><th>lat (dec. deg)</th></tr><tr><th></th><th>String</th><th>String</th><th>String?</th></tr></thead><tbody><p>227,764 rows × 94 columns (omitted printing of 91 columns)</p><tr><th>1</th><td>AK DSC Project SOC stock computation</td><td>AK DSC Project SOC stock computation</td><td>60,5219</td></tr><tr><th>2</th><td>AK DSC Project SOC stock computation</td><td>AK DSC Project SOC stock computation</td><td>60,5219</td></tr><tr><th>3</th><td>AK DSC Project SOC stock computation</td><td>AK DSC Project SOC stock computation</td><td>60,5219</td></tr><tr><th>4</th><td>AK DSC Project SOC stock computation</td><td>AK DSC Project SOC stock computation</td><td>60,5219</td></tr><tr><th>5</th><td>AK DSC Project SOC stock computation</td><td>AK DSC Project SOC stock computation</td><td>60,5219</td></tr><tr><th>6</th><td>AK DSC Project SOC stock computation</td><td>AK DSC Project SOC stock computation</td><td>60,5219</td></tr><tr><th>7</th><td>AK DSC Project SOC stock computation</td><td>AK DSC Project SOC stock computation</td><td>60,5219</td></tr><tr><th>8</th><td>AK DSC Project SOC stock computation</td><td>AK DSC Project SOC stock computation</td><td>60,5219</td></tr><tr><th>9</th><td>AK DSC Project SOC stock computation</td><td>AK DSC Project SOC stock computation</td><td>60,5219</td></tr><tr><th>10</th><td>AK DSC Project SOC stock computation</td><td>AK DSC Project SOC stock computation</td><td>60,5219</td></tr><tr><th>11</th><td>AK DSC Project SOC stock computation</td><td>AK DSC Project SOC stock computation</td><td>60,5219</td></tr><tr><th>12</th><td>AK DSC Project SOC stock computation</td><td>AK DSC Project SOC stock computation</td><td>60,5219</td></tr><tr><th>13</th><td>AK DSC Project SOC stock computation</td><td>AK DSC Project SOC stock computation</td><td>60,5242</td></tr><tr><th>14</th><td>AK DSC Project SOC stock computation</td><td>AK DSC Project SOC stock computation</td><td>60,5242</td></tr><tr><th>15</th><td>AK DSC Project SOC stock computation</td><td>AK DSC Project SOC stock computation</td><td>60,5242</td></tr><tr><th>16</th><td>AK DSC Project SOC stock computation</td><td>AK DSC Project SOC stock computation</td><td>60,5242</td></tr><tr><th>17</th><td>AK DSC Project SOC stock computation</td><td>AK DSC Project SOC stock computation</td><td>60,5242</td></tr><tr><th>18</th><td>AK DSC Project SOC stock computation</td><td>AK DSC Project SOC stock computation</td><td>60,5242</td></tr><tr><th>19</th><td>AK DSC Project SOC stock computation</td><td>AK DSC Project SOC stock computation</td><td>60,5242</td></tr><tr><th>20</th><td>AK DSC Project SOC stock computation</td><td>AK DSC Project SOC stock computation</td><td>60,5242</td></tr><tr><th>21</th><td>AK DSC Project SOC stock computation</td><td>AK DSC Project SOC stock computation</td><td>60,5242</td></tr><tr><th>22</th><td>AK DSC Project SOC stock computation</td><td>AK DSC Project SOC stock computation</td><td>60,3583</td></tr><tr><th>23</th><td>AK DSC Project SOC stock computation</td><td>AK DSC Project SOC stock computation</td><td>60,3583</td></tr><tr><th>24</th><td>AK DSC Project SOC stock computation</td><td>AK DSC Project SOC stock computation</td><td>60,3583</td></tr><tr><th>25</th><td>AK DSC Project SOC stock computation</td><td>AK DSC Project SOC stock computation</td><td>60,3583</td></tr><tr><th>26</th><td>AK DSC Project SOC stock computation</td><td>AK DSC Project SOC stock computation</td><td>60,3583</td></tr><tr><th>27</th><td>AK DSC Project SOC stock computation</td><td>AK DSC Project SOC stock computation</td><td>60,3583</td></tr><tr><th>28</th><td>AK DSC Project SOC stock computation</td><td>AK DSC Project SOC stock computation</td><td>60,3583</td></tr><tr><th>29</th><td>AK DSC Project SOC stock computation</td><td>AK DSC Project SOC stock computation</td><td>60,3583</td></tr><tr><th>30</th><td>AK DSC Project SOC stock computation</td><td>AK DSC Project SOC stock computation</td><td>60,3583</td></tr><tr><th>&vellip;</th><td>&vellip;</td><td>&vellip;</td><td>&vellip;</td></tr></tbody></table>"
      ],
      "text/latex": [
       "\\begin{tabular}{r|cccc}\n",
       "\t& dataset\\_name\\_sub & dataset\\_name\\_soc & lat (dec. deg) & \\\\\n",
       "\t\\hline\n",
       "\t& String & String & String? & \\\\\n",
       "\t\\hline\n",
       "\t1 & AK DSC Project SOC stock computation & AK DSC Project SOC stock computation & 60,5219 & $\\dots$ \\\\\n",
       "\t2 & AK DSC Project SOC stock computation & AK DSC Project SOC stock computation & 60,5219 & $\\dots$ \\\\\n",
       "\t3 & AK DSC Project SOC stock computation & AK DSC Project SOC stock computation & 60,5219 & $\\dots$ \\\\\n",
       "\t4 & AK DSC Project SOC stock computation & AK DSC Project SOC stock computation & 60,5219 & $\\dots$ \\\\\n",
       "\t5 & AK DSC Project SOC stock computation & AK DSC Project SOC stock computation & 60,5219 & $\\dots$ \\\\\n",
       "\t6 & AK DSC Project SOC stock computation & AK DSC Project SOC stock computation & 60,5219 & $\\dots$ \\\\\n",
       "\t7 & AK DSC Project SOC stock computation & AK DSC Project SOC stock computation & 60,5219 & $\\dots$ \\\\\n",
       "\t8 & AK DSC Project SOC stock computation & AK DSC Project SOC stock computation & 60,5219 & $\\dots$ \\\\\n",
       "\t9 & AK DSC Project SOC stock computation & AK DSC Project SOC stock computation & 60,5219 & $\\dots$ \\\\\n",
       "\t10 & AK DSC Project SOC stock computation & AK DSC Project SOC stock computation & 60,5219 & $\\dots$ \\\\\n",
       "\t11 & AK DSC Project SOC stock computation & AK DSC Project SOC stock computation & 60,5219 & $\\dots$ \\\\\n",
       "\t12 & AK DSC Project SOC stock computation & AK DSC Project SOC stock computation & 60,5219 & $\\dots$ \\\\\n",
       "\t13 & AK DSC Project SOC stock computation & AK DSC Project SOC stock computation & 60,5242 & $\\dots$ \\\\\n",
       "\t14 & AK DSC Project SOC stock computation & AK DSC Project SOC stock computation & 60,5242 & $\\dots$ \\\\\n",
       "\t15 & AK DSC Project SOC stock computation & AK DSC Project SOC stock computation & 60,5242 & $\\dots$ \\\\\n",
       "\t16 & AK DSC Project SOC stock computation & AK DSC Project SOC stock computation & 60,5242 & $\\dots$ \\\\\n",
       "\t17 & AK DSC Project SOC stock computation & AK DSC Project SOC stock computation & 60,5242 & $\\dots$ \\\\\n",
       "\t18 & AK DSC Project SOC stock computation & AK DSC Project SOC stock computation & 60,5242 & $\\dots$ \\\\\n",
       "\t19 & AK DSC Project SOC stock computation & AK DSC Project SOC stock computation & 60,5242 & $\\dots$ \\\\\n",
       "\t20 & AK DSC Project SOC stock computation & AK DSC Project SOC stock computation & 60,5242 & $\\dots$ \\\\\n",
       "\t21 & AK DSC Project SOC stock computation & AK DSC Project SOC stock computation & 60,5242 & $\\dots$ \\\\\n",
       "\t22 & AK DSC Project SOC stock computation & AK DSC Project SOC stock computation & 60,3583 & $\\dots$ \\\\\n",
       "\t23 & AK DSC Project SOC stock computation & AK DSC Project SOC stock computation & 60,3583 & $\\dots$ \\\\\n",
       "\t24 & AK DSC Project SOC stock computation & AK DSC Project SOC stock computation & 60,3583 & $\\dots$ \\\\\n",
       "\t25 & AK DSC Project SOC stock computation & AK DSC Project SOC stock computation & 60,3583 & $\\dots$ \\\\\n",
       "\t26 & AK DSC Project SOC stock computation & AK DSC Project SOC stock computation & 60,3583 & $\\dots$ \\\\\n",
       "\t27 & AK DSC Project SOC stock computation & AK DSC Project SOC stock computation & 60,3583 & $\\dots$ \\\\\n",
       "\t28 & AK DSC Project SOC stock computation & AK DSC Project SOC stock computation & 60,3583 & $\\dots$ \\\\\n",
       "\t29 & AK DSC Project SOC stock computation & AK DSC Project SOC stock computation & 60,3583 & $\\dots$ \\\\\n",
       "\t30 & AK DSC Project SOC stock computation & AK DSC Project SOC stock computation & 60,3583 & $\\dots$ \\\\\n",
       "\t$\\dots$ & $\\dots$ & $\\dots$ & $\\dots$ &  \\\\\n",
       "\\end{tabular}\n"
      ],
      "text/plain": [
       "227764×94 DataFrame. Omitted printing of 93 columns\n",
       "│ Row    │ dataset_name_sub                     │\n",
       "│        │ \u001b[90mString\u001b[39m                               │\n",
       "├────────┼──────────────────────────────────────┤\n",
       "│ 1      │ AK DSC Project SOC stock computation │\n",
       "│ 2      │ AK DSC Project SOC stock computation │\n",
       "│ 3      │ AK DSC Project SOC stock computation │\n",
       "│ 4      │ AK DSC Project SOC stock computation │\n",
       "│ 5      │ AK DSC Project SOC stock computation │\n",
       "│ 6      │ AK DSC Project SOC stock computation │\n",
       "│ 7      │ AK DSC Project SOC stock computation │\n",
       "│ 8      │ AK DSC Project SOC stock computation │\n",
       "│ 9      │ AK DSC Project SOC stock computation │\n",
       "│ 10     │ AK DSC Project SOC stock computation │\n",
       "⋮\n",
       "│ 227754 │ USGS Harden Yazoo                    │\n",
       "│ 227755 │ USGS Harden Yazoo                    │\n",
       "│ 227756 │ USGS Harden Yazoo                    │\n",
       "│ 227757 │ USGS Harden Yazoo                    │\n",
       "│ 227758 │ USGS Harden Yazoo                    │\n",
       "│ 227759 │ USGS Harden Yazoo                    │\n",
       "│ 227760 │ USGS Harden Yazoo                    │\n",
       "│ 227761 │ USGS Harden Yazoo                    │\n",
       "│ 227762 │ USGS Harden Yazoo                    │\n",
       "│ 227763 │ USGS Harden Yazoo                    │\n",
       "│ 227764 │ USGS Harden Yazoo                    │"
      ]
     },
     "execution_count": 48,
     "metadata": {},
     "output_type": "execute_result"
    }
   ],
   "source": [
    "df = CSV.read(\"ISCN_SOC-DATA_LAYER_1-1.csv\", DataFrame)"
   ]
  },
  {
   "cell_type": "markdown",
   "metadata": {},
   "source": [
    "Marking columns of interest:"
   ]
  },
  {
   "cell_type": "code",
   "execution_count": 49,
   "metadata": {},
   "outputs": [
    {
     "data": {
      "text/plain": [
       "12-element Array{String,1}:\n",
       " \"dataset_name_sub\"\n",
       " \"site_name\"\n",
       " \"profile_name\"\n",
       " \"layer_name\"\n",
       " \"lat (dec. deg)\"\n",
       " \"long (dec. deg)\"\n",
       " \"observation_date (YYYY-MM-DD)\"\n",
       " \"hzn\"\n",
       " \"layer_top (cm)\"\n",
       " \"layer_bot (cm)\"\n",
       " \"oc (percent)\"\n",
       " \"soc (g cm-2)\""
      ]
     },
     "execution_count": 49,
     "metadata": {},
     "output_type": "execute_result"
    }
   ],
   "source": [
    "cols_of_interest = [\"dataset_name_sub\",\n",
    "                \"site_name\",\n",
    "                \"profile_name\",\n",
    "                \"layer_name\",\n",
    "                \"lat (dec. deg)\",\n",
    "                \"long (dec. deg)\",\n",
    "                \"observation_date (YYYY-MM-DD)\",\n",
    "                \"hzn\",\n",
    "                \"layer_top (cm)\",\n",
    "                \"layer_bot (cm)\",\n",
    "                #\"bd_samp (g cm-3)\",\n",
    "                #\"bd_tot (g cm-3)\",\n",
    "                #\"bd_whole (g cm-3)\",\n",
    "                #\"bd_other (g cm-3)\",\n",
    "                \"oc (percent)\",\n",
    "                \"soc (g cm-2)\"]"
   ]
  },
  {
   "cell_type": "code",
   "execution_count": 50,
   "metadata": {},
   "outputs": [
    {
     "data": {
      "text/html": [
       "<table class=\"data-frame\"><thead><tr><th></th><th>dataset_name_sub</th><th>site_name</th><th>profile_name</th><th>layer_name</th><th>lat (dec. deg)</th></tr><tr><th></th><th>String</th><th>String</th><th>String</th><th>String</th><th>String?</th></tr></thead><tbody><p>215,520 rows × 12 columns (omitted printing of 7 columns)</p><tr><th>1</th><td>AK DSC Project SOC stock computation</td><td>S2001AK122001</td><td>01N1159</td><td>01N05963</td><td>60,5219</td></tr><tr><th>2</th><td>AK DSC Project SOC stock computation</td><td>S2001AK122001</td><td>01N1159</td><td>01N05964</td><td>60,5219</td></tr><tr><th>3</th><td>AK DSC Project SOC stock computation</td><td>S2001AK122001</td><td>01N1159</td><td>01N05965</td><td>60,5219</td></tr><tr><th>4</th><td>AK DSC Project SOC stock computation</td><td>S2001AK122001</td><td>01N1159</td><td>01N05966</td><td>60,5219</td></tr><tr><th>5</th><td>AK DSC Project SOC stock computation</td><td>S2001AK122001</td><td>01N1159</td><td>01N05967</td><td>60,5219</td></tr><tr><th>6</th><td>AK DSC Project SOC stock computation</td><td>S2001AK122001</td><td>01N1159</td><td>01N05968</td><td>60,5219</td></tr><tr><th>7</th><td>AK DSC Project SOC stock computation</td><td>S2001AK122001</td><td>01N1159</td><td>01N05969</td><td>60,5219</td></tr><tr><th>8</th><td>AK DSC Project SOC stock computation</td><td>S2001AK122001</td><td>01N1159</td><td>01N05970</td><td>60,5219</td></tr><tr><th>9</th><td>AK DSC Project SOC stock computation</td><td>S2001AK122001</td><td>01N1159</td><td>01N05971</td><td>60,5219</td></tr><tr><th>10</th><td>AK DSC Project SOC stock computation</td><td>S2001AK122001</td><td>01N1159</td><td>01N05972</td><td>60,5219</td></tr><tr><th>11</th><td>AK DSC Project SOC stock computation</td><td>S2001AK122001</td><td>01N1159</td><td>01N05973</td><td>60,5219</td></tr><tr><th>12</th><td>AK DSC Project SOC stock computation</td><td>S2001AK122001</td><td>01N1159</td><td>01N05974</td><td>60,5219</td></tr><tr><th>13</th><td>AK DSC Project SOC stock computation</td><td>S2001AK122002</td><td>01N1160</td><td>01N05975</td><td>60,5242</td></tr><tr><th>14</th><td>AK DSC Project SOC stock computation</td><td>S2001AK122002</td><td>01N1160</td><td>01N05976</td><td>60,5242</td></tr><tr><th>15</th><td>AK DSC Project SOC stock computation</td><td>S2001AK122002</td><td>01N1160</td><td>01N05977</td><td>60,5242</td></tr><tr><th>16</th><td>AK DSC Project SOC stock computation</td><td>S2001AK122002</td><td>01N1160</td><td>01N05978</td><td>60,5242</td></tr><tr><th>17</th><td>AK DSC Project SOC stock computation</td><td>S2001AK122002</td><td>01N1160</td><td>01N05979</td><td>60,5242</td></tr><tr><th>18</th><td>AK DSC Project SOC stock computation</td><td>S2001AK122002</td><td>01N1160</td><td>01N05980</td><td>60,5242</td></tr><tr><th>19</th><td>AK DSC Project SOC stock computation</td><td>S2001AK122002</td><td>01N1160</td><td>01N05981</td><td>60,5242</td></tr><tr><th>20</th><td>AK DSC Project SOC stock computation</td><td>S2001AK122002</td><td>01N1160</td><td>01N05982</td><td>60,5242</td></tr><tr><th>21</th><td>AK DSC Project SOC stock computation</td><td>S2001AK122002</td><td>01N1160</td><td>01N05983</td><td>60,5242</td></tr><tr><th>22</th><td>AK DSC Project SOC stock computation</td><td>S2001AK122003</td><td>01N1161</td><td>01N05984</td><td>60,3583</td></tr><tr><th>23</th><td>AK DSC Project SOC stock computation</td><td>S2001AK122003</td><td>01N1161</td><td>01N05985</td><td>60,3583</td></tr><tr><th>24</th><td>AK DSC Project SOC stock computation</td><td>S2001AK122003</td><td>01N1161</td><td>01N05986</td><td>60,3583</td></tr><tr><th>25</th><td>AK DSC Project SOC stock computation</td><td>S2001AK122003</td><td>01N1161</td><td>01N05987</td><td>60,3583</td></tr><tr><th>26</th><td>AK DSC Project SOC stock computation</td><td>S2001AK122003</td><td>01N1161</td><td>01N05988</td><td>60,3583</td></tr><tr><th>27</th><td>AK DSC Project SOC stock computation</td><td>S2001AK122003</td><td>01N1161</td><td>01N05989</td><td>60,3583</td></tr><tr><th>28</th><td>AK DSC Project SOC stock computation</td><td>S2001AK122003</td><td>01N1161</td><td>01N05990</td><td>60,3583</td></tr><tr><th>29</th><td>AK DSC Project SOC stock computation</td><td>S2001AK122003</td><td>01N1161</td><td>01N05991</td><td>60,3583</td></tr><tr><th>30</th><td>AK DSC Project SOC stock computation</td><td>S2001AK122003</td><td>01N1161</td><td>01N05992</td><td>60,3583</td></tr><tr><th>&vellip;</th><td>&vellip;</td><td>&vellip;</td><td>&vellip;</td><td>&vellip;</td><td>&vellip;</td></tr></tbody></table>"
      ],
      "text/latex": [
       "\\begin{tabular}{r|cccccc}\n",
       "\t& dataset\\_name\\_sub & site\\_name & profile\\_name & layer\\_name & lat (dec. deg) & \\\\\n",
       "\t\\hline\n",
       "\t& String & String & String & String & String? & \\\\\n",
       "\t\\hline\n",
       "\t1 & AK DSC Project SOC stock computation & S2001AK122001 & 01N1159 & 01N05963 & 60,5219 & $\\dots$ \\\\\n",
       "\t2 & AK DSC Project SOC stock computation & S2001AK122001 & 01N1159 & 01N05964 & 60,5219 & $\\dots$ \\\\\n",
       "\t3 & AK DSC Project SOC stock computation & S2001AK122001 & 01N1159 & 01N05965 & 60,5219 & $\\dots$ \\\\\n",
       "\t4 & AK DSC Project SOC stock computation & S2001AK122001 & 01N1159 & 01N05966 & 60,5219 & $\\dots$ \\\\\n",
       "\t5 & AK DSC Project SOC stock computation & S2001AK122001 & 01N1159 & 01N05967 & 60,5219 & $\\dots$ \\\\\n",
       "\t6 & AK DSC Project SOC stock computation & S2001AK122001 & 01N1159 & 01N05968 & 60,5219 & $\\dots$ \\\\\n",
       "\t7 & AK DSC Project SOC stock computation & S2001AK122001 & 01N1159 & 01N05969 & 60,5219 & $\\dots$ \\\\\n",
       "\t8 & AK DSC Project SOC stock computation & S2001AK122001 & 01N1159 & 01N05970 & 60,5219 & $\\dots$ \\\\\n",
       "\t9 & AK DSC Project SOC stock computation & S2001AK122001 & 01N1159 & 01N05971 & 60,5219 & $\\dots$ \\\\\n",
       "\t10 & AK DSC Project SOC stock computation & S2001AK122001 & 01N1159 & 01N05972 & 60,5219 & $\\dots$ \\\\\n",
       "\t11 & AK DSC Project SOC stock computation & S2001AK122001 & 01N1159 & 01N05973 & 60,5219 & $\\dots$ \\\\\n",
       "\t12 & AK DSC Project SOC stock computation & S2001AK122001 & 01N1159 & 01N05974 & 60,5219 & $\\dots$ \\\\\n",
       "\t13 & AK DSC Project SOC stock computation & S2001AK122002 & 01N1160 & 01N05975 & 60,5242 & $\\dots$ \\\\\n",
       "\t14 & AK DSC Project SOC stock computation & S2001AK122002 & 01N1160 & 01N05976 & 60,5242 & $\\dots$ \\\\\n",
       "\t15 & AK DSC Project SOC stock computation & S2001AK122002 & 01N1160 & 01N05977 & 60,5242 & $\\dots$ \\\\\n",
       "\t16 & AK DSC Project SOC stock computation & S2001AK122002 & 01N1160 & 01N05978 & 60,5242 & $\\dots$ \\\\\n",
       "\t17 & AK DSC Project SOC stock computation & S2001AK122002 & 01N1160 & 01N05979 & 60,5242 & $\\dots$ \\\\\n",
       "\t18 & AK DSC Project SOC stock computation & S2001AK122002 & 01N1160 & 01N05980 & 60,5242 & $\\dots$ \\\\\n",
       "\t19 & AK DSC Project SOC stock computation & S2001AK122002 & 01N1160 & 01N05981 & 60,5242 & $\\dots$ \\\\\n",
       "\t20 & AK DSC Project SOC stock computation & S2001AK122002 & 01N1160 & 01N05982 & 60,5242 & $\\dots$ \\\\\n",
       "\t21 & AK DSC Project SOC stock computation & S2001AK122002 & 01N1160 & 01N05983 & 60,5242 & $\\dots$ \\\\\n",
       "\t22 & AK DSC Project SOC stock computation & S2001AK122003 & 01N1161 & 01N05984 & 60,3583 & $\\dots$ \\\\\n",
       "\t23 & AK DSC Project SOC stock computation & S2001AK122003 & 01N1161 & 01N05985 & 60,3583 & $\\dots$ \\\\\n",
       "\t24 & AK DSC Project SOC stock computation & S2001AK122003 & 01N1161 & 01N05986 & 60,3583 & $\\dots$ \\\\\n",
       "\t25 & AK DSC Project SOC stock computation & S2001AK122003 & 01N1161 & 01N05987 & 60,3583 & $\\dots$ \\\\\n",
       "\t26 & AK DSC Project SOC stock computation & S2001AK122003 & 01N1161 & 01N05988 & 60,3583 & $\\dots$ \\\\\n",
       "\t27 & AK DSC Project SOC stock computation & S2001AK122003 & 01N1161 & 01N05989 & 60,3583 & $\\dots$ \\\\\n",
       "\t28 & AK DSC Project SOC stock computation & S2001AK122003 & 01N1161 & 01N05990 & 60,3583 & $\\dots$ \\\\\n",
       "\t29 & AK DSC Project SOC stock computation & S2001AK122003 & 01N1161 & 01N05991 & 60,3583 & $\\dots$ \\\\\n",
       "\t30 & AK DSC Project SOC stock computation & S2001AK122003 & 01N1161 & 01N05992 & 60,3583 & $\\dots$ \\\\\n",
       "\t$\\dots$ & $\\dots$ & $\\dots$ & $\\dots$ & $\\dots$ & $\\dots$ &  \\\\\n",
       "\\end{tabular}\n"
      ],
      "text/plain": [
       "215520×12 DataFrame. Omitted printing of 10 columns\n",
       "│ Row    │ dataset_name_sub                        │ site_name     │\n",
       "│        │ \u001b[90mString\u001b[39m                                  │ \u001b[90mString\u001b[39m        │\n",
       "├────────┼─────────────────────────────────────────┼───────────────┤\n",
       "│ 1      │ AK DSC Project SOC stock computation    │ S2001AK122001 │\n",
       "│ 2      │ AK DSC Project SOC stock computation    │ S2001AK122001 │\n",
       "│ 3      │ AK DSC Project SOC stock computation    │ S2001AK122001 │\n",
       "│ 4      │ AK DSC Project SOC stock computation    │ S2001AK122001 │\n",
       "│ 5      │ AK DSC Project SOC stock computation    │ S2001AK122001 │\n",
       "│ 6      │ AK DSC Project SOC stock computation    │ S2001AK122001 │\n",
       "│ 7      │ AK DSC Project SOC stock computation    │ S2001AK122001 │\n",
       "│ 8      │ AK DSC Project SOC stock computation    │ S2001AK122001 │\n",
       "│ 9      │ AK DSC Project SOC stock computation    │ S2001AK122001 │\n",
       "│ 10     │ AK DSC Project SOC stock computation    │ S2001AK122001 │\n",
       "⋮\n",
       "│ 215510 │ Worldwide soil carbon and nitrogen data │ BP ML         │\n",
       "│ 215511 │ Worldwide soil carbon and nitrogen data │ BP ML         │\n",
       "│ 215512 │ Worldwide soil carbon and nitrogen data │ BP ML         │\n",
       "│ 215513 │ Worldwide soil carbon and nitrogen data │ BP ML         │\n",
       "│ 215514 │ Worldwide soil carbon and nitrogen data │ CP ML         │\n",
       "│ 215515 │ Worldwide soil carbon and nitrogen data │ CP ML         │\n",
       "│ 215516 │ Worldwide soil carbon and nitrogen data │ CP ML         │\n",
       "│ 215517 │ Worldwide soil carbon and nitrogen data │ CP ML         │\n",
       "│ 215518 │ Worldwide soil carbon and nitrogen data │ CP ML         │\n",
       "│ 215519 │ Worldwide soil carbon and nitrogen data │ CP ML         │\n",
       "│ 215520 │ Worldwide soil carbon and nitrogen data │ CP ML         │"
      ]
     },
     "execution_count": 50,
     "metadata": {},
     "output_type": "execute_result"
    }
   ],
   "source": [
    "df_iscn = df[:,cols_of_interest]\n",
    "\n",
    "dropmissing!(df_iscn,[\"layer_top (cm)\",\"layer_bot (cm)\"])\t\n"
   ]
  },
  {
   "cell_type": "markdown",
   "metadata": {},
   "source": [
    "NOTE: Some layers/profiles are duplicated in some datasets, example below"
   ]
  },
  {
   "cell_type": "code",
   "execution_count": 51,
   "metadata": {},
   "outputs": [
    {
     "data": {
      "text/html": [
       "<table class=\"data-frame\"><thead><tr><th></th><th>dataset_name_sub</th><th>site_name</th><th>profile_name</th><th>layer_name</th><th>lat (dec. deg)</th></tr><tr><th></th><th>String</th><th>String</th><th>String</th><th>String</th><th>String?</th></tr></thead><tbody><p>8 rows × 12 columns (omitted printing of 7 columns)</p><tr><th>1</th><td>AK DSC Project SOC stock computation</td><td>BF-61</td><td>BF-61-1</td><td>BF61-1-F</td><td>65,34931</td></tr><tr><th>2</th><td>AK DSC Project SOC stock computation</td><td>BF-61</td><td>BF-61-1</td><td>BF61-1-H</td><td>65,34931</td></tr><tr><th>3</th><td>AK DSC Project SOC stock computation</td><td>BF-61</td><td>BF-61-1</td><td>BF61-1-M1</td><td>65,34931</td></tr><tr><th>4</th><td>AK DSC Project SOC stock computation</td><td>BF-61</td><td>BF-61-1</td><td>BF61-1-M2</td><td>65,34931</td></tr><tr><th>5</th><td>Boby_Mack</td><td>BF-61</td><td>BF-61-1</td><td>BF61-1-F</td><td>65,34931</td></tr><tr><th>6</th><td>Boby_Mack</td><td>BF-61</td><td>BF-61-1</td><td>BF61-1-H</td><td>65,34931</td></tr><tr><th>7</th><td>Boby_Mack</td><td>BF-61</td><td>BF-61-1</td><td>BF61-1-M1</td><td>65,34931</td></tr><tr><th>8</th><td>Boby_Mack</td><td>BF-61</td><td>BF-61-1</td><td>BF61-1-M2</td><td>65,34931</td></tr></tbody></table>"
      ],
      "text/latex": [
       "\\begin{tabular}{r|cccccc}\n",
       "\t& dataset\\_name\\_sub & site\\_name & profile\\_name & layer\\_name & lat (dec. deg) & \\\\\n",
       "\t\\hline\n",
       "\t& String & String & String & String & String? & \\\\\n",
       "\t\\hline\n",
       "\t1 & AK DSC Project SOC stock computation & BF-61 & BF-61-1 & BF61-1-F & 65,34931 & $\\dots$ \\\\\n",
       "\t2 & AK DSC Project SOC stock computation & BF-61 & BF-61-1 & BF61-1-H & 65,34931 & $\\dots$ \\\\\n",
       "\t3 & AK DSC Project SOC stock computation & BF-61 & BF-61-1 & BF61-1-M1 & 65,34931 & $\\dots$ \\\\\n",
       "\t4 & AK DSC Project SOC stock computation & BF-61 & BF-61-1 & BF61-1-M2 & 65,34931 & $\\dots$ \\\\\n",
       "\t5 & Boby\\_Mack & BF-61 & BF-61-1 & BF61-1-F & 65,34931 & $\\dots$ \\\\\n",
       "\t6 & Boby\\_Mack & BF-61 & BF-61-1 & BF61-1-H & 65,34931 & $\\dots$ \\\\\n",
       "\t7 & Boby\\_Mack & BF-61 & BF-61-1 & BF61-1-M1 & 65,34931 & $\\dots$ \\\\\n",
       "\t8 & Boby\\_Mack & BF-61 & BF-61-1 & BF61-1-M2 & 65,34931 & $\\dots$ \\\\\n",
       "\\end{tabular}\n"
      ],
      "text/plain": [
       "8×12 DataFrame. Omitted printing of 9 columns\n",
       "│ Row │ dataset_name_sub                     │ site_name │ profile_name │\n",
       "│     │ \u001b[90mString\u001b[39m                               │ \u001b[90mString\u001b[39m    │ \u001b[90mString\u001b[39m       │\n",
       "├─────┼──────────────────────────────────────┼───────────┼──────────────┤\n",
       "│ 1   │ AK DSC Project SOC stock computation │ BF-61     │ BF-61-1      │\n",
       "│ 2   │ AK DSC Project SOC stock computation │ BF-61     │ BF-61-1      │\n",
       "│ 3   │ AK DSC Project SOC stock computation │ BF-61     │ BF-61-1      │\n",
       "│ 4   │ AK DSC Project SOC stock computation │ BF-61     │ BF-61-1      │\n",
       "│ 5   │ Boby_Mack                            │ BF-61     │ BF-61-1      │\n",
       "│ 6   │ Boby_Mack                            │ BF-61     │ BF-61-1      │\n",
       "│ 7   │ Boby_Mack                            │ BF-61     │ BF-61-1      │\n",
       "│ 8   │ Boby_Mack                            │ BF-61     │ BF-61-1      │"
      ]
     },
     "execution_count": 51,
     "metadata": {},
     "output_type": "execute_result"
    }
   ],
   "source": [
    "df_iscn[df_iscn.profile_name .== \"BF-61-1\",:]"
   ]
  },
  {
   "cell_type": "markdown",
   "metadata": {},
   "source": [
    "Importing dataset with BD value estimates:"
   ]
  },
  {
   "cell_type": "code",
   "execution_count": 52,
   "metadata": {
    "scrolled": true
   },
   "outputs": [
    {
     "name": "stderr",
     "output_type": "stream",
     "text": [
      "┌ Warning: thread = 1 warning: only found 26 / 27 columns around data row: 434583. Filling remaining columns with `missing`\n",
      "└ @ CSV /Users/Daniele/.julia/packages/CSV/la2cd/src/file.jl:603\n"
     ]
    },
    {
     "data": {
      "text/html": [
       "<table class=\"data-frame\"><thead><tr><th></th><th>dataset_name</th><th>site_name</th><th>profile_name</th><th>layer_name</th><th>layer_top</th><th>layer_bot</th><th>hzn_desgn</th></tr><tr><th></th><th>String</th><th>String</th><th>String</th><th>String</th><th>String</th><th>String</th><th>String?</th></tr></thead><tbody><p>434,582 rows × 27 columns (omitted printing of 20 columns)</p><tr><th>1</th><td>Boby_Mack</td><td>BF-61</td><td>BF-61-1</td><td>BF61-1-F</td><td>0</td><td>4</td><td>unknown</td></tr><tr><th>2</th><td>Boby_Mack</td><td>BF-61</td><td>BF-61-1</td><td>BF61-1-H</td><td>4</td><td>6</td><td>unknown</td></tr><tr><th>3</th><td>Boby_Mack</td><td>BF-61</td><td>BF-61-1</td><td>BF61-1-M1</td><td>6</td><td>11</td><td>unknown</td></tr><tr><th>4</th><td>Boby_Mack</td><td>BF-61</td><td>BF-61-1</td><td>BF61-1-M2</td><td>11</td><td>16</td><td>unknown</td></tr><tr><th>5</th><td>Boby_Mack</td><td>BF-61</td><td>BF-61-2</td><td>BF61-2-DM</td><td>0</td><td>5</td><td>o</td></tr><tr><th>6</th><td>Boby_Mack</td><td>BF-61</td><td>BF-61-2</td><td>BF61-2-F</td><td>5</td><td>19</td><td>unknown</td></tr><tr><th>7</th><td>Boby_Mack</td><td>BF-61</td><td>BF-61-2</td><td>BF61-2-H</td><td>19</td><td>22</td><td>unknown</td></tr><tr><th>8</th><td>Boby_Mack</td><td>BF-61</td><td>BF-61-2</td><td>BF61-2-H:354</td><td>22</td><td>25</td><td>unknown</td></tr><tr><th>9</th><td>Boby_Mack</td><td>BF-61</td><td>BF-61-2</td><td>BF61-2-M1</td><td>25</td><td>30</td><td>unknown</td></tr><tr><th>10</th><td>Boby_Mack</td><td>BF-61</td><td>BF-61-2</td><td>BF61-2-M2</td><td>30</td><td>35</td><td>unknown</td></tr><tr><th>11</th><td>Boby_Mack</td><td>BF-61</td><td>BF-61-3</td><td>BF61-3-DM</td><td>0</td><td>4</td><td>o</td></tr><tr><th>12</th><td>Boby_Mack</td><td>BF-61</td><td>BF-61-3</td><td>BF61-3-F</td><td>4</td><td>9</td><td>unknown</td></tr><tr><th>13</th><td>Boby_Mack</td><td>BF-61</td><td>BF-61-3</td><td>BF61-3-H</td><td>9</td><td>14</td><td>unknown</td></tr><tr><th>14</th><td>Boby_Mack</td><td>BF-61</td><td>BF-61-3</td><td>BF61-3-M1</td><td>14</td><td>19</td><td>unknown</td></tr><tr><th>15</th><td>Boby_Mack</td><td>BF-61</td><td>BF-61-3</td><td>BF61-3-M2</td><td>19</td><td>24</td><td>unknown</td></tr><tr><th>16</th><td>Boby_Mack</td><td>BF-61</td><td>BF-61-4</td><td>BF61-4-F</td><td>0</td><td>28</td><td>unknown</td></tr><tr><th>17</th><td>Boby_Mack</td><td>BF-61</td><td>BF-61-4</td><td>BF61-4-H</td><td>28</td><td>34</td><td>unknown</td></tr><tr><th>18</th><td>Boby_Mack</td><td>BF-61</td><td>BF-61-4</td><td>BF61-4-M1</td><td>34</td><td>39</td><td>unknown</td></tr><tr><th>19</th><td>Boby_Mack</td><td>BF-61</td><td>BF-61-4</td><td>BF61-4-M2</td><td>39</td><td>44</td><td>unknown</td></tr><tr><th>20</th><td>Boby_Mack</td><td>BF-62</td><td>BF-62-1</td><td>BF62-1-DM</td><td>0</td><td>4</td><td>o</td></tr><tr><th>21</th><td>Boby_Mack</td><td>BF-62</td><td>BF-62-1</td><td>BF62-1-F</td><td>4</td><td>21</td><td>unknown</td></tr><tr><th>22</th><td>Boby_Mack</td><td>BF-62</td><td>BF-62-1</td><td>BF62-1-M1</td><td>21</td><td>26</td><td>unknown</td></tr><tr><th>23</th><td>Boby_Mack</td><td>BF-62</td><td>BF-62-1</td><td>BF62-1-M2</td><td>26</td><td>30</td><td>unknown</td></tr><tr><th>24</th><td>Boby_Mack</td><td>BF-62</td><td>BF-62-2</td><td>BF62-2-F</td><td>0</td><td>16</td><td>unknown</td></tr><tr><th>25</th><td>Boby_Mack</td><td>BF-62</td><td>BF-62-2</td><td>BF62-2-H</td><td>16</td><td>19</td><td>unknown</td></tr><tr><th>26</th><td>Boby_Mack</td><td>BF-62</td><td>BF-62-2</td><td>BF62-2-M1</td><td>19</td><td>24</td><td>unknown</td></tr><tr><th>27</th><td>Boby_Mack</td><td>BF-62</td><td>BF-62-2</td><td>BF62-2-M2</td><td>24</td><td>27</td><td>unknown</td></tr><tr><th>28</th><td>Boby_Mack</td><td>BF-62</td><td>BF-62-3</td><td>BF62-3-H</td><td>0</td><td>8</td><td>unknown</td></tr><tr><th>29</th><td>Boby_Mack</td><td>BF-62</td><td>BF-62-3</td><td>BF62-3-M1</td><td>8</td><td>14</td><td>unknown</td></tr><tr><th>30</th><td>Boby_Mack</td><td>BF-62</td><td>BF-62-4</td><td>BF62-4-DM</td><td>0</td><td>5</td><td>o</td></tr><tr><th>&vellip;</th><td>&vellip;</td><td>&vellip;</td><td>&vellip;</td><td>&vellip;</td><td>&vellip;</td><td>&vellip;</td><td>&vellip;</td></tr></tbody></table>"
      ],
      "text/latex": [
       "\\begin{tabular}{r|cccccccc}\n",
       "\t& dataset\\_name & site\\_name & profile\\_name & layer\\_name & layer\\_top & layer\\_bot & hzn\\_desgn & \\\\\n",
       "\t\\hline\n",
       "\t& String & String & String & String & String & String & String? & \\\\\n",
       "\t\\hline\n",
       "\t1 & Boby\\_Mack & BF-61 & BF-61-1 & BF61-1-F & 0 & 4 & unknown & $\\dots$ \\\\\n",
       "\t2 & Boby\\_Mack & BF-61 & BF-61-1 & BF61-1-H & 4 & 6 & unknown & $\\dots$ \\\\\n",
       "\t3 & Boby\\_Mack & BF-61 & BF-61-1 & BF61-1-M1 & 6 & 11 & unknown & $\\dots$ \\\\\n",
       "\t4 & Boby\\_Mack & BF-61 & BF-61-1 & BF61-1-M2 & 11 & 16 & unknown & $\\dots$ \\\\\n",
       "\t5 & Boby\\_Mack & BF-61 & BF-61-2 & BF61-2-DM & 0 & 5 & o & $\\dots$ \\\\\n",
       "\t6 & Boby\\_Mack & BF-61 & BF-61-2 & BF61-2-F & 5 & 19 & unknown & $\\dots$ \\\\\n",
       "\t7 & Boby\\_Mack & BF-61 & BF-61-2 & BF61-2-H & 19 & 22 & unknown & $\\dots$ \\\\\n",
       "\t8 & Boby\\_Mack & BF-61 & BF-61-2 & BF61-2-H:354 & 22 & 25 & unknown & $\\dots$ \\\\\n",
       "\t9 & Boby\\_Mack & BF-61 & BF-61-2 & BF61-2-M1 & 25 & 30 & unknown & $\\dots$ \\\\\n",
       "\t10 & Boby\\_Mack & BF-61 & BF-61-2 & BF61-2-M2 & 30 & 35 & unknown & $\\dots$ \\\\\n",
       "\t11 & Boby\\_Mack & BF-61 & BF-61-3 & BF61-3-DM & 0 & 4 & o & $\\dots$ \\\\\n",
       "\t12 & Boby\\_Mack & BF-61 & BF-61-3 & BF61-3-F & 4 & 9 & unknown & $\\dots$ \\\\\n",
       "\t13 & Boby\\_Mack & BF-61 & BF-61-3 & BF61-3-H & 9 & 14 & unknown & $\\dots$ \\\\\n",
       "\t14 & Boby\\_Mack & BF-61 & BF-61-3 & BF61-3-M1 & 14 & 19 & unknown & $\\dots$ \\\\\n",
       "\t15 & Boby\\_Mack & BF-61 & BF-61-3 & BF61-3-M2 & 19 & 24 & unknown & $\\dots$ \\\\\n",
       "\t16 & Boby\\_Mack & BF-61 & BF-61-4 & BF61-4-F & 0 & 28 & unknown & $\\dots$ \\\\\n",
       "\t17 & Boby\\_Mack & BF-61 & BF-61-4 & BF61-4-H & 28 & 34 & unknown & $\\dots$ \\\\\n",
       "\t18 & Boby\\_Mack & BF-61 & BF-61-4 & BF61-4-M1 & 34 & 39 & unknown & $\\dots$ \\\\\n",
       "\t19 & Boby\\_Mack & BF-61 & BF-61-4 & BF61-4-M2 & 39 & 44 & unknown & $\\dots$ \\\\\n",
       "\t20 & Boby\\_Mack & BF-62 & BF-62-1 & BF62-1-DM & 0 & 4 & o & $\\dots$ \\\\\n",
       "\t21 & Boby\\_Mack & BF-62 & BF-62-1 & BF62-1-F & 4 & 21 & unknown & $\\dots$ \\\\\n",
       "\t22 & Boby\\_Mack & BF-62 & BF-62-1 & BF62-1-M1 & 21 & 26 & unknown & $\\dots$ \\\\\n",
       "\t23 & Boby\\_Mack & BF-62 & BF-62-1 & BF62-1-M2 & 26 & 30 & unknown & $\\dots$ \\\\\n",
       "\t24 & Boby\\_Mack & BF-62 & BF-62-2 & BF62-2-F & 0 & 16 & unknown & $\\dots$ \\\\\n",
       "\t25 & Boby\\_Mack & BF-62 & BF-62-2 & BF62-2-H & 16 & 19 & unknown & $\\dots$ \\\\\n",
       "\t26 & Boby\\_Mack & BF-62 & BF-62-2 & BF62-2-M1 & 19 & 24 & unknown & $\\dots$ \\\\\n",
       "\t27 & Boby\\_Mack & BF-62 & BF-62-2 & BF62-2-M2 & 24 & 27 & unknown & $\\dots$ \\\\\n",
       "\t28 & Boby\\_Mack & BF-62 & BF-62-3 & BF62-3-H & 0 & 8 & unknown & $\\dots$ \\\\\n",
       "\t29 & Boby\\_Mack & BF-62 & BF-62-3 & BF62-3-M1 & 8 & 14 & unknown & $\\dots$ \\\\\n",
       "\t30 & Boby\\_Mack & BF-62 & BF-62-4 & BF62-4-DM & 0 & 5 & o & $\\dots$ \\\\\n",
       "\t$\\dots$ & $\\dots$ & $\\dots$ & $\\dots$ & $\\dots$ & $\\dots$ & $\\dots$ & $\\dots$ &  \\\\\n",
       "\\end{tabular}\n"
      ],
      "text/plain": [
       "434582×27 DataFrame. Omitted printing of 24 columns\n",
       "│ Row    │ dataset_name                            │ site_name │ profile_name │\n",
       "│        │ \u001b[90mString\u001b[39m                                  │ \u001b[90mString\u001b[39m    │ \u001b[90mString\u001b[39m       │\n",
       "├────────┼─────────────────────────────────────────┼───────────┼──────────────┤\n",
       "│ 1      │ Boby_Mack                               │ BF-61     │ BF-61-1      │\n",
       "│ 2      │ Boby_Mack                               │ BF-61     │ BF-61-1      │\n",
       "│ 3      │ Boby_Mack                               │ BF-61     │ BF-61-1      │\n",
       "│ 4      │ Boby_Mack                               │ BF-61     │ BF-61-1      │\n",
       "│ 5      │ Boby_Mack                               │ BF-61     │ BF-61-2      │\n",
       "│ 6      │ Boby_Mack                               │ BF-61     │ BF-61-2      │\n",
       "│ 7      │ Boby_Mack                               │ BF-61     │ BF-61-2      │\n",
       "│ 8      │ Boby_Mack                               │ BF-61     │ BF-61-2      │\n",
       "│ 9      │ Boby_Mack                               │ BF-61     │ BF-61-2      │\n",
       "│ 10     │ Boby_Mack                               │ BF-61     │ BF-61-2      │\n",
       "⋮\n",
       "│ 434572 │ Worldwide soil carbon and nitrogen data │ ZV681 RS  │ 3002009      │\n",
       "│ 434573 │ Worldwide soil carbon and nitrogen data │ ZV681 RS  │ 3002009      │\n",
       "│ 434574 │ Worldwide soil carbon and nitrogen data │ ZV681 RS  │ 3002009      │\n",
       "│ 434575 │ Worldwide soil carbon and nitrogen data │ ZV681 RS  │ 3002009      │\n",
       "│ 434576 │ Worldwide soil carbon and nitrogen data │ ZV681 RS  │ 3002009      │\n",
       "│ 434577 │ Worldwide soil carbon and nitrogen data │ ZV681 RS  │ 3002009      │\n",
       "│ 434578 │ Worldwide soil carbon and nitrogen data │ ZV8 RS    │ 3002004      │\n",
       "│ 434579 │ Worldwide soil carbon and nitrogen data │ ZV8 RS    │ 3002004      │\n",
       "│ 434580 │ Worldwide soil carbon and nitrogen data │ ZV8 RS    │ 3002004      │\n",
       "│ 434581 │ Worldwide soil carbon and nitrogen data │ ZV8 RS    │ 3002004      │\n",
       "│ 434582 │ Worldwide soil carbon and nitrogen data │ ZV8 RS    │ 3002004      │"
      ]
     },
     "execution_count": 52,
     "metadata": {},
     "output_type": "execute_result"
    }
   ],
   "source": [
    "df_bd_pred = CSV.read(\"ISCNTemplate_NRCS_BD_predictions.csv\", DataFrame)"
   ]
  },
  {
   "cell_type": "code",
   "execution_count": 53,
   "metadata": {},
   "outputs": [
    {
     "data": {
      "text/plain": [
       "5-element Array{String,1}:\n",
       " \"dataset_name\"\n",
       " \"site_name\"\n",
       " \"profile_name\"\n",
       " \"layer_name\"\n",
       " \"bd_pred_2\""
      ]
     },
     "execution_count": 53,
     "metadata": {},
     "output_type": "execute_result"
    }
   ],
   "source": [
    "cols_interest_bd = [\"dataset_name\",\n",
    "                \"site_name\",\n",
    "                \"profile_name\",\n",
    "                \"layer_name\",\n",
    "                \"bd_pred_2\"]\n",
    "                #\"bd_pred_1\"]"
   ]
  },
  {
   "cell_type": "markdown",
   "metadata": {},
   "source": [
    "NOTE: ‘bd_pred_1’ is to be used for organic horizons (hzn = O), ‘be_pred_2’ for mineral soil horizons (hzn != O)."
   ]
  },
  {
   "cell_type": "code",
   "execution_count": 54,
   "metadata": {
    "scrolled": true
   },
   "outputs": [
    {
     "data": {
      "text/html": [
       "<table class=\"data-frame\"><thead><tr><th></th><th>dataset_name</th><th>site_name</th><th>profile_name</th><th>layer_name</th><th>bd_pred_2</th></tr><tr><th></th><th>String</th><th>String</th><th>String</th><th>String</th><th>String</th></tr></thead><tbody><p>434,582 rows × 5 columns</p><tr><th>1</th><td>Boby_Mack</td><td>BF-61</td><td>BF-61-1</td><td>BF61-1-F</td><td>0,73</td></tr><tr><th>2</th><td>Boby_Mack</td><td>BF-61</td><td>BF-61-1</td><td>BF61-1-H</td><td>0,74</td></tr><tr><th>3</th><td>Boby_Mack</td><td>BF-61</td><td>BF-61-1</td><td>BF61-1-M1</td><td>1,03</td></tr><tr><th>4</th><td>Boby_Mack</td><td>BF-61</td><td>BF-61-1</td><td>BF61-1-M2</td><td>1,13</td></tr><tr><th>5</th><td>Boby_Mack</td><td>BF-61</td><td>BF-61-2</td><td>BF61-2-DM</td><td>0,36</td></tr><tr><th>6</th><td>Boby_Mack</td><td>BF-61</td><td>BF-61-2</td><td>BF61-2-F</td><td>0,67</td></tr><tr><th>7</th><td>Boby_Mack</td><td>BF-61</td><td>BF-61-2</td><td>BF61-2-H</td><td>0,77</td></tr><tr><th>8</th><td>Boby_Mack</td><td>BF-61</td><td>BF-61-2</td><td>BF61-2-H:354</td><td>0,67</td></tr><tr><th>9</th><td>Boby_Mack</td><td>BF-61</td><td>BF-61-2</td><td>BF61-2-M1</td><td>0,96</td></tr><tr><th>10</th><td>Boby_Mack</td><td>BF-61</td><td>BF-61-2</td><td>BF61-2-M2</td><td>1,01</td></tr><tr><th>11</th><td>Boby_Mack</td><td>BF-61</td><td>BF-61-3</td><td>BF61-3-DM</td><td>0,35</td></tr><tr><th>12</th><td>Boby_Mack</td><td>BF-61</td><td>BF-61-3</td><td>BF61-3-F</td><td>0,70</td></tr><tr><th>13</th><td>Boby_Mack</td><td>BF-61</td><td>BF-61-3</td><td>BF61-3-H</td><td>0,71</td></tr><tr><th>14</th><td>Boby_Mack</td><td>BF-61</td><td>BF-61-3</td><td>BF61-3-M1</td><td>0,92</td></tr><tr><th>15</th><td>Boby_Mack</td><td>BF-61</td><td>BF-61-3</td><td>BF61-3-M2</td><td>1,08</td></tr><tr><th>16</th><td>Boby_Mack</td><td>BF-61</td><td>BF-61-4</td><td>BF61-4-F</td><td>0,68</td></tr><tr><th>17</th><td>Boby_Mack</td><td>BF-61</td><td>BF-61-4</td><td>BF61-4-H</td><td>0,68</td></tr><tr><th>18</th><td>Boby_Mack</td><td>BF-61</td><td>BF-61-4</td><td>BF61-4-M1</td><td>0,91</td></tr><tr><th>19</th><td>Boby_Mack</td><td>BF-61</td><td>BF-61-4</td><td>BF61-4-M2</td><td>1,02</td></tr><tr><th>20</th><td>Boby_Mack</td><td>BF-62</td><td>BF-62-1</td><td>BF62-1-DM</td><td>0,35</td></tr><tr><th>21</th><td>Boby_Mack</td><td>BF-62</td><td>BF-62-1</td><td>BF62-1-F</td><td>0,67</td></tr><tr><th>22</th><td>Boby_Mack</td><td>BF-62</td><td>BF-62-1</td><td>BF62-1-M1</td><td>1,01</td></tr><tr><th>23</th><td>Boby_Mack</td><td>BF-62</td><td>BF-62-1</td><td>BF62-1-M2</td><td>1,14</td></tr><tr><th>24</th><td>Boby_Mack</td><td>BF-62</td><td>BF-62-2</td><td>BF62-2-F</td><td>0,67</td></tr><tr><th>25</th><td>Boby_Mack</td><td>BF-62</td><td>BF-62-2</td><td>BF62-2-H</td><td>0,74</td></tr><tr><th>26</th><td>Boby_Mack</td><td>BF-62</td><td>BF-62-2</td><td>BF62-2-M1</td><td>1,11</td></tr><tr><th>27</th><td>Boby_Mack</td><td>BF-62</td><td>BF-62-2</td><td>BF62-2-M2</td><td>1,11</td></tr><tr><th>28</th><td>Boby_Mack</td><td>BF-62</td><td>BF-62-3</td><td>BF62-3-H</td><td>0,77</td></tr><tr><th>29</th><td>Boby_Mack</td><td>BF-62</td><td>BF-62-3</td><td>BF62-3-M1</td><td>0,87</td></tr><tr><th>30</th><td>Boby_Mack</td><td>BF-62</td><td>BF-62-4</td><td>BF62-4-DM</td><td>0,37</td></tr><tr><th>&vellip;</th><td>&vellip;</td><td>&vellip;</td><td>&vellip;</td><td>&vellip;</td><td>&vellip;</td></tr></tbody></table>"
      ],
      "text/latex": [
       "\\begin{tabular}{r|ccccc}\n",
       "\t& dataset\\_name & site\\_name & profile\\_name & layer\\_name & bd\\_pred\\_2\\\\\n",
       "\t\\hline\n",
       "\t& String & String & String & String & String\\\\\n",
       "\t\\hline\n",
       "\t1 & Boby\\_Mack & BF-61 & BF-61-1 & BF61-1-F & 0,73 \\\\\n",
       "\t2 & Boby\\_Mack & BF-61 & BF-61-1 & BF61-1-H & 0,74 \\\\\n",
       "\t3 & Boby\\_Mack & BF-61 & BF-61-1 & BF61-1-M1 & 1,03 \\\\\n",
       "\t4 & Boby\\_Mack & BF-61 & BF-61-1 & BF61-1-M2 & 1,13 \\\\\n",
       "\t5 & Boby\\_Mack & BF-61 & BF-61-2 & BF61-2-DM & 0,36 \\\\\n",
       "\t6 & Boby\\_Mack & BF-61 & BF-61-2 & BF61-2-F & 0,67 \\\\\n",
       "\t7 & Boby\\_Mack & BF-61 & BF-61-2 & BF61-2-H & 0,77 \\\\\n",
       "\t8 & Boby\\_Mack & BF-61 & BF-61-2 & BF61-2-H:354 & 0,67 \\\\\n",
       "\t9 & Boby\\_Mack & BF-61 & BF-61-2 & BF61-2-M1 & 0,96 \\\\\n",
       "\t10 & Boby\\_Mack & BF-61 & BF-61-2 & BF61-2-M2 & 1,01 \\\\\n",
       "\t11 & Boby\\_Mack & BF-61 & BF-61-3 & BF61-3-DM & 0,35 \\\\\n",
       "\t12 & Boby\\_Mack & BF-61 & BF-61-3 & BF61-3-F & 0,70 \\\\\n",
       "\t13 & Boby\\_Mack & BF-61 & BF-61-3 & BF61-3-H & 0,71 \\\\\n",
       "\t14 & Boby\\_Mack & BF-61 & BF-61-3 & BF61-3-M1 & 0,92 \\\\\n",
       "\t15 & Boby\\_Mack & BF-61 & BF-61-3 & BF61-3-M2 & 1,08 \\\\\n",
       "\t16 & Boby\\_Mack & BF-61 & BF-61-4 & BF61-4-F & 0,68 \\\\\n",
       "\t17 & Boby\\_Mack & BF-61 & BF-61-4 & BF61-4-H & 0,68 \\\\\n",
       "\t18 & Boby\\_Mack & BF-61 & BF-61-4 & BF61-4-M1 & 0,91 \\\\\n",
       "\t19 & Boby\\_Mack & BF-61 & BF-61-4 & BF61-4-M2 & 1,02 \\\\\n",
       "\t20 & Boby\\_Mack & BF-62 & BF-62-1 & BF62-1-DM & 0,35 \\\\\n",
       "\t21 & Boby\\_Mack & BF-62 & BF-62-1 & BF62-1-F & 0,67 \\\\\n",
       "\t22 & Boby\\_Mack & BF-62 & BF-62-1 & BF62-1-M1 & 1,01 \\\\\n",
       "\t23 & Boby\\_Mack & BF-62 & BF-62-1 & BF62-1-M2 & 1,14 \\\\\n",
       "\t24 & Boby\\_Mack & BF-62 & BF-62-2 & BF62-2-F & 0,67 \\\\\n",
       "\t25 & Boby\\_Mack & BF-62 & BF-62-2 & BF62-2-H & 0,74 \\\\\n",
       "\t26 & Boby\\_Mack & BF-62 & BF-62-2 & BF62-2-M1 & 1,11 \\\\\n",
       "\t27 & Boby\\_Mack & BF-62 & BF-62-2 & BF62-2-M2 & 1,11 \\\\\n",
       "\t28 & Boby\\_Mack & BF-62 & BF-62-3 & BF62-3-H & 0,77 \\\\\n",
       "\t29 & Boby\\_Mack & BF-62 & BF-62-3 & BF62-3-M1 & 0,87 \\\\\n",
       "\t30 & Boby\\_Mack & BF-62 & BF-62-4 & BF62-4-DM & 0,37 \\\\\n",
       "\t$\\dots$ & $\\dots$ & $\\dots$ & $\\dots$ & $\\dots$ & $\\dots$ \\\\\n",
       "\\end{tabular}\n"
      ],
      "text/plain": [
       "434582×5 DataFrame. Omitted printing of 2 columns\n",
       "│ Row    │ dataset_name                            │ site_name │ profile_name │\n",
       "│        │ \u001b[90mString\u001b[39m                                  │ \u001b[90mString\u001b[39m    │ \u001b[90mString\u001b[39m       │\n",
       "├────────┼─────────────────────────────────────────┼───────────┼──────────────┤\n",
       "│ 1      │ Boby_Mack                               │ BF-61     │ BF-61-1      │\n",
       "│ 2      │ Boby_Mack                               │ BF-61     │ BF-61-1      │\n",
       "│ 3      │ Boby_Mack                               │ BF-61     │ BF-61-1      │\n",
       "│ 4      │ Boby_Mack                               │ BF-61     │ BF-61-1      │\n",
       "│ 5      │ Boby_Mack                               │ BF-61     │ BF-61-2      │\n",
       "│ 6      │ Boby_Mack                               │ BF-61     │ BF-61-2      │\n",
       "│ 7      │ Boby_Mack                               │ BF-61     │ BF-61-2      │\n",
       "│ 8      │ Boby_Mack                               │ BF-61     │ BF-61-2      │\n",
       "│ 9      │ Boby_Mack                               │ BF-61     │ BF-61-2      │\n",
       "│ 10     │ Boby_Mack                               │ BF-61     │ BF-61-2      │\n",
       "⋮\n",
       "│ 434572 │ Worldwide soil carbon and nitrogen data │ ZV681 RS  │ 3002009      │\n",
       "│ 434573 │ Worldwide soil carbon and nitrogen data │ ZV681 RS  │ 3002009      │\n",
       "│ 434574 │ Worldwide soil carbon and nitrogen data │ ZV681 RS  │ 3002009      │\n",
       "│ 434575 │ Worldwide soil carbon and nitrogen data │ ZV681 RS  │ 3002009      │\n",
       "│ 434576 │ Worldwide soil carbon and nitrogen data │ ZV681 RS  │ 3002009      │\n",
       "│ 434577 │ Worldwide soil carbon and nitrogen data │ ZV681 RS  │ 3002009      │\n",
       "│ 434578 │ Worldwide soil carbon and nitrogen data │ ZV8 RS    │ 3002004      │\n",
       "│ 434579 │ Worldwide soil carbon and nitrogen data │ ZV8 RS    │ 3002004      │\n",
       "│ 434580 │ Worldwide soil carbon and nitrogen data │ ZV8 RS    │ 3002004      │\n",
       "│ 434581 │ Worldwide soil carbon and nitrogen data │ ZV8 RS    │ 3002004      │\n",
       "│ 434582 │ Worldwide soil carbon and nitrogen data │ ZV8 RS    │ 3002004      │"
      ]
     },
     "execution_count": 54,
     "metadata": {},
     "output_type": "execute_result"
    }
   ],
   "source": [
    "df_iscn_BDpred = df_bd_pred[:,cols_interest_bd]"
   ]
  },
  {
   "cell_type": "code",
   "execution_count": 55,
   "metadata": {
    "scrolled": true
   },
   "outputs": [
    {
     "data": {
      "text/html": [
       "<table class=\"data-frame\"><thead><tr><th></th><th>dataset_name_sub</th><th>site_name</th><th>profile_name</th><th>layer_name</th><th>lat (dec. deg)</th><th>long (dec. deg)</th></tr><tr><th></th><th>String</th><th>String</th><th>String</th><th>String</th><th>String?</th><th>String?</th></tr></thead><tbody><p>213,701 rows × 13 columns (omitted printing of 7 columns)</p><tr><th>1</th><td>Boby_Mack</td><td>BF-79</td><td>BF-79-1</td><td>BF79-1-H</td><td>65,15089</td><td>-147,47617</td></tr><tr><th>2</th><td>Boby_Mack</td><td>BF-79</td><td>BF-79-1</td><td>BF79-1-M1</td><td>65,15089</td><td>-147,47617</td></tr><tr><th>3</th><td>Boby_Mack</td><td>BF-84</td><td>BF-84-2</td><td>BF84-2-DM</td><td>65,15299</td><td>-147,4782</td></tr><tr><th>4</th><td>Boby_Mack</td><td>BF-84</td><td>BF-84-2</td><td>BF84-2-DM:433</td><td>65,15299</td><td>-147,4782</td></tr><tr><th>5</th><td>Boby_Mack</td><td>BF-84</td><td>BF-84-2</td><td>BF84-2-F</td><td>65,15299</td><td>-147,4782</td></tr><tr><th>6</th><td>Boby_Mack</td><td>BF-84</td><td>BF-84-2</td><td>BF84-2-H</td><td>65,15299</td><td>-147,4782</td></tr><tr><th>7</th><td>Boby_Mack</td><td>BF-84</td><td>BF-84-2</td><td>BF84-2-H:436</td><td>65,15299</td><td>-147,4782</td></tr><tr><th>8</th><td>Boby_Mack</td><td>BF-84</td><td>BF-84-2</td><td>BF84-2-M1</td><td>65,15299</td><td>-147,4782</td></tr><tr><th>9</th><td>Boby_Mack</td><td>BF-84</td><td>BF-84-2</td><td>BF84-2-M2</td><td>65,15299</td><td>-147,4782</td></tr><tr><th>10</th><td>Boby_Mack</td><td>DC-31</td><td>DC-31-1</td><td>DC31-1-H</td><td>66,31533</td><td>-150,39722</td></tr><tr><th>11</th><td>Boby_Mack</td><td>DC-31</td><td>DC-31-1</td><td>DC31-1-M1</td><td>66,31533</td><td>-150,39722</td></tr><tr><th>12</th><td>Boby_Mack</td><td>DC-31</td><td>DC-31-1</td><td>DC31-1-M2</td><td>66,31533</td><td>-150,39722</td></tr><tr><th>13</th><td>Boby_Mack</td><td>DC-51</td><td>DC-51-4</td><td>DC51-4-H</td><td>66,07446</td><td>-150,16788</td></tr><tr><th>14</th><td>Boby_Mack</td><td>DC-51</td><td>DC-51-4</td><td>DC51-4-M1</td><td>66,07446</td><td>-150,16788</td></tr><tr><th>15</th><td>Boby_Mack</td><td>TC-25</td><td>TC-25-3</td><td>TC25-3-F</td><td>63,42012</td><td>-142,48093</td></tr><tr><th>16</th><td>Boby_Mack</td><td>TC-25</td><td>TC-25-3</td><td>TC25-3-H</td><td>63,42012</td><td>-142,48093</td></tr><tr><th>17</th><td>Boby_Mack</td><td>TC-25</td><td>TC-25-3</td><td>TC25-3-M1</td><td>63,42012</td><td>-142,48093</td></tr><tr><th>18</th><td>Boby_Mack</td><td>TC-25</td><td>TC-25-3</td><td>TC25-3-M2</td><td>63,42012</td><td>-142,48093</td></tr><tr><th>19</th><td>Bockheim</td><td>A95-1</td><td>A95-1</td><td>A95-1_3</td><td>68,613</td><td>-149,285</td></tr><tr><th>20</th><td>Bockheim</td><td>A95-1</td><td>A95-1</td><td>A95-1_1</td><td>68,613</td><td>-149,285</td></tr><tr><th>21</th><td>Bockheim</td><td>A95-1</td><td>A95-1</td><td>A95-1_2</td><td>68,613</td><td>-149,285</td></tr><tr><th>22</th><td>Bockheim</td><td>A95-1</td><td>A95-1</td><td>A95-1_4</td><td>68,613</td><td>-149,285</td></tr><tr><th>23</th><td>Bockheim</td><td>A95-10</td><td>A95-10</td><td>A95-10_1</td><td>68,601</td><td>-149,351</td></tr><tr><th>24</th><td>Bockheim</td><td>A95-10</td><td>A95-10</td><td>A95-10_2</td><td>68,601</td><td>-149,351</td></tr><tr><th>25</th><td>Bockheim</td><td>A95-10</td><td>A95-10</td><td>A95-10_3</td><td>68,601</td><td>-149,351</td></tr><tr><th>26</th><td>Bockheim</td><td>A95-10</td><td>A95-10</td><td>A95-10_4</td><td>68,601</td><td>-149,351</td></tr><tr><th>27</th><td>Bockheim</td><td>A95-10</td><td>A95-10</td><td>A95-10_5</td><td>68,601</td><td>-149,351</td></tr><tr><th>28</th><td>Bockheim</td><td>A95-10</td><td>A95-10</td><td>A95-10_6</td><td>68,601</td><td>-149,351</td></tr><tr><th>29</th><td>Bockheim</td><td>A95-14</td><td>A95-14</td><td>A95-14_1</td><td>68,624</td><td>-149,61816</td></tr><tr><th>30</th><td>Bockheim</td><td>A95-14</td><td>A95-14</td><td>A95-14_2</td><td>68,624</td><td>-149,61816</td></tr><tr><th>&vellip;</th><td>&vellip;</td><td>&vellip;</td><td>&vellip;</td><td>&vellip;</td><td>&vellip;</td><td>&vellip;</td></tr></tbody></table>"
      ],
      "text/latex": [
       "\\begin{tabular}{r|ccccccc}\n",
       "\t& dataset\\_name\\_sub & site\\_name & profile\\_name & layer\\_name & lat (dec. deg) & long (dec. deg) & \\\\\n",
       "\t\\hline\n",
       "\t& String & String & String & String & String? & String? & \\\\\n",
       "\t\\hline\n",
       "\t1 & Boby\\_Mack & BF-79 & BF-79-1 & BF79-1-H & 65,15089 & -147,47617 & $\\dots$ \\\\\n",
       "\t2 & Boby\\_Mack & BF-79 & BF-79-1 & BF79-1-M1 & 65,15089 & -147,47617 & $\\dots$ \\\\\n",
       "\t3 & Boby\\_Mack & BF-84 & BF-84-2 & BF84-2-DM & 65,15299 & -147,4782 & $\\dots$ \\\\\n",
       "\t4 & Boby\\_Mack & BF-84 & BF-84-2 & BF84-2-DM:433 & 65,15299 & -147,4782 & $\\dots$ \\\\\n",
       "\t5 & Boby\\_Mack & BF-84 & BF-84-2 & BF84-2-F & 65,15299 & -147,4782 & $\\dots$ \\\\\n",
       "\t6 & Boby\\_Mack & BF-84 & BF-84-2 & BF84-2-H & 65,15299 & -147,4782 & $\\dots$ \\\\\n",
       "\t7 & Boby\\_Mack & BF-84 & BF-84-2 & BF84-2-H:436 & 65,15299 & -147,4782 & $\\dots$ \\\\\n",
       "\t8 & Boby\\_Mack & BF-84 & BF-84-2 & BF84-2-M1 & 65,15299 & -147,4782 & $\\dots$ \\\\\n",
       "\t9 & Boby\\_Mack & BF-84 & BF-84-2 & BF84-2-M2 & 65,15299 & -147,4782 & $\\dots$ \\\\\n",
       "\t10 & Boby\\_Mack & DC-31 & DC-31-1 & DC31-1-H & 66,31533 & -150,39722 & $\\dots$ \\\\\n",
       "\t11 & Boby\\_Mack & DC-31 & DC-31-1 & DC31-1-M1 & 66,31533 & -150,39722 & $\\dots$ \\\\\n",
       "\t12 & Boby\\_Mack & DC-31 & DC-31-1 & DC31-1-M2 & 66,31533 & -150,39722 & $\\dots$ \\\\\n",
       "\t13 & Boby\\_Mack & DC-51 & DC-51-4 & DC51-4-H & 66,07446 & -150,16788 & $\\dots$ \\\\\n",
       "\t14 & Boby\\_Mack & DC-51 & DC-51-4 & DC51-4-M1 & 66,07446 & -150,16788 & $\\dots$ \\\\\n",
       "\t15 & Boby\\_Mack & TC-25 & TC-25-3 & TC25-3-F & 63,42012 & -142,48093 & $\\dots$ \\\\\n",
       "\t16 & Boby\\_Mack & TC-25 & TC-25-3 & TC25-3-H & 63,42012 & -142,48093 & $\\dots$ \\\\\n",
       "\t17 & Boby\\_Mack & TC-25 & TC-25-3 & TC25-3-M1 & 63,42012 & -142,48093 & $\\dots$ \\\\\n",
       "\t18 & Boby\\_Mack & TC-25 & TC-25-3 & TC25-3-M2 & 63,42012 & -142,48093 & $\\dots$ \\\\\n",
       "\t19 & Bockheim & A95-1 & A95-1 & A95-1\\_3 & 68,613 & -149,285 & $\\dots$ \\\\\n",
       "\t20 & Bockheim & A95-1 & A95-1 & A95-1\\_1 & 68,613 & -149,285 & $\\dots$ \\\\\n",
       "\t21 & Bockheim & A95-1 & A95-1 & A95-1\\_2 & 68,613 & -149,285 & $\\dots$ \\\\\n",
       "\t22 & Bockheim & A95-1 & A95-1 & A95-1\\_4 & 68,613 & -149,285 & $\\dots$ \\\\\n",
       "\t23 & Bockheim & A95-10 & A95-10 & A95-10\\_1 & 68,601 & -149,351 & $\\dots$ \\\\\n",
       "\t24 & Bockheim & A95-10 & A95-10 & A95-10\\_2 & 68,601 & -149,351 & $\\dots$ \\\\\n",
       "\t25 & Bockheim & A95-10 & A95-10 & A95-10\\_3 & 68,601 & -149,351 & $\\dots$ \\\\\n",
       "\t26 & Bockheim & A95-10 & A95-10 & A95-10\\_4 & 68,601 & -149,351 & $\\dots$ \\\\\n",
       "\t27 & Bockheim & A95-10 & A95-10 & A95-10\\_5 & 68,601 & -149,351 & $\\dots$ \\\\\n",
       "\t28 & Bockheim & A95-10 & A95-10 & A95-10\\_6 & 68,601 & -149,351 & $\\dots$ \\\\\n",
       "\t29 & Bockheim & A95-14 & A95-14 & A95-14\\_1 & 68,624 & -149,61816 & $\\dots$ \\\\\n",
       "\t30 & Bockheim & A95-14 & A95-14 & A95-14\\_2 & 68,624 & -149,61816 & $\\dots$ \\\\\n",
       "\t$\\dots$ & $\\dots$ & $\\dots$ & $\\dots$ & $\\dots$ & $\\dots$ & $\\dots$ &  \\\\\n",
       "\\end{tabular}\n"
      ],
      "text/plain": [
       "213701×13 DataFrame. Omitted printing of 10 columns\n",
       "│ Row    │ dataset_name_sub                        │ site_name │ profile_name │\n",
       "│        │ \u001b[90mString\u001b[39m                                  │ \u001b[90mString\u001b[39m    │ \u001b[90mString\u001b[39m       │\n",
       "├────────┼─────────────────────────────────────────┼───────────┼──────────────┤\n",
       "│ 1      │ Boby_Mack                               │ BF-79     │ BF-79-1      │\n",
       "│ 2      │ Boby_Mack                               │ BF-79     │ BF-79-1      │\n",
       "│ 3      │ Boby_Mack                               │ BF-84     │ BF-84-2      │\n",
       "│ 4      │ Boby_Mack                               │ BF-84     │ BF-84-2      │\n",
       "│ 5      │ Boby_Mack                               │ BF-84     │ BF-84-2      │\n",
       "│ 6      │ Boby_Mack                               │ BF-84     │ BF-84-2      │\n",
       "│ 7      │ Boby_Mack                               │ BF-84     │ BF-84-2      │\n",
       "│ 8      │ Boby_Mack                               │ BF-84     │ BF-84-2      │\n",
       "│ 9      │ Boby_Mack                               │ BF-84     │ BF-84-2      │\n",
       "│ 10     │ Boby_Mack                               │ DC-31     │ DC-31-1      │\n",
       "⋮\n",
       "│ 213691 │ Worldwide soil carbon and nitrogen data │ BP ML     │ 8002025      │\n",
       "│ 213692 │ Worldwide soil carbon and nitrogen data │ BP ML     │ 8002025      │\n",
       "│ 213693 │ Worldwide soil carbon and nitrogen data │ BP ML     │ 8002025      │\n",
       "│ 213694 │ Worldwide soil carbon and nitrogen data │ BP ML     │ 8002025      │\n",
       "│ 213695 │ Worldwide soil carbon and nitrogen data │ CP ML     │ 8002031      │\n",
       "│ 213696 │ Worldwide soil carbon and nitrogen data │ CP ML     │ 8002031      │\n",
       "│ 213697 │ Worldwide soil carbon and nitrogen data │ CP ML     │ 8002031      │\n",
       "│ 213698 │ Worldwide soil carbon and nitrogen data │ CP ML     │ 8002031      │\n",
       "│ 213699 │ Worldwide soil carbon and nitrogen data │ CP ML     │ 8002031      │\n",
       "│ 213700 │ Worldwide soil carbon and nitrogen data │ CP ML     │ 8002031      │\n",
       "│ 213701 │ Worldwide soil carbon and nitrogen data │ CP ML     │ 8002031      │"
      ]
     },
     "execution_count": 55,
     "metadata": {},
     "output_type": "execute_result"
    }
   ],
   "source": [
    "df_merged = innerjoin(df_iscn,df_iscn_BDpred, on = [:dataset_name_sub => :dataset_name,:site_name,:profile_name,:layer_name])"
   ]
  },
  {
   "cell_type": "markdown",
   "metadata": {},
   "source": [
    "NOTE: In the dataset, OC seems to be the % of organic carbon, while SOC is the already-computed oc-density (?)."
   ]
  },
  {
   "cell_type": "markdown",
   "metadata": {},
   "source": [
    "Declaring a function for parsing values:"
   ]
  },
  {
   "cell_type": "code",
   "execution_count": 56,
   "metadata": {},
   "outputs": [
    {
     "data": {
      "text/plain": [
       "valsParse (generic function with 1 method)"
      ]
     },
     "execution_count": 56,
     "metadata": {},
     "output_type": "execute_result"
    }
   ],
   "source": [
    "valsParse(vals) = tryparse.(Float64,replace.(vals,','=>'.'))"
   ]
  },
  {
   "cell_type": "markdown",
   "metadata": {},
   "source": [
    "Convenience renames:"
   ]
  },
  {
   "cell_type": "code",
   "execution_count": 57,
   "metadata": {},
   "outputs": [],
   "source": [
    "names!(df_merged, [:dataset_name, \n",
    "                :site_name, \n",
    "                :profile_name,\n",
    "                :layer_name,\n",
    "                :lat_dd,\n",
    "                :long_dd,\n",
    "                :obs_date,\n",
    "                :hzn,\n",
    "                :layer_top,\n",
    "                :layer_bot,\n",
    "                :oc_perc,\n",
    "                :soc_gCM2,\n",
    "                :bd_pred_2]);"
   ]
  },
  {
   "cell_type": "code",
   "execution_count": 58,
   "metadata": {
    "scrolled": true
   },
   "outputs": [
    {
     "data": {
      "text/html": [
       "<table class=\"data-frame\"><thead><tr><th></th><th>dataset_name</th><th>site_name</th><th>profile_name</th><th>layer_name</th><th>lat_dd</th><th>long_dd</th><th>obs_date</th></tr><tr><th></th><th>String</th><th>String</th><th>String</th><th>String</th><th>String?</th><th>String?</th><th>String?</th></tr></thead><tbody><p>123,437 rows × 13 columns (omitted printing of 6 columns)</p><tr><th>1</th><td>NRCS Sept/2014</td><td>50ND075005</td><td>40A0001</td><td>40A00001</td><td>48,80497</td><td>-101,73472</td><td>19/09/1950</td></tr><tr><th>2</th><td>NRCS Sept/2014</td><td>50ND075005</td><td>40A0001</td><td>40A00002</td><td>48,80497</td><td>-101,73472</td><td>19/09/1950</td></tr><tr><th>3</th><td>NRCS Sept/2014</td><td>50ND075005</td><td>40A0001</td><td>40A00003</td><td>48,80497</td><td>-101,73472</td><td>19/09/1950</td></tr><tr><th>4</th><td>NRCS Sept/2014</td><td>50ND075005</td><td>40A0001</td><td>40A00004</td><td>48,80497</td><td>-101,73472</td><td>19/09/1950</td></tr><tr><th>5</th><td>NRCS Sept/2014</td><td>50ND075005</td><td>40A0001</td><td>40A00005</td><td>48,80497</td><td>-101,73472</td><td>19/09/1950</td></tr><tr><th>6</th><td>NRCS Sept/2014</td><td>50ND075005</td><td>40A0001</td><td>40A00006</td><td>48,80497</td><td>-101,73472</td><td>19/09/1950</td></tr><tr><th>7</th><td>NRCS Sept/2014</td><td>50ND075005</td><td>40A0001</td><td>40A00007</td><td>48,80497</td><td>-101,73472</td><td>19/09/1950</td></tr><tr><th>8</th><td>NRCS Sept/2014</td><td>50ND075003</td><td>40A0013</td><td>40A00094</td><td>48,93664</td><td>-101,58499</td><td>18/09/1950</td></tr><tr><th>9</th><td>NRCS Sept/2014</td><td>50ND075003</td><td>40A0013</td><td>40A00095</td><td>48,93664</td><td>-101,58499</td><td>18/09/1950</td></tr><tr><th>10</th><td>NRCS Sept/2014</td><td>50ND075003</td><td>40A0013</td><td>40A00096</td><td>48,93664</td><td>-101,58499</td><td>18/09/1950</td></tr><tr><th>11</th><td>NRCS Sept/2014</td><td>50ND075003</td><td>40A0013</td><td>40A00097</td><td>48,93664</td><td>-101,58499</td><td>18/09/1950</td></tr><tr><th>12</th><td>NRCS Sept/2014</td><td>50ND075003</td><td>40A0013</td><td>40A00098</td><td>48,93664</td><td>-101,58499</td><td>18/09/1950</td></tr><tr><th>13</th><td>NRCS Sept/2014</td><td>50ND075003</td><td>40A0013</td><td>40A00099</td><td>48,93664</td><td>-101,58499</td><td>18/09/1950</td></tr><tr><th>14</th><td>NRCS Sept/2014</td><td>50ND075003</td><td>40A0013</td><td>40A00100</td><td>48,93664</td><td>-101,58499</td><td>18/09/1950</td></tr><tr><th>15</th><td>NRCS Sept/2014</td><td>50ND075007</td><td>40A0067</td><td>40A00476</td><td>48,8083</td><td>-101,7075</td><td>19/09/1950</td></tr><tr><th>16</th><td>NRCS Sept/2014</td><td>50ND075007</td><td>40A0067</td><td>40A00477</td><td>48,8083</td><td>-101,7075</td><td>19/09/1950</td></tr><tr><th>17</th><td>NRCS Sept/2014</td><td>50ND075007</td><td>40A0067</td><td>40A00478</td><td>48,8083</td><td>-101,7075</td><td>19/09/1950</td></tr><tr><th>18</th><td>NRCS Sept/2014</td><td>50ND075007</td><td>40A0067</td><td>40A00479</td><td>48,8083</td><td>-101,7075</td><td>19/09/1950</td></tr><tr><th>19</th><td>NRCS Sept/2014</td><td>50ND075007</td><td>40A0067</td><td>40A00480</td><td>48,8083</td><td>-101,7075</td><td>19/09/1950</td></tr><tr><th>20</th><td>NRCS Sept/2014</td><td>50ND075007</td><td>40A0067</td><td>40A00481</td><td>48,8083</td><td>-101,7075</td><td>19/09/1950</td></tr><tr><th>21</th><td>NRCS Sept/2014</td><td>50ND075007</td><td>40A0067</td><td>40A00482</td><td>48,8083</td><td>-101,7075</td><td>19/09/1950</td></tr><tr><th>22</th><td>NRCS Sept/2014</td><td>59ND045001</td><td>40A0102</td><td>40A00729</td><td>46,44944</td><td>-98,37</td><td>21/08/1959</td></tr><tr><th>23</th><td>NRCS Sept/2014</td><td>59ND045001</td><td>40A0102</td><td>40A00730</td><td>46,44944</td><td>-98,37</td><td>21/08/1959</td></tr><tr><th>24</th><td>NRCS Sept/2014</td><td>59ND045001</td><td>40A0102</td><td>40A00731</td><td>46,44944</td><td>-98,37</td><td>21/08/1959</td></tr><tr><th>25</th><td>NRCS Sept/2014</td><td>59ND045001</td><td>40A0102</td><td>40A00732</td><td>46,44944</td><td>-98,37</td><td>21/08/1959</td></tr><tr><th>26</th><td>NRCS Sept/2014</td><td>59ND045001</td><td>40A0102</td><td>40A00733</td><td>46,44944</td><td>-98,37</td><td>21/08/1959</td></tr><tr><th>27</th><td>NRCS Sept/2014</td><td>59ND045001</td><td>40A0102</td><td>40A00734</td><td>46,44944</td><td>-98,37</td><td>21/08/1959</td></tr><tr><th>28</th><td>NRCS Sept/2014</td><td>59ND045001</td><td>40A0102</td><td>40A00735</td><td>46,44944</td><td>-98,37</td><td>21/08/1959</td></tr><tr><th>29</th><td>NRCS Sept/2014</td><td>59ND045001</td><td>40A0102</td><td>40A00736</td><td>46,44944</td><td>-98,37</td><td>21/08/1959</td></tr><tr><th>30</th><td>NRCS Sept/2014</td><td>50ND075006</td><td>40A0107</td><td>40A00769</td><td>48,82111</td><td>-101,74722</td><td>19/09/1950</td></tr><tr><th>&vellip;</th><td>&vellip;</td><td>&vellip;</td><td>&vellip;</td><td>&vellip;</td><td>&vellip;</td><td>&vellip;</td><td>&vellip;</td></tr></tbody></table>"
      ],
      "text/latex": [
       "\\begin{tabular}{r|cccccccc}\n",
       "\t& dataset\\_name & site\\_name & profile\\_name & layer\\_name & lat\\_dd & long\\_dd & obs\\_date & \\\\\n",
       "\t\\hline\n",
       "\t& String & String & String & String & String? & String? & String? & \\\\\n",
       "\t\\hline\n",
       "\t1 & NRCS Sept/2014 & 50ND075005 & 40A0001 & 40A00001 & 48,80497 & -101,73472 & 19/09/1950 & $\\dots$ \\\\\n",
       "\t2 & NRCS Sept/2014 & 50ND075005 & 40A0001 & 40A00002 & 48,80497 & -101,73472 & 19/09/1950 & $\\dots$ \\\\\n",
       "\t3 & NRCS Sept/2014 & 50ND075005 & 40A0001 & 40A00003 & 48,80497 & -101,73472 & 19/09/1950 & $\\dots$ \\\\\n",
       "\t4 & NRCS Sept/2014 & 50ND075005 & 40A0001 & 40A00004 & 48,80497 & -101,73472 & 19/09/1950 & $\\dots$ \\\\\n",
       "\t5 & NRCS Sept/2014 & 50ND075005 & 40A0001 & 40A00005 & 48,80497 & -101,73472 & 19/09/1950 & $\\dots$ \\\\\n",
       "\t6 & NRCS Sept/2014 & 50ND075005 & 40A0001 & 40A00006 & 48,80497 & -101,73472 & 19/09/1950 & $\\dots$ \\\\\n",
       "\t7 & NRCS Sept/2014 & 50ND075005 & 40A0001 & 40A00007 & 48,80497 & -101,73472 & 19/09/1950 & $\\dots$ \\\\\n",
       "\t8 & NRCS Sept/2014 & 50ND075003 & 40A0013 & 40A00094 & 48,93664 & -101,58499 & 18/09/1950 & $\\dots$ \\\\\n",
       "\t9 & NRCS Sept/2014 & 50ND075003 & 40A0013 & 40A00095 & 48,93664 & -101,58499 & 18/09/1950 & $\\dots$ \\\\\n",
       "\t10 & NRCS Sept/2014 & 50ND075003 & 40A0013 & 40A00096 & 48,93664 & -101,58499 & 18/09/1950 & $\\dots$ \\\\\n",
       "\t11 & NRCS Sept/2014 & 50ND075003 & 40A0013 & 40A00097 & 48,93664 & -101,58499 & 18/09/1950 & $\\dots$ \\\\\n",
       "\t12 & NRCS Sept/2014 & 50ND075003 & 40A0013 & 40A00098 & 48,93664 & -101,58499 & 18/09/1950 & $\\dots$ \\\\\n",
       "\t13 & NRCS Sept/2014 & 50ND075003 & 40A0013 & 40A00099 & 48,93664 & -101,58499 & 18/09/1950 & $\\dots$ \\\\\n",
       "\t14 & NRCS Sept/2014 & 50ND075003 & 40A0013 & 40A00100 & 48,93664 & -101,58499 & 18/09/1950 & $\\dots$ \\\\\n",
       "\t15 & NRCS Sept/2014 & 50ND075007 & 40A0067 & 40A00476 & 48,8083 & -101,7075 & 19/09/1950 & $\\dots$ \\\\\n",
       "\t16 & NRCS Sept/2014 & 50ND075007 & 40A0067 & 40A00477 & 48,8083 & -101,7075 & 19/09/1950 & $\\dots$ \\\\\n",
       "\t17 & NRCS Sept/2014 & 50ND075007 & 40A0067 & 40A00478 & 48,8083 & -101,7075 & 19/09/1950 & $\\dots$ \\\\\n",
       "\t18 & NRCS Sept/2014 & 50ND075007 & 40A0067 & 40A00479 & 48,8083 & -101,7075 & 19/09/1950 & $\\dots$ \\\\\n",
       "\t19 & NRCS Sept/2014 & 50ND075007 & 40A0067 & 40A00480 & 48,8083 & -101,7075 & 19/09/1950 & $\\dots$ \\\\\n",
       "\t20 & NRCS Sept/2014 & 50ND075007 & 40A0067 & 40A00481 & 48,8083 & -101,7075 & 19/09/1950 & $\\dots$ \\\\\n",
       "\t21 & NRCS Sept/2014 & 50ND075007 & 40A0067 & 40A00482 & 48,8083 & -101,7075 & 19/09/1950 & $\\dots$ \\\\\n",
       "\t22 & NRCS Sept/2014 & 59ND045001 & 40A0102 & 40A00729 & 46,44944 & -98,37 & 21/08/1959 & $\\dots$ \\\\\n",
       "\t23 & NRCS Sept/2014 & 59ND045001 & 40A0102 & 40A00730 & 46,44944 & -98,37 & 21/08/1959 & $\\dots$ \\\\\n",
       "\t24 & NRCS Sept/2014 & 59ND045001 & 40A0102 & 40A00731 & 46,44944 & -98,37 & 21/08/1959 & $\\dots$ \\\\\n",
       "\t25 & NRCS Sept/2014 & 59ND045001 & 40A0102 & 40A00732 & 46,44944 & -98,37 & 21/08/1959 & $\\dots$ \\\\\n",
       "\t26 & NRCS Sept/2014 & 59ND045001 & 40A0102 & 40A00733 & 46,44944 & -98,37 & 21/08/1959 & $\\dots$ \\\\\n",
       "\t27 & NRCS Sept/2014 & 59ND045001 & 40A0102 & 40A00734 & 46,44944 & -98,37 & 21/08/1959 & $\\dots$ \\\\\n",
       "\t28 & NRCS Sept/2014 & 59ND045001 & 40A0102 & 40A00735 & 46,44944 & -98,37 & 21/08/1959 & $\\dots$ \\\\\n",
       "\t29 & NRCS Sept/2014 & 59ND045001 & 40A0102 & 40A00736 & 46,44944 & -98,37 & 21/08/1959 & $\\dots$ \\\\\n",
       "\t30 & NRCS Sept/2014 & 50ND075006 & 40A0107 & 40A00769 & 48,82111 & -101,74722 & 19/09/1950 & $\\dots$ \\\\\n",
       "\t$\\dots$ & $\\dots$ & $\\dots$ & $\\dots$ & $\\dots$ & $\\dots$ & $\\dots$ & $\\dots$ &  \\\\\n",
       "\\end{tabular}\n"
      ],
      "text/plain": [
       "123437×13 DataFrame. Omitted printing of 10 columns\n",
       "│ Row    │ dataset_name                            │ site_name  │ profile_name │\n",
       "│        │ \u001b[90mString\u001b[39m                                  │ \u001b[90mString\u001b[39m     │ \u001b[90mString\u001b[39m       │\n",
       "├────────┼─────────────────────────────────────────┼────────────┼──────────────┤\n",
       "│ 1      │ NRCS Sept/2014                          │ 50ND075005 │ 40A0001      │\n",
       "│ 2      │ NRCS Sept/2014                          │ 50ND075005 │ 40A0001      │\n",
       "│ 3      │ NRCS Sept/2014                          │ 50ND075005 │ 40A0001      │\n",
       "│ 4      │ NRCS Sept/2014                          │ 50ND075005 │ 40A0001      │\n",
       "│ 5      │ NRCS Sept/2014                          │ 50ND075005 │ 40A0001      │\n",
       "│ 6      │ NRCS Sept/2014                          │ 50ND075005 │ 40A0001      │\n",
       "│ 7      │ NRCS Sept/2014                          │ 50ND075005 │ 40A0001      │\n",
       "│ 8      │ NRCS Sept/2014                          │ 50ND075003 │ 40A0013      │\n",
       "│ 9      │ NRCS Sept/2014                          │ 50ND075003 │ 40A0013      │\n",
       "│ 10     │ NRCS Sept/2014                          │ 50ND075003 │ 40A0013      │\n",
       "⋮\n",
       "│ 123427 │ Worldwide soil carbon and nitrogen data │ TY33 JP    │ 7003033      │\n",
       "│ 123428 │ Worldwide soil carbon and nitrogen data │ TY33 JP    │ 7003033      │\n",
       "│ 123429 │ Worldwide soil carbon and nitrogen data │ TY34 JP    │ 7003034      │\n",
       "│ 123430 │ Worldwide soil carbon and nitrogen data │ TY34 JP    │ 7003034      │\n",
       "│ 123431 │ Worldwide soil carbon and nitrogen data │ TY34 JP    │ 7003034      │\n",
       "│ 123432 │ Worldwide soil carbon and nitrogen data │ TY34 JP    │ 7003034      │\n",
       "│ 123433 │ Worldwide soil carbon and nitrogen data │ TY35 JP    │ 7003035      │\n",
       "│ 123434 │ Worldwide soil carbon and nitrogen data │ TY35 JP    │ 7003035      │\n",
       "│ 123435 │ Worldwide soil carbon and nitrogen data │ TY35 JP    │ 7003035      │\n",
       "│ 123436 │ Worldwide soil carbon and nitrogen data │ TY35 JP    │ 7003035      │\n",
       "│ 123437 │ Worldwide soil carbon and nitrogen data │ TY35 JP    │ 7003035      │"
      ]
     },
     "execution_count": 58,
     "metadata": {},
     "output_type": "execute_result"
    }
   ],
   "source": [
    "#remove non-usable OC and BD values before proceeding\n",
    "dropmissing!(df_merged,:oc_perc)\n",
    "dropmissing!(df_merged,:bd_pred_2)\n",
    "\n",
    "#parsing to floats\n",
    "df_merged.oc_perc = valsParse(df_merged.oc_perc)\n",
    "df_merged.bd_pred_2 = valsParse(df_merged.bd_pred_2)\n",
    "\n",
    "df_merged"
   ]
  },
  {
   "cell_type": "code",
   "execution_count": 59,
   "metadata": {
    "scrolled": true
   },
   "outputs": [
    {
     "data": {
      "text/html": [
       "<table class=\"data-frame\"><thead><tr><th></th><th>dataset_name</th><th>site_name</th><th>profile_name</th><th>layer_name</th><th>lat_dd</th><th>long_dd</th><th>obs_date</th></tr><tr><th></th><th>String</th><th>String</th><th>String</th><th>String</th><th>String?</th><th>String?</th><th>String?</th></tr></thead><tbody><p>121,017 rows × 13 columns (omitted printing of 6 columns)</p><tr><th>1</th><td>NRCS Sept/2014</td><td>50ND075005</td><td>40A0001</td><td>40A00001</td><td>48,80497</td><td>-101,73472</td><td>19/09/1950</td></tr><tr><th>2</th><td>NRCS Sept/2014</td><td>50ND075005</td><td>40A0001</td><td>40A00002</td><td>48,80497</td><td>-101,73472</td><td>19/09/1950</td></tr><tr><th>3</th><td>NRCS Sept/2014</td><td>50ND075005</td><td>40A0001</td><td>40A00003</td><td>48,80497</td><td>-101,73472</td><td>19/09/1950</td></tr><tr><th>4</th><td>NRCS Sept/2014</td><td>50ND075005</td><td>40A0001</td><td>40A00004</td><td>48,80497</td><td>-101,73472</td><td>19/09/1950</td></tr><tr><th>5</th><td>NRCS Sept/2014</td><td>50ND075005</td><td>40A0001</td><td>40A00005</td><td>48,80497</td><td>-101,73472</td><td>19/09/1950</td></tr><tr><th>6</th><td>NRCS Sept/2014</td><td>50ND075005</td><td>40A0001</td><td>40A00006</td><td>48,80497</td><td>-101,73472</td><td>19/09/1950</td></tr><tr><th>7</th><td>NRCS Sept/2014</td><td>50ND075005</td><td>40A0001</td><td>40A00007</td><td>48,80497</td><td>-101,73472</td><td>19/09/1950</td></tr><tr><th>8</th><td>NRCS Sept/2014</td><td>50ND075003</td><td>40A0013</td><td>40A00094</td><td>48,93664</td><td>-101,58499</td><td>18/09/1950</td></tr><tr><th>9</th><td>NRCS Sept/2014</td><td>50ND075003</td><td>40A0013</td><td>40A00095</td><td>48,93664</td><td>-101,58499</td><td>18/09/1950</td></tr><tr><th>10</th><td>NRCS Sept/2014</td><td>50ND075003</td><td>40A0013</td><td>40A00096</td><td>48,93664</td><td>-101,58499</td><td>18/09/1950</td></tr><tr><th>11</th><td>NRCS Sept/2014</td><td>50ND075003</td><td>40A0013</td><td>40A00097</td><td>48,93664</td><td>-101,58499</td><td>18/09/1950</td></tr><tr><th>12</th><td>NRCS Sept/2014</td><td>50ND075003</td><td>40A0013</td><td>40A00098</td><td>48,93664</td><td>-101,58499</td><td>18/09/1950</td></tr><tr><th>13</th><td>NRCS Sept/2014</td><td>50ND075003</td><td>40A0013</td><td>40A00099</td><td>48,93664</td><td>-101,58499</td><td>18/09/1950</td></tr><tr><th>14</th><td>NRCS Sept/2014</td><td>50ND075003</td><td>40A0013</td><td>40A00100</td><td>48,93664</td><td>-101,58499</td><td>18/09/1950</td></tr><tr><th>15</th><td>NRCS Sept/2014</td><td>50ND075007</td><td>40A0067</td><td>40A00476</td><td>48,8083</td><td>-101,7075</td><td>19/09/1950</td></tr><tr><th>16</th><td>NRCS Sept/2014</td><td>50ND075007</td><td>40A0067</td><td>40A00477</td><td>48,8083</td><td>-101,7075</td><td>19/09/1950</td></tr><tr><th>17</th><td>NRCS Sept/2014</td><td>50ND075007</td><td>40A0067</td><td>40A00478</td><td>48,8083</td><td>-101,7075</td><td>19/09/1950</td></tr><tr><th>18</th><td>NRCS Sept/2014</td><td>50ND075007</td><td>40A0067</td><td>40A00479</td><td>48,8083</td><td>-101,7075</td><td>19/09/1950</td></tr><tr><th>19</th><td>NRCS Sept/2014</td><td>50ND075007</td><td>40A0067</td><td>40A00480</td><td>48,8083</td><td>-101,7075</td><td>19/09/1950</td></tr><tr><th>20</th><td>NRCS Sept/2014</td><td>50ND075007</td><td>40A0067</td><td>40A00481</td><td>48,8083</td><td>-101,7075</td><td>19/09/1950</td></tr><tr><th>21</th><td>NRCS Sept/2014</td><td>50ND075007</td><td>40A0067</td><td>40A00482</td><td>48,8083</td><td>-101,7075</td><td>19/09/1950</td></tr><tr><th>22</th><td>NRCS Sept/2014</td><td>59ND045001</td><td>40A0102</td><td>40A00729</td><td>46,44944</td><td>-98,37</td><td>21/08/1959</td></tr><tr><th>23</th><td>NRCS Sept/2014</td><td>59ND045001</td><td>40A0102</td><td>40A00730</td><td>46,44944</td><td>-98,37</td><td>21/08/1959</td></tr><tr><th>24</th><td>NRCS Sept/2014</td><td>59ND045001</td><td>40A0102</td><td>40A00731</td><td>46,44944</td><td>-98,37</td><td>21/08/1959</td></tr><tr><th>25</th><td>NRCS Sept/2014</td><td>59ND045001</td><td>40A0102</td><td>40A00732</td><td>46,44944</td><td>-98,37</td><td>21/08/1959</td></tr><tr><th>26</th><td>NRCS Sept/2014</td><td>59ND045001</td><td>40A0102</td><td>40A00733</td><td>46,44944</td><td>-98,37</td><td>21/08/1959</td></tr><tr><th>27</th><td>NRCS Sept/2014</td><td>59ND045001</td><td>40A0102</td><td>40A00734</td><td>46,44944</td><td>-98,37</td><td>21/08/1959</td></tr><tr><th>28</th><td>NRCS Sept/2014</td><td>59ND045001</td><td>40A0102</td><td>40A00735</td><td>46,44944</td><td>-98,37</td><td>21/08/1959</td></tr><tr><th>29</th><td>NRCS Sept/2014</td><td>59ND045001</td><td>40A0102</td><td>40A00736</td><td>46,44944</td><td>-98,37</td><td>21/08/1959</td></tr><tr><th>30</th><td>NRCS Sept/2014</td><td>50ND075006</td><td>40A0107</td><td>40A00769</td><td>48,82111</td><td>-101,74722</td><td>19/09/1950</td></tr><tr><th>&vellip;</th><td>&vellip;</td><td>&vellip;</td><td>&vellip;</td><td>&vellip;</td><td>&vellip;</td><td>&vellip;</td><td>&vellip;</td></tr></tbody></table>"
      ],
      "text/latex": [
       "\\begin{tabular}{r|cccccccc}\n",
       "\t& dataset\\_name & site\\_name & profile\\_name & layer\\_name & lat\\_dd & long\\_dd & obs\\_date & \\\\\n",
       "\t\\hline\n",
       "\t& String & String & String & String & String? & String? & String? & \\\\\n",
       "\t\\hline\n",
       "\t1 & NRCS Sept/2014 & 50ND075005 & 40A0001 & 40A00001 & 48,80497 & -101,73472 & 19/09/1950 & $\\dots$ \\\\\n",
       "\t2 & NRCS Sept/2014 & 50ND075005 & 40A0001 & 40A00002 & 48,80497 & -101,73472 & 19/09/1950 & $\\dots$ \\\\\n",
       "\t3 & NRCS Sept/2014 & 50ND075005 & 40A0001 & 40A00003 & 48,80497 & -101,73472 & 19/09/1950 & $\\dots$ \\\\\n",
       "\t4 & NRCS Sept/2014 & 50ND075005 & 40A0001 & 40A00004 & 48,80497 & -101,73472 & 19/09/1950 & $\\dots$ \\\\\n",
       "\t5 & NRCS Sept/2014 & 50ND075005 & 40A0001 & 40A00005 & 48,80497 & -101,73472 & 19/09/1950 & $\\dots$ \\\\\n",
       "\t6 & NRCS Sept/2014 & 50ND075005 & 40A0001 & 40A00006 & 48,80497 & -101,73472 & 19/09/1950 & $\\dots$ \\\\\n",
       "\t7 & NRCS Sept/2014 & 50ND075005 & 40A0001 & 40A00007 & 48,80497 & -101,73472 & 19/09/1950 & $\\dots$ \\\\\n",
       "\t8 & NRCS Sept/2014 & 50ND075003 & 40A0013 & 40A00094 & 48,93664 & -101,58499 & 18/09/1950 & $\\dots$ \\\\\n",
       "\t9 & NRCS Sept/2014 & 50ND075003 & 40A0013 & 40A00095 & 48,93664 & -101,58499 & 18/09/1950 & $\\dots$ \\\\\n",
       "\t10 & NRCS Sept/2014 & 50ND075003 & 40A0013 & 40A00096 & 48,93664 & -101,58499 & 18/09/1950 & $\\dots$ \\\\\n",
       "\t11 & NRCS Sept/2014 & 50ND075003 & 40A0013 & 40A00097 & 48,93664 & -101,58499 & 18/09/1950 & $\\dots$ \\\\\n",
       "\t12 & NRCS Sept/2014 & 50ND075003 & 40A0013 & 40A00098 & 48,93664 & -101,58499 & 18/09/1950 & $\\dots$ \\\\\n",
       "\t13 & NRCS Sept/2014 & 50ND075003 & 40A0013 & 40A00099 & 48,93664 & -101,58499 & 18/09/1950 & $\\dots$ \\\\\n",
       "\t14 & NRCS Sept/2014 & 50ND075003 & 40A0013 & 40A00100 & 48,93664 & -101,58499 & 18/09/1950 & $\\dots$ \\\\\n",
       "\t15 & NRCS Sept/2014 & 50ND075007 & 40A0067 & 40A00476 & 48,8083 & -101,7075 & 19/09/1950 & $\\dots$ \\\\\n",
       "\t16 & NRCS Sept/2014 & 50ND075007 & 40A0067 & 40A00477 & 48,8083 & -101,7075 & 19/09/1950 & $\\dots$ \\\\\n",
       "\t17 & NRCS Sept/2014 & 50ND075007 & 40A0067 & 40A00478 & 48,8083 & -101,7075 & 19/09/1950 & $\\dots$ \\\\\n",
       "\t18 & NRCS Sept/2014 & 50ND075007 & 40A0067 & 40A00479 & 48,8083 & -101,7075 & 19/09/1950 & $\\dots$ \\\\\n",
       "\t19 & NRCS Sept/2014 & 50ND075007 & 40A0067 & 40A00480 & 48,8083 & -101,7075 & 19/09/1950 & $\\dots$ \\\\\n",
       "\t20 & NRCS Sept/2014 & 50ND075007 & 40A0067 & 40A00481 & 48,8083 & -101,7075 & 19/09/1950 & $\\dots$ \\\\\n",
       "\t21 & NRCS Sept/2014 & 50ND075007 & 40A0067 & 40A00482 & 48,8083 & -101,7075 & 19/09/1950 & $\\dots$ \\\\\n",
       "\t22 & NRCS Sept/2014 & 59ND045001 & 40A0102 & 40A00729 & 46,44944 & -98,37 & 21/08/1959 & $\\dots$ \\\\\n",
       "\t23 & NRCS Sept/2014 & 59ND045001 & 40A0102 & 40A00730 & 46,44944 & -98,37 & 21/08/1959 & $\\dots$ \\\\\n",
       "\t24 & NRCS Sept/2014 & 59ND045001 & 40A0102 & 40A00731 & 46,44944 & -98,37 & 21/08/1959 & $\\dots$ \\\\\n",
       "\t25 & NRCS Sept/2014 & 59ND045001 & 40A0102 & 40A00732 & 46,44944 & -98,37 & 21/08/1959 & $\\dots$ \\\\\n",
       "\t26 & NRCS Sept/2014 & 59ND045001 & 40A0102 & 40A00733 & 46,44944 & -98,37 & 21/08/1959 & $\\dots$ \\\\\n",
       "\t27 & NRCS Sept/2014 & 59ND045001 & 40A0102 & 40A00734 & 46,44944 & -98,37 & 21/08/1959 & $\\dots$ \\\\\n",
       "\t28 & NRCS Sept/2014 & 59ND045001 & 40A0102 & 40A00735 & 46,44944 & -98,37 & 21/08/1959 & $\\dots$ \\\\\n",
       "\t29 & NRCS Sept/2014 & 59ND045001 & 40A0102 & 40A00736 & 46,44944 & -98,37 & 21/08/1959 & $\\dots$ \\\\\n",
       "\t30 & NRCS Sept/2014 & 50ND075006 & 40A0107 & 40A00769 & 48,82111 & -101,74722 & 19/09/1950 & $\\dots$ \\\\\n",
       "\t$\\dots$ & $\\dots$ & $\\dots$ & $\\dots$ & $\\dots$ & $\\dots$ & $\\dots$ & $\\dots$ &  \\\\\n",
       "\\end{tabular}\n"
      ],
      "text/plain": [
       "121017×13 DataFrame. Omitted printing of 10 columns\n",
       "│ Row    │ dataset_name                            │ site_name  │ profile_name │\n",
       "│        │ \u001b[90mString\u001b[39m                                  │ \u001b[90mString\u001b[39m     │ \u001b[90mString\u001b[39m       │\n",
       "├────────┼─────────────────────────────────────────┼────────────┼──────────────┤\n",
       "│ 1      │ NRCS Sept/2014                          │ 50ND075005 │ 40A0001      │\n",
       "│ 2      │ NRCS Sept/2014                          │ 50ND075005 │ 40A0001      │\n",
       "│ 3      │ NRCS Sept/2014                          │ 50ND075005 │ 40A0001      │\n",
       "│ 4      │ NRCS Sept/2014                          │ 50ND075005 │ 40A0001      │\n",
       "│ 5      │ NRCS Sept/2014                          │ 50ND075005 │ 40A0001      │\n",
       "│ 6      │ NRCS Sept/2014                          │ 50ND075005 │ 40A0001      │\n",
       "│ 7      │ NRCS Sept/2014                          │ 50ND075005 │ 40A0001      │\n",
       "│ 8      │ NRCS Sept/2014                          │ 50ND075003 │ 40A0013      │\n",
       "│ 9      │ NRCS Sept/2014                          │ 50ND075003 │ 40A0013      │\n",
       "│ 10     │ NRCS Sept/2014                          │ 50ND075003 │ 40A0013      │\n",
       "⋮\n",
       "│ 121007 │ Worldwide soil carbon and nitrogen data │ TY33 JP    │ 7003033      │\n",
       "│ 121008 │ Worldwide soil carbon and nitrogen data │ TY33 JP    │ 7003033      │\n",
       "│ 121009 │ Worldwide soil carbon and nitrogen data │ TY34 JP    │ 7003034      │\n",
       "│ 121010 │ Worldwide soil carbon and nitrogen data │ TY34 JP    │ 7003034      │\n",
       "│ 121011 │ Worldwide soil carbon and nitrogen data │ TY34 JP    │ 7003034      │\n",
       "│ 121012 │ Worldwide soil carbon and nitrogen data │ TY34 JP    │ 7003034      │\n",
       "│ 121013 │ Worldwide soil carbon and nitrogen data │ TY35 JP    │ 7003035      │\n",
       "│ 121014 │ Worldwide soil carbon and nitrogen data │ TY35 JP    │ 7003035      │\n",
       "│ 121015 │ Worldwide soil carbon and nitrogen data │ TY35 JP    │ 7003035      │\n",
       "│ 121016 │ Worldwide soil carbon and nitrogen data │ TY35 JP    │ 7003035      │\n",
       "│ 121017 │ Worldwide soil carbon and nitrogen data │ TY35 JP    │ 7003035      │"
      ]
     },
     "execution_count": 59,
     "metadata": {},
     "output_type": "execute_result"
    }
   ],
   "source": [
    "#remove organic layers\n",
    "df_no_O_layers = df_merged[occursin.([\"O\"],df_merged.hzn) .== false, :]\n",
    "\n",
    "#remove layers for which bot < top\t\n",
    "df_no_above_layers = df_no_O_layers[df_no_O_layers.layer_bot .> df_no_O_layers.layer_top, :]\n",
    "\n",
    "#remove negative values of oc\n",
    "df_workable = df_no_above_layers[df_no_above_layers.oc_perc .>= 0, :]"
   ]
  },
  {
   "cell_type": "markdown",
   "metadata": {},
   "source": [
    "OrgC storage calc function:"
   ]
  },
  {
   "cell_type": "code",
   "execution_count": 60,
   "metadata": {},
   "outputs": [
    {
     "data": {
      "text/plain": [
       "orgc_storage (generic function with 1 method)"
      ]
     },
     "execution_count": 60,
     "metadata": {},
     "output_type": "execute_result"
    }
   ],
   "source": [
    "function orgc_storage(profile) \n",
    "\n",
    "    top = profile.layer_top\n",
    "    bot = profile.layer_bot\n",
    "\n",
    "    blk = profile.bd_pred_2 #[g/cm³]\n",
    "    orgc = profile.oc_perc #[%] \n",
    "\n",
    "    layers_heights = (bot.-top)\n",
    "\n",
    "    mass=0.0\n",
    "    for layer in 1:length(layers_heights)\n",
    "        #calculation for 1m² of surface, for all layers: volume x carbon/volume\n",
    "        mass += (100*100*layers_heights[layer])*(blk[layer]*orgc[layer]/100)/1000 #result in [Kg]\n",
    "    end\n",
    "\n",
    "    return mass\n",
    "end\n"
   ]
  },
  {
   "cell_type": "code",
   "execution_count": 61,
   "metadata": {
    "scrolled": true
   },
   "outputs": [
    {
     "data": {
      "text/plain": [
       "19196-element Array{Tuple{String,String},1}:\n",
       " (\"50ND075005\", \"40A0001\")\n",
       " (\"50ND075003\", \"40A0013\")\n",
       " (\"50ND075007\", \"40A0067\")\n",
       " (\"59ND045001\", \"40A0102\")\n",
       " (\"50ND075006\", \"40A0107\")\n",
       " (\"50ND075008\", \"40A0111\")\n",
       " (\"50ND075009\", \"40A0130\")\n",
       " (\"50ND075010\", \"40A0131\")\n",
       " (\"S1949CO049005\", \"40A0138\")\n",
       " (\"S1949CO049007\", \"40A0140\")\n",
       " (\"S1964TN157003\", \"40A0158\")\n",
       " (\"S1958WV025003\", \"40A0162\")\n",
       " (\"67FN220000\", \"40A0165\")\n",
       " ⋮\n",
       " (\"TY23 JP\", \"7003023\")\n",
       " (\"TY24 JP\", \"7003024\")\n",
       " (\"TY25 JP\", \"7003025\")\n",
       " (\"TY26 JP\", \"7003026\")\n",
       " (\"TY28 JP\", \"7003028\")\n",
       " (\"TY29 JP\", \"7003029\")\n",
       " (\"TY30 JP\", \"7003030\")\n",
       " (\"TY31 JP\", \"7003031\")\n",
       " (\"TY32 JP\", \"7003032\")\n",
       " (\"TY33 JP\", \"7003033\")\n",
       " (\"TY34 JP\", \"7003034\")\n",
       " (\"TY35 JP\", \"7003035\")"
      ]
     },
     "execution_count": 61,
     "metadata": {},
     "output_type": "execute_result"
    }
   ],
   "source": [
    "#profile names alone won't make an unique key, I'm using (site, profile)\n",
    "\n",
    "sp_key = unique([(row.site_name, row.profile_name) for row in eachrow(df_workable)])"
   ]
  },
  {
   "cell_type": "code",
   "execution_count": 62,
   "metadata": {},
   "outputs": [
    {
     "data": {
      "text/html": [
       "<table class=\"data-frame\"><thead><tr><th></th><th>site_name</th><th>profile_name</th><th>stored_orgc</th></tr><tr><th></th><th>String</th><th>String</th><th>Float64</th></tr></thead><tbody><p>19,196 rows × 3 columns</p><tr><th>1</th><td>50ND075005</td><td>40A0001</td><td>3.81415</td></tr><tr><th>2</th><td>50ND075003</td><td>40A0013</td><td>8.54735</td></tr><tr><th>3</th><td>50ND075007</td><td>40A0067</td><td>3.94668</td></tr><tr><th>4</th><td>59ND045001</td><td>40A0102</td><td>18.5023</td></tr><tr><th>5</th><td>50ND075006</td><td>40A0107</td><td>6.55938</td></tr><tr><th>6</th><td>50ND075008</td><td>40A0111</td><td>15.7195</td></tr><tr><th>7</th><td>50ND075009</td><td>40A0130</td><td>5.94671</td></tr><tr><th>8</th><td>50ND075010</td><td>40A0131</td><td>10.0302</td></tr><tr><th>9</th><td>S1949CO049005</td><td>40A0138</td><td>12.5975</td></tr><tr><th>10</th><td>S1949CO049007</td><td>40A0140</td><td>8.11315</td></tr><tr><th>11</th><td>S1964TN157003</td><td>40A0158</td><td>2.82454</td></tr><tr><th>12</th><td>S1958WV025003</td><td>40A0162</td><td>14.1617</td></tr><tr><th>13</th><td>67FN220000</td><td>40A0165</td><td>5.3846</td></tr><tr><th>14</th><td>S1960NM013002</td><td>40A0169</td><td>16.2491</td></tr><tr><th>15</th><td>S1964AZ003018</td><td>40A0187</td><td>16.7274</td></tr><tr><th>16</th><td>S1961NM013007</td><td>40A0190</td><td>2.347</td></tr><tr><th>17</th><td>S1967TX141003</td><td>40A0197</td><td>6.80579</td></tr><tr><th>18</th><td>S1965HI001013</td><td>40A0204</td><td>19.975</td></tr><tr><th>19</th><td>S1960MA003007</td><td>40A0206</td><td>16.7581</td></tr><tr><th>20</th><td>S1961PR047002</td><td>40A0209</td><td>10.5139</td></tr><tr><th>21</th><td>S1965NE181001</td><td>40A0219</td><td>2.04665</td></tr><tr><th>22</th><td>S1965CA053004</td><td>40A0224</td><td>6.8014</td></tr><tr><th>23</th><td>S1966NV007004</td><td>40A0225</td><td>8.0067</td></tr><tr><th>24</th><td>65FN190002</td><td>40A0235</td><td>21.0919</td></tr><tr><th>25</th><td>S1965NC101002</td><td>40A0237</td><td>8.64489</td></tr><tr><th>26</th><td>S1963PR063002</td><td>40A0247</td><td>4.99217</td></tr><tr><th>27</th><td>S1964CA073008</td><td>40A0251</td><td>8.98132</td></tr><tr><th>28</th><td>S1957NY033001</td><td>40A0257</td><td>11.6633</td></tr><tr><th>29</th><td>S1957NY045001</td><td>40A0267</td><td>29.2998</td></tr><tr><th>30</th><td>S1957NY055001</td><td>40A0275</td><td>2.38525</td></tr><tr><th>&vellip;</th><td>&vellip;</td><td>&vellip;</td><td>&vellip;</td></tr></tbody></table>"
      ],
      "text/latex": [
       "\\begin{tabular}{r|ccc}\n",
       "\t& site\\_name & profile\\_name & stored\\_orgc\\\\\n",
       "\t\\hline\n",
       "\t& String & String & Float64\\\\\n",
       "\t\\hline\n",
       "\t1 & 50ND075005 & 40A0001 & 3.81415 \\\\\n",
       "\t2 & 50ND075003 & 40A0013 & 8.54735 \\\\\n",
       "\t3 & 50ND075007 & 40A0067 & 3.94668 \\\\\n",
       "\t4 & 59ND045001 & 40A0102 & 18.5023 \\\\\n",
       "\t5 & 50ND075006 & 40A0107 & 6.55938 \\\\\n",
       "\t6 & 50ND075008 & 40A0111 & 15.7195 \\\\\n",
       "\t7 & 50ND075009 & 40A0130 & 5.94671 \\\\\n",
       "\t8 & 50ND075010 & 40A0131 & 10.0302 \\\\\n",
       "\t9 & S1949CO049005 & 40A0138 & 12.5975 \\\\\n",
       "\t10 & S1949CO049007 & 40A0140 & 8.11315 \\\\\n",
       "\t11 & S1964TN157003 & 40A0158 & 2.82454 \\\\\n",
       "\t12 & S1958WV025003 & 40A0162 & 14.1617 \\\\\n",
       "\t13 & 67FN220000 & 40A0165 & 5.3846 \\\\\n",
       "\t14 & S1960NM013002 & 40A0169 & 16.2491 \\\\\n",
       "\t15 & S1964AZ003018 & 40A0187 & 16.7274 \\\\\n",
       "\t16 & S1961NM013007 & 40A0190 & 2.347 \\\\\n",
       "\t17 & S1967TX141003 & 40A0197 & 6.80579 \\\\\n",
       "\t18 & S1965HI001013 & 40A0204 & 19.975 \\\\\n",
       "\t19 & S1960MA003007 & 40A0206 & 16.7581 \\\\\n",
       "\t20 & S1961PR047002 & 40A0209 & 10.5139 \\\\\n",
       "\t21 & S1965NE181001 & 40A0219 & 2.04665 \\\\\n",
       "\t22 & S1965CA053004 & 40A0224 & 6.8014 \\\\\n",
       "\t23 & S1966NV007004 & 40A0225 & 8.0067 \\\\\n",
       "\t24 & 65FN190002 & 40A0235 & 21.0919 \\\\\n",
       "\t25 & S1965NC101002 & 40A0237 & 8.64489 \\\\\n",
       "\t26 & S1963PR063002 & 40A0247 & 4.99217 \\\\\n",
       "\t27 & S1964CA073008 & 40A0251 & 8.98132 \\\\\n",
       "\t28 & S1957NY033001 & 40A0257 & 11.6633 \\\\\n",
       "\t29 & S1957NY045001 & 40A0267 & 29.2998 \\\\\n",
       "\t30 & S1957NY055001 & 40A0275 & 2.38525 \\\\\n",
       "\t$\\dots$ & $\\dots$ & $\\dots$ & $\\dots$ \\\\\n",
       "\\end{tabular}\n"
      ],
      "text/plain": [
       "19196×3 DataFrame\n",
       "│ Row   │ site_name     │ profile_name │ stored_orgc │\n",
       "│       │ \u001b[90mString\u001b[39m        │ \u001b[90mString\u001b[39m       │ \u001b[90mFloat64\u001b[39m     │\n",
       "├───────┼───────────────┼──────────────┼─────────────┤\n",
       "│ 1     │ 50ND075005    │ 40A0001      │ 3.81415     │\n",
       "│ 2     │ 50ND075003    │ 40A0013      │ 8.54735     │\n",
       "│ 3     │ 50ND075007    │ 40A0067      │ 3.94668     │\n",
       "│ 4     │ 59ND045001    │ 40A0102      │ 18.5023     │\n",
       "│ 5     │ 50ND075006    │ 40A0107      │ 6.55938     │\n",
       "│ 6     │ 50ND075008    │ 40A0111      │ 15.7195     │\n",
       "│ 7     │ 50ND075009    │ 40A0130      │ 5.94671     │\n",
       "│ 8     │ 50ND075010    │ 40A0131      │ 10.0302     │\n",
       "│ 9     │ S1949CO049005 │ 40A0138      │ 12.5975     │\n",
       "│ 10    │ S1949CO049007 │ 40A0140      │ 8.11315     │\n",
       "⋮\n",
       "│ 19186 │ TY24 JP       │ 7003024      │ 12.5612     │\n",
       "│ 19187 │ TY25 JP       │ 7003025      │ 8.48692     │\n",
       "│ 19188 │ TY26 JP       │ 7003026      │ 20.6229     │\n",
       "│ 19189 │ TY28 JP       │ 7003028      │ 15.6076     │\n",
       "│ 19190 │ TY29 JP       │ 7003029      │ 12.4568     │\n",
       "│ 19191 │ TY30 JP       │ 7003030      │ 26.84       │\n",
       "│ 19192 │ TY31 JP       │ 7003031      │ 3.38356     │\n",
       "│ 19193 │ TY32 JP       │ 7003032      │ 14.1139     │\n",
       "│ 19194 │ TY33 JP       │ 7003033      │ 8.06338     │\n",
       "│ 19195 │ TY34 JP       │ 7003034      │ 16.4164     │\n",
       "│ 19196 │ TY35 JP       │ 7003035      │ 13.2689     │"
      ]
     },
     "execution_count": 62,
     "metadata": {},
     "output_type": "execute_result"
    }
   ],
   "source": [
    "#computing orgC storage\n",
    "\n",
    "orgc_mass = Dict()\n",
    "\n",
    "for (s,p) in sp_key\n",
    "profile_calc = df_workable[(df_workable.site_name .== s) .& (df_workable.profile_name .== p), :]\n",
    "orgc_mass[(s,p)] = orgc_storage(profile_calc)\n",
    "end\n",
    "\n",
    "#storing results in DF\n",
    "df_orgc = DataFrame(site_name = [s for (s,_) in sp_key], \n",
    "                   profile_name = [p for (_,p) in sp_key], \n",
    "                   stored_orgc = Float64.(values(orgc_mass)))\n"
   ]
  },
  {
   "cell_type": "code",
   "execution_count": 63,
   "metadata": {
    "scrolled": true
   },
   "outputs": [
    {
     "data": {
      "text/html": [
       "<table class=\"data-frame\"><thead><tr><th></th><th>site_name</th><th>profile_name</th><th>min_layer</th><th>profile_depth</th></tr><tr><th></th><th>String</th><th>String</th><th>Float64</th><th>Float64</th></tr></thead><tbody><p>19,196 rows × 4 columns</p><tr><th>1</th><td>50ND075005</td><td>40A0001</td><td>0.0</td><td>152.0</td></tr><tr><th>2</th><td>50ND075003</td><td>40A0013</td><td>0.0</td><td>46.0</td></tr><tr><th>3</th><td>50ND075007</td><td>40A0067</td><td>0.0</td><td>152.0</td></tr><tr><th>4</th><td>59ND045001</td><td>40A0102</td><td>0.0</td><td>213.0</td></tr><tr><th>5</th><td>50ND075006</td><td>40A0107</td><td>0.0</td><td>152.0</td></tr><tr><th>6</th><td>50ND075008</td><td>40A0111</td><td>0.0</td><td>153.0</td></tr><tr><th>7</th><td>50ND075009</td><td>40A0130</td><td>0.0</td><td>196.0</td></tr><tr><th>8</th><td>50ND075010</td><td>40A0131</td><td>0.0</td><td>53.0</td></tr><tr><th>9</th><td>S1949CO049005</td><td>40A0138</td><td>0.0</td><td>150.0</td></tr><tr><th>10</th><td>S1949CO049007</td><td>40A0140</td><td>0.0</td><td>208.0</td></tr><tr><th>11</th><td>S1964TN157003</td><td>40A0158</td><td>0.0</td><td>211.0</td></tr><tr><th>12</th><td>S1958WV025003</td><td>40A0162</td><td>0.0</td><td>168.0</td></tr><tr><th>13</th><td>67FN220000</td><td>40A0165</td><td>0.0</td><td>244.0</td></tr><tr><th>14</th><td>S1960NM013002</td><td>40A0169</td><td>0.0</td><td>112.0</td></tr><tr><th>15</th><td>S1964AZ003018</td><td>40A0187</td><td>0.0</td><td>150.0</td></tr><tr><th>16</th><td>S1961NM013007</td><td>40A0190</td><td>0.0</td><td>74.0</td></tr><tr><th>17</th><td>S1967TX141003</td><td>40A0197</td><td>0.0</td><td>127.0</td></tr><tr><th>18</th><td>S1965HI001013</td><td>40A0204</td><td>0.0</td><td>50.0</td></tr><tr><th>19</th><td>S1960MA003007</td><td>40A0206</td><td>0.0</td><td>457.0</td></tr><tr><th>20</th><td>S1961PR047002</td><td>40A0209</td><td>0.0</td><td>183.0</td></tr><tr><th>21</th><td>S1965NE181001</td><td>40A0219</td><td>0.0</td><td>58.0</td></tr><tr><th>22</th><td>S1965CA053004</td><td>40A0224</td><td>0.0</td><td>168.0</td></tr><tr><th>23</th><td>S1966NV007004</td><td>40A0225</td><td>0.0</td><td>86.0</td></tr><tr><th>24</th><td>65FN190002</td><td>40A0235</td><td>0.0</td><td>94.0</td></tr><tr><th>25</th><td>S1965NC101002</td><td>40A0237</td><td>0.0</td><td>51.0</td></tr><tr><th>26</th><td>S1963PR063002</td><td>40A0247</td><td>0.0</td><td>50.0</td></tr><tr><th>27</th><td>S1964CA073008</td><td>40A0251</td><td>0.0</td><td>152.0</td></tr><tr><th>28</th><td>S1957NY033001</td><td>40A0257</td><td>0.0</td><td>690.0</td></tr><tr><th>29</th><td>S1957NY045001</td><td>40A0267</td><td>0.0</td><td>183.0</td></tr><tr><th>30</th><td>S1957NY055001</td><td>40A0275</td><td>0.0</td><td>61.0</td></tr><tr><th>&vellip;</th><td>&vellip;</td><td>&vellip;</td><td>&vellip;</td><td>&vellip;</td></tr></tbody></table>"
      ],
      "text/latex": [
       "\\begin{tabular}{r|cccc}\n",
       "\t& site\\_name & profile\\_name & min\\_layer & profile\\_depth\\\\\n",
       "\t\\hline\n",
       "\t& String & String & Float64 & Float64\\\\\n",
       "\t\\hline\n",
       "\t1 & 50ND075005 & 40A0001 & 0.0 & 152.0 \\\\\n",
       "\t2 & 50ND075003 & 40A0013 & 0.0 & 46.0 \\\\\n",
       "\t3 & 50ND075007 & 40A0067 & 0.0 & 152.0 \\\\\n",
       "\t4 & 59ND045001 & 40A0102 & 0.0 & 213.0 \\\\\n",
       "\t5 & 50ND075006 & 40A0107 & 0.0 & 152.0 \\\\\n",
       "\t6 & 50ND075008 & 40A0111 & 0.0 & 153.0 \\\\\n",
       "\t7 & 50ND075009 & 40A0130 & 0.0 & 196.0 \\\\\n",
       "\t8 & 50ND075010 & 40A0131 & 0.0 & 53.0 \\\\\n",
       "\t9 & S1949CO049005 & 40A0138 & 0.0 & 150.0 \\\\\n",
       "\t10 & S1949CO049007 & 40A0140 & 0.0 & 208.0 \\\\\n",
       "\t11 & S1964TN157003 & 40A0158 & 0.0 & 211.0 \\\\\n",
       "\t12 & S1958WV025003 & 40A0162 & 0.0 & 168.0 \\\\\n",
       "\t13 & 67FN220000 & 40A0165 & 0.0 & 244.0 \\\\\n",
       "\t14 & S1960NM013002 & 40A0169 & 0.0 & 112.0 \\\\\n",
       "\t15 & S1964AZ003018 & 40A0187 & 0.0 & 150.0 \\\\\n",
       "\t16 & S1961NM013007 & 40A0190 & 0.0 & 74.0 \\\\\n",
       "\t17 & S1967TX141003 & 40A0197 & 0.0 & 127.0 \\\\\n",
       "\t18 & S1965HI001013 & 40A0204 & 0.0 & 50.0 \\\\\n",
       "\t19 & S1960MA003007 & 40A0206 & 0.0 & 457.0 \\\\\n",
       "\t20 & S1961PR047002 & 40A0209 & 0.0 & 183.0 \\\\\n",
       "\t21 & S1965NE181001 & 40A0219 & 0.0 & 58.0 \\\\\n",
       "\t22 & S1965CA053004 & 40A0224 & 0.0 & 168.0 \\\\\n",
       "\t23 & S1966NV007004 & 40A0225 & 0.0 & 86.0 \\\\\n",
       "\t24 & 65FN190002 & 40A0235 & 0.0 & 94.0 \\\\\n",
       "\t25 & S1965NC101002 & 40A0237 & 0.0 & 51.0 \\\\\n",
       "\t26 & S1963PR063002 & 40A0247 & 0.0 & 50.0 \\\\\n",
       "\t27 & S1964CA073008 & 40A0251 & 0.0 & 152.0 \\\\\n",
       "\t28 & S1957NY033001 & 40A0257 & 0.0 & 690.0 \\\\\n",
       "\t29 & S1957NY045001 & 40A0267 & 0.0 & 183.0 \\\\\n",
       "\t30 & S1957NY055001 & 40A0275 & 0.0 & 61.0 \\\\\n",
       "\t$\\dots$ & $\\dots$ & $\\dots$ & $\\dots$ & $\\dots$ \\\\\n",
       "\\end{tabular}\n"
      ],
      "text/plain": [
       "19196×4 DataFrame\n",
       "│ Row   │ site_name     │ profile_name │ min_layer │ profile_depth │\n",
       "│       │ \u001b[90mString\u001b[39m        │ \u001b[90mString\u001b[39m       │ \u001b[90mFloat64\u001b[39m   │ \u001b[90mFloat64\u001b[39m       │\n",
       "├───────┼───────────────┼──────────────┼───────────┼───────────────┤\n",
       "│ 1     │ 50ND075005    │ 40A0001      │ 0.0       │ 152.0         │\n",
       "│ 2     │ 50ND075003    │ 40A0013      │ 0.0       │ 46.0          │\n",
       "│ 3     │ 50ND075007    │ 40A0067      │ 0.0       │ 152.0         │\n",
       "│ 4     │ 59ND045001    │ 40A0102      │ 0.0       │ 213.0         │\n",
       "│ 5     │ 50ND075006    │ 40A0107      │ 0.0       │ 152.0         │\n",
       "│ 6     │ 50ND075008    │ 40A0111      │ 0.0       │ 153.0         │\n",
       "│ 7     │ 50ND075009    │ 40A0130      │ 0.0       │ 196.0         │\n",
       "│ 8     │ 50ND075010    │ 40A0131      │ 0.0       │ 53.0          │\n",
       "│ 9     │ S1949CO049005 │ 40A0138      │ 0.0       │ 150.0         │\n",
       "│ 10    │ S1949CO049007 │ 40A0140      │ 0.0       │ 208.0         │\n",
       "⋮\n",
       "│ 19186 │ TY24 JP       │ 7003024      │ 0.0       │ 183.0         │\n",
       "│ 19187 │ TY25 JP       │ 7003025      │ 0.0       │ 46.0          │\n",
       "│ 19188 │ TY26 JP       │ 7003026      │ 0.0       │ 168.0         │\n",
       "│ 19189 │ TY28 JP       │ 7003028      │ 0.0       │ 152.0         │\n",
       "│ 19190 │ TY29 JP       │ 7003029      │ 0.0       │ 295.0         │\n",
       "│ 19191 │ TY30 JP       │ 7003030      │ 0.0       │ 150.0         │\n",
       "│ 19192 │ TY31 JP       │ 7003031      │ 0.0       │ 74.0          │\n",
       "│ 19193 │ TY32 JP       │ 7003032      │ 0.0       │ 112.0         │\n",
       "│ 19194 │ TY33 JP       │ 7003033      │ 0.0       │ 183.0         │\n",
       "│ 19195 │ TY34 JP       │ 7003034      │ 0.0       │ 108.0         │\n",
       "│ 19196 │ TY35 JP       │ 7003035      │ 0.0       │ 183.0         │"
      ]
     },
     "execution_count": 63,
     "metadata": {},
     "output_type": "execute_result"
    }
   ],
   "source": [
    "#retrieving profile start (min_layer) and depth\n",
    "\n",
    "min_tops = Dict()\n",
    "sol_deps = Dict()\n",
    "\n",
    "for (s,p) in sp_key\n",
    "    prf = df_workable[(df_workable.site_name .== s) .& (df_workable.profile_name .== p), [:layer_top, :layer_bot]]\n",
    "    tops = prf.layer_top\n",
    "    bots = prf.layer_bot\n",
    "\n",
    "    min_tops[(s,p)] = minimum(tops)\n",
    "    sol_deps[(s,p)] = maximum(bots)\n",
    "end\n",
    "\n",
    "#storing results in DF\t\n",
    "df_tops_bots = DataFrame(site_name = [s for (s,_) in sp_key], \n",
    "                     profile_name = [p for (_,p) in sp_key], \n",
    "                     min_layer = Float64.(values(min_tops)),\n",
    "                     profile_depth = Float64.(values(sol_deps)))\n",
    "\n"
   ]
  },
  {
   "cell_type": "code",
   "execution_count": 64,
   "metadata": {
    "scrolled": true
   },
   "outputs": [
    {
     "data": {
      "text/html": [
       "<table class=\"data-frame\"><thead><tr><th></th><th>dataset_name</th><th>site_name</th><th>profile_name</th><th>lat_dd</th><th>long_dd</th><th>obs_date</th></tr><tr><th></th><th>String</th><th>String</th><th>String</th><th>String?</th><th>String?</th><th>String?</th></tr></thead><tbody><p>19,196 rows × 6 columns</p><tr><th>1</th><td>NRCS Sept/2014</td><td>50ND075005</td><td>40A0001</td><td>48,80497</td><td>-101,73472</td><td>19/09/1950</td></tr><tr><th>2</th><td>NRCS Sept/2014</td><td>50ND075003</td><td>40A0013</td><td>48,93664</td><td>-101,58499</td><td>18/09/1950</td></tr><tr><th>3</th><td>NRCS Sept/2014</td><td>50ND075007</td><td>40A0067</td><td>48,8083</td><td>-101,7075</td><td>19/09/1950</td></tr><tr><th>4</th><td>NRCS Sept/2014</td><td>59ND045001</td><td>40A0102</td><td>46,44944</td><td>-98,37</td><td>21/08/1959</td></tr><tr><th>5</th><td>NRCS Sept/2014</td><td>50ND075006</td><td>40A0107</td><td>48,82111</td><td>-101,74722</td><td>19/09/1950</td></tr><tr><th>6</th><td>NRCS Sept/2014</td><td>50ND075008</td><td>40A0111</td><td>48,89914</td><td>-101,55444</td><td>20/09/1950</td></tr><tr><th>7</th><td>NRCS Sept/2014</td><td>50ND075009</td><td>40A0130</td><td>48,94275</td><td>-101,58694</td><td>20/09/1950</td></tr><tr><th>8</th><td>NRCS Sept/2014</td><td>50ND075010</td><td>40A0131</td><td>48,91528</td><td>-101,60583</td><td>20/09/1950</td></tr><tr><th>9</th><td>NRCS Sept/2014</td><td>S1949CO049005</td><td>40A0138</td><td><em>missing</em></td><td><em>missing</em></td><td>02/09/1949</td></tr><tr><th>10</th><td>NRCS Sept/2014</td><td>S1949CO049007</td><td>40A0140</td><td><em>missing</em></td><td><em>missing</em></td><td>31/08/1949</td></tr><tr><th>11</th><td>NRCS Sept/2014</td><td>S1964TN157003</td><td>40A0158</td><td><em>missing</em></td><td><em>missing</em></td><td>01/03/1964</td></tr><tr><th>12</th><td>NRCS Sept/2014</td><td>S1958WV025003</td><td>40A0162</td><td><em>missing</em></td><td><em>missing</em></td><td>01/06/1958</td></tr><tr><th>13</th><td>NRCS Sept/2014</td><td>67FN220000</td><td>40A0165</td><td>-15,66667</td><td>-47,78333</td><td>01/03/1967</td></tr><tr><th>14</th><td>NRCS Sept/2014</td><td>S1960NM013002</td><td>40A0169</td><td>32,3168</td><td>-106,76723</td><td>12/11/1960</td></tr><tr><th>15</th><td>NRCS Sept/2014</td><td>S1964AZ003018</td><td>40A0187</td><td>32,40039</td><td>-109,96149</td><td>19/10/1964</td></tr><tr><th>16</th><td>NRCS Sept/2014</td><td>S1961NM013007</td><td>40A0190</td><td>32,29736</td><td>-106,90807</td><td>05/05/1961</td></tr><tr><th>17</th><td>NRCS Sept/2014</td><td>S1967TX141003</td><td>40A0197</td><td>31,54167</td><td>-106,19195</td><td>02/03/1967</td></tr><tr><th>18</th><td>NRCS Sept/2014</td><td>S1965HI001013</td><td>40A0204</td><td>19,90833</td><td>-155,39166</td><td>09/04/1965</td></tr><tr><th>19</th><td>NRCS Sept/2014</td><td>S1960MA003007</td><td>40A0206</td><td>42,21387</td><td>-73,40565</td><td>09/06/1960</td></tr><tr><th>20</th><td>NRCS Sept/2014</td><td>S1961PR047002</td><td>40A0209</td><td>18,24167</td><td>-66,28389</td><td>12/03/1961</td></tr><tr><th>21</th><td>NRCS Sept/2014</td><td>S1965NE181001</td><td>40A0219</td><td>40,26279</td><td>-98,39009</td><td>21/04/1965</td></tr><tr><th>22</th><td>NRCS Sept/2014</td><td>S1965CA053004</td><td>40A0224</td><td>36,28333</td><td>-121,1</td><td>18/05/1965</td></tr><tr><th>23</th><td>NRCS Sept/2014</td><td>S1966NV007004</td><td>40A0225</td><td>41,10184</td><td>-116,13232</td><td>06/05/1966</td></tr><tr><th>24</th><td>NRCS Sept/2014</td><td>65FN190002</td><td>40A0235</td><td>51,16667</td><td>4,83333</td><td>01/04/1965</td></tr><tr><th>25</th><td>NRCS Sept/2014</td><td>S1965NC101002</td><td>40A0237</td><td>35,365</td><td>-78,54778</td><td>20/10/1965</td></tr><tr><th>26</th><td>NRCS Sept/2014</td><td>S1963PR063002</td><td>40A0247</td><td>18,2575</td><td>-65,65945</td><td>01/10/1965</td></tr><tr><th>27</th><td>NRCS Sept/2014</td><td>S1964CA073008</td><td>40A0251</td><td>33,26389</td><td>-117,29667</td><td>11/03/1964</td></tr><tr><th>28</th><td>NRCS Sept/2014</td><td>S1957NY033001</td><td>40A0257</td><td>44,98195</td><td>-74,48333</td><td>23/09/1957</td></tr><tr><th>29</th><td>NRCS Sept/2014</td><td>S1957NY045001</td><td>40A0267</td><td>43,99917</td><td>-75,90028</td><td>26/09/1957</td></tr><tr><th>30</th><td>NRCS Sept/2014</td><td>S1957NY055001</td><td>40A0275</td><td><em>missing</em></td><td><em>missing</em></td><td>30/09/1957</td></tr><tr><th>&vellip;</th><td>&vellip;</td><td>&vellip;</td><td>&vellip;</td><td>&vellip;</td><td>&vellip;</td><td>&vellip;</td></tr></tbody></table>"
      ],
      "text/latex": [
       "\\begin{tabular}{r|cccccc}\n",
       "\t& dataset\\_name & site\\_name & profile\\_name & lat\\_dd & long\\_dd & obs\\_date\\\\\n",
       "\t\\hline\n",
       "\t& String & String & String & String? & String? & String?\\\\\n",
       "\t\\hline\n",
       "\t1 & NRCS Sept/2014 & 50ND075005 & 40A0001 & 48,80497 & -101,73472 & 19/09/1950 \\\\\n",
       "\t2 & NRCS Sept/2014 & 50ND075003 & 40A0013 & 48,93664 & -101,58499 & 18/09/1950 \\\\\n",
       "\t3 & NRCS Sept/2014 & 50ND075007 & 40A0067 & 48,8083 & -101,7075 & 19/09/1950 \\\\\n",
       "\t4 & NRCS Sept/2014 & 59ND045001 & 40A0102 & 46,44944 & -98,37 & 21/08/1959 \\\\\n",
       "\t5 & NRCS Sept/2014 & 50ND075006 & 40A0107 & 48,82111 & -101,74722 & 19/09/1950 \\\\\n",
       "\t6 & NRCS Sept/2014 & 50ND075008 & 40A0111 & 48,89914 & -101,55444 & 20/09/1950 \\\\\n",
       "\t7 & NRCS Sept/2014 & 50ND075009 & 40A0130 & 48,94275 & -101,58694 & 20/09/1950 \\\\\n",
       "\t8 & NRCS Sept/2014 & 50ND075010 & 40A0131 & 48,91528 & -101,60583 & 20/09/1950 \\\\\n",
       "\t9 & NRCS Sept/2014 & S1949CO049005 & 40A0138 & \\emph{missing} & \\emph{missing} & 02/09/1949 \\\\\n",
       "\t10 & NRCS Sept/2014 & S1949CO049007 & 40A0140 & \\emph{missing} & \\emph{missing} & 31/08/1949 \\\\\n",
       "\t11 & NRCS Sept/2014 & S1964TN157003 & 40A0158 & \\emph{missing} & \\emph{missing} & 01/03/1964 \\\\\n",
       "\t12 & NRCS Sept/2014 & S1958WV025003 & 40A0162 & \\emph{missing} & \\emph{missing} & 01/06/1958 \\\\\n",
       "\t13 & NRCS Sept/2014 & 67FN220000 & 40A0165 & -15,66667 & -47,78333 & 01/03/1967 \\\\\n",
       "\t14 & NRCS Sept/2014 & S1960NM013002 & 40A0169 & 32,3168 & -106,76723 & 12/11/1960 \\\\\n",
       "\t15 & NRCS Sept/2014 & S1964AZ003018 & 40A0187 & 32,40039 & -109,96149 & 19/10/1964 \\\\\n",
       "\t16 & NRCS Sept/2014 & S1961NM013007 & 40A0190 & 32,29736 & -106,90807 & 05/05/1961 \\\\\n",
       "\t17 & NRCS Sept/2014 & S1967TX141003 & 40A0197 & 31,54167 & -106,19195 & 02/03/1967 \\\\\n",
       "\t18 & NRCS Sept/2014 & S1965HI001013 & 40A0204 & 19,90833 & -155,39166 & 09/04/1965 \\\\\n",
       "\t19 & NRCS Sept/2014 & S1960MA003007 & 40A0206 & 42,21387 & -73,40565 & 09/06/1960 \\\\\n",
       "\t20 & NRCS Sept/2014 & S1961PR047002 & 40A0209 & 18,24167 & -66,28389 & 12/03/1961 \\\\\n",
       "\t21 & NRCS Sept/2014 & S1965NE181001 & 40A0219 & 40,26279 & -98,39009 & 21/04/1965 \\\\\n",
       "\t22 & NRCS Sept/2014 & S1965CA053004 & 40A0224 & 36,28333 & -121,1 & 18/05/1965 \\\\\n",
       "\t23 & NRCS Sept/2014 & S1966NV007004 & 40A0225 & 41,10184 & -116,13232 & 06/05/1966 \\\\\n",
       "\t24 & NRCS Sept/2014 & 65FN190002 & 40A0235 & 51,16667 & 4,83333 & 01/04/1965 \\\\\n",
       "\t25 & NRCS Sept/2014 & S1965NC101002 & 40A0237 & 35,365 & -78,54778 & 20/10/1965 \\\\\n",
       "\t26 & NRCS Sept/2014 & S1963PR063002 & 40A0247 & 18,2575 & -65,65945 & 01/10/1965 \\\\\n",
       "\t27 & NRCS Sept/2014 & S1964CA073008 & 40A0251 & 33,26389 & -117,29667 & 11/03/1964 \\\\\n",
       "\t28 & NRCS Sept/2014 & S1957NY033001 & 40A0257 & 44,98195 & -74,48333 & 23/09/1957 \\\\\n",
       "\t29 & NRCS Sept/2014 & S1957NY045001 & 40A0267 & 43,99917 & -75,90028 & 26/09/1957 \\\\\n",
       "\t30 & NRCS Sept/2014 & S1957NY055001 & 40A0275 & \\emph{missing} & \\emph{missing} & 30/09/1957 \\\\\n",
       "\t$\\dots$ & $\\dots$ & $\\dots$ & $\\dots$ & $\\dots$ & $\\dots$ & $\\dots$ \\\\\n",
       "\\end{tabular}\n"
      ],
      "text/plain": [
       "19196×6 DataFrame. Omitted printing of 4 columns\n",
       "│ Row   │ dataset_name                            │ site_name     │\n",
       "│       │ \u001b[90mString\u001b[39m                                  │ \u001b[90mString\u001b[39m        │\n",
       "├───────┼─────────────────────────────────────────┼───────────────┤\n",
       "│ 1     │ NRCS Sept/2014                          │ 50ND075005    │\n",
       "│ 2     │ NRCS Sept/2014                          │ 50ND075003    │\n",
       "│ 3     │ NRCS Sept/2014                          │ 50ND075007    │\n",
       "│ 4     │ NRCS Sept/2014                          │ 59ND045001    │\n",
       "│ 5     │ NRCS Sept/2014                          │ 50ND075006    │\n",
       "│ 6     │ NRCS Sept/2014                          │ 50ND075008    │\n",
       "│ 7     │ NRCS Sept/2014                          │ 50ND075009    │\n",
       "│ 8     │ NRCS Sept/2014                          │ 50ND075010    │\n",
       "│ 9     │ NRCS Sept/2014                          │ S1949CO049005 │\n",
       "│ 10    │ NRCS Sept/2014                          │ S1949CO049007 │\n",
       "⋮\n",
       "│ 19186 │ Worldwide soil carbon and nitrogen data │ TY24 JP       │\n",
       "│ 19187 │ Worldwide soil carbon and nitrogen data │ TY25 JP       │\n",
       "│ 19188 │ Worldwide soil carbon and nitrogen data │ TY26 JP       │\n",
       "│ 19189 │ Worldwide soil carbon and nitrogen data │ TY28 JP       │\n",
       "│ 19190 │ Worldwide soil carbon and nitrogen data │ TY29 JP       │\n",
       "│ 19191 │ Worldwide soil carbon and nitrogen data │ TY30 JP       │\n",
       "│ 19192 │ Worldwide soil carbon and nitrogen data │ TY31 JP       │\n",
       "│ 19193 │ Worldwide soil carbon and nitrogen data │ TY32 JP       │\n",
       "│ 19194 │ Worldwide soil carbon and nitrogen data │ TY33 JP       │\n",
       "│ 19195 │ Worldwide soil carbon and nitrogen data │ TY34 JP       │\n",
       "│ 19196 │ Worldwide soil carbon and nitrogen data │ TY35 JP       │"
      ]
     },
     "execution_count": 64,
     "metadata": {},
     "output_type": "execute_result"
    }
   ],
   "source": [
    "#retrieving extra information to be joined later\n",
    "df_lat_long_date = unique(df_workable[:,[:dataset_name,:site_name,:profile_name,:lat_dd,:long_dd,:obs_date]])"
   ]
  },
  {
   "cell_type": "code",
   "execution_count": 65,
   "metadata": {},
   "outputs": [],
   "source": [
    "#first join\n",
    "df_join_first = innerjoin(df_lat_long_date,df_orgc, on = [:site_name,:profile_name]);"
   ]
  },
  {
   "cell_type": "code",
   "execution_count": 66,
   "metadata": {},
   "outputs": [
    {
     "data": {
      "text/html": [
       "<table class=\"data-frame\"><thead><tr><th></th><th>dataset_name</th><th>site_name</th><th>profile_name</th><th>lat_dd</th><th>long_dd</th><th>obs_date</th></tr><tr><th></th><th>String</th><th>String</th><th>String</th><th>String?</th><th>String?</th><th>String?</th></tr></thead><tbody><p>19,196 rows × 9 columns (omitted printing of 3 columns)</p><tr><th>1</th><td>NRCS Sept/2014</td><td>50ND075005</td><td>40A0001</td><td>48,80497</td><td>-101,73472</td><td>19/09/1950</td></tr><tr><th>2</th><td>NRCS Sept/2014</td><td>50ND075003</td><td>40A0013</td><td>48,93664</td><td>-101,58499</td><td>18/09/1950</td></tr><tr><th>3</th><td>NRCS Sept/2014</td><td>50ND075007</td><td>40A0067</td><td>48,8083</td><td>-101,7075</td><td>19/09/1950</td></tr><tr><th>4</th><td>NRCS Sept/2014</td><td>59ND045001</td><td>40A0102</td><td>46,44944</td><td>-98,37</td><td>21/08/1959</td></tr><tr><th>5</th><td>NRCS Sept/2014</td><td>50ND075006</td><td>40A0107</td><td>48,82111</td><td>-101,74722</td><td>19/09/1950</td></tr><tr><th>6</th><td>NRCS Sept/2014</td><td>50ND075008</td><td>40A0111</td><td>48,89914</td><td>-101,55444</td><td>20/09/1950</td></tr><tr><th>7</th><td>NRCS Sept/2014</td><td>50ND075009</td><td>40A0130</td><td>48,94275</td><td>-101,58694</td><td>20/09/1950</td></tr><tr><th>8</th><td>NRCS Sept/2014</td><td>50ND075010</td><td>40A0131</td><td>48,91528</td><td>-101,60583</td><td>20/09/1950</td></tr><tr><th>9</th><td>NRCS Sept/2014</td><td>S1949CO049005</td><td>40A0138</td><td><em>missing</em></td><td><em>missing</em></td><td>02/09/1949</td></tr><tr><th>10</th><td>NRCS Sept/2014</td><td>S1949CO049007</td><td>40A0140</td><td><em>missing</em></td><td><em>missing</em></td><td>31/08/1949</td></tr><tr><th>11</th><td>NRCS Sept/2014</td><td>S1964TN157003</td><td>40A0158</td><td><em>missing</em></td><td><em>missing</em></td><td>01/03/1964</td></tr><tr><th>12</th><td>NRCS Sept/2014</td><td>S1958WV025003</td><td>40A0162</td><td><em>missing</em></td><td><em>missing</em></td><td>01/06/1958</td></tr><tr><th>13</th><td>NRCS Sept/2014</td><td>67FN220000</td><td>40A0165</td><td>-15,66667</td><td>-47,78333</td><td>01/03/1967</td></tr><tr><th>14</th><td>NRCS Sept/2014</td><td>S1960NM013002</td><td>40A0169</td><td>32,3168</td><td>-106,76723</td><td>12/11/1960</td></tr><tr><th>15</th><td>NRCS Sept/2014</td><td>S1964AZ003018</td><td>40A0187</td><td>32,40039</td><td>-109,96149</td><td>19/10/1964</td></tr><tr><th>16</th><td>NRCS Sept/2014</td><td>S1961NM013007</td><td>40A0190</td><td>32,29736</td><td>-106,90807</td><td>05/05/1961</td></tr><tr><th>17</th><td>NRCS Sept/2014</td><td>S1967TX141003</td><td>40A0197</td><td>31,54167</td><td>-106,19195</td><td>02/03/1967</td></tr><tr><th>18</th><td>NRCS Sept/2014</td><td>S1965HI001013</td><td>40A0204</td><td>19,90833</td><td>-155,39166</td><td>09/04/1965</td></tr><tr><th>19</th><td>NRCS Sept/2014</td><td>S1960MA003007</td><td>40A0206</td><td>42,21387</td><td>-73,40565</td><td>09/06/1960</td></tr><tr><th>20</th><td>NRCS Sept/2014</td><td>S1961PR047002</td><td>40A0209</td><td>18,24167</td><td>-66,28389</td><td>12/03/1961</td></tr><tr><th>21</th><td>NRCS Sept/2014</td><td>S1965NE181001</td><td>40A0219</td><td>40,26279</td><td>-98,39009</td><td>21/04/1965</td></tr><tr><th>22</th><td>NRCS Sept/2014</td><td>S1965CA053004</td><td>40A0224</td><td>36,28333</td><td>-121,1</td><td>18/05/1965</td></tr><tr><th>23</th><td>NRCS Sept/2014</td><td>S1966NV007004</td><td>40A0225</td><td>41,10184</td><td>-116,13232</td><td>06/05/1966</td></tr><tr><th>24</th><td>NRCS Sept/2014</td><td>65FN190002</td><td>40A0235</td><td>51,16667</td><td>4,83333</td><td>01/04/1965</td></tr><tr><th>25</th><td>NRCS Sept/2014</td><td>S1965NC101002</td><td>40A0237</td><td>35,365</td><td>-78,54778</td><td>20/10/1965</td></tr><tr><th>26</th><td>NRCS Sept/2014</td><td>S1963PR063002</td><td>40A0247</td><td>18,2575</td><td>-65,65945</td><td>01/10/1965</td></tr><tr><th>27</th><td>NRCS Sept/2014</td><td>S1964CA073008</td><td>40A0251</td><td>33,26389</td><td>-117,29667</td><td>11/03/1964</td></tr><tr><th>28</th><td>NRCS Sept/2014</td><td>S1957NY033001</td><td>40A0257</td><td>44,98195</td><td>-74,48333</td><td>23/09/1957</td></tr><tr><th>29</th><td>NRCS Sept/2014</td><td>S1957NY045001</td><td>40A0267</td><td>43,99917</td><td>-75,90028</td><td>26/09/1957</td></tr><tr><th>30</th><td>NRCS Sept/2014</td><td>S1957NY055001</td><td>40A0275</td><td><em>missing</em></td><td><em>missing</em></td><td>30/09/1957</td></tr><tr><th>&vellip;</th><td>&vellip;</td><td>&vellip;</td><td>&vellip;</td><td>&vellip;</td><td>&vellip;</td><td>&vellip;</td></tr></tbody></table>"
      ],
      "text/latex": [
       "\\begin{tabular}{r|ccccccc}\n",
       "\t& dataset\\_name & site\\_name & profile\\_name & lat\\_dd & long\\_dd & obs\\_date & \\\\\n",
       "\t\\hline\n",
       "\t& String & String & String & String? & String? & String? & \\\\\n",
       "\t\\hline\n",
       "\t1 & NRCS Sept/2014 & 50ND075005 & 40A0001 & 48,80497 & -101,73472 & 19/09/1950 & $\\dots$ \\\\\n",
       "\t2 & NRCS Sept/2014 & 50ND075003 & 40A0013 & 48,93664 & -101,58499 & 18/09/1950 & $\\dots$ \\\\\n",
       "\t3 & NRCS Sept/2014 & 50ND075007 & 40A0067 & 48,8083 & -101,7075 & 19/09/1950 & $\\dots$ \\\\\n",
       "\t4 & NRCS Sept/2014 & 59ND045001 & 40A0102 & 46,44944 & -98,37 & 21/08/1959 & $\\dots$ \\\\\n",
       "\t5 & NRCS Sept/2014 & 50ND075006 & 40A0107 & 48,82111 & -101,74722 & 19/09/1950 & $\\dots$ \\\\\n",
       "\t6 & NRCS Sept/2014 & 50ND075008 & 40A0111 & 48,89914 & -101,55444 & 20/09/1950 & $\\dots$ \\\\\n",
       "\t7 & NRCS Sept/2014 & 50ND075009 & 40A0130 & 48,94275 & -101,58694 & 20/09/1950 & $\\dots$ \\\\\n",
       "\t8 & NRCS Sept/2014 & 50ND075010 & 40A0131 & 48,91528 & -101,60583 & 20/09/1950 & $\\dots$ \\\\\n",
       "\t9 & NRCS Sept/2014 & S1949CO049005 & 40A0138 & \\emph{missing} & \\emph{missing} & 02/09/1949 & $\\dots$ \\\\\n",
       "\t10 & NRCS Sept/2014 & S1949CO049007 & 40A0140 & \\emph{missing} & \\emph{missing} & 31/08/1949 & $\\dots$ \\\\\n",
       "\t11 & NRCS Sept/2014 & S1964TN157003 & 40A0158 & \\emph{missing} & \\emph{missing} & 01/03/1964 & $\\dots$ \\\\\n",
       "\t12 & NRCS Sept/2014 & S1958WV025003 & 40A0162 & \\emph{missing} & \\emph{missing} & 01/06/1958 & $\\dots$ \\\\\n",
       "\t13 & NRCS Sept/2014 & 67FN220000 & 40A0165 & -15,66667 & -47,78333 & 01/03/1967 & $\\dots$ \\\\\n",
       "\t14 & NRCS Sept/2014 & S1960NM013002 & 40A0169 & 32,3168 & -106,76723 & 12/11/1960 & $\\dots$ \\\\\n",
       "\t15 & NRCS Sept/2014 & S1964AZ003018 & 40A0187 & 32,40039 & -109,96149 & 19/10/1964 & $\\dots$ \\\\\n",
       "\t16 & NRCS Sept/2014 & S1961NM013007 & 40A0190 & 32,29736 & -106,90807 & 05/05/1961 & $\\dots$ \\\\\n",
       "\t17 & NRCS Sept/2014 & S1967TX141003 & 40A0197 & 31,54167 & -106,19195 & 02/03/1967 & $\\dots$ \\\\\n",
       "\t18 & NRCS Sept/2014 & S1965HI001013 & 40A0204 & 19,90833 & -155,39166 & 09/04/1965 & $\\dots$ \\\\\n",
       "\t19 & NRCS Sept/2014 & S1960MA003007 & 40A0206 & 42,21387 & -73,40565 & 09/06/1960 & $\\dots$ \\\\\n",
       "\t20 & NRCS Sept/2014 & S1961PR047002 & 40A0209 & 18,24167 & -66,28389 & 12/03/1961 & $\\dots$ \\\\\n",
       "\t21 & NRCS Sept/2014 & S1965NE181001 & 40A0219 & 40,26279 & -98,39009 & 21/04/1965 & $\\dots$ \\\\\n",
       "\t22 & NRCS Sept/2014 & S1965CA053004 & 40A0224 & 36,28333 & -121,1 & 18/05/1965 & $\\dots$ \\\\\n",
       "\t23 & NRCS Sept/2014 & S1966NV007004 & 40A0225 & 41,10184 & -116,13232 & 06/05/1966 & $\\dots$ \\\\\n",
       "\t24 & NRCS Sept/2014 & 65FN190002 & 40A0235 & 51,16667 & 4,83333 & 01/04/1965 & $\\dots$ \\\\\n",
       "\t25 & NRCS Sept/2014 & S1965NC101002 & 40A0237 & 35,365 & -78,54778 & 20/10/1965 & $\\dots$ \\\\\n",
       "\t26 & NRCS Sept/2014 & S1963PR063002 & 40A0247 & 18,2575 & -65,65945 & 01/10/1965 & $\\dots$ \\\\\n",
       "\t27 & NRCS Sept/2014 & S1964CA073008 & 40A0251 & 33,26389 & -117,29667 & 11/03/1964 & $\\dots$ \\\\\n",
       "\t28 & NRCS Sept/2014 & S1957NY033001 & 40A0257 & 44,98195 & -74,48333 & 23/09/1957 & $\\dots$ \\\\\n",
       "\t29 & NRCS Sept/2014 & S1957NY045001 & 40A0267 & 43,99917 & -75,90028 & 26/09/1957 & $\\dots$ \\\\\n",
       "\t30 & NRCS Sept/2014 & S1957NY055001 & 40A0275 & \\emph{missing} & \\emph{missing} & 30/09/1957 & $\\dots$ \\\\\n",
       "\t$\\dots$ & $\\dots$ & $\\dots$ & $\\dots$ & $\\dots$ & $\\dots$ & $\\dots$ &  \\\\\n",
       "\\end{tabular}\n"
      ],
      "text/plain": [
       "19196×9 DataFrame. Omitted printing of 7 columns\n",
       "│ Row   │ dataset_name                            │ site_name     │\n",
       "│       │ \u001b[90mString\u001b[39m                                  │ \u001b[90mString\u001b[39m        │\n",
       "├───────┼─────────────────────────────────────────┼───────────────┤\n",
       "│ 1     │ NRCS Sept/2014                          │ 50ND075005    │\n",
       "│ 2     │ NRCS Sept/2014                          │ 50ND075003    │\n",
       "│ 3     │ NRCS Sept/2014                          │ 50ND075007    │\n",
       "│ 4     │ NRCS Sept/2014                          │ 59ND045001    │\n",
       "│ 5     │ NRCS Sept/2014                          │ 50ND075006    │\n",
       "│ 6     │ NRCS Sept/2014                          │ 50ND075008    │\n",
       "│ 7     │ NRCS Sept/2014                          │ 50ND075009    │\n",
       "│ 8     │ NRCS Sept/2014                          │ 50ND075010    │\n",
       "│ 9     │ NRCS Sept/2014                          │ S1949CO049005 │\n",
       "│ 10    │ NRCS Sept/2014                          │ S1949CO049007 │\n",
       "⋮\n",
       "│ 19186 │ Worldwide soil carbon and nitrogen data │ TY24 JP       │\n",
       "│ 19187 │ Worldwide soil carbon and nitrogen data │ TY25 JP       │\n",
       "│ 19188 │ Worldwide soil carbon and nitrogen data │ TY26 JP       │\n",
       "│ 19189 │ Worldwide soil carbon and nitrogen data │ TY28 JP       │\n",
       "│ 19190 │ Worldwide soil carbon and nitrogen data │ TY29 JP       │\n",
       "│ 19191 │ Worldwide soil carbon and nitrogen data │ TY30 JP       │\n",
       "│ 19192 │ Worldwide soil carbon and nitrogen data │ TY31 JP       │\n",
       "│ 19193 │ Worldwide soil carbon and nitrogen data │ TY32 JP       │\n",
       "│ 19194 │ Worldwide soil carbon and nitrogen data │ TY33 JP       │\n",
       "│ 19195 │ Worldwide soil carbon and nitrogen data │ TY34 JP       │\n",
       "│ 19196 │ Worldwide soil carbon and nitrogen data │ TY35 JP       │"
      ]
     },
     "execution_count": 66,
     "metadata": {},
     "output_type": "execute_result"
    }
   ],
   "source": [
    "#final results\n",
    "df_final = innerjoin(df_join_first, df_tops_bots, on = [:site_name,:profile_name])"
   ]
  },
  {
   "cell_type": "code",
   "execution_count": 67,
   "metadata": {},
   "outputs": [
    {
     "data": {
      "text/plain": [
       "\"stored_orgc_ISCN_jup.csv\""
      ]
     },
     "execution_count": 67,
     "metadata": {},
     "output_type": "execute_result"
    }
   ],
   "source": [
    "CSV.write(\"stored_orgc_ISCN_jup.csv\", df_final)"
   ]
  },
  {
   "cell_type": "code",
   "execution_count": null,
   "metadata": {},
   "outputs": [],
   "source": []
  }
 ],
 "metadata": {
  "kernelspec": {
   "display_name": "Julia 1.5.3",
   "language": "julia",
   "name": "julia-1.5"
  },
  "language_info": {
   "file_extension": ".jl",
   "mimetype": "application/julia",
   "name": "julia",
   "version": "1.5.3"
  }
 },
 "nbformat": 4,
 "nbformat_minor": 2
}
