{
 "cells": [
  {
   "cell_type": "markdown",
   "metadata": {},
   "source": [
    "In this notebook we calculate Stored Carbon from an ISRIC dataset, more specifically the ISRIC-WISE Harmonized Global Soil Profile Dataset v3.1 available here: https://data.isric.org/geonetwork/srv/eng/catalog.search#/metadata/a351682c-330a-4995-a5a1-57ad160e621c\""
   ]
  },
  {
   "cell_type": "markdown",
   "metadata": {},
   "source": [
    "The dataset (in MS Access format) was downloaded and split into .csv files, available in a .zip here:\n",
    "\n",
    "https://drive.google.com/file/d/1wuhyplJ7klD4hV7BsAGSalnXjc5a4GK4/view?usp=sharing"
   ]
  },
  {
   "cell_type": "code",
   "execution_count": 24,
   "metadata": {},
   "outputs": [],
   "source": [
    "using Pkg"
   ]
  },
  {
   "cell_type": "code",
   "execution_count": 25,
   "metadata": {
    "collapsed": true
   },
   "outputs": [
    {
     "name": "stderr",
     "output_type": "stream",
     "text": [
      "\u001b[32m\u001b[1m  Resolving\u001b[22m\u001b[39m package versions...\n",
      "\u001b[32m\u001b[1mNo Changes\u001b[22m\u001b[39m to `~/.julia/environments/v1.5/Project.toml`\n",
      "\u001b[32m\u001b[1mNo Changes\u001b[22m\u001b[39m to `~/.julia/environments/v1.5/Manifest.toml`\n"
     ]
    }
   ],
   "source": [
    "Pkg.add([\"Plots\",\"DataFrames\", \"CSV\", \"Query\", \"StatsBase\"])"
   ]
  },
  {
   "cell_type": "code",
   "execution_count": 26,
   "metadata": {},
   "outputs": [],
   "source": [
    "using Plots, DataFrames, CSV, Query, StatsBase"
   ]
  },
  {
   "cell_type": "markdown",
   "metadata": {},
   "source": [
    "Let's import the soil horizon data:"
   ]
  },
  {
   "cell_type": "code",
   "execution_count": 27,
   "metadata": {},
   "outputs": [
    {
     "name": "stderr",
     "output_type": "stream",
     "text": [
      "┌ Warning: thread = 1 warning: only found 30 / 31 columns around data row: 47834. Filling remaining columns with `missing`\n",
      "└ @ CSV /Users/Daniele/.julia/packages/CSV/la2cd/src/file.jl:603\n"
     ]
    },
    {
     "data": {
      "text/html": [
       "<table class=\"data-frame\"><thead><tr><th></th><th>WISE3_ID</th><th>HONU</th><th>DESIG</th><th>TOPDEP</th><th>BOTDEP</th><th>MCOLOR</th><th>DCOLOR</th><th>ORGC</th><th>TOTN</th><th>CACO3</th></tr><tr><th></th><th>String</th><th>Int64</th><th>String?</th><th>Int64</th><th>Int64</th><th>String?</th><th>String?</th><th>String?</th><th>String?</th><th>String?</th></tr></thead><tbody><p>47,833 rows × 31 columns (omitted printing of 21 columns)</p><tr><th>1</th><td>AF0001</td><td>1</td><td><em>missing</em></td><td>0</td><td>15</td><td>10YR4/3</td><td>10YR4/2</td><td>7,6</td><td>0,6</td><td>93</td></tr><tr><th>2</th><td>AF0001</td><td>2</td><td><em>missing</em></td><td>15</td><td>60</td><td>10YR5/3</td><td>10YR5/2</td><td>2,3</td><td>0,3</td><td>177</td></tr><tr><th>3</th><td>AF0001</td><td>3</td><td><em>missing</em></td><td>60</td><td>150</td><td>10YR5/3</td><td><em>missing</em></td><td>0,9</td><td>0,3</td><td>182</td></tr><tr><th>4</th><td>AF0002</td><td>1</td><td><em>missing</em></td><td>0</td><td>20</td><td>10YR4/2</td><td><em>missing</em></td><td>12,8</td><td>0,9</td><td>191</td></tr><tr><th>5</th><td>AF0002</td><td>2</td><td><em>missing</em></td><td>20</td><td>60</td><td>10YR4/2</td><td><em>missing</em></td><td>6</td><td>0,6</td><td>192</td></tr><tr><th>6</th><td>AF0002</td><td>3</td><td><em>missing</em></td><td>60</td><td>110</td><td>10YR4/3</td><td><em>missing</em></td><td>3,9</td><td>0,6</td><td>203</td></tr><tr><th>7</th><td>AF0002</td><td>4</td><td><em>missing</em></td><td>110</td><td>170</td><td>10YR4/3</td><td><em>missing</em></td><td>2,7</td><td><em>missing</em></td><td>240</td></tr><tr><th>8</th><td>AF0003</td><td>1</td><td>A</td><td>0</td><td>20</td><td>10YR4/2</td><td><em>missing</em></td><td>5,9</td><td>0,7</td><td>169</td></tr><tr><th>9</th><td>AF0003</td><td>2</td><td>Bg</td><td>20</td><td>50</td><td>10YR4/2</td><td><em>missing</em></td><td>2,4</td><td>0,4</td><td>138</td></tr><tr><th>10</th><td>AF0003</td><td>3</td><td>Cg</td><td>50</td><td>110</td><td>10YR4/3</td><td><em>missing</em></td><td><em>missing</em></td><td><em>missing</em></td><td>196</td></tr><tr><th>11</th><td>AF0004</td><td>1</td><td><em>missing</em></td><td>0</td><td>15</td><td>10YR4/2</td><td><em>missing</em></td><td>14,6</td><td><em>missing</em></td><td>186</td></tr><tr><th>12</th><td>AF0004</td><td>2</td><td><em>missing</em></td><td>15</td><td>35</td><td>10YR4/3</td><td><em>missing</em></td><td>8,4</td><td><em>missing</em></td><td>228</td></tr><tr><th>13</th><td>AF0004</td><td>3</td><td><em>missing</em></td><td>35</td><td>70</td><td>10YR4/3</td><td><em>missing</em></td><td><em>missing</em></td><td><em>missing</em></td><td>201</td></tr><tr><th>14</th><td>AF0004</td><td>4</td><td><em>missing</em></td><td>70</td><td>110</td><td>10YR7/2</td><td><em>missing</em></td><td><em>missing</em></td><td><em>missing</em></td><td>256</td></tr><tr><th>15</th><td>AF0004</td><td>5</td><td><em>missing</em></td><td>110</td><td>170</td><td>10YR5/1</td><td><em>missing</em></td><td><em>missing</em></td><td><em>missing</em></td><td>260</td></tr><tr><th>16</th><td>AF0004</td><td>6</td><td><em>missing</em></td><td>170</td><td>270</td><td><em>missing</em></td><td><em>missing</em></td><td><em>missing</em></td><td><em>missing</em></td><td><em>missing</em></td></tr><tr><th>17</th><td>AF0005</td><td>1</td><td><em>missing</em></td><td>0</td><td>4</td><td><em>missing</em></td><td><em>missing</em></td><td>3,1</td><td><em>missing</em></td><td>208</td></tr><tr><th>18</th><td>AF0005</td><td>2</td><td><em>missing</em></td><td>4</td><td>20</td><td>10YR4/3</td><td><em>missing</em></td><td>3,5</td><td><em>missing</em></td><td>206</td></tr><tr><th>19</th><td>AF0005</td><td>3</td><td><em>missing</em></td><td>20</td><td>45</td><td>10YR5/3</td><td><em>missing</em></td><td>3,1</td><td><em>missing</em></td><td>219</td></tr><tr><th>20</th><td>AF0005</td><td>4</td><td><em>missing</em></td><td>45</td><td>100</td><td>10YR5/3</td><td><em>missing</em></td><td>2,1</td><td><em>missing</em></td><td>245</td></tr><tr><th>21</th><td>AF0005</td><td>5</td><td><em>missing</em></td><td>100</td><td>160</td><td>10YR5/4</td><td><em>missing</em></td><td>1,2</td><td><em>missing</em></td><td>247</td></tr><tr><th>22</th><td>AF0005</td><td>6</td><td><em>missing</em></td><td>160</td><td>190</td><td>10YR6/3</td><td><em>missing</em></td><td>0,6</td><td><em>missing</em></td><td>247</td></tr><tr><th>23</th><td>AL0001</td><td>1</td><td>A</td><td>0</td><td>24</td><td><em>missing</em></td><td><em>missing</em></td><td>6,6</td><td><em>missing</em></td><td>5</td></tr><tr><th>24</th><td>AL0001</td><td>2</td><td>A1</td><td>24</td><td>44</td><td><em>missing</em></td><td><em>missing</em></td><td>10,8</td><td><em>missing</em></td><td><em>missing</em></td></tr><tr><th>25</th><td>AL0001</td><td>3</td><td>AB</td><td>44</td><td>74</td><td><em>missing</em></td><td><em>missing</em></td><td>8,4</td><td><em>missing</em></td><td>1</td></tr><tr><th>26</th><td>AL0001</td><td>4</td><td>B</td><td>74</td><td>94</td><td><em>missing</em></td><td><em>missing</em></td><td>7,2</td><td><em>missing</em></td><td>1</td></tr><tr><th>27</th><td>AL0002</td><td>1</td><td>Ap</td><td>0</td><td>24</td><td><em>missing</em></td><td><em>missing</em></td><td>11,3</td><td><em>missing</em></td><td>116</td></tr><tr><th>28</th><td>AL0002</td><td>2</td><td>B</td><td>24</td><td>65</td><td><em>missing</em></td><td><em>missing</em></td><td>11,3</td><td><em>missing</em></td><td>117</td></tr><tr><th>29</th><td>AL0002</td><td>3</td><td>B2</td><td>65</td><td>87</td><td><em>missing</em></td><td><em>missing</em></td><td>7,3</td><td><em>missing</em></td><td>61</td></tr><tr><th>30</th><td>AL0003</td><td>1</td><td>Ap</td><td>0</td><td>18</td><td><em>missing</em></td><td><em>missing</em></td><td>9,3</td><td><em>missing</em></td><td>1</td></tr><tr><th>&vellip;</th><td>&vellip;</td><td>&vellip;</td><td>&vellip;</td><td>&vellip;</td><td>&vellip;</td><td>&vellip;</td><td>&vellip;</td><td>&vellip;</td><td>&vellip;</td><td>&vellip;</td></tr></tbody></table>"
      ],
      "text/latex": [
       "\\begin{tabular}{r|ccccccccccc}\n",
       "\t& WISE3\\_ID & HONU & DESIG & TOPDEP & BOTDEP & MCOLOR & DCOLOR & ORGC & TOTN & CACO3 & \\\\\n",
       "\t\\hline\n",
       "\t& String & Int64 & String? & Int64 & Int64 & String? & String? & String? & String? & String? & \\\\\n",
       "\t\\hline\n",
       "\t1 & AF0001 & 1 & \\emph{missing} & 0 & 15 & 10YR4/3 & 10YR4/2 & 7,6 & 0,6 & 93 & $\\dots$ \\\\\n",
       "\t2 & AF0001 & 2 & \\emph{missing} & 15 & 60 & 10YR5/3 & 10YR5/2 & 2,3 & 0,3 & 177 & $\\dots$ \\\\\n",
       "\t3 & AF0001 & 3 & \\emph{missing} & 60 & 150 & 10YR5/3 & \\emph{missing} & 0,9 & 0,3 & 182 & $\\dots$ \\\\\n",
       "\t4 & AF0002 & 1 & \\emph{missing} & 0 & 20 & 10YR4/2 & \\emph{missing} & 12,8 & 0,9 & 191 & $\\dots$ \\\\\n",
       "\t5 & AF0002 & 2 & \\emph{missing} & 20 & 60 & 10YR4/2 & \\emph{missing} & 6 & 0,6 & 192 & $\\dots$ \\\\\n",
       "\t6 & AF0002 & 3 & \\emph{missing} & 60 & 110 & 10YR4/3 & \\emph{missing} & 3,9 & 0,6 & 203 & $\\dots$ \\\\\n",
       "\t7 & AF0002 & 4 & \\emph{missing} & 110 & 170 & 10YR4/3 & \\emph{missing} & 2,7 & \\emph{missing} & 240 & $\\dots$ \\\\\n",
       "\t8 & AF0003 & 1 & A & 0 & 20 & 10YR4/2 & \\emph{missing} & 5,9 & 0,7 & 169 & $\\dots$ \\\\\n",
       "\t9 & AF0003 & 2 & Bg & 20 & 50 & 10YR4/2 & \\emph{missing} & 2,4 & 0,4 & 138 & $\\dots$ \\\\\n",
       "\t10 & AF0003 & 3 & Cg & 50 & 110 & 10YR4/3 & \\emph{missing} & \\emph{missing} & \\emph{missing} & 196 & $\\dots$ \\\\\n",
       "\t11 & AF0004 & 1 & \\emph{missing} & 0 & 15 & 10YR4/2 & \\emph{missing} & 14,6 & \\emph{missing} & 186 & $\\dots$ \\\\\n",
       "\t12 & AF0004 & 2 & \\emph{missing} & 15 & 35 & 10YR4/3 & \\emph{missing} & 8,4 & \\emph{missing} & 228 & $\\dots$ \\\\\n",
       "\t13 & AF0004 & 3 & \\emph{missing} & 35 & 70 & 10YR4/3 & \\emph{missing} & \\emph{missing} & \\emph{missing} & 201 & $\\dots$ \\\\\n",
       "\t14 & AF0004 & 4 & \\emph{missing} & 70 & 110 & 10YR7/2 & \\emph{missing} & \\emph{missing} & \\emph{missing} & 256 & $\\dots$ \\\\\n",
       "\t15 & AF0004 & 5 & \\emph{missing} & 110 & 170 & 10YR5/1 & \\emph{missing} & \\emph{missing} & \\emph{missing} & 260 & $\\dots$ \\\\\n",
       "\t16 & AF0004 & 6 & \\emph{missing} & 170 & 270 & \\emph{missing} & \\emph{missing} & \\emph{missing} & \\emph{missing} & \\emph{missing} & $\\dots$ \\\\\n",
       "\t17 & AF0005 & 1 & \\emph{missing} & 0 & 4 & \\emph{missing} & \\emph{missing} & 3,1 & \\emph{missing} & 208 & $\\dots$ \\\\\n",
       "\t18 & AF0005 & 2 & \\emph{missing} & 4 & 20 & 10YR4/3 & \\emph{missing} & 3,5 & \\emph{missing} & 206 & $\\dots$ \\\\\n",
       "\t19 & AF0005 & 3 & \\emph{missing} & 20 & 45 & 10YR5/3 & \\emph{missing} & 3,1 & \\emph{missing} & 219 & $\\dots$ \\\\\n",
       "\t20 & AF0005 & 4 & \\emph{missing} & 45 & 100 & 10YR5/3 & \\emph{missing} & 2,1 & \\emph{missing} & 245 & $\\dots$ \\\\\n",
       "\t21 & AF0005 & 5 & \\emph{missing} & 100 & 160 & 10YR5/4 & \\emph{missing} & 1,2 & \\emph{missing} & 247 & $\\dots$ \\\\\n",
       "\t22 & AF0005 & 6 & \\emph{missing} & 160 & 190 & 10YR6/3 & \\emph{missing} & 0,6 & \\emph{missing} & 247 & $\\dots$ \\\\\n",
       "\t23 & AL0001 & 1 & A & 0 & 24 & \\emph{missing} & \\emph{missing} & 6,6 & \\emph{missing} & 5 & $\\dots$ \\\\\n",
       "\t24 & AL0001 & 2 & A1 & 24 & 44 & \\emph{missing} & \\emph{missing} & 10,8 & \\emph{missing} & \\emph{missing} & $\\dots$ \\\\\n",
       "\t25 & AL0001 & 3 & AB & 44 & 74 & \\emph{missing} & \\emph{missing} & 8,4 & \\emph{missing} & 1 & $\\dots$ \\\\\n",
       "\t26 & AL0001 & 4 & B & 74 & 94 & \\emph{missing} & \\emph{missing} & 7,2 & \\emph{missing} & 1 & $\\dots$ \\\\\n",
       "\t27 & AL0002 & 1 & Ap & 0 & 24 & \\emph{missing} & \\emph{missing} & 11,3 & \\emph{missing} & 116 & $\\dots$ \\\\\n",
       "\t28 & AL0002 & 2 & B & 24 & 65 & \\emph{missing} & \\emph{missing} & 11,3 & \\emph{missing} & 117 & $\\dots$ \\\\\n",
       "\t29 & AL0002 & 3 & B2 & 65 & 87 & \\emph{missing} & \\emph{missing} & 7,3 & \\emph{missing} & 61 & $\\dots$ \\\\\n",
       "\t30 & AL0003 & 1 & Ap & 0 & 18 & \\emph{missing} & \\emph{missing} & 9,3 & \\emph{missing} & 1 & $\\dots$ \\\\\n",
       "\t$\\dots$ & $\\dots$ & $\\dots$ & $\\dots$ & $\\dots$ & $\\dots$ & $\\dots$ & $\\dots$ & $\\dots$ & $\\dots$ & $\\dots$ &  \\\\\n",
       "\\end{tabular}\n"
      ],
      "text/plain": [
       "47833×31 DataFrame. Omitted printing of 24 columns\n",
       "│ Row   │ WISE3_ID │ HONU  │ DESIG   │ TOPDEP │ BOTDEP │ MCOLOR  │ DCOLOR  │\n",
       "│       │ \u001b[90mString\u001b[39m   │ \u001b[90mInt64\u001b[39m │ \u001b[90mString?\u001b[39m │ \u001b[90mInt64\u001b[39m  │ \u001b[90mInt64\u001b[39m  │ \u001b[90mString?\u001b[39m │ \u001b[90mString?\u001b[39m │\n",
       "├───────┼──────────┼───────┼─────────┼────────┼────────┼─────────┼─────────┤\n",
       "│ 1     │ AF0001   │ 1     │ \u001b[90mmissing\u001b[39m │ 0      │ 15     │ 10YR4/3 │ 10YR4/2 │\n",
       "│ 2     │ AF0001   │ 2     │ \u001b[90mmissing\u001b[39m │ 15     │ 60     │ 10YR5/3 │ 10YR5/2 │\n",
       "│ 3     │ AF0001   │ 3     │ \u001b[90mmissing\u001b[39m │ 60     │ 150    │ 10YR5/3 │ \u001b[90mmissing\u001b[39m │\n",
       "│ 4     │ AF0002   │ 1     │ \u001b[90mmissing\u001b[39m │ 0      │ 20     │ 10YR4/2 │ \u001b[90mmissing\u001b[39m │\n",
       "│ 5     │ AF0002   │ 2     │ \u001b[90mmissing\u001b[39m │ 20     │ 60     │ 10YR4/2 │ \u001b[90mmissing\u001b[39m │\n",
       "│ 6     │ AF0002   │ 3     │ \u001b[90mmissing\u001b[39m │ 60     │ 110    │ 10YR4/3 │ \u001b[90mmissing\u001b[39m │\n",
       "│ 7     │ AF0002   │ 4     │ \u001b[90mmissing\u001b[39m │ 110    │ 170    │ 10YR4/3 │ \u001b[90mmissing\u001b[39m │\n",
       "│ 8     │ AF0003   │ 1     │ A       │ 0      │ 20     │ 10YR4/2 │ \u001b[90mmissing\u001b[39m │\n",
       "│ 9     │ AF0003   │ 2     │ Bg      │ 20     │ 50     │ 10YR4/2 │ \u001b[90mmissing\u001b[39m │\n",
       "│ 10    │ AF0003   │ 3     │ Cg      │ 50     │ 110    │ 10YR4/3 │ \u001b[90mmissing\u001b[39m │\n",
       "⋮\n",
       "│ 47823 │ ZW0065   │ 4     │ BC      │ 46     │ 68     │ 5YR3/2  │ 5YR3/4  │\n",
       "│ 47824 │ ZW0066   │ 1     │ A1      │ 0      │ 24     │ 10YR3/1 │ 10YR3/1 │\n",
       "│ 47825 │ ZW0066   │ 2     │ A2      │ 24     │ 58     │ 10YR3/1 │ 10YR3/1 │\n",
       "│ 47826 │ ZW0066   │ 3     │ A3      │ 58     │ 92     │ 10YR3/1 │ 10YR3/1 │\n",
       "│ 47827 │ ZW0067   │ 1     │ Ah      │ 0      │ 27     │ 10YR5/3 │ \u001b[90mmissing\u001b[39m │\n",
       "│ 47828 │ ZW0067   │ 2     │ E1      │ 27     │ 52     │ 2.5Y6/3 │ \u001b[90mmissing\u001b[39m │\n",
       "│ 47829 │ ZW0067   │ 3     │ E2      │ 52     │ 71     │ 2.5Y6/3 │ \u001b[90mmissing\u001b[39m │\n",
       "│ 47830 │ ZW0067   │ 4     │ Bt      │ 71     │ 97     │ 2.5Y6/4 │ \u001b[90mmissing\u001b[39m │\n",
       "│ 47831 │ ZW0067   │ 5     │ Btv     │ 97     │ 162    │ 2.5Y7/3 │ \u001b[90mmissing\u001b[39m │\n",
       "│ 47832 │ ZW0067   │ 6     │ BC      │ 162    │ 199    │ 2.5Y7/3 │ \u001b[90mmissing\u001b[39m │\n",
       "│ 47833 │ ZW0067   │ 7     │ Cg      │ 199    │ 220    │ 10YR7/1 │ \u001b[90mmissing\u001b[39m │"
      ]
     },
     "execution_count": 27,
     "metadata": {},
     "output_type": "execute_result"
    }
   ],
   "source": [
    "df_horizon_orig = CSV.read(\"WISE3_HORIZON.csv\", DataFrame)"
   ]
  },
  {
   "cell_type": "markdown",
   "metadata": {},
   "source": [
    "First pass cleaning:"
   ]
  },
  {
   "cell_type": "code",
   "execution_count": 28,
   "metadata": {
    "scrolled": true
   },
   "outputs": [
    {
     "data": {
      "text/html": [
       "<table class=\"data-frame\"><thead><tr><th></th><th>WISE3_ID</th><th>HONU</th><th>DESIG</th><th>TOPDEP</th><th>BOTDEP</th><th>ORGC</th><th>BULKDENS</th></tr><tr><th></th><th>String</th><th>Int64</th><th>String</th><th>Int64</th><th>Int64</th><th>Float64</th><th>Float64</th></tr></thead><tbody><p>13,856 rows × 7 columns</p><tr><th>1</th><td>AL0007</td><td>1</td><td>Ap</td><td>0</td><td>25</td><td>9.8</td><td>1.64</td></tr><tr><th>2</th><td>AL0007</td><td>2</td><td>AB</td><td>25</td><td>49</td><td>7.8</td><td>1.62</td></tr><tr><th>3</th><td>AL0007</td><td>3</td><td>Bw1</td><td>49</td><td>83</td><td>5.9</td><td>1.57</td></tr><tr><th>4</th><td>AL0007</td><td>4</td><td>Bw2</td><td>83</td><td>116</td><td>6.9</td><td>1.63</td></tr><tr><th>5</th><td>AL0007</td><td>5</td><td>2C1</td><td>116</td><td>147</td><td>4.6</td><td>1.56</td></tr><tr><th>6</th><td>AL0007</td><td>6</td><td>2C2</td><td>147</td><td>160</td><td>4.6</td><td>1.45</td></tr><tr><th>7</th><td>AL0008</td><td>1</td><td>Ap-</td><td>0</td><td>17</td><td>11.5</td><td>1.61</td></tr><tr><th>8</th><td>AL0008</td><td>2</td><td>Bw1</td><td>17</td><td>38</td><td>8.1</td><td>1.55</td></tr><tr><th>9</th><td>AL0008</td><td>3</td><td>2Bw2</td><td>38</td><td>66</td><td>1.7</td><td>1.18</td></tr><tr><th>10</th><td>AL0008</td><td>4</td><td>2Bw3</td><td>66</td><td>100</td><td>1.5</td><td>0.89</td></tr><tr><th>11</th><td>AL0009</td><td>1</td><td>Ap1</td><td>0</td><td>13</td><td>10.2</td><td>1.67</td></tr><tr><th>12</th><td>AL0009</td><td>2</td><td>Ap2</td><td>13</td><td>28</td><td>10.6</td><td>1.73</td></tr><tr><th>13</th><td>AL0009</td><td>3</td><td>Ap3</td><td>28</td><td>48</td><td>7.9</td><td>1.72</td></tr><tr><th>14</th><td>AL0009</td><td>4</td><td>2Bw1</td><td>48</td><td>74</td><td>3.5</td><td>1.7</td></tr><tr><th>15</th><td>AL0009</td><td>5</td><td>2Bw2</td><td>74</td><td>97</td><td>2.5</td><td>1.67</td></tr><tr><th>16</th><td>AL0010</td><td>1</td><td>Ap</td><td>0</td><td>17</td><td>18.1</td><td>1.52</td></tr><tr><th>17</th><td>AL0010</td><td>2</td><td>Bw1</td><td>17</td><td>30</td><td>17.4</td><td>1.43</td></tr><tr><th>18</th><td>AL0010</td><td>3</td><td>Bw2</td><td>30</td><td>42</td><td>14.2</td><td>1.57</td></tr><tr><th>19</th><td>AL0010</td><td>4</td><td>Bw3</td><td>42</td><td>65</td><td>10.0</td><td>1.65</td></tr><tr><th>20</th><td>AL0010</td><td>5</td><td>2Bw4</td><td>65</td><td>110</td><td>4.0</td><td>1.0</td></tr><tr><th>21</th><td>AL0011</td><td>1</td><td>Ap</td><td>0</td><td>18</td><td>16.0</td><td>1.68</td></tr><tr><th>22</th><td>AL0011</td><td>2</td><td>Bt1</td><td>18</td><td>38</td><td>10.4</td><td>1.71</td></tr><tr><th>23</th><td>AL0011</td><td>3</td><td>Bt2</td><td>38</td><td>56</td><td>8.5</td><td>2.62</td></tr><tr><th>24</th><td>AL0011</td><td>4</td><td>2Bt3b</td><td>56</td><td>74</td><td>10.2</td><td>1.59</td></tr><tr><th>25</th><td>AL0011</td><td>5</td><td>2Bt4</td><td>74</td><td>99</td><td>5.1</td><td>1.66</td></tr><tr><th>26</th><td>AL0011</td><td>6</td><td>2Bt5</td><td>99</td><td>130</td><td>4.8</td><td>1.4</td></tr><tr><th>27</th><td>AL0012</td><td>1</td><td>Ap1</td><td>0</td><td>16</td><td>7.4</td><td>1.57</td></tr><tr><th>28</th><td>AL0012</td><td>2</td><td>Ap2</td><td>16</td><td>33</td><td>6.1</td><td>1.62</td></tr><tr><th>29</th><td>AL0012</td><td>3</td><td>Bw1</td><td>33</td><td>52</td><td>5.3</td><td>1.61</td></tr><tr><th>30</th><td>AL0012</td><td>4</td><td>Bw2</td><td>52</td><td>84</td><td>3.9</td><td>1.56</td></tr><tr><th>&vellip;</th><td>&vellip;</td><td>&vellip;</td><td>&vellip;</td><td>&vellip;</td><td>&vellip;</td><td>&vellip;</td><td>&vellip;</td></tr></tbody></table>"
      ],
      "text/latex": [
       "\\begin{tabular}{r|ccccccc}\n",
       "\t& WISE3\\_ID & HONU & DESIG & TOPDEP & BOTDEP & ORGC & BULKDENS\\\\\n",
       "\t\\hline\n",
       "\t& String & Int64 & String & Int64 & Int64 & Float64 & Float64\\\\\n",
       "\t\\hline\n",
       "\t1 & AL0007 & 1 & Ap & 0 & 25 & 9.8 & 1.64 \\\\\n",
       "\t2 & AL0007 & 2 & AB & 25 & 49 & 7.8 & 1.62 \\\\\n",
       "\t3 & AL0007 & 3 & Bw1 & 49 & 83 & 5.9 & 1.57 \\\\\n",
       "\t4 & AL0007 & 4 & Bw2 & 83 & 116 & 6.9 & 1.63 \\\\\n",
       "\t5 & AL0007 & 5 & 2C1 & 116 & 147 & 4.6 & 1.56 \\\\\n",
       "\t6 & AL0007 & 6 & 2C2 & 147 & 160 & 4.6 & 1.45 \\\\\n",
       "\t7 & AL0008 & 1 & Ap- & 0 & 17 & 11.5 & 1.61 \\\\\n",
       "\t8 & AL0008 & 2 & Bw1 & 17 & 38 & 8.1 & 1.55 \\\\\n",
       "\t9 & AL0008 & 3 & 2Bw2 & 38 & 66 & 1.7 & 1.18 \\\\\n",
       "\t10 & AL0008 & 4 & 2Bw3 & 66 & 100 & 1.5 & 0.89 \\\\\n",
       "\t11 & AL0009 & 1 & Ap1 & 0 & 13 & 10.2 & 1.67 \\\\\n",
       "\t12 & AL0009 & 2 & Ap2 & 13 & 28 & 10.6 & 1.73 \\\\\n",
       "\t13 & AL0009 & 3 & Ap3 & 28 & 48 & 7.9 & 1.72 \\\\\n",
       "\t14 & AL0009 & 4 & 2Bw1 & 48 & 74 & 3.5 & 1.7 \\\\\n",
       "\t15 & AL0009 & 5 & 2Bw2 & 74 & 97 & 2.5 & 1.67 \\\\\n",
       "\t16 & AL0010 & 1 & Ap & 0 & 17 & 18.1 & 1.52 \\\\\n",
       "\t17 & AL0010 & 2 & Bw1 & 17 & 30 & 17.4 & 1.43 \\\\\n",
       "\t18 & AL0010 & 3 & Bw2 & 30 & 42 & 14.2 & 1.57 \\\\\n",
       "\t19 & AL0010 & 4 & Bw3 & 42 & 65 & 10.0 & 1.65 \\\\\n",
       "\t20 & AL0010 & 5 & 2Bw4 & 65 & 110 & 4.0 & 1.0 \\\\\n",
       "\t21 & AL0011 & 1 & Ap & 0 & 18 & 16.0 & 1.68 \\\\\n",
       "\t22 & AL0011 & 2 & Bt1 & 18 & 38 & 10.4 & 1.71 \\\\\n",
       "\t23 & AL0011 & 3 & Bt2 & 38 & 56 & 8.5 & 2.62 \\\\\n",
       "\t24 & AL0011 & 4 & 2Bt3b & 56 & 74 & 10.2 & 1.59 \\\\\n",
       "\t25 & AL0011 & 5 & 2Bt4 & 74 & 99 & 5.1 & 1.66 \\\\\n",
       "\t26 & AL0011 & 6 & 2Bt5 & 99 & 130 & 4.8 & 1.4 \\\\\n",
       "\t27 & AL0012 & 1 & Ap1 & 0 & 16 & 7.4 & 1.57 \\\\\n",
       "\t28 & AL0012 & 2 & Ap2 & 16 & 33 & 6.1 & 1.62 \\\\\n",
       "\t29 & AL0012 & 3 & Bw1 & 33 & 52 & 5.3 & 1.61 \\\\\n",
       "\t30 & AL0012 & 4 & Bw2 & 52 & 84 & 3.9 & 1.56 \\\\\n",
       "\t$\\dots$ & $\\dots$ & $\\dots$ & $\\dots$ & $\\dots$ & $\\dots$ & $\\dots$ & $\\dots$ \\\\\n",
       "\\end{tabular}\n"
      ],
      "text/plain": [
       "13856×7 DataFrame\n",
       "│ Row   │ WISE3_ID │ HONU  │ DESIG  │ TOPDEP │ BOTDEP │ ORGC    │ BULKDENS │\n",
       "│       │ \u001b[90mString\u001b[39m   │ \u001b[90mInt64\u001b[39m │ \u001b[90mString\u001b[39m │ \u001b[90mInt64\u001b[39m  │ \u001b[90mInt64\u001b[39m  │ \u001b[90mFloat64\u001b[39m │ \u001b[90mFloat64\u001b[39m  │\n",
       "├───────┼──────────┼───────┼────────┼────────┼────────┼─────────┼──────────┤\n",
       "│ 1     │ AL0007   │ 1     │ Ap     │ 0      │ 25     │ 9.8     │ 1.64     │\n",
       "│ 2     │ AL0007   │ 2     │ AB     │ 25     │ 49     │ 7.8     │ 1.62     │\n",
       "│ 3     │ AL0007   │ 3     │ Bw1    │ 49     │ 83     │ 5.9     │ 1.57     │\n",
       "│ 4     │ AL0007   │ 4     │ Bw2    │ 83     │ 116    │ 6.9     │ 1.63     │\n",
       "│ 5     │ AL0007   │ 5     │ 2C1    │ 116    │ 147    │ 4.6     │ 1.56     │\n",
       "│ 6     │ AL0007   │ 6     │ 2C2    │ 147    │ 160    │ 4.6     │ 1.45     │\n",
       "│ 7     │ AL0008   │ 1     │ Ap-    │ 0      │ 17     │ 11.5    │ 1.61     │\n",
       "│ 8     │ AL0008   │ 2     │ Bw1    │ 17     │ 38     │ 8.1     │ 1.55     │\n",
       "│ 9     │ AL0008   │ 3     │ 2Bw2   │ 38     │ 66     │ 1.7     │ 1.18     │\n",
       "│ 10    │ AL0008   │ 4     │ 2Bw3   │ 66     │ 100    │ 1.5     │ 0.89     │\n",
       "⋮\n",
       "│ 13846 │ ZW0063   │ 3     │ Bt1    │ 19     │ 42     │ 7.8     │ 1.49     │\n",
       "│ 13847 │ ZW0063   │ 4     │ Bt2    │ 42     │ 71     │ 5.2     │ 1.56     │\n",
       "│ 13848 │ ZW0063   │ 5     │ Bt3    │ 71     │ 100    │ 3.7     │ 1.38     │\n",
       "│ 13849 │ ZW0063   │ 6     │ Bt4    │ 100    │ 138    │ 2.3     │ 1.44     │\n",
       "│ 13850 │ ZW0065   │ 1     │ Ap1    │ 0      │ 11     │ 10.2    │ 1.54     │\n",
       "│ 13851 │ ZW0065   │ 2     │ Ap2    │ 11     │ 24     │ 10.0    │ 1.64     │\n",
       "│ 13852 │ ZW0065   │ 3     │ Bt     │ 24     │ 46     │ 7.7     │ 1.6      │\n",
       "│ 13853 │ ZW0065   │ 4     │ BC     │ 46     │ 68     │ 6.4     │ 1.7      │\n",
       "│ 13854 │ ZW0066   │ 1     │ A1     │ 0      │ 24     │ 18.5    │ 1.63     │\n",
       "│ 13855 │ ZW0066   │ 2     │ A2     │ 24     │ 58     │ 14.8    │ 1.67     │\n",
       "│ 13856 │ ZW0066   │ 3     │ A3     │ 58     │ 92     │ 12.2    │ 1.59     │"
      ]
     },
     "execution_count": 28,
     "metadata": {},
     "output_type": "execute_result"
    }
   ],
   "source": [
    "df_hz = df_horizon_orig |> \n",
    "    #pick only relevant columns\t\n",
    "    @select(:WISE3_ID,:HONU,:DESIG,:TOPDEP,:BOTDEP,:ORGC,:BULKDENS) |>\n",
    "\n",
    "    #drop layers we can't have missing values for\n",
    "    @dropna(:BULKDENS,:ORGC,:TOPDEP,:BOTDEP) |>\n",
    "\n",
    "    #includes only layers with bot_depth greater than top_depth\n",
    "    @filter(_.BOTDEP > _.TOPDEP) |> \n",
    "\n",
    "    #filters out organic layers (missings -> Z, keep if neither 'O' or 'o' in DESIG)\n",
    "    @replacena(:DESIG=>\"Z\") |>\n",
    "    @filter(!occursin(\"O\",_.DESIG) && !occursin(\"o\",_.DESIG)) |> \n",
    "\n",
    "    #parse ORGC values and keep only non-negative ones\n",
    "    @mutate(ORGC = replace(_.ORGC,','=>'.')) |>\n",
    "    @mutate(ORGC = parse(Float64, _.ORGC)) |>\n",
    "    @filter(_.ORGC >= 0) |>\n",
    "\n",
    "    #parse BULKDENS values and keep only positive ones\n",
    "    @mutate(BULKDENS = replace(_.BULKDENS,','=>'.')) |>\n",
    "    @mutate(BULKDENS = parse(Float64, _.BULKDENS)) |>\n",
    "    @filter(_.BULKDENS > 0) |> \n",
    "\n",
    "    #keep only unique values\n",
    "    @unique() |> \n",
    "\n",
    "    DataFrame #13856 layers"
   ]
  },
  {
   "cell_type": "markdown",
   "metadata": {},
   "source": [
    "First stab at evaluating profiles for layer continuity:"
   ]
  },
  {
   "cell_type": "code",
   "execution_count": 29,
   "metadata": {},
   "outputs": [
    {
     "data": {
      "text/plain": [
       "continuity_check (generic function with 1 method)"
      ]
     },
     "execution_count": 29,
     "metadata": {},
     "output_type": "execute_result"
    }
   ],
   "source": [
    "function continuity_check(profile) \n",
    "    #the function assumes layers are ordered (e.g.  0 -> 20 -> 40)\n",
    "\n",
    "    top = profile.TOPDEP\n",
    "    bot = profile.BOTDEP\n",
    "\n",
    "    n_layers = length(top)\n",
    "\n",
    "    #1st layer is always good, from 2nd we check for matching depths at bot/top\n",
    "    mask = append!([true],[top[l] == bot[l-1] for l in 2:n_layers])\n",
    "\n",
    "    #if we run into a non-matching layer, we mark as 'false' all following ones\n",
    "    first_noMatch_id = findfirst(!, mask)\n",
    "\n",
    "    if isnothing(first_noMatch_id) == false\n",
    "        mask[first_noMatch_id:end] .= false\n",
    "    end\n",
    "\n",
    "    return mask\t\n",
    "end\n"
   ]
  },
  {
   "cell_type": "code",
   "execution_count": 30,
   "metadata": {},
   "outputs": [],
   "source": [
    "#as we keep at least the first layer of each profile, this list won't change \n",
    "unique_profiles = unique(df_hz.WISE3_ID);"
   ]
  },
  {
   "cell_type": "code",
   "execution_count": 31,
   "metadata": {},
   "outputs": [],
   "source": [
    "#computing continuous layers for the whole set, it'll be something like [true true false ...]\n",
    "\n",
    "layers_keep = Vector{Bool}(undef,0)\n",
    "\n",
    "for profile in unique_profiles\n",
    "\n",
    "    append!(layers_keep,continuity_check(df_hz[df_hz.WISE3_ID.==profile,:]))\n",
    "end\n"
   ]
  },
  {
   "cell_type": "markdown",
   "metadata": {},
   "source": [
    "An example of 'troubling' profile, 'AL00017':"
   ]
  },
  {
   "cell_type": "code",
   "execution_count": 32,
   "metadata": {
    "scrolled": true
   },
   "outputs": [
    {
     "data": {
      "text/html": [
       "<table class=\"data-frame\"><thead><tr><th></th><th>WISE3_ID</th><th>HONU</th><th>BULKDENS</th></tr><tr><th></th><th>String</th><th>Int64</th><th>String?</th></tr></thead><tbody><p>8 rows × 3 columns</p><tr><th>1</th><td>AL0017</td><td>1</td><td>1,57</td></tr><tr><th>2</th><td>AL0017</td><td>2</td><td>1,97</td></tr><tr><th>3</th><td>AL0017</td><td>3</td><td>1,59</td></tr><tr><th>4</th><td>AL0017</td><td>4</td><td>1,59</td></tr><tr><th>5</th><td>AL0017</td><td>5</td><td><em>missing</em></td></tr><tr><th>6</th><td>AL0017</td><td>6</td><td>1,67</td></tr><tr><th>7</th><td>AL0017</td><td>7</td><td>1,66</td></tr><tr><th>8</th><td>AL0017</td><td>8</td><td><em>missing</em></td></tr></tbody></table>"
      ],
      "text/latex": [
       "\\begin{tabular}{r|ccc}\n",
       "\t& WISE3\\_ID & HONU & BULKDENS\\\\\n",
       "\t\\hline\n",
       "\t& String & Int64 & String?\\\\\n",
       "\t\\hline\n",
       "\t1 & AL0017 & 1 & 1,57 \\\\\n",
       "\t2 & AL0017 & 2 & 1,97 \\\\\n",
       "\t3 & AL0017 & 3 & 1,59 \\\\\n",
       "\t4 & AL0017 & 4 & 1,59 \\\\\n",
       "\t5 & AL0017 & 5 & \\emph{missing} \\\\\n",
       "\t6 & AL0017 & 6 & 1,67 \\\\\n",
       "\t7 & AL0017 & 7 & 1,66 \\\\\n",
       "\t8 & AL0017 & 8 & \\emph{missing} \\\\\n",
       "\\end{tabular}\n"
      ],
      "text/plain": [
       "8×3 DataFrame\n",
       "│ Row │ WISE3_ID │ HONU  │ BULKDENS │\n",
       "│     │ \u001b[90mString\u001b[39m   │ \u001b[90mInt64\u001b[39m │ \u001b[90mString?\u001b[39m  │\n",
       "├─────┼──────────┼───────┼──────────┤\n",
       "│ 1   │ AL0017   │ 1     │ 1,57     │\n",
       "│ 2   │ AL0017   │ 2     │ 1,97     │\n",
       "│ 3   │ AL0017   │ 3     │ 1,59     │\n",
       "│ 4   │ AL0017   │ 4     │ 1,59     │\n",
       "│ 5   │ AL0017   │ 5     │ \u001b[90mmissing\u001b[39m  │\n",
       "│ 6   │ AL0017   │ 6     │ 1,67     │\n",
       "│ 7   │ AL0017   │ 7     │ 1,66     │\n",
       "│ 8   │ AL0017   │ 8     │ \u001b[90mmissing\u001b[39m  │"
      ]
     },
     "execution_count": 32,
     "metadata": {},
     "output_type": "execute_result"
    }
   ],
   "source": [
    "df_horizon_orig |> @filter(_.WISE3_ID == \"AL0017\") |>\n",
    "                   @select(:WISE3_ID, :HONU, :BULKDENS) |> \n",
    "                    DataFrame"
   ]
  },
  {
   "cell_type": "markdown",
   "metadata": {},
   "source": [
    "Bulk density is missing from layer #5 and #8 in the starting dataset"
   ]
  },
  {
   "cell_type": "code",
   "execution_count": 33,
   "metadata": {
    "scrolled": false
   },
   "outputs": [
    {
     "data": {
      "text/html": [
       "<table class=\"data-frame\"><thead><tr><th></th><th>WISE3_ID</th><th>HONU</th><th>DESIG</th><th>TOPDEP</th><th>BOTDEP</th><th>ORGC</th><th>BULKDENS</th></tr><tr><th></th><th>String</th><th>Int64</th><th>String</th><th>Int64</th><th>Int64</th><th>Float64</th><th>Float64</th></tr></thead><tbody><p>6 rows × 7 columns</p><tr><th>1</th><td>AL0017</td><td>1</td><td>Ap1</td><td>0</td><td>16</td><td>28.6</td><td>1.57</td></tr><tr><th>2</th><td>AL0017</td><td>2</td><td>Ap2</td><td>16</td><td>37</td><td>26.9</td><td>1.97</td></tr><tr><th>3</th><td>AL0017</td><td>3</td><td>Bt1</td><td>37</td><td>55</td><td>23.0</td><td>1.59</td></tr><tr><th>4</th><td>AL0017</td><td>4</td><td>Bt2</td><td>55</td><td>77</td><td>22.8</td><td>1.59</td></tr><tr><th>5</th><td>AL0017</td><td>6</td><td>3Bw1</td><td>85</td><td>112</td><td>28.7</td><td>1.67</td></tr><tr><th>6</th><td>AL0017</td><td>7</td><td>3Cg1</td><td>112</td><td>130</td><td>68.7</td><td>1.66</td></tr></tbody></table>"
      ],
      "text/latex": [
       "\\begin{tabular}{r|ccccccc}\n",
       "\t& WISE3\\_ID & HONU & DESIG & TOPDEP & BOTDEP & ORGC & BULKDENS\\\\\n",
       "\t\\hline\n",
       "\t& String & Int64 & String & Int64 & Int64 & Float64 & Float64\\\\\n",
       "\t\\hline\n",
       "\t1 & AL0017 & 1 & Ap1 & 0 & 16 & 28.6 & 1.57 \\\\\n",
       "\t2 & AL0017 & 2 & Ap2 & 16 & 37 & 26.9 & 1.97 \\\\\n",
       "\t3 & AL0017 & 3 & Bt1 & 37 & 55 & 23.0 & 1.59 \\\\\n",
       "\t4 & AL0017 & 4 & Bt2 & 55 & 77 & 22.8 & 1.59 \\\\\n",
       "\t5 & AL0017 & 6 & 3Bw1 & 85 & 112 & 28.7 & 1.67 \\\\\n",
       "\t6 & AL0017 & 7 & 3Cg1 & 112 & 130 & 68.7 & 1.66 \\\\\n",
       "\\end{tabular}\n"
      ],
      "text/plain": [
       "6×7 DataFrame\n",
       "│ Row │ WISE3_ID │ HONU  │ DESIG  │ TOPDEP │ BOTDEP │ ORGC    │ BULKDENS │\n",
       "│     │ \u001b[90mString\u001b[39m   │ \u001b[90mInt64\u001b[39m │ \u001b[90mString\u001b[39m │ \u001b[90mInt64\u001b[39m  │ \u001b[90mInt64\u001b[39m  │ \u001b[90mFloat64\u001b[39m │ \u001b[90mFloat64\u001b[39m  │\n",
       "├─────┼──────────┼───────┼────────┼────────┼────────┼─────────┼──────────┤\n",
       "│ 1   │ AL0017   │ 1     │ Ap1    │ 0      │ 16     │ 28.6    │ 1.57     │\n",
       "│ 2   │ AL0017   │ 2     │ Ap2    │ 16     │ 37     │ 26.9    │ 1.97     │\n",
       "│ 3   │ AL0017   │ 3     │ Bt1    │ 37     │ 55     │ 23.0    │ 1.59     │\n",
       "│ 4   │ AL0017   │ 4     │ Bt2    │ 55     │ 77     │ 22.8    │ 1.59     │\n",
       "│ 5   │ AL0017   │ 6     │ 3Bw1   │ 85     │ 112    │ 28.7    │ 1.67     │\n",
       "│ 6   │ AL0017   │ 7     │ 3Cg1   │ 112    │ 130    │ 68.7    │ 1.66     │"
      ]
     },
     "execution_count": 33,
     "metadata": {},
     "output_type": "execute_result"
    }
   ],
   "source": [
    "test_profile = df_hz[df_hz.WISE3_ID .== \"AL0017\",:]"
   ]
  },
  {
   "cell_type": "code",
   "execution_count": 34,
   "metadata": {
    "scrolled": true
   },
   "outputs": [
    {
     "data": {
      "text/plain": [
       "6-element Array{Bool,1}:\n",
       " 1\n",
       " 1\n",
       " 1\n",
       " 1\n",
       " 0\n",
       " 0"
      ]
     },
     "execution_count": 34,
     "metadata": {},
     "output_type": "execute_result"
    }
   ],
   "source": [
    "continuity_check(test_profile)"
   ]
  },
  {
   "cell_type": "code",
   "execution_count": 50,
   "metadata": {},
   "outputs": [
    {
     "data": {
      "image/svg+xml": [
       "<?xml version=\"1.0\" encoding=\"utf-8\"?>\n",
       "<svg xmlns=\"http://www.w3.org/2000/svg\" xmlns:xlink=\"http://www.w3.org/1999/xlink\" width=\"600\" height=\"400\" viewBox=\"0 0 2400 1600\">\n",
       "<defs>\n",
       "  <clipPath id=\"clip1600\">\n",
       "    <rect x=\"0\" y=\"0\" width=\"2400\" height=\"1600\"/>\n",
       "  </clipPath>\n",
       "</defs>\n",
       "<path clip-path=\"url(#clip1600)\" d=\"\n",
       "M0 1600 L2400 1600 L2400 0 L0 0  Z\n",
       "  \" fill=\"#ffffff\" fill-rule=\"evenodd\" fill-opacity=\"1\"/>\n",
       "<defs>\n",
       "  <clipPath id=\"clip1601\">\n",
       "    <rect x=\"480\" y=\"0\" width=\"1681\" height=\"1600\"/>\n",
       "  </clipPath>\n",
       "</defs>\n",
       "<path clip-path=\"url(#clip1600)\" d=\"\n",
       "M195.389 1487.47 L1152.76 1487.47 L1152.76 121.675 L195.389 121.675  Z\n",
       "  \" fill=\"#ffffff\" fill-rule=\"evenodd\" fill-opacity=\"1\"/>\n",
       "<defs>\n",
       "  <clipPath id=\"clip1602\">\n",
       "    <rect x=\"195\" y=\"121\" width=\"958\" height=\"1367\"/>\n",
       "  </clipPath>\n",
       "</defs>\n",
       "<polyline clip-path=\"url(#clip1602)\" style=\"stroke:#000000; stroke-width:2; stroke-opacity:0.1; fill:none\" points=\"\n",
       "  222.485,1487.47 222.485,121.675 \n",
       "  \"/>\n",
       "<polyline clip-path=\"url(#clip1602)\" style=\"stroke:#000000; stroke-width:2; stroke-opacity:0.1; fill:none\" points=\"\n",
       "  441.596,1487.47 441.596,121.675 \n",
       "  \"/>\n",
       "<polyline clip-path=\"url(#clip1602)\" style=\"stroke:#000000; stroke-width:2; stroke-opacity:0.1; fill:none\" points=\"\n",
       "  660.707,1487.47 660.707,121.675 \n",
       "  \"/>\n",
       "<polyline clip-path=\"url(#clip1602)\" style=\"stroke:#000000; stroke-width:2; stroke-opacity:0.1; fill:none\" points=\"\n",
       "  879.818,1487.47 879.818,121.675 \n",
       "  \"/>\n",
       "<polyline clip-path=\"url(#clip1602)\" style=\"stroke:#000000; stroke-width:2; stroke-opacity:0.1; fill:none\" points=\"\n",
       "  1098.93,1487.47 1098.93,121.675 \n",
       "  \"/>\n",
       "<polyline clip-path=\"url(#clip1602)\" style=\"stroke:#000000; stroke-width:2; stroke-opacity:0.1; fill:none\" points=\"\n",
       "  195.389,1151.48 1152.76,1151.48 \n",
       "  \"/>\n",
       "<polyline clip-path=\"url(#clip1602)\" style=\"stroke:#000000; stroke-width:2; stroke-opacity:0.1; fill:none\" points=\"\n",
       "  195.389,1151.48 1152.76,1151.48 \n",
       "  \"/>\n",
       "<polyline clip-path=\"url(#clip1602)\" style=\"stroke:#000000; stroke-width:2; stroke-opacity:0.1; fill:none\" points=\"\n",
       "  195.389,953.247 1152.76,953.247 \n",
       "  \"/>\n",
       "<polyline clip-path=\"url(#clip1602)\" style=\"stroke:#000000; stroke-width:2; stroke-opacity:0.1; fill:none\" points=\"\n",
       "  195.389,755.018 1152.76,755.018 \n",
       "  \"/>\n",
       "<polyline clip-path=\"url(#clip1602)\" style=\"stroke:#000000; stroke-width:2; stroke-opacity:0.1; fill:none\" points=\"\n",
       "  195.389,556.788 1152.76,556.788 \n",
       "  \"/>\n",
       "<polyline clip-path=\"url(#clip1602)\" style=\"stroke:#000000; stroke-width:2; stroke-opacity:0.1; fill:none\" points=\"\n",
       "  195.389,358.559 1152.76,358.559 \n",
       "  \"/>\n",
       "<polyline clip-path=\"url(#clip1602)\" style=\"stroke:#000000; stroke-width:2; stroke-opacity:0.1; fill:none\" points=\"\n",
       "  195.389,160.33 1152.76,160.33 \n",
       "  \"/>\n",
       "<polyline clip-path=\"url(#clip1600)\" style=\"stroke:#000000; stroke-width:4; stroke-opacity:1; fill:none\" points=\"\n",
       "  195.389,1487.47 1152.76,1487.47 \n",
       "  \"/>\n",
       "<polyline clip-path=\"url(#clip1600)\" style=\"stroke:#000000; stroke-width:4; stroke-opacity:1; fill:none\" points=\"\n",
       "  195.389,1487.47 195.389,121.675 \n",
       "  \"/>\n",
       "<polyline clip-path=\"url(#clip1600)\" style=\"stroke:#000000; stroke-width:4; stroke-opacity:1; fill:none\" points=\"\n",
       "  222.485,1487.47 222.485,1471.09 \n",
       "  \"/>\n",
       "<polyline clip-path=\"url(#clip1600)\" style=\"stroke:#000000; stroke-width:4; stroke-opacity:1; fill:none\" points=\"\n",
       "  441.596,1487.47 441.596,1471.09 \n",
       "  \"/>\n",
       "<polyline clip-path=\"url(#clip1600)\" style=\"stroke:#000000; stroke-width:4; stroke-opacity:1; fill:none\" points=\"\n",
       "  660.707,1487.47 660.707,1471.09 \n",
       "  \"/>\n",
       "<polyline clip-path=\"url(#clip1600)\" style=\"stroke:#000000; stroke-width:4; stroke-opacity:1; fill:none\" points=\"\n",
       "  879.818,1487.47 879.818,1471.09 \n",
       "  \"/>\n",
       "<polyline clip-path=\"url(#clip1600)\" style=\"stroke:#000000; stroke-width:4; stroke-opacity:1; fill:none\" points=\"\n",
       "  1098.93,1487.47 1098.93,1471.09 \n",
       "  \"/>\n",
       "<polyline clip-path=\"url(#clip1600)\" style=\"stroke:#000000; stroke-width:4; stroke-opacity:1; fill:none\" points=\"\n",
       "  195.389,1151.48 206.878,1151.48 \n",
       "  \"/>\n",
       "<polyline clip-path=\"url(#clip1600)\" style=\"stroke:#000000; stroke-width:4; stroke-opacity:1; fill:none\" points=\"\n",
       "  195.389,1151.48 206.878,1151.48 \n",
       "  \"/>\n",
       "<polyline clip-path=\"url(#clip1600)\" style=\"stroke:#000000; stroke-width:4; stroke-opacity:1; fill:none\" points=\"\n",
       "  195.389,953.247 206.878,953.247 \n",
       "  \"/>\n",
       "<polyline clip-path=\"url(#clip1600)\" style=\"stroke:#000000; stroke-width:4; stroke-opacity:1; fill:none\" points=\"\n",
       "  195.389,755.018 206.878,755.018 \n",
       "  \"/>\n",
       "<polyline clip-path=\"url(#clip1600)\" style=\"stroke:#000000; stroke-width:4; stroke-opacity:1; fill:none\" points=\"\n",
       "  195.389,556.788 206.878,556.788 \n",
       "  \"/>\n",
       "<polyline clip-path=\"url(#clip1600)\" style=\"stroke:#000000; stroke-width:4; stroke-opacity:1; fill:none\" points=\"\n",
       "  195.389,358.559 206.878,358.559 \n",
       "  \"/>\n",
       "<polyline clip-path=\"url(#clip1600)\" style=\"stroke:#000000; stroke-width:4; stroke-opacity:1; fill:none\" points=\"\n",
       "  195.389,160.33 206.878,160.33 \n",
       "  \"/>\n",
       "<g clip-path=\"url(#clip1600)\">\n",
       "<text style=\"fill:#000000; fill-opacity:1; font-family:Arial,Helvetica Neue,Helvetica,sans-serif; font-size:48px; text-anchor:middle;\" transform=\"rotate(0, 222.485, 1541.47)\" x=\"222.485\" y=\"1541.47\">0</text>\n",
       "</g>\n",
       "<g clip-path=\"url(#clip1600)\">\n",
       "<text style=\"fill:#000000; fill-opacity:1; font-family:Arial,Helvetica Neue,Helvetica,sans-serif; font-size:48px; text-anchor:middle;\" transform=\"rotate(0, 441.596, 1541.47)\" x=\"441.596\" y=\"1541.47\">25</text>\n",
       "</g>\n",
       "<g clip-path=\"url(#clip1600)\">\n",
       "<text style=\"fill:#000000; fill-opacity:1; font-family:Arial,Helvetica Neue,Helvetica,sans-serif; font-size:48px; text-anchor:middle;\" transform=\"rotate(0, 660.707, 1541.47)\" x=\"660.707\" y=\"1541.47\">50</text>\n",
       "</g>\n",
       "<g clip-path=\"url(#clip1600)\">\n",
       "<text style=\"fill:#000000; fill-opacity:1; font-family:Arial,Helvetica Neue,Helvetica,sans-serif; font-size:48px; text-anchor:middle;\" transform=\"rotate(0, 879.818, 1541.47)\" x=\"879.818\" y=\"1541.47\">75</text>\n",
       "</g>\n",
       "<g clip-path=\"url(#clip1600)\">\n",
       "<text style=\"fill:#000000; fill-opacity:1; font-family:Arial,Helvetica Neue,Helvetica,sans-serif; font-size:48px; text-anchor:middle;\" transform=\"rotate(0, 1098.93, 1541.47)\" x=\"1098.93\" y=\"1541.47\">100</text>\n",
       "</g>\n",
       "<g clip-path=\"url(#clip1600)\">\n",
       "<text style=\"fill:#000000; fill-opacity:1; font-family:Arial,Helvetica Neue,Helvetica,sans-serif; font-size:48px; text-anchor:end;\" transform=\"rotate(0, 171.389, 1168.98)\" x=\"171.389\" y=\"1168.98\">-100</text>\n",
       "</g>\n",
       "<g clip-path=\"url(#clip1600)\">\n",
       "<text style=\"fill:#000000; fill-opacity:1; font-family:Arial,Helvetica Neue,Helvetica,sans-serif; font-size:48px; text-anchor:end;\" transform=\"rotate(0, 171.389, 1168.98)\" x=\"171.389\" y=\"1168.98\">-100</text>\n",
       "</g>\n",
       "<g clip-path=\"url(#clip1600)\">\n",
       "<text style=\"fill:#000000; fill-opacity:1; font-family:Arial,Helvetica Neue,Helvetica,sans-serif; font-size:48px; text-anchor:end;\" transform=\"rotate(0, 171.389, 970.747)\" x=\"171.389\" y=\"970.747\">-80</text>\n",
       "</g>\n",
       "<g clip-path=\"url(#clip1600)\">\n",
       "<text style=\"fill:#000000; fill-opacity:1; font-family:Arial,Helvetica Neue,Helvetica,sans-serif; font-size:48px; text-anchor:end;\" transform=\"rotate(0, 171.389, 772.518)\" x=\"171.389\" y=\"772.518\">-60</text>\n",
       "</g>\n",
       "<g clip-path=\"url(#clip1600)\">\n",
       "<text style=\"fill:#000000; fill-opacity:1; font-family:Arial,Helvetica Neue,Helvetica,sans-serif; font-size:48px; text-anchor:end;\" transform=\"rotate(0, 171.389, 574.288)\" x=\"171.389\" y=\"574.288\">-40</text>\n",
       "</g>\n",
       "<g clip-path=\"url(#clip1600)\">\n",
       "<text style=\"fill:#000000; fill-opacity:1; font-family:Arial,Helvetica Neue,Helvetica,sans-serif; font-size:48px; text-anchor:end;\" transform=\"rotate(0, 171.389, 376.059)\" x=\"171.389\" y=\"376.059\">-20</text>\n",
       "</g>\n",
       "<g clip-path=\"url(#clip1600)\">\n",
       "<text style=\"fill:#000000; fill-opacity:1; font-family:Arial,Helvetica Neue,Helvetica,sans-serif; font-size:48px; text-anchor:end;\" transform=\"rotate(0, 171.389, 177.83)\" x=\"171.389\" y=\"177.83\">0</text>\n",
       "</g>\n",
       "<g clip-path=\"url(#clip1600)\">\n",
       "<text style=\"fill:#000000; fill-opacity:1; font-family:Arial,Helvetica Neue,Helvetica,sans-serif; font-size:84px; text-anchor:middle;\" transform=\"rotate(0, 674.073, 73.2)\" x=\"674.073\" y=\"73.2\">Organic carbon [g/Kg]</text>\n",
       "</g>\n",
       "<circle clip-path=\"url(#clip1602)\" style=\"fill:#000000; stroke:none; fill-opacity:1\" cx=\"473.148\" cy=\"239.622\" r=\"18\"/>\n",
       "<circle clip-path=\"url(#clip1602)\" style=\"fill:#009af9; stroke:none; fill-opacity:1\" cx=\"473.148\" cy=\"239.622\" r=\"14\"/>\n",
       "<circle clip-path=\"url(#clip1602)\" style=\"fill:#000000; stroke:none; fill-opacity:1\" cx=\"458.248\" cy=\"422.984\" r=\"18\"/>\n",
       "<circle clip-path=\"url(#clip1602)\" style=\"fill:#009af9; stroke:none; fill-opacity:1\" cx=\"458.248\" cy=\"422.984\" r=\"14\"/>\n",
       "<circle clip-path=\"url(#clip1602)\" style=\"fill:#000000; stroke:none; fill-opacity:1\" cx=\"424.067\" cy=\"616.257\" r=\"18\"/>\n",
       "<circle clip-path=\"url(#clip1602)\" style=\"fill:#009af9; stroke:none; fill-opacity:1\" cx=\"424.067\" cy=\"616.257\" r=\"14\"/>\n",
       "<circle clip-path=\"url(#clip1602)\" style=\"fill:#000000; stroke:none; fill-opacity:1\" cx=\"422.314\" cy=\"814.486\" r=\"18\"/>\n",
       "<circle clip-path=\"url(#clip1602)\" style=\"fill:#009af9; stroke:none; fill-opacity:1\" cx=\"422.314\" cy=\"814.486\" r=\"14\"/>\n",
       "<circle clip-path=\"url(#clip1602)\" style=\"fill:#000000; stroke:none; fill-opacity:1\" cx=\"474.024\" cy=\"1136.61\" r=\"18\"/>\n",
       "<circle clip-path=\"url(#clip1602)\" style=\"fill:#009af9; stroke:none; fill-opacity:1\" cx=\"474.024\" cy=\"1136.61\" r=\"14\"/>\n",
       "<circle clip-path=\"url(#clip1602)\" style=\"fill:#000000; stroke:none; fill-opacity:1\" cx=\"824.602\" cy=\"1359.62\" r=\"18\"/>\n",
       "<circle clip-path=\"url(#clip1602)\" style=\"fill:#009af9; stroke:none; fill-opacity:1\" cx=\"824.602\" cy=\"1359.62\" r=\"14\"/>\n",
       "<polyline clip-path=\"url(#clip1602)\" style=\"stroke:#000000; stroke-width:8; stroke-opacity:1; fill:none\" points=\"\n",
       "  231.249,923.512 240.013,923.512 248.778,923.512 257.542,923.512 266.307,923.512 275.071,923.512 283.836,923.512 292.6,923.512 301.365,923.512 310.129,923.512 \n",
       "  318.893,923.512 327.658,923.512 336.422,923.512 345.187,923.512 353.951,923.512 362.716,923.512 371.48,923.512 380.245,923.512 389.009,923.512 397.773,923.512 \n",
       "  406.538,923.512 415.302,923.512 424.067,923.512 432.831,923.512 441.596,923.512 450.36,923.512 459.125,923.512 467.889,923.512 476.653,923.512 485.418,923.512 \n",
       "  494.182,923.512 502.947,923.512 511.711,923.512 520.476,923.512 529.24,923.512 538.005,923.512 546.769,923.512 555.533,923.512 564.298,923.512 573.062,923.512 \n",
       "  581.827,923.512 590.591,923.512 599.356,923.512 608.12,923.512 616.885,923.512 625.649,923.512 634.413,923.512 643.178,923.512 651.942,923.512 660.707,923.512 \n",
       "  669.471,923.512 678.236,923.512 687,923.512 695.765,923.512 704.529,923.512 713.293,923.512 722.058,923.512 730.822,923.512 739.587,923.512 748.351,923.512 \n",
       "  757.116,923.512 765.88,923.512 774.645,923.512 783.409,923.512 792.173,923.512 800.938,923.512 809.702,923.512 818.467,923.512 827.231,923.512 835.996,923.512 \n",
       "  844.76,923.512 853.525,923.512 862.289,923.512 871.053,923.512 879.818,923.512 888.582,923.512 897.347,923.512 906.111,923.512 914.876,923.512 923.64,923.512 \n",
       "  932.405,923.512 941.169,923.512 949.933,923.512 958.698,923.512 967.462,923.512 976.227,923.512 984.991,923.512 993.756,923.512 1002.52,923.512 1011.28,923.512 \n",
       "  1020.05,923.512 1028.81,923.512 1037.58,923.512 1046.34,923.512 1055.11,923.512 1063.87,923.512 1072.64,923.512 1081.4,923.512 1090.16,923.512 1098.93,923.512 \n",
       "  \n",
       "  \"/>\n",
       "<path clip-path=\"url(#clip1600)\" d=\"\n",
       "M1395.39 1487.47 L2352.76 1487.47 L2352.76 121.675 L1395.39 121.675  Z\n",
       "  \" fill=\"#ffffff\" fill-rule=\"evenodd\" fill-opacity=\"1\"/>\n",
       "<defs>\n",
       "  <clipPath id=\"clip1603\">\n",
       "    <rect x=\"1395\" y=\"121\" width=\"958\" height=\"1367\"/>\n",
       "  </clipPath>\n",
       "</defs>\n",
       "<polyline clip-path=\"url(#clip1603)\" style=\"stroke:#000000; stroke-width:2; stroke-opacity:0.1; fill:none\" points=\"\n",
       "  1422.48,1487.47 1422.48,121.675 \n",
       "  \"/>\n",
       "<polyline clip-path=\"url(#clip1603)\" style=\"stroke:#000000; stroke-width:2; stroke-opacity:0.1; fill:none\" points=\"\n",
       "  1728.13,1487.47 1728.13,121.675 \n",
       "  \"/>\n",
       "<polyline clip-path=\"url(#clip1603)\" style=\"stroke:#000000; stroke-width:2; stroke-opacity:0.1; fill:none\" points=\"\n",
       "  2033.77,1487.47 2033.77,121.675 \n",
       "  \"/>\n",
       "<polyline clip-path=\"url(#clip1603)\" style=\"stroke:#000000; stroke-width:2; stroke-opacity:0.1; fill:none\" points=\"\n",
       "  2339.41,1487.47 2339.41,121.675 \n",
       "  \"/>\n",
       "<polyline clip-path=\"url(#clip1603)\" style=\"stroke:#000000; stroke-width:2; stroke-opacity:0.1; fill:none\" points=\"\n",
       "  1395.39,1151.48 2352.76,1151.48 \n",
       "  \"/>\n",
       "<polyline clip-path=\"url(#clip1603)\" style=\"stroke:#000000; stroke-width:2; stroke-opacity:0.1; fill:none\" points=\"\n",
       "  1395.39,1151.48 2352.76,1151.48 \n",
       "  \"/>\n",
       "<polyline clip-path=\"url(#clip1603)\" style=\"stroke:#000000; stroke-width:2; stroke-opacity:0.1; fill:none\" points=\"\n",
       "  1395.39,953.247 2352.76,953.247 \n",
       "  \"/>\n",
       "<polyline clip-path=\"url(#clip1603)\" style=\"stroke:#000000; stroke-width:2; stroke-opacity:0.1; fill:none\" points=\"\n",
       "  1395.39,755.018 2352.76,755.018 \n",
       "  \"/>\n",
       "<polyline clip-path=\"url(#clip1603)\" style=\"stroke:#000000; stroke-width:2; stroke-opacity:0.1; fill:none\" points=\"\n",
       "  1395.39,556.788 2352.76,556.788 \n",
       "  \"/>\n",
       "<polyline clip-path=\"url(#clip1603)\" style=\"stroke:#000000; stroke-width:2; stroke-opacity:0.1; fill:none\" points=\"\n",
       "  1395.39,358.559 2352.76,358.559 \n",
       "  \"/>\n",
       "<polyline clip-path=\"url(#clip1603)\" style=\"stroke:#000000; stroke-width:2; stroke-opacity:0.1; fill:none\" points=\"\n",
       "  1395.39,160.33 2352.76,160.33 \n",
       "  \"/>\n",
       "<polyline clip-path=\"url(#clip1600)\" style=\"stroke:#000000; stroke-width:4; stroke-opacity:1; fill:none\" points=\"\n",
       "  1395.39,1487.47 2352.76,1487.47 \n",
       "  \"/>\n",
       "<polyline clip-path=\"url(#clip1600)\" style=\"stroke:#000000; stroke-width:4; stroke-opacity:1; fill:none\" points=\"\n",
       "  1395.39,1487.47 1395.39,121.675 \n",
       "  \"/>\n",
       "<polyline clip-path=\"url(#clip1600)\" style=\"stroke:#000000; stroke-width:4; stroke-opacity:1; fill:none\" points=\"\n",
       "  1422.48,1487.47 1422.48,1471.09 \n",
       "  \"/>\n",
       "<polyline clip-path=\"url(#clip1600)\" style=\"stroke:#000000; stroke-width:4; stroke-opacity:1; fill:none\" points=\"\n",
       "  1728.13,1487.47 1728.13,1471.09 \n",
       "  \"/>\n",
       "<polyline clip-path=\"url(#clip1600)\" style=\"stroke:#000000; stroke-width:4; stroke-opacity:1; fill:none\" points=\"\n",
       "  2033.77,1487.47 2033.77,1471.09 \n",
       "  \"/>\n",
       "<polyline clip-path=\"url(#clip1600)\" style=\"stroke:#000000; stroke-width:4; stroke-opacity:1; fill:none\" points=\"\n",
       "  2339.41,1487.47 2339.41,1471.09 \n",
       "  \"/>\n",
       "<polyline clip-path=\"url(#clip1600)\" style=\"stroke:#000000; stroke-width:4; stroke-opacity:1; fill:none\" points=\"\n",
       "  1395.39,1151.48 1406.88,1151.48 \n",
       "  \"/>\n",
       "<polyline clip-path=\"url(#clip1600)\" style=\"stroke:#000000; stroke-width:4; stroke-opacity:1; fill:none\" points=\"\n",
       "  1395.39,1151.48 1406.88,1151.48 \n",
       "  \"/>\n",
       "<polyline clip-path=\"url(#clip1600)\" style=\"stroke:#000000; stroke-width:4; stroke-opacity:1; fill:none\" points=\"\n",
       "  1395.39,953.247 1406.88,953.247 \n",
       "  \"/>\n",
       "<polyline clip-path=\"url(#clip1600)\" style=\"stroke:#000000; stroke-width:4; stroke-opacity:1; fill:none\" points=\"\n",
       "  1395.39,755.018 1406.88,755.018 \n",
       "  \"/>\n",
       "<polyline clip-path=\"url(#clip1600)\" style=\"stroke:#000000; stroke-width:4; stroke-opacity:1; fill:none\" points=\"\n",
       "  1395.39,556.788 1406.88,556.788 \n",
       "  \"/>\n",
       "<polyline clip-path=\"url(#clip1600)\" style=\"stroke:#000000; stroke-width:4; stroke-opacity:1; fill:none\" points=\"\n",
       "  1395.39,358.559 1406.88,358.559 \n",
       "  \"/>\n",
       "<polyline clip-path=\"url(#clip1600)\" style=\"stroke:#000000; stroke-width:4; stroke-opacity:1; fill:none\" points=\"\n",
       "  1395.39,160.33 1406.88,160.33 \n",
       "  \"/>\n",
       "<g clip-path=\"url(#clip1600)\">\n",
       "<text style=\"fill:#000000; fill-opacity:1; font-family:Arial,Helvetica Neue,Helvetica,sans-serif; font-size:48px; text-anchor:middle;\" transform=\"rotate(0, 1422.48, 1541.47)\" x=\"1422.48\" y=\"1541.47\">0</text>\n",
       "</g>\n",
       "<g clip-path=\"url(#clip1600)\">\n",
       "<text style=\"fill:#000000; fill-opacity:1; font-family:Arial,Helvetica Neue,Helvetica,sans-serif; font-size:48px; text-anchor:middle;\" transform=\"rotate(0, 1728.13, 1541.47)\" x=\"1728.13\" y=\"1541.47\">1</text>\n",
       "</g>\n",
       "<g clip-path=\"url(#clip1600)\">\n",
       "<text style=\"fill:#000000; fill-opacity:1; font-family:Arial,Helvetica Neue,Helvetica,sans-serif; font-size:48px; text-anchor:middle;\" transform=\"rotate(0, 2033.77, 1541.47)\" x=\"2033.77\" y=\"1541.47\">2</text>\n",
       "</g>\n",
       "<g clip-path=\"url(#clip1600)\">\n",
       "<text style=\"fill:#000000; fill-opacity:1; font-family:Arial,Helvetica Neue,Helvetica,sans-serif; font-size:48px; text-anchor:middle;\" transform=\"rotate(0, 2339.41, 1541.47)\" x=\"2339.41\" y=\"1541.47\">3</text>\n",
       "</g>\n",
       "<g clip-path=\"url(#clip1600)\">\n",
       "<text style=\"fill:#000000; fill-opacity:1; font-family:Arial,Helvetica Neue,Helvetica,sans-serif; font-size:48px; text-anchor:end;\" transform=\"rotate(0, 1371.39, 1168.98)\" x=\"1371.39\" y=\"1168.98\">-100</text>\n",
       "</g>\n",
       "<g clip-path=\"url(#clip1600)\">\n",
       "<text style=\"fill:#000000; fill-opacity:1; font-family:Arial,Helvetica Neue,Helvetica,sans-serif; font-size:48px; text-anchor:end;\" transform=\"rotate(0, 1371.39, 1168.98)\" x=\"1371.39\" y=\"1168.98\">-100</text>\n",
       "</g>\n",
       "<g clip-path=\"url(#clip1600)\">\n",
       "<text style=\"fill:#000000; fill-opacity:1; font-family:Arial,Helvetica Neue,Helvetica,sans-serif; font-size:48px; text-anchor:end;\" transform=\"rotate(0, 1371.39, 970.747)\" x=\"1371.39\" y=\"970.747\">-80</text>\n",
       "</g>\n",
       "<g clip-path=\"url(#clip1600)\">\n",
       "<text style=\"fill:#000000; fill-opacity:1; font-family:Arial,Helvetica Neue,Helvetica,sans-serif; font-size:48px; text-anchor:end;\" transform=\"rotate(0, 1371.39, 772.518)\" x=\"1371.39\" y=\"772.518\">-60</text>\n",
       "</g>\n",
       "<g clip-path=\"url(#clip1600)\">\n",
       "<text style=\"fill:#000000; fill-opacity:1; font-family:Arial,Helvetica Neue,Helvetica,sans-serif; font-size:48px; text-anchor:end;\" transform=\"rotate(0, 1371.39, 574.288)\" x=\"1371.39\" y=\"574.288\">-40</text>\n",
       "</g>\n",
       "<g clip-path=\"url(#clip1600)\">\n",
       "<text style=\"fill:#000000; fill-opacity:1; font-family:Arial,Helvetica Neue,Helvetica,sans-serif; font-size:48px; text-anchor:end;\" transform=\"rotate(0, 1371.39, 376.059)\" x=\"1371.39\" y=\"376.059\">-20</text>\n",
       "</g>\n",
       "<g clip-path=\"url(#clip1600)\">\n",
       "<text style=\"fill:#000000; fill-opacity:1; font-family:Arial,Helvetica Neue,Helvetica,sans-serif; font-size:48px; text-anchor:end;\" transform=\"rotate(0, 1371.39, 177.83)\" x=\"1371.39\" y=\"177.83\">0</text>\n",
       "</g>\n",
       "<g clip-path=\"url(#clip1600)\">\n",
       "<text style=\"fill:#000000; fill-opacity:1; font-family:Arial,Helvetica Neue,Helvetica,sans-serif; font-size:84px; text-anchor:middle;\" transform=\"rotate(0, 1874.07, 73.2)\" x=\"1874.07\" y=\"73.2\">Bulk density [g/cm³]</text>\n",
       "</g>\n",
       "<circle clip-path=\"url(#clip1603)\" style=\"fill:#000000; stroke:none; fill-opacity:1\" cx=\"1902.34\" cy=\"239.622\" r=\"18\"/>\n",
       "<circle clip-path=\"url(#clip1603)\" style=\"fill:#009af9; stroke:none; fill-opacity:1\" cx=\"1902.34\" cy=\"239.622\" r=\"14\"/>\n",
       "<circle clip-path=\"url(#clip1603)\" style=\"fill:#000000; stroke:none; fill-opacity:1\" cx=\"2024.6\" cy=\"422.984\" r=\"18\"/>\n",
       "<circle clip-path=\"url(#clip1603)\" style=\"fill:#009af9; stroke:none; fill-opacity:1\" cx=\"2024.6\" cy=\"422.984\" r=\"14\"/>\n",
       "<circle clip-path=\"url(#clip1603)\" style=\"fill:#000000; stroke:none; fill-opacity:1\" cx=\"1908.46\" cy=\"616.257\" r=\"18\"/>\n",
       "<circle clip-path=\"url(#clip1603)\" style=\"fill:#009af9; stroke:none; fill-opacity:1\" cx=\"1908.46\" cy=\"616.257\" r=\"14\"/>\n",
       "<circle clip-path=\"url(#clip1603)\" style=\"fill:#000000; stroke:none; fill-opacity:1\" cx=\"1908.46\" cy=\"814.486\" r=\"18\"/>\n",
       "<circle clip-path=\"url(#clip1603)\" style=\"fill:#009af9; stroke:none; fill-opacity:1\" cx=\"1908.46\" cy=\"814.486\" r=\"14\"/>\n",
       "<circle clip-path=\"url(#clip1603)\" style=\"fill:#000000; stroke:none; fill-opacity:1\" cx=\"1932.91\" cy=\"1136.61\" r=\"18\"/>\n",
       "<circle clip-path=\"url(#clip1603)\" style=\"fill:#009af9; stroke:none; fill-opacity:1\" cx=\"1932.91\" cy=\"1136.61\" r=\"14\"/>\n",
       "<circle clip-path=\"url(#clip1603)\" style=\"fill:#000000; stroke:none; fill-opacity:1\" cx=\"1929.85\" cy=\"1359.62\" r=\"18\"/>\n",
       "<circle clip-path=\"url(#clip1603)\" style=\"fill:#009af9; stroke:none; fill-opacity:1\" cx=\"1929.85\" cy=\"1359.62\" r=\"14\"/>\n",
       "</svg>\n"
      ]
     },
     "execution_count": 50,
     "metadata": {},
     "output_type": "execute_result"
    }
   ],
   "source": [
    "#top and bottom for each layer\n",
    "td = test_profile.TOPDEP\n",
    "bp = test_profile.BOTDEP\n",
    "\n",
    "#values\n",
    "blk = test_profile.BULKDENS\n",
    "orgc = test_profile.ORGC\n",
    "\n",
    "#plotting utilities\n",
    "y_mid = (td .+ bp)./2 \n",
    "y_lim = [-maximum(bp),minimum(td)]\n",
    "x_lim_orgc = [0,maximum(orgc)*1.5]\n",
    "x_lim_blk = [0,maximum(blk)*1.5]\n",
    "\n",
    "\n",
    "# ORGC plot\n",
    "p_orgc_or=scatter(orgc,-y_mid, legend=nothing, xlim=x_lim_orgc, ylim=y_lim, title=\"Organic carbon [g/Kg]\")\n",
    "\n",
    "# BULKDENS \n",
    "p_blk_or =scatter(blk,-y_mid, legend=nothing, xlim=x_lim_blk, ylim=y_lim, title=\"Bulk density [g/cm³]\")\n",
    "\n",
    "#CLIP DEPTH\n",
    "clip_depth_id = findlast(continuity_check(test_profile))\n",
    "clip_depth = bp[clip_depth_id]\n",
    "\n",
    "#Plotting\n",
    "plot!(p_orgc_or, -ones(100)*clip_depth, width = 2, color = :black)\n",
    "plot(p_orgc_or, p_blk_or)\n"
   ]
  },
  {
   "cell_type": "code",
   "execution_count": 36,
   "metadata": {
    "scrolled": true
   },
   "outputs": [
    {
     "data": {
      "text/html": [
       "<table class=\"data-frame\"><thead><tr><th></th><th>WISE3_ID</th><th>HONU</th><th>DESIG</th><th>TOPDEP</th><th>BOTDEP</th><th>ORGC</th><th>BULKDENS</th></tr><tr><th></th><th>String</th><th>Int64</th><th>String</th><th>Int64</th><th>Int64</th><th>Float64</th><th>Float64</th></tr></thead><tbody><p>12,847 rows × 7 columns</p><tr><th>1</th><td>AL0007</td><td>1</td><td>Ap</td><td>0</td><td>25</td><td>9.8</td><td>1.64</td></tr><tr><th>2</th><td>AL0007</td><td>2</td><td>AB</td><td>25</td><td>49</td><td>7.8</td><td>1.62</td></tr><tr><th>3</th><td>AL0007</td><td>3</td><td>Bw1</td><td>49</td><td>83</td><td>5.9</td><td>1.57</td></tr><tr><th>4</th><td>AL0007</td><td>4</td><td>Bw2</td><td>83</td><td>116</td><td>6.9</td><td>1.63</td></tr><tr><th>5</th><td>AL0007</td><td>5</td><td>2C1</td><td>116</td><td>147</td><td>4.6</td><td>1.56</td></tr><tr><th>6</th><td>AL0007</td><td>6</td><td>2C2</td><td>147</td><td>160</td><td>4.6</td><td>1.45</td></tr><tr><th>7</th><td>AL0008</td><td>1</td><td>Ap-</td><td>0</td><td>17</td><td>11.5</td><td>1.61</td></tr><tr><th>8</th><td>AL0008</td><td>2</td><td>Bw1</td><td>17</td><td>38</td><td>8.1</td><td>1.55</td></tr><tr><th>9</th><td>AL0008</td><td>3</td><td>2Bw2</td><td>38</td><td>66</td><td>1.7</td><td>1.18</td></tr><tr><th>10</th><td>AL0008</td><td>4</td><td>2Bw3</td><td>66</td><td>100</td><td>1.5</td><td>0.89</td></tr><tr><th>11</th><td>AL0009</td><td>1</td><td>Ap1</td><td>0</td><td>13</td><td>10.2</td><td>1.67</td></tr><tr><th>12</th><td>AL0009</td><td>2</td><td>Ap2</td><td>13</td><td>28</td><td>10.6</td><td>1.73</td></tr><tr><th>13</th><td>AL0009</td><td>3</td><td>Ap3</td><td>28</td><td>48</td><td>7.9</td><td>1.72</td></tr><tr><th>14</th><td>AL0009</td><td>4</td><td>2Bw1</td><td>48</td><td>74</td><td>3.5</td><td>1.7</td></tr><tr><th>15</th><td>AL0009</td><td>5</td><td>2Bw2</td><td>74</td><td>97</td><td>2.5</td><td>1.67</td></tr><tr><th>16</th><td>AL0010</td><td>1</td><td>Ap</td><td>0</td><td>17</td><td>18.1</td><td>1.52</td></tr><tr><th>17</th><td>AL0010</td><td>2</td><td>Bw1</td><td>17</td><td>30</td><td>17.4</td><td>1.43</td></tr><tr><th>18</th><td>AL0010</td><td>3</td><td>Bw2</td><td>30</td><td>42</td><td>14.2</td><td>1.57</td></tr><tr><th>19</th><td>AL0010</td><td>4</td><td>Bw3</td><td>42</td><td>65</td><td>10.0</td><td>1.65</td></tr><tr><th>20</th><td>AL0010</td><td>5</td><td>2Bw4</td><td>65</td><td>110</td><td>4.0</td><td>1.0</td></tr><tr><th>21</th><td>AL0011</td><td>1</td><td>Ap</td><td>0</td><td>18</td><td>16.0</td><td>1.68</td></tr><tr><th>22</th><td>AL0011</td><td>2</td><td>Bt1</td><td>18</td><td>38</td><td>10.4</td><td>1.71</td></tr><tr><th>23</th><td>AL0011</td><td>3</td><td>Bt2</td><td>38</td><td>56</td><td>8.5</td><td>2.62</td></tr><tr><th>24</th><td>AL0011</td><td>4</td><td>2Bt3b</td><td>56</td><td>74</td><td>10.2</td><td>1.59</td></tr><tr><th>25</th><td>AL0011</td><td>5</td><td>2Bt4</td><td>74</td><td>99</td><td>5.1</td><td>1.66</td></tr><tr><th>26</th><td>AL0011</td><td>6</td><td>2Bt5</td><td>99</td><td>130</td><td>4.8</td><td>1.4</td></tr><tr><th>27</th><td>AL0012</td><td>1</td><td>Ap1</td><td>0</td><td>16</td><td>7.4</td><td>1.57</td></tr><tr><th>28</th><td>AL0012</td><td>2</td><td>Ap2</td><td>16</td><td>33</td><td>6.1</td><td>1.62</td></tr><tr><th>29</th><td>AL0012</td><td>3</td><td>Bw1</td><td>33</td><td>52</td><td>5.3</td><td>1.61</td></tr><tr><th>30</th><td>AL0012</td><td>4</td><td>Bw2</td><td>52</td><td>84</td><td>3.9</td><td>1.56</td></tr><tr><th>&vellip;</th><td>&vellip;</td><td>&vellip;</td><td>&vellip;</td><td>&vellip;</td><td>&vellip;</td><td>&vellip;</td><td>&vellip;</td></tr></tbody></table>"
      ],
      "text/latex": [
       "\\begin{tabular}{r|ccccccc}\n",
       "\t& WISE3\\_ID & HONU & DESIG & TOPDEP & BOTDEP & ORGC & BULKDENS\\\\\n",
       "\t\\hline\n",
       "\t& String & Int64 & String & Int64 & Int64 & Float64 & Float64\\\\\n",
       "\t\\hline\n",
       "\t1 & AL0007 & 1 & Ap & 0 & 25 & 9.8 & 1.64 \\\\\n",
       "\t2 & AL0007 & 2 & AB & 25 & 49 & 7.8 & 1.62 \\\\\n",
       "\t3 & AL0007 & 3 & Bw1 & 49 & 83 & 5.9 & 1.57 \\\\\n",
       "\t4 & AL0007 & 4 & Bw2 & 83 & 116 & 6.9 & 1.63 \\\\\n",
       "\t5 & AL0007 & 5 & 2C1 & 116 & 147 & 4.6 & 1.56 \\\\\n",
       "\t6 & AL0007 & 6 & 2C2 & 147 & 160 & 4.6 & 1.45 \\\\\n",
       "\t7 & AL0008 & 1 & Ap- & 0 & 17 & 11.5 & 1.61 \\\\\n",
       "\t8 & AL0008 & 2 & Bw1 & 17 & 38 & 8.1 & 1.55 \\\\\n",
       "\t9 & AL0008 & 3 & 2Bw2 & 38 & 66 & 1.7 & 1.18 \\\\\n",
       "\t10 & AL0008 & 4 & 2Bw3 & 66 & 100 & 1.5 & 0.89 \\\\\n",
       "\t11 & AL0009 & 1 & Ap1 & 0 & 13 & 10.2 & 1.67 \\\\\n",
       "\t12 & AL0009 & 2 & Ap2 & 13 & 28 & 10.6 & 1.73 \\\\\n",
       "\t13 & AL0009 & 3 & Ap3 & 28 & 48 & 7.9 & 1.72 \\\\\n",
       "\t14 & AL0009 & 4 & 2Bw1 & 48 & 74 & 3.5 & 1.7 \\\\\n",
       "\t15 & AL0009 & 5 & 2Bw2 & 74 & 97 & 2.5 & 1.67 \\\\\n",
       "\t16 & AL0010 & 1 & Ap & 0 & 17 & 18.1 & 1.52 \\\\\n",
       "\t17 & AL0010 & 2 & Bw1 & 17 & 30 & 17.4 & 1.43 \\\\\n",
       "\t18 & AL0010 & 3 & Bw2 & 30 & 42 & 14.2 & 1.57 \\\\\n",
       "\t19 & AL0010 & 4 & Bw3 & 42 & 65 & 10.0 & 1.65 \\\\\n",
       "\t20 & AL0010 & 5 & 2Bw4 & 65 & 110 & 4.0 & 1.0 \\\\\n",
       "\t21 & AL0011 & 1 & Ap & 0 & 18 & 16.0 & 1.68 \\\\\n",
       "\t22 & AL0011 & 2 & Bt1 & 18 & 38 & 10.4 & 1.71 \\\\\n",
       "\t23 & AL0011 & 3 & Bt2 & 38 & 56 & 8.5 & 2.62 \\\\\n",
       "\t24 & AL0011 & 4 & 2Bt3b & 56 & 74 & 10.2 & 1.59 \\\\\n",
       "\t25 & AL0011 & 5 & 2Bt4 & 74 & 99 & 5.1 & 1.66 \\\\\n",
       "\t26 & AL0011 & 6 & 2Bt5 & 99 & 130 & 4.8 & 1.4 \\\\\n",
       "\t27 & AL0012 & 1 & Ap1 & 0 & 16 & 7.4 & 1.57 \\\\\n",
       "\t28 & AL0012 & 2 & Ap2 & 16 & 33 & 6.1 & 1.62 \\\\\n",
       "\t29 & AL0012 & 3 & Bw1 & 33 & 52 & 5.3 & 1.61 \\\\\n",
       "\t30 & AL0012 & 4 & Bw2 & 52 & 84 & 3.9 & 1.56 \\\\\n",
       "\t$\\dots$ & $\\dots$ & $\\dots$ & $\\dots$ & $\\dots$ & $\\dots$ & $\\dots$ & $\\dots$ \\\\\n",
       "\\end{tabular}\n"
      ],
      "text/plain": [
       "12847×7 DataFrame\n",
       "│ Row   │ WISE3_ID │ HONU  │ DESIG  │ TOPDEP │ BOTDEP │ ORGC    │ BULKDENS │\n",
       "│       │ \u001b[90mString\u001b[39m   │ \u001b[90mInt64\u001b[39m │ \u001b[90mString\u001b[39m │ \u001b[90mInt64\u001b[39m  │ \u001b[90mInt64\u001b[39m  │ \u001b[90mFloat64\u001b[39m │ \u001b[90mFloat64\u001b[39m  │\n",
       "├───────┼──────────┼───────┼────────┼────────┼────────┼─────────┼──────────┤\n",
       "│ 1     │ AL0007   │ 1     │ Ap     │ 0      │ 25     │ 9.8     │ 1.64     │\n",
       "│ 2     │ AL0007   │ 2     │ AB     │ 25     │ 49     │ 7.8     │ 1.62     │\n",
       "│ 3     │ AL0007   │ 3     │ Bw1    │ 49     │ 83     │ 5.9     │ 1.57     │\n",
       "│ 4     │ AL0007   │ 4     │ Bw2    │ 83     │ 116    │ 6.9     │ 1.63     │\n",
       "│ 5     │ AL0007   │ 5     │ 2C1    │ 116    │ 147    │ 4.6     │ 1.56     │\n",
       "│ 6     │ AL0007   │ 6     │ 2C2    │ 147    │ 160    │ 4.6     │ 1.45     │\n",
       "│ 7     │ AL0008   │ 1     │ Ap-    │ 0      │ 17     │ 11.5    │ 1.61     │\n",
       "│ 8     │ AL0008   │ 2     │ Bw1    │ 17     │ 38     │ 8.1     │ 1.55     │\n",
       "│ 9     │ AL0008   │ 3     │ 2Bw2   │ 38     │ 66     │ 1.7     │ 1.18     │\n",
       "│ 10    │ AL0008   │ 4     │ 2Bw3   │ 66     │ 100    │ 1.5     │ 0.89     │\n",
       "⋮\n",
       "│ 12837 │ ZW0063   │ 3     │ Bt1    │ 19     │ 42     │ 7.8     │ 1.49     │\n",
       "│ 12838 │ ZW0063   │ 4     │ Bt2    │ 42     │ 71     │ 5.2     │ 1.56     │\n",
       "│ 12839 │ ZW0063   │ 5     │ Bt3    │ 71     │ 100    │ 3.7     │ 1.38     │\n",
       "│ 12840 │ ZW0063   │ 6     │ Bt4    │ 100    │ 138    │ 2.3     │ 1.44     │\n",
       "│ 12841 │ ZW0065   │ 1     │ Ap1    │ 0      │ 11     │ 10.2    │ 1.54     │\n",
       "│ 12842 │ ZW0065   │ 2     │ Ap2    │ 11     │ 24     │ 10.0    │ 1.64     │\n",
       "│ 12843 │ ZW0065   │ 3     │ Bt     │ 24     │ 46     │ 7.7     │ 1.6      │\n",
       "│ 12844 │ ZW0065   │ 4     │ BC     │ 46     │ 68     │ 6.4     │ 1.7      │\n",
       "│ 12845 │ ZW0066   │ 1     │ A1     │ 0      │ 24     │ 18.5    │ 1.63     │\n",
       "│ 12846 │ ZW0066   │ 2     │ A2     │ 24     │ 58     │ 14.8    │ 1.67     │\n",
       "│ 12847 │ ZW0066   │ 3     │ A3     │ 58     │ 92     │ 12.2    │ 1.59     │"
      ]
     },
     "execution_count": 36,
     "metadata": {},
     "output_type": "execute_result"
    }
   ],
   "source": [
    "#DF we can work with\n",
    "df_hz_ready = df_hz[layers_keep,:]"
   ]
  },
  {
   "cell_type": "markdown",
   "metadata": {},
   "source": [
    "Calculating orgc storage as:  BULKDENS [g / cm³] x AREA [m²] x ORGC [g / Kg] for each layer in each profile.\n",
    "\n",
    "The result will be in [Kg]."
   ]
  },
  {
   "cell_type": "code",
   "execution_count": 37,
   "metadata": {},
   "outputs": [
    {
     "data": {
      "text/plain": [
       "orgc_storage (generic function with 1 method)"
      ]
     },
     "execution_count": 37,
     "metadata": {},
     "output_type": "execute_result"
    }
   ],
   "source": [
    "function orgc_storage(profile) \n",
    "\n",
    "    top = profile.TOPDEP\n",
    "    bot = profile.BOTDEP\n",
    "\n",
    "    blk = profile.BULKDENS\n",
    "    orgc = profile.ORGC\n",
    "\n",
    "    layer_height = (bot.-top)\n",
    "\n",
    "    mass=0.0\n",
    "    for sc in 1:length(layer_height)\n",
    "\n",
    "        mass += blk[sc]*orgc[sc]*layer_height[sc]/100\n",
    "    end\n",
    "\n",
    "    return mass\n",
    "\n",
    "end"
   ]
  },
  {
   "cell_type": "code",
   "execution_count": 38,
   "metadata": {
    "scrolled": true
   },
   "outputs": [
    {
     "data": {
      "text/html": [
       "<table class=\"data-frame\"><thead><tr><th></th><th>WISE3_ID</th><th>STORED_ORGC</th></tr><tr><th></th><th>String</th><th>Float64</th></tr></thead><tbody><p>3,634 rows × 2 columns</p><tr><th>1</th><td>AL0007</td><td>17.0032</td></tr><tr><th>2</th><td>AL0008</td><td>6.79968</td></tr><tr><th>3</th><td>AL0009</td><td>10.19</td></tr><tr><th>4</th><td>AL0010</td><td>16.182</td></tr><tr><th>5</th><td>AL0011</td><td>19.5227</td></tr><tr><th>6</th><td>AL0012</td><td>12.7518</td></tr><tr><th>7</th><td>AL0013</td><td>14.3507</td></tr><tr><th>8</th><td>AL0014</td><td>13.6746</td></tr><tr><th>9</th><td>AL0015</td><td>23.7756</td></tr><tr><th>10</th><td>AL0016</td><td>104.13</td></tr><tr><th>11</th><td>AL0017</td><td>32.8709</td></tr><tr><th>12</th><td>AL0018</td><td>21.8077</td></tr><tr><th>13</th><td>AL0019</td><td>65.0701</td></tr><tr><th>14</th><td>AL0020</td><td>79.9759</td></tr><tr><th>15</th><td>AL0021</td><td>14.3746</td></tr><tr><th>16</th><td>AL0022</td><td>15.8464</td></tr><tr><th>17</th><td>AL0023</td><td>27.9492</td></tr><tr><th>18</th><td>AL0024</td><td>18.5125</td></tr><tr><th>19</th><td>AL0025</td><td>31.9615</td></tr><tr><th>20</th><td>AL0026</td><td>20.302</td></tr><tr><th>21</th><td>AL0027</td><td>19.2275</td></tr><tr><th>22</th><td>AL0028</td><td>11.3765</td></tr><tr><th>23</th><td>AL0029</td><td>18.3789</td></tr><tr><th>24</th><td>AL0030</td><td>10.792</td></tr><tr><th>25</th><td>AL0031</td><td>6.36648</td></tr><tr><th>26</th><td>AL0032</td><td>7.43688</td></tr><tr><th>27</th><td>AL0033</td><td>94.9217</td></tr><tr><th>28</th><td>AL0034</td><td>11.7063</td></tr><tr><th>29</th><td>AL0035</td><td>21.1273</td></tr><tr><th>30</th><td>AM0001</td><td>28.8272</td></tr><tr><th>&vellip;</th><td>&vellip;</td><td>&vellip;</td></tr></tbody></table>"
      ],
      "text/latex": [
       "\\begin{tabular}{r|cc}\n",
       "\t& WISE3\\_ID & STORED\\_ORGC\\\\\n",
       "\t\\hline\n",
       "\t& String & Float64\\\\\n",
       "\t\\hline\n",
       "\t1 & AL0007 & 17.0032 \\\\\n",
       "\t2 & AL0008 & 6.79968 \\\\\n",
       "\t3 & AL0009 & 10.19 \\\\\n",
       "\t4 & AL0010 & 16.182 \\\\\n",
       "\t5 & AL0011 & 19.5227 \\\\\n",
       "\t6 & AL0012 & 12.7518 \\\\\n",
       "\t7 & AL0013 & 14.3507 \\\\\n",
       "\t8 & AL0014 & 13.6746 \\\\\n",
       "\t9 & AL0015 & 23.7756 \\\\\n",
       "\t10 & AL0016 & 104.13 \\\\\n",
       "\t11 & AL0017 & 32.8709 \\\\\n",
       "\t12 & AL0018 & 21.8077 \\\\\n",
       "\t13 & AL0019 & 65.0701 \\\\\n",
       "\t14 & AL0020 & 79.9759 \\\\\n",
       "\t15 & AL0021 & 14.3746 \\\\\n",
       "\t16 & AL0022 & 15.8464 \\\\\n",
       "\t17 & AL0023 & 27.9492 \\\\\n",
       "\t18 & AL0024 & 18.5125 \\\\\n",
       "\t19 & AL0025 & 31.9615 \\\\\n",
       "\t20 & AL0026 & 20.302 \\\\\n",
       "\t21 & AL0027 & 19.2275 \\\\\n",
       "\t22 & AL0028 & 11.3765 \\\\\n",
       "\t23 & AL0029 & 18.3789 \\\\\n",
       "\t24 & AL0030 & 10.792 \\\\\n",
       "\t25 & AL0031 & 6.36648 \\\\\n",
       "\t26 & AL0032 & 7.43688 \\\\\n",
       "\t27 & AL0033 & 94.9217 \\\\\n",
       "\t28 & AL0034 & 11.7063 \\\\\n",
       "\t29 & AL0035 & 21.1273 \\\\\n",
       "\t30 & AM0001 & 28.8272 \\\\\n",
       "\t$\\dots$ & $\\dots$ & $\\dots$ \\\\\n",
       "\\end{tabular}\n"
      ],
      "text/plain": [
       "3634×2 DataFrame\n",
       "│ Row  │ WISE3_ID │ STORED_ORGC │\n",
       "│      │ \u001b[90mString\u001b[39m   │ \u001b[90mFloat64\u001b[39m     │\n",
       "├──────┼──────────┼─────────────┤\n",
       "│ 1    │ AL0007   │ 17.0032     │\n",
       "│ 2    │ AL0008   │ 6.79968     │\n",
       "│ 3    │ AL0009   │ 10.19       │\n",
       "│ 4    │ AL0010   │ 16.182      │\n",
       "│ 5    │ AL0011   │ 19.5227     │\n",
       "│ 6    │ AL0012   │ 12.7518     │\n",
       "│ 7    │ AL0013   │ 14.3507     │\n",
       "│ 8    │ AL0014   │ 13.6746     │\n",
       "│ 9    │ AL0015   │ 23.7756     │\n",
       "│ 10   │ AL0016   │ 104.13      │\n",
       "⋮\n",
       "│ 3624 │ ZW0054   │ 3.08355     │\n",
       "│ 3625 │ ZW0055   │ 2.73546     │\n",
       "│ 3626 │ ZW0056   │ 10.6293     │\n",
       "│ 3627 │ ZW0057   │ 4.56087     │\n",
       "│ 3628 │ ZW0058   │ 4.3443      │\n",
       "│ 3629 │ ZW0059   │ 3.68667     │\n",
       "│ 3630 │ ZW0060   │ 8.19492     │\n",
       "│ 3631 │ ZW0062   │ 10.394      │\n",
       "│ 3632 │ ZW0063   │ 12.8412     │\n",
       "│ 3633 │ ZW0065   │ 8.96388     │\n",
       "│ 3634 │ ZW0066   │ 22.236      │"
      ]
     },
     "execution_count": 38,
     "metadata": {},
     "output_type": "execute_result"
    }
   ],
   "source": [
    "orgc_mass = Dict()\n",
    "\n",
    "for profile in unique_profiles\n",
    "    orgc_mass[profile] = orgc_storage(df_hz_ready[df_hz_ready.WISE3_ID.==profile,:])\n",
    "end\n",
    "\n",
    "df_stored_ORGC = sort!(DataFrame(WISE3_ID = String.(keys(orgc_mass)), \n",
    "                                 STORED_ORGC = Float64.(values(orgc_mass))))"
   ]
  },
  {
   "cell_type": "markdown",
   "metadata": {},
   "source": [
    "Let's enrich the data with extra information for each profile:"
   ]
  },
  {
   "cell_type": "code",
   "execution_count": 39,
   "metadata": {
    "scrolled": true
   },
   "outputs": [
    {
     "data": {
      "text/html": [
       "<table class=\"data-frame\"><thead><tr><th></th><th>WISE3_id</th><th>ISO</th><th>DESCR</th><th>DATEYR</th><th>DATEMON</th><th>SOLDEP</th><th>HORNUM</th><th>FAO_90</th><th>PHA_90</th><th>FAO_74</th></tr><tr><th></th><th>String</th><th>String</th><th>Int64</th><th>Int64?</th><th>Int64?</th><th>Int64</th><th>Int64</th><th>String</th><th>String?</th><th>String?</th></tr></thead><tbody><p>10,253 rows × 31 columns (omitted printing of 21 columns)</p><tr><th>1</th><td>AF0001</td><td>AF</td><td>3</td><td>1962</td><td><em>missing</em></td><td>150</td><td>3</td><td>CLl</td><td><em>missing</em></td><td>Bk</td></tr><tr><th>2</th><td>AF0002</td><td>AF</td><td>3</td><td>1962</td><td><em>missing</em></td><td>170</td><td>4</td><td>FLc</td><td><em>missing</em></td><td>Jc</td></tr><tr><th>3</th><td>AF0003</td><td>AF</td><td>3</td><td>1962</td><td><em>missing</em></td><td>110</td><td>3</td><td>FLc</td><td><em>missing</em></td><td>Jc</td></tr><tr><th>4</th><td>AF0004</td><td>AF</td><td>3</td><td>1962</td><td><em>missing</em></td><td>270</td><td>6</td><td>SCg</td><td><em>missing</em></td><td>Zo</td></tr><tr><th>5</th><td>AF0005</td><td>AF</td><td>3</td><td>1962</td><td><em>missing</em></td><td>190</td><td>6</td><td>SCk</td><td><em>missing</em></td><td>Zo</td></tr><tr><th>6</th><td>AL0001</td><td>AL</td><td>4</td><td>1981</td><td>9</td><td>94</td><td>4</td><td>LVk</td><td><em>missing</em></td><td>Lk</td></tr><tr><th>7</th><td>AL0002</td><td>AL</td><td>4</td><td>1983</td><td>9</td><td>87</td><td>3</td><td>LPk</td><td><em>missing</em></td><td>Be</td></tr><tr><th>8</th><td>AL0003</td><td>AL</td><td>4</td><td>1985</td><td>12</td><td>85</td><td>3</td><td>LVf</td><td><em>missing</em></td><td>Lf</td></tr><tr><th>9</th><td>AL0004</td><td>AL</td><td>4</td><td>1991</td><td>11</td><td>120</td><td>6</td><td>CMc</td><td><em>missing</em></td><td>Bk</td></tr><tr><th>10</th><td>AL0005</td><td>AL</td><td>4</td><td>1991</td><td>10</td><td>170</td><td>5</td><td>FLc</td><td><em>missing</em></td><td>Jc</td></tr><tr><th>11</th><td>AL0006</td><td>AL</td><td>4</td><td>1991</td><td>11</td><td>170</td><td>5</td><td>FLc</td><td><em>missing</em></td><td>Jc</td></tr><tr><th>12</th><td>AL0007</td><td>AL</td><td>1</td><td>1994</td><td>4</td><td>160</td><td>6</td><td>CMc</td><td><em>missing</em></td><td>Be</td></tr><tr><th>13</th><td>AL0008</td><td>AL</td><td>1</td><td>1994</td><td>4</td><td>100</td><td>4</td><td>CMc</td><td><em>missing</em></td><td>Be</td></tr><tr><th>14</th><td>AL0009</td><td>AL</td><td>1</td><td>1994</td><td>4</td><td>110</td><td>6</td><td>KSk</td><td><em>missing</em></td><td>Kk</td></tr><tr><th>15</th><td>AL0010</td><td>AL</td><td>1</td><td>1994</td><td>3</td><td>110</td><td>5</td><td>KSk</td><td><em>missing</em></td><td>Kk</td></tr><tr><th>16</th><td>AL0011</td><td>AL</td><td>1</td><td>1994</td><td>4</td><td>130</td><td>6</td><td>LVg</td><td><em>missing</em></td><td>Lg</td></tr><tr><th>17</th><td>AL0012</td><td>AL</td><td>1</td><td>1994</td><td>5</td><td>173</td><td>7</td><td>LVh</td><td><em>missing</em></td><td>Lo</td></tr><tr><th>18</th><td>AL0013</td><td>AL</td><td>1</td><td>1994</td><td>4</td><td>180</td><td>6</td><td>LVh</td><td><em>missing</em></td><td>Lo</td></tr><tr><th>19</th><td>AL0014</td><td>AL</td><td>1</td><td>1994</td><td>4</td><td>130</td><td>5</td><td>LVx</td><td><em>missing</em></td><td>Lc</td></tr><tr><th>20</th><td>AL0015</td><td>AL</td><td>1</td><td>1994</td><td>4</td><td>180</td><td>6</td><td>PHh</td><td><em>missing</em></td><td>Hh</td></tr><tr><th>21</th><td>AL0016</td><td>AL</td><td>1</td><td>1994</td><td>4</td><td>121</td><td>6</td><td>PHh</td><td><em>missing</em></td><td>Hh</td></tr><tr><th>22</th><td>AL0017</td><td>AL</td><td>1</td><td>1994</td><td>3</td><td>170</td><td>8</td><td>PHj</td><td><em>missing</em></td><td>Hg</td></tr><tr><th>23</th><td>AL0018</td><td>AL</td><td>1</td><td>1994</td><td>4</td><td>153</td><td>6</td><td>PHl</td><td><em>missing</em></td><td>Hl</td></tr><tr><th>24</th><td>AL0019</td><td>AL</td><td>1</td><td>1994</td><td>3</td><td>137</td><td>6</td><td>SCn</td><td><em>missing</em></td><td>Zo</td></tr><tr><th>25</th><td>AL0020</td><td>AL</td><td>1</td><td>1994</td><td>4</td><td>170</td><td>7</td><td>VRe</td><td>SO</td><td>Vp</td></tr><tr><th>26</th><td>AL0021</td><td>AL</td><td>1</td><td>1994</td><td>4</td><td>180</td><td>6</td><td>VRe</td><td><em>missing</em></td><td>Vc</td></tr><tr><th>27</th><td>AL0022</td><td>AL</td><td>1</td><td>1994</td><td>4</td><td>120</td><td>5</td><td>VRe</td><td><em>missing</em></td><td>Vc</td></tr><tr><th>28</th><td>AL0023</td><td>AL</td><td>1</td><td>1994</td><td>4</td><td>175</td><td>7</td><td>VRe</td><td><em>missing</em></td><td>Vc</td></tr><tr><th>29</th><td>AL0024</td><td>AL</td><td>1</td><td>1995</td><td>6</td><td>180</td><td>7</td><td>CMc</td><td><em>missing</em></td><td>Bk</td></tr><tr><th>30</th><td>AL0025</td><td>AL</td><td>1</td><td>1995</td><td>6</td><td>140</td><td>6</td><td>CMc</td><td><em>missing</em></td><td>Bk</td></tr><tr><th>&vellip;</th><td>&vellip;</td><td>&vellip;</td><td>&vellip;</td><td>&vellip;</td><td>&vellip;</td><td>&vellip;</td><td>&vellip;</td><td>&vellip;</td><td>&vellip;</td><td>&vellip;</td></tr></tbody></table>"
      ],
      "text/latex": [
       "\\begin{tabular}{r|ccccccccccc}\n",
       "\t& WISE3\\_id & ISO & DESCR & DATEYR & DATEMON & SOLDEP & HORNUM & FAO\\_90 & PHA\\_90 & FAO\\_74 & \\\\\n",
       "\t\\hline\n",
       "\t& String & String & Int64 & Int64? & Int64? & Int64 & Int64 & String & String? & String? & \\\\\n",
       "\t\\hline\n",
       "\t1 & AF0001 & AF & 3 & 1962 & \\emph{missing} & 150 & 3 & CLl & \\emph{missing} & Bk & $\\dots$ \\\\\n",
       "\t2 & AF0002 & AF & 3 & 1962 & \\emph{missing} & 170 & 4 & FLc & \\emph{missing} & Jc & $\\dots$ \\\\\n",
       "\t3 & AF0003 & AF & 3 & 1962 & \\emph{missing} & 110 & 3 & FLc & \\emph{missing} & Jc & $\\dots$ \\\\\n",
       "\t4 & AF0004 & AF & 3 & 1962 & \\emph{missing} & 270 & 6 & SCg & \\emph{missing} & Zo & $\\dots$ \\\\\n",
       "\t5 & AF0005 & AF & 3 & 1962 & \\emph{missing} & 190 & 6 & SCk & \\emph{missing} & Zo & $\\dots$ \\\\\n",
       "\t6 & AL0001 & AL & 4 & 1981 & 9 & 94 & 4 & LVk & \\emph{missing} & Lk & $\\dots$ \\\\\n",
       "\t7 & AL0002 & AL & 4 & 1983 & 9 & 87 & 3 & LPk & \\emph{missing} & Be & $\\dots$ \\\\\n",
       "\t8 & AL0003 & AL & 4 & 1985 & 12 & 85 & 3 & LVf & \\emph{missing} & Lf & $\\dots$ \\\\\n",
       "\t9 & AL0004 & AL & 4 & 1991 & 11 & 120 & 6 & CMc & \\emph{missing} & Bk & $\\dots$ \\\\\n",
       "\t10 & AL0005 & AL & 4 & 1991 & 10 & 170 & 5 & FLc & \\emph{missing} & Jc & $\\dots$ \\\\\n",
       "\t11 & AL0006 & AL & 4 & 1991 & 11 & 170 & 5 & FLc & \\emph{missing} & Jc & $\\dots$ \\\\\n",
       "\t12 & AL0007 & AL & 1 & 1994 & 4 & 160 & 6 & CMc & \\emph{missing} & Be & $\\dots$ \\\\\n",
       "\t13 & AL0008 & AL & 1 & 1994 & 4 & 100 & 4 & CMc & \\emph{missing} & Be & $\\dots$ \\\\\n",
       "\t14 & AL0009 & AL & 1 & 1994 & 4 & 110 & 6 & KSk & \\emph{missing} & Kk & $\\dots$ \\\\\n",
       "\t15 & AL0010 & AL & 1 & 1994 & 3 & 110 & 5 & KSk & \\emph{missing} & Kk & $\\dots$ \\\\\n",
       "\t16 & AL0011 & AL & 1 & 1994 & 4 & 130 & 6 & LVg & \\emph{missing} & Lg & $\\dots$ \\\\\n",
       "\t17 & AL0012 & AL & 1 & 1994 & 5 & 173 & 7 & LVh & \\emph{missing} & Lo & $\\dots$ \\\\\n",
       "\t18 & AL0013 & AL & 1 & 1994 & 4 & 180 & 6 & LVh & \\emph{missing} & Lo & $\\dots$ \\\\\n",
       "\t19 & AL0014 & AL & 1 & 1994 & 4 & 130 & 5 & LVx & \\emph{missing} & Lc & $\\dots$ \\\\\n",
       "\t20 & AL0015 & AL & 1 & 1994 & 4 & 180 & 6 & PHh & \\emph{missing} & Hh & $\\dots$ \\\\\n",
       "\t21 & AL0016 & AL & 1 & 1994 & 4 & 121 & 6 & PHh & \\emph{missing} & Hh & $\\dots$ \\\\\n",
       "\t22 & AL0017 & AL & 1 & 1994 & 3 & 170 & 8 & PHj & \\emph{missing} & Hg & $\\dots$ \\\\\n",
       "\t23 & AL0018 & AL & 1 & 1994 & 4 & 153 & 6 & PHl & \\emph{missing} & Hl & $\\dots$ \\\\\n",
       "\t24 & AL0019 & AL & 1 & 1994 & 3 & 137 & 6 & SCn & \\emph{missing} & Zo & $\\dots$ \\\\\n",
       "\t25 & AL0020 & AL & 1 & 1994 & 4 & 170 & 7 & VRe & SO & Vp & $\\dots$ \\\\\n",
       "\t26 & AL0021 & AL & 1 & 1994 & 4 & 180 & 6 & VRe & \\emph{missing} & Vc & $\\dots$ \\\\\n",
       "\t27 & AL0022 & AL & 1 & 1994 & 4 & 120 & 5 & VRe & \\emph{missing} & Vc & $\\dots$ \\\\\n",
       "\t28 & AL0023 & AL & 1 & 1994 & 4 & 175 & 7 & VRe & \\emph{missing} & Vc & $\\dots$ \\\\\n",
       "\t29 & AL0024 & AL & 1 & 1995 & 6 & 180 & 7 & CMc & \\emph{missing} & Bk & $\\dots$ \\\\\n",
       "\t30 & AL0025 & AL & 1 & 1995 & 6 & 140 & 6 & CMc & \\emph{missing} & Bk & $\\dots$ \\\\\n",
       "\t$\\dots$ & $\\dots$ & $\\dots$ & $\\dots$ & $\\dots$ & $\\dots$ & $\\dots$ & $\\dots$ & $\\dots$ & $\\dots$ & $\\dots$ &  \\\\\n",
       "\\end{tabular}\n"
      ],
      "text/plain": [
       "10253×31 DataFrame. Omitted printing of 24 columns\n",
       "│ Row   │ WISE3_id │ ISO    │ DESCR │ DATEYR │ DATEMON │ SOLDEP │ HORNUM │\n",
       "│       │ \u001b[90mString\u001b[39m   │ \u001b[90mString\u001b[39m │ \u001b[90mInt64\u001b[39m │ \u001b[90mInt64?\u001b[39m │ \u001b[90mInt64?\u001b[39m  │ \u001b[90mInt64\u001b[39m  │ \u001b[90mInt64\u001b[39m  │\n",
       "├───────┼──────────┼────────┼───────┼────────┼─────────┼────────┼────────┤\n",
       "│ 1     │ AF0001   │ AF     │ 3     │ 1962   │ \u001b[90mmissing\u001b[39m │ 150    │ 3      │\n",
       "│ 2     │ AF0002   │ AF     │ 3     │ 1962   │ \u001b[90mmissing\u001b[39m │ 170    │ 4      │\n",
       "│ 3     │ AF0003   │ AF     │ 3     │ 1962   │ \u001b[90mmissing\u001b[39m │ 110    │ 3      │\n",
       "│ 4     │ AF0004   │ AF     │ 3     │ 1962   │ \u001b[90mmissing\u001b[39m │ 270    │ 6      │\n",
       "│ 5     │ AF0005   │ AF     │ 3     │ 1962   │ \u001b[90mmissing\u001b[39m │ 190    │ 6      │\n",
       "│ 6     │ AL0001   │ AL     │ 4     │ 1981   │ 9       │ 94     │ 4      │\n",
       "│ 7     │ AL0002   │ AL     │ 4     │ 1983   │ 9       │ 87     │ 3      │\n",
       "│ 8     │ AL0003   │ AL     │ 4     │ 1985   │ 12      │ 85     │ 3      │\n",
       "│ 9     │ AL0004   │ AL     │ 4     │ 1991   │ 11      │ 120    │ 6      │\n",
       "│ 10    │ AL0005   │ AL     │ 4     │ 1991   │ 10      │ 170    │ 5      │\n",
       "⋮\n",
       "│ 10243 │ ZW0057   │ ZW     │ 2     │ 1991   │ \u001b[90mmissing\u001b[39m │ 150    │ 6      │\n",
       "│ 10244 │ ZW0058   │ ZW     │ 3     │ 1991   │ \u001b[90mmissing\u001b[39m │ 200    │ 6      │\n",
       "│ 10245 │ ZW0059   │ ZW     │ 2     │ 1991   │ \u001b[90mmissing\u001b[39m │ 200    │ 6      │\n",
       "│ 10246 │ ZW0060   │ ZW     │ 2     │ 1991   │ \u001b[90mmissing\u001b[39m │ 200    │ 6      │\n",
       "│ 10247 │ ZW0061   │ ZW     │ 1     │ 1991   │ 2       │ 150    │ 6      │\n",
       "│ 10248 │ ZW0062   │ ZW     │ 2     │ 1991   │ \u001b[90mmissing\u001b[39m │ 94     │ 4      │\n",
       "│ 10249 │ ZW0063   │ ZW     │ 2     │ 1991   │ \u001b[90mmissing\u001b[39m │ 138    │ 6      │\n",
       "│ 10250 │ ZW0064   │ ZW     │ 2     │ 1991   │ \u001b[90mmissing\u001b[39m │ 200    │ 6      │\n",
       "│ 10251 │ ZW0065   │ ZW     │ 2     │ 1991   │ \u001b[90mmissing\u001b[39m │ 68     │ 4      │\n",
       "│ 10252 │ ZW0066   │ ZW     │ 2     │ 1991   │ \u001b[90mmissing\u001b[39m │ 92     │ 3      │\n",
       "│ 10253 │ ZW0067   │ ZW     │ 1     │ 1992   │ 6       │ 220    │ 7      │"
      ]
     },
     "execution_count": 39,
     "metadata": {},
     "output_type": "execute_result"
    }
   ],
   "source": [
    "df_site_orig = CSV.read(\"WISE3_SITE.csv\", DataFrame)"
   ]
  },
  {
   "cell_type": "markdown",
   "metadata": {},
   "source": [
    "Filtering on the SITE dataset:"
   ]
  },
  {
   "cell_type": "code",
   "execution_count": 40,
   "metadata": {
    "scrolled": true
   },
   "outputs": [
    {
     "data": {
      "text/html": [
       "<table class=\"data-frame\"><thead><tr><th></th><th>WISE3_ID</th><th>DATEYR</th><th>LONDD</th><th>LATDD</th></tr><tr><th></th><th>String</th><th>Int64?</th><th>Float64</th><th>Float64</th></tr></thead><tbody><p>8,186 rows × 4 columns</p><tr><th>1</th><td>AF0001</td><td>1962</td><td>69.1667</td><td>34.5</td></tr><tr><th>2</th><td>AF0002</td><td>1962</td><td>69.1667</td><td>34.5</td></tr><tr><th>3</th><td>AF0003</td><td>1962</td><td>69.1667</td><td>34.5</td></tr><tr><th>4</th><td>AF0004</td><td>1962</td><td>61.4333</td><td>34.3333</td></tr><tr><th>5</th><td>AF0005</td><td>1962</td><td>62.1333</td><td>32.3833</td></tr><tr><th>6</th><td>AL0001</td><td>1981</td><td>20.75</td><td>40.6167</td></tr><tr><th>7</th><td>AL0002</td><td>1983</td><td>20.3006</td><td>39.635</td></tr><tr><th>8</th><td>AL0003</td><td>1985</td><td>20.3861</td><td>42.2222</td></tr><tr><th>9</th><td>AL0004</td><td>1991</td><td>19.5611</td><td>41.0778</td></tr><tr><th>10</th><td>AL0005</td><td>1991</td><td>19.5111</td><td>41.4236</td></tr><tr><th>11</th><td>AL0006</td><td>1991</td><td>19.5408</td><td>41.1767</td></tr><tr><th>12</th><td>AL0007</td><td>1994</td><td>19.9956</td><td>41.0694</td></tr><tr><th>13</th><td>AL0008</td><td>1994</td><td>20.6472</td><td>40.215</td></tr><tr><th>14</th><td>AL0009</td><td>1994</td><td>20.7844</td><td>40.6372</td></tr><tr><th>15</th><td>AL0010</td><td>1994</td><td>19.4836</td><td>40.3453</td></tr><tr><th>16</th><td>AL0011</td><td>1994</td><td>19.7703</td><td>41.3778</td></tr><tr><th>17</th><td>AL0012</td><td>1994</td><td>20.9589</td><td>40.6553</td></tr><tr><th>18</th><td>AL0013</td><td>1994</td><td>20.7325</td><td>40.5644</td></tr><tr><th>19</th><td>AL0014</td><td>1994</td><td>20.4064</td><td>41.6928</td></tr><tr><th>20</th><td>AL0015</td><td>1994</td><td>19.7625</td><td>41.37</td></tr><tr><th>21</th><td>AL0016</td><td>1994</td><td>20.7108</td><td>40.7217</td></tr><tr><th>22</th><td>AL0017</td><td>1994</td><td>20.0267</td><td>39.8175</td></tr><tr><th>23</th><td>AL0018</td><td>1994</td><td>19.5097</td><td>42.0919</td></tr><tr><th>24</th><td>AL0019</td><td>1994</td><td>92.4167</td><td>40.7156</td></tr><tr><th>25</th><td>AL0020</td><td>1994</td><td>19.6461</td><td>40.9858</td></tr><tr><th>26</th><td>AL0021</td><td>1994</td><td>19.9942</td><td>41.6275</td></tr><tr><th>27</th><td>AL0022</td><td>1994</td><td>20.325</td><td>42.075</td></tr><tr><th>28</th><td>AL0023</td><td>1994</td><td>19.6875</td><td>40.9508</td></tr><tr><th>29</th><td>AL0024</td><td>1995</td><td>19.5269</td><td>42.0008</td></tr><tr><th>30</th><td>AL0025</td><td>1995</td><td>19.6836</td><td>41.6378</td></tr><tr><th>&vellip;</th><td>&vellip;</td><td>&vellip;</td><td>&vellip;</td><td>&vellip;</td></tr></tbody></table>"
      ],
      "text/latex": [
       "\\begin{tabular}{r|cccc}\n",
       "\t& WISE3\\_ID & DATEYR & LONDD & LATDD\\\\\n",
       "\t\\hline\n",
       "\t& String & Int64? & Float64 & Float64\\\\\n",
       "\t\\hline\n",
       "\t1 & AF0001 & 1962 & 69.1667 & 34.5 \\\\\n",
       "\t2 & AF0002 & 1962 & 69.1667 & 34.5 \\\\\n",
       "\t3 & AF0003 & 1962 & 69.1667 & 34.5 \\\\\n",
       "\t4 & AF0004 & 1962 & 61.4333 & 34.3333 \\\\\n",
       "\t5 & AF0005 & 1962 & 62.1333 & 32.3833 \\\\\n",
       "\t6 & AL0001 & 1981 & 20.75 & 40.6167 \\\\\n",
       "\t7 & AL0002 & 1983 & 20.3006 & 39.635 \\\\\n",
       "\t8 & AL0003 & 1985 & 20.3861 & 42.2222 \\\\\n",
       "\t9 & AL0004 & 1991 & 19.5611 & 41.0778 \\\\\n",
       "\t10 & AL0005 & 1991 & 19.5111 & 41.4236 \\\\\n",
       "\t11 & AL0006 & 1991 & 19.5408 & 41.1767 \\\\\n",
       "\t12 & AL0007 & 1994 & 19.9956 & 41.0694 \\\\\n",
       "\t13 & AL0008 & 1994 & 20.6472 & 40.215 \\\\\n",
       "\t14 & AL0009 & 1994 & 20.7844 & 40.6372 \\\\\n",
       "\t15 & AL0010 & 1994 & 19.4836 & 40.3453 \\\\\n",
       "\t16 & AL0011 & 1994 & 19.7703 & 41.3778 \\\\\n",
       "\t17 & AL0012 & 1994 & 20.9589 & 40.6553 \\\\\n",
       "\t18 & AL0013 & 1994 & 20.7325 & 40.5644 \\\\\n",
       "\t19 & AL0014 & 1994 & 20.4064 & 41.6928 \\\\\n",
       "\t20 & AL0015 & 1994 & 19.7625 & 41.37 \\\\\n",
       "\t21 & AL0016 & 1994 & 20.7108 & 40.7217 \\\\\n",
       "\t22 & AL0017 & 1994 & 20.0267 & 39.8175 \\\\\n",
       "\t23 & AL0018 & 1994 & 19.5097 & 42.0919 \\\\\n",
       "\t24 & AL0019 & 1994 & 92.4167 & 40.7156 \\\\\n",
       "\t25 & AL0020 & 1994 & 19.6461 & 40.9858 \\\\\n",
       "\t26 & AL0021 & 1994 & 19.9942 & 41.6275 \\\\\n",
       "\t27 & AL0022 & 1994 & 20.325 & 42.075 \\\\\n",
       "\t28 & AL0023 & 1994 & 19.6875 & 40.9508 \\\\\n",
       "\t29 & AL0024 & 1995 & 19.5269 & 42.0008 \\\\\n",
       "\t30 & AL0025 & 1995 & 19.6836 & 41.6378 \\\\\n",
       "\t$\\dots$ & $\\dots$ & $\\dots$ & $\\dots$ & $\\dots$ \\\\\n",
       "\\end{tabular}\n"
      ],
      "text/plain": [
       "8186×4 DataFrame\n",
       "│ Row  │ WISE3_ID │ DATEYR │ LONDD   │ LATDD    │\n",
       "│      │ \u001b[90mString\u001b[39m   │ \u001b[90mInt64?\u001b[39m │ \u001b[90mFloat64\u001b[39m │ \u001b[90mFloat64\u001b[39m  │\n",
       "├──────┼──────────┼────────┼─────────┼──────────┤\n",
       "│ 1    │ AF0001   │ 1962   │ 69.1667 │ 34.5     │\n",
       "│ 2    │ AF0002   │ 1962   │ 69.1667 │ 34.5     │\n",
       "│ 3    │ AF0003   │ 1962   │ 69.1667 │ 34.5     │\n",
       "│ 4    │ AF0004   │ 1962   │ 61.4333 │ 34.3333  │\n",
       "│ 5    │ AF0005   │ 1962   │ 62.1333 │ 32.3833  │\n",
       "│ 6    │ AL0001   │ 1981   │ 20.75   │ 40.6167  │\n",
       "│ 7    │ AL0002   │ 1983   │ 20.3006 │ 39.635   │\n",
       "│ 8    │ AL0003   │ 1985   │ 20.3861 │ 42.2222  │\n",
       "│ 9    │ AL0004   │ 1991   │ 19.5611 │ 41.0778  │\n",
       "│ 10   │ AL0005   │ 1991   │ 19.5111 │ 41.4236  │\n",
       "⋮\n",
       "│ 8176 │ ZW0057   │ 1991   │ 28.5    │ -20.5    │\n",
       "│ 8177 │ ZW0058   │ 1991   │ 28.2667 │ -19.0833 │\n",
       "│ 8178 │ ZW0059   │ 1991   │ 31.0833 │ -17.7167 │\n",
       "│ 8179 │ ZW0060   │ 1991   │ 25.0833 │ -18.0833 │\n",
       "│ 8180 │ ZW0061   │ 1991   │ 31.0181 │ -17.6917 │\n",
       "│ 8181 │ ZW0062   │ 1991   │ 31.6333 │ -21.0    │\n",
       "│ 8182 │ ZW0063   │ 1991   │ 31.0833 │ -17.7167 │\n",
       "│ 8183 │ ZW0064   │ 1991   │ 30.5    │ -17.65   │\n",
       "│ 8184 │ ZW0065   │ 1991   │ 28.5    │ -20.5    │\n",
       "│ 8185 │ ZW0066   │ 1991   │ 31.6333 │ -21.0    │\n",
       "│ 8186 │ ZW0067   │ 1992   │ 31.75   │ -19.8    │"
      ]
     },
     "execution_count": 40,
     "metadata": {},
     "output_type": "execute_result"
    }
   ],
   "source": [
    "df_site = df_site_orig |>\n",
    "    @select(:WISE3_id, :DATEYR, :LONDD, :LATDD) |>\n",
    "    @dropna(:LONDD,:LATDD) |>\n",
    "    @rename(:WISE3_id => :WISE3_ID) |>\n",
    "\n",
    "    #parse LONDD values\n",
    "    @mutate(LONDD = replace(_.LONDD,','=>'.')) |>\n",
    "    @mutate(LONDD = parse(Float64, _.LONDD)) |>\n",
    "\n",
    "    #parse LATDD values\n",
    "    @mutate(LATDD = replace(_.LATDD,','=>'.')) |>\n",
    "    @mutate(LATDD = parse(Float64, _.LATDD)) |>\n",
    "\n",
    "    DataFrame"
   ]
  },
  {
   "cell_type": "markdown",
   "metadata": {},
   "source": [
    "Some layers have been dropped.\n",
    "Retrieving min_depth and max_depth for each profile."
   ]
  },
  {
   "cell_type": "code",
   "execution_count": 41,
   "metadata": {
    "scrolled": true
   },
   "outputs": [
    {
     "data": {
      "text/plain": [
       "depth (generic function with 1 method)"
      ]
     },
     "execution_count": 41,
     "metadata": {},
     "output_type": "execute_result"
    }
   ],
   "source": [
    "function depth(profile) \n",
    "\n",
    "top = profile.TOPDEP\n",
    "bot = profile.BOTDEP\n",
    "\n",
    "return (minimum(top), maximum(bot))\n",
    "end"
   ]
  },
  {
   "cell_type": "code",
   "execution_count": 42,
   "metadata": {
    "scrolled": true
   },
   "outputs": [
    {
     "data": {
      "text/html": [
       "<table class=\"data-frame\"><thead><tr><th></th><th>WISE3_ID</th><th>min_depth</th><th>max_depth</th></tr><tr><th></th><th>String</th><th>Int64</th><th>Int64</th></tr></thead><tbody><p>3,634 rows × 3 columns</p><tr><th>1</th><td>AL0007</td><td>0</td><td>160</td></tr><tr><th>2</th><td>AL0008</td><td>0</td><td>100</td></tr><tr><th>3</th><td>AL0009</td><td>0</td><td>97</td></tr><tr><th>4</th><td>AL0010</td><td>0</td><td>110</td></tr><tr><th>5</th><td>AL0011</td><td>0</td><td>130</td></tr><tr><th>6</th><td>AL0012</td><td>0</td><td>173</td></tr><tr><th>7</th><td>AL0013</td><td>0</td><td>180</td></tr><tr><th>8</th><td>AL0014</td><td>0</td><td>130</td></tr><tr><th>9</th><td>AL0015</td><td>0</td><td>180</td></tr><tr><th>10</th><td>AL0016</td><td>0</td><td>121</td></tr><tr><th>11</th><td>AL0017</td><td>0</td><td>77</td></tr><tr><th>12</th><td>AL0018</td><td>0</td><td>153</td></tr><tr><th>13</th><td>AL0019</td><td>0</td><td>137</td></tr><tr><th>14</th><td>AL0020</td><td>0</td><td>95</td></tr><tr><th>15</th><td>AL0021</td><td>0</td><td>180</td></tr><tr><th>16</th><td>AL0022</td><td>0</td><td>120</td></tr><tr><th>17</th><td>AL0023</td><td>0</td><td>175</td></tr><tr><th>18</th><td>AL0024</td><td>0</td><td>180</td></tr><tr><th>19</th><td>AL0025</td><td>0</td><td>140</td></tr><tr><th>20</th><td>AL0026</td><td>0</td><td>170</td></tr><tr><th>21</th><td>AL0027</td><td>0</td><td>185</td></tr><tr><th>22</th><td>AL0028</td><td>0</td><td>190</td></tr><tr><th>23</th><td>AL0029</td><td>0</td><td>170</td></tr><tr><th>24</th><td>AL0030</td><td>0</td><td>170</td></tr><tr><th>25</th><td>AL0031</td><td>0</td><td>110</td></tr><tr><th>26</th><td>AL0032</td><td>0</td><td>163</td></tr><tr><th>27</th><td>AL0033</td><td>0</td><td>160</td></tr><tr><th>28</th><td>AL0034</td><td>0</td><td>126</td></tr><tr><th>29</th><td>AL0035</td><td>0</td><td>180</td></tr><tr><th>30</th><td>AM0001</td><td>0</td><td>258</td></tr><tr><th>&vellip;</th><td>&vellip;</td><td>&vellip;</td><td>&vellip;</td></tr></tbody></table>"
      ],
      "text/latex": [
       "\\begin{tabular}{r|ccc}\n",
       "\t& WISE3\\_ID & min\\_depth & max\\_depth\\\\\n",
       "\t\\hline\n",
       "\t& String & Int64 & Int64\\\\\n",
       "\t\\hline\n",
       "\t1 & AL0007 & 0 & 160 \\\\\n",
       "\t2 & AL0008 & 0 & 100 \\\\\n",
       "\t3 & AL0009 & 0 & 97 \\\\\n",
       "\t4 & AL0010 & 0 & 110 \\\\\n",
       "\t5 & AL0011 & 0 & 130 \\\\\n",
       "\t6 & AL0012 & 0 & 173 \\\\\n",
       "\t7 & AL0013 & 0 & 180 \\\\\n",
       "\t8 & AL0014 & 0 & 130 \\\\\n",
       "\t9 & AL0015 & 0 & 180 \\\\\n",
       "\t10 & AL0016 & 0 & 121 \\\\\n",
       "\t11 & AL0017 & 0 & 77 \\\\\n",
       "\t12 & AL0018 & 0 & 153 \\\\\n",
       "\t13 & AL0019 & 0 & 137 \\\\\n",
       "\t14 & AL0020 & 0 & 95 \\\\\n",
       "\t15 & AL0021 & 0 & 180 \\\\\n",
       "\t16 & AL0022 & 0 & 120 \\\\\n",
       "\t17 & AL0023 & 0 & 175 \\\\\n",
       "\t18 & AL0024 & 0 & 180 \\\\\n",
       "\t19 & AL0025 & 0 & 140 \\\\\n",
       "\t20 & AL0026 & 0 & 170 \\\\\n",
       "\t21 & AL0027 & 0 & 185 \\\\\n",
       "\t22 & AL0028 & 0 & 190 \\\\\n",
       "\t23 & AL0029 & 0 & 170 \\\\\n",
       "\t24 & AL0030 & 0 & 170 \\\\\n",
       "\t25 & AL0031 & 0 & 110 \\\\\n",
       "\t26 & AL0032 & 0 & 163 \\\\\n",
       "\t27 & AL0033 & 0 & 160 \\\\\n",
       "\t28 & AL0034 & 0 & 126 \\\\\n",
       "\t29 & AL0035 & 0 & 180 \\\\\n",
       "\t30 & AM0001 & 0 & 258 \\\\\n",
       "\t$\\dots$ & $\\dots$ & $\\dots$ & $\\dots$ \\\\\n",
       "\\end{tabular}\n"
      ],
      "text/plain": [
       "3634×3 DataFrame\n",
       "│ Row  │ WISE3_ID │ min_depth │ max_depth │\n",
       "│      │ \u001b[90mString\u001b[39m   │ \u001b[90mInt64\u001b[39m     │ \u001b[90mInt64\u001b[39m     │\n",
       "├──────┼──────────┼───────────┼───────────┤\n",
       "│ 1    │ AL0007   │ 0         │ 160       │\n",
       "│ 2    │ AL0008   │ 0         │ 100       │\n",
       "│ 3    │ AL0009   │ 0         │ 97        │\n",
       "│ 4    │ AL0010   │ 0         │ 110       │\n",
       "│ 5    │ AL0011   │ 0         │ 130       │\n",
       "│ 6    │ AL0012   │ 0         │ 173       │\n",
       "│ 7    │ AL0013   │ 0         │ 180       │\n",
       "│ 8    │ AL0014   │ 0         │ 130       │\n",
       "│ 9    │ AL0015   │ 0         │ 180       │\n",
       "│ 10   │ AL0016   │ 0         │ 121       │\n",
       "⋮\n",
       "│ 3624 │ ZW0054   │ 0         │ 94        │\n",
       "│ 3625 │ ZW0055   │ 7         │ 25        │\n",
       "│ 3626 │ ZW0056   │ 0         │ 161       │\n",
       "│ 3627 │ ZW0057   │ 0         │ 150       │\n",
       "│ 3628 │ ZW0058   │ 0         │ 100       │\n",
       "│ 3629 │ ZW0059   │ 0         │ 23        │\n",
       "│ 3630 │ ZW0060   │ 0         │ 35        │\n",
       "│ 3631 │ ZW0062   │ 0         │ 94        │\n",
       "│ 3632 │ ZW0063   │ 0         │ 138       │\n",
       "│ 3633 │ ZW0065   │ 0         │ 68        │\n",
       "│ 3634 │ ZW0066   │ 0         │ 92        │"
      ]
     },
     "execution_count": 42,
     "metadata": {},
     "output_type": "execute_result"
    }
   ],
   "source": [
    "profiles_depth = Dict()\n",
    "\n",
    "for profile in unique_profiles\n",
    "    profiles_depth[profile] = depth(df_hz_ready[df_hz_ready.WISE3_ID.==profile,:])\n",
    "end\n",
    "\n",
    "df_depths = sort!(DataFrame(WISE3_ID = String.(keys(profiles_depth)), \n",
    "                            min_depth = [min for (min,_) in values(profiles_depth)],\n",
    "                            max_depth = [max for (_,max) in values(profiles_depth)]))\n"
   ]
  },
  {
   "cell_type": "markdown",
   "metadata": {},
   "source": [
    "Joining everything:"
   ]
  },
  {
   "cell_type": "code",
   "execution_count": 43,
   "metadata": {
    "scrolled": true
   },
   "outputs": [
    {
     "data": {
      "text/html": [
       "<table class=\"data-frame\"><thead><tr><th></th><th>wise3_id</th><th>stored_orgc</th><th>dateyr</th><th>londd</th><th>latdd</th><th>min_depth</th><th>max_depth</th></tr><tr><th></th><th>String</th><th>Float64</th><th>Int64?</th><th>Float64</th><th>Float64</th><th>Int64</th><th>Int64</th></tr></thead><tbody><p>3,286 rows × 7 columns</p><tr><th>1</th><td>AL0007</td><td>17.0032</td><td>1994</td><td>19.9956</td><td>41.0694</td><td>0</td><td>160</td></tr><tr><th>2</th><td>AL0008</td><td>6.79968</td><td>1994</td><td>20.6472</td><td>40.215</td><td>0</td><td>100</td></tr><tr><th>3</th><td>AL0009</td><td>10.19</td><td>1994</td><td>20.7844</td><td>40.6372</td><td>0</td><td>97</td></tr><tr><th>4</th><td>AL0010</td><td>16.182</td><td>1994</td><td>19.4836</td><td>40.3453</td><td>0</td><td>110</td></tr><tr><th>5</th><td>AL0011</td><td>19.5227</td><td>1994</td><td>19.7703</td><td>41.3778</td><td>0</td><td>130</td></tr><tr><th>6</th><td>AL0012</td><td>12.7518</td><td>1994</td><td>20.9589</td><td>40.6553</td><td>0</td><td>173</td></tr><tr><th>7</th><td>AL0013</td><td>14.3507</td><td>1994</td><td>20.7325</td><td>40.5644</td><td>0</td><td>180</td></tr><tr><th>8</th><td>AL0014</td><td>13.6746</td><td>1994</td><td>20.4064</td><td>41.6928</td><td>0</td><td>130</td></tr><tr><th>9</th><td>AL0015</td><td>23.7756</td><td>1994</td><td>19.7625</td><td>41.37</td><td>0</td><td>180</td></tr><tr><th>10</th><td>AL0016</td><td>104.13</td><td>1994</td><td>20.7108</td><td>40.7217</td><td>0</td><td>121</td></tr><tr><th>11</th><td>AL0017</td><td>32.8709</td><td>1994</td><td>20.0267</td><td>39.8175</td><td>0</td><td>77</td></tr><tr><th>12</th><td>AL0018</td><td>21.8077</td><td>1994</td><td>19.5097</td><td>42.0919</td><td>0</td><td>153</td></tr><tr><th>13</th><td>AL0019</td><td>65.0701</td><td>1994</td><td>92.4167</td><td>40.7156</td><td>0</td><td>137</td></tr><tr><th>14</th><td>AL0020</td><td>79.9759</td><td>1994</td><td>19.6461</td><td>40.9858</td><td>0</td><td>95</td></tr><tr><th>15</th><td>AL0021</td><td>14.3746</td><td>1994</td><td>19.9942</td><td>41.6275</td><td>0</td><td>180</td></tr><tr><th>16</th><td>AL0022</td><td>15.8464</td><td>1994</td><td>20.325</td><td>42.075</td><td>0</td><td>120</td></tr><tr><th>17</th><td>AL0023</td><td>27.9492</td><td>1994</td><td>19.6875</td><td>40.9508</td><td>0</td><td>175</td></tr><tr><th>18</th><td>AL0024</td><td>18.5125</td><td>1995</td><td>19.5269</td><td>42.0008</td><td>0</td><td>180</td></tr><tr><th>19</th><td>AL0025</td><td>31.9615</td><td>1995</td><td>19.6836</td><td>41.6378</td><td>0</td><td>140</td></tr><tr><th>20</th><td>AL0026</td><td>20.302</td><td>1995</td><td>19.5356</td><td>41.1858</td><td>0</td><td>170</td></tr><tr><th>21</th><td>AL0027</td><td>19.2275</td><td>1995</td><td>19.4603</td><td>42.0081</td><td>0</td><td>185</td></tr><tr><th>22</th><td>AL0028</td><td>11.3765</td><td>1995</td><td>20.7014</td><td>40.88</td><td>0</td><td>190</td></tr><tr><th>23</th><td>AL0029</td><td>18.3789</td><td>1995</td><td>19.9414</td><td>40.7644</td><td>0</td><td>170</td></tr><tr><th>24</th><td>AL0030</td><td>10.792</td><td>1995</td><td>20.8161</td><td>40.6611</td><td>0</td><td>170</td></tr><tr><th>25</th><td>AL0031</td><td>6.36648</td><td>1995</td><td>19.7083</td><td>40.7308</td><td>0</td><td>110</td></tr><tr><th>26</th><td>AL0032</td><td>7.43688</td><td>1995</td><td>20.6306</td><td>41.0647</td><td>0</td><td>163</td></tr><tr><th>27</th><td>AL0033</td><td>94.9217</td><td>1995</td><td>19.6828</td><td>41.7242</td><td>0</td><td>160</td></tr><tr><th>28</th><td>AL0034</td><td>11.7063</td><td>1995</td><td>19.4636</td><td>40.6164</td><td>0</td><td>126</td></tr><tr><th>29</th><td>AL0035</td><td>21.1273</td><td>1995</td><td>20.6378</td><td>41.0647</td><td>0</td><td>180</td></tr><tr><th>30</th><td>AM0001</td><td>28.8272</td><td>1974</td><td>44.75</td><td>40.4833</td><td>0</td><td>258</td></tr><tr><th>&vellip;</th><td>&vellip;</td><td>&vellip;</td><td>&vellip;</td><td>&vellip;</td><td>&vellip;</td><td>&vellip;</td><td>&vellip;</td></tr></tbody></table>"
      ],
      "text/latex": [
       "\\begin{tabular}{r|ccccccc}\n",
       "\t& wise3\\_id & stored\\_orgc & dateyr & londd & latdd & min\\_depth & max\\_depth\\\\\n",
       "\t\\hline\n",
       "\t& String & Float64 & Int64? & Float64 & Float64 & Int64 & Int64\\\\\n",
       "\t\\hline\n",
       "\t1 & AL0007 & 17.0032 & 1994 & 19.9956 & 41.0694 & 0 & 160 \\\\\n",
       "\t2 & AL0008 & 6.79968 & 1994 & 20.6472 & 40.215 & 0 & 100 \\\\\n",
       "\t3 & AL0009 & 10.19 & 1994 & 20.7844 & 40.6372 & 0 & 97 \\\\\n",
       "\t4 & AL0010 & 16.182 & 1994 & 19.4836 & 40.3453 & 0 & 110 \\\\\n",
       "\t5 & AL0011 & 19.5227 & 1994 & 19.7703 & 41.3778 & 0 & 130 \\\\\n",
       "\t6 & AL0012 & 12.7518 & 1994 & 20.9589 & 40.6553 & 0 & 173 \\\\\n",
       "\t7 & AL0013 & 14.3507 & 1994 & 20.7325 & 40.5644 & 0 & 180 \\\\\n",
       "\t8 & AL0014 & 13.6746 & 1994 & 20.4064 & 41.6928 & 0 & 130 \\\\\n",
       "\t9 & AL0015 & 23.7756 & 1994 & 19.7625 & 41.37 & 0 & 180 \\\\\n",
       "\t10 & AL0016 & 104.13 & 1994 & 20.7108 & 40.7217 & 0 & 121 \\\\\n",
       "\t11 & AL0017 & 32.8709 & 1994 & 20.0267 & 39.8175 & 0 & 77 \\\\\n",
       "\t12 & AL0018 & 21.8077 & 1994 & 19.5097 & 42.0919 & 0 & 153 \\\\\n",
       "\t13 & AL0019 & 65.0701 & 1994 & 92.4167 & 40.7156 & 0 & 137 \\\\\n",
       "\t14 & AL0020 & 79.9759 & 1994 & 19.6461 & 40.9858 & 0 & 95 \\\\\n",
       "\t15 & AL0021 & 14.3746 & 1994 & 19.9942 & 41.6275 & 0 & 180 \\\\\n",
       "\t16 & AL0022 & 15.8464 & 1994 & 20.325 & 42.075 & 0 & 120 \\\\\n",
       "\t17 & AL0023 & 27.9492 & 1994 & 19.6875 & 40.9508 & 0 & 175 \\\\\n",
       "\t18 & AL0024 & 18.5125 & 1995 & 19.5269 & 42.0008 & 0 & 180 \\\\\n",
       "\t19 & AL0025 & 31.9615 & 1995 & 19.6836 & 41.6378 & 0 & 140 \\\\\n",
       "\t20 & AL0026 & 20.302 & 1995 & 19.5356 & 41.1858 & 0 & 170 \\\\\n",
       "\t21 & AL0027 & 19.2275 & 1995 & 19.4603 & 42.0081 & 0 & 185 \\\\\n",
       "\t22 & AL0028 & 11.3765 & 1995 & 20.7014 & 40.88 & 0 & 190 \\\\\n",
       "\t23 & AL0029 & 18.3789 & 1995 & 19.9414 & 40.7644 & 0 & 170 \\\\\n",
       "\t24 & AL0030 & 10.792 & 1995 & 20.8161 & 40.6611 & 0 & 170 \\\\\n",
       "\t25 & AL0031 & 6.36648 & 1995 & 19.7083 & 40.7308 & 0 & 110 \\\\\n",
       "\t26 & AL0032 & 7.43688 & 1995 & 20.6306 & 41.0647 & 0 & 163 \\\\\n",
       "\t27 & AL0033 & 94.9217 & 1995 & 19.6828 & 41.7242 & 0 & 160 \\\\\n",
       "\t28 & AL0034 & 11.7063 & 1995 & 19.4636 & 40.6164 & 0 & 126 \\\\\n",
       "\t29 & AL0035 & 21.1273 & 1995 & 20.6378 & 41.0647 & 0 & 180 \\\\\n",
       "\t30 & AM0001 & 28.8272 & 1974 & 44.75 & 40.4833 & 0 & 258 \\\\\n",
       "\t$\\dots$ & $\\dots$ & $\\dots$ & $\\dots$ & $\\dots$ & $\\dots$ & $\\dots$ & $\\dots$ \\\\\n",
       "\\end{tabular}\n"
      ],
      "text/plain": [
       "3286×7 DataFrame. Omitted printing of 1 columns\n",
       "│ Row  │ wise3_id │ stored_orgc │ dateyr │ londd   │ latdd    │ min_depth │\n",
       "│      │ \u001b[90mString\u001b[39m   │ \u001b[90mFloat64\u001b[39m     │ \u001b[90mInt64?\u001b[39m │ \u001b[90mFloat64\u001b[39m │ \u001b[90mFloat64\u001b[39m  │ \u001b[90mInt64\u001b[39m     │\n",
       "├──────┼──────────┼─────────────┼────────┼─────────┼──────────┼───────────┤\n",
       "│ 1    │ AL0007   │ 17.0032     │ 1994   │ 19.9956 │ 41.0694  │ 0         │\n",
       "│ 2    │ AL0008   │ 6.79968     │ 1994   │ 20.6472 │ 40.215   │ 0         │\n",
       "│ 3    │ AL0009   │ 10.19       │ 1994   │ 20.7844 │ 40.6372  │ 0         │\n",
       "│ 4    │ AL0010   │ 16.182      │ 1994   │ 19.4836 │ 40.3453  │ 0         │\n",
       "│ 5    │ AL0011   │ 19.5227     │ 1994   │ 19.7703 │ 41.3778  │ 0         │\n",
       "│ 6    │ AL0012   │ 12.7518     │ 1994   │ 20.9589 │ 40.6553  │ 0         │\n",
       "│ 7    │ AL0013   │ 14.3507     │ 1994   │ 20.7325 │ 40.5644  │ 0         │\n",
       "│ 8    │ AL0014   │ 13.6746     │ 1994   │ 20.4064 │ 41.6928  │ 0         │\n",
       "│ 9    │ AL0015   │ 23.7756     │ 1994   │ 19.7625 │ 41.37    │ 0         │\n",
       "│ 10   │ AL0016   │ 104.13      │ 1994   │ 20.7108 │ 40.7217  │ 0         │\n",
       "⋮\n",
       "│ 3276 │ ZW0054   │ 3.08355     │ 1991   │ 32.25   │ -18.5167 │ 0         │\n",
       "│ 3277 │ ZW0055   │ 2.73546     │ 1991   │ 32.4667 │ -20.2    │ 7         │\n",
       "│ 3278 │ ZW0056   │ 10.6293     │ 1991   │ 31.0833 │ -17.7167 │ 0         │\n",
       "│ 3279 │ ZW0057   │ 4.56087     │ 1991   │ 28.5    │ -20.5    │ 0         │\n",
       "│ 3280 │ ZW0058   │ 4.3443      │ 1991   │ 28.2667 │ -19.0833 │ 0         │\n",
       "│ 3281 │ ZW0059   │ 3.68667     │ 1991   │ 31.0833 │ -17.7167 │ 0         │\n",
       "│ 3282 │ ZW0060   │ 8.19492     │ 1991   │ 25.0833 │ -18.0833 │ 0         │\n",
       "│ 3283 │ ZW0062   │ 10.394      │ 1991   │ 31.6333 │ -21.0    │ 0         │\n",
       "│ 3284 │ ZW0063   │ 12.8412     │ 1991   │ 31.0833 │ -17.7167 │ 0         │\n",
       "│ 3285 │ ZW0065   │ 8.96388     │ 1991   │ 28.5    │ -20.5    │ 0         │\n",
       "│ 3286 │ ZW0066   │ 22.236      │ 1991   │ 31.6333 │ -21.0    │ 0         │"
      ]
     },
     "execution_count": 43,
     "metadata": {},
     "output_type": "execute_result"
    }
   ],
   "source": [
    "#add date and location data\n",
    "df_join_Date_Loc = innerjoin(df_stored_ORGC, df_site, on = :WISE3_ID)\n",
    "\n",
    "#add min_depth and max_depth data\n",
    "df_final = innerjoin(df_join_Date_Loc, df_depths, on = :WISE3_ID)\n",
    "\n",
    "rename!(df_final, lowercase.(names(df_final)))"
   ]
  },
  {
   "cell_type": "markdown",
   "metadata": {},
   "source": [
    "Results here:\n",
    "\n",
    "https://drive.google.com/file/d/1ujWu4tYYcy5khvpJOpKL95DgoXRKMiUu/view?usp=sharing"
   ]
  }
 ],
 "metadata": {
  "kernelspec": {
   "display_name": "Julia 1.5.3",
   "language": "julia",
   "name": "julia-1.5"
  },
  "language_info": {
   "file_extension": ".jl",
   "mimetype": "application/julia",
   "name": "julia",
   "version": "1.5.3"
  }
 },
 "nbformat": 4,
 "nbformat_minor": 2
}
