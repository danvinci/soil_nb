{
 "cells": [
  {
   "cell_type": "code",
   "execution_count": 3,
   "metadata": {},
   "outputs": [],
   "source": [
    "using Pkg"
   ]
  },
  {
   "cell_type": "code",
   "execution_count": 4,
   "metadata": {
    "scrolled": true
   },
   "outputs": [
    {
     "name": "stderr",
     "output_type": "stream",
     "text": [
      "\u001b[32m\u001b[1m  Resolving\u001b[22m\u001b[39m package versions...\n",
      "\u001b[32m\u001b[1mNo Changes\u001b[22m\u001b[39m to `~/.julia/environments/v1.5/Project.toml`\n",
      "\u001b[32m\u001b[1mNo Changes\u001b[22m\u001b[39m to `~/.julia/environments/v1.5/Manifest.toml`\n"
     ]
    }
   ],
   "source": [
    "Pkg.add([\"DataFrames\", \"CSV\", \"Query\", \"StatsBase\"])\n",
    "using DataFrames, CSV, Query, StatsBase"
   ]
  },
  {
   "cell_type": "code",
   "execution_count": 31,
   "metadata": {
    "scrolled": false
   },
   "outputs": [
    {
     "data": {
      "text/plain": [
       "20"
      ]
     },
     "execution_count": 31,
     "metadata": {},
     "output_type": "execute_result"
    }
   ],
   "source": [
    "ENV[\"COLUMNS\"] = 1000; ENV[\"LINES\"] = 20"
   ]
  },
  {
   "cell_type": "code",
   "execution_count": 32,
   "metadata": {},
   "outputs": [
    {
     "name": "stderr",
     "output_type": "stream",
     "text": [
      "┌ Warning: thread = 1 warning: only found 30 / 31 columns around data row: 47834. Filling remaining columns with `missing`\n",
      "└ @ CSV /Users/Daniele/.julia/packages/CSV/la2cd/src/file.jl:603\n"
     ]
    },
    {
     "data": {
      "text/html": [
       "<table class=\"data-frame\"><thead><tr><th></th><th>WISE3_ID</th><th>HONU</th><th>DESIG</th><th>TOPDEP</th><th>BOTDEP</th><th>MCOLOR</th><th>DCOLOR</th><th>ORGC</th><th>TOTN</th><th>CACO3</th><th>GYPSUM</th><th>PHH2O</th><th>PHKCL</th><th>PHCACL2</th><th>ECE</th><th>EXCA</th><th>EXMG</th><th>EXNA</th><th>EXK</th><th>EXALUM</th><th>EXACID</th><th>CECSOIL</th><th>BSAT</th><th>SAND</th><th>SILT</th><th>CLAY</th><th>GRAVEL</th><th>BULKDENS</th><th>VMC1</th><th>VMC2</th><th>VMC3</th></tr><tr><th></th><th>String</th><th>Int64</th><th>String?</th><th>Int64</th><th>Int64</th><th>String?</th><th>String?</th><th>String?</th><th>String?</th><th>String?</th><th>String?</th><th>String?</th><th>String?</th><th>String?</th><th>String?</th><th>String?</th><th>String?</th><th>String?</th><th>String?</th><th>String?</th><th>String?</th><th>String?</th><th>Int64?</th><th>Int64?</th><th>Int64?</th><th>Int64?</th><th>Int64?</th><th>String?</th><th>Int64?</th><th>Int64?</th><th>Int64?</th></tr></thead><tbody><p>47,833 rows × 31 columns</p><tr><th>1</th><td>AF0001</td><td>1</td><td><em>missing</em></td><td>0</td><td>15</td><td>10YR4/3</td><td>10YR4/2</td><td>7,6</td><td>0,6</td><td>93</td><td><em>missing</em></td><td>7,9</td><td><em>missing</em></td><td><em>missing</em></td><td>0,38</td><td><em>missing</em></td><td><em>missing</em></td><td><em>missing</em></td><td><em>missing</em></td><td>0</td><td>0</td><td><em>missing</em></td><td><em>missing</em></td><td>40</td><td>40</td><td>20</td><td>20</td><td><em>missing</em></td><td><em>missing</em></td><td><em>missing</em></td><td><em>missing</em></td></tr><tr><th>2</th><td>AF0001</td><td>2</td><td><em>missing</em></td><td>15</td><td>60</td><td>10YR5/3</td><td>10YR5/2</td><td>2,3</td><td>0,3</td><td>177</td><td><em>missing</em></td><td>7,9</td><td><em>missing</em></td><td><em>missing</em></td><td>0,3</td><td><em>missing</em></td><td><em>missing</em></td><td><em>missing</em></td><td><em>missing</em></td><td>0</td><td>0</td><td><em>missing</em></td><td><em>missing</em></td><td>10</td><td>55</td><td>35</td><td><em>missing</em></td><td><em>missing</em></td><td><em>missing</em></td><td><em>missing</em></td><td><em>missing</em></td></tr><tr><th>3</th><td>AF0001</td><td>3</td><td><em>missing</em></td><td>60</td><td>150</td><td>10YR5/3</td><td><em>missing</em></td><td>0,9</td><td>0,3</td><td>182</td><td><em>missing</em></td><td>7,9</td><td><em>missing</em></td><td><em>missing</em></td><td>0,28</td><td><em>missing</em></td><td><em>missing</em></td><td><em>missing</em></td><td><em>missing</em></td><td>0</td><td>0</td><td><em>missing</em></td><td><em>missing</em></td><td>10</td><td>55</td><td>35</td><td><em>missing</em></td><td><em>missing</em></td><td><em>missing</em></td><td><em>missing</em></td><td><em>missing</em></td></tr><tr><th>4</th><td>AF0002</td><td>1</td><td><em>missing</em></td><td>0</td><td>20</td><td>10YR4/2</td><td><em>missing</em></td><td>12,8</td><td>0,9</td><td>191</td><td><em>missing</em></td><td>8,5</td><td><em>missing</em></td><td><em>missing</em></td><td>0,42</td><td><em>missing</em></td><td><em>missing</em></td><td><em>missing</em></td><td><em>missing</em></td><td>0</td><td>0</td><td><em>missing</em></td><td><em>missing</em></td><td>40</td><td>40</td><td>20</td><td><em>missing</em></td><td><em>missing</em></td><td><em>missing</em></td><td><em>missing</em></td><td><em>missing</em></td></tr><tr><th>5</th><td>AF0002</td><td>2</td><td><em>missing</em></td><td>20</td><td>60</td><td>10YR4/2</td><td><em>missing</em></td><td>6</td><td>0,6</td><td>192</td><td><em>missing</em></td><td>8,6</td><td><em>missing</em></td><td><em>missing</em></td><td>0,34</td><td><em>missing</em></td><td><em>missing</em></td><td><em>missing</em></td><td><em>missing</em></td><td>0</td><td>0</td><td><em>missing</em></td><td><em>missing</em></td><td>15</td><td>65</td><td>20</td><td><em>missing</em></td><td><em>missing</em></td><td><em>missing</em></td><td><em>missing</em></td><td><em>missing</em></td></tr><tr><th>6</th><td>AF0002</td><td>3</td><td><em>missing</em></td><td>60</td><td>110</td><td>10YR4/3</td><td><em>missing</em></td><td>3,9</td><td>0,6</td><td>203</td><td><em>missing</em></td><td>8,5</td><td><em>missing</em></td><td><em>missing</em></td><td>0,3</td><td><em>missing</em></td><td><em>missing</em></td><td><em>missing</em></td><td><em>missing</em></td><td>0</td><td>0</td><td><em>missing</em></td><td><em>missing</em></td><td>10</td><td>55</td><td>35</td><td><em>missing</em></td><td><em>missing</em></td><td><em>missing</em></td><td><em>missing</em></td><td><em>missing</em></td></tr><tr><th>7</th><td>AF0002</td><td>4</td><td><em>missing</em></td><td>110</td><td>170</td><td>10YR4/3</td><td><em>missing</em></td><td>2,7</td><td><em>missing</em></td><td>240</td><td><em>missing</em></td><td>8,8</td><td><em>missing</em></td><td><em>missing</em></td><td>0,3</td><td><em>missing</em></td><td><em>missing</em></td><td><em>missing</em></td><td><em>missing</em></td><td>0</td><td>0</td><td><em>missing</em></td><td><em>missing</em></td><td>40</td><td>40</td><td>20</td><td><em>missing</em></td><td><em>missing</em></td><td><em>missing</em></td><td><em>missing</em></td><td><em>missing</em></td></tr><tr><th>8</th><td>AF0003</td><td>1</td><td>A</td><td>0</td><td>20</td><td>10YR4/2</td><td><em>missing</em></td><td>5,9</td><td>0,7</td><td>169</td><td><em>missing</em></td><td>8,8</td><td><em>missing</em></td><td><em>missing</em></td><td>1,9</td><td><em>missing</em></td><td><em>missing</em></td><td><em>missing</em></td><td><em>missing</em></td><td>0</td><td>0</td><td><em>missing</em></td><td><em>missing</em></td><td>40</td><td>40</td><td>20</td><td><em>missing</em></td><td><em>missing</em></td><td><em>missing</em></td><td><em>missing</em></td><td><em>missing</em></td></tr><tr><th>9</th><td>AF0003</td><td>2</td><td>Bg</td><td>20</td><td>50</td><td>10YR4/2</td><td><em>missing</em></td><td>2,4</td><td>0,4</td><td>138</td><td><em>missing</em></td><td>9,2</td><td><em>missing</em></td><td><em>missing</em></td><td>0,55</td><td><em>missing</em></td><td><em>missing</em></td><td><em>missing</em></td><td><em>missing</em></td><td>0</td><td>0</td><td><em>missing</em></td><td><em>missing</em></td><td>65</td><td>25</td><td>10</td><td><em>missing</em></td><td><em>missing</em></td><td><em>missing</em></td><td><em>missing</em></td><td><em>missing</em></td></tr><tr><th>10</th><td>AF0003</td><td>3</td><td>Cg</td><td>50</td><td>110</td><td>10YR4/3</td><td><em>missing</em></td><td><em>missing</em></td><td><em>missing</em></td><td>196</td><td><em>missing</em></td><td>8,9</td><td><em>missing</em></td><td><em>missing</em></td><td>0,4</td><td><em>missing</em></td><td><em>missing</em></td><td><em>missing</em></td><td><em>missing</em></td><td>0</td><td>0</td><td><em>missing</em></td><td><em>missing</em></td><td>60</td><td>15</td><td>25</td><td><em>missing</em></td><td><em>missing</em></td><td><em>missing</em></td><td><em>missing</em></td><td><em>missing</em></td></tr><tr><th>11</th><td>AF0004</td><td>1</td><td><em>missing</em></td><td>0</td><td>15</td><td>10YR4/2</td><td><em>missing</em></td><td>14,6</td><td><em>missing</em></td><td>186</td><td><em>missing</em></td><td>8,6</td><td><em>missing</em></td><td><em>missing</em></td><td>32,5</td><td>60</td><td><em>missing</em></td><td>122</td><td>5,1</td><td>0</td><td>0</td><td>21,7</td><td><em>missing</em></td><td>20</td><td>65</td><td>15</td><td><em>missing</em></td><td><em>missing</em></td><td><em>missing</em></td><td><em>missing</em></td><td><em>missing</em></td></tr><tr><th>12</th><td>AF0004</td><td>2</td><td><em>missing</em></td><td>15</td><td>35</td><td>10YR4/3</td><td><em>missing</em></td><td>8,4</td><td><em>missing</em></td><td>228</td><td><em>missing</em></td><td>8,9</td><td><em>missing</em></td><td><em>missing</em></td><td>12</td><td>40</td><td><em>missing</em></td><td>72</td><td>3</td><td>0</td><td>0</td><td>26,5</td><td><em>missing</em></td><td>10</td><td>60</td><td>30</td><td><em>missing</em></td><td><em>missing</em></td><td><em>missing</em></td><td><em>missing</em></td><td><em>missing</em></td></tr><tr><th>13</th><td>AF0004</td><td>3</td><td><em>missing</em></td><td>35</td><td>70</td><td>10YR4/3</td><td><em>missing</em></td><td><em>missing</em></td><td><em>missing</em></td><td>201</td><td><em>missing</em></td><td>8,7</td><td><em>missing</em></td><td><em>missing</em></td><td>12</td><td>21</td><td><em>missing</em></td><td>70</td><td>1,6</td><td>0</td><td>0</td><td>13</td><td><em>missing</em></td><td>40</td><td>40</td><td>20</td><td><em>missing</em></td><td><em>missing</em></td><td><em>missing</em></td><td><em>missing</em></td><td><em>missing</em></td></tr><tr><th>14</th><td>AF0004</td><td>4</td><td><em>missing</em></td><td>70</td><td>110</td><td>10YR7/2</td><td><em>missing</em></td><td><em>missing</em></td><td><em>missing</em></td><td>256</td><td><em>missing</em></td><td>8,9</td><td><em>missing</em></td><td><em>missing</em></td><td>12,5</td><td>20</td><td><em>missing</em></td><td>70</td><td>1,3</td><td>0</td><td>0</td><td>17,4</td><td><em>missing</em></td><td>60</td><td>10</td><td>30</td><td><em>missing</em></td><td><em>missing</em></td><td><em>missing</em></td><td><em>missing</em></td><td><em>missing</em></td></tr><tr><th>15</th><td>AF0004</td><td>5</td><td><em>missing</em></td><td>110</td><td>170</td><td>10YR5/1</td><td><em>missing</em></td><td><em>missing</em></td><td><em>missing</em></td><td>260</td><td><em>missing</em></td><td>9,1</td><td><em>missing</em></td><td><em>missing</em></td><td>5,5</td><td>23</td><td><em>missing</em></td><td>43</td><td>1,3</td><td>0</td><td>0</td><td>13,5</td><td><em>missing</em></td><td>60</td><td>10</td><td>30</td><td><em>missing</em></td><td><em>missing</em></td><td><em>missing</em></td><td><em>missing</em></td><td><em>missing</em></td></tr><tr><th>16</th><td>AF0004</td><td>6</td><td><em>missing</em></td><td>170</td><td>270</td><td><em>missing</em></td><td><em>missing</em></td><td><em>missing</em></td><td><em>missing</em></td><td><em>missing</em></td><td><em>missing</em></td><td><em>missing</em></td><td><em>missing</em></td><td><em>missing</em></td><td><em>missing</em></td><td><em>missing</em></td><td><em>missing</em></td><td><em>missing</em></td><td><em>missing</em></td><td><em>missing</em></td><td><em>missing</em></td><td><em>missing</em></td><td><em>missing</em></td><td>5</td><td>50</td><td>45</td><td><em>missing</em></td><td><em>missing</em></td><td><em>missing</em></td><td><em>missing</em></td><td><em>missing</em></td></tr><tr><th>17</th><td>AF0005</td><td>1</td><td><em>missing</em></td><td>0</td><td>4</td><td><em>missing</em></td><td><em>missing</em></td><td>3,1</td><td><em>missing</em></td><td>208</td><td><em>missing</em></td><td>8,9</td><td><em>missing</em></td><td><em>missing</em></td><td>22</td><td><em>missing</em></td><td><em>missing</em></td><td><em>missing</em></td><td><em>missing</em></td><td>0</td><td>0</td><td><em>missing</em></td><td><em>missing</em></td><td>10</td><td>55</td><td>35</td><td><em>missing</em></td><td><em>missing</em></td><td><em>missing</em></td><td><em>missing</em></td><td><em>missing</em></td></tr><tr><th>18</th><td>AF0005</td><td>2</td><td><em>missing</em></td><td>4</td><td>20</td><td>10YR4/3</td><td><em>missing</em></td><td>3,5</td><td><em>missing</em></td><td>206</td><td><em>missing</em></td><td>8,8</td><td><em>missing</em></td><td><em>missing</em></td><td>70</td><td><em>missing</em></td><td><em>missing</em></td><td><em>missing</em></td><td><em>missing</em></td><td>0</td><td>0</td><td><em>missing</em></td><td><em>missing</em></td><td>10</td><td>55</td><td>35</td><td><em>missing</em></td><td><em>missing</em></td><td><em>missing</em></td><td><em>missing</em></td><td><em>missing</em></td></tr><tr><th>19</th><td>AF0005</td><td>3</td><td><em>missing</em></td><td>20</td><td>45</td><td>10YR5/3</td><td><em>missing</em></td><td>3,1</td><td><em>missing</em></td><td>219</td><td><em>missing</em></td><td>8,8</td><td><em>missing</em></td><td><em>missing</em></td><td>32</td><td><em>missing</em></td><td><em>missing</em></td><td><em>missing</em></td><td><em>missing</em></td><td>0</td><td>0</td><td><em>missing</em></td><td><em>missing</em></td><td>10</td><td>55</td><td>35</td><td><em>missing</em></td><td><em>missing</em></td><td><em>missing</em></td><td><em>missing</em></td><td><em>missing</em></td></tr><tr><th>20</th><td>AF0005</td><td>4</td><td><em>missing</em></td><td>45</td><td>100</td><td>10YR5/3</td><td><em>missing</em></td><td>2,1</td><td><em>missing</em></td><td>245</td><td><em>missing</em></td><td>9,2</td><td><em>missing</em></td><td><em>missing</em></td><td>14</td><td><em>missing</em></td><td><em>missing</em></td><td><em>missing</em></td><td><em>missing</em></td><td>0</td><td>0</td><td><em>missing</em></td><td><em>missing</em></td><td>30</td><td>35</td><td>35</td><td><em>missing</em></td><td><em>missing</em></td><td><em>missing</em></td><td><em>missing</em></td><td><em>missing</em></td></tr><tr><th>&vellip;</th><td>&vellip;</td><td>&vellip;</td><td>&vellip;</td><td>&vellip;</td><td>&vellip;</td><td>&vellip;</td><td>&vellip;</td><td>&vellip;</td><td>&vellip;</td><td>&vellip;</td><td>&vellip;</td><td>&vellip;</td><td>&vellip;</td><td>&vellip;</td><td>&vellip;</td><td>&vellip;</td><td>&vellip;</td><td>&vellip;</td><td>&vellip;</td><td>&vellip;</td><td>&vellip;</td><td>&vellip;</td><td>&vellip;</td><td>&vellip;</td><td>&vellip;</td><td>&vellip;</td><td>&vellip;</td><td>&vellip;</td><td>&vellip;</td><td>&vellip;</td><td>&vellip;</td></tr></tbody></table>"
      ],
      "text/latex": [
       "\\begin{tabular}{r|ccccccccccccccccccccccccccccccc}\n",
       "\t& WISE3\\_ID & HONU & DESIG & TOPDEP & BOTDEP & MCOLOR & DCOLOR & ORGC & TOTN & CACO3 & GYPSUM & PHH2O & PHKCL & PHCACL2 & ECE & EXCA & EXMG & EXNA & EXK & EXALUM & EXACID & CECSOIL & BSAT & SAND & SILT & CLAY & GRAVEL & BULKDENS & VMC1 & VMC2 & VMC3\\\\\n",
       "\t\\hline\n",
       "\t& String & Int64 & String? & Int64 & Int64 & String? & String? & String? & String? & String? & String? & String? & String? & String? & String? & String? & String? & String? & String? & String? & String? & String? & Int64? & Int64? & Int64? & Int64? & Int64? & String? & Int64? & Int64? & Int64?\\\\\n",
       "\t\\hline\n",
       "\t1 & AF0001 & 1 & \\emph{missing} & 0 & 15 & 10YR4/3 & 10YR4/2 & 7,6 & 0,6 & 93 & \\emph{missing} & 7,9 & \\emph{missing} & \\emph{missing} & 0,38 & \\emph{missing} & \\emph{missing} & \\emph{missing} & \\emph{missing} & 0 & 0 & \\emph{missing} & \\emph{missing} & 40 & 40 & 20 & 20 & \\emph{missing} & \\emph{missing} & \\emph{missing} & \\emph{missing} \\\\\n",
       "\t2 & AF0001 & 2 & \\emph{missing} & 15 & 60 & 10YR5/3 & 10YR5/2 & 2,3 & 0,3 & 177 & \\emph{missing} & 7,9 & \\emph{missing} & \\emph{missing} & 0,3 & \\emph{missing} & \\emph{missing} & \\emph{missing} & \\emph{missing} & 0 & 0 & \\emph{missing} & \\emph{missing} & 10 & 55 & 35 & \\emph{missing} & \\emph{missing} & \\emph{missing} & \\emph{missing} & \\emph{missing} \\\\\n",
       "\t3 & AF0001 & 3 & \\emph{missing} & 60 & 150 & 10YR5/3 & \\emph{missing} & 0,9 & 0,3 & 182 & \\emph{missing} & 7,9 & \\emph{missing} & \\emph{missing} & 0,28 & \\emph{missing} & \\emph{missing} & \\emph{missing} & \\emph{missing} & 0 & 0 & \\emph{missing} & \\emph{missing} & 10 & 55 & 35 & \\emph{missing} & \\emph{missing} & \\emph{missing} & \\emph{missing} & \\emph{missing} \\\\\n",
       "\t4 & AF0002 & 1 & \\emph{missing} & 0 & 20 & 10YR4/2 & \\emph{missing} & 12,8 & 0,9 & 191 & \\emph{missing} & 8,5 & \\emph{missing} & \\emph{missing} & 0,42 & \\emph{missing} & \\emph{missing} & \\emph{missing} & \\emph{missing} & 0 & 0 & \\emph{missing} & \\emph{missing} & 40 & 40 & 20 & \\emph{missing} & \\emph{missing} & \\emph{missing} & \\emph{missing} & \\emph{missing} \\\\\n",
       "\t5 & AF0002 & 2 & \\emph{missing} & 20 & 60 & 10YR4/2 & \\emph{missing} & 6 & 0,6 & 192 & \\emph{missing} & 8,6 & \\emph{missing} & \\emph{missing} & 0,34 & \\emph{missing} & \\emph{missing} & \\emph{missing} & \\emph{missing} & 0 & 0 & \\emph{missing} & \\emph{missing} & 15 & 65 & 20 & \\emph{missing} & \\emph{missing} & \\emph{missing} & \\emph{missing} & \\emph{missing} \\\\\n",
       "\t6 & AF0002 & 3 & \\emph{missing} & 60 & 110 & 10YR4/3 & \\emph{missing} & 3,9 & 0,6 & 203 & \\emph{missing} & 8,5 & \\emph{missing} & \\emph{missing} & 0,3 & \\emph{missing} & \\emph{missing} & \\emph{missing} & \\emph{missing} & 0 & 0 & \\emph{missing} & \\emph{missing} & 10 & 55 & 35 & \\emph{missing} & \\emph{missing} & \\emph{missing} & \\emph{missing} & \\emph{missing} \\\\\n",
       "\t7 & AF0002 & 4 & \\emph{missing} & 110 & 170 & 10YR4/3 & \\emph{missing} & 2,7 & \\emph{missing} & 240 & \\emph{missing} & 8,8 & \\emph{missing} & \\emph{missing} & 0,3 & \\emph{missing} & \\emph{missing} & \\emph{missing} & \\emph{missing} & 0 & 0 & \\emph{missing} & \\emph{missing} & 40 & 40 & 20 & \\emph{missing} & \\emph{missing} & \\emph{missing} & \\emph{missing} & \\emph{missing} \\\\\n",
       "\t8 & AF0003 & 1 & A & 0 & 20 & 10YR4/2 & \\emph{missing} & 5,9 & 0,7 & 169 & \\emph{missing} & 8,8 & \\emph{missing} & \\emph{missing} & 1,9 & \\emph{missing} & \\emph{missing} & \\emph{missing} & \\emph{missing} & 0 & 0 & \\emph{missing} & \\emph{missing} & 40 & 40 & 20 & \\emph{missing} & \\emph{missing} & \\emph{missing} & \\emph{missing} & \\emph{missing} \\\\\n",
       "\t9 & AF0003 & 2 & Bg & 20 & 50 & 10YR4/2 & \\emph{missing} & 2,4 & 0,4 & 138 & \\emph{missing} & 9,2 & \\emph{missing} & \\emph{missing} & 0,55 & \\emph{missing} & \\emph{missing} & \\emph{missing} & \\emph{missing} & 0 & 0 & \\emph{missing} & \\emph{missing} & 65 & 25 & 10 & \\emph{missing} & \\emph{missing} & \\emph{missing} & \\emph{missing} & \\emph{missing} \\\\\n",
       "\t10 & AF0003 & 3 & Cg & 50 & 110 & 10YR4/3 & \\emph{missing} & \\emph{missing} & \\emph{missing} & 196 & \\emph{missing} & 8,9 & \\emph{missing} & \\emph{missing} & 0,4 & \\emph{missing} & \\emph{missing} & \\emph{missing} & \\emph{missing} & 0 & 0 & \\emph{missing} & \\emph{missing} & 60 & 15 & 25 & \\emph{missing} & \\emph{missing} & \\emph{missing} & \\emph{missing} & \\emph{missing} \\\\\n",
       "\t11 & AF0004 & 1 & \\emph{missing} & 0 & 15 & 10YR4/2 & \\emph{missing} & 14,6 & \\emph{missing} & 186 & \\emph{missing} & 8,6 & \\emph{missing} & \\emph{missing} & 32,5 & 60 & \\emph{missing} & 122 & 5,1 & 0 & 0 & 21,7 & \\emph{missing} & 20 & 65 & 15 & \\emph{missing} & \\emph{missing} & \\emph{missing} & \\emph{missing} & \\emph{missing} \\\\\n",
       "\t12 & AF0004 & 2 & \\emph{missing} & 15 & 35 & 10YR4/3 & \\emph{missing} & 8,4 & \\emph{missing} & 228 & \\emph{missing} & 8,9 & \\emph{missing} & \\emph{missing} & 12 & 40 & \\emph{missing} & 72 & 3 & 0 & 0 & 26,5 & \\emph{missing} & 10 & 60 & 30 & \\emph{missing} & \\emph{missing} & \\emph{missing} & \\emph{missing} & \\emph{missing} \\\\\n",
       "\t13 & AF0004 & 3 & \\emph{missing} & 35 & 70 & 10YR4/3 & \\emph{missing} & \\emph{missing} & \\emph{missing} & 201 & \\emph{missing} & 8,7 & \\emph{missing} & \\emph{missing} & 12 & 21 & \\emph{missing} & 70 & 1,6 & 0 & 0 & 13 & \\emph{missing} & 40 & 40 & 20 & \\emph{missing} & \\emph{missing} & \\emph{missing} & \\emph{missing} & \\emph{missing} \\\\\n",
       "\t14 & AF0004 & 4 & \\emph{missing} & 70 & 110 & 10YR7/2 & \\emph{missing} & \\emph{missing} & \\emph{missing} & 256 & \\emph{missing} & 8,9 & \\emph{missing} & \\emph{missing} & 12,5 & 20 & \\emph{missing} & 70 & 1,3 & 0 & 0 & 17,4 & \\emph{missing} & 60 & 10 & 30 & \\emph{missing} & \\emph{missing} & \\emph{missing} & \\emph{missing} & \\emph{missing} \\\\\n",
       "\t15 & AF0004 & 5 & \\emph{missing} & 110 & 170 & 10YR5/1 & \\emph{missing} & \\emph{missing} & \\emph{missing} & 260 & \\emph{missing} & 9,1 & \\emph{missing} & \\emph{missing} & 5,5 & 23 & \\emph{missing} & 43 & 1,3 & 0 & 0 & 13,5 & \\emph{missing} & 60 & 10 & 30 & \\emph{missing} & \\emph{missing} & \\emph{missing} & \\emph{missing} & \\emph{missing} \\\\\n",
       "\t16 & AF0004 & 6 & \\emph{missing} & 170 & 270 & \\emph{missing} & \\emph{missing} & \\emph{missing} & \\emph{missing} & \\emph{missing} & \\emph{missing} & \\emph{missing} & \\emph{missing} & \\emph{missing} & \\emph{missing} & \\emph{missing} & \\emph{missing} & \\emph{missing} & \\emph{missing} & \\emph{missing} & \\emph{missing} & \\emph{missing} & \\emph{missing} & 5 & 50 & 45 & \\emph{missing} & \\emph{missing} & \\emph{missing} & \\emph{missing} & \\emph{missing} \\\\\n",
       "\t17 & AF0005 & 1 & \\emph{missing} & 0 & 4 & \\emph{missing} & \\emph{missing} & 3,1 & \\emph{missing} & 208 & \\emph{missing} & 8,9 & \\emph{missing} & \\emph{missing} & 22 & \\emph{missing} & \\emph{missing} & \\emph{missing} & \\emph{missing} & 0 & 0 & \\emph{missing} & \\emph{missing} & 10 & 55 & 35 & \\emph{missing} & \\emph{missing} & \\emph{missing} & \\emph{missing} & \\emph{missing} \\\\\n",
       "\t18 & AF0005 & 2 & \\emph{missing} & 4 & 20 & 10YR4/3 & \\emph{missing} & 3,5 & \\emph{missing} & 206 & \\emph{missing} & 8,8 & \\emph{missing} & \\emph{missing} & 70 & \\emph{missing} & \\emph{missing} & \\emph{missing} & \\emph{missing} & 0 & 0 & \\emph{missing} & \\emph{missing} & 10 & 55 & 35 & \\emph{missing} & \\emph{missing} & \\emph{missing} & \\emph{missing} & \\emph{missing} \\\\\n",
       "\t19 & AF0005 & 3 & \\emph{missing} & 20 & 45 & 10YR5/3 & \\emph{missing} & 3,1 & \\emph{missing} & 219 & \\emph{missing} & 8,8 & \\emph{missing} & \\emph{missing} & 32 & \\emph{missing} & \\emph{missing} & \\emph{missing} & \\emph{missing} & 0 & 0 & \\emph{missing} & \\emph{missing} & 10 & 55 & 35 & \\emph{missing} & \\emph{missing} & \\emph{missing} & \\emph{missing} & \\emph{missing} \\\\\n",
       "\t20 & AF0005 & 4 & \\emph{missing} & 45 & 100 & 10YR5/3 & \\emph{missing} & 2,1 & \\emph{missing} & 245 & \\emph{missing} & 9,2 & \\emph{missing} & \\emph{missing} & 14 & \\emph{missing} & \\emph{missing} & \\emph{missing} & \\emph{missing} & 0 & 0 & \\emph{missing} & \\emph{missing} & 30 & 35 & 35 & \\emph{missing} & \\emph{missing} & \\emph{missing} & \\emph{missing} & \\emph{missing} \\\\\n",
       "\t$\\dots$ & $\\dots$ & $\\dots$ & $\\dots$ & $\\dots$ & $\\dots$ & $\\dots$ & $\\dots$ & $\\dots$ & $\\dots$ & $\\dots$ & $\\dots$ & $\\dots$ & $\\dots$ & $\\dots$ & $\\dots$ & $\\dots$ & $\\dots$ & $\\dots$ & $\\dots$ & $\\dots$ & $\\dots$ & $\\dots$ & $\\dots$ & $\\dots$ & $\\dots$ & $\\dots$ & $\\dots$ & $\\dots$ & $\\dots$ & $\\dots$ & $\\dots$ \\\\\n",
       "\\end{tabular}\n"
      ],
      "text/plain": [
       "47833×31 DataFrame\n",
       "│ Row   │ WISE3_ID │ HONU  │ DESIG   │ TOPDEP │ BOTDEP │ MCOLOR  │ DCOLOR  │ ORGC    │ TOTN    │ CACO3   │ GYPSUM  │ PHH2O   │ PHKCL   │ PHCACL2 │ ECE     │ EXCA    │ EXMG    │ EXNA    │ EXK     │ EXALUM  │ EXACID  │ CECSOIL │ BSAT    │ SAND   │ SILT   │ CLAY   │ GRAVEL  │ BULKDENS │ VMC1    │ VMC2    │ VMC3    │\n",
       "│       │ \u001b[90mString\u001b[39m   │ \u001b[90mInt64\u001b[39m │ \u001b[90mString?\u001b[39m │ \u001b[90mInt64\u001b[39m  │ \u001b[90mInt64\u001b[39m  │ \u001b[90mString?\u001b[39m │ \u001b[90mString?\u001b[39m │ \u001b[90mString?\u001b[39m │ \u001b[90mString?\u001b[39m │ \u001b[90mString?\u001b[39m │ \u001b[90mString?\u001b[39m │ \u001b[90mString?\u001b[39m │ \u001b[90mString?\u001b[39m │ \u001b[90mString?\u001b[39m │ \u001b[90mString?\u001b[39m │ \u001b[90mString?\u001b[39m │ \u001b[90mString?\u001b[39m │ \u001b[90mString?\u001b[39m │ \u001b[90mString?\u001b[39m │ \u001b[90mString?\u001b[39m │ \u001b[90mString?\u001b[39m │ \u001b[90mString?\u001b[39m │ \u001b[90mInt64?\u001b[39m  │ \u001b[90mInt64?\u001b[39m │ \u001b[90mInt64?\u001b[39m │ \u001b[90mInt64?\u001b[39m │ \u001b[90mInt64?\u001b[39m  │ \u001b[90mString?\u001b[39m  │ \u001b[90mInt64?\u001b[39m  │ \u001b[90mInt64?\u001b[39m  │ \u001b[90mInt64?\u001b[39m  │\n",
       "├───────┼──────────┼───────┼─────────┼────────┼────────┼─────────┼─────────┼─────────┼─────────┼─────────┼─────────┼─────────┼─────────┼─────────┼─────────┼─────────┼─────────┼─────────┼─────────┼─────────┼─────────┼─────────┼─────────┼────────┼────────┼────────┼─────────┼──────────┼─────────┼─────────┼─────────┤\n",
       "│ 1     │ AF0001   │ 1     │ \u001b[90mmissing\u001b[39m │ 0      │ 15     │ 10YR4/3 │ 10YR4/2 │ 7,6     │ 0,6     │ 93      │ \u001b[90mmissing\u001b[39m │ 7,9     │ \u001b[90mmissing\u001b[39m │ \u001b[90mmissing\u001b[39m │ 0,38    │ \u001b[90mmissing\u001b[39m │ \u001b[90mmissing\u001b[39m │ \u001b[90mmissing\u001b[39m │ \u001b[90mmissing\u001b[39m │ 0       │ 0       │ \u001b[90mmissing\u001b[39m │ \u001b[90mmissing\u001b[39m │ 40     │ 40     │ 20     │ 20      │ \u001b[90mmissing\u001b[39m  │ \u001b[90mmissing\u001b[39m │ \u001b[90mmissing\u001b[39m │ \u001b[90mmissing\u001b[39m │\n",
       "│ 2     │ AF0001   │ 2     │ \u001b[90mmissing\u001b[39m │ 15     │ 60     │ 10YR5/3 │ 10YR5/2 │ 2,3     │ 0,3     │ 177     │ \u001b[90mmissing\u001b[39m │ 7,9     │ \u001b[90mmissing\u001b[39m │ \u001b[90mmissing\u001b[39m │ 0,3     │ \u001b[90mmissing\u001b[39m │ \u001b[90mmissing\u001b[39m │ \u001b[90mmissing\u001b[39m │ \u001b[90mmissing\u001b[39m │ 0       │ 0       │ \u001b[90mmissing\u001b[39m │ \u001b[90mmissing\u001b[39m │ 10     │ 55     │ 35     │ \u001b[90mmissing\u001b[39m │ \u001b[90mmissing\u001b[39m  │ \u001b[90mmissing\u001b[39m │ \u001b[90mmissing\u001b[39m │ \u001b[90mmissing\u001b[39m │\n",
       "│ 3     │ AF0001   │ 3     │ \u001b[90mmissing\u001b[39m │ 60     │ 150    │ 10YR5/3 │ \u001b[90mmissing\u001b[39m │ 0,9     │ 0,3     │ 182     │ \u001b[90mmissing\u001b[39m │ 7,9     │ \u001b[90mmissing\u001b[39m │ \u001b[90mmissing\u001b[39m │ 0,28    │ \u001b[90mmissing\u001b[39m │ \u001b[90mmissing\u001b[39m │ \u001b[90mmissing\u001b[39m │ \u001b[90mmissing\u001b[39m │ 0       │ 0       │ \u001b[90mmissing\u001b[39m │ \u001b[90mmissing\u001b[39m │ 10     │ 55     │ 35     │ \u001b[90mmissing\u001b[39m │ \u001b[90mmissing\u001b[39m  │ \u001b[90mmissing\u001b[39m │ \u001b[90mmissing\u001b[39m │ \u001b[90mmissing\u001b[39m │\n",
       "│ 4     │ AF0002   │ 1     │ \u001b[90mmissing\u001b[39m │ 0      │ 20     │ 10YR4/2 │ \u001b[90mmissing\u001b[39m │ 12,8    │ 0,9     │ 191     │ \u001b[90mmissing\u001b[39m │ 8,5     │ \u001b[90mmissing\u001b[39m │ \u001b[90mmissing\u001b[39m │ 0,42    │ \u001b[90mmissing\u001b[39m │ \u001b[90mmissing\u001b[39m │ \u001b[90mmissing\u001b[39m │ \u001b[90mmissing\u001b[39m │ 0       │ 0       │ \u001b[90mmissing\u001b[39m │ \u001b[90mmissing\u001b[39m │ 40     │ 40     │ 20     │ \u001b[90mmissing\u001b[39m │ \u001b[90mmissing\u001b[39m  │ \u001b[90mmissing\u001b[39m │ \u001b[90mmissing\u001b[39m │ \u001b[90mmissing\u001b[39m │\n",
       "│ 5     │ AF0002   │ 2     │ \u001b[90mmissing\u001b[39m │ 20     │ 60     │ 10YR4/2 │ \u001b[90mmissing\u001b[39m │ 6       │ 0,6     │ 192     │ \u001b[90mmissing\u001b[39m │ 8,6     │ \u001b[90mmissing\u001b[39m │ \u001b[90mmissing\u001b[39m │ 0,34    │ \u001b[90mmissing\u001b[39m │ \u001b[90mmissing\u001b[39m │ \u001b[90mmissing\u001b[39m │ \u001b[90mmissing\u001b[39m │ 0       │ 0       │ \u001b[90mmissing\u001b[39m │ \u001b[90mmissing\u001b[39m │ 15     │ 65     │ 20     │ \u001b[90mmissing\u001b[39m │ \u001b[90mmissing\u001b[39m  │ \u001b[90mmissing\u001b[39m │ \u001b[90mmissing\u001b[39m │ \u001b[90mmissing\u001b[39m │\n",
       "⋮\n",
       "│ 47828 │ ZW0067   │ 2     │ E1      │ 27     │ 52     │ 2.5Y6/3 │ \u001b[90mmissing\u001b[39m │ 1,4     │ 0,1     │ 0       │ 0       │ 4,2     │ 4,1     │ \u001b[90mmissing\u001b[39m │ 0,1     │ 0,2     │ 0,3     │ 0,2     │ 0,1     │ 0,2     │ 0,5     │ 1,2     │ 67      │ 82     │ 11     │ 7      │ \u001b[90mmissing\u001b[39m │ \u001b[90mmissing\u001b[39m  │ \u001b[90mmissing\u001b[39m │ \u001b[90mmissing\u001b[39m │ \u001b[90mmissing\u001b[39m │\n",
       "│ 47829 │ ZW0067   │ 3     │ E2      │ 52     │ 71     │ 2.5Y6/3 │ \u001b[90mmissing\u001b[39m │ 1,2     │ 0,1     │ 0       │ 0       │ 4,2     │ 3,9     │ \u001b[90mmissing\u001b[39m │ 0,1     │ \u001b[90mmissing\u001b[39m │ 0,3     │ 0,2     │ 0,1     │ 0,2     │ 0,6     │ 1,9     │ \u001b[90mmissing\u001b[39m │ 64     │ 29     │ 7      │ \u001b[90mmissing\u001b[39m │ \u001b[90mmissing\u001b[39m  │ \u001b[90mmissing\u001b[39m │ \u001b[90mmissing\u001b[39m │ \u001b[90mmissing\u001b[39m │\n",
       "│ 47830 │ ZW0067   │ 4     │ Bt      │ 71     │ 97     │ 2.5Y6/4 │ \u001b[90mmissing\u001b[39m │ 0,5     │ 0,3     │ 0       │ 0       │ 4,1     │ 3,8     │ \u001b[90mmissing\u001b[39m │ 0,1     │ \u001b[90mmissing\u001b[39m │ 0,3     │ 0,2     │ 0,1     │ 0,4     │ 1       │ 1,9     │ \u001b[90mmissing\u001b[39m │ 77     │ 10     │ 13     │ \u001b[90mmissing\u001b[39m │ \u001b[90mmissing\u001b[39m  │ \u001b[90mmissing\u001b[39m │ \u001b[90mmissing\u001b[39m │ \u001b[90mmissing\u001b[39m │\n",
       "│ 47831 │ ZW0067   │ 5     │ Btv     │ 97     │ 162    │ 2.5Y7/3 │ \u001b[90mmissing\u001b[39m │ \u001b[90mmissing\u001b[39m │ \u001b[90mmissing\u001b[39m │ \u001b[90mmissing\u001b[39m │ \u001b[90mmissing\u001b[39m │ \u001b[90mmissing\u001b[39m │ \u001b[90mmissing\u001b[39m │ \u001b[90mmissing\u001b[39m │ \u001b[90mmissing\u001b[39m │ \u001b[90mmissing\u001b[39m │ \u001b[90mmissing\u001b[39m │ \u001b[90mmissing\u001b[39m │ \u001b[90mmissing\u001b[39m │ \u001b[90mmissing\u001b[39m │ \u001b[90mmissing\u001b[39m │ \u001b[90mmissing\u001b[39m │ \u001b[90mmissing\u001b[39m │ 4      │ 69     │ 27     │ \u001b[90mmissing\u001b[39m │ 0,64     │ \u001b[90mmissing\u001b[39m │ \u001b[90mmissing\u001b[39m │ \u001b[90mmissing\u001b[39m │\n",
       "│ 47832 │ ZW0067   │ 6     │ BC      │ 162    │ 199    │ 2.5Y7/3 │ \u001b[90mmissing\u001b[39m │ \u001b[90mmissing\u001b[39m │ \u001b[90mmissing\u001b[39m │ \u001b[90mmissing\u001b[39m │ \u001b[90mmissing\u001b[39m │ \u001b[90mmissing\u001b[39m │ \u001b[90mmissing\u001b[39m │ \u001b[90mmissing\u001b[39m │ \u001b[90mmissing\u001b[39m │ \u001b[90mmissing\u001b[39m │ \u001b[90mmissing\u001b[39m │ \u001b[90mmissing\u001b[39m │ \u001b[90mmissing\u001b[39m │ \u001b[90mmissing\u001b[39m │ \u001b[90mmissing\u001b[39m │ \u001b[90mmissing\u001b[39m │ \u001b[90mmissing\u001b[39m │ 4      │ 69     │ 27     │ \u001b[90mmissing\u001b[39m │ 0,64     │ \u001b[90mmissing\u001b[39m │ \u001b[90mmissing\u001b[39m │ \u001b[90mmissing\u001b[39m │\n",
       "│ 47833 │ ZW0067   │ 7     │ Cg      │ 199    │ 220    │ 10YR7/1 │ \u001b[90mmissing\u001b[39m │ 0,6     │ 0,1     │ 0       │ 0       │ 4,6     │ 4       │ \u001b[90mmissing\u001b[39m │ 0,1     │ 0,2     │ 0,3     │ 0,4     │ 0,1     │ 0,5     │ 0,8     │ 2,1     │ 48      │ 70     │ 15     │ 15     │ \u001b[90mmissing\u001b[39m │ \u001b[90mmissing\u001b[39m  │ \u001b[90mmissing\u001b[39m │ \u001b[90mmissing\u001b[39m │ \u001b[90mmissing\u001b[39m │"
      ]
     },
     "execution_count": 32,
     "metadata": {},
     "output_type": "execute_result"
    }
   ],
   "source": [
    "df_horizon_orig = CSV.read(\"WISE3_HORIZON.csv\", DataFrame)"
   ]
  },
  {
   "cell_type": "code",
   "execution_count": 6,
   "metadata": {},
   "outputs": [
    {
     "data": {
      "text/plain": [
       "tidy_names (generic function with 1 method)"
      ]
     },
     "execution_count": 6,
     "metadata": {},
     "output_type": "execute_result"
    }
   ],
   "source": [
    "function tidy_names(old_names)\n",
    "\n",
    "    return new_names = old_names |>\n",
    "    #remove leading and trailing spaces\n",
    "    n -> strip.(n) |>\n",
    "\n",
    "    #replace spaces with underscores\n",
    "    n -> replace.(n, ' ' => '_') |> \n",
    "\n",
    "    #remove parenthesis\n",
    "    n -> replace.(n,'(' => \"\") |> \n",
    "    n -> replace.(n,')' => \"\") |>\n",
    "\n",
    "    #remove dashes and dots\n",
    "    n -> replace.(n,'-' => \"\") |> \n",
    "    n -> replace.(n, '.' => \"\") |>\n",
    "\n",
    "    #all lowercase\n",
    "    n -> lowercase.(n)\n",
    "\n",
    "end"
   ]
  },
  {
   "cell_type": "code",
   "execution_count": 7,
   "metadata": {},
   "outputs": [
    {
     "data": {
      "text/plain": [
       "infer_designation (generic function with 1 method)"
      ]
     },
     "execution_count": 7,
     "metadata": {},
     "output_type": "execute_result"
    }
   ],
   "source": [
    "function infer_designation(old_desig, blk)\n",
    "#takes layer and returns its inferred soil designation, either 'organic' or 'mineral'\n",
    "    new_desig = \"no_desig\" #value to be eventually returned\n",
    "\n",
    "    threshold = 0.5\n",
    "\n",
    "    control_desig = ['O','o','H','h'] #possible chars in existing desig that indicate presence of organic material in the layer\n",
    "\n",
    "    new_desig_organic = \"organic\"\n",
    "    new_desig_mineral = \"mineral\"\n",
    "\n",
    "    #if designation data is missing \n",
    "    if old_desig == \"\"\n",
    "    #check on bulk density value to decide which designation applies \n",
    "        new_desig = (blk < threshold) ? new_desig_organic : new_desig_mineral\n",
    "\n",
    "    #designation not missing\n",
    "    else\n",
    "        check_desig = [in(c,control_desig) for c in old_desig] #check if any char in the existing designation matches organic control\n",
    "        check_desig_BD = !isnothing(findfirst(check_desig)) & (blk < threshold) #true if any char matches and BD < treshold\n",
    "\n",
    "        new_desig = check_desig_BD ? new_desig_organic : new_desig_mineral\n",
    "    end\n",
    "\n",
    "\n",
    "    return new_desig\n",
    "end"
   ]
  },
  {
   "cell_type": "code",
   "execution_count": 42,
   "metadata": {},
   "outputs": [
    {
     "data": {
      "text/html": [
       "<table class=\"data-frame\"><thead><tr><th></th><th>WISE3_ID</th><th>HONU</th><th>DESIG</th><th>TOPDEP</th><th>BOTDEP</th><th>ORGC</th><th>BULKDENS</th><th>infer_DESIG</th></tr><tr><th></th><th>String</th><th>Int64</th><th>String?</th><th>Int64</th><th>Int64</th><th>Float64</th><th>Float64</th><th>String</th></tr></thead><tbody><p>14,246 rows × 8 columns</p><tr><th>1</th><td>AL0007</td><td>1</td><td>Ap</td><td>0</td><td>25</td><td>9.8</td><td>1.64</td><td>mineral</td></tr><tr><th>2</th><td>AL0007</td><td>2</td><td>AB</td><td>25</td><td>49</td><td>7.8</td><td>1.62</td><td>mineral</td></tr><tr><th>3</th><td>AL0007</td><td>3</td><td>Bw1</td><td>49</td><td>83</td><td>5.9</td><td>1.57</td><td>mineral</td></tr><tr><th>4</th><td>AL0007</td><td>4</td><td>Bw2</td><td>83</td><td>116</td><td>6.9</td><td>1.63</td><td>mineral</td></tr><tr><th>5</th><td>AL0007</td><td>5</td><td>2C1</td><td>116</td><td>147</td><td>4.6</td><td>1.56</td><td>mineral</td></tr><tr><th>6</th><td>AL0007</td><td>6</td><td>2C2</td><td>147</td><td>160</td><td>4.6</td><td>1.45</td><td>mineral</td></tr><tr><th>7</th><td>AL0008</td><td>1</td><td>Ap-</td><td>0</td><td>17</td><td>11.5</td><td>1.61</td><td>mineral</td></tr><tr><th>8</th><td>AL0008</td><td>2</td><td>Bw1</td><td>17</td><td>38</td><td>8.1</td><td>1.55</td><td>mineral</td></tr><tr><th>9</th><td>AL0008</td><td>3</td><td>2Bw2</td><td>38</td><td>66</td><td>1.7</td><td>1.18</td><td>mineral</td></tr><tr><th>10</th><td>AL0008</td><td>4</td><td>2Bw3</td><td>66</td><td>100</td><td>1.5</td><td>0.89</td><td>mineral</td></tr><tr><th>11</th><td>AL0009</td><td>1</td><td>Ap1</td><td>0</td><td>13</td><td>10.2</td><td>1.67</td><td>mineral</td></tr><tr><th>12</th><td>AL0009</td><td>2</td><td>Ap2</td><td>13</td><td>28</td><td>10.6</td><td>1.73</td><td>mineral</td></tr><tr><th>13</th><td>AL0009</td><td>3</td><td>Ap3</td><td>28</td><td>48</td><td>7.9</td><td>1.72</td><td>mineral</td></tr><tr><th>14</th><td>AL0009</td><td>4</td><td>2Bw1</td><td>48</td><td>74</td><td>3.5</td><td>1.7</td><td>mineral</td></tr><tr><th>15</th><td>AL0009</td><td>5</td><td>2Bw2</td><td>74</td><td>97</td><td>2.5</td><td>1.67</td><td>mineral</td></tr><tr><th>16</th><td>AL0010</td><td>1</td><td>Ap</td><td>0</td><td>17</td><td>18.1</td><td>1.52</td><td>mineral</td></tr><tr><th>17</th><td>AL0010</td><td>2</td><td>Bw1</td><td>17</td><td>30</td><td>17.4</td><td>1.43</td><td>mineral</td></tr><tr><th>18</th><td>AL0010</td><td>3</td><td>Bw2</td><td>30</td><td>42</td><td>14.2</td><td>1.57</td><td>mineral</td></tr><tr><th>19</th><td>AL0010</td><td>4</td><td>Bw3</td><td>42</td><td>65</td><td>10.0</td><td>1.65</td><td>mineral</td></tr><tr><th>20</th><td>AL0010</td><td>5</td><td>2Bw4</td><td>65</td><td>110</td><td>4.0</td><td>1.0</td><td>mineral</td></tr><tr><th>&vellip;</th><td>&vellip;</td><td>&vellip;</td><td>&vellip;</td><td>&vellip;</td><td>&vellip;</td><td>&vellip;</td><td>&vellip;</td><td>&vellip;</td></tr></tbody></table>"
      ],
      "text/latex": [
       "\\begin{tabular}{r|cccccccc}\n",
       "\t& WISE3\\_ID & HONU & DESIG & TOPDEP & BOTDEP & ORGC & BULKDENS & infer\\_DESIG\\\\\n",
       "\t\\hline\n",
       "\t& String & Int64 & String? & Int64 & Int64 & Float64 & Float64 & String\\\\\n",
       "\t\\hline\n",
       "\t1 & AL0007 & 1 & Ap & 0 & 25 & 9.8 & 1.64 & mineral \\\\\n",
       "\t2 & AL0007 & 2 & AB & 25 & 49 & 7.8 & 1.62 & mineral \\\\\n",
       "\t3 & AL0007 & 3 & Bw1 & 49 & 83 & 5.9 & 1.57 & mineral \\\\\n",
       "\t4 & AL0007 & 4 & Bw2 & 83 & 116 & 6.9 & 1.63 & mineral \\\\\n",
       "\t5 & AL0007 & 5 & 2C1 & 116 & 147 & 4.6 & 1.56 & mineral \\\\\n",
       "\t6 & AL0007 & 6 & 2C2 & 147 & 160 & 4.6 & 1.45 & mineral \\\\\n",
       "\t7 & AL0008 & 1 & Ap- & 0 & 17 & 11.5 & 1.61 & mineral \\\\\n",
       "\t8 & AL0008 & 2 & Bw1 & 17 & 38 & 8.1 & 1.55 & mineral \\\\\n",
       "\t9 & AL0008 & 3 & 2Bw2 & 38 & 66 & 1.7 & 1.18 & mineral \\\\\n",
       "\t10 & AL0008 & 4 & 2Bw3 & 66 & 100 & 1.5 & 0.89 & mineral \\\\\n",
       "\t11 & AL0009 & 1 & Ap1 & 0 & 13 & 10.2 & 1.67 & mineral \\\\\n",
       "\t12 & AL0009 & 2 & Ap2 & 13 & 28 & 10.6 & 1.73 & mineral \\\\\n",
       "\t13 & AL0009 & 3 & Ap3 & 28 & 48 & 7.9 & 1.72 & mineral \\\\\n",
       "\t14 & AL0009 & 4 & 2Bw1 & 48 & 74 & 3.5 & 1.7 & mineral \\\\\n",
       "\t15 & AL0009 & 5 & 2Bw2 & 74 & 97 & 2.5 & 1.67 & mineral \\\\\n",
       "\t16 & AL0010 & 1 & Ap & 0 & 17 & 18.1 & 1.52 & mineral \\\\\n",
       "\t17 & AL0010 & 2 & Bw1 & 17 & 30 & 17.4 & 1.43 & mineral \\\\\n",
       "\t18 & AL0010 & 3 & Bw2 & 30 & 42 & 14.2 & 1.57 & mineral \\\\\n",
       "\t19 & AL0010 & 4 & Bw3 & 42 & 65 & 10.0 & 1.65 & mineral \\\\\n",
       "\t20 & AL0010 & 5 & 2Bw4 & 65 & 110 & 4.0 & 1.0 & mineral \\\\\n",
       "\t$\\dots$ & $\\dots$ & $\\dots$ & $\\dots$ & $\\dots$ & $\\dots$ & $\\dots$ & $\\dots$ & $\\dots$ \\\\\n",
       "\\end{tabular}\n"
      ],
      "text/plain": [
       "14246×8 DataFrame\n",
       "│ Row   │ WISE3_ID │ HONU  │ DESIG   │ TOPDEP │ BOTDEP │ ORGC    │ BULKDENS │ infer_DESIG │\n",
       "│       │ \u001b[90mString\u001b[39m   │ \u001b[90mInt64\u001b[39m │ \u001b[90mString?\u001b[39m │ \u001b[90mInt64\u001b[39m  │ \u001b[90mInt64\u001b[39m  │ \u001b[90mFloat64\u001b[39m │ \u001b[90mFloat64\u001b[39m  │ \u001b[90mString\u001b[39m      │\n",
       "├───────┼──────────┼───────┼─────────┼────────┼────────┼─────────┼──────────┼─────────────┤\n",
       "│ 1     │ AL0007   │ 1     │ Ap      │ 0      │ 25     │ 9.8     │ 1.64     │ mineral     │\n",
       "│ 2     │ AL0007   │ 2     │ AB      │ 25     │ 49     │ 7.8     │ 1.62     │ mineral     │\n",
       "│ 3     │ AL0007   │ 3     │ Bw1     │ 49     │ 83     │ 5.9     │ 1.57     │ mineral     │\n",
       "│ 4     │ AL0007   │ 4     │ Bw2     │ 83     │ 116    │ 6.9     │ 1.63     │ mineral     │\n",
       "│ 5     │ AL0007   │ 5     │ 2C1     │ 116    │ 147    │ 4.6     │ 1.56     │ mineral     │\n",
       "⋮\n",
       "│ 14241 │ ZW0065   │ 2     │ Ap2     │ 11     │ 24     │ 10.0    │ 1.64     │ mineral     │\n",
       "│ 14242 │ ZW0065   │ 3     │ Bt      │ 24     │ 46     │ 7.7     │ 1.6      │ mineral     │\n",
       "│ 14243 │ ZW0065   │ 4     │ BC      │ 46     │ 68     │ 6.4     │ 1.7      │ mineral     │\n",
       "│ 14244 │ ZW0066   │ 1     │ A1      │ 0      │ 24     │ 18.5    │ 1.63     │ mineral     │\n",
       "│ 14245 │ ZW0066   │ 2     │ A2      │ 24     │ 58     │ 14.8    │ 1.67     │ mineral     │\n",
       "│ 14246 │ ZW0066   │ 3     │ A3      │ 58     │ 92     │ 12.2    │ 1.59     │ mineral     │"
      ]
     },
     "execution_count": 42,
     "metadata": {},
     "output_type": "execute_result"
    }
   ],
   "source": [
    "#general clean-up\t\n",
    "df_hz = df_horizon_orig |> \n",
    "#pick only relevant columns\t\n",
    "@select(:WISE3_ID,:HONU,:DESIG,:TOPDEP,:BOTDEP,:ORGC,:BULKDENS) |>\n",
    "\n",
    "#drop layers we can't have missing values for\n",
    "@dropna(:BULKDENS,:ORGC,:TOPDEP,:BOTDEP) |>\n",
    "\n",
    "#includes only layers with bot_depth greater than top_depth\n",
    "@filter(_.BOTDEP > _.TOPDEP) |> \n",
    "\n",
    "#parse ORGC values and keep only non-negative ones\n",
    "@mutate(ORGC = replace(_.ORGC,','=>'.')) |>\n",
    "@mutate(ORGC = parse(Float64, _.ORGC)) |>\n",
    "@filter(_.ORGC >= 0) |>\n",
    "\n",
    "#parse BULKDENS values and keep only positive ones\n",
    "@mutate(BULKDENS = replace(_.BULKDENS,','=>'.')) |>\n",
    "@mutate(BULKDENS = parse(Float64, _.BULKDENS)) |>\n",
    "@filter(_.BULKDENS > 0) |> \n",
    "\n",
    "#add column with inferred layer designation\n",
    "@mutate(infer_DESIG = infer_designation(get(_.DESIG,\"\"),_.BULKDENS)) |>\t\n",
    "\n",
    "#keep only unique layers\n",
    "@unique() |>\n",
    "\n",
    "\n",
    "DataFrame"
   ]
  },
  {
   "cell_type": "code",
   "execution_count": 9,
   "metadata": {},
   "outputs": [
    {
     "data": {
      "text/plain": [
       "continuity_check (generic function with 1 method)"
      ]
     },
     "execution_count": 9,
     "metadata": {},
     "output_type": "execute_result"
    }
   ],
   "source": [
    "function continuity_check(profile) \n",
    "#the function assumes layers are ordered (e.g.  0 -> 20 -> 40)\n",
    "\n",
    "    top = profile.TOPDEP\n",
    "    bot = profile.BOTDEP\n",
    "\n",
    "    num_layers = length(top)\n",
    "\n",
    "    #1st layer is always good\n",
    "    mask = [true]\n",
    "\n",
    "    #from 2nd layer downward, we check for matching depths at bot/top\n",
    "    mask = append!(mask, [top[l] == bot[l-1] for l in 2:num_layers])\n",
    "\n",
    "    #if we run into a non-matching layer, we mark as 'false' all following ones\n",
    "    first_noMatch_id = findfirst(!, mask)\n",
    "\n",
    "    if !isnothing(first_noMatch_id) #true if a non-contiguous layer has been found\n",
    "        mask[first_noMatch_id:end] .= false\n",
    "    end\n",
    "\n",
    "    return mask\t\n",
    "end"
   ]
  },
  {
   "cell_type": "code",
   "execution_count": 10,
   "metadata": {},
   "outputs": [
    {
     "data": {
      "text/plain": [
       "continuity_check_df (generic function with 1 method)"
      ]
     },
     "execution_count": 10,
     "metadata": {},
     "output_type": "execute_result"
    }
   ],
   "source": [
    "function continuity_check_df(df)\n",
    "#generate continuity mask for the whole dataframe\n",
    "continuous_layers = Bool[]\n",
    "\n",
    "for profile in unique(df.WISE3_ID)\n",
    "    append!(continuous_layers, continuity_check(df[df.WISE3_ID.==profile,:]))\n",
    "end\n",
    "\n",
    "return continuous_layers\n",
    "\n",
    "end"
   ]
  },
  {
   "cell_type": "code",
   "execution_count": 11,
   "metadata": {},
   "outputs": [],
   "source": [
    "df_hz_cont = df_hz[continuity_check_df(df_hz),:]; #df with only continuous profiles"
   ]
  },
  {
   "cell_type": "code",
   "execution_count": 12,
   "metadata": {},
   "outputs": [
    {
     "data": {
      "text/plain": [
       "depth_clip (generic function with 1 method)"
      ]
     },
     "execution_count": 12,
     "metadata": {},
     "output_type": "execute_result"
    }
   ],
   "source": [
    "function depth_clip(profile; depth_min=0, depth_max=100)\n",
    "#takes in a profile with N layers and returns a clipped profile, by default from 0 to 100cm\n",
    "#BD and ORGC are left unchanged, as they're concentration measures and don't depend on layers' height\n",
    "#run this function ALWAYS AFTER checking for layers continuity\n",
    "\n",
    "top = profile.TOPDEP\n",
    "bot = deepcopy(profile.BOTDEP) #create copy of the original profile bot, to be edited later\n",
    "\n",
    "n_layers = length(top)\n",
    "\n",
    "#init array of 'true' -> keep all layers unless proven guilty\n",
    "layers_keep = Vector{Bool}(undef,n_layers)\n",
    "layers_keep .= true\n",
    "\n",
    "#if profile doesn't reach threshold, or starts after min, ditch the whole profile\n",
    "if maximum(bot) < depth_max || minimum(top) > depth_min; \t\n",
    "    layers_keep .= false\n",
    "        \n",
    "#othewise mark layers to drop above threshold, and clip the overlapping one\n",
    "else \n",
    "    for lr in 1:n_layers\n",
    "        #simple case, both top and bot below threshold\n",
    "        if top[lr] >= depth_max; layers_keep[lr] = false; end\n",
    "\n",
    "        #layers overlapping threshold\n",
    "        if top[lr] < depth_max && bot[lr] > depth_max\n",
    "            bot[lr] = depth_max\n",
    "        end\n",
    "\n",
    "    end\n",
    "\n",
    "    profile.BOTDEP = bot\n",
    "end\n",
    "\n",
    "return profile[layers_keep,:]\n",
    "end"
   ]
  },
  {
   "cell_type": "code",
   "execution_count": 13,
   "metadata": {},
   "outputs": [
    {
     "data": {
      "text/plain": [
       "compute_clipped_profiles (generic function with 1 method)"
      ]
     },
     "execution_count": 13,
     "metadata": {},
     "output_type": "execute_result"
    }
   ],
   "source": [
    "function compute_clipped_profiles(df)\n",
    "#initialize empty DF with same columns and types as starting one\n",
    "results = DataFrame(eltypes(df), names(df))\n",
    "\n",
    "for profile in unique(df.WISE3_ID)\n",
    "    append!(results, depth_clip(df[df.WISE3_ID .== profile,:]))\n",
    "end\n",
    "\n",
    "return results\n",
    "\n",
    "end"
   ]
  },
  {
   "cell_type": "code",
   "execution_count": 14,
   "metadata": {},
   "outputs": [
    {
     "data": {
      "text/html": [
       "<table class=\"data-frame\"><thead><tr><th></th><th>WISE3_ID</th><th>HONU</th><th>DESIG</th><th>TOPDEP</th><th>BOTDEP</th><th>ORGC</th><th>BULKDENS</th><th>infer_DESIG</th></tr><tr><th></th><th>String</th><th>Int64</th><th>String?</th><th>Int64</th><th>Int64</th><th>Float64</th><th>Float64</th><th>String</th></tr></thead><tbody><p>6 rows × 8 columns</p><tr><th>1</th><td>AL0007</td><td>1</td><td>Ap</td><td>0</td><td>25</td><td>9.8</td><td>1.64</td><td>mineral</td></tr><tr><th>2</th><td>AL0007</td><td>2</td><td>AB</td><td>25</td><td>49</td><td>7.8</td><td>1.62</td><td>mineral</td></tr><tr><th>3</th><td>AL0007</td><td>3</td><td>Bw1</td><td>49</td><td>83</td><td>5.9</td><td>1.57</td><td>mineral</td></tr><tr><th>4</th><td>AL0007</td><td>4</td><td>Bw2</td><td>83</td><td>116</td><td>6.9</td><td>1.63</td><td>mineral</td></tr><tr><th>5</th><td>AL0007</td><td>5</td><td>2C1</td><td>116</td><td>147</td><td>4.6</td><td>1.56</td><td>mineral</td></tr><tr><th>6</th><td>AL0007</td><td>6</td><td>2C2</td><td>147</td><td>160</td><td>4.6</td><td>1.45</td><td>mineral</td></tr></tbody></table>"
      ],
      "text/latex": [
       "\\begin{tabular}{r|cccccccc}\n",
       "\t& WISE3\\_ID & HONU & DESIG & TOPDEP & BOTDEP & ORGC & BULKDENS & infer\\_DESIG\\\\\n",
       "\t\\hline\n",
       "\t& String & Int64 & String? & Int64 & Int64 & Float64 & Float64 & String\\\\\n",
       "\t\\hline\n",
       "\t1 & AL0007 & 1 & Ap & 0 & 25 & 9.8 & 1.64 & mineral \\\\\n",
       "\t2 & AL0007 & 2 & AB & 25 & 49 & 7.8 & 1.62 & mineral \\\\\n",
       "\t3 & AL0007 & 3 & Bw1 & 49 & 83 & 5.9 & 1.57 & mineral \\\\\n",
       "\t4 & AL0007 & 4 & Bw2 & 83 & 116 & 6.9 & 1.63 & mineral \\\\\n",
       "\t5 & AL0007 & 5 & 2C1 & 116 & 147 & 4.6 & 1.56 & mineral \\\\\n",
       "\t6 & AL0007 & 6 & 2C2 & 147 & 160 & 4.6 & 1.45 & mineral \\\\\n",
       "\\end{tabular}\n"
      ],
      "text/plain": [
       "6×8 DataFrame. Omitted printing of 1 columns\n",
       "│ Row │ WISE3_ID │ HONU  │ DESIG   │ TOPDEP │ BOTDEP │ ORGC    │ BULKDENS │\n",
       "│     │ \u001b[90mString\u001b[39m   │ \u001b[90mInt64\u001b[39m │ \u001b[90mString?\u001b[39m │ \u001b[90mInt64\u001b[39m  │ \u001b[90mInt64\u001b[39m  │ \u001b[90mFloat64\u001b[39m │ \u001b[90mFloat64\u001b[39m  │\n",
       "├─────┼──────────┼───────┼─────────┼────────┼────────┼─────────┼──────────┤\n",
       "│ 1   │ AL0007   │ 1     │ Ap      │ 0      │ 25     │ 9.8     │ 1.64     │\n",
       "│ 2   │ AL0007   │ 2     │ AB      │ 25     │ 49     │ 7.8     │ 1.62     │\n",
       "│ 3   │ AL0007   │ 3     │ Bw1     │ 49     │ 83     │ 5.9     │ 1.57     │\n",
       "│ 4   │ AL0007   │ 4     │ Bw2     │ 83     │ 116    │ 6.9     │ 1.63     │\n",
       "│ 5   │ AL0007   │ 5     │ 2C1     │ 116    │ 147    │ 4.6     │ 1.56     │\n",
       "│ 6   │ AL0007   │ 6     │ 2C2     │ 147    │ 160    │ 4.6     │ 1.45     │"
      ]
     },
     "execution_count": 14,
     "metadata": {},
     "output_type": "execute_result"
    }
   ],
   "source": [
    "#example of depth_clip in action:\n",
    "test_profile = df_hz_cont[df_hz_cont.WISE3_ID .== \"AL0007\",:]"
   ]
  },
  {
   "cell_type": "code",
   "execution_count": 15,
   "metadata": {},
   "outputs": [
    {
     "data": {
      "text/html": [
       "<table class=\"data-frame\"><thead><tr><th></th><th>WISE3_ID</th><th>HONU</th><th>DESIG</th><th>TOPDEP</th><th>BOTDEP</th><th>ORGC</th><th>BULKDENS</th><th>infer_DESIG</th></tr><tr><th></th><th>String</th><th>Int64</th><th>String?</th><th>Int64</th><th>Int64</th><th>Float64</th><th>Float64</th><th>String</th></tr></thead><tbody><p>4 rows × 8 columns</p><tr><th>1</th><td>AL0007</td><td>1</td><td>Ap</td><td>0</td><td>25</td><td>9.8</td><td>1.64</td><td>mineral</td></tr><tr><th>2</th><td>AL0007</td><td>2</td><td>AB</td><td>25</td><td>49</td><td>7.8</td><td>1.62</td><td>mineral</td></tr><tr><th>3</th><td>AL0007</td><td>3</td><td>Bw1</td><td>49</td><td>83</td><td>5.9</td><td>1.57</td><td>mineral</td></tr><tr><th>4</th><td>AL0007</td><td>4</td><td>Bw2</td><td>83</td><td>100</td><td>6.9</td><td>1.63</td><td>mineral</td></tr></tbody></table>"
      ],
      "text/latex": [
       "\\begin{tabular}{r|cccccccc}\n",
       "\t& WISE3\\_ID & HONU & DESIG & TOPDEP & BOTDEP & ORGC & BULKDENS & infer\\_DESIG\\\\\n",
       "\t\\hline\n",
       "\t& String & Int64 & String? & Int64 & Int64 & Float64 & Float64 & String\\\\\n",
       "\t\\hline\n",
       "\t1 & AL0007 & 1 & Ap & 0 & 25 & 9.8 & 1.64 & mineral \\\\\n",
       "\t2 & AL0007 & 2 & AB & 25 & 49 & 7.8 & 1.62 & mineral \\\\\n",
       "\t3 & AL0007 & 3 & Bw1 & 49 & 83 & 5.9 & 1.57 & mineral \\\\\n",
       "\t4 & AL0007 & 4 & Bw2 & 83 & 100 & 6.9 & 1.63 & mineral \\\\\n",
       "\\end{tabular}\n"
      ],
      "text/plain": [
       "4×8 DataFrame. Omitted printing of 1 columns\n",
       "│ Row │ WISE3_ID │ HONU  │ DESIG   │ TOPDEP │ BOTDEP │ ORGC    │ BULKDENS │\n",
       "│     │ \u001b[90mString\u001b[39m   │ \u001b[90mInt64\u001b[39m │ \u001b[90mString?\u001b[39m │ \u001b[90mInt64\u001b[39m  │ \u001b[90mInt64\u001b[39m  │ \u001b[90mFloat64\u001b[39m │ \u001b[90mFloat64\u001b[39m  │\n",
       "├─────┼──────────┼───────┼─────────┼────────┼────────┼─────────┼──────────┤\n",
       "│ 1   │ AL0007   │ 1     │ Ap      │ 0      │ 25     │ 9.8     │ 1.64     │\n",
       "│ 2   │ AL0007   │ 2     │ AB      │ 25     │ 49     │ 7.8     │ 1.62     │\n",
       "│ 3   │ AL0007   │ 3     │ Bw1     │ 49     │ 83     │ 5.9     │ 1.57     │\n",
       "│ 4   │ AL0007   │ 4     │ Bw2     │ 83     │ 100    │ 6.9     │ 1.63     │"
      ]
     },
     "execution_count": 15,
     "metadata": {},
     "output_type": "execute_result"
    }
   ],
   "source": [
    "depth_clip(test_profile)"
   ]
  },
  {
   "cell_type": "code",
   "execution_count": 34,
   "metadata": {},
   "outputs": [
    {
     "data": {
      "text/html": [
       "<table class=\"data-frame\"><thead><tr><th></th><th>WISE3_ID</th><th>HONU</th><th>DESIG</th><th>TOPDEP</th><th>BOTDEP</th><th>ORGC</th><th>BULKDENS</th><th>infer_DESIG</th></tr><tr><th></th><th>String</th><th>Int64</th><th>String?</th><th>Int64</th><th>Int64</th><th>Float64</th><th>Float64</th><th>String</th></tr></thead><tbody><p>7,093 rows × 8 columns</p><tr><th>1</th><td>AL0007</td><td>1</td><td>Ap</td><td>0</td><td>25</td><td>9.8</td><td>1.64</td><td>mineral</td></tr><tr><th>2</th><td>AL0007</td><td>2</td><td>AB</td><td>25</td><td>49</td><td>7.8</td><td>1.62</td><td>mineral</td></tr><tr><th>3</th><td>AL0007</td><td>3</td><td>Bw1</td><td>49</td><td>83</td><td>5.9</td><td>1.57</td><td>mineral</td></tr><tr><th>4</th><td>AL0007</td><td>4</td><td>Bw2</td><td>83</td><td>100</td><td>6.9</td><td>1.63</td><td>mineral</td></tr><tr><th>5</th><td>AL0008</td><td>1</td><td>Ap-</td><td>0</td><td>17</td><td>11.5</td><td>1.61</td><td>mineral</td></tr><tr><th>6</th><td>AL0008</td><td>2</td><td>Bw1</td><td>17</td><td>38</td><td>8.1</td><td>1.55</td><td>mineral</td></tr><tr><th>7</th><td>AL0008</td><td>3</td><td>2Bw2</td><td>38</td><td>66</td><td>1.7</td><td>1.18</td><td>mineral</td></tr><tr><th>8</th><td>AL0008</td><td>4</td><td>2Bw3</td><td>66</td><td>100</td><td>1.5</td><td>0.89</td><td>mineral</td></tr><tr><th>9</th><td>AL0010</td><td>1</td><td>Ap</td><td>0</td><td>17</td><td>18.1</td><td>1.52</td><td>mineral</td></tr><tr><th>10</th><td>AL0010</td><td>2</td><td>Bw1</td><td>17</td><td>30</td><td>17.4</td><td>1.43</td><td>mineral</td></tr><tr><th>11</th><td>AL0010</td><td>3</td><td>Bw2</td><td>30</td><td>42</td><td>14.2</td><td>1.57</td><td>mineral</td></tr><tr><th>12</th><td>AL0010</td><td>4</td><td>Bw3</td><td>42</td><td>65</td><td>10.0</td><td>1.65</td><td>mineral</td></tr><tr><th>13</th><td>AL0010</td><td>5</td><td>2Bw4</td><td>65</td><td>100</td><td>4.0</td><td>1.0</td><td>mineral</td></tr><tr><th>14</th><td>AL0011</td><td>1</td><td>Ap</td><td>0</td><td>18</td><td>16.0</td><td>1.68</td><td>mineral</td></tr><tr><th>15</th><td>AL0011</td><td>2</td><td>Bt1</td><td>18</td><td>38</td><td>10.4</td><td>1.71</td><td>mineral</td></tr><tr><th>16</th><td>AL0011</td><td>3</td><td>Bt2</td><td>38</td><td>56</td><td>8.5</td><td>2.62</td><td>mineral</td></tr><tr><th>17</th><td>AL0011</td><td>4</td><td>2Bt3b</td><td>56</td><td>74</td><td>10.2</td><td>1.59</td><td>mineral</td></tr><tr><th>18</th><td>AL0011</td><td>5</td><td>2Bt4</td><td>74</td><td>99</td><td>5.1</td><td>1.66</td><td>mineral</td></tr><tr><th>19</th><td>AL0011</td><td>6</td><td>2Bt5</td><td>99</td><td>100</td><td>4.8</td><td>1.4</td><td>mineral</td></tr><tr><th>20</th><td>AL0012</td><td>1</td><td>Ap1</td><td>0</td><td>16</td><td>7.4</td><td>1.57</td><td>mineral</td></tr><tr><th>&vellip;</th><td>&vellip;</td><td>&vellip;</td><td>&vellip;</td><td>&vellip;</td><td>&vellip;</td><td>&vellip;</td><td>&vellip;</td><td>&vellip;</td></tr></tbody></table>"
      ],
      "text/latex": [
       "\\begin{tabular}{r|cccccccc}\n",
       "\t& WISE3\\_ID & HONU & DESIG & TOPDEP & BOTDEP & ORGC & BULKDENS & infer\\_DESIG\\\\\n",
       "\t\\hline\n",
       "\t& String & Int64 & String? & Int64 & Int64 & Float64 & Float64 & String\\\\\n",
       "\t\\hline\n",
       "\t1 & AL0007 & 1 & Ap & 0 & 25 & 9.8 & 1.64 & mineral \\\\\n",
       "\t2 & AL0007 & 2 & AB & 25 & 49 & 7.8 & 1.62 & mineral \\\\\n",
       "\t3 & AL0007 & 3 & Bw1 & 49 & 83 & 5.9 & 1.57 & mineral \\\\\n",
       "\t4 & AL0007 & 4 & Bw2 & 83 & 100 & 6.9 & 1.63 & mineral \\\\\n",
       "\t5 & AL0008 & 1 & Ap- & 0 & 17 & 11.5 & 1.61 & mineral \\\\\n",
       "\t6 & AL0008 & 2 & Bw1 & 17 & 38 & 8.1 & 1.55 & mineral \\\\\n",
       "\t7 & AL0008 & 3 & 2Bw2 & 38 & 66 & 1.7 & 1.18 & mineral \\\\\n",
       "\t8 & AL0008 & 4 & 2Bw3 & 66 & 100 & 1.5 & 0.89 & mineral \\\\\n",
       "\t9 & AL0010 & 1 & Ap & 0 & 17 & 18.1 & 1.52 & mineral \\\\\n",
       "\t10 & AL0010 & 2 & Bw1 & 17 & 30 & 17.4 & 1.43 & mineral \\\\\n",
       "\t11 & AL0010 & 3 & Bw2 & 30 & 42 & 14.2 & 1.57 & mineral \\\\\n",
       "\t12 & AL0010 & 4 & Bw3 & 42 & 65 & 10.0 & 1.65 & mineral \\\\\n",
       "\t13 & AL0010 & 5 & 2Bw4 & 65 & 100 & 4.0 & 1.0 & mineral \\\\\n",
       "\t14 & AL0011 & 1 & Ap & 0 & 18 & 16.0 & 1.68 & mineral \\\\\n",
       "\t15 & AL0011 & 2 & Bt1 & 18 & 38 & 10.4 & 1.71 & mineral \\\\\n",
       "\t16 & AL0011 & 3 & Bt2 & 38 & 56 & 8.5 & 2.62 & mineral \\\\\n",
       "\t17 & AL0011 & 4 & 2Bt3b & 56 & 74 & 10.2 & 1.59 & mineral \\\\\n",
       "\t18 & AL0011 & 5 & 2Bt4 & 74 & 99 & 5.1 & 1.66 & mineral \\\\\n",
       "\t19 & AL0011 & 6 & 2Bt5 & 99 & 100 & 4.8 & 1.4 & mineral \\\\\n",
       "\t20 & AL0012 & 1 & Ap1 & 0 & 16 & 7.4 & 1.57 & mineral \\\\\n",
       "\t$\\dots$ & $\\dots$ & $\\dots$ & $\\dots$ & $\\dots$ & $\\dots$ & $\\dots$ & $\\dots$ & $\\dots$ \\\\\n",
       "\\end{tabular}\n"
      ],
      "text/plain": [
       "7093×8 DataFrame\n",
       "│ Row  │ WISE3_ID │ HONU  │ DESIG   │ TOPDEP │ BOTDEP │ ORGC    │ BULKDENS │ infer_DESIG │\n",
       "│      │ \u001b[90mString\u001b[39m   │ \u001b[90mInt64\u001b[39m │ \u001b[90mString?\u001b[39m │ \u001b[90mInt64\u001b[39m  │ \u001b[90mInt64\u001b[39m  │ \u001b[90mFloat64\u001b[39m │ \u001b[90mFloat64\u001b[39m  │ \u001b[90mString\u001b[39m      │\n",
       "├──────┼──────────┼───────┼─────────┼────────┼────────┼─────────┼──────────┼─────────────┤\n",
       "│ 1    │ AL0007   │ 1     │ Ap      │ 0      │ 25     │ 9.8     │ 1.64     │ mineral     │\n",
       "│ 2    │ AL0007   │ 2     │ AB      │ 25     │ 49     │ 7.8     │ 1.62     │ mineral     │\n",
       "│ 3    │ AL0007   │ 3     │ Bw1     │ 49     │ 83     │ 5.9     │ 1.57     │ mineral     │\n",
       "│ 4    │ AL0007   │ 4     │ Bw2     │ 83     │ 100    │ 6.9     │ 1.63     │ mineral     │\n",
       "│ 5    │ AL0008   │ 1     │ Ap-     │ 0      │ 17     │ 11.5    │ 1.61     │ mineral     │\n",
       "⋮\n",
       "│ 7088 │ ZW0060   │ 5     │ Bto4    │ 90     │ 100    │ 3.0     │ 1.4      │ mineral     │\n",
       "│ 7089 │ ZW0063   │ 1     │ Ap1     │ 0      │ 12     │ 16.8    │ 1.67     │ mineral     │\n",
       "│ 7090 │ ZW0063   │ 2     │ Ap2     │ 12     │ 19     │ 14.2    │ 1.72     │ mineral     │\n",
       "│ 7091 │ ZW0063   │ 3     │ Bt1     │ 19     │ 42     │ 7.8     │ 1.49     │ mineral     │\n",
       "│ 7092 │ ZW0063   │ 4     │ Bt2     │ 42     │ 71     │ 5.2     │ 1.56     │ mineral     │\n",
       "│ 7093 │ ZW0063   │ 5     │ Bt3     │ 71     │ 100    │ 3.7     │ 1.38     │ mineral     │"
      ]
     },
     "execution_count": 34,
     "metadata": {},
     "output_type": "execute_result"
    }
   ],
   "source": [
    "df_hz_clipped = compute_clipped_profiles(df_hz_cont)"
   ]
  },
  {
   "cell_type": "code",
   "execution_count": 17,
   "metadata": {},
   "outputs": [
    {
     "data": {
      "text/plain": [
       "orgc_storage_desig (generic function with 1 method)"
      ]
     },
     "execution_count": 17,
     "metadata": {},
     "output_type": "execute_result"
    }
   ],
   "source": [
    "function orgc_storage_desig(profile) \n",
    "\n",
    "    id = profile.WISE3_ID[1]\n",
    "    top = profile.TOPDEP\n",
    "    bot = profile.BOTDEP\n",
    "    des = profile.infer_DESIG\n",
    "\n",
    "    blk = profile.BULKDENS\n",
    "    orgc = profile.ORGC\n",
    "\n",
    "    layer_height = (bot.-top)\n",
    "    num_layer = length(top)\n",
    "\n",
    "    orgc_stored_mineral = 0.0\n",
    "    orgc_stored_organic = 0.0\n",
    "\n",
    "    for l in 1:num_layer\n",
    "        if des[l] == \"organic\"; orgc_stored_organic += blk[l]*orgc[l]*layer_height[l]/100; end\n",
    "        if des[l] == \"mineral\"; orgc_stored_mineral += blk[l]*orgc[l]*layer_height[l]/100; end\n",
    "    end\n",
    "\n",
    "    return DataFrame(profile_id = id, \n",
    "                     orgc_stored_mineral = orgc_stored_mineral, \n",
    "                     orgc_stored_organic = orgc_stored_organic)\n",
    "end"
   ]
  },
  {
   "cell_type": "code",
   "execution_count": 18,
   "metadata": {},
   "outputs": [
    {
     "data": {
      "text/plain": [
       "compute_orgc_storage_desig (generic function with 1 method)"
      ]
     },
     "execution_count": 18,
     "metadata": {},
     "output_type": "execute_result"
    }
   ],
   "source": [
    "function compute_orgc_storage_desig(df)\n",
    "\n",
    "    unique_profiles = unique(df.WISE3_ID)\n",
    "    #initialize result var with 1st call to function\n",
    "    result = orgc_storage_desig(df[df.WISE3_ID .== unique_profiles[1],:])\n",
    "\n",
    "    for profile in unique_profiles[2:end]\n",
    "        append!(result, orgc_storage_desig(df[df.WISE3_ID .== profile,:]))\n",
    "    end\n",
    "\n",
    "    return result\n",
    "end"
   ]
  },
  {
   "cell_type": "code",
   "execution_count": 35,
   "metadata": {},
   "outputs": [
    {
     "data": {
      "text/html": [
       "<table class=\"data-frame\"><thead><tr><th></th><th>profile_id</th><th>orgc_stored_mineral</th><th>orgc_stored_organic</th></tr><tr><th></th><th>String</th><th>Float64</th><th>Float64</th></tr></thead><tbody><p>3,654 rows × 3 columns</p><tr><th>1</th><td>AL0007</td><td>17.0032</td><td>0.0</td></tr><tr><th>2</th><td>AL0008</td><td>6.79968</td><td>0.0</td></tr><tr><th>3</th><td>AL0009</td><td>10.19</td><td>0.0</td></tr><tr><th>4</th><td>AL0010</td><td>16.182</td><td>0.0</td></tr><tr><th>5</th><td>AL0011</td><td>19.5227</td><td>0.0</td></tr><tr><th>6</th><td>AL0012</td><td>12.7518</td><td>0.0</td></tr><tr><th>7</th><td>AL0013</td><td>14.3507</td><td>0.0</td></tr><tr><th>8</th><td>AL0014</td><td>13.6746</td><td>0.0</td></tr><tr><th>9</th><td>AL0015</td><td>23.7756</td><td>0.0</td></tr><tr><th>10</th><td>AL0016</td><td>104.13</td><td>0.0</td></tr><tr><th>11</th><td>AL0017</td><td>32.8709</td><td>0.0</td></tr><tr><th>12</th><td>AL0018</td><td>21.8077</td><td>0.0</td></tr><tr><th>13</th><td>AL0019</td><td>65.0701</td><td>0.0</td></tr><tr><th>14</th><td>AL0020</td><td>112.389</td><td>0.0</td></tr><tr><th>15</th><td>AL0021</td><td>14.3746</td><td>0.0</td></tr><tr><th>16</th><td>AL0022</td><td>15.8464</td><td>0.0</td></tr><tr><th>17</th><td>AL0023</td><td>27.9492</td><td>0.0</td></tr><tr><th>18</th><td>AL0024</td><td>18.5125</td><td>0.0</td></tr><tr><th>19</th><td>AL0025</td><td>31.9615</td><td>0.0</td></tr><tr><th>20</th><td>AL0026</td><td>20.302</td><td>0.0</td></tr><tr><th>&vellip;</th><td>&vellip;</td><td>&vellip;</td><td>&vellip;</td></tr></tbody></table>"
      ],
      "text/latex": [
       "\\begin{tabular}{r|ccc}\n",
       "\t& profile\\_id & orgc\\_stored\\_mineral & orgc\\_stored\\_organic\\\\\n",
       "\t\\hline\n",
       "\t& String & Float64 & Float64\\\\\n",
       "\t\\hline\n",
       "\t1 & AL0007 & 17.0032 & 0.0 \\\\\n",
       "\t2 & AL0008 & 6.79968 & 0.0 \\\\\n",
       "\t3 & AL0009 & 10.19 & 0.0 \\\\\n",
       "\t4 & AL0010 & 16.182 & 0.0 \\\\\n",
       "\t5 & AL0011 & 19.5227 & 0.0 \\\\\n",
       "\t6 & AL0012 & 12.7518 & 0.0 \\\\\n",
       "\t7 & AL0013 & 14.3507 & 0.0 \\\\\n",
       "\t8 & AL0014 & 13.6746 & 0.0 \\\\\n",
       "\t9 & AL0015 & 23.7756 & 0.0 \\\\\n",
       "\t10 & AL0016 & 104.13 & 0.0 \\\\\n",
       "\t11 & AL0017 & 32.8709 & 0.0 \\\\\n",
       "\t12 & AL0018 & 21.8077 & 0.0 \\\\\n",
       "\t13 & AL0019 & 65.0701 & 0.0 \\\\\n",
       "\t14 & AL0020 & 112.389 & 0.0 \\\\\n",
       "\t15 & AL0021 & 14.3746 & 0.0 \\\\\n",
       "\t16 & AL0022 & 15.8464 & 0.0 \\\\\n",
       "\t17 & AL0023 & 27.9492 & 0.0 \\\\\n",
       "\t18 & AL0024 & 18.5125 & 0.0 \\\\\n",
       "\t19 & AL0025 & 31.9615 & 0.0 \\\\\n",
       "\t20 & AL0026 & 20.302 & 0.0 \\\\\n",
       "\t$\\dots$ & $\\dots$ & $\\dots$ & $\\dots$ \\\\\n",
       "\\end{tabular}\n"
      ],
      "text/plain": [
       "3654×3 DataFrame\n",
       "│ Row  │ profile_id │ orgc_stored_mineral │ orgc_stored_organic │\n",
       "│      │ \u001b[90mString\u001b[39m     │ \u001b[90mFloat64\u001b[39m             │ \u001b[90mFloat64\u001b[39m             │\n",
       "├──────┼────────────┼─────────────────────┼─────────────────────┤\n",
       "│ 1    │ AL0007     │ 17.0032             │ 0.0                 │\n",
       "│ 2    │ AL0008     │ 6.79968             │ 0.0                 │\n",
       "│ 3    │ AL0009     │ 10.19               │ 0.0                 │\n",
       "│ 4    │ AL0010     │ 16.182              │ 0.0                 │\n",
       "│ 5    │ AL0011     │ 19.5227             │ 0.0                 │\n",
       "⋮\n",
       "│ 3649 │ ZW0059     │ 9.91887             │ 0.0                 │\n",
       "│ 3650 │ ZW0060     │ 16.1511             │ 0.0                 │\n",
       "│ 3651 │ ZW0062     │ 10.394              │ 0.0                 │\n",
       "│ 3652 │ ZW0063     │ 12.8412             │ 0.0                 │\n",
       "│ 3653 │ ZW0065     │ 8.96388             │ 0.0                 │\n",
       "│ 3654 │ ZW0066     │ 22.236              │ 0.0                 │"
      ]
     },
     "execution_count": 35,
     "metadata": {},
     "output_type": "execute_result"
    }
   ],
   "source": [
    "#compute stored ORGC for continuous, not clipped, profiles\n",
    "df_storage_cont = compute_orgc_storage_desig(df_hz_cont)"
   ]
  },
  {
   "cell_type": "code",
   "execution_count": 36,
   "metadata": {},
   "outputs": [
    {
     "data": {
      "text/html": [
       "<table class=\"data-frame\"><thead><tr><th></th><th>profile_id</th><th>orgc_stored_mineral</th><th>orgc_stored_organic</th></tr><tr><th></th><th>String</th><th>Float64</th><th>Float64</th></tr></thead><tbody><p>1,682 rows × 3 columns</p><tr><th>1</th><td>AL0007</td><td>12.112</td><td>0.0</td></tr><tr><th>2</th><td>AL0008</td><td>6.79968</td><td>0.0</td></tr><tr><th>3</th><td>AL0010</td><td>15.782</td><td>0.0</td></tr><tr><th>4</th><td>AL0011</td><td>17.5067</td><td>0.0</td></tr><tr><th>5</th><td>AL0012</td><td>7.55993</td><td>0.0</td></tr><tr><th>6</th><td>AL0013</td><td>10.7694</td><td>0.0</td></tr><tr><th>7</th><td>AL0014</td><td>13.0122</td><td>0.0</td></tr><tr><th>8</th><td>AL0015</td><td>20.5962</td><td>0.0</td></tr><tr><th>9</th><td>AL0016</td><td>103.021</td><td>0.0</td></tr><tr><th>10</th><td>AL0018</td><td>15.4301</td><td>0.0</td></tr><tr><th>11</th><td>AL0019</td><td>13.9174</td><td>0.0</td></tr><tr><th>12</th><td>AL0020</td><td>81.3583</td><td>0.0</td></tr><tr><th>13</th><td>AL0021</td><td>9.9296</td><td>0.0</td></tr><tr><th>14</th><td>AL0022</td><td>14.8894</td><td>0.0</td></tr><tr><th>15</th><td>AL0023</td><td>19.5847</td><td>0.0</td></tr><tr><th>16</th><td>AL0024</td><td>11.0334</td><td>0.0</td></tr><tr><th>17</th><td>AL0025</td><td>24.8895</td><td>0.0</td></tr><tr><th>18</th><td>AL0026</td><td>16.6805</td><td>0.0</td></tr><tr><th>19</th><td>AL0027</td><td>11.5104</td><td>0.0</td></tr><tr><th>20</th><td>AL0028</td><td>8.40114</td><td>0.0</td></tr><tr><th>&vellip;</th><td>&vellip;</td><td>&vellip;</td><td>&vellip;</td></tr></tbody></table>"
      ],
      "text/latex": [
       "\\begin{tabular}{r|ccc}\n",
       "\t& profile\\_id & orgc\\_stored\\_mineral & orgc\\_stored\\_organic\\\\\n",
       "\t\\hline\n",
       "\t& String & Float64 & Float64\\\\\n",
       "\t\\hline\n",
       "\t1 & AL0007 & 12.112 & 0.0 \\\\\n",
       "\t2 & AL0008 & 6.79968 & 0.0 \\\\\n",
       "\t3 & AL0010 & 15.782 & 0.0 \\\\\n",
       "\t4 & AL0011 & 17.5067 & 0.0 \\\\\n",
       "\t5 & AL0012 & 7.55993 & 0.0 \\\\\n",
       "\t6 & AL0013 & 10.7694 & 0.0 \\\\\n",
       "\t7 & AL0014 & 13.0122 & 0.0 \\\\\n",
       "\t8 & AL0015 & 20.5962 & 0.0 \\\\\n",
       "\t9 & AL0016 & 103.021 & 0.0 \\\\\n",
       "\t10 & AL0018 & 15.4301 & 0.0 \\\\\n",
       "\t11 & AL0019 & 13.9174 & 0.0 \\\\\n",
       "\t12 & AL0020 & 81.3583 & 0.0 \\\\\n",
       "\t13 & AL0021 & 9.9296 & 0.0 \\\\\n",
       "\t14 & AL0022 & 14.8894 & 0.0 \\\\\n",
       "\t15 & AL0023 & 19.5847 & 0.0 \\\\\n",
       "\t16 & AL0024 & 11.0334 & 0.0 \\\\\n",
       "\t17 & AL0025 & 24.8895 & 0.0 \\\\\n",
       "\t18 & AL0026 & 16.6805 & 0.0 \\\\\n",
       "\t19 & AL0027 & 11.5104 & 0.0 \\\\\n",
       "\t20 & AL0028 & 8.40114 & 0.0 \\\\\n",
       "\t$\\dots$ & $\\dots$ & $\\dots$ & $\\dots$ \\\\\n",
       "\\end{tabular}\n"
      ],
      "text/plain": [
       "1682×3 DataFrame\n",
       "│ Row  │ profile_id │ orgc_stored_mineral │ orgc_stored_organic │\n",
       "│      │ \u001b[90mString\u001b[39m     │ \u001b[90mFloat64\u001b[39m             │ \u001b[90mFloat64\u001b[39m             │\n",
       "├──────┼────────────┼─────────────────────┼─────────────────────┤\n",
       "│ 1    │ AL0007     │ 12.112              │ 0.0                 │\n",
       "│ 2    │ AL0008     │ 6.79968             │ 0.0                 │\n",
       "│ 3    │ AL0010     │ 15.782              │ 0.0                 │\n",
       "│ 4    │ AL0011     │ 17.5067             │ 0.0                 │\n",
       "│ 5    │ AL0012     │ 7.55993             │ 0.0                 │\n",
       "⋮\n",
       "│ 1677 │ ZW0056     │ 8.94758             │ 0.0                 │\n",
       "│ 1678 │ ZW0057     │ 3.83187             │ 0.0                 │\n",
       "│ 1679 │ ZW0058     │ 4.3443              │ 0.0                 │\n",
       "│ 1680 │ ZW0059     │ 6.48324             │ 0.0                 │\n",
       "│ 1681 │ ZW0060     │ 12.9428             │ 0.0                 │\n",
       "│ 1682 │ ZW0063     │ 11.5827             │ 0.0                 │"
      ]
     },
     "execution_count": 36,
     "metadata": {},
     "output_type": "execute_result"
    }
   ],
   "source": [
    "#compute stored ORGC for continuous and clipped profiles\n",
    "df_storage_clipped = compute_orgc_storage_desig(df_hz_clipped)"
   ]
  },
  {
   "cell_type": "code",
   "execution_count": 37,
   "metadata": {},
   "outputs": [
    {
     "data": {
      "text/html": [
       "<table class=\"data-frame\"><thead><tr><th></th><th>WISE3_id</th><th>ISO</th><th>DESCR</th><th>DATEYR</th><th>DATEMON</th><th>SOLDEP</th><th>HORNUM</th><th>FAO_90</th><th>PHA_90</th><th>FAO_74</th><th>PHA_74</th><th>WRB2006</th><th>USCL</th><th>USYR</th><th>LOCAL</th><th>LONDD</th><th>LATDD</th><th>LONLAT_ACC</th><th>LOCAT</th><th>KOPPEN</th><th>ALTIT</th><th>LFORM</th><th>POSIT</th><th>SLOPE</th><th>PARMAT</th><th>DRAIN</th><th>LANDUS</th><th>SOURCE_ID</th><th>PITREF</th><th>LAB_ID</th><th>COUNTRY</th></tr><tr><th></th><th>String</th><th>String</th><th>Int64</th><th>Int64?</th><th>Int64?</th><th>Int64</th><th>Int64</th><th>String</th><th>String?</th><th>String?</th><th>String?</th><th>String</th><th>String?</th><th>Int64?</th><th>String?</th><th>String?</th><th>String?</th><th>String?</th><th>String?</th><th>String?</th><th>Int64?</th><th>String?</th><th>String?</th><th>String?</th><th>String?</th><th>String</th><th>String?</th><th>String</th><th>String</th><th>String</th><th>String</th></tr></thead><tbody><p>10,253 rows × 31 columns</p><tr><th>1</th><td>AF0001</td><td>AF</td><td>3</td><td>1962</td><td><em>missing</em></td><td>150</td><td>3</td><td>CLl</td><td><em>missing</em></td><td>Bk</td><td><em>missing</em></td><td>CL</td><td><em>missing</em></td><td><em>missing</em></td><td>Medium textured upland soil</td><td>69,16667</td><td>34,5</td><td>M</td><td>Kabul valley.</td><td>Dsb</td><td>1800</td><td>LV</td><td>LS</td><td><em>missing</em></td><td>UC</td><td>W</td><td>AA4</td><td>AS3/73</td><td>Profile 16 p10-11.</td><td>AF01</td><td>Afghanistan</td></tr><tr><th>2</th><td>AF0002</td><td>AF</td><td>3</td><td>1962</td><td><em>missing</em></td><td>170</td><td>4</td><td>FLc</td><td><em>missing</em></td><td>Jc</td><td><em>missing</em></td><td>FL</td><td><em>missing</em></td><td><em>missing</em></td><td>Alluvial soil with thick irrigation horizon</td><td>69,16667</td><td>34,5</td><td>M</td><td>Logar valley S of Kabul</td><td>Dsb</td><td>1800</td><td>LV</td><td>LS</td><td><em>missing</em></td><td>UF</td><td>M</td><td>AA6</td><td>AS3/73</td><td>Profile 20, pp 15-16.</td><td>AF01</td><td>Afghanistan</td></tr><tr><th>3</th><td>AF0003</td><td>AF</td><td>3</td><td>1962</td><td><em>missing</em></td><td>110</td><td>3</td><td>FLc</td><td><em>missing</em></td><td>Jc</td><td><em>missing</em></td><td>FL</td><td><em>missing</em></td><td><em>missing</em></td><td>Grey-brown hydromorphic soil</td><td>69,16667</td><td>34,5</td><td>M</td><td>Kabul valley</td><td>Dsb</td><td>1800</td><td>LV</td><td>LO</td><td><em>missing</em></td><td>UF</td><td>P</td><td>AA6</td><td>AS3/73</td><td>Profile 41, pp 20-21.</td><td>AF01</td><td>Afghanistan</td></tr><tr><th>4</th><td>AF0004</td><td>AF</td><td>3</td><td>1962</td><td><em>missing</em></td><td>270</td><td>6</td><td>SCg</td><td><em>missing</em></td><td>Zo</td><td><em>missing</em></td><td>SC</td><td><em>missing</em></td><td><em>missing</em></td><td>Grey-brown hydromorphic saline soil</td><td>61,43333</td><td>34,33333</td><td>M</td><td>Ghurian basin, west of Herat.</td><td>BSk</td><td>930</td><td>LV</td><td>BO</td><td><em>missing</em></td><td>UF</td><td>M</td><td>AA4</td><td>AS3/73</td><td>Profile 17, pp 96-97.</td><td>AF01</td><td>Afghanistan</td></tr><tr><th>5</th><td>AF0005</td><td>AF</td><td>3</td><td>1962</td><td><em>missing</em></td><td>190</td><td>6</td><td>SCk</td><td><em>missing</em></td><td>Zo</td><td><em>missing</em></td><td>SC</td><td><em>missing</em></td><td><em>missing</em></td><td>Solonchak</td><td>62,13333</td><td>32,38333</td><td>M</td><td>Farah valley, western Afganistan</td><td>BWh</td><td>650</td><td>LV</td><td>LO</td><td><em>missing</em></td><td>UF</td><td>P</td><td>HE2</td><td>AS3/73</td><td>Profile 21, pp 74-75.</td><td>AF01</td><td>Afghanistan</td></tr><tr><th>6</th><td>AL0001</td><td>AL</td><td>4</td><td>1981</td><td>9</td><td>94</td><td>4</td><td>LVk</td><td><em>missing</em></td><td>Lk</td><td><em>missing</em></td><td>LV</td><td><em>missing</em></td><td><em>missing</em></td><td>Marroon Meadow Soils</td><td>20,75</td><td>40,61667</td><td>M</td><td>Drenova</td><td>Dfb</td><td>600</td><td>SH</td><td>BO</td><td>5</td><td>SC2</td><td>W</td><td>AA4</td><td>EU14/AISS</td><td>Soil Institute, Tirana</td><td>AL01</td><td>Albania</td></tr><tr><th>7</th><td>AL0002</td><td>AL</td><td>4</td><td>1983</td><td>9</td><td>87</td><td>3</td><td>LPk</td><td><em>missing</em></td><td>Be</td><td><em>missing</em></td><td>LP</td><td><em>missing</em></td><td><em>missing</em></td><td>Marroon grey soil</td><td>20,30056</td><td>39,635</td><td>S</td><td>Konispol</td><td>Csa</td><td>250</td><td>SH</td><td>UP</td><td>15</td><td>SO1</td><td>W</td><td>AA2</td><td>EU10/AISS</td><td>Institute of Soil Science, Tirana</td><td>AL01</td><td>Albania</td></tr><tr><th>8</th><td>AL0003</td><td>AL</td><td>4</td><td>1985</td><td>12</td><td>85</td><td>3</td><td>LVf</td><td><em>missing</em></td><td>Lf</td><td><em>missing</em></td><td>LV</td><td><em>missing</em></td><td><em>missing</em></td><td>Marroon meadow soil</td><td>20,38611</td><td>42,22222</td><td>S</td><td>Pla-Kruma</td><td>Dfb</td><td>565</td><td>SM</td><td>LS</td><td>12</td><td>SC2</td><td>W</td><td>AA1</td><td>EU10/AISS</td><td>Institute of Soil Science, Tirana</td><td>AL01</td><td>Albania</td></tr><tr><th>9</th><td>AL0004</td><td>AL</td><td>4</td><td>1991</td><td>11</td><td>120</td><td>6</td><td>CMc</td><td><em>missing</em></td><td>Bk</td><td><em>missing</em></td><td>CM</td><td><em>missing</em></td><td><em>missing</em></td><td>Marroon Grey Soil</td><td>19,56111</td><td>41,07778</td><td>S</td><td>Kavaja Rogozhina</td><td>Csa</td><td>33</td><td>SH</td><td>UP</td><td>60</td><td>SC1</td><td>W</td><td>AT1</td><td>EU14/AISS</td><td>Institute of Soil Science, Tirana.</td><td>AL01</td><td>Albania</td></tr><tr><th>10</th><td>AL0005</td><td>AL</td><td>4</td><td>1991</td><td>10</td><td>170</td><td>5</td><td>FLc</td><td><em>missing</em></td><td>Jc</td><td><em>missing</em></td><td>FL</td><td><em>missing</em></td><td><em>missing</em></td><td>Marroon grey meadow soil</td><td>19,51111</td><td>41,42361</td><td>S</td><td>Juba</td><td>Csa</td><td>6</td><td>LF</td><td>BO</td><td>1</td><td>UF</td><td>W</td><td>AA2</td><td>EU10/AISS</td><td>Institute of Soil Science Tirana</td><td>AL01</td><td>Albania</td></tr><tr><th>11</th><td>AL0006</td><td>AL</td><td>4</td><td>1991</td><td>11</td><td>170</td><td>5</td><td>FLc</td><td><em>missing</em></td><td>Jc</td><td><em>missing</em></td><td>FL</td><td><em>missing</em></td><td><em>missing</em></td><td>Marroon grey meadow soil</td><td>19,54083</td><td>41,17667</td><td>S</td><td>Synei</td><td>Csa</td><td>12</td><td>LF</td><td>BO</td><td>3</td><td>UF</td><td>W</td><td>AA2</td><td>EU10/AISS</td><td>Institute of Soil Science, Tirana.</td><td>AL01</td><td>Albania</td></tr><tr><th>12</th><td>AL0007</td><td>AL</td><td>1</td><td>1994</td><td>4</td><td>160</td><td>6</td><td>CMc</td><td><em>missing</em></td><td>Be</td><td><em>missing</em></td><td>CM</td><td>Fluventic Xerochrept</td><td>1994</td><td>Al - Fluviatile soils</td><td>19,99556</td><td>41,06944</td><td>S</td><td>Near to Luhshnja, at IFDC experimental site</td><td><em>missing</em></td><td>90</td><td>LV</td><td>BO</td><td>3</td><td>UF</td><td>I</td><td>AA6</td><td>EU14/19</td><td>p. 94 (pedon 9)</td><td>US01</td><td>Albania</td></tr><tr><th>13</th><td>AL0008</td><td>AL</td><td>1</td><td>1994</td><td>4</td><td>100</td><td>4</td><td>CMc</td><td><em>missing</em></td><td>Be</td><td><em>missing</em></td><td>CM</td><td>Udic ustropept</td><td>1994</td><td>LMP - dark meadow forest</td><td>20,64722</td><td>40,215</td><td>S</td><td><em>missing</em></td><td><em>missing</em></td><td>1080</td><td>SM</td><td>UP</td><td>7</td><td>UC</td><td>W</td><td>HI</td><td>EU14/19</td><td>p. 67 (pedon 4)</td><td>US01</td><td>Albania</td></tr><tr><th>14</th><td>AL0009</td><td>AL</td><td>1</td><td>1994</td><td>4</td><td>110</td><td>6</td><td>KSk</td><td><em>missing</em></td><td>Kk</td><td><em>missing</em></td><td>KS</td><td>Udic Calciustolls</td><td>1994</td><td>KL - cinnamon meadow</td><td>20,78444</td><td>40,63722</td><td>S</td><td>University plot near Korca</td><td><em>missing</em></td><td>980</td><td>CV</td><td>LS</td><td>3</td><td>UC</td><td>W</td><td>AA6</td><td>EU14/19</td><td>p. 76 (pedon 6)</td><td>US01</td><td>Albania</td></tr><tr><th>15</th><td>AL0010</td><td>AL</td><td>1</td><td>1994</td><td>3</td><td>110</td><td>5</td><td>KSk</td><td><em>missing</em></td><td>Kk</td><td><em>missing</em></td><td>KS</td><td>Pachic Calcixeroll</td><td>1994</td><td>HKL - gray cinnamon meadow</td><td>19,48361</td><td>40,34528</td><td>S</td><td>Along road form Vlora to Saranda</td><td><em>missing</em></td><td>6</td><td>LV</td><td>LO</td><td>1</td><td>UC</td><td>W</td><td>AA</td><td>EU14/19</td><td>p. 56 (pedon 2)</td><td>US01</td><td>Albania</td></tr><tr><th>16</th><td>AL0011</td><td>AL</td><td>1</td><td>1994</td><td>4</td><td>130</td><td>6</td><td>LVg</td><td><em>missing</em></td><td>Lg</td><td><em>missing</em></td><td>LV</td><td>Aquic haplustalf</td><td>1994</td><td>Al - fluvial soils</td><td>19,77028</td><td>41,37778</td><td>S</td><td>Exp. station of Soil Sci. Institute at Tirana</td><td><em>missing</em></td><td>100</td><td>LV</td><td><em>missing</em></td><td>2</td><td>UL</td><td>M</td><td>AA</td><td>EU14/19</td><td>p. 123 (pedon 17)</td><td>US01</td><td>Albania</td></tr><tr><th>17</th><td>AL0012</td><td>AL</td><td>1</td><td>1994</td><td>5</td><td>173</td><td>7</td><td>LVh</td><td><em>missing</em></td><td>Lo</td><td><em>missing</em></td><td>LV</td><td>Udic Haplustalf</td><td>1994</td><td>Al - fluviatile soil</td><td>20,95889</td><td>40,65528</td><td>S</td><td>Tren (Korce)</td><td><em>missing</em></td><td>860</td><td>CV</td><td><em>missing</em></td><td>1</td><td>UL</td><td>M</td><td>AA</td><td>EU14/19</td><td>p. 138 (pedon 18)</td><td>US01</td><td>Albania</td></tr><tr><th>18</th><td>AL0013</td><td>AL</td><td>1</td><td>1994</td><td>4</td><td>180</td><td>6</td><td>LVh</td><td><em>missing</em></td><td>Lo</td><td><em>missing</em></td><td>LV</td><td>Udic Haplustalf</td><td>1994</td><td>Kl - cinnamon meadow</td><td>20,7325</td><td>40,56444</td><td>S</td><td>Korca valley</td><td><em>missing</em></td><td>1020</td><td>CV</td><td>LS</td><td>2</td><td>UL</td><td>W</td><td>AA6</td><td>EU14/19</td><td>p. 72 (pedon 5)</td><td>US01</td><td>Albania</td></tr><tr><th>19</th><td>AL0014</td><td>AL</td><td>1</td><td>1994</td><td>4</td><td>130</td><td>5</td><td>LVx</td><td><em>missing</em></td><td>Lc</td><td><em>missing</em></td><td>LV</td><td>Udic Rhodustalf</td><td>1994</td><td>KM - cinammon mountain</td><td>20,40639</td><td>41,69278</td><td>S</td><td>3 km North of Peshkopi</td><td><em>missing</em></td><td>640</td><td>SM</td><td>LO</td><td>5</td><td>UC</td><td>W</td><td>AA</td><td>EU14/19</td><td>p. 114 (pedon 13)</td><td>US01</td><td>Albania</td></tr><tr><th>20</th><td>AL0015</td><td>AL</td><td>1</td><td>1994</td><td>4</td><td>180</td><td>6</td><td>PHh</td><td><em>missing</em></td><td>Hh</td><td><em>missing</em></td><td>PH</td><td>Fluventic Haplustolls</td><td>1994</td><td>AL - fluviatile soils</td><td>19,7625</td><td>41,37</td><td>S</td><td>Tirana, IFDC site</td><td><em>missing</em></td><td>90</td><td>LV</td><td><em>missing</em></td><td>2</td><td>UL</td><td>M</td><td>AA4</td><td>EU14/19</td><td>p. 123 (pedon 15)</td><td>US01</td><td>Albania</td></tr><tr><th>&vellip;</th><td>&vellip;</td><td>&vellip;</td><td>&vellip;</td><td>&vellip;</td><td>&vellip;</td><td>&vellip;</td><td>&vellip;</td><td>&vellip;</td><td>&vellip;</td><td>&vellip;</td><td>&vellip;</td><td>&vellip;</td><td>&vellip;</td><td>&vellip;</td><td>&vellip;</td><td>&vellip;</td><td>&vellip;</td><td>&vellip;</td><td>&vellip;</td><td>&vellip;</td><td>&vellip;</td><td>&vellip;</td><td>&vellip;</td><td>&vellip;</td><td>&vellip;</td><td>&vellip;</td><td>&vellip;</td><td>&vellip;</td><td>&vellip;</td><td>&vellip;</td><td>&vellip;</td></tr></tbody></table>"
      ],
      "text/latex": [
       "\\begin{tabular}{r|ccccccccccccccccccccccccccccccc}\n",
       "\t& WISE3\\_id & ISO & DESCR & DATEYR & DATEMON & SOLDEP & HORNUM & FAO\\_90 & PHA\\_90 & FAO\\_74 & PHA\\_74 & WRB2006 & USCL & USYR & LOCAL & LONDD & LATDD & LONLAT\\_ACC & LOCAT & KOPPEN & ALTIT & LFORM & POSIT & SLOPE & PARMAT & DRAIN & LANDUS & SOURCE\\_ID & PITREF & LAB\\_ID & COUNTRY\\\\\n",
       "\t\\hline\n",
       "\t& String & String & Int64 & Int64? & Int64? & Int64 & Int64 & String & String? & String? & String? & String & String? & Int64? & String? & String? & String? & String? & String? & String? & Int64? & String? & String? & String? & String? & String & String? & String & String & String & String\\\\\n",
       "\t\\hline\n",
       "\t1 & AF0001 & AF & 3 & 1962 & \\emph{missing} & 150 & 3 & CLl & \\emph{missing} & Bk & \\emph{missing} & CL & \\emph{missing} & \\emph{missing} & Medium textured upland soil & 69,16667 & 34,5 & M & Kabul valley. & Dsb & 1800 & LV & LS & \\emph{missing} & UC & W & AA4 & AS3/73 & Profile 16 p10-11. & AF01 & Afghanistan \\\\\n",
       "\t2 & AF0002 & AF & 3 & 1962 & \\emph{missing} & 170 & 4 & FLc & \\emph{missing} & Jc & \\emph{missing} & FL & \\emph{missing} & \\emph{missing} & Alluvial soil with thick irrigation horizon & 69,16667 & 34,5 & M & Logar valley S of Kabul & Dsb & 1800 & LV & LS & \\emph{missing} & UF & M & AA6 & AS3/73 & Profile 20, pp 15-16. & AF01 & Afghanistan \\\\\n",
       "\t3 & AF0003 & AF & 3 & 1962 & \\emph{missing} & 110 & 3 & FLc & \\emph{missing} & Jc & \\emph{missing} & FL & \\emph{missing} & \\emph{missing} & Grey-brown hydromorphic soil & 69,16667 & 34,5 & M & Kabul valley & Dsb & 1800 & LV & LO & \\emph{missing} & UF & P & AA6 & AS3/73 & Profile 41, pp 20-21. & AF01 & Afghanistan \\\\\n",
       "\t4 & AF0004 & AF & 3 & 1962 & \\emph{missing} & 270 & 6 & SCg & \\emph{missing} & Zo & \\emph{missing} & SC & \\emph{missing} & \\emph{missing} & Grey-brown hydromorphic saline soil & 61,43333 & 34,33333 & M & Ghurian basin, west of Herat. & BSk & 930 & LV & BO & \\emph{missing} & UF & M & AA4 & AS3/73 & Profile 17, pp 96-97. & AF01 & Afghanistan \\\\\n",
       "\t5 & AF0005 & AF & 3 & 1962 & \\emph{missing} & 190 & 6 & SCk & \\emph{missing} & Zo & \\emph{missing} & SC & \\emph{missing} & \\emph{missing} & Solonchak & 62,13333 & 32,38333 & M & Farah valley, western Afganistan & BWh & 650 & LV & LO & \\emph{missing} & UF & P & HE2 & AS3/73 & Profile 21, pp 74-75. & AF01 & Afghanistan \\\\\n",
       "\t6 & AL0001 & AL & 4 & 1981 & 9 & 94 & 4 & LVk & \\emph{missing} & Lk & \\emph{missing} & LV & \\emph{missing} & \\emph{missing} & Marroon Meadow Soils & 20,75 & 40,61667 & M & Drenova & Dfb & 600 & SH & BO & 5 & SC2 & W & AA4 & EU14/AISS & Soil Institute, Tirana & AL01 & Albania \\\\\n",
       "\t7 & AL0002 & AL & 4 & 1983 & 9 & 87 & 3 & LPk & \\emph{missing} & Be & \\emph{missing} & LP & \\emph{missing} & \\emph{missing} & Marroon grey soil & 20,30056 & 39,635 & S & Konispol & Csa & 250 & SH & UP & 15 & SO1 & W & AA2 & EU10/AISS & Institute of Soil Science, Tirana & AL01 & Albania \\\\\n",
       "\t8 & AL0003 & AL & 4 & 1985 & 12 & 85 & 3 & LVf & \\emph{missing} & Lf & \\emph{missing} & LV & \\emph{missing} & \\emph{missing} & Marroon meadow soil & 20,38611 & 42,22222 & S & Pla-Kruma & Dfb & 565 & SM & LS & 12 & SC2 & W & AA1 & EU10/AISS & Institute of Soil Science, Tirana & AL01 & Albania \\\\\n",
       "\t9 & AL0004 & AL & 4 & 1991 & 11 & 120 & 6 & CMc & \\emph{missing} & Bk & \\emph{missing} & CM & \\emph{missing} & \\emph{missing} & Marroon Grey Soil & 19,56111 & 41,07778 & S & Kavaja Rogozhina & Csa & 33 & SH & UP & 60 & SC1 & W & AT1 & EU14/AISS & Institute of Soil Science, Tirana. & AL01 & Albania \\\\\n",
       "\t10 & AL0005 & AL & 4 & 1991 & 10 & 170 & 5 & FLc & \\emph{missing} & Jc & \\emph{missing} & FL & \\emph{missing} & \\emph{missing} & Marroon grey meadow soil & 19,51111 & 41,42361 & S & Juba & Csa & 6 & LF & BO & 1 & UF & W & AA2 & EU10/AISS & Institute of Soil Science Tirana & AL01 & Albania \\\\\n",
       "\t11 & AL0006 & AL & 4 & 1991 & 11 & 170 & 5 & FLc & \\emph{missing} & Jc & \\emph{missing} & FL & \\emph{missing} & \\emph{missing} & Marroon grey meadow soil & 19,54083 & 41,17667 & S & Synei & Csa & 12 & LF & BO & 3 & UF & W & AA2 & EU10/AISS & Institute of Soil Science, Tirana. & AL01 & Albania \\\\\n",
       "\t12 & AL0007 & AL & 1 & 1994 & 4 & 160 & 6 & CMc & \\emph{missing} & Be & \\emph{missing} & CM & Fluventic Xerochrept & 1994 & Al - Fluviatile soils & 19,99556 & 41,06944 & S & Near to Luhshnja, at IFDC experimental site & \\emph{missing} & 90 & LV & BO & 3 & UF & I & AA6 & EU14/19 & p. 94 (pedon 9) & US01 & Albania \\\\\n",
       "\t13 & AL0008 & AL & 1 & 1994 & 4 & 100 & 4 & CMc & \\emph{missing} & Be & \\emph{missing} & CM & Udic ustropept & 1994 & LMP - dark meadow forest & 20,64722 & 40,215 & S & \\emph{missing} & \\emph{missing} & 1080 & SM & UP & 7 & UC & W & HI & EU14/19 & p. 67 (pedon 4) & US01 & Albania \\\\\n",
       "\t14 & AL0009 & AL & 1 & 1994 & 4 & 110 & 6 & KSk & \\emph{missing} & Kk & \\emph{missing} & KS & Udic Calciustolls & 1994 & KL - cinnamon meadow & 20,78444 & 40,63722 & S & University plot near Korca & \\emph{missing} & 980 & CV & LS & 3 & UC & W & AA6 & EU14/19 & p. 76 (pedon 6) & US01 & Albania \\\\\n",
       "\t15 & AL0010 & AL & 1 & 1994 & 3 & 110 & 5 & KSk & \\emph{missing} & Kk & \\emph{missing} & KS & Pachic Calcixeroll & 1994 & HKL - gray cinnamon meadow & 19,48361 & 40,34528 & S & Along road form Vlora to Saranda & \\emph{missing} & 6 & LV & LO & 1 & UC & W & AA & EU14/19 & p. 56 (pedon 2) & US01 & Albania \\\\\n",
       "\t16 & AL0011 & AL & 1 & 1994 & 4 & 130 & 6 & LVg & \\emph{missing} & Lg & \\emph{missing} & LV & Aquic haplustalf & 1994 & Al - fluvial soils & 19,77028 & 41,37778 & S & Exp. station of Soil Sci. Institute at Tirana & \\emph{missing} & 100 & LV & \\emph{missing} & 2 & UL & M & AA & EU14/19 & p. 123 (pedon 17) & US01 & Albania \\\\\n",
       "\t17 & AL0012 & AL & 1 & 1994 & 5 & 173 & 7 & LVh & \\emph{missing} & Lo & \\emph{missing} & LV & Udic Haplustalf & 1994 & Al - fluviatile soil & 20,95889 & 40,65528 & S & Tren (Korce) & \\emph{missing} & 860 & CV & \\emph{missing} & 1 & UL & M & AA & EU14/19 & p. 138 (pedon 18) & US01 & Albania \\\\\n",
       "\t18 & AL0013 & AL & 1 & 1994 & 4 & 180 & 6 & LVh & \\emph{missing} & Lo & \\emph{missing} & LV & Udic Haplustalf & 1994 & Kl - cinnamon meadow & 20,7325 & 40,56444 & S & Korca valley & \\emph{missing} & 1020 & CV & LS & 2 & UL & W & AA6 & EU14/19 & p. 72 (pedon 5) & US01 & Albania \\\\\n",
       "\t19 & AL0014 & AL & 1 & 1994 & 4 & 130 & 5 & LVx & \\emph{missing} & Lc & \\emph{missing} & LV & Udic Rhodustalf & 1994 & KM - cinammon mountain & 20,40639 & 41,69278 & S & 3 km North of Peshkopi & \\emph{missing} & 640 & SM & LO & 5 & UC & W & AA & EU14/19 & p. 114 (pedon 13) & US01 & Albania \\\\\n",
       "\t20 & AL0015 & AL & 1 & 1994 & 4 & 180 & 6 & PHh & \\emph{missing} & Hh & \\emph{missing} & PH & Fluventic Haplustolls & 1994 & AL - fluviatile soils & 19,7625 & 41,37 & S & Tirana, IFDC site & \\emph{missing} & 90 & LV & \\emph{missing} & 2 & UL & M & AA4 & EU14/19 & p. 123 (pedon 15) & US01 & Albania \\\\\n",
       "\t$\\dots$ & $\\dots$ & $\\dots$ & $\\dots$ & $\\dots$ & $\\dots$ & $\\dots$ & $\\dots$ & $\\dots$ & $\\dots$ & $\\dots$ & $\\dots$ & $\\dots$ & $\\dots$ & $\\dots$ & $\\dots$ & $\\dots$ & $\\dots$ & $\\dots$ & $\\dots$ & $\\dots$ & $\\dots$ & $\\dots$ & $\\dots$ & $\\dots$ & $\\dots$ & $\\dots$ & $\\dots$ & $\\dots$ & $\\dots$ & $\\dots$ & $\\dots$ \\\\\n",
       "\\end{tabular}\n"
      ],
      "text/plain": [
       "10253×31 DataFrame\n",
       "│ Row   │ WISE3_id │ ISO    │ DESCR │ DATEYR │ DATEMON │ SOLDEP │ HORNUM │ FAO_90 │ PHA_90  │ FAO_74  │ PHA_74  │ WRB2006 │ USCL               │ USYR    │ LOCAL                                       │ LONDD    │ LATDD     │ LONLAT_ACC │ LOCAT                                              │ KOPPEN  │ ALTIT  │ LFORM   │ POSIT   │ SLOPE   │ PARMAT  │ DRAIN  │ LANDUS  │ SOURCE_ID │ PITREF                │ LAB_ID │ COUNTRY     │\n",
       "│       │ \u001b[90mString\u001b[39m   │ \u001b[90mString\u001b[39m │ \u001b[90mInt64\u001b[39m │ \u001b[90mInt64?\u001b[39m │ \u001b[90mInt64?\u001b[39m  │ \u001b[90mInt64\u001b[39m  │ \u001b[90mInt64\u001b[39m  │ \u001b[90mString\u001b[39m │ \u001b[90mString?\u001b[39m │ \u001b[90mString?\u001b[39m │ \u001b[90mString?\u001b[39m │ \u001b[90mString\u001b[39m  │ \u001b[90mString?\u001b[39m            │ \u001b[90mInt64?\u001b[39m  │ \u001b[90mUnion{Missing, String}\u001b[39m                      │ \u001b[90mString?\u001b[39m  │ \u001b[90mString?\u001b[39m   │ \u001b[90mString?\u001b[39m    │ \u001b[90mUnion{Missing, String}\u001b[39m                             │ \u001b[90mString?\u001b[39m │ \u001b[90mInt64?\u001b[39m │ \u001b[90mString?\u001b[39m │ \u001b[90mString?\u001b[39m │ \u001b[90mString?\u001b[39m │ \u001b[90mString?\u001b[39m │ \u001b[90mString\u001b[39m │ \u001b[90mString?\u001b[39m │ \u001b[90mString\u001b[39m    │ \u001b[90mString\u001b[39m                │ \u001b[90mString\u001b[39m │ \u001b[90mString\u001b[39m      │\n",
       "├───────┼──────────┼────────┼───────┼────────┼─────────┼────────┼────────┼────────┼─────────┼─────────┼─────────┼─────────┼────────────────────┼─────────┼─────────────────────────────────────────────┼──────────┼───────────┼────────────┼────────────────────────────────────────────────────┼─────────┼────────┼─────────┼─────────┼─────────┼─────────┼────────┼─────────┼───────────┼───────────────────────┼────────┼─────────────┤\n",
       "│ 1     │ AF0001   │ AF     │ 3     │ 1962   │ \u001b[90mmissing\u001b[39m │ 150    │ 3      │ CLl    │ \u001b[90mmissing\u001b[39m │ Bk      │ \u001b[90mmissing\u001b[39m │ CL      │ \u001b[90mmissing\u001b[39m            │ \u001b[90mmissing\u001b[39m │ Medium textured upland soil                 │ 69,16667 │ 34,5      │ M          │ Kabul valley.                                      │ Dsb     │ 1800   │ LV      │ LS      │ \u001b[90mmissing\u001b[39m │ UC      │ W      │ AA4     │ AS3/73    │ Profile 16 p10-11.    │ AF01   │ Afghanistan │\n",
       "│ 2     │ AF0002   │ AF     │ 3     │ 1962   │ \u001b[90mmissing\u001b[39m │ 170    │ 4      │ FLc    │ \u001b[90mmissing\u001b[39m │ Jc      │ \u001b[90mmissing\u001b[39m │ FL      │ \u001b[90mmissing\u001b[39m            │ \u001b[90mmissing\u001b[39m │ Alluvial soil with thick irrigation horizon │ 69,16667 │ 34,5      │ M          │ Logar valley S of Kabul                            │ Dsb     │ 1800   │ LV      │ LS      │ \u001b[90mmissing\u001b[39m │ UF      │ M      │ AA6     │ AS3/73    │ Profile 20, pp 15-16. │ AF01   │ Afghanistan │\n",
       "│ 3     │ AF0003   │ AF     │ 3     │ 1962   │ \u001b[90mmissing\u001b[39m │ 110    │ 3      │ FLc    │ \u001b[90mmissing\u001b[39m │ Jc      │ \u001b[90mmissing\u001b[39m │ FL      │ \u001b[90mmissing\u001b[39m            │ \u001b[90mmissing\u001b[39m │ Grey-brown hydromorphic soil                │ 69,16667 │ 34,5      │ M          │ Kabul valley                                       │ Dsb     │ 1800   │ LV      │ LO      │ \u001b[90mmissing\u001b[39m │ UF      │ P      │ AA6     │ AS3/73    │ Profile 41, pp 20-21. │ AF01   │ Afghanistan │\n",
       "│ 4     │ AF0004   │ AF     │ 3     │ 1962   │ \u001b[90mmissing\u001b[39m │ 270    │ 6      │ SCg    │ \u001b[90mmissing\u001b[39m │ Zo      │ \u001b[90mmissing\u001b[39m │ SC      │ \u001b[90mmissing\u001b[39m            │ \u001b[90mmissing\u001b[39m │ Grey-brown hydromorphic saline soil         │ 61,43333 │ 34,33333  │ M          │ Ghurian basin, west of Herat.                      │ BSk     │ 930    │ LV      │ BO      │ \u001b[90mmissing\u001b[39m │ UF      │ M      │ AA4     │ AS3/73    │ Profile 17, pp 96-97. │ AF01   │ Afghanistan │\n",
       "│ 5     │ AF0005   │ AF     │ 3     │ 1962   │ \u001b[90mmissing\u001b[39m │ 190    │ 6      │ SCk    │ \u001b[90mmissing\u001b[39m │ Zo      │ \u001b[90mmissing\u001b[39m │ SC      │ \u001b[90mmissing\u001b[39m            │ \u001b[90mmissing\u001b[39m │ Solonchak                                   │ 62,13333 │ 32,38333  │ M          │ Farah valley, western Afganistan                   │ BWh     │ 650    │ LV      │ LO      │ \u001b[90mmissing\u001b[39m │ UF      │ P      │ HE2     │ AS3/73    │ Profile 21, pp 74-75. │ AF01   │ Afghanistan │\n",
       "⋮\n",
       "│ 10248 │ ZW0062   │ ZW     │ 2     │ 1991   │ \u001b[90mmissing\u001b[39m │ 94     │ 4      │ LVx    │ \u001b[90mmissing\u001b[39m │ Lc      │ \u001b[90mmissing\u001b[39m │ LV      │ Typic Rhodustalf   │ 1975    │ \u001b[90mmissing\u001b[39m                                     │ 31,63333 │ -21       │ M          │ Chiredezi area                                     │ BSh     │ 429    │ LL      │ \u001b[90mmissing\u001b[39m │ \u001b[90mmissing\u001b[39m │ MB3     │ W      │ AA4     │ AF4/KM    │ Pit 4PE2, p. 116      │ ZW01   │ Zimbabwe    │\n",
       "│ 10249 │ ZW0063   │ ZW     │ 2     │ 1991   │ \u001b[90mmissing\u001b[39m │ 138    │ 6      │ LXh    │ \u001b[90mmissing\u001b[39m │ Lc      │ \u001b[90mmissing\u001b[39m │ LX      │ Rhodic Paleustult  │ 1975    │ Harare series                               │ 31,08333 │ -17,71667 │ M          │ University of Zimbabwe, Harare                     │ Aw      │ 1510   │ SH      │ CR      │ 3       │ IB1     │ W      │ \u001b[90mmissing\u001b[39m │ AF4/KM    │ Pit 5E2, p. 136       │ ZW01   │ Zimbabwe    │\n",
       "│ 10250 │ ZW0064   │ ZW     │ 2     │ 1991   │ \u001b[90mmissing\u001b[39m │ 200    │ 6      │ LXh    │ \u001b[90mmissing\u001b[39m │ Lf      │ \u001b[90mmissing\u001b[39m │ LX      │ Ultic Paleustalf   │ 1975    │ \u001b[90mmissing\u001b[39m                                     │ 30,5     │ -17,65    │ M          │ Sparta Farm, Maryland                              │ BSh     │ 1500   │ SH      │ \u001b[90mmissing\u001b[39m │ \u001b[90mmissing\u001b[39m │ IA1     │ W      │ U       │ AF4/KM    │ Pit 5G2, P. 130       │ ZW01   │ Zimbabwe    │\n",
       "│ 10251 │ ZW0065   │ ZW     │ 2     │ 1991   │ \u001b[90mmissing\u001b[39m │ 68     │ 4      │ PHl    │ \u001b[90mmissing\u001b[39m │ Hl      │ \u001b[90mmissing\u001b[39m │ PH      │ Typic Argiudoll    │ 1975    │ Matopos                                     │ 28,5     │ -20,5     │ M          │ Matopos research Station                           │ BSh     │ 1365   │ LL      │ \u001b[90mmissing\u001b[39m │ \u001b[90mmissing\u001b[39m │ MB      │ W      │ AA4     │ AF4/KM    │ Pit 4PE2. p. 121      │ ZW01   │ Zimbabwe    │\n",
       "│ 10252 │ ZW0066   │ ZW     │ 2     │ 1991   │ \u001b[90mmissing\u001b[39m │ 92     │ 3      │ VRe    │ \u001b[90mmissing\u001b[39m │ Vp      │ \u001b[90mmissing\u001b[39m │ VR      │ Mollic Torrert     │ 1975    │ Chisumbanje series                          │ 31,63333 │ -21       │ M          │ Chiredezi area                                     │ BSh     │ 429    │ LL      │ \u001b[90mmissing\u001b[39m │ 1       │ IB2     │ W      │ U       │ AF4/KM    │ Pit 3B2, p. 112       │ ZW01   │ Zimbabwe    │\n",
       "│ 10253 │ ZW0067   │ ZW     │ 1     │ 1992   │ 6       │ 220    │ 7      │ PTa    │ \u001b[90mmissing\u001b[39m │ Ap      │ \u001b[90mmissing\u001b[39m │ PT      │ Typic Plinthustult │ 1999    │ Makoholi 5G.3 Series                        │ 31,75    │ -19,8     │ S          │ Makoholi Research Station in ICRAF Agroforestry Tr │ Cw      │ 1220   │ \u001b[90mmissing\u001b[39m │ \u001b[90mmissing\u001b[39m │ 0       │ \u001b[90mmissing\u001b[39m │ I      │ AA      │ ISIS-2005 │ ZW011_ISIS5           │ NL01   │ Zimbabwe    │"
      ]
     },
     "execution_count": 37,
     "metadata": {},
     "output_type": "execute_result"
    }
   ],
   "source": [
    "df_site_orig = CSV.read(\"WISE3_SITE.csv\", DataFrame)"
   ]
  },
  {
   "cell_type": "code",
   "execution_count": 43,
   "metadata": {},
   "outputs": [
    {
     "data": {
      "text/html": [
       "<table class=\"data-frame\"><thead><tr><th></th><th>profile_id</th><th>DATEYR</th><th>LATDD</th><th>LONDD</th></tr><tr><th></th><th>String</th><th>Int64?</th><th>Float64</th><th>Float64</th></tr></thead><tbody><p>10,253 rows × 4 columns</p><tr><th>1</th><td>AF0001</td><td>1962</td><td>34.5</td><td>69.1667</td></tr><tr><th>2</th><td>AF0002</td><td>1962</td><td>34.5</td><td>69.1667</td></tr><tr><th>3</th><td>AF0003</td><td>1962</td><td>34.5</td><td>69.1667</td></tr><tr><th>4</th><td>AF0004</td><td>1962</td><td>34.3333</td><td>61.4333</td></tr><tr><th>5</th><td>AF0005</td><td>1962</td><td>32.3833</td><td>62.1333</td></tr><tr><th>6</th><td>AL0001</td><td>1981</td><td>40.6167</td><td>20.75</td></tr><tr><th>7</th><td>AL0002</td><td>1983</td><td>39.635</td><td>20.3006</td></tr><tr><th>8</th><td>AL0003</td><td>1985</td><td>42.2222</td><td>20.3861</td></tr><tr><th>9</th><td>AL0004</td><td>1991</td><td>41.0778</td><td>19.5611</td></tr><tr><th>10</th><td>AL0005</td><td>1991</td><td>41.4236</td><td>19.5111</td></tr><tr><th>11</th><td>AL0006</td><td>1991</td><td>41.1767</td><td>19.5408</td></tr><tr><th>12</th><td>AL0007</td><td>1994</td><td>41.0694</td><td>19.9956</td></tr><tr><th>13</th><td>AL0008</td><td>1994</td><td>40.215</td><td>20.6472</td></tr><tr><th>14</th><td>AL0009</td><td>1994</td><td>40.6372</td><td>20.7844</td></tr><tr><th>15</th><td>AL0010</td><td>1994</td><td>40.3453</td><td>19.4836</td></tr><tr><th>16</th><td>AL0011</td><td>1994</td><td>41.3778</td><td>19.7703</td></tr><tr><th>17</th><td>AL0012</td><td>1994</td><td>40.6553</td><td>20.9589</td></tr><tr><th>18</th><td>AL0013</td><td>1994</td><td>40.5644</td><td>20.7325</td></tr><tr><th>19</th><td>AL0014</td><td>1994</td><td>41.6928</td><td>20.4064</td></tr><tr><th>20</th><td>AL0015</td><td>1994</td><td>41.37</td><td>19.7625</td></tr><tr><th>&vellip;</th><td>&vellip;</td><td>&vellip;</td><td>&vellip;</td><td>&vellip;</td></tr></tbody></table>"
      ],
      "text/latex": [
       "\\begin{tabular}{r|cccc}\n",
       "\t& profile\\_id & DATEYR & LATDD & LONDD\\\\\n",
       "\t\\hline\n",
       "\t& String & Int64? & Float64 & Float64\\\\\n",
       "\t\\hline\n",
       "\t1 & AF0001 & 1962 & 34.5 & 69.1667 \\\\\n",
       "\t2 & AF0002 & 1962 & 34.5 & 69.1667 \\\\\n",
       "\t3 & AF0003 & 1962 & 34.5 & 69.1667 \\\\\n",
       "\t4 & AF0004 & 1962 & 34.3333 & 61.4333 \\\\\n",
       "\t5 & AF0005 & 1962 & 32.3833 & 62.1333 \\\\\n",
       "\t6 & AL0001 & 1981 & 40.6167 & 20.75 \\\\\n",
       "\t7 & AL0002 & 1983 & 39.635 & 20.3006 \\\\\n",
       "\t8 & AL0003 & 1985 & 42.2222 & 20.3861 \\\\\n",
       "\t9 & AL0004 & 1991 & 41.0778 & 19.5611 \\\\\n",
       "\t10 & AL0005 & 1991 & 41.4236 & 19.5111 \\\\\n",
       "\t11 & AL0006 & 1991 & 41.1767 & 19.5408 \\\\\n",
       "\t12 & AL0007 & 1994 & 41.0694 & 19.9956 \\\\\n",
       "\t13 & AL0008 & 1994 & 40.215 & 20.6472 \\\\\n",
       "\t14 & AL0009 & 1994 & 40.6372 & 20.7844 \\\\\n",
       "\t15 & AL0010 & 1994 & 40.3453 & 19.4836 \\\\\n",
       "\t16 & AL0011 & 1994 & 41.3778 & 19.7703 \\\\\n",
       "\t17 & AL0012 & 1994 & 40.6553 & 20.9589 \\\\\n",
       "\t18 & AL0013 & 1994 & 40.5644 & 20.7325 \\\\\n",
       "\t19 & AL0014 & 1994 & 41.6928 & 20.4064 \\\\\n",
       "\t20 & AL0015 & 1994 & 41.37 & 19.7625 \\\\\n",
       "\t$\\dots$ & $\\dots$ & $\\dots$ & $\\dots$ & $\\dots$ \\\\\n",
       "\\end{tabular}\n"
      ],
      "text/plain": [
       "10253×4 DataFrame\n",
       "│ Row   │ profile_id │ DATEYR │ LATDD    │ LONDD   │\n",
       "│       │ \u001b[90mString\u001b[39m     │ \u001b[90mInt64?\u001b[39m │ \u001b[90mFloat64\u001b[39m  │ \u001b[90mFloat64\u001b[39m │\n",
       "├───────┼────────────┼────────┼──────────┼─────────┤\n",
       "│ 1     │ AF0001     │ 1962   │ 34.5     │ 69.1667 │\n",
       "│ 2     │ AF0002     │ 1962   │ 34.5     │ 69.1667 │\n",
       "│ 3     │ AF0003     │ 1962   │ 34.5     │ 69.1667 │\n",
       "│ 4     │ AF0004     │ 1962   │ 34.3333  │ 61.4333 │\n",
       "│ 5     │ AF0005     │ 1962   │ 32.3833  │ 62.1333 │\n",
       "⋮\n",
       "│ 10248 │ ZW0062     │ 1991   │ -21.0    │ 31.6333 │\n",
       "│ 10249 │ ZW0063     │ 1991   │ -17.7167 │ 31.0833 │\n",
       "│ 10250 │ ZW0064     │ 1991   │ -17.65   │ 30.5    │\n",
       "│ 10251 │ ZW0065     │ 1991   │ -20.5    │ 28.5    │\n",
       "│ 10252 │ ZW0066     │ 1991   │ -21.0    │ 31.6333 │\n",
       "│ 10253 │ ZW0067     │ 1992   │ -19.8    │ 31.75   │"
      ]
     },
     "execution_count": 43,
     "metadata": {},
     "output_type": "execute_result"
    }
   ],
   "source": [
    "df_site = df_site_orig |>\n",
    "    @select(:WISE3_id, :DATEYR, :LATDD, :LONDD) |>\n",
    "\n",
    "    @replacena(:LONDD=>\"-300\") |>\n",
    "    @replacena(:LATDD=>\"-300\") |>\n",
    "\n",
    "    #parse LONDD values\n",
    "    @mutate(LONDD = replace(_.LONDD,','=>'.')) |>\n",
    "    @mutate(LONDD = parse(Float64, _.LONDD)) |>\n",
    "\n",
    "    #parse LATDD values\n",
    "    @mutate(LATDD = replace(_.LATDD,','=>'.')) |>\n",
    "    @mutate(LATDD = parse(Float64, _.LATDD)) |>\n",
    "\n",
    "    @rename(:WISE3_id => :profile_id) |>\n",
    "\n",
    "    DataFrame"
   ]
  },
  {
   "cell_type": "code",
   "execution_count": 23,
   "metadata": {},
   "outputs": [
    {
     "data": {
      "text/plain": [
       "depth_desig (generic function with 1 method)"
      ]
     },
     "execution_count": 23,
     "metadata": {},
     "output_type": "execute_result"
    }
   ],
   "source": [
    "function depth_desig(profile) \n",
    "\n",
    "    id = profile.WISE3_ID[1]\n",
    "    des = profile.infer_DESIG\n",
    "    top = profile.TOPDEP\n",
    "    bot = profile.BOTDEP\n",
    "\n",
    "    missing_val = -1\n",
    "\n",
    "    num_layers = length(top)\n",
    "\n",
    "    mineral_index = [i for i in 1:num_layers if des[i] == \"mineral\"]\n",
    "    organic_index = [i for i in 1:num_layers if des[i] == \"organic\"]\n",
    "\n",
    "    #values to return\n",
    "\n",
    "    profile_top = minimum(top)\n",
    "    profile_bot = maximum(bot)\n",
    "\n",
    "    mineral_top = isempty(mineral_index) ? missing_val : minimum(top[mineral_index])\n",
    "    mineral_bot = isempty(mineral_index) ? missing_val : maximum(bot[mineral_index])\n",
    "\n",
    "    organic_top = isempty(organic_index) ? missing_val : minimum(top[organic_index])\n",
    "    organic_bot = isempty(organic_index) ? missing_val : maximum(bot[organic_index])\n",
    "\n",
    "\n",
    "    return DataFrame(profile_id = id, \n",
    "                     profile_top = profile_top,\n",
    "                     profile_bot = profile_bot,\n",
    "                     organic_top = organic_top,\n",
    "                     organic_bot = organic_bot,\n",
    "                     mineral_top = mineral_top,\n",
    "                     mineral_bot = mineral_bot)\n",
    "\n",
    "end"
   ]
  },
  {
   "cell_type": "code",
   "execution_count": 24,
   "metadata": {},
   "outputs": [
    {
     "data": {
      "text/plain": [
       "compute_depth_desig (generic function with 1 method)"
      ]
     },
     "execution_count": 24,
     "metadata": {},
     "output_type": "execute_result"
    }
   ],
   "source": [
    "function compute_depth_desig(df)\n",
    "\n",
    "    unique_profiles = unique(df.WISE3_ID)\n",
    "\n",
    "    #initialize results with 1st call to function\n",
    "    result = depth_desig(df[df.WISE3_ID .== unique_profiles[1],:])\n",
    "\n",
    "    for profile in unique_profiles[2:end]\n",
    "        append!(result, depth_desig(df[df.WISE3_ID .== profile,:]))\n",
    "    end\n",
    "\n",
    "    return result\n",
    "end"
   ]
  },
  {
   "cell_type": "code",
   "execution_count": 39,
   "metadata": {},
   "outputs": [
    {
     "data": {
      "text/html": [
       "<table class=\"data-frame\"><thead><tr><th></th><th>profile_id</th><th>profile_top</th><th>profile_bot</th><th>organic_top</th><th>organic_bot</th><th>mineral_top</th><th>mineral_bot</th></tr><tr><th></th><th>String</th><th>Int64</th><th>Int64</th><th>Int64</th><th>Int64</th><th>Int64</th><th>Int64</th></tr></thead><tbody><p>3,654 rows × 7 columns</p><tr><th>1</th><td>AL0007</td><td>0</td><td>160</td><td>-1</td><td>-1</td><td>0</td><td>160</td></tr><tr><th>2</th><td>AL0008</td><td>0</td><td>100</td><td>-1</td><td>-1</td><td>0</td><td>100</td></tr><tr><th>3</th><td>AL0009</td><td>0</td><td>97</td><td>-1</td><td>-1</td><td>0</td><td>97</td></tr><tr><th>4</th><td>AL0010</td><td>0</td><td>110</td><td>-1</td><td>-1</td><td>0</td><td>110</td></tr><tr><th>5</th><td>AL0011</td><td>0</td><td>130</td><td>-1</td><td>-1</td><td>0</td><td>130</td></tr><tr><th>6</th><td>AL0012</td><td>0</td><td>173</td><td>-1</td><td>-1</td><td>0</td><td>173</td></tr><tr><th>7</th><td>AL0013</td><td>0</td><td>180</td><td>-1</td><td>-1</td><td>0</td><td>180</td></tr><tr><th>8</th><td>AL0014</td><td>0</td><td>130</td><td>-1</td><td>-1</td><td>0</td><td>130</td></tr><tr><th>9</th><td>AL0015</td><td>0</td><td>180</td><td>-1</td><td>-1</td><td>0</td><td>180</td></tr><tr><th>10</th><td>AL0016</td><td>0</td><td>121</td><td>-1</td><td>-1</td><td>0</td><td>121</td></tr><tr><th>11</th><td>AL0017</td><td>0</td><td>77</td><td>-1</td><td>-1</td><td>0</td><td>77</td></tr><tr><th>12</th><td>AL0018</td><td>0</td><td>153</td><td>-1</td><td>-1</td><td>0</td><td>153</td></tr><tr><th>13</th><td>AL0019</td><td>0</td><td>137</td><td>-1</td><td>-1</td><td>0</td><td>137</td></tr><tr><th>14</th><td>AL0020</td><td>0</td><td>170</td><td>-1</td><td>-1</td><td>0</td><td>170</td></tr><tr><th>15</th><td>AL0021</td><td>0</td><td>180</td><td>-1</td><td>-1</td><td>0</td><td>180</td></tr><tr><th>16</th><td>AL0022</td><td>0</td><td>120</td><td>-1</td><td>-1</td><td>0</td><td>120</td></tr><tr><th>17</th><td>AL0023</td><td>0</td><td>175</td><td>-1</td><td>-1</td><td>0</td><td>175</td></tr><tr><th>18</th><td>AL0024</td><td>0</td><td>180</td><td>-1</td><td>-1</td><td>0</td><td>180</td></tr><tr><th>19</th><td>AL0025</td><td>0</td><td>140</td><td>-1</td><td>-1</td><td>0</td><td>140</td></tr><tr><th>20</th><td>AL0026</td><td>0</td><td>170</td><td>-1</td><td>-1</td><td>0</td><td>170</td></tr><tr><th>&vellip;</th><td>&vellip;</td><td>&vellip;</td><td>&vellip;</td><td>&vellip;</td><td>&vellip;</td><td>&vellip;</td><td>&vellip;</td></tr></tbody></table>"
      ],
      "text/latex": [
       "\\begin{tabular}{r|ccccccc}\n",
       "\t& profile\\_id & profile\\_top & profile\\_bot & organic\\_top & organic\\_bot & mineral\\_top & mineral\\_bot\\\\\n",
       "\t\\hline\n",
       "\t& String & Int64 & Int64 & Int64 & Int64 & Int64 & Int64\\\\\n",
       "\t\\hline\n",
       "\t1 & AL0007 & 0 & 160 & -1 & -1 & 0 & 160 \\\\\n",
       "\t2 & AL0008 & 0 & 100 & -1 & -1 & 0 & 100 \\\\\n",
       "\t3 & AL0009 & 0 & 97 & -1 & -1 & 0 & 97 \\\\\n",
       "\t4 & AL0010 & 0 & 110 & -1 & -1 & 0 & 110 \\\\\n",
       "\t5 & AL0011 & 0 & 130 & -1 & -1 & 0 & 130 \\\\\n",
       "\t6 & AL0012 & 0 & 173 & -1 & -1 & 0 & 173 \\\\\n",
       "\t7 & AL0013 & 0 & 180 & -1 & -1 & 0 & 180 \\\\\n",
       "\t8 & AL0014 & 0 & 130 & -1 & -1 & 0 & 130 \\\\\n",
       "\t9 & AL0015 & 0 & 180 & -1 & -1 & 0 & 180 \\\\\n",
       "\t10 & AL0016 & 0 & 121 & -1 & -1 & 0 & 121 \\\\\n",
       "\t11 & AL0017 & 0 & 77 & -1 & -1 & 0 & 77 \\\\\n",
       "\t12 & AL0018 & 0 & 153 & -1 & -1 & 0 & 153 \\\\\n",
       "\t13 & AL0019 & 0 & 137 & -1 & -1 & 0 & 137 \\\\\n",
       "\t14 & AL0020 & 0 & 170 & -1 & -1 & 0 & 170 \\\\\n",
       "\t15 & AL0021 & 0 & 180 & -1 & -1 & 0 & 180 \\\\\n",
       "\t16 & AL0022 & 0 & 120 & -1 & -1 & 0 & 120 \\\\\n",
       "\t17 & AL0023 & 0 & 175 & -1 & -1 & 0 & 175 \\\\\n",
       "\t18 & AL0024 & 0 & 180 & -1 & -1 & 0 & 180 \\\\\n",
       "\t19 & AL0025 & 0 & 140 & -1 & -1 & 0 & 140 \\\\\n",
       "\t20 & AL0026 & 0 & 170 & -1 & -1 & 0 & 170 \\\\\n",
       "\t$\\dots$ & $\\dots$ & $\\dots$ & $\\dots$ & $\\dots$ & $\\dots$ & $\\dots$ & $\\dots$ \\\\\n",
       "\\end{tabular}\n"
      ],
      "text/plain": [
       "3654×7 DataFrame\n",
       "│ Row  │ profile_id │ profile_top │ profile_bot │ organic_top │ organic_bot │ mineral_top │ mineral_bot │\n",
       "│      │ \u001b[90mString\u001b[39m     │ \u001b[90mInt64\u001b[39m       │ \u001b[90mInt64\u001b[39m       │ \u001b[90mInt64\u001b[39m       │ \u001b[90mInt64\u001b[39m       │ \u001b[90mInt64\u001b[39m       │ \u001b[90mInt64\u001b[39m       │\n",
       "├──────┼────────────┼─────────────┼─────────────┼─────────────┼─────────────┼─────────────┼─────────────┤\n",
       "│ 1    │ AL0007     │ 0           │ 160         │ -1          │ -1          │ 0           │ 160         │\n",
       "│ 2    │ AL0008     │ 0           │ 100         │ -1          │ -1          │ 0           │ 100         │\n",
       "│ 3    │ AL0009     │ 0           │ 97          │ -1          │ -1          │ 0           │ 97          │\n",
       "│ 4    │ AL0010     │ 0           │ 110         │ -1          │ -1          │ 0           │ 110         │\n",
       "│ 5    │ AL0011     │ 0           │ 130         │ -1          │ -1          │ 0           │ 130         │\n",
       "⋮\n",
       "│ 3649 │ ZW0059     │ 0           │ 200         │ -1          │ -1          │ 0           │ 200         │\n",
       "│ 3650 │ ZW0060     │ 0           │ 200         │ -1          │ -1          │ 0           │ 200         │\n",
       "│ 3651 │ ZW0062     │ 0           │ 94          │ -1          │ -1          │ 0           │ 94          │\n",
       "│ 3652 │ ZW0063     │ 0           │ 138         │ -1          │ -1          │ 0           │ 138         │\n",
       "│ 3653 │ ZW0065     │ 0           │ 68          │ -1          │ -1          │ 0           │ 68          │\n",
       "│ 3654 │ ZW0066     │ 0           │ 92          │ -1          │ -1          │ 0           │ 92          │"
      ]
     },
     "execution_count": 39,
     "metadata": {},
     "output_type": "execute_result"
    }
   ],
   "source": [
    "#designations' depths per profile (non clipped)\n",
    "df_cont_depth_desig = compute_depth_desig(df_hz_cont)"
   ]
  },
  {
   "cell_type": "code",
   "execution_count": 26,
   "metadata": {},
   "outputs": [],
   "source": [
    "#designations depths per clipped profiles \n",
    "df_clipped_depth_desig = compute_depth_desig(df_hz_clipped);"
   ]
  },
  {
   "cell_type": "code",
   "execution_count": 40,
   "metadata": {},
   "outputs": [
    {
     "data": {
      "text/html": [
       "<table class=\"data-frame\"><thead><tr><th></th><th>profile_id</th><th>orgc_stored_mineral</th><th>orgc_stored_organic</th><th>profile_top</th><th>profile_bot</th><th>organic_top</th><th>organic_bot</th><th>mineral_top</th><th>mineral_bot</th><th>DATEYR</th><th>LATDD</th><th>LONDD</th></tr><tr><th></th><th>String</th><th>Float64</th><th>Float64</th><th>Int64</th><th>Int64</th><th>Int64</th><th>Int64</th><th>Int64</th><th>Int64</th><th>Int64?</th><th>Float64</th><th>Float64</th></tr></thead><tbody><p>3,654 rows × 12 columns</p><tr><th>1</th><td>AL0007</td><td>17.0032</td><td>0.0</td><td>0</td><td>160</td><td>-1</td><td>-1</td><td>0</td><td>160</td><td>1994</td><td>41.0694</td><td>19.9956</td></tr><tr><th>2</th><td>AL0008</td><td>6.79968</td><td>0.0</td><td>0</td><td>100</td><td>-1</td><td>-1</td><td>0</td><td>100</td><td>1994</td><td>40.215</td><td>20.6472</td></tr><tr><th>3</th><td>AL0009</td><td>10.19</td><td>0.0</td><td>0</td><td>97</td><td>-1</td><td>-1</td><td>0</td><td>97</td><td>1994</td><td>40.6372</td><td>20.7844</td></tr><tr><th>4</th><td>AL0010</td><td>16.182</td><td>0.0</td><td>0</td><td>110</td><td>-1</td><td>-1</td><td>0</td><td>110</td><td>1994</td><td>40.3453</td><td>19.4836</td></tr><tr><th>5</th><td>AL0011</td><td>19.5227</td><td>0.0</td><td>0</td><td>130</td><td>-1</td><td>-1</td><td>0</td><td>130</td><td>1994</td><td>41.3778</td><td>19.7703</td></tr><tr><th>6</th><td>AL0012</td><td>12.7518</td><td>0.0</td><td>0</td><td>173</td><td>-1</td><td>-1</td><td>0</td><td>173</td><td>1994</td><td>40.6553</td><td>20.9589</td></tr><tr><th>7</th><td>AL0013</td><td>14.3507</td><td>0.0</td><td>0</td><td>180</td><td>-1</td><td>-1</td><td>0</td><td>180</td><td>1994</td><td>40.5644</td><td>20.7325</td></tr><tr><th>8</th><td>AL0014</td><td>13.6746</td><td>0.0</td><td>0</td><td>130</td><td>-1</td><td>-1</td><td>0</td><td>130</td><td>1994</td><td>41.6928</td><td>20.4064</td></tr><tr><th>9</th><td>AL0015</td><td>23.7756</td><td>0.0</td><td>0</td><td>180</td><td>-1</td><td>-1</td><td>0</td><td>180</td><td>1994</td><td>41.37</td><td>19.7625</td></tr><tr><th>10</th><td>AL0016</td><td>104.13</td><td>0.0</td><td>0</td><td>121</td><td>-1</td><td>-1</td><td>0</td><td>121</td><td>1994</td><td>40.7217</td><td>20.7108</td></tr><tr><th>11</th><td>AL0017</td><td>32.8709</td><td>0.0</td><td>0</td><td>77</td><td>-1</td><td>-1</td><td>0</td><td>77</td><td>1994</td><td>39.8175</td><td>20.0267</td></tr><tr><th>12</th><td>AL0018</td><td>21.8077</td><td>0.0</td><td>0</td><td>153</td><td>-1</td><td>-1</td><td>0</td><td>153</td><td>1994</td><td>42.0919</td><td>19.5097</td></tr><tr><th>13</th><td>AL0019</td><td>65.0701</td><td>0.0</td><td>0</td><td>137</td><td>-1</td><td>-1</td><td>0</td><td>137</td><td>1994</td><td>40.7156</td><td>92.4167</td></tr><tr><th>14</th><td>AL0020</td><td>112.389</td><td>0.0</td><td>0</td><td>170</td><td>-1</td><td>-1</td><td>0</td><td>170</td><td>1994</td><td>40.9858</td><td>19.6461</td></tr><tr><th>15</th><td>AL0021</td><td>14.3746</td><td>0.0</td><td>0</td><td>180</td><td>-1</td><td>-1</td><td>0</td><td>180</td><td>1994</td><td>41.6275</td><td>19.9942</td></tr><tr><th>16</th><td>AL0022</td><td>15.8464</td><td>0.0</td><td>0</td><td>120</td><td>-1</td><td>-1</td><td>0</td><td>120</td><td>1994</td><td>42.075</td><td>20.325</td></tr><tr><th>17</th><td>AL0023</td><td>27.9492</td><td>0.0</td><td>0</td><td>175</td><td>-1</td><td>-1</td><td>0</td><td>175</td><td>1994</td><td>40.9508</td><td>19.6875</td></tr><tr><th>18</th><td>AL0024</td><td>18.5125</td><td>0.0</td><td>0</td><td>180</td><td>-1</td><td>-1</td><td>0</td><td>180</td><td>1995</td><td>42.0008</td><td>19.5269</td></tr><tr><th>19</th><td>AL0025</td><td>31.9615</td><td>0.0</td><td>0</td><td>140</td><td>-1</td><td>-1</td><td>0</td><td>140</td><td>1995</td><td>41.6378</td><td>19.6836</td></tr><tr><th>20</th><td>AL0026</td><td>20.302</td><td>0.0</td><td>0</td><td>170</td><td>-1</td><td>-1</td><td>0</td><td>170</td><td>1995</td><td>41.1858</td><td>19.5356</td></tr><tr><th>&vellip;</th><td>&vellip;</td><td>&vellip;</td><td>&vellip;</td><td>&vellip;</td><td>&vellip;</td><td>&vellip;</td><td>&vellip;</td><td>&vellip;</td><td>&vellip;</td><td>&vellip;</td><td>&vellip;</td><td>&vellip;</td></tr></tbody></table>"
      ],
      "text/latex": [
       "\\begin{tabular}{r|cccccccccccc}\n",
       "\t& profile\\_id & orgc\\_stored\\_mineral & orgc\\_stored\\_organic & profile\\_top & profile\\_bot & organic\\_top & organic\\_bot & mineral\\_top & mineral\\_bot & DATEYR & LATDD & LONDD\\\\\n",
       "\t\\hline\n",
       "\t& String & Float64 & Float64 & Int64 & Int64 & Int64 & Int64 & Int64 & Int64 & Int64? & Float64 & Float64\\\\\n",
       "\t\\hline\n",
       "\t1 & AL0007 & 17.0032 & 0.0 & 0 & 160 & -1 & -1 & 0 & 160 & 1994 & 41.0694 & 19.9956 \\\\\n",
       "\t2 & AL0008 & 6.79968 & 0.0 & 0 & 100 & -1 & -1 & 0 & 100 & 1994 & 40.215 & 20.6472 \\\\\n",
       "\t3 & AL0009 & 10.19 & 0.0 & 0 & 97 & -1 & -1 & 0 & 97 & 1994 & 40.6372 & 20.7844 \\\\\n",
       "\t4 & AL0010 & 16.182 & 0.0 & 0 & 110 & -1 & -1 & 0 & 110 & 1994 & 40.3453 & 19.4836 \\\\\n",
       "\t5 & AL0011 & 19.5227 & 0.0 & 0 & 130 & -1 & -1 & 0 & 130 & 1994 & 41.3778 & 19.7703 \\\\\n",
       "\t6 & AL0012 & 12.7518 & 0.0 & 0 & 173 & -1 & -1 & 0 & 173 & 1994 & 40.6553 & 20.9589 \\\\\n",
       "\t7 & AL0013 & 14.3507 & 0.0 & 0 & 180 & -1 & -1 & 0 & 180 & 1994 & 40.5644 & 20.7325 \\\\\n",
       "\t8 & AL0014 & 13.6746 & 0.0 & 0 & 130 & -1 & -1 & 0 & 130 & 1994 & 41.6928 & 20.4064 \\\\\n",
       "\t9 & AL0015 & 23.7756 & 0.0 & 0 & 180 & -1 & -1 & 0 & 180 & 1994 & 41.37 & 19.7625 \\\\\n",
       "\t10 & AL0016 & 104.13 & 0.0 & 0 & 121 & -1 & -1 & 0 & 121 & 1994 & 40.7217 & 20.7108 \\\\\n",
       "\t11 & AL0017 & 32.8709 & 0.0 & 0 & 77 & -1 & -1 & 0 & 77 & 1994 & 39.8175 & 20.0267 \\\\\n",
       "\t12 & AL0018 & 21.8077 & 0.0 & 0 & 153 & -1 & -1 & 0 & 153 & 1994 & 42.0919 & 19.5097 \\\\\n",
       "\t13 & AL0019 & 65.0701 & 0.0 & 0 & 137 & -1 & -1 & 0 & 137 & 1994 & 40.7156 & 92.4167 \\\\\n",
       "\t14 & AL0020 & 112.389 & 0.0 & 0 & 170 & -1 & -1 & 0 & 170 & 1994 & 40.9858 & 19.6461 \\\\\n",
       "\t15 & AL0021 & 14.3746 & 0.0 & 0 & 180 & -1 & -1 & 0 & 180 & 1994 & 41.6275 & 19.9942 \\\\\n",
       "\t16 & AL0022 & 15.8464 & 0.0 & 0 & 120 & -1 & -1 & 0 & 120 & 1994 & 42.075 & 20.325 \\\\\n",
       "\t17 & AL0023 & 27.9492 & 0.0 & 0 & 175 & -1 & -1 & 0 & 175 & 1994 & 40.9508 & 19.6875 \\\\\n",
       "\t18 & AL0024 & 18.5125 & 0.0 & 0 & 180 & -1 & -1 & 0 & 180 & 1995 & 42.0008 & 19.5269 \\\\\n",
       "\t19 & AL0025 & 31.9615 & 0.0 & 0 & 140 & -1 & -1 & 0 & 140 & 1995 & 41.6378 & 19.6836 \\\\\n",
       "\t20 & AL0026 & 20.302 & 0.0 & 0 & 170 & -1 & -1 & 0 & 170 & 1995 & 41.1858 & 19.5356 \\\\\n",
       "\t$\\dots$ & $\\dots$ & $\\dots$ & $\\dots$ & $\\dots$ & $\\dots$ & $\\dots$ & $\\dots$ & $\\dots$ & $\\dots$ & $\\dots$ & $\\dots$ & $\\dots$ \\\\\n",
       "\\end{tabular}\n"
      ],
      "text/plain": [
       "3654×12 DataFrame\n",
       "│ Row  │ profile_id │ orgc_stored_mineral │ orgc_stored_organic │ profile_top │ profile_bot │ organic_top │ organic_bot │ mineral_top │ mineral_bot │ DATEYR │ LATDD    │ LONDD   │\n",
       "│      │ \u001b[90mString\u001b[39m     │ \u001b[90mFloat64\u001b[39m             │ \u001b[90mFloat64\u001b[39m             │ \u001b[90mInt64\u001b[39m       │ \u001b[90mInt64\u001b[39m       │ \u001b[90mInt64\u001b[39m       │ \u001b[90mInt64\u001b[39m       │ \u001b[90mInt64\u001b[39m       │ \u001b[90mInt64\u001b[39m       │ \u001b[90mInt64?\u001b[39m │ \u001b[90mFloat64\u001b[39m  │ \u001b[90mFloat64\u001b[39m │\n",
       "├──────┼────────────┼─────────────────────┼─────────────────────┼─────────────┼─────────────┼─────────────┼─────────────┼─────────────┼─────────────┼────────┼──────────┼─────────┤\n",
       "│ 1    │ AL0007     │ 17.0032             │ 0.0                 │ 0           │ 160         │ -1          │ -1          │ 0           │ 160         │ 1994   │ 41.0694  │ 19.9956 │\n",
       "│ 2    │ AL0008     │ 6.79968             │ 0.0                 │ 0           │ 100         │ -1          │ -1          │ 0           │ 100         │ 1994   │ 40.215   │ 20.6472 │\n",
       "│ 3    │ AL0009     │ 10.19               │ 0.0                 │ 0           │ 97          │ -1          │ -1          │ 0           │ 97          │ 1994   │ 40.6372  │ 20.7844 │\n",
       "│ 4    │ AL0010     │ 16.182              │ 0.0                 │ 0           │ 110         │ -1          │ -1          │ 0           │ 110         │ 1994   │ 40.3453  │ 19.4836 │\n",
       "│ 5    │ AL0011     │ 19.5227             │ 0.0                 │ 0           │ 130         │ -1          │ -1          │ 0           │ 130         │ 1994   │ 41.3778  │ 19.7703 │\n",
       "⋮\n",
       "│ 3649 │ ZW0059     │ 9.91887             │ 0.0                 │ 0           │ 200         │ -1          │ -1          │ 0           │ 200         │ 1991   │ -17.7167 │ 31.0833 │\n",
       "│ 3650 │ ZW0060     │ 16.1511             │ 0.0                 │ 0           │ 200         │ -1          │ -1          │ 0           │ 200         │ 1991   │ -18.0833 │ 25.0833 │\n",
       "│ 3651 │ ZW0062     │ 10.394              │ 0.0                 │ 0           │ 94          │ -1          │ -1          │ 0           │ 94          │ 1991   │ -21.0    │ 31.6333 │\n",
       "│ 3652 │ ZW0063     │ 12.8412             │ 0.0                 │ 0           │ 138         │ -1          │ -1          │ 0           │ 138         │ 1991   │ -17.7167 │ 31.0833 │\n",
       "│ 3653 │ ZW0065     │ 8.96388             │ 0.0                 │ 0           │ 68          │ -1          │ -1          │ 0           │ 68          │ 1991   │ -20.5    │ 28.5    │\n",
       "│ 3654 │ ZW0066     │ 22.236              │ 0.0                 │ 0           │ 92          │ -1          │ -1          │ 0           │ 92          │ 1991   │ -21.0    │ 31.6333 │"
      ]
     },
     "execution_count": 40,
     "metadata": {},
     "output_type": "execute_result"
    }
   ],
   "source": [
    "#joining results with extra info\t\n",
    "df_cont_results = innerjoin(df_storage_cont, df_cont_depth_desig, df_site, on = :profile_id)"
   ]
  },
  {
   "cell_type": "code",
   "execution_count": 41,
   "metadata": {},
   "outputs": [],
   "source": [
    "#doing the same with the clipped variant of the dataset\n",
    "df_clipped_results = innerjoin(df_storage_clipped, df_clipped_depth_desig, df_site, on = :profile_id);"
   ]
  },
  {
   "cell_type": "markdown",
   "metadata": {},
   "source": [
    "Results here:\n",
    "\n",
    "(normal) https://drive.google.com/file/d/1S_TtUI-IyiXzoBQuEYTyPZQ3j-G5ku_4/view?usp=sharing\n",
    "\n",
    "(clipped) https://drive.google.com/file/d/14tg2SseAl0EF9GQf8D4NZLCDmCmG__kd/view?usp=sharing"
   ]
  }
 ],
 "metadata": {
  "kernelspec": {
   "display_name": "Julia 1.5.3",
   "language": "julia",
   "name": "julia-1.5"
  },
  "language_info": {
   "file_extension": ".jl",
   "mimetype": "application/julia",
   "name": "julia",
   "version": "1.5.3"
  }
 },
 "nbformat": 4,
 "nbformat_minor": 2
}
