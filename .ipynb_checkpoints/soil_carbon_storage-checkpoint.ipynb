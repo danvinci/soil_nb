{
 "cells": [
  {
   "cell_type": "markdown",
   "metadata": {},
   "source": [
    "## Welcome!"
   ]
  },
  {
   "cell_type": "markdown",
   "metadata": {},
   "source": [
    "In this notebook we calculate Stored Carbon from an ISRIC dataset, more specifically the ISRIC-WISE Harmonized Global Soil Profile Dataset v3.1 available here: https://data.isric.org/geonetwork/srv/eng/catalog.search#/metadata/a351682c-330a-4995-a5a1-57ad160e621c\""
   ]
  },
  {
   "cell_type": "markdown",
   "metadata": {},
   "source": [
    "The dataset (in MS Access format) was downloaded and split into .csv files, available in a .zip here:\n",
    "\n",
    "https://drive.google.com/file/d/1wuhyplJ7klD4hV7BsAGSalnXjc5a4GK4/view?usp=sharing"
   ]
  },
  {
   "cell_type": "code",
   "execution_count": 1,
   "metadata": {},
   "outputs": [],
   "source": [
    "using Pkg"
   ]
  },
  {
   "cell_type": "code",
   "execution_count": 2,
   "metadata": {
    "scrolled": true
   },
   "outputs": [
    {
     "name": "stderr",
     "output_type": "stream",
     "text": [
      "\u001b[32m\u001b[1m   Updating\u001b[22m\u001b[39m registry at `~/.julia/registries/General`\n",
      "\u001b[32m\u001b[1m  Resolving\u001b[22m\u001b[39m package versions...\n",
      "\u001b[32m\u001b[1mNo Changes\u001b[22m\u001b[39m to `~/.julia/environments/v1.5/Project.toml`\n",
      "\u001b[32m\u001b[1mNo Changes\u001b[22m\u001b[39m to `~/.julia/environments/v1.5/Manifest.toml`\n"
     ]
    }
   ],
   "source": [
    "Pkg.add([\"Plots\",\"DataFrames\", \"CSV\", \"Query\", \"StatsBase\", \"Interpolations\"])"
   ]
  },
  {
   "cell_type": "code",
   "execution_count": 3,
   "metadata": {},
   "outputs": [],
   "source": [
    "using Plots, DataFrames, CSV, Query, StatsBase, Interpolations"
   ]
  },
  {
   "cell_type": "markdown",
   "metadata": {},
   "source": [
    "Let's import the soil horizon data:"
   ]
  },
  {
   "cell_type": "code",
   "execution_count": 4,
   "metadata": {
    "scrolled": true
   },
   "outputs": [
    {
     "name": "stderr",
     "output_type": "stream",
     "text": [
      "┌ Warning: thread = 1 warning: only found 30 / 31 columns around data row: 47834. Filling remaining columns with `missing`\n",
      "└ @ CSV /Users/Daniele/.julia/packages/CSV/la2cd/src/file.jl:603\n"
     ]
    },
    {
     "data": {
      "text/html": [
       "<table class=\"data-frame\"><thead><tr><th></th><th>WISE3_ID</th><th>HONU</th><th>DESIG</th><th>TOPDEP</th><th>BOTDEP</th><th>MCOLOR</th><th>DCOLOR</th><th>ORGC</th><th>TOTN</th><th>CACO3</th></tr><tr><th></th><th>String</th><th>Int64</th><th>String?</th><th>Int64</th><th>Int64</th><th>String?</th><th>String?</th><th>String?</th><th>String?</th><th>String?</th></tr></thead><tbody><p>47,833 rows × 31 columns (omitted printing of 21 columns)</p><tr><th>1</th><td>AF0001</td><td>1</td><td><em>missing</em></td><td>0</td><td>15</td><td>10YR4/3</td><td>10YR4/2</td><td>7,6</td><td>0,6</td><td>93</td></tr><tr><th>2</th><td>AF0001</td><td>2</td><td><em>missing</em></td><td>15</td><td>60</td><td>10YR5/3</td><td>10YR5/2</td><td>2,3</td><td>0,3</td><td>177</td></tr><tr><th>3</th><td>AF0001</td><td>3</td><td><em>missing</em></td><td>60</td><td>150</td><td>10YR5/3</td><td><em>missing</em></td><td>0,9</td><td>0,3</td><td>182</td></tr><tr><th>4</th><td>AF0002</td><td>1</td><td><em>missing</em></td><td>0</td><td>20</td><td>10YR4/2</td><td><em>missing</em></td><td>12,8</td><td>0,9</td><td>191</td></tr><tr><th>5</th><td>AF0002</td><td>2</td><td><em>missing</em></td><td>20</td><td>60</td><td>10YR4/2</td><td><em>missing</em></td><td>6</td><td>0,6</td><td>192</td></tr><tr><th>6</th><td>AF0002</td><td>3</td><td><em>missing</em></td><td>60</td><td>110</td><td>10YR4/3</td><td><em>missing</em></td><td>3,9</td><td>0,6</td><td>203</td></tr><tr><th>7</th><td>AF0002</td><td>4</td><td><em>missing</em></td><td>110</td><td>170</td><td>10YR4/3</td><td><em>missing</em></td><td>2,7</td><td><em>missing</em></td><td>240</td></tr><tr><th>8</th><td>AF0003</td><td>1</td><td>A</td><td>0</td><td>20</td><td>10YR4/2</td><td><em>missing</em></td><td>5,9</td><td>0,7</td><td>169</td></tr><tr><th>9</th><td>AF0003</td><td>2</td><td>Bg</td><td>20</td><td>50</td><td>10YR4/2</td><td><em>missing</em></td><td>2,4</td><td>0,4</td><td>138</td></tr><tr><th>10</th><td>AF0003</td><td>3</td><td>Cg</td><td>50</td><td>110</td><td>10YR4/3</td><td><em>missing</em></td><td><em>missing</em></td><td><em>missing</em></td><td>196</td></tr><tr><th>11</th><td>AF0004</td><td>1</td><td><em>missing</em></td><td>0</td><td>15</td><td>10YR4/2</td><td><em>missing</em></td><td>14,6</td><td><em>missing</em></td><td>186</td></tr><tr><th>12</th><td>AF0004</td><td>2</td><td><em>missing</em></td><td>15</td><td>35</td><td>10YR4/3</td><td><em>missing</em></td><td>8,4</td><td><em>missing</em></td><td>228</td></tr><tr><th>13</th><td>AF0004</td><td>3</td><td><em>missing</em></td><td>35</td><td>70</td><td>10YR4/3</td><td><em>missing</em></td><td><em>missing</em></td><td><em>missing</em></td><td>201</td></tr><tr><th>14</th><td>AF0004</td><td>4</td><td><em>missing</em></td><td>70</td><td>110</td><td>10YR7/2</td><td><em>missing</em></td><td><em>missing</em></td><td><em>missing</em></td><td>256</td></tr><tr><th>15</th><td>AF0004</td><td>5</td><td><em>missing</em></td><td>110</td><td>170</td><td>10YR5/1</td><td><em>missing</em></td><td><em>missing</em></td><td><em>missing</em></td><td>260</td></tr><tr><th>16</th><td>AF0004</td><td>6</td><td><em>missing</em></td><td>170</td><td>270</td><td><em>missing</em></td><td><em>missing</em></td><td><em>missing</em></td><td><em>missing</em></td><td><em>missing</em></td></tr><tr><th>17</th><td>AF0005</td><td>1</td><td><em>missing</em></td><td>0</td><td>4</td><td><em>missing</em></td><td><em>missing</em></td><td>3,1</td><td><em>missing</em></td><td>208</td></tr><tr><th>18</th><td>AF0005</td><td>2</td><td><em>missing</em></td><td>4</td><td>20</td><td>10YR4/3</td><td><em>missing</em></td><td>3,5</td><td><em>missing</em></td><td>206</td></tr><tr><th>19</th><td>AF0005</td><td>3</td><td><em>missing</em></td><td>20</td><td>45</td><td>10YR5/3</td><td><em>missing</em></td><td>3,1</td><td><em>missing</em></td><td>219</td></tr><tr><th>20</th><td>AF0005</td><td>4</td><td><em>missing</em></td><td>45</td><td>100</td><td>10YR5/3</td><td><em>missing</em></td><td>2,1</td><td><em>missing</em></td><td>245</td></tr><tr><th>21</th><td>AF0005</td><td>5</td><td><em>missing</em></td><td>100</td><td>160</td><td>10YR5/4</td><td><em>missing</em></td><td>1,2</td><td><em>missing</em></td><td>247</td></tr><tr><th>22</th><td>AF0005</td><td>6</td><td><em>missing</em></td><td>160</td><td>190</td><td>10YR6/3</td><td><em>missing</em></td><td>0,6</td><td><em>missing</em></td><td>247</td></tr><tr><th>23</th><td>AL0001</td><td>1</td><td>A</td><td>0</td><td>24</td><td><em>missing</em></td><td><em>missing</em></td><td>6,6</td><td><em>missing</em></td><td>5</td></tr><tr><th>24</th><td>AL0001</td><td>2</td><td>A1</td><td>24</td><td>44</td><td><em>missing</em></td><td><em>missing</em></td><td>10,8</td><td><em>missing</em></td><td><em>missing</em></td></tr><tr><th>25</th><td>AL0001</td><td>3</td><td>AB</td><td>44</td><td>74</td><td><em>missing</em></td><td><em>missing</em></td><td>8,4</td><td><em>missing</em></td><td>1</td></tr><tr><th>26</th><td>AL0001</td><td>4</td><td>B</td><td>74</td><td>94</td><td><em>missing</em></td><td><em>missing</em></td><td>7,2</td><td><em>missing</em></td><td>1</td></tr><tr><th>27</th><td>AL0002</td><td>1</td><td>Ap</td><td>0</td><td>24</td><td><em>missing</em></td><td><em>missing</em></td><td>11,3</td><td><em>missing</em></td><td>116</td></tr><tr><th>28</th><td>AL0002</td><td>2</td><td>B</td><td>24</td><td>65</td><td><em>missing</em></td><td><em>missing</em></td><td>11,3</td><td><em>missing</em></td><td>117</td></tr><tr><th>29</th><td>AL0002</td><td>3</td><td>B2</td><td>65</td><td>87</td><td><em>missing</em></td><td><em>missing</em></td><td>7,3</td><td><em>missing</em></td><td>61</td></tr><tr><th>30</th><td>AL0003</td><td>1</td><td>Ap</td><td>0</td><td>18</td><td><em>missing</em></td><td><em>missing</em></td><td>9,3</td><td><em>missing</em></td><td>1</td></tr><tr><th>&vellip;</th><td>&vellip;</td><td>&vellip;</td><td>&vellip;</td><td>&vellip;</td><td>&vellip;</td><td>&vellip;</td><td>&vellip;</td><td>&vellip;</td><td>&vellip;</td><td>&vellip;</td></tr></tbody></table>"
      ],
      "text/latex": [
       "\\begin{tabular}{r|ccccccccccc}\n",
       "\t& WISE3\\_ID & HONU & DESIG & TOPDEP & BOTDEP & MCOLOR & DCOLOR & ORGC & TOTN & CACO3 & \\\\\n",
       "\t\\hline\n",
       "\t& String & Int64 & String? & Int64 & Int64 & String? & String? & String? & String? & String? & \\\\\n",
       "\t\\hline\n",
       "\t1 & AF0001 & 1 & \\emph{missing} & 0 & 15 & 10YR4/3 & 10YR4/2 & 7,6 & 0,6 & 93 & $\\dots$ \\\\\n",
       "\t2 & AF0001 & 2 & \\emph{missing} & 15 & 60 & 10YR5/3 & 10YR5/2 & 2,3 & 0,3 & 177 & $\\dots$ \\\\\n",
       "\t3 & AF0001 & 3 & \\emph{missing} & 60 & 150 & 10YR5/3 & \\emph{missing} & 0,9 & 0,3 & 182 & $\\dots$ \\\\\n",
       "\t4 & AF0002 & 1 & \\emph{missing} & 0 & 20 & 10YR4/2 & \\emph{missing} & 12,8 & 0,9 & 191 & $\\dots$ \\\\\n",
       "\t5 & AF0002 & 2 & \\emph{missing} & 20 & 60 & 10YR4/2 & \\emph{missing} & 6 & 0,6 & 192 & $\\dots$ \\\\\n",
       "\t6 & AF0002 & 3 & \\emph{missing} & 60 & 110 & 10YR4/3 & \\emph{missing} & 3,9 & 0,6 & 203 & $\\dots$ \\\\\n",
       "\t7 & AF0002 & 4 & \\emph{missing} & 110 & 170 & 10YR4/3 & \\emph{missing} & 2,7 & \\emph{missing} & 240 & $\\dots$ \\\\\n",
       "\t8 & AF0003 & 1 & A & 0 & 20 & 10YR4/2 & \\emph{missing} & 5,9 & 0,7 & 169 & $\\dots$ \\\\\n",
       "\t9 & AF0003 & 2 & Bg & 20 & 50 & 10YR4/2 & \\emph{missing} & 2,4 & 0,4 & 138 & $\\dots$ \\\\\n",
       "\t10 & AF0003 & 3 & Cg & 50 & 110 & 10YR4/3 & \\emph{missing} & \\emph{missing} & \\emph{missing} & 196 & $\\dots$ \\\\\n",
       "\t11 & AF0004 & 1 & \\emph{missing} & 0 & 15 & 10YR4/2 & \\emph{missing} & 14,6 & \\emph{missing} & 186 & $\\dots$ \\\\\n",
       "\t12 & AF0004 & 2 & \\emph{missing} & 15 & 35 & 10YR4/3 & \\emph{missing} & 8,4 & \\emph{missing} & 228 & $\\dots$ \\\\\n",
       "\t13 & AF0004 & 3 & \\emph{missing} & 35 & 70 & 10YR4/3 & \\emph{missing} & \\emph{missing} & \\emph{missing} & 201 & $\\dots$ \\\\\n",
       "\t14 & AF0004 & 4 & \\emph{missing} & 70 & 110 & 10YR7/2 & \\emph{missing} & \\emph{missing} & \\emph{missing} & 256 & $\\dots$ \\\\\n",
       "\t15 & AF0004 & 5 & \\emph{missing} & 110 & 170 & 10YR5/1 & \\emph{missing} & \\emph{missing} & \\emph{missing} & 260 & $\\dots$ \\\\\n",
       "\t16 & AF0004 & 6 & \\emph{missing} & 170 & 270 & \\emph{missing} & \\emph{missing} & \\emph{missing} & \\emph{missing} & \\emph{missing} & $\\dots$ \\\\\n",
       "\t17 & AF0005 & 1 & \\emph{missing} & 0 & 4 & \\emph{missing} & \\emph{missing} & 3,1 & \\emph{missing} & 208 & $\\dots$ \\\\\n",
       "\t18 & AF0005 & 2 & \\emph{missing} & 4 & 20 & 10YR4/3 & \\emph{missing} & 3,5 & \\emph{missing} & 206 & $\\dots$ \\\\\n",
       "\t19 & AF0005 & 3 & \\emph{missing} & 20 & 45 & 10YR5/3 & \\emph{missing} & 3,1 & \\emph{missing} & 219 & $\\dots$ \\\\\n",
       "\t20 & AF0005 & 4 & \\emph{missing} & 45 & 100 & 10YR5/3 & \\emph{missing} & 2,1 & \\emph{missing} & 245 & $\\dots$ \\\\\n",
       "\t21 & AF0005 & 5 & \\emph{missing} & 100 & 160 & 10YR5/4 & \\emph{missing} & 1,2 & \\emph{missing} & 247 & $\\dots$ \\\\\n",
       "\t22 & AF0005 & 6 & \\emph{missing} & 160 & 190 & 10YR6/3 & \\emph{missing} & 0,6 & \\emph{missing} & 247 & $\\dots$ \\\\\n",
       "\t23 & AL0001 & 1 & A & 0 & 24 & \\emph{missing} & \\emph{missing} & 6,6 & \\emph{missing} & 5 & $\\dots$ \\\\\n",
       "\t24 & AL0001 & 2 & A1 & 24 & 44 & \\emph{missing} & \\emph{missing} & 10,8 & \\emph{missing} & \\emph{missing} & $\\dots$ \\\\\n",
       "\t25 & AL0001 & 3 & AB & 44 & 74 & \\emph{missing} & \\emph{missing} & 8,4 & \\emph{missing} & 1 & $\\dots$ \\\\\n",
       "\t26 & AL0001 & 4 & B & 74 & 94 & \\emph{missing} & \\emph{missing} & 7,2 & \\emph{missing} & 1 & $\\dots$ \\\\\n",
       "\t27 & AL0002 & 1 & Ap & 0 & 24 & \\emph{missing} & \\emph{missing} & 11,3 & \\emph{missing} & 116 & $\\dots$ \\\\\n",
       "\t28 & AL0002 & 2 & B & 24 & 65 & \\emph{missing} & \\emph{missing} & 11,3 & \\emph{missing} & 117 & $\\dots$ \\\\\n",
       "\t29 & AL0002 & 3 & B2 & 65 & 87 & \\emph{missing} & \\emph{missing} & 7,3 & \\emph{missing} & 61 & $\\dots$ \\\\\n",
       "\t30 & AL0003 & 1 & Ap & 0 & 18 & \\emph{missing} & \\emph{missing} & 9,3 & \\emph{missing} & 1 & $\\dots$ \\\\\n",
       "\t$\\dots$ & $\\dots$ & $\\dots$ & $\\dots$ & $\\dots$ & $\\dots$ & $\\dots$ & $\\dots$ & $\\dots$ & $\\dots$ & $\\dots$ &  \\\\\n",
       "\\end{tabular}\n"
      ],
      "text/plain": [
       "\u001b[1m47833×31 DataFrame\u001b[0m\n",
       "\u001b[1m   Row \u001b[0m│\u001b[1m WISE3_ID \u001b[0m\u001b[1m HONU  \u001b[0m\u001b[1m DESIG   \u001b[0m\u001b[1m TOPDEP \u001b[0m\u001b[1m BOTDEP \u001b[0m\u001b[1m MCOLOR  \u001b[0m\u001b[1m DCOLOR  \u001b[0m\u001b[1m ORGC    \u001b[0m\u001b[1m \u001b[0m ⋯\n",
       "\u001b[1m       \u001b[0m│\u001b[90m String   \u001b[0m\u001b[90m Int64 \u001b[0m\u001b[90m String? \u001b[0m\u001b[90m Int64  \u001b[0m\u001b[90m Int64  \u001b[0m\u001b[90m String? \u001b[0m\u001b[90m String? \u001b[0m\u001b[90m String? \u001b[0m\u001b[90m \u001b[0m ⋯\n",
       "───────┼────────────────────────────────────────────────────────────────────────\n",
       "     1 │ AF0001        1 \u001b[90m missing \u001b[0m      0      15  10YR4/3  10YR4/2  7,6       ⋯\n",
       "     2 │ AF0001        2 \u001b[90m missing \u001b[0m     15      60  10YR5/3  10YR5/2  2,3\n",
       "     3 │ AF0001        3 \u001b[90m missing \u001b[0m     60     150  10YR5/3 \u001b[90m missing \u001b[0m 0,9\n",
       "     4 │ AF0002        1 \u001b[90m missing \u001b[0m      0      20  10YR4/2 \u001b[90m missing \u001b[0m 12,8\n",
       "     5 │ AF0002        2 \u001b[90m missing \u001b[0m     20      60  10YR4/2 \u001b[90m missing \u001b[0m 6         ⋯\n",
       "     6 │ AF0002        3 \u001b[90m missing \u001b[0m     60     110  10YR4/3 \u001b[90m missing \u001b[0m 3,9\n",
       "     7 │ AF0002        4 \u001b[90m missing \u001b[0m    110     170  10YR4/3 \u001b[90m missing \u001b[0m 2,7     \u001b[90m\u001b[0m\n",
       "     8 │ AF0003        1  A             0      20  10YR4/2 \u001b[90m missing \u001b[0m 5,9\n",
       "     9 │ AF0003        2  Bg           20      50  10YR4/2 \u001b[90m missing \u001b[0m 2,4       ⋯\n",
       "    10 │ AF0003        3  Cg           50     110  10YR4/3 \u001b[90m missing \u001b[0m\u001b[90m missing \u001b[0m\u001b[90m\u001b[0m\n",
       "    11 │ AF0004        1 \u001b[90m missing \u001b[0m      0      15  10YR4/2 \u001b[90m missing \u001b[0m 14,6    \u001b[90m\u001b[0m\n",
       "   ⋮   │    ⋮        ⋮       ⋮       ⋮       ⋮        ⋮        ⋮        ⋮      ⋱\n",
       " 47824 │ ZW0066        1  A1            0      24  10YR3/1  10YR3/1  18,5\n",
       " 47825 │ ZW0066        2  A2           24      58  10YR3/1  10YR3/1  14,8      ⋯\n",
       " 47826 │ ZW0066        3  A3           58      92  10YR3/1  10YR3/1  12,2    \u001b[90m\u001b[0m\n",
       " 47827 │ ZW0067        1  Ah            0      27  10YR5/3 \u001b[90m missing \u001b[0m 4,4\n",
       " 47828 │ ZW0067        2  E1           27      52  2.5Y6/3 \u001b[90m missing \u001b[0m 1,4\n",
       " 47829 │ ZW0067        3  E2           52      71  2.5Y6/3 \u001b[90m missing \u001b[0m 1,2       ⋯\n",
       " 47830 │ ZW0067        4  Bt           71      97  2.5Y6/4 \u001b[90m missing \u001b[0m 0,5\n",
       " 47831 │ ZW0067        5  Btv          97     162  2.5Y7/3 \u001b[90m missing \u001b[0m\u001b[90m missing \u001b[0m\u001b[90m\u001b[0m\n",
       " 47832 │ ZW0067        6  BC          162     199  2.5Y7/3 \u001b[90m missing \u001b[0m\u001b[90m missing \u001b[0m\u001b[90m\u001b[0m\n",
       " 47833 │ ZW0067        7  Cg          199     220  10YR7/1 \u001b[90m missing \u001b[0m 0,6       ⋯\n",
       "\u001b[31m                                               23 columns and 47812 rows omitted\u001b[0m"
      ]
     },
     "execution_count": 4,
     "metadata": {},
     "output_type": "execute_result"
    }
   ],
   "source": [
    "df_horizon = CSV.read(download(\"https://drive.google.com/uc?export=download&id=1dAHPZfm8KIXC9qVks-owkD0LYbZjPpIM\"), DataFrame)"
   ]
  },
  {
   "cell_type": "markdown",
   "metadata": {},
   "source": [
    "Some cleaning is necessary:"
   ]
  },
  {
   "cell_type": "code",
   "execution_count": 5,
   "metadata": {
    "scrolled": true
   },
   "outputs": [
    {
     "data": {
      "text/html": [
       "<table class=\"data-frame\"><thead><tr><th></th><th>WISE3_ID</th><th>HONU</th><th>DESIG</th><th>TOPDEP</th><th>BOTDEP</th><th>ORGC</th><th>BULKDENS</th></tr><tr><th></th><th>String</th><th>Int64</th><th>String?</th><th>Int64</th><th>Int64</th><th>Float64</th><th>Float64</th></tr></thead><tbody><p>14,246 rows × 7 columns</p><tr><th>1</th><td>AL0007</td><td>1</td><td>Ap</td><td>0</td><td>25</td><td>9.8</td><td>1.64</td></tr><tr><th>2</th><td>AL0007</td><td>2</td><td>AB</td><td>25</td><td>49</td><td>7.8</td><td>1.62</td></tr><tr><th>3</th><td>AL0007</td><td>3</td><td>Bw1</td><td>49</td><td>83</td><td>5.9</td><td>1.57</td></tr><tr><th>4</th><td>AL0007</td><td>4</td><td>Bw2</td><td>83</td><td>116</td><td>6.9</td><td>1.63</td></tr><tr><th>5</th><td>AL0007</td><td>5</td><td>2C1</td><td>116</td><td>147</td><td>4.6</td><td>1.56</td></tr><tr><th>6</th><td>AL0007</td><td>6</td><td>2C2</td><td>147</td><td>160</td><td>4.6</td><td>1.45</td></tr><tr><th>7</th><td>AL0008</td><td>1</td><td>Ap-</td><td>0</td><td>17</td><td>11.5</td><td>1.61</td></tr><tr><th>8</th><td>AL0008</td><td>2</td><td>Bw1</td><td>17</td><td>38</td><td>8.1</td><td>1.55</td></tr><tr><th>9</th><td>AL0008</td><td>3</td><td>2Bw2</td><td>38</td><td>66</td><td>1.7</td><td>1.18</td></tr><tr><th>10</th><td>AL0008</td><td>4</td><td>2Bw3</td><td>66</td><td>100</td><td>1.5</td><td>0.89</td></tr><tr><th>11</th><td>AL0009</td><td>1</td><td>Ap1</td><td>0</td><td>13</td><td>10.2</td><td>1.67</td></tr><tr><th>12</th><td>AL0009</td><td>2</td><td>Ap2</td><td>13</td><td>28</td><td>10.6</td><td>1.73</td></tr><tr><th>13</th><td>AL0009</td><td>3</td><td>Ap3</td><td>28</td><td>48</td><td>7.9</td><td>1.72</td></tr><tr><th>14</th><td>AL0009</td><td>4</td><td>2Bw1</td><td>48</td><td>74</td><td>3.5</td><td>1.7</td></tr><tr><th>15</th><td>AL0009</td><td>5</td><td>2Bw2</td><td>74</td><td>97</td><td>2.5</td><td>1.67</td></tr><tr><th>16</th><td>AL0010</td><td>1</td><td>Ap</td><td>0</td><td>17</td><td>18.1</td><td>1.52</td></tr><tr><th>17</th><td>AL0010</td><td>2</td><td>Bw1</td><td>17</td><td>30</td><td>17.4</td><td>1.43</td></tr><tr><th>18</th><td>AL0010</td><td>3</td><td>Bw2</td><td>30</td><td>42</td><td>14.2</td><td>1.57</td></tr><tr><th>19</th><td>AL0010</td><td>4</td><td>Bw3</td><td>42</td><td>65</td><td>10.0</td><td>1.65</td></tr><tr><th>20</th><td>AL0010</td><td>5</td><td>2Bw4</td><td>65</td><td>110</td><td>4.0</td><td>1.0</td></tr><tr><th>21</th><td>AL0011</td><td>1</td><td>Ap</td><td>0</td><td>18</td><td>16.0</td><td>1.68</td></tr><tr><th>22</th><td>AL0011</td><td>2</td><td>Bt1</td><td>18</td><td>38</td><td>10.4</td><td>1.71</td></tr><tr><th>23</th><td>AL0011</td><td>3</td><td>Bt2</td><td>38</td><td>56</td><td>8.5</td><td>2.62</td></tr><tr><th>24</th><td>AL0011</td><td>4</td><td>2Bt3b</td><td>56</td><td>74</td><td>10.2</td><td>1.59</td></tr><tr><th>25</th><td>AL0011</td><td>5</td><td>2Bt4</td><td>74</td><td>99</td><td>5.1</td><td>1.66</td></tr><tr><th>26</th><td>AL0011</td><td>6</td><td>2Bt5</td><td>99</td><td>130</td><td>4.8</td><td>1.4</td></tr><tr><th>27</th><td>AL0012</td><td>1</td><td>Ap1</td><td>0</td><td>16</td><td>7.4</td><td>1.57</td></tr><tr><th>28</th><td>AL0012</td><td>2</td><td>Ap2</td><td>16</td><td>33</td><td>6.1</td><td>1.62</td></tr><tr><th>29</th><td>AL0012</td><td>3</td><td>Bw1</td><td>33</td><td>52</td><td>5.3</td><td>1.61</td></tr><tr><th>30</th><td>AL0012</td><td>4</td><td>Bw2</td><td>52</td><td>84</td><td>3.9</td><td>1.56</td></tr><tr><th>&vellip;</th><td>&vellip;</td><td>&vellip;</td><td>&vellip;</td><td>&vellip;</td><td>&vellip;</td><td>&vellip;</td><td>&vellip;</td></tr></tbody></table>"
      ],
      "text/latex": [
       "\\begin{tabular}{r|ccccccc}\n",
       "\t& WISE3\\_ID & HONU & DESIG & TOPDEP & BOTDEP & ORGC & BULKDENS\\\\\n",
       "\t\\hline\n",
       "\t& String & Int64 & String? & Int64 & Int64 & Float64 & Float64\\\\\n",
       "\t\\hline\n",
       "\t1 & AL0007 & 1 & Ap & 0 & 25 & 9.8 & 1.64 \\\\\n",
       "\t2 & AL0007 & 2 & AB & 25 & 49 & 7.8 & 1.62 \\\\\n",
       "\t3 & AL0007 & 3 & Bw1 & 49 & 83 & 5.9 & 1.57 \\\\\n",
       "\t4 & AL0007 & 4 & Bw2 & 83 & 116 & 6.9 & 1.63 \\\\\n",
       "\t5 & AL0007 & 5 & 2C1 & 116 & 147 & 4.6 & 1.56 \\\\\n",
       "\t6 & AL0007 & 6 & 2C2 & 147 & 160 & 4.6 & 1.45 \\\\\n",
       "\t7 & AL0008 & 1 & Ap- & 0 & 17 & 11.5 & 1.61 \\\\\n",
       "\t8 & AL0008 & 2 & Bw1 & 17 & 38 & 8.1 & 1.55 \\\\\n",
       "\t9 & AL0008 & 3 & 2Bw2 & 38 & 66 & 1.7 & 1.18 \\\\\n",
       "\t10 & AL0008 & 4 & 2Bw3 & 66 & 100 & 1.5 & 0.89 \\\\\n",
       "\t11 & AL0009 & 1 & Ap1 & 0 & 13 & 10.2 & 1.67 \\\\\n",
       "\t12 & AL0009 & 2 & Ap2 & 13 & 28 & 10.6 & 1.73 \\\\\n",
       "\t13 & AL0009 & 3 & Ap3 & 28 & 48 & 7.9 & 1.72 \\\\\n",
       "\t14 & AL0009 & 4 & 2Bw1 & 48 & 74 & 3.5 & 1.7 \\\\\n",
       "\t15 & AL0009 & 5 & 2Bw2 & 74 & 97 & 2.5 & 1.67 \\\\\n",
       "\t16 & AL0010 & 1 & Ap & 0 & 17 & 18.1 & 1.52 \\\\\n",
       "\t17 & AL0010 & 2 & Bw1 & 17 & 30 & 17.4 & 1.43 \\\\\n",
       "\t18 & AL0010 & 3 & Bw2 & 30 & 42 & 14.2 & 1.57 \\\\\n",
       "\t19 & AL0010 & 4 & Bw3 & 42 & 65 & 10.0 & 1.65 \\\\\n",
       "\t20 & AL0010 & 5 & 2Bw4 & 65 & 110 & 4.0 & 1.0 \\\\\n",
       "\t21 & AL0011 & 1 & Ap & 0 & 18 & 16.0 & 1.68 \\\\\n",
       "\t22 & AL0011 & 2 & Bt1 & 18 & 38 & 10.4 & 1.71 \\\\\n",
       "\t23 & AL0011 & 3 & Bt2 & 38 & 56 & 8.5 & 2.62 \\\\\n",
       "\t24 & AL0011 & 4 & 2Bt3b & 56 & 74 & 10.2 & 1.59 \\\\\n",
       "\t25 & AL0011 & 5 & 2Bt4 & 74 & 99 & 5.1 & 1.66 \\\\\n",
       "\t26 & AL0011 & 6 & 2Bt5 & 99 & 130 & 4.8 & 1.4 \\\\\n",
       "\t27 & AL0012 & 1 & Ap1 & 0 & 16 & 7.4 & 1.57 \\\\\n",
       "\t28 & AL0012 & 2 & Ap2 & 16 & 33 & 6.1 & 1.62 \\\\\n",
       "\t29 & AL0012 & 3 & Bw1 & 33 & 52 & 5.3 & 1.61 \\\\\n",
       "\t30 & AL0012 & 4 & Bw2 & 52 & 84 & 3.9 & 1.56 \\\\\n",
       "\t$\\dots$ & $\\dots$ & $\\dots$ & $\\dots$ & $\\dots$ & $\\dots$ & $\\dots$ & $\\dots$ \\\\\n",
       "\\end{tabular}\n"
      ],
      "text/plain": [
       "\u001b[1m14246×7 DataFrame\u001b[0m\n",
       "\u001b[1m   Row \u001b[0m│\u001b[1m WISE3_ID \u001b[0m\u001b[1m HONU  \u001b[0m\u001b[1m DESIG   \u001b[0m\u001b[1m TOPDEP \u001b[0m\u001b[1m BOTDEP \u001b[0m\u001b[1m ORGC    \u001b[0m\u001b[1m BULKDENS \u001b[0m\n",
       "\u001b[1m       \u001b[0m│\u001b[90m String   \u001b[0m\u001b[90m Int64 \u001b[0m\u001b[90m String? \u001b[0m\u001b[90m Int64  \u001b[0m\u001b[90m Int64  \u001b[0m\u001b[90m Float64 \u001b[0m\u001b[90m Float64  \u001b[0m\n",
       "───────┼─────────────────────────────────────────────────────────────\n",
       "     1 │ AL0007        1  Ap            0      25      9.8      1.64\n",
       "     2 │ AL0007        2  AB           25      49      7.8      1.62\n",
       "     3 │ AL0007        3  Bw1          49      83      5.9      1.57\n",
       "     4 │ AL0007        4  Bw2          83     116      6.9      1.63\n",
       "     5 │ AL0007        5  2C1         116     147      4.6      1.56\n",
       "     6 │ AL0007        6  2C2         147     160      4.6      1.45\n",
       "     7 │ AL0008        1  Ap-           0      17     11.5      1.61\n",
       "     8 │ AL0008        2  Bw1          17      38      8.1      1.55\n",
       "     9 │ AL0008        3  2Bw2         38      66      1.7      1.18\n",
       "    10 │ AL0008        4  2Bw3         66     100      1.5      0.89\n",
       "    11 │ AL0009        1  Ap1           0      13     10.2      1.67\n",
       "   ⋮   │    ⋮        ⋮       ⋮       ⋮       ⋮        ⋮        ⋮\n",
       " 14237 │ ZW0063        4  Bt2          42      71      5.2      1.56\n",
       " 14238 │ ZW0063        5  Bt3          71     100      3.7      1.38\n",
       " 14239 │ ZW0063        6  Bt4         100     138      2.3      1.44\n",
       " 14240 │ ZW0065        1  Ap1           0      11     10.2      1.54\n",
       " 14241 │ ZW0065        2  Ap2          11      24     10.0      1.64\n",
       " 14242 │ ZW0065        3  Bt           24      46      7.7      1.6\n",
       " 14243 │ ZW0065        4  BC           46      68      6.4      1.7\n",
       " 14244 │ ZW0066        1  A1            0      24     18.5      1.63\n",
       " 14245 │ ZW0066        2  A2           24      58     14.8      1.67\n",
       " 14246 │ ZW0066        3  A3           58      92     12.2      1.59\n",
       "\u001b[31m                                                   14225 rows omitted\u001b[0m"
      ]
     },
     "execution_count": 5,
     "metadata": {},
     "output_type": "execute_result"
    }
   ],
   "source": [
    "\n",
    "filt_hz = df_horizon[:,[:WISE3_ID,:HONU,:DESIG,:TOPDEP,:BOTDEP,:ORGC,:BULKDENS]]\n",
    "\n",
    "    dropmissing!(filt_hz,[:BULKDENS,:ORGC,:TOPDEP,:BOTDEP])\t\n",
    "\n",
    "    #BULKDENS and ORGC are still strings\n",
    "    filt_hz.BULKDENS = tryparse.(Float64,replace.(filt_hz.BULKDENS,','=>'.'))\n",
    "    filt_hz.ORGC = tryparse.(Float64,replace.(filt_hz.ORGC,','=>'.'))\n",
    "\n",
    "    filt_hz\n"
   ]
  },
  {
   "cell_type": "code",
   "execution_count": 6,
   "metadata": {},
   "outputs": [
    {
     "data": {
      "text/plain": [
       "v_double (generic function with 1 method)"
      ]
     },
     "execution_count": 6,
     "metadata": {},
     "output_type": "execute_result"
    }
   ],
   "source": [
    "v_double(vect) = [vect[Int(ceil(i/2))] for i in 1:length(vect)*2]"
   ]
  },
  {
   "cell_type": "markdown",
   "metadata": {},
   "source": [
    "As measurements represent an average the whole profile section, I'm using a constant interpolation between TOP and BOT depth of each section:"
   ]
  },
  {
   "cell_type": "code",
   "execution_count": 7,
   "metadata": {},
   "outputs": [
    {
     "data": {
      "image/svg+xml": [
       "<?xml version=\"1.0\" encoding=\"utf-8\"?>\n",
       "<svg xmlns=\"http://www.w3.org/2000/svg\" xmlns:xlink=\"http://www.w3.org/1999/xlink\" width=\"650\" height=\"700\" viewBox=\"0 0 2600 2800\">\n",
       "<defs>\n",
       "  <clipPath id=\"clip750\">\n",
       "    <rect x=\"0\" y=\"0\" width=\"2600\" height=\"2800\"/>\n",
       "  </clipPath>\n",
       "</defs>\n",
       "<path clip-path=\"url(#clip750)\" d=\"\n",
       "M0 2800 L2600 2800 L2600 0 L0 0  Z\n",
       "  \" fill=\"#ffffff\" fill-rule=\"evenodd\" fill-opacity=\"1\"/>\n",
       "<defs>\n",
       "  <clipPath id=\"clip751\">\n",
       "    <rect x=\"560\" y=\"280\" width=\"1961\" height=\"1961\"/>\n",
       "  </clipPath>\n",
       "</defs>\n",
       "<path clip-path=\"url(#clip750)\" d=\"\n",
       "M190.662 1257.17 L1252.76 1257.17 L1252.76 153.712 L190.662 153.712  Z\n",
       "  \" fill=\"#ffffff\" fill-rule=\"evenodd\" fill-opacity=\"1\"/>\n",
       "<defs>\n",
       "  <clipPath id=\"clip752\">\n",
       "    <rect x=\"190\" y=\"153\" width=\"1063\" height=\"1104\"/>\n",
       "  </clipPath>\n",
       "</defs>\n",
       "<polyline clip-path=\"url(#clip752)\" style=\"stroke:#000000; stroke-width:2; stroke-opacity:0.1; fill:none\" points=\"\n",
       "  220.721,1257.17 220.721,153.712 \n",
       "  \"/>\n",
       "<polyline clip-path=\"url(#clip752)\" style=\"stroke:#000000; stroke-width:2; stroke-opacity:0.1; fill:none\" points=\"\n",
       "  561.529,1257.17 561.529,153.712 \n",
       "  \"/>\n",
       "<polyline clip-path=\"url(#clip752)\" style=\"stroke:#000000; stroke-width:2; stroke-opacity:0.1; fill:none\" points=\"\n",
       "  902.337,1257.17 902.337,153.712 \n",
       "  \"/>\n",
       "<polyline clip-path=\"url(#clip752)\" style=\"stroke:#000000; stroke-width:2; stroke-opacity:0.1; fill:none\" points=\"\n",
       "  1243.15,1257.17 1243.15,153.712 \n",
       "  \"/>\n",
       "<polyline clip-path=\"url(#clip750)\" style=\"stroke:#000000; stroke-width:4; stroke-opacity:1; fill:none\" points=\"\n",
       "  190.662,1257.17 1252.76,1257.17 \n",
       "  \"/>\n",
       "<polyline clip-path=\"url(#clip750)\" style=\"stroke:#000000; stroke-width:4; stroke-opacity:1; fill:none\" points=\"\n",
       "  220.721,1257.17 220.721,1243.93 \n",
       "  \"/>\n",
       "<polyline clip-path=\"url(#clip750)\" style=\"stroke:#000000; stroke-width:4; stroke-opacity:1; fill:none\" points=\"\n",
       "  561.529,1257.17 561.529,1243.93 \n",
       "  \"/>\n",
       "<polyline clip-path=\"url(#clip750)\" style=\"stroke:#000000; stroke-width:4; stroke-opacity:1; fill:none\" points=\"\n",
       "  902.337,1257.17 902.337,1243.93 \n",
       "  \"/>\n",
       "<polyline clip-path=\"url(#clip750)\" style=\"stroke:#000000; stroke-width:4; stroke-opacity:1; fill:none\" points=\"\n",
       "  1243.15,1257.17 1243.15,1243.93 \n",
       "  \"/>\n",
       "<path clip-path=\"url(#clip750)\" d=\"M 0 0 M220.721 1289.56 Q217.11 1289.56 215.281 1293.12 Q213.475 1296.67 213.475 1303.79 Q213.475 1310.9 215.281 1314.47 Q217.11 1318.01 220.721 1318.01 Q224.355 1318.01 226.161 1314.47 Q227.989 1310.9 227.989 1303.79 Q227.989 1296.67 226.161 1293.12 Q224.355 1289.56 220.721 1289.56 M220.721 1285.85 Q226.531 1285.85 229.587 1290.46 Q232.665 1295.04 232.665 1303.79 Q232.665 1312.52 229.587 1317.13 Q226.531 1321.71 220.721 1321.71 Q214.911 1321.71 211.832 1317.13 Q208.776 1312.52 208.776 1303.79 Q208.776 1295.04 211.832 1290.46 Q214.911 1285.85 220.721 1285.85 Z\" fill=\"#000000\" fill-rule=\"evenodd\" fill-opacity=\"1\" /><path clip-path=\"url(#clip750)\" d=\"M 0 0 M551.807 1286.48 L570.163 1286.48 L570.163 1290.42 L556.089 1290.42 L556.089 1298.89 Q557.108 1298.54 558.126 1298.38 Q559.145 1298.19 560.163 1298.19 Q565.95 1298.19 569.33 1301.36 Q572.709 1304.54 572.709 1309.95 Q572.709 1315.53 569.237 1318.63 Q565.765 1321.71 559.446 1321.71 Q557.27 1321.71 555.001 1321.34 Q552.756 1320.97 550.348 1320.23 L550.348 1315.53 Q552.432 1316.66 554.654 1317.22 Q556.876 1317.78 559.353 1317.78 Q563.358 1317.78 565.696 1315.67 Q568.034 1313.56 568.034 1309.95 Q568.034 1306.34 565.696 1304.23 Q563.358 1302.13 559.353 1302.13 Q557.478 1302.13 555.603 1302.54 Q553.751 1302.96 551.807 1303.84 L551.807 1286.48 Z\" fill=\"#000000\" fill-rule=\"evenodd\" fill-opacity=\"1\" /><path clip-path=\"url(#clip750)\" d=\"M 0 0 M879.212 1317.1 L886.851 1317.1 L886.851 1290.74 L878.541 1292.41 L878.541 1288.15 L886.805 1286.48 L891.481 1286.48 L891.481 1317.1 L899.119 1317.1 L899.119 1321.04 L879.212 1321.04 L879.212 1317.1 Z\" fill=\"#000000\" fill-rule=\"evenodd\" fill-opacity=\"1\" /><path clip-path=\"url(#clip750)\" d=\"M 0 0 M914.189 1289.56 Q910.578 1289.56 908.749 1293.12 Q906.943 1296.67 906.943 1303.79 Q906.943 1310.9 908.749 1314.47 Q910.578 1318.01 914.189 1318.01 Q917.823 1318.01 919.629 1314.47 Q921.457 1310.9 921.457 1303.79 Q921.457 1296.67 919.629 1293.12 Q917.823 1289.56 914.189 1289.56 M914.189 1285.85 Q919.999 1285.85 923.055 1290.46 Q926.133 1295.04 926.133 1303.79 Q926.133 1312.52 923.055 1317.13 Q919.999 1321.71 914.189 1321.71 Q908.379 1321.71 905.3 1317.13 Q902.244 1312.52 902.244 1303.79 Q902.244 1295.04 905.3 1290.46 Q908.379 1285.85 914.189 1285.85 Z\" fill=\"#000000\" fill-rule=\"evenodd\" fill-opacity=\"1\" /><path clip-path=\"url(#clip750)\" d=\"M 0 0 M1220.52 1317.1 L1228.16 1317.1 L1228.16 1290.74 L1219.85 1292.41 L1219.85 1288.15 L1228.11 1286.48 L1232.79 1286.48 L1232.79 1317.1 L1240.43 1317.1 L1240.43 1321.04 L1220.52 1321.04 L1220.52 1317.1 Z\" fill=\"#000000\" fill-rule=\"evenodd\" fill-opacity=\"1\" /><path clip-path=\"url(#clip750)\" d=\"M 0 0 M1245.54 1286.48 L1263.9 1286.48 L1263.9 1290.42 L1249.82 1290.42 L1249.82 1298.89 Q1250.84 1298.54 1251.86 1298.38 Q1252.88 1298.19 1253.9 1298.19 Q1259.68 1298.19 1263.06 1301.36 Q1266.44 1304.54 1266.44 1309.95 Q1266.44 1315.53 1262.97 1318.63 Q1259.5 1321.71 1253.18 1321.71 Q1251 1321.71 1248.74 1321.34 Q1246.49 1320.97 1244.08 1320.23 L1244.08 1315.53 Q1246.17 1316.66 1248.39 1317.22 Q1250.61 1317.78 1253.09 1317.78 Q1257.09 1317.78 1259.43 1315.67 Q1261.77 1313.56 1261.77 1309.95 Q1261.77 1306.34 1259.43 1304.23 Q1257.09 1302.13 1253.09 1302.13 Q1251.21 1302.13 1249.34 1302.54 Q1247.49 1302.96 1245.54 1303.84 L1245.54 1286.48 Z\" fill=\"#000000\" fill-rule=\"evenodd\" fill-opacity=\"1\" /><polyline clip-path=\"url(#clip752)\" style=\"stroke:#000000; stroke-width:2; stroke-opacity:0.1; fill:none\" points=\"\n",
       "  190.662,1160.88 1252.76,1160.88 \n",
       "  \"/>\n",
       "<polyline clip-path=\"url(#clip752)\" style=\"stroke:#000000; stroke-width:2; stroke-opacity:0.1; fill:none\" points=\"\n",
       "  190.662,835.564 1252.76,835.564 \n",
       "  \"/>\n",
       "<polyline clip-path=\"url(#clip752)\" style=\"stroke:#000000; stroke-width:2; stroke-opacity:0.1; fill:none\" points=\"\n",
       "  190.662,510.253 1252.76,510.253 \n",
       "  \"/>\n",
       "<polyline clip-path=\"url(#clip752)\" style=\"stroke:#000000; stroke-width:2; stroke-opacity:0.1; fill:none\" points=\"\n",
       "  190.662,184.942 1252.76,184.942 \n",
       "  \"/>\n",
       "<polyline clip-path=\"url(#clip750)\" style=\"stroke:#000000; stroke-width:4; stroke-opacity:1; fill:none\" points=\"\n",
       "  190.662,1257.17 190.662,153.712 \n",
       "  \"/>\n",
       "<polyline clip-path=\"url(#clip750)\" style=\"stroke:#000000; stroke-width:4; stroke-opacity:1; fill:none\" points=\"\n",
       "  190.662,1160.88 203.407,1160.88 \n",
       "  \"/>\n",
       "<polyline clip-path=\"url(#clip750)\" style=\"stroke:#000000; stroke-width:4; stroke-opacity:1; fill:none\" points=\"\n",
       "  190.662,835.564 203.407,835.564 \n",
       "  \"/>\n",
       "<polyline clip-path=\"url(#clip750)\" style=\"stroke:#000000; stroke-width:4; stroke-opacity:1; fill:none\" points=\"\n",
       "  190.662,510.253 203.407,510.253 \n",
       "  \"/>\n",
       "<polyline clip-path=\"url(#clip750)\" style=\"stroke:#000000; stroke-width:4; stroke-opacity:1; fill:none\" points=\"\n",
       "  190.662,184.942 203.407,184.942 \n",
       "  \"/>\n",
       "<path clip-path=\"url(#clip750)\" d=\"M 0 0 M40.1668 1161.33 L69.8425 1161.33 L69.8425 1165.26 L40.1668 1165.26 L40.1668 1161.33 Z\" fill=\"#000000\" fill-rule=\"evenodd\" fill-opacity=\"1\" /><path clip-path=\"url(#clip750)\" d=\"M 0 0 M75.7221 1174.22 L83.361 1174.22 L83.361 1147.85 L75.0508 1149.52 L75.0508 1145.26 L83.3147 1143.6 L87.9906 1143.6 L87.9906 1174.22 L95.6294 1174.22 L95.6294 1178.16 L75.7221 1178.16 L75.7221 1174.22 Z\" fill=\"#000000\" fill-rule=\"evenodd\" fill-opacity=\"1\" /><path clip-path=\"url(#clip750)\" d=\"M 0 0 M100.745 1143.6 L119.102 1143.6 L119.102 1147.53 L105.028 1147.53 L105.028 1156 Q106.046 1155.66 107.065 1155.49 Q108.083 1155.31 109.102 1155.31 Q114.889 1155.31 118.268 1158.48 Q121.648 1161.65 121.648 1167.07 Q121.648 1172.65 118.176 1175.75 Q114.703 1178.83 108.384 1178.83 Q106.208 1178.83 103.94 1178.46 Q101.694 1178.09 99.2868 1177.35 L99.2868 1172.65 Q101.37 1173.78 103.592 1174.34 Q105.815 1174.89 108.291 1174.89 Q112.296 1174.89 114.634 1172.79 Q116.972 1170.68 116.972 1167.07 Q116.972 1163.46 114.634 1161.35 Q112.296 1159.24 108.291 1159.24 Q106.416 1159.24 104.541 1159.66 Q102.69 1160.08 100.745 1160.96 L100.745 1143.6 Z\" fill=\"#000000\" fill-rule=\"evenodd\" fill-opacity=\"1\" /><path clip-path=\"url(#clip750)\" d=\"M 0 0 M136.717 1146.67 Q133.106 1146.67 131.277 1150.24 Q129.472 1153.78 129.472 1160.91 Q129.472 1168.02 131.277 1171.58 Q133.106 1175.12 136.717 1175.12 Q140.351 1175.12 142.157 1171.58 Q143.986 1168.02 143.986 1160.91 Q143.986 1153.78 142.157 1150.24 Q140.351 1146.67 136.717 1146.67 M136.717 1142.97 Q142.527 1142.97 145.583 1147.58 Q148.662 1152.16 148.662 1160.91 Q148.662 1169.64 145.583 1174.24 Q142.527 1178.83 136.717 1178.83 Q130.907 1178.83 127.828 1174.24 Q124.773 1169.64 124.773 1160.91 Q124.773 1152.16 127.828 1147.58 Q130.907 1142.97 136.717 1142.97 Z\" fill=\"#000000\" fill-rule=\"evenodd\" fill-opacity=\"1\" /><path clip-path=\"url(#clip750)\" d=\"M 0 0 M39.1714 836.016 L68.8472 836.016 L68.8472 839.951 L39.1714 839.951 L39.1714 836.016 Z\" fill=\"#000000\" fill-rule=\"evenodd\" fill-opacity=\"1\" /><path clip-path=\"url(#clip750)\" d=\"M 0 0 M74.7268 848.909 L82.3656 848.909 L82.3656 822.544 L74.0555 824.21 L74.0555 819.951 L82.3193 818.284 L86.9952 818.284 L86.9952 848.909 L94.6341 848.909 L94.6341 852.844 L74.7268 852.844 L74.7268 848.909 Z\" fill=\"#000000\" fill-rule=\"evenodd\" fill-opacity=\"1\" /><path clip-path=\"url(#clip750)\" d=\"M 0 0 M109.703 821.363 Q106.092 821.363 104.264 824.928 Q102.458 828.47 102.458 835.599 Q102.458 842.706 104.264 846.27 Q106.092 849.812 109.703 849.812 Q113.338 849.812 115.143 846.27 Q116.972 842.706 116.972 835.599 Q116.972 828.47 115.143 824.928 Q113.338 821.363 109.703 821.363 M109.703 817.66 Q115.514 817.66 118.569 822.266 Q121.648 826.849 121.648 835.599 Q121.648 844.326 118.569 848.932 Q115.514 853.516 109.703 853.516 Q103.893 853.516 100.815 848.932 Q97.759 844.326 97.759 835.599 Q97.759 826.849 100.815 822.266 Q103.893 817.66 109.703 817.66 Z\" fill=\"#000000\" fill-rule=\"evenodd\" fill-opacity=\"1\" /><path clip-path=\"url(#clip750)\" d=\"M 0 0 M136.717 821.363 Q133.106 821.363 131.277 824.928 Q129.472 828.47 129.472 835.599 Q129.472 842.706 131.277 846.27 Q133.106 849.812 136.717 849.812 Q140.351 849.812 142.157 846.27 Q143.986 842.706 143.986 835.599 Q143.986 828.47 142.157 824.928 Q140.351 821.363 136.717 821.363 M136.717 817.66 Q142.527 817.66 145.583 822.266 Q148.662 826.849 148.662 835.599 Q148.662 844.326 145.583 848.932 Q142.527 853.516 136.717 853.516 Q130.907 853.516 127.828 848.932 Q124.773 844.326 124.773 835.599 Q124.773 826.849 127.828 822.266 Q130.907 817.66 136.717 817.66 Z\" fill=\"#000000\" fill-rule=\"evenodd\" fill-opacity=\"1\" /><path clip-path=\"url(#clip750)\" d=\"M 0 0 M65.9537 510.705 L95.6294 510.705 L95.6294 514.64 L65.9537 514.64 L65.9537 510.705 Z\" fill=\"#000000\" fill-rule=\"evenodd\" fill-opacity=\"1\" /><path clip-path=\"url(#clip750)\" d=\"M 0 0 M100.745 492.973 L119.102 492.973 L119.102 496.908 L105.028 496.908 L105.028 505.381 Q106.046 505.033 107.065 504.871 Q108.083 504.686 109.102 504.686 Q114.889 504.686 118.268 507.857 Q121.648 511.029 121.648 516.445 Q121.648 522.024 118.176 525.126 Q114.703 528.205 108.384 528.205 Q106.208 528.205 103.94 527.834 Q101.694 527.464 99.2868 526.723 L99.2868 522.024 Q101.37 523.158 103.592 523.714 Q105.815 524.269 108.291 524.269 Q112.296 524.269 114.634 522.163 Q116.972 520.056 116.972 516.445 Q116.972 512.834 114.634 510.728 Q112.296 508.621 108.291 508.621 Q106.416 508.621 104.541 509.038 Q102.69 509.455 100.745 510.334 L100.745 492.973 Z\" fill=\"#000000\" fill-rule=\"evenodd\" fill-opacity=\"1\" /><path clip-path=\"url(#clip750)\" d=\"M 0 0 M136.717 496.052 Q133.106 496.052 131.277 499.617 Q129.472 503.158 129.472 510.288 Q129.472 517.394 131.277 520.959 Q133.106 524.501 136.717 524.501 Q140.351 524.501 142.157 520.959 Q143.986 517.394 143.986 510.288 Q143.986 503.158 142.157 499.617 Q140.351 496.052 136.717 496.052 M136.717 492.348 Q142.527 492.348 145.583 496.955 Q148.662 501.538 148.662 510.288 Q148.662 519.015 145.583 523.621 Q142.527 528.205 136.717 528.205 Q130.907 528.205 127.828 523.621 Q124.773 519.015 124.773 510.288 Q124.773 501.538 127.828 496.955 Q130.907 492.348 136.717 492.348 Z\" fill=\"#000000\" fill-rule=\"evenodd\" fill-opacity=\"1\" /><path clip-path=\"url(#clip750)\" d=\"M 0 0 M136.717 170.741 Q133.106 170.741 131.277 174.305 Q129.472 177.847 129.472 184.977 Q129.472 192.083 131.277 195.648 Q133.106 199.19 136.717 199.19 Q140.351 199.19 142.157 195.648 Q143.986 192.083 143.986 184.977 Q143.986 177.847 142.157 174.305 Q140.351 170.741 136.717 170.741 M136.717 167.037 Q142.527 167.037 145.583 171.643 Q148.662 176.227 148.662 184.977 Q148.662 193.704 145.583 198.31 Q142.527 202.893 136.717 202.893 Q130.907 202.893 127.828 198.31 Q124.773 193.704 124.773 184.977 Q124.773 176.227 127.828 171.643 Q130.907 167.037 136.717 167.037 Z\" fill=\"#000000\" fill-rule=\"evenodd\" fill-opacity=\"1\" /><path clip-path=\"url(#clip750)\" d=\"M 0 0 M495.425 17.6457 Q486.513 17.6457 481.247 24.2892 Q476.021 30.9327 476.021 42.3968 Q476.021 53.8203 481.247 60.4638 Q486.513 67.1073 495.425 67.1073 Q504.337 67.1073 509.522 60.4638 Q514.748 53.8203 514.748 42.3968 Q514.748 30.9327 509.522 24.2892 Q504.337 17.6457 495.425 17.6457 M495.425 11.0023 Q508.145 11.0023 515.761 19.5497 Q523.376 28.0566 523.376 42.3968 Q523.376 56.6965 515.761 65.2439 Q508.145 73.7508 495.425 73.7508 Q482.665 73.7508 475.009 65.2439 Q467.393 56.737 467.393 42.3968 Q467.393 28.0566 475.009 19.5497 Q482.665 11.0023 495.425 11.0023 Z\" fill=\"#000000\" fill-rule=\"evenodd\" fill-opacity=\"1\" /><path clip-path=\"url(#clip750)\" d=\"M 0 0 M560.199 44.2197 Q562.832 45.1109 565.303 48.0275 Q567.815 50.9442 570.326 56.0483 L578.631 72.576 L569.84 72.576 L562.103 57.061 Q559.105 50.9847 556.27 48.9997 Q553.475 47.0148 548.614 47.0148 L539.702 47.0148 L539.702 72.576 L531.519 72.576 L531.519 12.096 L549.991 12.096 Q560.361 12.096 565.465 16.4305 Q570.569 20.7649 570.569 29.5149 Q570.569 35.2267 567.896 38.994 Q565.263 42.7613 560.199 44.2197 M539.702 18.8205 L539.702 40.2903 L549.991 40.2903 Q555.905 40.2903 558.903 37.5762 Q561.941 34.8216 561.941 29.5149 Q561.941 24.2082 558.903 21.5346 Q555.905 18.8205 549.991 18.8205 L539.702 18.8205 Z\" fill=\"#000000\" fill-rule=\"evenodd\" fill-opacity=\"1\" /><path clip-path=\"url(#clip750)\" d=\"M 0 0 M628.011 63.9476 L628.011 47.7034 L614.643 47.7034 L614.643 40.9789 L636.113 40.9789 L636.113 66.9452 Q631.374 70.3075 625.662 72.0494 Q619.95 73.7508 613.469 73.7508 Q599.29 73.7508 591.27 65.4869 Q583.289 57.1826 583.289 42.3968 Q583.289 27.5705 591.27 19.3066 Q599.29 11.0023 613.469 11.0023 Q619.383 11.0023 624.69 12.4606 Q630.037 13.9189 634.533 16.7545 L634.533 25.464 Q629.996 21.6156 624.892 19.6712 Q619.788 17.7268 614.157 17.7268 Q603.058 17.7268 597.467 23.9246 Q591.918 30.1225 591.918 42.3968 Q591.918 54.6305 597.467 60.8284 Q603.058 67.0263 614.157 67.0263 Q618.492 67.0263 621.894 66.2971 Q625.297 65.5274 628.011 63.9476 Z\" fill=\"#000000\" fill-rule=\"evenodd\" fill-opacity=\"1\" /><path clip-path=\"url(#clip750)\" d=\"M 0 0 M689.545 16.7545 L689.545 25.383 Q685.413 21.5346 680.714 19.6307 Q676.055 17.7268 670.789 17.7268 Q660.419 17.7268 654.909 24.0867 Q649.4 30.4061 649.4 42.3968 Q649.4 54.3469 654.909 60.7069 Q660.419 67.0263 670.789 67.0263 Q676.055 67.0263 680.714 65.1223 Q685.413 63.2184 689.545 59.3701 L689.545 67.9175 Q685.251 70.8341 680.43 72.2924 Q675.65 73.7508 670.303 73.7508 Q656.57 73.7508 648.671 65.3654 Q640.772 56.9395 640.772 42.3968 Q640.772 27.8135 648.671 19.4281 Q656.57 11.0023 670.303 11.0023 Q675.731 11.0023 680.511 12.4606 Q685.332 13.8784 689.545 16.7545 Z\" fill=\"#000000\" fill-rule=\"evenodd\" fill-opacity=\"1\" /><path clip-path=\"url(#clip750)\" d=\"M 0 0 M741.315 32.4315 Q735.32 32.4315 731.836 37.1306 Q728.352 41.7891 728.352 49.9314 Q728.352 58.0738 731.795 62.7728 Q735.279 67.4314 741.315 67.4314 Q747.27 67.4314 750.754 62.7323 Q754.237 58.0333 754.237 49.9314 Q754.237 41.8701 750.754 37.1711 Q747.27 32.4315 741.315 32.4315 M741.315 26.1121 Q751.037 26.1121 756.587 32.4315 Q762.137 38.7509 762.137 49.9314 Q762.137 61.0714 756.587 67.4314 Q751.037 73.7508 741.315 73.7508 Q731.552 73.7508 726.003 67.4314 Q720.493 61.0714 720.493 49.9314 Q720.493 38.7509 726.003 32.4315 Q731.552 26.1121 741.315 26.1121 Z\" fill=\"#000000\" fill-rule=\"evenodd\" fill-opacity=\"1\" /><path clip-path=\"url(#clip750)\" d=\"M 0 0 M796.245 34.1734 Q794.99 33.4443 793.491 33.1202 Q792.032 32.7556 790.25 32.7556 Q783.931 32.7556 780.528 36.8875 Q777.166 40.9789 777.166 48.6757 L777.166 72.576 L769.671 72.576 L769.671 27.2059 L777.166 27.2059 L777.166 34.2544 Q779.515 30.1225 783.282 28.1376 Q787.05 26.1121 792.438 26.1121 Q793.207 26.1121 794.139 26.2337 Q795.071 26.3147 796.205 26.5172 L796.245 34.1734 Z\" fill=\"#000000\" fill-rule=\"evenodd\" fill-opacity=\"1\" /><path clip-path=\"url(#clip750)\" d=\"M 0 0 M804.064 27.2059 L811.517 27.2059 L811.517 72.576 L804.064 72.576 L804.064 27.2059 M804.064 9.54393 L811.517 9.54393 L811.517 18.9825 L804.064 18.9825 L804.064 9.54393 Z\" fill=\"#000000\" fill-rule=\"evenodd\" fill-opacity=\"1\" /><path clip-path=\"url(#clip750)\" d=\"M 0 0 M849.191 49.3643 Q849.191 41.2625 845.828 36.8065 Q842.507 32.3505 836.471 32.3505 Q830.476 32.3505 827.113 36.8065 Q823.792 41.2625 823.792 49.3643 Q823.792 57.4256 827.113 61.8816 Q830.476 66.3376 836.471 66.3376 Q842.507 66.3376 845.828 61.8816 Q849.191 57.4256 849.191 49.3643 M856.644 66.9452 Q856.644 78.5308 851.5 84.1616 Q846.355 89.8329 835.742 89.8329 Q831.812 89.8329 828.329 89.2252 Q824.845 88.6581 821.564 87.4428 L821.564 80.1917 Q824.845 81.9741 828.045 82.8248 Q831.245 83.6755 834.567 83.6755 Q841.899 83.6755 845.545 79.8271 Q849.191 76.0193 849.191 68.282 L849.191 64.5957 Q846.882 68.6061 843.276 70.5911 Q839.671 72.576 834.648 72.576 Q826.303 72.576 821.199 66.2161 Q816.095 59.8562 816.095 49.3643 Q816.095 38.832 821.199 32.472 Q826.303 26.1121 834.648 26.1121 Q839.671 26.1121 843.276 28.0971 Q846.882 30.082 849.191 34.0924 L849.191 27.2059 L856.644 27.2059 L856.644 66.9452 Z\" fill=\"#000000\" fill-rule=\"evenodd\" fill-opacity=\"1\" /><path clip-path=\"url(#clip750)\" d=\"M 0 0 M864.463 27.2059 L871.916 27.2059 L871.916 72.576 L864.463 72.576 L864.463 27.2059 M864.463 9.54393 L871.916 9.54393 L871.916 18.9825 L864.463 18.9825 L864.463 9.54393 Z\" fill=\"#000000\" fill-rule=\"evenodd\" fill-opacity=\"1\" /><path clip-path=\"url(#clip750)\" d=\"M 0 0 M917.448 45.1919 L917.448 72.576 L909.995 72.576 L909.995 45.4349 Q909.995 38.994 907.483 35.7938 Q904.972 32.5936 899.949 32.5936 Q893.913 32.5936 890.429 36.4419 Q886.945 40.2903 886.945 46.9338 L886.945 72.576 L879.451 72.576 L879.451 27.2059 L886.945 27.2059 L886.945 34.2544 Q889.619 30.163 893.224 28.1376 Q896.87 26.1121 901.609 26.1121 Q909.428 26.1121 913.438 30.9732 Q917.448 35.7938 917.448 45.1919 Z\" fill=\"#000000\" fill-rule=\"evenodd\" fill-opacity=\"1\" /><path clip-path=\"url(#clip750)\" d=\"M 0 0 M945.886 49.7694 Q936.852 49.7694 933.368 51.8354 Q929.885 53.9013 929.885 58.8839 Q929.885 62.8538 932.477 65.2034 Q935.11 67.5124 939.607 67.5124 Q945.805 67.5124 949.532 63.1374 Q953.299 58.7219 953.299 51.4303 L953.299 49.7694 L945.886 49.7694 M960.753 46.6907 L960.753 72.576 L953.299 72.576 L953.299 65.6895 Q950.747 69.8214 946.939 71.8063 Q943.131 73.7508 937.622 73.7508 Q930.654 73.7508 926.522 69.8619 Q922.431 65.9325 922.431 59.3701 Q922.431 51.7138 927.535 47.825 Q932.68 43.9361 942.848 43.9361 L953.299 43.9361 L953.299 43.2069 Q953.299 38.0623 949.896 35.2672 Q946.534 32.4315 940.417 32.4315 Q936.528 32.4315 932.842 33.3632 Q929.156 34.295 925.753 36.1584 L925.753 29.2718 Q929.844 27.692 933.693 26.9223 Q937.541 26.1121 941.187 26.1121 Q951.03 26.1121 955.892 31.2163 Q960.753 36.3204 960.753 46.6907 Z\" fill=\"#000000\" fill-rule=\"evenodd\" fill-opacity=\"1\" /><path clip-path=\"url(#clip750)\" d=\"M 0 0 M968.571 9.54393 L976.024 9.54393 L976.024 72.576 L968.571 72.576 L968.571 9.54393 Z\" fill=\"#000000\" fill-rule=\"evenodd\" fill-opacity=\"1\" /><circle clip-path=\"url(#clip752)\" cx=\"888.705\" cy=\"266.27\" r=\"14\" fill=\"#009af9\" fill-rule=\"evenodd\" fill-opacity=\"1\" stroke=\"#000000\" stroke-opacity=\"1\" stroke-width=\"5.2\"/>\n",
       "<circle clip-path=\"url(#clip752)\" cx=\"752.381\" cy=\"425.672\" r=\"14\" fill=\"#009af9\" fill-rule=\"evenodd\" fill-opacity=\"1\" stroke=\"#000000\" stroke-opacity=\"1\" stroke-width=\"5.2\"/>\n",
       "<circle clip-path=\"url(#clip752)\" cx=\"622.874\" cy=\"614.353\" r=\"14\" fill=\"#009af9\" fill-rule=\"evenodd\" fill-opacity=\"1\" stroke=\"#000000\" stroke-opacity=\"1\" stroke-width=\"5.2\"/>\n",
       "<circle clip-path=\"url(#clip752)\" cx=\"691.036\" cy=\"832.311\" r=\"14\" fill=\"#009af9\" fill-rule=\"evenodd\" fill-opacity=\"1\" stroke=\"#000000\" stroke-opacity=\"1\" stroke-width=\"5.2\"/>\n",
       "<circle clip-path=\"url(#clip752)\" cx=\"534.264\" cy=\"1040.51\" r=\"14\" fill=\"#009af9\" fill-rule=\"evenodd\" fill-opacity=\"1\" stroke=\"#000000\" stroke-opacity=\"1\" stroke-width=\"5.2\"/>\n",
       "<circle clip-path=\"url(#clip752)\" cx=\"534.264\" cy=\"1183.65\" r=\"14\" fill=\"#009af9\" fill-rule=\"evenodd\" fill-opacity=\"1\" stroke=\"#000000\" stroke-opacity=\"1\" stroke-width=\"5.2\"/>\n",
       "<path clip-path=\"url(#clip750)\" d=\"\n",
       "M1490.66 1257.17 L2552.76 1257.17 L2552.76 153.712 L1490.66 153.712  Z\n",
       "  \" fill=\"#ffffff\" fill-rule=\"evenodd\" fill-opacity=\"1\"/>\n",
       "<defs>\n",
       "  <clipPath id=\"clip753\">\n",
       "    <rect x=\"1490\" y=\"153\" width=\"1063\" height=\"1104\"/>\n",
       "  </clipPath>\n",
       "</defs>\n",
       "<polyline clip-path=\"url(#clip753)\" style=\"stroke:#000000; stroke-width:2; stroke-opacity:0.1; fill:none\" points=\"\n",
       "  1520.72,1257.17 1520.72,153.712 \n",
       "  \"/>\n",
       "<polyline clip-path=\"url(#clip753)\" style=\"stroke:#000000; stroke-width:2; stroke-opacity:0.1; fill:none\" points=\"\n",
       "  1861.53,1257.17 1861.53,153.712 \n",
       "  \"/>\n",
       "<polyline clip-path=\"url(#clip753)\" style=\"stroke:#000000; stroke-width:2; stroke-opacity:0.1; fill:none\" points=\"\n",
       "  2202.34,1257.17 2202.34,153.712 \n",
       "  \"/>\n",
       "<polyline clip-path=\"url(#clip753)\" style=\"stroke:#000000; stroke-width:2; stroke-opacity:0.1; fill:none\" points=\"\n",
       "  2543.15,1257.17 2543.15,153.712 \n",
       "  \"/>\n",
       "<polyline clip-path=\"url(#clip750)\" style=\"stroke:#000000; stroke-width:4; stroke-opacity:1; fill:none\" points=\"\n",
       "  1490.66,1257.17 2552.76,1257.17 \n",
       "  \"/>\n",
       "<polyline clip-path=\"url(#clip750)\" style=\"stroke:#000000; stroke-width:4; stroke-opacity:1; fill:none\" points=\"\n",
       "  1520.72,1257.17 1520.72,1243.93 \n",
       "  \"/>\n",
       "<polyline clip-path=\"url(#clip750)\" style=\"stroke:#000000; stroke-width:4; stroke-opacity:1; fill:none\" points=\"\n",
       "  1861.53,1257.17 1861.53,1243.93 \n",
       "  \"/>\n",
       "<polyline clip-path=\"url(#clip750)\" style=\"stroke:#000000; stroke-width:4; stroke-opacity:1; fill:none\" points=\"\n",
       "  2202.34,1257.17 2202.34,1243.93 \n",
       "  \"/>\n",
       "<polyline clip-path=\"url(#clip750)\" style=\"stroke:#000000; stroke-width:4; stroke-opacity:1; fill:none\" points=\"\n",
       "  2543.15,1257.17 2543.15,1243.93 \n",
       "  \"/>\n",
       "<path clip-path=\"url(#clip750)\" d=\"M 0 0 M1520.72 1289.56 Q1517.11 1289.56 1515.28 1293.12 Q1513.48 1296.67 1513.48 1303.79 Q1513.48 1310.9 1515.28 1314.47 Q1517.11 1318.01 1520.72 1318.01 Q1524.36 1318.01 1526.16 1314.47 Q1527.99 1310.9 1527.99 1303.79 Q1527.99 1296.67 1526.16 1293.12 Q1524.36 1289.56 1520.72 1289.56 M1520.72 1285.85 Q1526.53 1285.85 1529.59 1290.46 Q1532.67 1295.04 1532.67 1303.79 Q1532.67 1312.52 1529.59 1317.13 Q1526.53 1321.71 1520.72 1321.71 Q1514.91 1321.71 1511.83 1317.13 Q1508.78 1312.52 1508.78 1303.79 Q1508.78 1295.04 1511.83 1290.46 Q1514.91 1285.85 1520.72 1285.85 Z\" fill=\"#000000\" fill-rule=\"evenodd\" fill-opacity=\"1\" /><path clip-path=\"url(#clip750)\" d=\"M 0 0 M1851.81 1286.48 L1870.16 1286.48 L1870.16 1290.42 L1856.09 1290.42 L1856.09 1298.89 Q1857.11 1298.54 1858.13 1298.38 Q1859.14 1298.19 1860.16 1298.19 Q1865.95 1298.19 1869.33 1301.36 Q1872.71 1304.54 1872.71 1309.95 Q1872.71 1315.53 1869.24 1318.63 Q1865.77 1321.71 1859.45 1321.71 Q1857.27 1321.71 1855 1321.34 Q1852.76 1320.97 1850.35 1320.23 L1850.35 1315.53 Q1852.43 1316.66 1854.65 1317.22 Q1856.88 1317.78 1859.35 1317.78 Q1863.36 1317.78 1865.7 1315.67 Q1868.03 1313.56 1868.03 1309.95 Q1868.03 1306.34 1865.7 1304.23 Q1863.36 1302.13 1859.35 1302.13 Q1857.48 1302.13 1855.6 1302.54 Q1853.75 1302.96 1851.81 1303.84 L1851.81 1286.48 Z\" fill=\"#000000\" fill-rule=\"evenodd\" fill-opacity=\"1\" /><path clip-path=\"url(#clip750)\" d=\"M 0 0 M2179.21 1317.1 L2186.85 1317.1 L2186.85 1290.74 L2178.54 1292.41 L2178.54 1288.15 L2186.8 1286.48 L2191.48 1286.48 L2191.48 1317.1 L2199.12 1317.1 L2199.12 1321.04 L2179.21 1321.04 L2179.21 1317.1 Z\" fill=\"#000000\" fill-rule=\"evenodd\" fill-opacity=\"1\" /><path clip-path=\"url(#clip750)\" d=\"M 0 0 M2214.19 1289.56 Q2210.58 1289.56 2208.75 1293.12 Q2206.94 1296.67 2206.94 1303.79 Q2206.94 1310.9 2208.75 1314.47 Q2210.58 1318.01 2214.19 1318.01 Q2217.82 1318.01 2219.63 1314.47 Q2221.46 1310.9 2221.46 1303.79 Q2221.46 1296.67 2219.63 1293.12 Q2217.82 1289.56 2214.19 1289.56 M2214.19 1285.85 Q2220 1285.85 2223.05 1290.46 Q2226.13 1295.04 2226.13 1303.79 Q2226.13 1312.52 2223.05 1317.13 Q2220 1321.71 2214.19 1321.71 Q2208.38 1321.71 2205.3 1317.13 Q2202.24 1312.52 2202.24 1303.79 Q2202.24 1295.04 2205.3 1290.46 Q2208.38 1285.85 2214.19 1285.85 Z\" fill=\"#000000\" fill-rule=\"evenodd\" fill-opacity=\"1\" /><path clip-path=\"url(#clip750)\" d=\"M 0 0 M2520.52 1317.1 L2528.16 1317.1 L2528.16 1290.74 L2519.85 1292.41 L2519.85 1288.15 L2528.11 1286.48 L2532.79 1286.48 L2532.79 1317.1 L2540.43 1317.1 L2540.43 1321.04 L2520.52 1321.04 L2520.52 1317.1 Z\" fill=\"#000000\" fill-rule=\"evenodd\" fill-opacity=\"1\" /><path clip-path=\"url(#clip750)\" d=\"M 0 0 M2545.54 1286.48 L2563.9 1286.48 L2563.9 1290.42 L2549.82 1290.42 L2549.82 1298.89 Q2550.84 1298.54 2551.86 1298.38 Q2552.88 1298.19 2553.9 1298.19 Q2559.68 1298.19 2563.06 1301.36 Q2566.44 1304.54 2566.44 1309.95 Q2566.44 1315.53 2562.97 1318.63 Q2559.5 1321.71 2553.18 1321.71 Q2551 1321.71 2548.74 1321.34 Q2546.49 1320.97 2544.08 1320.23 L2544.08 1315.53 Q2546.17 1316.66 2548.39 1317.22 Q2550.61 1317.78 2553.09 1317.78 Q2557.09 1317.78 2559.43 1315.67 Q2561.77 1313.56 2561.77 1309.95 Q2561.77 1306.34 2559.43 1304.23 Q2557.09 1302.13 2553.09 1302.13 Q2551.21 1302.13 2549.34 1302.54 Q2547.49 1302.96 2545.54 1303.84 L2545.54 1286.48 Z\" fill=\"#000000\" fill-rule=\"evenodd\" fill-opacity=\"1\" /><polyline clip-path=\"url(#clip753)\" style=\"stroke:#000000; stroke-width:2; stroke-opacity:0.1; fill:none\" points=\"\n",
       "  1490.66,1160.88 2552.76,1160.88 \n",
       "  \"/>\n",
       "<polyline clip-path=\"url(#clip753)\" style=\"stroke:#000000; stroke-width:2; stroke-opacity:0.1; fill:none\" points=\"\n",
       "  1490.66,835.564 2552.76,835.564 \n",
       "  \"/>\n",
       "<polyline clip-path=\"url(#clip753)\" style=\"stroke:#000000; stroke-width:2; stroke-opacity:0.1; fill:none\" points=\"\n",
       "  1490.66,510.253 2552.76,510.253 \n",
       "  \"/>\n",
       "<polyline clip-path=\"url(#clip753)\" style=\"stroke:#000000; stroke-width:2; stroke-opacity:0.1; fill:none\" points=\"\n",
       "  1490.66,184.942 2552.76,184.942 \n",
       "  \"/>\n",
       "<polyline clip-path=\"url(#clip750)\" style=\"stroke:#000000; stroke-width:4; stroke-opacity:1; fill:none\" points=\"\n",
       "  1490.66,1257.17 1490.66,153.712 \n",
       "  \"/>\n",
       "<polyline clip-path=\"url(#clip750)\" style=\"stroke:#000000; stroke-width:4; stroke-opacity:1; fill:none\" points=\"\n",
       "  1490.66,1160.88 1503.41,1160.88 \n",
       "  \"/>\n",
       "<polyline clip-path=\"url(#clip750)\" style=\"stroke:#000000; stroke-width:4; stroke-opacity:1; fill:none\" points=\"\n",
       "  1490.66,835.564 1503.41,835.564 \n",
       "  \"/>\n",
       "<polyline clip-path=\"url(#clip750)\" style=\"stroke:#000000; stroke-width:4; stroke-opacity:1; fill:none\" points=\"\n",
       "  1490.66,510.253 1503.41,510.253 \n",
       "  \"/>\n",
       "<polyline clip-path=\"url(#clip750)\" style=\"stroke:#000000; stroke-width:4; stroke-opacity:1; fill:none\" points=\"\n",
       "  1490.66,184.942 1503.41,184.942 \n",
       "  \"/>\n",
       "<path clip-path=\"url(#clip750)\" d=\"M 0 0 M1340.17 1161.33 L1369.84 1161.33 L1369.84 1165.26 L1340.17 1165.26 L1340.17 1161.33 Z\" fill=\"#000000\" fill-rule=\"evenodd\" fill-opacity=\"1\" /><path clip-path=\"url(#clip750)\" d=\"M 0 0 M1375.72 1174.22 L1383.36 1174.22 L1383.36 1147.85 L1375.05 1149.52 L1375.05 1145.26 L1383.31 1143.6 L1387.99 1143.6 L1387.99 1174.22 L1395.63 1174.22 L1395.63 1178.16 L1375.72 1178.16 L1375.72 1174.22 Z\" fill=\"#000000\" fill-rule=\"evenodd\" fill-opacity=\"1\" /><path clip-path=\"url(#clip750)\" d=\"M 0 0 M1400.75 1143.6 L1419.1 1143.6 L1419.1 1147.53 L1405.03 1147.53 L1405.03 1156 Q1406.05 1155.66 1407.06 1155.49 Q1408.08 1155.31 1409.1 1155.31 Q1414.89 1155.31 1418.27 1158.48 Q1421.65 1161.65 1421.65 1167.07 Q1421.65 1172.65 1418.18 1175.75 Q1414.7 1178.83 1408.38 1178.83 Q1406.21 1178.83 1403.94 1178.46 Q1401.69 1178.09 1399.29 1177.35 L1399.29 1172.65 Q1401.37 1173.78 1403.59 1174.34 Q1405.81 1174.89 1408.29 1174.89 Q1412.3 1174.89 1414.63 1172.79 Q1416.97 1170.68 1416.97 1167.07 Q1416.97 1163.46 1414.63 1161.35 Q1412.3 1159.24 1408.29 1159.24 Q1406.42 1159.24 1404.54 1159.66 Q1402.69 1160.08 1400.75 1160.96 L1400.75 1143.6 Z\" fill=\"#000000\" fill-rule=\"evenodd\" fill-opacity=\"1\" /><path clip-path=\"url(#clip750)\" d=\"M 0 0 M1436.72 1146.67 Q1433.11 1146.67 1431.28 1150.24 Q1429.47 1153.78 1429.47 1160.91 Q1429.47 1168.02 1431.28 1171.58 Q1433.11 1175.12 1436.72 1175.12 Q1440.35 1175.12 1442.16 1171.58 Q1443.99 1168.02 1443.99 1160.91 Q1443.99 1153.78 1442.16 1150.24 Q1440.35 1146.67 1436.72 1146.67 M1436.72 1142.97 Q1442.53 1142.97 1445.58 1147.58 Q1448.66 1152.16 1448.66 1160.91 Q1448.66 1169.64 1445.58 1174.24 Q1442.53 1178.83 1436.72 1178.83 Q1430.91 1178.83 1427.83 1174.24 Q1424.77 1169.64 1424.77 1160.91 Q1424.77 1152.16 1427.83 1147.58 Q1430.91 1142.97 1436.72 1142.97 Z\" fill=\"#000000\" fill-rule=\"evenodd\" fill-opacity=\"1\" /><path clip-path=\"url(#clip750)\" d=\"M 0 0 M1339.17 836.016 L1368.85 836.016 L1368.85 839.951 L1339.17 839.951 L1339.17 836.016 Z\" fill=\"#000000\" fill-rule=\"evenodd\" fill-opacity=\"1\" /><path clip-path=\"url(#clip750)\" d=\"M 0 0 M1374.73 848.909 L1382.37 848.909 L1382.37 822.544 L1374.06 824.21 L1374.06 819.951 L1382.32 818.284 L1387 818.284 L1387 848.909 L1394.63 848.909 L1394.63 852.844 L1374.73 852.844 L1374.73 848.909 Z\" fill=\"#000000\" fill-rule=\"evenodd\" fill-opacity=\"1\" /><path clip-path=\"url(#clip750)\" d=\"M 0 0 M1409.7 821.363 Q1406.09 821.363 1404.26 824.928 Q1402.46 828.47 1402.46 835.599 Q1402.46 842.706 1404.26 846.27 Q1406.09 849.812 1409.7 849.812 Q1413.34 849.812 1415.14 846.27 Q1416.97 842.706 1416.97 835.599 Q1416.97 828.47 1415.14 824.928 Q1413.34 821.363 1409.7 821.363 M1409.7 817.66 Q1415.51 817.66 1418.57 822.266 Q1421.65 826.849 1421.65 835.599 Q1421.65 844.326 1418.57 848.932 Q1415.51 853.516 1409.7 853.516 Q1403.89 853.516 1400.81 848.932 Q1397.76 844.326 1397.76 835.599 Q1397.76 826.849 1400.81 822.266 Q1403.89 817.66 1409.7 817.66 Z\" fill=\"#000000\" fill-rule=\"evenodd\" fill-opacity=\"1\" /><path clip-path=\"url(#clip750)\" d=\"M 0 0 M1436.72 821.363 Q1433.11 821.363 1431.28 824.928 Q1429.47 828.47 1429.47 835.599 Q1429.47 842.706 1431.28 846.27 Q1433.11 849.812 1436.72 849.812 Q1440.35 849.812 1442.16 846.27 Q1443.99 842.706 1443.99 835.599 Q1443.99 828.47 1442.16 824.928 Q1440.35 821.363 1436.72 821.363 M1436.72 817.66 Q1442.53 817.66 1445.58 822.266 Q1448.66 826.849 1448.66 835.599 Q1448.66 844.326 1445.58 848.932 Q1442.53 853.516 1436.72 853.516 Q1430.91 853.516 1427.83 848.932 Q1424.77 844.326 1424.77 835.599 Q1424.77 826.849 1427.83 822.266 Q1430.91 817.66 1436.72 817.66 Z\" fill=\"#000000\" fill-rule=\"evenodd\" fill-opacity=\"1\" /><path clip-path=\"url(#clip750)\" d=\"M 0 0 M1365.95 510.705 L1395.63 510.705 L1395.63 514.64 L1365.95 514.64 L1365.95 510.705 Z\" fill=\"#000000\" fill-rule=\"evenodd\" fill-opacity=\"1\" /><path clip-path=\"url(#clip750)\" d=\"M 0 0 M1400.75 492.973 L1419.1 492.973 L1419.1 496.908 L1405.03 496.908 L1405.03 505.381 Q1406.05 505.033 1407.06 504.871 Q1408.08 504.686 1409.1 504.686 Q1414.89 504.686 1418.27 507.857 Q1421.65 511.029 1421.65 516.445 Q1421.65 522.024 1418.18 525.126 Q1414.7 528.205 1408.38 528.205 Q1406.21 528.205 1403.94 527.834 Q1401.69 527.464 1399.29 526.723 L1399.29 522.024 Q1401.37 523.158 1403.59 523.714 Q1405.81 524.269 1408.29 524.269 Q1412.3 524.269 1414.63 522.163 Q1416.97 520.056 1416.97 516.445 Q1416.97 512.834 1414.63 510.728 Q1412.3 508.621 1408.29 508.621 Q1406.42 508.621 1404.54 509.038 Q1402.69 509.455 1400.75 510.334 L1400.75 492.973 Z\" fill=\"#000000\" fill-rule=\"evenodd\" fill-opacity=\"1\" /><path clip-path=\"url(#clip750)\" d=\"M 0 0 M1436.72 496.052 Q1433.11 496.052 1431.28 499.617 Q1429.47 503.158 1429.47 510.288 Q1429.47 517.394 1431.28 520.959 Q1433.11 524.501 1436.72 524.501 Q1440.35 524.501 1442.16 520.959 Q1443.99 517.394 1443.99 510.288 Q1443.99 503.158 1442.16 499.617 Q1440.35 496.052 1436.72 496.052 M1436.72 492.348 Q1442.53 492.348 1445.58 496.955 Q1448.66 501.538 1448.66 510.288 Q1448.66 519.015 1445.58 523.621 Q1442.53 528.205 1436.72 528.205 Q1430.91 528.205 1427.83 523.621 Q1424.77 519.015 1424.77 510.288 Q1424.77 501.538 1427.83 496.955 Q1430.91 492.348 1436.72 492.348 Z\" fill=\"#000000\" fill-rule=\"evenodd\" fill-opacity=\"1\" /><path clip-path=\"url(#clip750)\" d=\"M 0 0 M1436.72 170.741 Q1433.11 170.741 1431.28 174.305 Q1429.47 177.847 1429.47 184.977 Q1429.47 192.083 1431.28 195.648 Q1433.11 199.19 1436.72 199.19 Q1440.35 199.19 1442.16 195.648 Q1443.99 192.083 1443.99 184.977 Q1443.99 177.847 1442.16 174.305 Q1440.35 170.741 1436.72 170.741 M1436.72 167.037 Q1442.53 167.037 1445.58 171.643 Q1448.66 176.227 1448.66 184.977 Q1448.66 193.704 1445.58 198.31 Q1442.53 202.893 1436.72 202.893 Q1430.91 202.893 1427.83 198.31 Q1424.77 193.704 1424.77 184.977 Q1424.77 176.227 1427.83 171.643 Q1430.91 167.037 1436.72 167.037 Z\" fill=\"#000000\" fill-rule=\"evenodd\" fill-opacity=\"1\" /><path clip-path=\"url(#clip750)\" d=\"M 0 0 M1701.83 17.6457 Q1692.92 17.6457 1687.65 24.2892 Q1682.43 30.9327 1682.43 42.3968 Q1682.43 53.8203 1687.65 60.4638 Q1692.92 67.1073 1701.83 67.1073 Q1710.74 67.1073 1715.93 60.4638 Q1721.15 53.8203 1721.15 42.3968 Q1721.15 30.9327 1715.93 24.2892 Q1710.74 17.6457 1701.83 17.6457 M1701.83 11.0023 Q1714.55 11.0023 1722.16 19.5497 Q1729.78 28.0566 1729.78 42.3968 Q1729.78 56.6965 1722.16 65.2439 Q1714.55 73.7508 1701.83 73.7508 Q1689.07 73.7508 1681.41 65.2439 Q1673.8 56.737 1673.8 42.3968 Q1673.8 28.0566 1681.41 19.5497 Q1689.07 11.0023 1701.83 11.0023 Z\" fill=\"#000000\" fill-rule=\"evenodd\" fill-opacity=\"1\" /><path clip-path=\"url(#clip750)\" d=\"M 0 0 M1766.6 44.2197 Q1769.24 45.1109 1771.71 48.0275 Q1774.22 50.9442 1776.73 56.0483 L1785.03 72.576 L1776.24 72.576 L1768.51 57.061 Q1765.51 50.9847 1762.67 48.9997 Q1759.88 47.0148 1755.02 47.0148 L1746.11 47.0148 L1746.11 72.576 L1737.92 72.576 L1737.92 12.096 L1756.39 12.096 Q1766.77 12.096 1771.87 16.4305 Q1776.97 20.7649 1776.97 29.5149 Q1776.97 35.2267 1774.3 38.994 Q1771.67 42.7613 1766.6 44.2197 M1746.11 18.8205 L1746.11 40.2903 L1756.39 40.2903 Q1762.31 40.2903 1765.31 37.5762 Q1768.34 34.8216 1768.34 29.5149 Q1768.34 24.2082 1765.31 21.5346 Q1762.31 18.8205 1756.39 18.8205 L1746.11 18.8205 Z\" fill=\"#000000\" fill-rule=\"evenodd\" fill-opacity=\"1\" /><path clip-path=\"url(#clip750)\" d=\"M 0 0 M1834.42 63.9476 L1834.42 47.7034 L1821.05 47.7034 L1821.05 40.9789 L1842.52 40.9789 L1842.52 66.9452 Q1837.78 70.3075 1832.07 72.0494 Q1826.35 73.7508 1819.87 73.7508 Q1805.69 73.7508 1797.67 65.4869 Q1789.69 57.1826 1789.69 42.3968 Q1789.69 27.5705 1797.67 19.3066 Q1805.69 11.0023 1819.87 11.0023 Q1825.79 11.0023 1831.09 12.4606 Q1836.44 13.9189 1840.94 16.7545 L1840.94 25.464 Q1836.4 21.6156 1831.3 19.6712 Q1826.19 17.7268 1820.56 17.7268 Q1809.46 17.7268 1803.87 23.9246 Q1798.32 30.1225 1798.32 42.3968 Q1798.32 54.6305 1803.87 60.8284 Q1809.46 67.0263 1820.56 67.0263 Q1824.9 67.0263 1828.3 66.2971 Q1831.7 65.5274 1834.42 63.9476 Z\" fill=\"#000000\" fill-rule=\"evenodd\" fill-opacity=\"1\" /><path clip-path=\"url(#clip750)\" d=\"M 0 0 M1895.95 16.7545 L1895.95 25.383 Q1891.82 21.5346 1887.12 19.6307 Q1882.46 17.7268 1877.19 17.7268 Q1866.82 17.7268 1861.31 24.0867 Q1855.8 30.4061 1855.8 42.3968 Q1855.8 54.3469 1861.31 60.7069 Q1866.82 67.0263 1877.19 67.0263 Q1882.46 67.0263 1887.12 65.1223 Q1891.82 63.2184 1895.95 59.3701 L1895.95 67.9175 Q1891.65 70.8341 1886.83 72.2924 Q1882.05 73.7508 1876.71 73.7508 Q1862.97 73.7508 1855.07 65.3654 Q1847.18 56.9395 1847.18 42.3968 Q1847.18 27.8135 1855.07 19.4281 Q1862.97 11.0023 1876.71 11.0023 Q1882.13 11.0023 1886.91 12.4606 Q1891.74 13.8784 1895.95 16.7545 Z\" fill=\"#000000\" fill-rule=\"evenodd\" fill-opacity=\"1\" /><path clip-path=\"url(#clip750)\" d=\"M 0 0 M1930.14 27.2059 L1937.59 27.2059 L1937.59 72.576 L1930.14 72.576 L1930.14 27.2059 M1930.14 9.54393 L1937.59 9.54393 L1937.59 18.9825 L1930.14 18.9825 L1930.14 9.54393 Z\" fill=\"#000000\" fill-rule=\"evenodd\" fill-opacity=\"1\" /><path clip-path=\"url(#clip750)\" d=\"M 0 0 M1983.12 45.1919 L1983.12 72.576 L1975.67 72.576 L1975.67 45.4349 Q1975.67 38.994 1973.16 35.7938 Q1970.65 32.5936 1965.62 32.5936 Q1959.59 32.5936 1956.1 36.4419 Q1952.62 40.2903 1952.62 46.9338 L1952.62 72.576 L1945.13 72.576 L1945.13 27.2059 L1952.62 27.2059 L1952.62 34.2544 Q1955.29 30.163 1958.9 28.1376 Q1962.55 26.1121 1967.28 26.1121 Q1975.1 26.1121 1979.11 30.9732 Q1983.12 35.7938 1983.12 45.1919 Z\" fill=\"#000000\" fill-rule=\"evenodd\" fill-opacity=\"1\" /><path clip-path=\"url(#clip750)\" d=\"M 0 0 M1998.31 14.324 L1998.31 27.2059 L2013.67 27.2059 L2013.67 32.9987 L1998.31 32.9987 L1998.31 57.6282 Q1998.31 63.1779 1999.81 64.7578 Q2001.35 66.3376 2006.01 66.3376 L2013.67 66.3376 L2013.67 72.576 L2006.01 72.576 Q1997.38 72.576 1994.1 69.3758 Q1990.82 66.1351 1990.82 57.6282 L1990.82 32.9987 L1985.35 32.9987 L1985.35 27.2059 L1990.82 27.2059 L1990.82 14.324 L1998.31 14.324 Z\" fill=\"#000000\" fill-rule=\"evenodd\" fill-opacity=\"1\" /><path clip-path=\"url(#clip750)\" d=\"M 0 0 M2060.29 48.0275 L2060.29 51.6733 L2026.02 51.6733 Q2026.51 59.3701 2030.64 63.421 Q2034.81 67.4314 2042.23 67.4314 Q2046.52 67.4314 2050.53 66.3781 Q2054.58 65.3249 2058.55 63.2184 L2058.55 70.267 Q2054.54 71.9684 2050.33 72.8596 Q2046.12 73.7508 2041.78 73.7508 Q2030.92 73.7508 2024.56 67.4314 Q2018.25 61.1119 2018.25 50.3365 Q2018.25 39.1965 2024.24 32.6746 Q2030.28 26.1121 2040.48 26.1121 Q2049.64 26.1121 2054.95 32.0264 Q2060.29 37.9003 2060.29 48.0275 M2052.84 45.84 Q2052.76 39.7232 2049.4 36.0774 Q2046.07 32.4315 2040.57 32.4315 Q2034.33 32.4315 2030.56 35.9558 Q2026.83 39.4801 2026.27 45.8805 L2052.84 45.84 Z\" fill=\"#000000\" fill-rule=\"evenodd\" fill-opacity=\"1\" /><path clip-path=\"url(#clip750)\" d=\"M 0 0 M2094.4 34.1734 Q2093.15 33.4443 2091.65 33.1202 Q2090.19 32.7556 2088.41 32.7556 Q2082.09 32.7556 2078.68 36.8875 Q2075.32 40.9789 2075.32 48.6757 L2075.32 72.576 L2067.83 72.576 L2067.83 27.2059 L2075.32 27.2059 L2075.32 34.2544 Q2077.67 30.1225 2081.44 28.1376 Q2085.21 26.1121 2090.59 26.1121 Q2091.36 26.1121 2092.3 26.2337 Q2093.23 26.3147 2094.36 26.5172 L2094.4 34.1734 Z\" fill=\"#000000\" fill-rule=\"evenodd\" fill-opacity=\"1\" /><path clip-path=\"url(#clip750)\" d=\"M 0 0 M2109.43 65.7705 L2109.43 89.8329 L2101.94 89.8329 L2101.94 27.2059 L2109.43 27.2059 L2109.43 34.0924 Q2111.78 30.0415 2115.35 28.0971 Q2118.95 26.1121 2123.93 26.1121 Q2132.2 26.1121 2137.34 32.6746 Q2142.53 39.2371 2142.53 49.9314 Q2142.53 60.6258 2137.34 67.1883 Q2132.2 73.7508 2123.93 73.7508 Q2118.95 73.7508 2115.35 71.8063 Q2111.78 69.8214 2109.43 65.7705 M2134.79 49.9314 Q2134.79 41.7081 2131.39 37.0496 Q2128.02 32.3505 2122.11 32.3505 Q2116.2 32.3505 2112.79 37.0496 Q2109.43 41.7081 2109.43 49.9314 Q2109.43 58.1548 2112.79 62.8538 Q2116.2 67.5124 2122.11 67.5124 Q2128.02 67.5124 2131.39 62.8538 Q2134.79 58.1548 2134.79 49.9314 Z\" fill=\"#000000\" fill-rule=\"evenodd\" fill-opacity=\"1\" /><path clip-path=\"url(#clip750)\" d=\"M 0 0 M2167.93 32.4315 Q2161.93 32.4315 2158.45 37.1306 Q2154.96 41.7891 2154.96 49.9314 Q2154.96 58.0738 2158.41 62.7728 Q2161.89 67.4314 2167.93 67.4314 Q2173.88 67.4314 2177.36 62.7323 Q2180.85 58.0333 2180.85 49.9314 Q2180.85 41.8701 2177.36 37.1711 Q2173.88 32.4315 2167.93 32.4315 M2167.93 26.1121 Q2177.65 26.1121 2183.2 32.4315 Q2188.75 38.7509 2188.75 49.9314 Q2188.75 61.0714 2183.2 67.4314 Q2177.65 73.7508 2167.93 73.7508 Q2158.16 73.7508 2152.61 67.4314 Q2147.1 61.0714 2147.1 49.9314 Q2147.1 38.7509 2152.61 32.4315 Q2158.16 26.1121 2167.93 26.1121 Z\" fill=\"#000000\" fill-rule=\"evenodd\" fill-opacity=\"1\" /><path clip-path=\"url(#clip750)\" d=\"M 0 0 M2196.57 9.54393 L2204.02 9.54393 L2204.02 72.576 L2196.57 72.576 L2196.57 9.54393 Z\" fill=\"#000000\" fill-rule=\"evenodd\" fill-opacity=\"1\" /><path clip-path=\"url(#clip750)\" d=\"M 0 0 M2232.46 49.7694 Q2223.42 49.7694 2219.94 51.8354 Q2216.46 53.9013 2216.46 58.8839 Q2216.46 62.8538 2219.05 65.2034 Q2221.68 67.5124 2226.18 67.5124 Q2232.38 67.5124 2236.1 63.1374 Q2239.87 58.7219 2239.87 51.4303 L2239.87 49.7694 L2232.46 49.7694 M2247.32 46.6907 L2247.32 72.576 L2239.87 72.576 L2239.87 65.6895 Q2237.32 69.8214 2233.51 71.8063 Q2229.7 73.7508 2224.19 73.7508 Q2217.23 73.7508 2213.09 69.8619 Q2209 65.9325 2209 59.3701 Q2209 51.7138 2214.11 47.825 Q2219.25 43.9361 2229.42 43.9361 L2239.87 43.9361 L2239.87 43.2069 Q2239.87 38.0623 2236.47 35.2672 Q2233.11 32.4315 2226.99 32.4315 Q2223.1 32.4315 2219.41 33.3632 Q2215.73 34.295 2212.32 36.1584 L2212.32 29.2718 Q2216.42 27.692 2220.26 26.9223 Q2224.11 26.1121 2227.76 26.1121 Q2237.6 26.1121 2242.46 31.2163 Q2247.32 36.3204 2247.32 46.6907 Z\" fill=\"#000000\" fill-rule=\"evenodd\" fill-opacity=\"1\" /><path clip-path=\"url(#clip750)\" d=\"M 0 0 M2262.51 14.324 L2262.51 27.2059 L2277.87 27.2059 L2277.87 32.9987 L2262.51 32.9987 L2262.51 57.6282 Q2262.51 63.1779 2264.01 64.7578 Q2265.55 66.3376 2270.21 66.3376 L2277.87 66.3376 L2277.87 72.576 L2270.21 72.576 Q2261.58 72.576 2258.3 69.3758 Q2255.02 66.1351 2255.02 57.6282 L2255.02 32.9987 L2249.55 32.9987 L2249.55 27.2059 L2255.02 27.2059 L2255.02 14.324 L2262.51 14.324 Z\" fill=\"#000000\" fill-rule=\"evenodd\" fill-opacity=\"1\" /><path clip-path=\"url(#clip750)\" d=\"M 0 0 M2324.49 48.0275 L2324.49 51.6733 L2290.22 51.6733 Q2290.71 59.3701 2294.84 63.421 Q2299.01 67.4314 2306.43 67.4314 Q2310.72 67.4314 2314.73 66.3781 Q2318.78 65.3249 2322.75 63.2184 L2322.75 70.267 Q2318.74 71.9684 2314.53 72.8596 Q2310.32 73.7508 2305.98 73.7508 Q2295.12 73.7508 2288.76 67.4314 Q2282.45 61.1119 2282.45 50.3365 Q2282.45 39.1965 2288.44 32.6746 Q2294.48 26.1121 2304.68 26.1121 Q2313.84 26.1121 2319.15 32.0264 Q2324.49 37.9003 2324.49 48.0275 M2317.04 45.84 Q2316.96 39.7232 2313.6 36.0774 Q2310.27 32.4315 2304.77 32.4315 Q2298.53 32.4315 2294.76 35.9558 Q2291.03 39.4801 2290.47 45.8805 L2317.04 45.84 Z\" fill=\"#000000\" fill-rule=\"evenodd\" fill-opacity=\"1\" /><path clip-path=\"url(#clip750)\" d=\"M 0 0 M2362.17 34.0924 L2362.17 9.54393 L2369.62 9.54393 L2369.62 72.576 L2362.17 72.576 L2362.17 65.7705 Q2359.82 69.8214 2356.21 71.8063 Q2352.65 73.7508 2347.62 73.7508 Q2339.4 73.7508 2334.22 67.1883 Q2329.07 60.6258 2329.07 49.9314 Q2329.07 39.2371 2334.22 32.6746 Q2339.4 26.1121 2347.62 26.1121 Q2352.65 26.1121 2356.21 28.0971 Q2359.82 30.0415 2362.17 34.0924 M2336.77 49.9314 Q2336.77 58.1548 2340.13 62.8538 Q2343.53 67.5124 2349.45 67.5124 Q2355.36 67.5124 2358.76 62.8538 Q2362.17 58.1548 2362.17 49.9314 Q2362.17 41.7081 2358.76 37.0496 Q2355.36 32.3505 2349.45 32.3505 Q2343.53 32.3505 2340.13 37.0496 Q2336.77 41.7081 2336.77 49.9314 Z\" fill=\"#000000\" fill-rule=\"evenodd\" fill-opacity=\"1\" /><polyline clip-path=\"url(#clip753)\" style=\"stroke:#009af9; stroke-width:8; stroke-opacity:1; fill:none\" points=\"\n",
       "  2188.7,184.942 2188.7,191.448 2188.7,197.954 2188.7,204.461 2188.7,210.967 2188.7,217.473 2188.7,223.979 2188.7,230.486 2188.7,236.992 2188.7,243.498 \n",
       "  2188.7,250.004 2188.7,256.51 2188.7,263.017 2188.7,269.523 2188.7,276.029 2188.7,282.535 2188.7,289.042 2188.7,295.548 2188.7,302.054 2188.7,308.56 \n",
       "  2188.7,315.067 2188.7,321.573 2188.7,328.079 2188.7,334.585 2188.7,341.091 2188.7,347.598 2052.38,354.104 2052.38,360.61 2052.38,367.116 2052.38,373.623 \n",
       "  2052.38,380.129 2052.38,386.635 2052.38,393.141 2052.38,399.647 2052.38,406.154 2052.38,412.66 2052.38,419.166 2052.38,425.672 2052.38,432.179 2052.38,438.685 \n",
       "  2052.38,445.191 2052.38,451.697 2052.38,458.203 2052.38,464.71 2052.38,471.216 2052.38,477.722 2052.38,484.228 2052.38,490.735 2052.38,497.241 2052.38,503.747 \n",
       "  1922.87,510.253 1922.87,516.759 1922.87,523.266 1922.87,529.772 1922.87,536.278 1922.87,542.784 1922.87,549.291 1922.87,555.797 1922.87,562.303 1922.87,568.809 \n",
       "  1922.87,575.316 1922.87,581.822 1922.87,588.328 1922.87,594.834 1922.87,601.34 1922.87,607.847 1922.87,614.353 1922.87,620.859 1922.87,627.365 1922.87,633.872 \n",
       "  1922.87,640.378 1922.87,646.884 1922.87,653.39 1922.87,659.896 1922.87,666.403 1922.87,672.909 1922.87,679.415 1922.87,685.921 1922.87,692.428 1922.87,698.934 \n",
       "  1922.87,705.44 1922.87,711.946 1922.87,718.452 1922.87,724.959 1991.04,731.465 1991.04,737.971 1991.04,744.477 1991.04,750.984 1991.04,757.49 1991.04,763.996 \n",
       "  1991.04,770.502 1991.04,777.008 1991.04,783.515 1991.04,790.021 1991.04,796.527 1991.04,803.033 1991.04,809.54 1991.04,816.046 1991.04,822.552 1991.04,829.058 \n",
       "  1991.04,835.564 1991.04,842.071 1991.04,848.577 1991.04,855.083 1991.04,861.589 1991.04,868.096 1991.04,874.602 1991.04,881.108 1991.04,887.614 1991.04,894.121 \n",
       "  1991.04,900.627 1991.04,907.133 1991.04,913.639 1991.04,920.145 1991.04,926.652 1991.04,933.158 1991.04,939.664 1834.26,946.17 1834.26,952.677 1834.26,959.183 \n",
       "  1834.26,965.689 1834.26,972.195 1834.26,978.701 1834.26,985.208 1834.26,991.714 1834.26,998.22 1834.26,1004.73 1834.26,1011.23 1834.26,1017.74 1834.26,1024.25 \n",
       "  1834.26,1030.75 1834.26,1037.26 1834.26,1043.76 1834.26,1050.27 1834.26,1056.78 1834.26,1063.28 1834.26,1069.79 1834.26,1076.29 1834.26,1082.8 1834.26,1089.31 \n",
       "  1834.26,1095.81 1834.26,1102.32 1834.26,1108.83 1834.26,1115.33 1834.26,1121.84 1834.26,1128.34 1834.26,1134.85 1834.26,1141.36 1834.26,1147.86 1834.26,1154.37 \n",
       "  1834.26,1160.88 1834.26,1167.38 1834.26,1173.89 1834.26,1180.39 1834.26,1186.9 1834.26,1193.41 1834.26,1199.91 1834.26,1206.42 1834.26,1212.93 1834.26,1219.43 \n",
       "  1834.26,1225.94 \n",
       "  \"/>\n",
       "<path clip-path=\"url(#clip750)\" d=\"\n",
       "M190.662 2657.17 L1252.76 2657.17 L1252.76 1553.71 L190.662 1553.71  Z\n",
       "  \" fill=\"#ffffff\" fill-rule=\"evenodd\" fill-opacity=\"1\"/>\n",
       "<defs>\n",
       "  <clipPath id=\"clip754\">\n",
       "    <rect x=\"190\" y=\"1553\" width=\"1063\" height=\"1104\"/>\n",
       "  </clipPath>\n",
       "</defs>\n",
       "<polyline clip-path=\"url(#clip754)\" style=\"stroke:#000000; stroke-width:2; stroke-opacity:0.1; fill:none\" points=\"\n",
       "  220.721,2657.17 220.721,1553.71 \n",
       "  \"/>\n",
       "<polyline clip-path=\"url(#clip754)\" style=\"stroke:#000000; stroke-width:2; stroke-opacity:0.1; fill:none\" points=\"\n",
       "  424.374,2657.17 424.374,1553.71 \n",
       "  \"/>\n",
       "<polyline clip-path=\"url(#clip754)\" style=\"stroke:#000000; stroke-width:2; stroke-opacity:0.1; fill:none\" points=\"\n",
       "  628.028,2657.17 628.028,1553.71 \n",
       "  \"/>\n",
       "<polyline clip-path=\"url(#clip754)\" style=\"stroke:#000000; stroke-width:2; stroke-opacity:0.1; fill:none\" points=\"\n",
       "  831.682,2657.17 831.682,1553.71 \n",
       "  \"/>\n",
       "<polyline clip-path=\"url(#clip754)\" style=\"stroke:#000000; stroke-width:2; stroke-opacity:0.1; fill:none\" points=\"\n",
       "  1035.34,2657.17 1035.34,1553.71 \n",
       "  \"/>\n",
       "<polyline clip-path=\"url(#clip754)\" style=\"stroke:#000000; stroke-width:2; stroke-opacity:0.1; fill:none\" points=\"\n",
       "  1238.99,2657.17 1238.99,1553.71 \n",
       "  \"/>\n",
       "<polyline clip-path=\"url(#clip750)\" style=\"stroke:#000000; stroke-width:4; stroke-opacity:1; fill:none\" points=\"\n",
       "  190.662,2657.17 1252.76,2657.17 \n",
       "  \"/>\n",
       "<polyline clip-path=\"url(#clip750)\" style=\"stroke:#000000; stroke-width:4; stroke-opacity:1; fill:none\" points=\"\n",
       "  220.721,2657.17 220.721,2643.93 \n",
       "  \"/>\n",
       "<polyline clip-path=\"url(#clip750)\" style=\"stroke:#000000; stroke-width:4; stroke-opacity:1; fill:none\" points=\"\n",
       "  424.374,2657.17 424.374,2643.93 \n",
       "  \"/>\n",
       "<polyline clip-path=\"url(#clip750)\" style=\"stroke:#000000; stroke-width:4; stroke-opacity:1; fill:none\" points=\"\n",
       "  628.028,2657.17 628.028,2643.93 \n",
       "  \"/>\n",
       "<polyline clip-path=\"url(#clip750)\" style=\"stroke:#000000; stroke-width:4; stroke-opacity:1; fill:none\" points=\"\n",
       "  831.682,2657.17 831.682,2643.93 \n",
       "  \"/>\n",
       "<polyline clip-path=\"url(#clip750)\" style=\"stroke:#000000; stroke-width:4; stroke-opacity:1; fill:none\" points=\"\n",
       "  1035.34,2657.17 1035.34,2643.93 \n",
       "  \"/>\n",
       "<polyline clip-path=\"url(#clip750)\" style=\"stroke:#000000; stroke-width:4; stroke-opacity:1; fill:none\" points=\"\n",
       "  1238.99,2657.17 1238.99,2643.93 \n",
       "  \"/>\n",
       "<path clip-path=\"url(#clip750)\" d=\"M 0 0 M202.237 2689.56 Q198.626 2689.56 196.797 2693.12 Q194.992 2696.67 194.992 2703.79 Q194.992 2710.9 196.797 2714.47 Q198.626 2718.01 202.237 2718.01 Q205.871 2718.01 207.677 2714.47 Q209.506 2710.9 209.506 2703.79 Q209.506 2696.67 207.677 2693.12 Q205.871 2689.56 202.237 2689.56 M202.237 2685.85 Q208.047 2685.85 211.103 2690.46 Q214.182 2695.04 214.182 2703.79 Q214.182 2712.52 211.103 2717.13 Q208.047 2721.71 202.237 2721.71 Q196.427 2721.71 193.348 2717.13 Q190.293 2712.52 190.293 2703.79 Q190.293 2695.04 193.348 2690.46 Q196.427 2685.85 202.237 2685.85 Z\" fill=\"#000000\" fill-rule=\"evenodd\" fill-opacity=\"1\" /><path clip-path=\"url(#clip750)\" d=\"M 0 0 M219.251 2715.16 L224.135 2715.16 L224.135 2721.04 L219.251 2721.04 L219.251 2715.16 Z\" fill=\"#000000\" fill-rule=\"evenodd\" fill-opacity=\"1\" /><path clip-path=\"url(#clip750)\" d=\"M 0 0 M239.205 2689.56 Q235.593 2689.56 233.765 2693.12 Q231.959 2696.67 231.959 2703.79 Q231.959 2710.9 233.765 2714.47 Q235.593 2718.01 239.205 2718.01 Q242.839 2718.01 244.644 2714.47 Q246.473 2710.9 246.473 2703.79 Q246.473 2696.67 244.644 2693.12 Q242.839 2689.56 239.205 2689.56 M239.205 2685.85 Q245.015 2685.85 248.07 2690.46 Q251.149 2695.04 251.149 2703.79 Q251.149 2712.52 248.07 2717.13 Q245.015 2721.71 239.205 2721.71 Q233.394 2721.71 230.316 2717.13 Q227.26 2712.52 227.26 2703.79 Q227.26 2695.04 230.316 2690.46 Q233.394 2685.85 239.205 2685.85 Z\" fill=\"#000000\" fill-rule=\"evenodd\" fill-opacity=\"1\" /><path clip-path=\"url(#clip750)\" d=\"M 0 0 M406.388 2689.56 Q402.777 2689.56 400.949 2693.12 Q399.143 2696.67 399.143 2703.79 Q399.143 2710.9 400.949 2714.47 Q402.777 2718.01 406.388 2718.01 Q410.023 2718.01 411.828 2714.47 Q413.657 2710.9 413.657 2703.79 Q413.657 2696.67 411.828 2693.12 Q410.023 2689.56 406.388 2689.56 M406.388 2685.85 Q412.199 2685.85 415.254 2690.46 Q418.333 2695.04 418.333 2703.79 Q418.333 2712.52 415.254 2717.13 Q412.199 2721.71 406.388 2721.71 Q400.578 2721.71 397.5 2717.13 Q394.444 2712.52 394.444 2703.79 Q394.444 2695.04 397.5 2690.46 Q400.578 2685.85 406.388 2685.85 Z\" fill=\"#000000\" fill-rule=\"evenodd\" fill-opacity=\"1\" /><path clip-path=\"url(#clip750)\" d=\"M 0 0 M423.402 2715.16 L428.286 2715.16 L428.286 2721.04 L423.402 2721.04 L423.402 2715.16 Z\" fill=\"#000000\" fill-rule=\"evenodd\" fill-opacity=\"1\" /><path clip-path=\"url(#clip750)\" d=\"M 0 0 M433.402 2686.48 L451.759 2686.48 L451.759 2690.42 L437.685 2690.42 L437.685 2698.89 Q438.703 2698.54 439.722 2698.38 Q440.74 2698.19 441.759 2698.19 Q447.546 2698.19 450.925 2701.36 Q454.305 2704.54 454.305 2709.95 Q454.305 2715.53 450.833 2718.63 Q447.36 2721.71 441.041 2721.71 Q438.865 2721.71 436.597 2721.34 Q434.351 2720.97 431.944 2720.23 L431.944 2715.53 Q434.027 2716.66 436.249 2717.22 Q438.472 2717.78 440.948 2717.78 Q444.953 2717.78 447.291 2715.67 Q449.629 2713.56 449.629 2709.95 Q449.629 2706.34 447.291 2704.23 Q444.953 2702.13 440.948 2702.13 Q439.073 2702.13 437.198 2702.54 Q435.347 2702.96 433.402 2703.84 L433.402 2686.48 Z\" fill=\"#000000\" fill-rule=\"evenodd\" fill-opacity=\"1\" /><path clip-path=\"url(#clip750)\" d=\"M 0 0 M599.926 2717.1 L607.565 2717.1 L607.565 2690.74 L599.255 2692.41 L599.255 2688.15 L607.519 2686.48 L612.195 2686.48 L612.195 2717.1 L619.834 2717.1 L619.834 2721.04 L599.926 2721.04 L599.926 2717.1 Z\" fill=\"#000000\" fill-rule=\"evenodd\" fill-opacity=\"1\" /><path clip-path=\"url(#clip750)\" d=\"M 0 0 M624.903 2715.16 L629.787 2715.16 L629.787 2721.04 L624.903 2721.04 L624.903 2715.16 Z\" fill=\"#000000\" fill-rule=\"evenodd\" fill-opacity=\"1\" /><path clip-path=\"url(#clip750)\" d=\"M 0 0 M644.857 2689.56 Q641.246 2689.56 639.417 2693.12 Q637.611 2696.67 637.611 2703.79 Q637.611 2710.9 639.417 2714.47 Q641.246 2718.01 644.857 2718.01 Q648.491 2718.01 650.296 2714.47 Q652.125 2710.9 652.125 2703.79 Q652.125 2696.67 650.296 2693.12 Q648.491 2689.56 644.857 2689.56 M644.857 2685.85 Q650.667 2685.85 653.722 2690.46 Q656.801 2695.04 656.801 2703.79 Q656.801 2712.52 653.722 2717.13 Q650.667 2721.71 644.857 2721.71 Q639.047 2721.71 635.968 2717.13 Q632.912 2712.52 632.912 2703.79 Q632.912 2695.04 635.968 2690.46 Q639.047 2685.85 644.857 2685.85 Z\" fill=\"#000000\" fill-rule=\"evenodd\" fill-opacity=\"1\" /><path clip-path=\"url(#clip750)\" d=\"M 0 0 M804.078 2717.1 L811.717 2717.1 L811.717 2690.74 L803.406 2692.41 L803.406 2688.15 L811.67 2686.48 L816.346 2686.48 L816.346 2717.1 L823.985 2717.1 L823.985 2721.04 L804.078 2721.04 L804.078 2717.1 Z\" fill=\"#000000\" fill-rule=\"evenodd\" fill-opacity=\"1\" /><path clip-path=\"url(#clip750)\" d=\"M 0 0 M829.054 2715.16 L833.939 2715.16 L833.939 2721.04 L829.054 2721.04 L829.054 2715.16 Z\" fill=\"#000000\" fill-rule=\"evenodd\" fill-opacity=\"1\" /><path clip-path=\"url(#clip750)\" d=\"M 0 0 M839.054 2686.48 L857.411 2686.48 L857.411 2690.42 L843.337 2690.42 L843.337 2698.89 Q844.355 2698.54 845.374 2698.38 Q846.392 2698.19 847.411 2698.19 Q853.198 2698.19 856.577 2701.36 Q859.957 2704.54 859.957 2709.95 Q859.957 2715.53 856.485 2718.63 Q853.013 2721.71 846.693 2721.71 Q844.517 2721.71 842.249 2721.34 Q840.003 2720.97 837.596 2720.23 L837.596 2715.53 Q839.679 2716.66 841.902 2717.22 Q844.124 2717.78 846.601 2717.78 Q850.605 2717.78 852.943 2715.67 Q855.281 2713.56 855.281 2709.95 Q855.281 2706.34 852.943 2704.23 Q850.605 2702.13 846.601 2702.13 Q844.726 2702.13 842.851 2702.54 Q840.999 2702.96 839.054 2703.84 L839.054 2686.48 Z\" fill=\"#000000\" fill-rule=\"evenodd\" fill-opacity=\"1\" /><path clip-path=\"url(#clip750)\" d=\"M 0 0 M1011.5 2717.1 L1027.82 2717.1 L1027.82 2721.04 L1005.88 2721.04 L1005.88 2717.1 Q1008.54 2714.35 1013.12 2709.72 Q1017.73 2705.07 1018.91 2703.73 Q1021.16 2701.2 1022.04 2699.47 Q1022.94 2697.71 1022.94 2696.02 Q1022.94 2693.26 1021 2691.53 Q1019.07 2689.79 1015.97 2689.79 Q1013.77 2689.79 1011.32 2690.55 Q1008.89 2691.32 1006.11 2692.87 L1006.11 2688.15 Q1008.93 2687.01 1011.39 2686.43 Q1013.84 2685.85 1015.88 2685.85 Q1021.25 2685.85 1024.44 2688.54 Q1027.64 2691.23 1027.64 2695.72 Q1027.64 2697.85 1026.83 2699.77 Q1026.04 2701.66 1023.93 2704.26 Q1023.36 2704.93 1020.25 2708.15 Q1017.15 2711.34 1011.5 2717.1 Z\" fill=\"#000000\" fill-rule=\"evenodd\" fill-opacity=\"1\" /><path clip-path=\"url(#clip750)\" d=\"M 0 0 M1032.89 2715.16 L1037.78 2715.16 L1037.78 2721.04 L1032.89 2721.04 L1032.89 2715.16 Z\" fill=\"#000000\" fill-rule=\"evenodd\" fill-opacity=\"1\" /><path clip-path=\"url(#clip750)\" d=\"M 0 0 M1052.85 2689.56 Q1049.24 2689.56 1047.41 2693.12 Q1045.6 2696.67 1045.6 2703.79 Q1045.6 2710.9 1047.41 2714.47 Q1049.24 2718.01 1052.85 2718.01 Q1056.48 2718.01 1058.29 2714.47 Q1060.12 2710.9 1060.12 2703.79 Q1060.12 2696.67 1058.29 2693.12 Q1056.48 2689.56 1052.85 2689.56 M1052.85 2685.85 Q1058.66 2685.85 1061.71 2690.46 Q1064.79 2695.04 1064.79 2703.79 Q1064.79 2712.52 1061.71 2717.13 Q1058.66 2721.71 1052.85 2721.71 Q1047.04 2721.71 1043.96 2717.13 Q1040.9 2712.52 1040.9 2703.79 Q1040.9 2695.04 1043.96 2690.46 Q1047.04 2685.85 1052.85 2685.85 Z\" fill=\"#000000\" fill-rule=\"evenodd\" fill-opacity=\"1\" /><path clip-path=\"url(#clip750)\" d=\"M 0 0 M1215.66 2717.1 L1231.98 2717.1 L1231.98 2721.04 L1210.03 2721.04 L1210.03 2717.1 Q1212.69 2714.35 1217.28 2709.72 Q1221.88 2705.07 1223.06 2703.73 Q1225.31 2701.2 1226.19 2699.47 Q1227.09 2697.71 1227.09 2696.02 Q1227.09 2693.26 1225.15 2691.53 Q1223.23 2689.79 1220.12 2689.79 Q1217.92 2689.79 1215.47 2690.55 Q1213.04 2691.32 1210.26 2692.87 L1210.26 2688.15 Q1213.09 2687.01 1215.54 2686.43 Q1217.99 2685.85 1220.03 2685.85 Q1225.4 2685.85 1228.6 2688.54 Q1231.79 2691.23 1231.79 2695.72 Q1231.79 2697.85 1230.98 2699.77 Q1230.19 2701.66 1228.09 2704.26 Q1227.51 2704.93 1224.41 2708.15 Q1221.3 2711.34 1215.66 2717.1 Z\" fill=\"#000000\" fill-rule=\"evenodd\" fill-opacity=\"1\" /><path clip-path=\"url(#clip750)\" d=\"M 0 0 M1237.04 2715.16 L1241.93 2715.16 L1241.93 2721.04 L1237.04 2721.04 L1237.04 2715.16 Z\" fill=\"#000000\" fill-rule=\"evenodd\" fill-opacity=\"1\" /><path clip-path=\"url(#clip750)\" d=\"M 0 0 M1247.04 2686.48 L1265.4 2686.48 L1265.4 2690.42 L1251.33 2690.42 L1251.33 2698.89 Q1252.35 2698.54 1253.36 2698.38 Q1254.38 2698.19 1255.4 2698.19 Q1261.19 2698.19 1264.57 2701.36 Q1267.95 2704.54 1267.95 2709.95 Q1267.95 2715.53 1264.47 2718.63 Q1261 2721.71 1254.68 2721.71 Q1252.51 2721.71 1250.24 2721.34 Q1247.99 2720.97 1245.59 2720.23 L1245.59 2715.53 Q1247.67 2716.66 1249.89 2717.22 Q1252.11 2717.78 1254.59 2717.78 Q1258.6 2717.78 1260.93 2715.67 Q1263.27 2713.56 1263.27 2709.95 Q1263.27 2706.34 1260.93 2704.23 Q1258.6 2702.13 1254.59 2702.13 Q1252.72 2702.13 1250.84 2702.54 Q1248.99 2702.96 1247.04 2703.84 L1247.04 2686.48 Z\" fill=\"#000000\" fill-rule=\"evenodd\" fill-opacity=\"1\" /><polyline clip-path=\"url(#clip754)\" style=\"stroke:#000000; stroke-width:2; stroke-opacity:0.1; fill:none\" points=\"\n",
       "  190.662,2560.88 1252.76,2560.88 \n",
       "  \"/>\n",
       "<polyline clip-path=\"url(#clip754)\" style=\"stroke:#000000; stroke-width:2; stroke-opacity:0.1; fill:none\" points=\"\n",
       "  190.662,2235.56 1252.76,2235.56 \n",
       "  \"/>\n",
       "<polyline clip-path=\"url(#clip754)\" style=\"stroke:#000000; stroke-width:2; stroke-opacity:0.1; fill:none\" points=\"\n",
       "  190.662,1910.25 1252.76,1910.25 \n",
       "  \"/>\n",
       "<polyline clip-path=\"url(#clip754)\" style=\"stroke:#000000; stroke-width:2; stroke-opacity:0.1; fill:none\" points=\"\n",
       "  190.662,1584.94 1252.76,1584.94 \n",
       "  \"/>\n",
       "<polyline clip-path=\"url(#clip750)\" style=\"stroke:#000000; stroke-width:4; stroke-opacity:1; fill:none\" points=\"\n",
       "  190.662,2657.17 190.662,1553.71 \n",
       "  \"/>\n",
       "<polyline clip-path=\"url(#clip750)\" style=\"stroke:#000000; stroke-width:4; stroke-opacity:1; fill:none\" points=\"\n",
       "  190.662,2560.88 203.407,2560.88 \n",
       "  \"/>\n",
       "<polyline clip-path=\"url(#clip750)\" style=\"stroke:#000000; stroke-width:4; stroke-opacity:1; fill:none\" points=\"\n",
       "  190.662,2235.56 203.407,2235.56 \n",
       "  \"/>\n",
       "<polyline clip-path=\"url(#clip750)\" style=\"stroke:#000000; stroke-width:4; stroke-opacity:1; fill:none\" points=\"\n",
       "  190.662,1910.25 203.407,1910.25 \n",
       "  \"/>\n",
       "<polyline clip-path=\"url(#clip750)\" style=\"stroke:#000000; stroke-width:4; stroke-opacity:1; fill:none\" points=\"\n",
       "  190.662,1584.94 203.407,1584.94 \n",
       "  \"/>\n",
       "<path clip-path=\"url(#clip750)\" d=\"M 0 0 M40.1668 2561.33 L69.8425 2561.33 L69.8425 2565.26 L40.1668 2565.26 L40.1668 2561.33 Z\" fill=\"#000000\" fill-rule=\"evenodd\" fill-opacity=\"1\" /><path clip-path=\"url(#clip750)\" d=\"M 0 0 M75.7221 2574.22 L83.361 2574.22 L83.361 2547.85 L75.0508 2549.52 L75.0508 2545.26 L83.3147 2543.6 L87.9906 2543.6 L87.9906 2574.22 L95.6294 2574.22 L95.6294 2578.16 L75.7221 2578.16 L75.7221 2574.22 Z\" fill=\"#000000\" fill-rule=\"evenodd\" fill-opacity=\"1\" /><path clip-path=\"url(#clip750)\" d=\"M 0 0 M100.745 2543.6 L119.102 2543.6 L119.102 2547.53 L105.028 2547.53 L105.028 2556 Q106.046 2555.66 107.065 2555.49 Q108.083 2555.31 109.102 2555.31 Q114.889 2555.31 118.268 2558.48 Q121.648 2561.65 121.648 2567.07 Q121.648 2572.65 118.176 2575.75 Q114.703 2578.83 108.384 2578.83 Q106.208 2578.83 103.94 2578.46 Q101.694 2578.09 99.2868 2577.35 L99.2868 2572.65 Q101.37 2573.78 103.592 2574.34 Q105.815 2574.89 108.291 2574.89 Q112.296 2574.89 114.634 2572.79 Q116.972 2570.68 116.972 2567.07 Q116.972 2563.46 114.634 2561.35 Q112.296 2559.24 108.291 2559.24 Q106.416 2559.24 104.541 2559.66 Q102.69 2560.08 100.745 2560.96 L100.745 2543.6 Z\" fill=\"#000000\" fill-rule=\"evenodd\" fill-opacity=\"1\" /><path clip-path=\"url(#clip750)\" d=\"M 0 0 M136.717 2546.67 Q133.106 2546.67 131.277 2550.24 Q129.472 2553.78 129.472 2560.91 Q129.472 2568.02 131.277 2571.58 Q133.106 2575.12 136.717 2575.12 Q140.351 2575.12 142.157 2571.58 Q143.986 2568.02 143.986 2560.91 Q143.986 2553.78 142.157 2550.24 Q140.351 2546.67 136.717 2546.67 M136.717 2542.97 Q142.527 2542.97 145.583 2547.58 Q148.662 2552.16 148.662 2560.91 Q148.662 2569.64 145.583 2574.24 Q142.527 2578.83 136.717 2578.83 Q130.907 2578.83 127.828 2574.24 Q124.773 2569.64 124.773 2560.91 Q124.773 2552.16 127.828 2547.58 Q130.907 2542.97 136.717 2542.97 Z\" fill=\"#000000\" fill-rule=\"evenodd\" fill-opacity=\"1\" /><path clip-path=\"url(#clip750)\" d=\"M 0 0 M39.1714 2236.02 L68.8472 2236.02 L68.8472 2239.95 L39.1714 2239.95 L39.1714 2236.02 Z\" fill=\"#000000\" fill-rule=\"evenodd\" fill-opacity=\"1\" /><path clip-path=\"url(#clip750)\" d=\"M 0 0 M74.7268 2248.91 L82.3656 2248.91 L82.3656 2222.54 L74.0555 2224.21 L74.0555 2219.95 L82.3193 2218.28 L86.9952 2218.28 L86.9952 2248.91 L94.6341 2248.91 L94.6341 2252.84 L74.7268 2252.84 L74.7268 2248.91 Z\" fill=\"#000000\" fill-rule=\"evenodd\" fill-opacity=\"1\" /><path clip-path=\"url(#clip750)\" d=\"M 0 0 M109.703 2221.36 Q106.092 2221.36 104.264 2224.93 Q102.458 2228.47 102.458 2235.6 Q102.458 2242.71 104.264 2246.27 Q106.092 2249.81 109.703 2249.81 Q113.338 2249.81 115.143 2246.27 Q116.972 2242.71 116.972 2235.6 Q116.972 2228.47 115.143 2224.93 Q113.338 2221.36 109.703 2221.36 M109.703 2217.66 Q115.514 2217.66 118.569 2222.27 Q121.648 2226.85 121.648 2235.6 Q121.648 2244.33 118.569 2248.93 Q115.514 2253.52 109.703 2253.52 Q103.893 2253.52 100.815 2248.93 Q97.759 2244.33 97.759 2235.6 Q97.759 2226.85 100.815 2222.27 Q103.893 2217.66 109.703 2217.66 Z\" fill=\"#000000\" fill-rule=\"evenodd\" fill-opacity=\"1\" /><path clip-path=\"url(#clip750)\" d=\"M 0 0 M136.717 2221.36 Q133.106 2221.36 131.277 2224.93 Q129.472 2228.47 129.472 2235.6 Q129.472 2242.71 131.277 2246.27 Q133.106 2249.81 136.717 2249.81 Q140.351 2249.81 142.157 2246.27 Q143.986 2242.71 143.986 2235.6 Q143.986 2228.47 142.157 2224.93 Q140.351 2221.36 136.717 2221.36 M136.717 2217.66 Q142.527 2217.66 145.583 2222.27 Q148.662 2226.85 148.662 2235.6 Q148.662 2244.33 145.583 2248.93 Q142.527 2253.52 136.717 2253.52 Q130.907 2253.52 127.828 2248.93 Q124.773 2244.33 124.773 2235.6 Q124.773 2226.85 127.828 2222.27 Q130.907 2217.66 136.717 2217.66 Z\" fill=\"#000000\" fill-rule=\"evenodd\" fill-opacity=\"1\" /><path clip-path=\"url(#clip750)\" d=\"M 0 0 M65.9537 1910.7 L95.6294 1910.7 L95.6294 1914.64 L65.9537 1914.64 L65.9537 1910.7 Z\" fill=\"#000000\" fill-rule=\"evenodd\" fill-opacity=\"1\" /><path clip-path=\"url(#clip750)\" d=\"M 0 0 M100.745 1892.97 L119.102 1892.97 L119.102 1896.91 L105.028 1896.91 L105.028 1905.38 Q106.046 1905.03 107.065 1904.87 Q108.083 1904.69 109.102 1904.69 Q114.889 1904.69 118.268 1907.86 Q121.648 1911.03 121.648 1916.45 Q121.648 1922.02 118.176 1925.13 Q114.703 1928.2 108.384 1928.2 Q106.208 1928.2 103.94 1927.83 Q101.694 1927.46 99.2868 1926.72 L99.2868 1922.02 Q101.37 1923.16 103.592 1923.71 Q105.815 1924.27 108.291 1924.27 Q112.296 1924.27 114.634 1922.16 Q116.972 1920.06 116.972 1916.45 Q116.972 1912.83 114.634 1910.73 Q112.296 1908.62 108.291 1908.62 Q106.416 1908.62 104.541 1909.04 Q102.69 1909.45 100.745 1910.33 L100.745 1892.97 Z\" fill=\"#000000\" fill-rule=\"evenodd\" fill-opacity=\"1\" /><path clip-path=\"url(#clip750)\" d=\"M 0 0 M136.717 1896.05 Q133.106 1896.05 131.277 1899.62 Q129.472 1903.16 129.472 1910.29 Q129.472 1917.39 131.277 1920.96 Q133.106 1924.5 136.717 1924.5 Q140.351 1924.5 142.157 1920.96 Q143.986 1917.39 143.986 1910.29 Q143.986 1903.16 142.157 1899.62 Q140.351 1896.05 136.717 1896.05 M136.717 1892.35 Q142.527 1892.35 145.583 1896.95 Q148.662 1901.54 148.662 1910.29 Q148.662 1919.01 145.583 1923.62 Q142.527 1928.2 136.717 1928.2 Q130.907 1928.2 127.828 1923.62 Q124.773 1919.01 124.773 1910.29 Q124.773 1901.54 127.828 1896.95 Q130.907 1892.35 136.717 1892.35 Z\" fill=\"#000000\" fill-rule=\"evenodd\" fill-opacity=\"1\" /><path clip-path=\"url(#clip750)\" d=\"M 0 0 M136.717 1570.74 Q133.106 1570.74 131.277 1574.31 Q129.472 1577.85 129.472 1584.98 Q129.472 1592.08 131.277 1595.65 Q133.106 1599.19 136.717 1599.19 Q140.351 1599.19 142.157 1595.65 Q143.986 1592.08 143.986 1584.98 Q143.986 1577.85 142.157 1574.31 Q140.351 1570.74 136.717 1570.74 M136.717 1567.04 Q142.527 1567.04 145.583 1571.64 Q148.662 1576.23 148.662 1584.98 Q148.662 1593.7 145.583 1598.31 Q142.527 1602.89 136.717 1602.89 Q130.907 1602.89 127.828 1598.31 Q124.773 1593.7 124.773 1584.98 Q124.773 1576.23 127.828 1571.64 Q130.907 1567.04 136.717 1567.04 Z\" fill=\"#000000\" fill-rule=\"evenodd\" fill-opacity=\"1\" /><path clip-path=\"url(#clip750)\" d=\"M 0 0 M383.458 1443.69 L383.458 1465.85 L396.583 1465.85 Q403.186 1465.85 406.346 1463.14 Q409.546 1460.38 409.546 1454.75 Q409.546 1449.08 406.346 1446.41 Q403.186 1443.69 396.583 1443.69 L383.458 1443.69 M383.458 1418.82 L383.458 1437.05 L395.57 1437.05 Q401.566 1437.05 404.482 1434.82 Q407.44 1432.55 407.44 1427.94 Q407.44 1423.36 404.482 1421.09 Q401.566 1418.82 395.57 1418.82 L383.458 1418.82 M375.275 1412.1 L396.178 1412.1 Q405.536 1412.1 410.599 1415.98 Q415.663 1419.87 415.663 1427.04 Q415.663 1432.59 413.07 1435.87 Q410.478 1439.16 405.455 1439.97 Q411.49 1441.26 414.812 1445.39 Q418.174 1449.49 418.174 1455.64 Q418.174 1463.75 412.665 1468.16 Q407.156 1472.58 396.988 1472.58 L375.275 1472.58 L375.275 1412.1 Z\" fill=\"#000000\" fill-rule=\"evenodd\" fill-opacity=\"1\" /><path clip-path=\"url(#clip750)\" d=\"M 0 0 M425.385 1412.1 L433.608 1412.1 L433.608 1448.84 Q433.608 1458.56 437.133 1462.85 Q440.657 1467.11 448.556 1467.11 Q456.415 1467.11 459.939 1462.85 Q463.464 1458.56 463.464 1448.84 L463.464 1412.1 L471.687 1412.1 L471.687 1449.85 Q471.687 1461.68 465.813 1467.71 Q459.98 1473.75 448.556 1473.75 Q437.092 1473.75 431.218 1467.71 Q425.385 1461.68 425.385 1449.85 L425.385 1412.1 Z\" fill=\"#000000\" fill-rule=\"evenodd\" fill-opacity=\"1\" /><path clip-path=\"url(#clip750)\" d=\"M 0 0 M479.829 1412.1 L488.012 1412.1 L488.012 1465.69 L517.462 1465.69 L517.462 1472.58 L479.829 1472.58 L479.829 1412.1 Z\" fill=\"#000000\" fill-rule=\"evenodd\" fill-opacity=\"1\" /><path clip-path=\"url(#clip750)\" d=\"M 0 0 M525.604 1412.1 L533.787 1412.1 L533.787 1437.66 L560.928 1412.1 L571.461 1412.1 L541.443 1440.29 L573.608 1472.58 L562.832 1472.58 L533.787 1443.45 L533.787 1472.58 L525.604 1472.58 L525.604 1412.1 Z\" fill=\"#000000\" fill-rule=\"evenodd\" fill-opacity=\"1\" /><path clip-path=\"url(#clip750)\" d=\"M 0 0 M589.933 1418.82 L589.933 1465.85 L599.817 1465.85 Q612.334 1465.85 618.127 1460.18 Q623.96 1454.51 623.96 1442.28 Q623.96 1430.12 618.127 1424.49 Q612.334 1418.82 599.817 1418.82 L589.933 1418.82 M581.75 1412.1 L598.561 1412.1 Q616.142 1412.1 624.366 1419.43 Q632.589 1426.72 632.589 1442.28 Q632.589 1457.91 624.325 1465.24 Q616.061 1472.58 598.561 1472.58 L581.75 1472.58 L581.75 1412.1 Z\" fill=\"#000000\" fill-rule=\"evenodd\" fill-opacity=\"1\" /><path clip-path=\"url(#clip750)\" d=\"M 0 0 M640.731 1412.1 L678.972 1412.1 L678.972 1418.98 L648.914 1418.98 L648.914 1436.89 L677.716 1436.89 L677.716 1443.77 L648.914 1443.77 L648.914 1465.69 L679.701 1465.69 L679.701 1472.58 L640.731 1472.58 L640.731 1412.1 Z\" fill=\"#000000\" fill-rule=\"evenodd\" fill-opacity=\"1\" /><path clip-path=\"url(#clip750)\" d=\"M 0 0 M687.843 1412.1 L698.862 1412.1 L725.679 1462.69 L725.679 1412.1 L733.618 1412.1 L733.618 1472.58 L722.6 1472.58 L695.783 1421.98 L695.783 1472.58 L687.843 1472.58 L687.843 1412.1 Z\" fill=\"#000000\" fill-rule=\"evenodd\" fill-opacity=\"1\" /><path clip-path=\"url(#clip750)\" d=\"M 0 0 M778.016 1414.08 L778.016 1422.06 Q773.358 1419.83 769.226 1418.74 Q765.094 1417.65 761.246 1417.65 Q754.562 1417.65 750.916 1420.24 Q747.31 1422.83 747.31 1427.61 Q747.31 1431.62 749.7 1433.69 Q752.131 1435.71 758.856 1436.97 L763.798 1437.98 Q772.953 1439.72 777.287 1444.14 Q781.662 1448.51 781.662 1455.89 Q781.662 1464.68 775.748 1469.21 Q769.874 1473.75 758.491 1473.75 Q754.197 1473.75 749.336 1472.78 Q744.515 1471.81 739.33 1469.9 L739.33 1461.48 Q744.313 1464.27 749.093 1465.69 Q753.873 1467.11 758.491 1467.11 Q765.499 1467.11 769.307 1464.35 Q773.115 1461.6 773.115 1456.49 Q773.115 1452.04 770.36 1449.53 Q767.646 1447.01 761.408 1445.76 L756.425 1444.79 Q747.27 1442.96 743.179 1439.08 Q739.087 1435.19 739.087 1428.26 Q739.087 1420.24 744.718 1415.62 Q750.389 1411 760.314 1411 Q764.567 1411 768.983 1411.77 Q773.398 1412.54 778.016 1414.08 Z\" fill=\"#000000\" fill-rule=\"evenodd\" fill-opacity=\"1\" /><path clip-path=\"url(#clip750)\" d=\"M 0 0 M833.433 1432.43 Q827.437 1432.43 823.954 1437.13 Q820.47 1441.79 820.47 1449.93 Q820.47 1458.07 823.913 1462.77 Q827.397 1467.43 833.433 1467.43 Q839.387 1467.43 842.871 1462.73 Q846.355 1458.03 846.355 1449.93 Q846.355 1441.87 842.871 1437.17 Q839.387 1432.43 833.433 1432.43 M833.433 1426.11 Q843.155 1426.11 848.705 1432.43 Q854.254 1438.75 854.254 1449.93 Q854.254 1461.07 848.705 1467.43 Q843.155 1473.75 833.433 1473.75 Q823.67 1473.75 818.12 1467.43 Q812.611 1461.07 812.611 1449.93 Q812.611 1438.75 818.12 1432.43 Q823.67 1426.11 833.433 1426.11 Z\" fill=\"#000000\" fill-rule=\"evenodd\" fill-opacity=\"1\" /><path clip-path=\"url(#clip750)\" d=\"M 0 0 M888.363 1434.17 Q887.107 1433.44 885.608 1433.12 Q884.15 1432.76 882.368 1432.76 Q876.048 1432.76 872.645 1436.89 Q869.283 1440.98 869.283 1448.68 L869.283 1472.58 L861.789 1472.58 L861.789 1427.21 L869.283 1427.21 L869.283 1434.25 Q871.633 1430.12 875.4 1428.14 Q879.167 1426.11 884.555 1426.11 Q885.325 1426.11 886.256 1426.23 Q887.188 1426.31 888.322 1426.52 L888.363 1434.17 Z\" fill=\"#000000\" fill-rule=\"evenodd\" fill-opacity=\"1\" /><path clip-path=\"url(#clip750)\" d=\"M 0 0 M896.181 1427.21 L903.635 1427.21 L903.635 1472.58 L896.181 1472.58 L896.181 1427.21 M896.181 1409.54 L903.635 1409.54 L903.635 1418.98 L896.181 1418.98 L896.181 1409.54 Z\" fill=\"#000000\" fill-rule=\"evenodd\" fill-opacity=\"1\" /><path clip-path=\"url(#clip750)\" d=\"M 0 0 M941.308 1449.36 Q941.308 1441.26 937.946 1436.81 Q934.624 1432.35 928.588 1432.35 Q922.593 1432.35 919.231 1436.81 Q915.909 1441.26 915.909 1449.36 Q915.909 1457.43 919.231 1461.88 Q922.593 1466.34 928.588 1466.34 Q934.624 1466.34 937.946 1461.88 Q941.308 1457.43 941.308 1449.36 M948.762 1466.95 Q948.762 1478.53 943.617 1484.16 Q938.473 1489.83 927.859 1489.83 Q923.93 1489.83 920.446 1489.23 Q916.962 1488.66 913.681 1487.44 L913.681 1480.19 Q916.962 1481.97 920.163 1482.82 Q923.363 1483.68 926.684 1483.68 Q934.017 1483.68 937.662 1479.83 Q941.308 1476.02 941.308 1468.28 L941.308 1464.6 Q938.999 1468.61 935.394 1470.59 Q931.789 1472.58 926.766 1472.58 Q918.421 1472.58 913.316 1466.22 Q908.212 1459.86 908.212 1449.36 Q908.212 1438.83 913.316 1432.47 Q918.421 1426.11 926.766 1426.11 Q931.789 1426.11 935.394 1428.1 Q938.999 1430.08 941.308 1434.09 L941.308 1427.21 L948.762 1427.21 L948.762 1466.95 Z\" fill=\"#000000\" fill-rule=\"evenodd\" fill-opacity=\"1\" /><path clip-path=\"url(#clip750)\" d=\"M 0 0 M956.58 1427.21 L964.034 1427.21 L964.034 1472.58 L956.58 1472.58 L956.58 1427.21 M956.58 1409.54 L964.034 1409.54 L964.034 1418.98 L956.58 1418.98 L956.58 1409.54 Z\" fill=\"#000000\" fill-rule=\"evenodd\" fill-opacity=\"1\" /><path clip-path=\"url(#clip750)\" d=\"M 0 0 M1009.57 1445.19 L1009.57 1472.58 L1002.11 1472.58 L1002.11 1445.43 Q1002.11 1438.99 999.601 1435.79 Q997.089 1432.59 992.066 1432.59 Q986.03 1432.59 982.546 1436.44 Q979.063 1440.29 979.063 1446.93 L979.063 1472.58 L971.569 1472.58 L971.569 1427.21 L979.063 1427.21 L979.063 1434.25 Q981.736 1430.16 985.342 1428.14 Q988.987 1426.11 993.727 1426.11 Q1001.55 1426.11 1005.56 1430.97 Q1009.57 1435.79 1009.57 1445.19 Z\" fill=\"#000000\" fill-rule=\"evenodd\" fill-opacity=\"1\" /><path clip-path=\"url(#clip750)\" d=\"M 0 0 M1038 1449.77 Q1028.97 1449.77 1025.49 1451.84 Q1022 1453.9 1022 1458.88 Q1022 1462.85 1024.59 1465.2 Q1027.23 1467.51 1031.72 1467.51 Q1037.92 1467.51 1041.65 1463.14 Q1045.42 1458.72 1045.42 1451.43 L1045.42 1449.77 L1038 1449.77 M1052.87 1446.69 L1052.87 1472.58 L1045.42 1472.58 L1045.42 1465.69 Q1042.86 1469.82 1039.06 1471.81 Q1035.25 1473.75 1029.74 1473.75 Q1022.77 1473.75 1018.64 1469.86 Q1014.55 1465.93 1014.55 1459.37 Q1014.55 1451.71 1019.65 1447.82 Q1024.8 1443.94 1034.97 1443.94 L1045.42 1443.94 L1045.42 1443.21 Q1045.42 1438.06 1042.01 1435.27 Q1038.65 1432.43 1032.53 1432.43 Q1028.65 1432.43 1024.96 1433.36 Q1021.27 1434.29 1017.87 1436.16 L1017.87 1429.27 Q1021.96 1427.69 1025.81 1426.92 Q1029.66 1426.11 1033.3 1426.11 Q1043.15 1426.11 1048.01 1431.22 Q1052.87 1436.32 1052.87 1446.69 Z\" fill=\"#000000\" fill-rule=\"evenodd\" fill-opacity=\"1\" /><path clip-path=\"url(#clip750)\" d=\"M 0 0 M1060.69 1409.54 L1068.14 1409.54 L1068.14 1472.58 L1060.69 1472.58 L1060.69 1409.54 Z\" fill=\"#000000\" fill-rule=\"evenodd\" fill-opacity=\"1\" /><circle clip-path=\"url(#clip754)\" cx=\"888.705\" cy=\"1666.27\" r=\"14\" fill=\"#009af9\" fill-rule=\"evenodd\" fill-opacity=\"1\" stroke=\"#000000\" stroke-opacity=\"1\" stroke-width=\"5.2\"/>\n",
       "<circle clip-path=\"url(#clip754)\" cx=\"880.559\" cy=\"1825.67\" r=\"14\" fill=\"#009af9\" fill-rule=\"evenodd\" fill-opacity=\"1\" stroke=\"#000000\" stroke-opacity=\"1\" stroke-width=\"5.2\"/>\n",
       "<circle clip-path=\"url(#clip754)\" cx=\"860.193\" cy=\"2014.35\" r=\"14\" fill=\"#009af9\" fill-rule=\"evenodd\" fill-opacity=\"1\" stroke=\"#000000\" stroke-opacity=\"1\" stroke-width=\"5.2\"/>\n",
       "<circle clip-path=\"url(#clip754)\" cx=\"884.632\" cy=\"2232.31\" r=\"14\" fill=\"#009af9\" fill-rule=\"evenodd\" fill-opacity=\"1\" stroke=\"#000000\" stroke-opacity=\"1\" stroke-width=\"5.2\"/>\n",
       "<circle clip-path=\"url(#clip754)\" cx=\"856.12\" cy=\"2440.51\" r=\"14\" fill=\"#009af9\" fill-rule=\"evenodd\" fill-opacity=\"1\" stroke=\"#000000\" stroke-opacity=\"1\" stroke-width=\"5.2\"/>\n",
       "<circle clip-path=\"url(#clip754)\" cx=\"811.316\" cy=\"2583.65\" r=\"14\" fill=\"#009af9\" fill-rule=\"evenodd\" fill-opacity=\"1\" stroke=\"#000000\" stroke-opacity=\"1\" stroke-width=\"5.2\"/>\n",
       "<path clip-path=\"url(#clip750)\" d=\"\n",
       "M1490.66 2657.17 L2552.76 2657.17 L2552.76 1553.71 L1490.66 1553.71  Z\n",
       "  \" fill=\"#ffffff\" fill-rule=\"evenodd\" fill-opacity=\"1\"/>\n",
       "<defs>\n",
       "  <clipPath id=\"clip755\">\n",
       "    <rect x=\"1490\" y=\"1553\" width=\"1063\" height=\"1104\"/>\n",
       "  </clipPath>\n",
       "</defs>\n",
       "<polyline clip-path=\"url(#clip755)\" style=\"stroke:#000000; stroke-width:2; stroke-opacity:0.1; fill:none\" points=\"\n",
       "  1520.72,2657.17 1520.72,1553.71 \n",
       "  \"/>\n",
       "<polyline clip-path=\"url(#clip755)\" style=\"stroke:#000000; stroke-width:2; stroke-opacity:0.1; fill:none\" points=\"\n",
       "  1724.37,2657.17 1724.37,1553.71 \n",
       "  \"/>\n",
       "<polyline clip-path=\"url(#clip755)\" style=\"stroke:#000000; stroke-width:2; stroke-opacity:0.1; fill:none\" points=\"\n",
       "  1928.03,2657.17 1928.03,1553.71 \n",
       "  \"/>\n",
       "<polyline clip-path=\"url(#clip755)\" style=\"stroke:#000000; stroke-width:2; stroke-opacity:0.1; fill:none\" points=\"\n",
       "  2131.68,2657.17 2131.68,1553.71 \n",
       "  \"/>\n",
       "<polyline clip-path=\"url(#clip755)\" style=\"stroke:#000000; stroke-width:2; stroke-opacity:0.1; fill:none\" points=\"\n",
       "  2335.34,2657.17 2335.34,1553.71 \n",
       "  \"/>\n",
       "<polyline clip-path=\"url(#clip755)\" style=\"stroke:#000000; stroke-width:2; stroke-opacity:0.1; fill:none\" points=\"\n",
       "  2538.99,2657.17 2538.99,1553.71 \n",
       "  \"/>\n",
       "<polyline clip-path=\"url(#clip750)\" style=\"stroke:#000000; stroke-width:4; stroke-opacity:1; fill:none\" points=\"\n",
       "  1490.66,2657.17 2552.76,2657.17 \n",
       "  \"/>\n",
       "<polyline clip-path=\"url(#clip750)\" style=\"stroke:#000000; stroke-width:4; stroke-opacity:1; fill:none\" points=\"\n",
       "  1520.72,2657.17 1520.72,2643.93 \n",
       "  \"/>\n",
       "<polyline clip-path=\"url(#clip750)\" style=\"stroke:#000000; stroke-width:4; stroke-opacity:1; fill:none\" points=\"\n",
       "  1724.37,2657.17 1724.37,2643.93 \n",
       "  \"/>\n",
       "<polyline clip-path=\"url(#clip750)\" style=\"stroke:#000000; stroke-width:4; stroke-opacity:1; fill:none\" points=\"\n",
       "  1928.03,2657.17 1928.03,2643.93 \n",
       "  \"/>\n",
       "<polyline clip-path=\"url(#clip750)\" style=\"stroke:#000000; stroke-width:4; stroke-opacity:1; fill:none\" points=\"\n",
       "  2131.68,2657.17 2131.68,2643.93 \n",
       "  \"/>\n",
       "<polyline clip-path=\"url(#clip750)\" style=\"stroke:#000000; stroke-width:4; stroke-opacity:1; fill:none\" points=\"\n",
       "  2335.34,2657.17 2335.34,2643.93 \n",
       "  \"/>\n",
       "<polyline clip-path=\"url(#clip750)\" style=\"stroke:#000000; stroke-width:4; stroke-opacity:1; fill:none\" points=\"\n",
       "  2538.99,2657.17 2538.99,2643.93 \n",
       "  \"/>\n",
       "<path clip-path=\"url(#clip750)\" d=\"M 0 0 M1502.24 2689.56 Q1498.63 2689.56 1496.8 2693.12 Q1494.99 2696.67 1494.99 2703.79 Q1494.99 2710.9 1496.8 2714.47 Q1498.63 2718.01 1502.24 2718.01 Q1505.87 2718.01 1507.68 2714.47 Q1509.51 2710.9 1509.51 2703.79 Q1509.51 2696.67 1507.68 2693.12 Q1505.87 2689.56 1502.24 2689.56 M1502.24 2685.85 Q1508.05 2685.85 1511.1 2690.46 Q1514.18 2695.04 1514.18 2703.79 Q1514.18 2712.52 1511.1 2717.13 Q1508.05 2721.71 1502.24 2721.71 Q1496.43 2721.71 1493.35 2717.13 Q1490.29 2712.52 1490.29 2703.79 Q1490.29 2695.04 1493.35 2690.46 Q1496.43 2685.85 1502.24 2685.85 Z\" fill=\"#000000\" fill-rule=\"evenodd\" fill-opacity=\"1\" /><path clip-path=\"url(#clip750)\" d=\"M 0 0 M1519.25 2715.16 L1524.14 2715.16 L1524.14 2721.04 L1519.25 2721.04 L1519.25 2715.16 Z\" fill=\"#000000\" fill-rule=\"evenodd\" fill-opacity=\"1\" /><path clip-path=\"url(#clip750)\" d=\"M 0 0 M1539.2 2689.56 Q1535.59 2689.56 1533.76 2693.12 Q1531.96 2696.67 1531.96 2703.79 Q1531.96 2710.9 1533.76 2714.47 Q1535.59 2718.01 1539.2 2718.01 Q1542.84 2718.01 1544.64 2714.47 Q1546.47 2710.9 1546.47 2703.79 Q1546.47 2696.67 1544.64 2693.12 Q1542.84 2689.56 1539.2 2689.56 M1539.2 2685.85 Q1545.01 2685.85 1548.07 2690.46 Q1551.15 2695.04 1551.15 2703.79 Q1551.15 2712.52 1548.07 2717.13 Q1545.01 2721.71 1539.2 2721.71 Q1533.39 2721.71 1530.32 2717.13 Q1527.26 2712.52 1527.26 2703.79 Q1527.26 2695.04 1530.32 2690.46 Q1533.39 2685.85 1539.2 2685.85 Z\" fill=\"#000000\" fill-rule=\"evenodd\" fill-opacity=\"1\" /><path clip-path=\"url(#clip750)\" d=\"M 0 0 M1706.39 2689.56 Q1702.78 2689.56 1700.95 2693.12 Q1699.14 2696.67 1699.14 2703.79 Q1699.14 2710.9 1700.95 2714.47 Q1702.78 2718.01 1706.39 2718.01 Q1710.02 2718.01 1711.83 2714.47 Q1713.66 2710.9 1713.66 2703.79 Q1713.66 2696.67 1711.83 2693.12 Q1710.02 2689.56 1706.39 2689.56 M1706.39 2685.85 Q1712.2 2685.85 1715.25 2690.46 Q1718.33 2695.04 1718.33 2703.79 Q1718.33 2712.52 1715.25 2717.13 Q1712.2 2721.71 1706.39 2721.71 Q1700.58 2721.71 1697.5 2717.13 Q1694.44 2712.52 1694.44 2703.79 Q1694.44 2695.04 1697.5 2690.46 Q1700.58 2685.85 1706.39 2685.85 Z\" fill=\"#000000\" fill-rule=\"evenodd\" fill-opacity=\"1\" /><path clip-path=\"url(#clip750)\" d=\"M 0 0 M1723.4 2715.16 L1728.29 2715.16 L1728.29 2721.04 L1723.4 2721.04 L1723.4 2715.16 Z\" fill=\"#000000\" fill-rule=\"evenodd\" fill-opacity=\"1\" /><path clip-path=\"url(#clip750)\" d=\"M 0 0 M1733.4 2686.48 L1751.76 2686.48 L1751.76 2690.42 L1737.68 2690.42 L1737.68 2698.89 Q1738.7 2698.54 1739.72 2698.38 Q1740.74 2698.19 1741.76 2698.19 Q1747.55 2698.19 1750.93 2701.36 Q1754.3 2704.54 1754.3 2709.95 Q1754.3 2715.53 1750.83 2718.63 Q1747.36 2721.71 1741.04 2721.71 Q1738.87 2721.71 1736.6 2721.34 Q1734.35 2720.97 1731.94 2720.23 L1731.94 2715.53 Q1734.03 2716.66 1736.25 2717.22 Q1738.47 2717.78 1740.95 2717.78 Q1744.95 2717.78 1747.29 2715.67 Q1749.63 2713.56 1749.63 2709.95 Q1749.63 2706.34 1747.29 2704.23 Q1744.95 2702.13 1740.95 2702.13 Q1739.07 2702.13 1737.2 2702.54 Q1735.35 2702.96 1733.4 2703.84 L1733.4 2686.48 Z\" fill=\"#000000\" fill-rule=\"evenodd\" fill-opacity=\"1\" /><path clip-path=\"url(#clip750)\" d=\"M 0 0 M1899.93 2717.1 L1907.57 2717.1 L1907.57 2690.74 L1899.26 2692.41 L1899.26 2688.15 L1907.52 2686.48 L1912.19 2686.48 L1912.19 2717.1 L1919.83 2717.1 L1919.83 2721.04 L1899.93 2721.04 L1899.93 2717.1 Z\" fill=\"#000000\" fill-rule=\"evenodd\" fill-opacity=\"1\" /><path clip-path=\"url(#clip750)\" d=\"M 0 0 M1924.9 2715.16 L1929.79 2715.16 L1929.79 2721.04 L1924.9 2721.04 L1924.9 2715.16 Z\" fill=\"#000000\" fill-rule=\"evenodd\" fill-opacity=\"1\" /><path clip-path=\"url(#clip750)\" d=\"M 0 0 M1944.86 2689.56 Q1941.25 2689.56 1939.42 2693.12 Q1937.61 2696.67 1937.61 2703.79 Q1937.61 2710.9 1939.42 2714.47 Q1941.25 2718.01 1944.86 2718.01 Q1948.49 2718.01 1950.3 2714.47 Q1952.13 2710.9 1952.13 2703.79 Q1952.13 2696.67 1950.3 2693.12 Q1948.49 2689.56 1944.86 2689.56 M1944.86 2685.85 Q1950.67 2685.85 1953.72 2690.46 Q1956.8 2695.04 1956.8 2703.79 Q1956.8 2712.52 1953.72 2717.13 Q1950.67 2721.71 1944.86 2721.71 Q1939.05 2721.71 1935.97 2717.13 Q1932.91 2712.52 1932.91 2703.79 Q1932.91 2695.04 1935.97 2690.46 Q1939.05 2685.85 1944.86 2685.85 Z\" fill=\"#000000\" fill-rule=\"evenodd\" fill-opacity=\"1\" /><path clip-path=\"url(#clip750)\" d=\"M 0 0 M2104.08 2717.1 L2111.72 2717.1 L2111.72 2690.74 L2103.41 2692.41 L2103.41 2688.15 L2111.67 2686.48 L2116.35 2686.48 L2116.35 2717.1 L2123.98 2717.1 L2123.98 2721.04 L2104.08 2721.04 L2104.08 2717.1 Z\" fill=\"#000000\" fill-rule=\"evenodd\" fill-opacity=\"1\" /><path clip-path=\"url(#clip750)\" d=\"M 0 0 M2129.05 2715.16 L2133.94 2715.16 L2133.94 2721.04 L2129.05 2721.04 L2129.05 2715.16 Z\" fill=\"#000000\" fill-rule=\"evenodd\" fill-opacity=\"1\" /><path clip-path=\"url(#clip750)\" d=\"M 0 0 M2139.05 2686.48 L2157.41 2686.48 L2157.41 2690.42 L2143.34 2690.42 L2143.34 2698.89 Q2144.36 2698.54 2145.37 2698.38 Q2146.39 2698.19 2147.41 2698.19 Q2153.2 2698.19 2156.58 2701.36 Q2159.96 2704.54 2159.96 2709.95 Q2159.96 2715.53 2156.48 2718.63 Q2153.01 2721.71 2146.69 2721.71 Q2144.52 2721.71 2142.25 2721.34 Q2140 2720.97 2137.6 2720.23 L2137.6 2715.53 Q2139.68 2716.66 2141.9 2717.22 Q2144.12 2717.78 2146.6 2717.78 Q2150.61 2717.78 2152.94 2715.67 Q2155.28 2713.56 2155.28 2709.95 Q2155.28 2706.34 2152.94 2704.23 Q2150.61 2702.13 2146.6 2702.13 Q2144.73 2702.13 2142.85 2702.54 Q2141 2702.96 2139.05 2703.84 L2139.05 2686.48 Z\" fill=\"#000000\" fill-rule=\"evenodd\" fill-opacity=\"1\" /><path clip-path=\"url(#clip750)\" d=\"M 0 0 M2311.5 2717.1 L2327.82 2717.1 L2327.82 2721.04 L2305.88 2721.04 L2305.88 2717.1 Q2308.54 2714.35 2313.12 2709.72 Q2317.73 2705.07 2318.91 2703.73 Q2321.16 2701.2 2322.04 2699.47 Q2322.94 2697.71 2322.94 2696.02 Q2322.94 2693.26 2321 2691.53 Q2319.07 2689.79 2315.97 2689.79 Q2313.77 2689.79 2311.32 2690.55 Q2308.89 2691.32 2306.11 2692.87 L2306.11 2688.15 Q2308.93 2687.01 2311.39 2686.43 Q2313.84 2685.85 2315.88 2685.85 Q2321.25 2685.85 2324.44 2688.54 Q2327.64 2691.23 2327.64 2695.72 Q2327.64 2697.85 2326.83 2699.77 Q2326.04 2701.66 2323.93 2704.26 Q2323.36 2704.93 2320.25 2708.15 Q2317.15 2711.34 2311.5 2717.1 Z\" fill=\"#000000\" fill-rule=\"evenodd\" fill-opacity=\"1\" /><path clip-path=\"url(#clip750)\" d=\"M 0 0 M2332.89 2715.16 L2337.78 2715.16 L2337.78 2721.04 L2332.89 2721.04 L2332.89 2715.16 Z\" fill=\"#000000\" fill-rule=\"evenodd\" fill-opacity=\"1\" /><path clip-path=\"url(#clip750)\" d=\"M 0 0 M2352.85 2689.56 Q2349.24 2689.56 2347.41 2693.12 Q2345.6 2696.67 2345.6 2703.79 Q2345.6 2710.9 2347.41 2714.47 Q2349.24 2718.01 2352.85 2718.01 Q2356.48 2718.01 2358.29 2714.47 Q2360.12 2710.9 2360.12 2703.79 Q2360.12 2696.67 2358.29 2693.12 Q2356.48 2689.56 2352.85 2689.56 M2352.85 2685.85 Q2358.66 2685.85 2361.71 2690.46 Q2364.79 2695.04 2364.79 2703.79 Q2364.79 2712.52 2361.71 2717.13 Q2358.66 2721.71 2352.85 2721.71 Q2347.04 2721.71 2343.96 2717.13 Q2340.9 2712.52 2340.9 2703.79 Q2340.9 2695.04 2343.96 2690.46 Q2347.04 2685.85 2352.85 2685.85 Z\" fill=\"#000000\" fill-rule=\"evenodd\" fill-opacity=\"1\" /><path clip-path=\"url(#clip750)\" d=\"M 0 0 M2515.66 2717.1 L2531.98 2717.1 L2531.98 2721.04 L2510.03 2721.04 L2510.03 2717.1 Q2512.69 2714.35 2517.28 2709.72 Q2521.88 2705.07 2523.06 2703.73 Q2525.31 2701.2 2526.19 2699.47 Q2527.09 2697.71 2527.09 2696.02 Q2527.09 2693.26 2525.15 2691.53 Q2523.23 2689.79 2520.12 2689.79 Q2517.92 2689.79 2515.47 2690.55 Q2513.04 2691.32 2510.26 2692.87 L2510.26 2688.15 Q2513.09 2687.01 2515.54 2686.43 Q2517.99 2685.85 2520.03 2685.85 Q2525.4 2685.85 2528.6 2688.54 Q2531.79 2691.23 2531.79 2695.72 Q2531.79 2697.85 2530.98 2699.77 Q2530.19 2701.66 2528.09 2704.26 Q2527.51 2704.93 2524.41 2708.15 Q2521.3 2711.34 2515.66 2717.1 Z\" fill=\"#000000\" fill-rule=\"evenodd\" fill-opacity=\"1\" /><path clip-path=\"url(#clip750)\" d=\"M 0 0 M2537.04 2715.16 L2541.93 2715.16 L2541.93 2721.04 L2537.04 2721.04 L2537.04 2715.16 Z\" fill=\"#000000\" fill-rule=\"evenodd\" fill-opacity=\"1\" /><path clip-path=\"url(#clip750)\" d=\"M 0 0 M2547.04 2686.48 L2565.4 2686.48 L2565.4 2690.42 L2551.33 2690.42 L2551.33 2698.89 Q2552.35 2698.54 2553.36 2698.38 Q2554.38 2698.19 2555.4 2698.19 Q2561.19 2698.19 2564.57 2701.36 Q2567.95 2704.54 2567.95 2709.95 Q2567.95 2715.53 2564.47 2718.63 Q2561 2721.71 2554.68 2721.71 Q2552.51 2721.71 2550.24 2721.34 Q2547.99 2720.97 2545.59 2720.23 L2545.59 2715.53 Q2547.67 2716.66 2549.89 2717.22 Q2552.11 2717.78 2554.59 2717.78 Q2558.6 2717.78 2560.93 2715.67 Q2563.27 2713.56 2563.27 2709.95 Q2563.27 2706.34 2560.93 2704.23 Q2558.6 2702.13 2554.59 2702.13 Q2552.72 2702.13 2550.84 2702.54 Q2548.99 2702.96 2547.04 2703.84 L2547.04 2686.48 Z\" fill=\"#000000\" fill-rule=\"evenodd\" fill-opacity=\"1\" /><polyline clip-path=\"url(#clip755)\" style=\"stroke:#000000; stroke-width:2; stroke-opacity:0.1; fill:none\" points=\"\n",
       "  1490.66,2560.88 2552.76,2560.88 \n",
       "  \"/>\n",
       "<polyline clip-path=\"url(#clip755)\" style=\"stroke:#000000; stroke-width:2; stroke-opacity:0.1; fill:none\" points=\"\n",
       "  1490.66,2235.56 2552.76,2235.56 \n",
       "  \"/>\n",
       "<polyline clip-path=\"url(#clip755)\" style=\"stroke:#000000; stroke-width:2; stroke-opacity:0.1; fill:none\" points=\"\n",
       "  1490.66,1910.25 2552.76,1910.25 \n",
       "  \"/>\n",
       "<polyline clip-path=\"url(#clip755)\" style=\"stroke:#000000; stroke-width:2; stroke-opacity:0.1; fill:none\" points=\"\n",
       "  1490.66,1584.94 2552.76,1584.94 \n",
       "  \"/>\n",
       "<polyline clip-path=\"url(#clip750)\" style=\"stroke:#000000; stroke-width:4; stroke-opacity:1; fill:none\" points=\"\n",
       "  1490.66,2657.17 1490.66,1553.71 \n",
       "  \"/>\n",
       "<polyline clip-path=\"url(#clip750)\" style=\"stroke:#000000; stroke-width:4; stroke-opacity:1; fill:none\" points=\"\n",
       "  1490.66,2560.88 1503.41,2560.88 \n",
       "  \"/>\n",
       "<polyline clip-path=\"url(#clip750)\" style=\"stroke:#000000; stroke-width:4; stroke-opacity:1; fill:none\" points=\"\n",
       "  1490.66,2235.56 1503.41,2235.56 \n",
       "  \"/>\n",
       "<polyline clip-path=\"url(#clip750)\" style=\"stroke:#000000; stroke-width:4; stroke-opacity:1; fill:none\" points=\"\n",
       "  1490.66,1910.25 1503.41,1910.25 \n",
       "  \"/>\n",
       "<polyline clip-path=\"url(#clip750)\" style=\"stroke:#000000; stroke-width:4; stroke-opacity:1; fill:none\" points=\"\n",
       "  1490.66,1584.94 1503.41,1584.94 \n",
       "  \"/>\n",
       "<path clip-path=\"url(#clip750)\" d=\"M 0 0 M1340.17 2561.33 L1369.84 2561.33 L1369.84 2565.26 L1340.17 2565.26 L1340.17 2561.33 Z\" fill=\"#000000\" fill-rule=\"evenodd\" fill-opacity=\"1\" /><path clip-path=\"url(#clip750)\" d=\"M 0 0 M1375.72 2574.22 L1383.36 2574.22 L1383.36 2547.85 L1375.05 2549.52 L1375.05 2545.26 L1383.31 2543.6 L1387.99 2543.6 L1387.99 2574.22 L1395.63 2574.22 L1395.63 2578.16 L1375.72 2578.16 L1375.72 2574.22 Z\" fill=\"#000000\" fill-rule=\"evenodd\" fill-opacity=\"1\" /><path clip-path=\"url(#clip750)\" d=\"M 0 0 M1400.75 2543.6 L1419.1 2543.6 L1419.1 2547.53 L1405.03 2547.53 L1405.03 2556 Q1406.05 2555.66 1407.06 2555.49 Q1408.08 2555.31 1409.1 2555.31 Q1414.89 2555.31 1418.27 2558.48 Q1421.65 2561.65 1421.65 2567.07 Q1421.65 2572.65 1418.18 2575.75 Q1414.7 2578.83 1408.38 2578.83 Q1406.21 2578.83 1403.94 2578.46 Q1401.69 2578.09 1399.29 2577.35 L1399.29 2572.65 Q1401.37 2573.78 1403.59 2574.34 Q1405.81 2574.89 1408.29 2574.89 Q1412.3 2574.89 1414.63 2572.79 Q1416.97 2570.68 1416.97 2567.07 Q1416.97 2563.46 1414.63 2561.35 Q1412.3 2559.24 1408.29 2559.24 Q1406.42 2559.24 1404.54 2559.66 Q1402.69 2560.08 1400.75 2560.96 L1400.75 2543.6 Z\" fill=\"#000000\" fill-rule=\"evenodd\" fill-opacity=\"1\" /><path clip-path=\"url(#clip750)\" d=\"M 0 0 M1436.72 2546.67 Q1433.11 2546.67 1431.28 2550.24 Q1429.47 2553.78 1429.47 2560.91 Q1429.47 2568.02 1431.28 2571.58 Q1433.11 2575.12 1436.72 2575.12 Q1440.35 2575.12 1442.16 2571.58 Q1443.99 2568.02 1443.99 2560.91 Q1443.99 2553.78 1442.16 2550.24 Q1440.35 2546.67 1436.72 2546.67 M1436.72 2542.97 Q1442.53 2542.97 1445.58 2547.58 Q1448.66 2552.16 1448.66 2560.91 Q1448.66 2569.64 1445.58 2574.24 Q1442.53 2578.83 1436.72 2578.83 Q1430.91 2578.83 1427.83 2574.24 Q1424.77 2569.64 1424.77 2560.91 Q1424.77 2552.16 1427.83 2547.58 Q1430.91 2542.97 1436.72 2542.97 Z\" fill=\"#000000\" fill-rule=\"evenodd\" fill-opacity=\"1\" /><path clip-path=\"url(#clip750)\" d=\"M 0 0 M1339.17 2236.02 L1368.85 2236.02 L1368.85 2239.95 L1339.17 2239.95 L1339.17 2236.02 Z\" fill=\"#000000\" fill-rule=\"evenodd\" fill-opacity=\"1\" /><path clip-path=\"url(#clip750)\" d=\"M 0 0 M1374.73 2248.91 L1382.37 2248.91 L1382.37 2222.54 L1374.06 2224.21 L1374.06 2219.95 L1382.32 2218.28 L1387 2218.28 L1387 2248.91 L1394.63 2248.91 L1394.63 2252.84 L1374.73 2252.84 L1374.73 2248.91 Z\" fill=\"#000000\" fill-rule=\"evenodd\" fill-opacity=\"1\" /><path clip-path=\"url(#clip750)\" d=\"M 0 0 M1409.7 2221.36 Q1406.09 2221.36 1404.26 2224.93 Q1402.46 2228.47 1402.46 2235.6 Q1402.46 2242.71 1404.26 2246.27 Q1406.09 2249.81 1409.7 2249.81 Q1413.34 2249.81 1415.14 2246.27 Q1416.97 2242.71 1416.97 2235.6 Q1416.97 2228.47 1415.14 2224.93 Q1413.34 2221.36 1409.7 2221.36 M1409.7 2217.66 Q1415.51 2217.66 1418.57 2222.27 Q1421.65 2226.85 1421.65 2235.6 Q1421.65 2244.33 1418.57 2248.93 Q1415.51 2253.52 1409.7 2253.52 Q1403.89 2253.52 1400.81 2248.93 Q1397.76 2244.33 1397.76 2235.6 Q1397.76 2226.85 1400.81 2222.27 Q1403.89 2217.66 1409.7 2217.66 Z\" fill=\"#000000\" fill-rule=\"evenodd\" fill-opacity=\"1\" /><path clip-path=\"url(#clip750)\" d=\"M 0 0 M1436.72 2221.36 Q1433.11 2221.36 1431.28 2224.93 Q1429.47 2228.47 1429.47 2235.6 Q1429.47 2242.71 1431.28 2246.27 Q1433.11 2249.81 1436.72 2249.81 Q1440.35 2249.81 1442.16 2246.27 Q1443.99 2242.71 1443.99 2235.6 Q1443.99 2228.47 1442.16 2224.93 Q1440.35 2221.36 1436.72 2221.36 M1436.72 2217.66 Q1442.53 2217.66 1445.58 2222.27 Q1448.66 2226.85 1448.66 2235.6 Q1448.66 2244.33 1445.58 2248.93 Q1442.53 2253.52 1436.72 2253.52 Q1430.91 2253.52 1427.83 2248.93 Q1424.77 2244.33 1424.77 2235.6 Q1424.77 2226.85 1427.83 2222.27 Q1430.91 2217.66 1436.72 2217.66 Z\" fill=\"#000000\" fill-rule=\"evenodd\" fill-opacity=\"1\" /><path clip-path=\"url(#clip750)\" d=\"M 0 0 M1365.95 1910.7 L1395.63 1910.7 L1395.63 1914.64 L1365.95 1914.64 L1365.95 1910.7 Z\" fill=\"#000000\" fill-rule=\"evenodd\" fill-opacity=\"1\" /><path clip-path=\"url(#clip750)\" d=\"M 0 0 M1400.75 1892.97 L1419.1 1892.97 L1419.1 1896.91 L1405.03 1896.91 L1405.03 1905.38 Q1406.05 1905.03 1407.06 1904.87 Q1408.08 1904.69 1409.1 1904.69 Q1414.89 1904.69 1418.27 1907.86 Q1421.65 1911.03 1421.65 1916.45 Q1421.65 1922.02 1418.18 1925.13 Q1414.7 1928.2 1408.38 1928.2 Q1406.21 1928.2 1403.94 1927.83 Q1401.69 1927.46 1399.29 1926.72 L1399.29 1922.02 Q1401.37 1923.16 1403.59 1923.71 Q1405.81 1924.27 1408.29 1924.27 Q1412.3 1924.27 1414.63 1922.16 Q1416.97 1920.06 1416.97 1916.45 Q1416.97 1912.83 1414.63 1910.73 Q1412.3 1908.62 1408.29 1908.62 Q1406.42 1908.62 1404.54 1909.04 Q1402.69 1909.45 1400.75 1910.33 L1400.75 1892.97 Z\" fill=\"#000000\" fill-rule=\"evenodd\" fill-opacity=\"1\" /><path clip-path=\"url(#clip750)\" d=\"M 0 0 M1436.72 1896.05 Q1433.11 1896.05 1431.28 1899.62 Q1429.47 1903.16 1429.47 1910.29 Q1429.47 1917.39 1431.28 1920.96 Q1433.11 1924.5 1436.72 1924.5 Q1440.35 1924.5 1442.16 1920.96 Q1443.99 1917.39 1443.99 1910.29 Q1443.99 1903.16 1442.16 1899.62 Q1440.35 1896.05 1436.72 1896.05 M1436.72 1892.35 Q1442.53 1892.35 1445.58 1896.95 Q1448.66 1901.54 1448.66 1910.29 Q1448.66 1919.01 1445.58 1923.62 Q1442.53 1928.2 1436.72 1928.2 Q1430.91 1928.2 1427.83 1923.62 Q1424.77 1919.01 1424.77 1910.29 Q1424.77 1901.54 1427.83 1896.95 Q1430.91 1892.35 1436.72 1892.35 Z\" fill=\"#000000\" fill-rule=\"evenodd\" fill-opacity=\"1\" /><path clip-path=\"url(#clip750)\" d=\"M 0 0 M1436.72 1570.74 Q1433.11 1570.74 1431.28 1574.31 Q1429.47 1577.85 1429.47 1584.98 Q1429.47 1592.08 1431.28 1595.65 Q1433.11 1599.19 1436.72 1599.19 Q1440.35 1599.19 1442.16 1595.65 Q1443.99 1592.08 1443.99 1584.98 Q1443.99 1577.85 1442.16 1574.31 Q1440.35 1570.74 1436.72 1570.74 M1436.72 1567.04 Q1442.53 1567.04 1445.58 1571.64 Q1448.66 1576.23 1448.66 1584.98 Q1448.66 1593.7 1445.58 1598.31 Q1442.53 1602.89 1436.72 1602.89 Q1430.91 1602.89 1427.83 1598.31 Q1424.77 1593.7 1424.77 1584.98 Q1424.77 1576.23 1427.83 1571.64 Q1430.91 1567.04 1436.72 1567.04 Z\" fill=\"#000000\" fill-rule=\"evenodd\" fill-opacity=\"1\" /><path clip-path=\"url(#clip750)\" d=\"M 0 0 M1589.86 1443.69 L1589.86 1465.85 L1602.99 1465.85 Q1609.59 1465.85 1612.75 1463.14 Q1615.95 1460.38 1615.95 1454.75 Q1615.95 1449.08 1612.75 1446.41 Q1609.59 1443.69 1602.99 1443.69 L1589.86 1443.69 M1589.86 1418.82 L1589.86 1437.05 L1601.97 1437.05 Q1607.97 1437.05 1610.89 1434.82 Q1613.84 1432.55 1613.84 1427.94 Q1613.84 1423.36 1610.89 1421.09 Q1607.97 1418.82 1601.97 1418.82 L1589.86 1418.82 M1581.68 1412.1 L1602.58 1412.1 Q1611.94 1412.1 1617 1415.98 Q1622.07 1419.87 1622.07 1427.04 Q1622.07 1432.59 1619.47 1435.87 Q1616.88 1439.16 1611.86 1439.97 Q1617.89 1441.26 1621.22 1445.39 Q1624.58 1449.49 1624.58 1455.64 Q1624.58 1463.75 1619.07 1468.16 Q1613.56 1472.58 1603.39 1472.58 L1581.68 1472.58 L1581.68 1412.1 Z\" fill=\"#000000\" fill-rule=\"evenodd\" fill-opacity=\"1\" /><path clip-path=\"url(#clip750)\" d=\"M 0 0 M1631.79 1412.1 L1640.01 1412.1 L1640.01 1448.84 Q1640.01 1458.56 1643.54 1462.85 Q1647.06 1467.11 1654.96 1467.11 Q1662.82 1467.11 1666.34 1462.85 Q1669.87 1458.56 1669.87 1448.84 L1669.87 1412.1 L1678.09 1412.1 L1678.09 1449.85 Q1678.09 1461.68 1672.22 1467.71 Q1666.38 1473.75 1654.96 1473.75 Q1643.5 1473.75 1637.62 1467.71 Q1631.79 1461.68 1631.79 1449.85 L1631.79 1412.1 Z\" fill=\"#000000\" fill-rule=\"evenodd\" fill-opacity=\"1\" /><path clip-path=\"url(#clip750)\" d=\"M 0 0 M1686.23 1412.1 L1694.42 1412.1 L1694.42 1465.69 L1723.87 1465.69 L1723.87 1472.58 L1686.23 1472.58 L1686.23 1412.1 Z\" fill=\"#000000\" fill-rule=\"evenodd\" fill-opacity=\"1\" /><path clip-path=\"url(#clip750)\" d=\"M 0 0 M1732.01 1412.1 L1740.19 1412.1 L1740.19 1437.66 L1767.33 1412.1 L1777.86 1412.1 L1747.85 1440.29 L1780.01 1472.58 L1769.24 1472.58 L1740.19 1443.45 L1740.19 1472.58 L1732.01 1472.58 L1732.01 1412.1 Z\" fill=\"#000000\" fill-rule=\"evenodd\" fill-opacity=\"1\" /><path clip-path=\"url(#clip750)\" d=\"M 0 0 M1796.34 1418.82 L1796.34 1465.85 L1806.22 1465.85 Q1818.74 1465.85 1824.53 1460.18 Q1830.36 1454.51 1830.36 1442.28 Q1830.36 1430.12 1824.53 1424.49 Q1818.74 1418.82 1806.22 1418.82 L1796.34 1418.82 M1788.15 1412.1 L1804.97 1412.1 Q1822.55 1412.1 1830.77 1419.43 Q1838.99 1426.72 1838.99 1442.28 Q1838.99 1457.91 1830.73 1465.24 Q1822.47 1472.58 1804.97 1472.58 L1788.15 1472.58 L1788.15 1412.1 Z\" fill=\"#000000\" fill-rule=\"evenodd\" fill-opacity=\"1\" /><path clip-path=\"url(#clip750)\" d=\"M 0 0 M1847.14 1412.1 L1885.38 1412.1 L1885.38 1418.98 L1855.32 1418.98 L1855.32 1436.89 L1884.12 1436.89 L1884.12 1443.77 L1855.32 1443.77 L1855.32 1465.69 L1886.1 1465.69 L1886.1 1472.58 L1847.14 1472.58 L1847.14 1412.1 Z\" fill=\"#000000\" fill-rule=\"evenodd\" fill-opacity=\"1\" /><path clip-path=\"url(#clip750)\" d=\"M 0 0 M1894.25 1412.1 L1905.27 1412.1 L1932.08 1462.69 L1932.08 1412.1 L1940.02 1412.1 L1940.02 1472.58 L1929 1472.58 L1902.19 1421.98 L1902.19 1472.58 L1894.25 1472.58 L1894.25 1412.1 Z\" fill=\"#000000\" fill-rule=\"evenodd\" fill-opacity=\"1\" /><path clip-path=\"url(#clip750)\" d=\"M 0 0 M1984.42 1414.08 L1984.42 1422.06 Q1979.76 1419.83 1975.63 1418.74 Q1971.5 1417.65 1967.65 1417.65 Q1960.97 1417.65 1957.32 1420.24 Q1953.71 1422.83 1953.71 1427.61 Q1953.71 1431.62 1956.1 1433.69 Q1958.53 1435.71 1965.26 1436.97 L1970.2 1437.98 Q1979.36 1439.72 1983.69 1444.14 Q1988.07 1448.51 1988.07 1455.89 Q1988.07 1464.68 1982.15 1469.21 Q1976.28 1473.75 1964.89 1473.75 Q1960.6 1473.75 1955.74 1472.78 Q1950.92 1471.81 1945.73 1469.9 L1945.73 1461.48 Q1950.72 1464.27 1955.5 1465.69 Q1960.28 1467.11 1964.89 1467.11 Q1971.9 1467.11 1975.71 1464.35 Q1979.52 1461.6 1979.52 1456.49 Q1979.52 1452.04 1976.76 1449.53 Q1974.05 1447.01 1967.81 1445.76 L1962.83 1444.79 Q1953.67 1442.96 1949.58 1439.08 Q1945.49 1435.19 1945.49 1428.26 Q1945.49 1420.24 1951.12 1415.62 Q1956.79 1411 1966.72 1411 Q1970.97 1411 1975.39 1411.77 Q1979.8 1412.54 1984.42 1414.08 Z\" fill=\"#000000\" fill-rule=\"evenodd\" fill-opacity=\"1\" /><path clip-path=\"url(#clip750)\" d=\"M 0 0 M2022.26 1427.21 L2029.71 1427.21 L2029.71 1472.58 L2022.26 1472.58 L2022.26 1427.21 M2022.26 1409.54 L2029.71 1409.54 L2029.71 1418.98 L2022.26 1418.98 L2022.26 1409.54 Z\" fill=\"#000000\" fill-rule=\"evenodd\" fill-opacity=\"1\" /><path clip-path=\"url(#clip750)\" d=\"M 0 0 M2075.24 1445.19 L2075.24 1472.58 L2067.79 1472.58 L2067.79 1445.43 Q2067.79 1438.99 2065.28 1435.79 Q2062.76 1432.59 2057.74 1432.59 Q2051.71 1432.59 2048.22 1436.44 Q2044.74 1440.29 2044.74 1446.93 L2044.74 1472.58 L2037.24 1472.58 L2037.24 1427.21 L2044.74 1427.21 L2044.74 1434.25 Q2047.41 1430.16 2051.02 1428.14 Q2054.66 1426.11 2059.4 1426.11 Q2067.22 1426.11 2071.23 1430.97 Q2075.24 1435.79 2075.24 1445.19 Z\" fill=\"#000000\" fill-rule=\"evenodd\" fill-opacity=\"1\" /><path clip-path=\"url(#clip750)\" d=\"M 0 0 M2090.43 1414.32 L2090.43 1427.21 L2105.79 1427.21 L2105.79 1433 L2090.43 1433 L2090.43 1457.63 Q2090.43 1463.18 2091.93 1464.76 Q2093.47 1466.34 2098.13 1466.34 L2105.79 1466.34 L2105.79 1472.58 L2098.13 1472.58 Q2089.5 1472.58 2086.22 1469.38 Q2082.94 1466.14 2082.94 1457.63 L2082.94 1433 L2077.47 1433 L2077.47 1427.21 L2082.94 1427.21 L2082.94 1414.32 L2090.43 1414.32 Z\" fill=\"#000000\" fill-rule=\"evenodd\" fill-opacity=\"1\" /><path clip-path=\"url(#clip750)\" d=\"M 0 0 M2152.41 1448.03 L2152.41 1451.67 L2118.14 1451.67 Q2118.63 1459.37 2122.76 1463.42 Q2126.93 1467.43 2134.34 1467.43 Q2138.64 1467.43 2142.65 1466.38 Q2146.7 1465.32 2150.67 1463.22 L2150.67 1470.27 Q2146.66 1471.97 2142.45 1472.86 Q2138.23 1473.75 2133.9 1473.75 Q2123.04 1473.75 2116.68 1467.43 Q2110.36 1461.11 2110.36 1450.34 Q2110.36 1439.2 2116.36 1432.67 Q2122.39 1426.11 2132.6 1426.11 Q2141.76 1426.11 2147.06 1432.03 Q2152.41 1437.9 2152.41 1448.03 M2144.96 1445.84 Q2144.88 1439.72 2141.51 1436.08 Q2138.19 1432.43 2132.68 1432.43 Q2126.44 1432.43 2122.68 1435.96 Q2118.95 1439.48 2118.38 1445.88 L2144.96 1445.84 Z\" fill=\"#000000\" fill-rule=\"evenodd\" fill-opacity=\"1\" /><path clip-path=\"url(#clip750)\" d=\"M 0 0 M2186.52 1434.17 Q2185.26 1433.44 2183.77 1433.12 Q2182.31 1432.76 2180.52 1432.76 Q2174.21 1432.76 2170.8 1436.89 Q2167.44 1440.98 2167.44 1448.68 L2167.44 1472.58 L2159.95 1472.58 L2159.95 1427.21 L2167.44 1427.21 L2167.44 1434.25 Q2169.79 1430.12 2173.56 1428.14 Q2177.32 1426.11 2182.71 1426.11 Q2183.48 1426.11 2184.41 1426.23 Q2185.35 1426.31 2186.48 1426.52 L2186.52 1434.17 Z\" fill=\"#000000\" fill-rule=\"evenodd\" fill-opacity=\"1\" /><path clip-path=\"url(#clip750)\" d=\"M 0 0 M2201.55 1465.77 L2201.55 1489.83 L2194.05 1489.83 L2194.05 1427.21 L2201.55 1427.21 L2201.55 1434.09 Q2203.9 1430.04 2207.46 1428.1 Q2211.07 1426.11 2216.05 1426.11 Q2224.31 1426.11 2229.46 1432.67 Q2234.64 1439.24 2234.64 1449.93 Q2234.64 1460.63 2229.46 1467.19 Q2224.31 1473.75 2216.05 1473.75 Q2211.07 1473.75 2207.46 1471.81 Q2203.9 1469.82 2201.55 1465.77 M2226.91 1449.93 Q2226.91 1441.71 2223.5 1437.05 Q2220.14 1432.35 2214.23 1432.35 Q2208.31 1432.35 2204.91 1437.05 Q2201.55 1441.71 2201.55 1449.93 Q2201.55 1458.15 2204.91 1462.85 Q2208.31 1467.51 2214.23 1467.51 Q2220.14 1467.51 2223.5 1462.85 Q2226.91 1458.15 2226.91 1449.93 Z\" fill=\"#000000\" fill-rule=\"evenodd\" fill-opacity=\"1\" /><path clip-path=\"url(#clip750)\" d=\"M 0 0 M2260.04 1432.43 Q2254.05 1432.43 2250.56 1437.13 Q2247.08 1441.79 2247.08 1449.93 Q2247.08 1458.07 2250.52 1462.77 Q2254.01 1467.43 2260.04 1467.43 Q2266 1467.43 2269.48 1462.73 Q2272.97 1458.03 2272.97 1449.93 Q2272.97 1441.87 2269.48 1437.17 Q2266 1432.43 2260.04 1432.43 M2260.04 1426.11 Q2269.77 1426.11 2275.32 1432.43 Q2280.87 1438.75 2280.87 1449.93 Q2280.87 1461.07 2275.32 1467.43 Q2269.77 1473.75 2260.04 1473.75 Q2250.28 1473.75 2244.73 1467.43 Q2239.22 1461.07 2239.22 1449.93 Q2239.22 1438.75 2244.73 1432.43 Q2250.28 1426.11 2260.04 1426.11 Z\" fill=\"#000000\" fill-rule=\"evenodd\" fill-opacity=\"1\" /><path clip-path=\"url(#clip750)\" d=\"M 0 0 M2288.68 1409.54 L2296.14 1409.54 L2296.14 1472.58 L2288.68 1472.58 L2288.68 1409.54 Z\" fill=\"#000000\" fill-rule=\"evenodd\" fill-opacity=\"1\" /><path clip-path=\"url(#clip750)\" d=\"M 0 0 M2324.57 1449.77 Q2315.54 1449.77 2312.06 1451.84 Q2308.57 1453.9 2308.57 1458.88 Q2308.57 1462.85 2311.17 1465.2 Q2313.8 1467.51 2318.3 1467.51 Q2324.49 1467.51 2328.22 1463.14 Q2331.99 1458.72 2331.99 1451.43 L2331.99 1449.77 L2324.57 1449.77 M2339.44 1446.69 L2339.44 1472.58 L2331.99 1472.58 L2331.99 1465.69 Q2329.44 1469.82 2325.63 1471.81 Q2321.82 1473.75 2316.31 1473.75 Q2309.34 1473.75 2305.21 1469.86 Q2301.12 1465.93 2301.12 1459.37 Q2301.12 1451.71 2306.22 1447.82 Q2311.37 1443.94 2321.54 1443.94 L2331.99 1443.94 L2331.99 1443.21 Q2331.99 1438.06 2328.58 1435.27 Q2325.22 1432.43 2319.11 1432.43 Q2315.22 1432.43 2311.53 1433.36 Q2307.84 1434.29 2304.44 1436.16 L2304.44 1429.27 Q2308.53 1427.69 2312.38 1426.92 Q2316.23 1426.11 2319.88 1426.11 Q2329.72 1426.11 2334.58 1431.22 Q2339.44 1436.32 2339.44 1446.69 Z\" fill=\"#000000\" fill-rule=\"evenodd\" fill-opacity=\"1\" /><path clip-path=\"url(#clip750)\" d=\"M 0 0 M2354.63 1414.32 L2354.63 1427.21 L2369.99 1427.21 L2369.99 1433 L2354.63 1433 L2354.63 1457.63 Q2354.63 1463.18 2356.13 1464.76 Q2357.67 1466.34 2362.33 1466.34 L2369.99 1466.34 L2369.99 1472.58 L2362.33 1472.58 Q2353.7 1472.58 2350.42 1469.38 Q2347.14 1466.14 2347.14 1457.63 L2347.14 1433 L2341.67 1433 L2341.67 1427.21 L2347.14 1427.21 L2347.14 1414.32 L2354.63 1414.32 Z\" fill=\"#000000\" fill-rule=\"evenodd\" fill-opacity=\"1\" /><path clip-path=\"url(#clip750)\" d=\"M 0 0 M2416.61 1448.03 L2416.61 1451.67 L2382.34 1451.67 Q2382.83 1459.37 2386.96 1463.42 Q2391.13 1467.43 2398.54 1467.43 Q2402.84 1467.43 2406.85 1466.38 Q2410.9 1465.32 2414.87 1463.22 L2414.87 1470.27 Q2410.86 1471.97 2406.65 1472.86 Q2402.43 1473.75 2398.1 1473.75 Q2387.24 1473.75 2380.88 1467.43 Q2374.56 1461.11 2374.56 1450.34 Q2374.56 1439.2 2380.56 1432.67 Q2386.59 1426.11 2396.8 1426.11 Q2405.96 1426.11 2411.26 1432.03 Q2416.61 1437.9 2416.61 1448.03 M2409.16 1445.84 Q2409.08 1439.72 2405.71 1436.08 Q2402.39 1432.43 2396.88 1432.43 Q2390.64 1432.43 2386.88 1435.96 Q2383.15 1439.48 2382.58 1445.88 L2409.16 1445.84 Z\" fill=\"#000000\" fill-rule=\"evenodd\" fill-opacity=\"1\" /><path clip-path=\"url(#clip750)\" d=\"M 0 0 M2454.28 1434.09 L2454.28 1409.54 L2461.74 1409.54 L2461.74 1472.58 L2454.28 1472.58 L2454.28 1465.77 Q2451.94 1469.82 2448.33 1471.81 Q2444.76 1473.75 2439.74 1473.75 Q2431.52 1473.75 2426.33 1467.19 Q2421.19 1460.63 2421.19 1449.93 Q2421.19 1439.24 2426.33 1432.67 Q2431.52 1426.11 2439.74 1426.11 Q2444.76 1426.11 2448.33 1428.1 Q2451.94 1430.04 2454.28 1434.09 M2428.89 1449.93 Q2428.89 1458.15 2432.25 1462.85 Q2435.65 1467.51 2441.56 1467.51 Q2447.48 1467.51 2450.88 1462.85 Q2454.28 1458.15 2454.28 1449.93 Q2454.28 1441.71 2450.88 1437.05 Q2447.48 1432.35 2441.56 1432.35 Q2435.65 1432.35 2432.25 1437.05 Q2428.89 1441.71 2428.89 1449.93 Z\" fill=\"#000000\" fill-rule=\"evenodd\" fill-opacity=\"1\" /><polyline clip-path=\"url(#clip755)\" style=\"stroke:#009af9; stroke-width:8; stroke-opacity:1; fill:none\" points=\"\n",
       "  2188.7,1584.94 2188.7,1591.45 2188.7,1597.95 2188.7,1604.46 2188.7,1610.97 2188.7,1617.47 2188.7,1623.98 2188.7,1630.49 2188.7,1636.99 2188.7,1643.5 \n",
       "  2188.7,1650 2188.7,1656.51 2188.7,1663.02 2188.7,1669.52 2188.7,1676.03 2188.7,1682.54 2188.7,1689.04 2188.7,1695.55 2188.7,1702.05 2188.7,1708.56 \n",
       "  2188.7,1715.07 2188.7,1721.57 2188.7,1728.08 2188.7,1734.59 2188.7,1741.09 2188.7,1747.6 2180.56,1754.1 2180.56,1760.61 2180.56,1767.12 2180.56,1773.62 \n",
       "  2180.56,1780.13 2180.56,1786.63 2180.56,1793.14 2180.56,1799.65 2180.56,1806.15 2180.56,1812.66 2180.56,1819.17 2180.56,1825.67 2180.56,1832.18 2180.56,1838.68 \n",
       "  2180.56,1845.19 2180.56,1851.7 2180.56,1858.2 2180.56,1864.71 2180.56,1871.22 2180.56,1877.72 2180.56,1884.23 2180.56,1890.73 2180.56,1897.24 2180.56,1903.75 \n",
       "  2160.19,1910.25 2160.19,1916.76 2160.19,1923.27 2160.19,1929.77 2160.19,1936.28 2160.19,1942.78 2160.19,1949.29 2160.19,1955.8 2160.19,1962.3 2160.19,1968.81 \n",
       "  2160.19,1975.32 2160.19,1981.82 2160.19,1988.33 2160.19,1994.83 2160.19,2001.34 2160.19,2007.85 2160.19,2014.35 2160.19,2020.86 2160.19,2027.37 2160.19,2033.87 \n",
       "  2160.19,2040.38 2160.19,2046.88 2160.19,2053.39 2160.19,2059.9 2160.19,2066.4 2160.19,2072.91 2160.19,2079.42 2160.19,2085.92 2160.19,2092.43 2160.19,2098.93 \n",
       "  2160.19,2105.44 2160.19,2111.95 2160.19,2118.45 2160.19,2124.96 2184.63,2131.46 2184.63,2137.97 2184.63,2144.48 2184.63,2150.98 2184.63,2157.49 2184.63,2164 \n",
       "  2184.63,2170.5 2184.63,2177.01 2184.63,2183.51 2184.63,2190.02 2184.63,2196.53 2184.63,2203.03 2184.63,2209.54 2184.63,2216.05 2184.63,2222.55 2184.63,2229.06 \n",
       "  2184.63,2235.56 2184.63,2242.07 2184.63,2248.58 2184.63,2255.08 2184.63,2261.59 2184.63,2268.1 2184.63,2274.6 2184.63,2281.11 2184.63,2287.61 2184.63,2294.12 \n",
       "  2184.63,2300.63 2184.63,2307.13 2184.63,2313.64 2184.63,2320.15 2184.63,2326.65 2184.63,2333.16 2184.63,2339.66 2156.12,2346.17 2156.12,2352.68 2156.12,2359.18 \n",
       "  2156.12,2365.69 2156.12,2372.2 2156.12,2378.7 2156.12,2385.21 2156.12,2391.71 2156.12,2398.22 2156.12,2404.73 2156.12,2411.23 2156.12,2417.74 2156.12,2424.25 \n",
       "  2156.12,2430.75 2156.12,2437.26 2156.12,2443.76 2156.12,2450.27 2156.12,2456.78 2156.12,2463.28 2156.12,2469.79 2156.12,2476.29 2156.12,2482.8 2156.12,2489.31 \n",
       "  2156.12,2495.81 2156.12,2502.32 2156.12,2508.83 2156.12,2515.33 2156.12,2521.84 2156.12,2528.34 2156.12,2534.85 2156.12,2541.36 2111.32,2547.86 2111.32,2554.37 \n",
       "  2111.32,2560.88 2111.32,2567.38 2111.32,2573.89 2111.32,2580.39 2111.32,2586.9 2111.32,2593.41 2111.32,2599.91 2111.32,2606.42 2111.32,2612.93 2111.32,2619.43 \n",
       "  2111.32,2625.94 \n",
       "  \"/>\n",
       "</svg>\n"
      ]
     },
     "execution_count": 7,
     "metadata": {},
     "output_type": "execute_result"
    }
   ],
   "source": [
    "\n",
    "profile = filt_hz[filt_hz.WISE3_ID.==\"AL0007\",:]\n",
    "\n",
    "#top and bottom for each section\n",
    "td = profile.TOPDEP\n",
    "bp = profile.BOTDEP\n",
    "\n",
    "#values\n",
    "blk = profile.BULKDENS\n",
    "orgc = profile.ORGC\t\n",
    "\n",
    "#plotting utilities\n",
    "y_mid = (td .+ bp)./2 #mid-depth for each measurement section within a profile\n",
    "y_lim = [-maximum(bp),minimum(td)]\n",
    "x_lim_orgc = [0,maximum(orgc)*1.5]\n",
    "x_lim_blk = [0,maximum(blk)*1.5]\n",
    "\n",
    "#merge TOP and BOT depth vectors\t\n",
    "y_sections = sort!(cat(td,bp, dims=1))\n",
    "y_linear = [i for i in minimum(td):maximum(bp)]\n",
    "\n",
    "#duplicate ORGC readings at each TOP/BOT end (for later interpolation)\n",
    "orgc_ends = v_double(orgc) \n",
    "blk_ends = v_double(blk) \n",
    "\n",
    "#interpolation up to SOLDEP (= Max BOTDEP for profile) - given how the arrays are built, the results are the same as if we'd used a constant interpolation alg\n",
    "\n",
    "orgc_interp = LinearInterpolation(y_sections, orgc_ends)\n",
    "orgc_calc = orgc_interp.(y_linear)\n",
    "\n",
    "blk_interp = LinearInterpolation(y_sections, blk_ends)\n",
    "blk_calc = blk_interp.(y_linear)\n",
    "\n",
    "# ORGC plot, original values\n",
    "p_orgc_or=scatter(orgc,-y_mid, legend=nothing, xlim=x_lim_orgc, ylim=y_lim, title=\"ORGC original\")\n",
    "\n",
    "# ORGC plot, interpolated values\n",
    "p_orgc_in = plot(orgc_calc,-y_linear, legend=nothing, xlim=x_lim_orgc, linewidth=2, ylim=y_lim, title=\"ORGC interpolated\")\n",
    "\n",
    "# BULKDENS plot, original values\n",
    "p_blk_or =scatter(blk,-y_mid, legend=nothing, xlim=x_lim_blk, ylim=y_lim, title=\"BULKDENS original\")\n",
    "\n",
    "# BULKDENS plot, interpolated values\n",
    "p_blk_in = plot(blk_calc,-y_linear, legend=nothing, xlim=x_lim_blk, linewidth=2, ylim=y_lim, title=\"BULKDENS interpolated\")\n",
    "\n",
    "\n",
    "plot(p_orgc_or, p_orgc_in, p_blk_or, p_blk_in, layout=4, size=(650,700))\n",
    "\n"
   ]
  },
  {
   "cell_type": "markdown",
   "metadata": {},
   "source": [
    "As we have (interpolated) BULKDENS and ORGC values for each 1cm slice of soil, from 1cm to SOLDEP of depth, we can now calculate total ORGC stored in 1m²xSOLDEP of soil.\n",
    "\n",
    "Given the dataset, we'll have to calculate storage as:\\\n",
    "BULKDENS [g / cm³] x AREA [m²] x ORGC [g / Kg] down to SOLDEP, 1cm at a time\n",
    "\n",
    "The result will be in Kgs."
   ]
  },
  {
   "cell_type": "markdown",
   "metadata": {},
   "source": [
    "Generalizing the approach above, I define a function that I can call on each profile:"
   ]
  },
  {
   "cell_type": "code",
   "execution_count": 8,
   "metadata": {},
   "outputs": [
    {
     "data": {
      "text/plain": [
       "orgc_storage_int (generic function with 1 method)"
      ]
     },
     "execution_count": 8,
     "metadata": {},
     "output_type": "execute_result"
    }
   ],
   "source": [
    "function orgc_storage_int(profile) \n",
    "\n",
    "top = profile.TOPDEP\n",
    "bot = profile.BOTDEP\n",
    "\n",
    "blk_temp = profile.BULKDENS\n",
    "orgc_temp = profile.ORGC\n",
    "\n",
    "y_linear = [i for i in minimum(top):maximum(bot)]\n",
    "\n",
    "#doubled vectors for use in interpolation\n",
    "y_sections = sort!(cat(top,bot,dims=1)) \t\n",
    "orgc = v_double(orgc_temp)\n",
    "blk = v_double(blk_temp) \n",
    "\n",
    "#interpolation\n",
    "orgc_interp = LinearInterpolation(y_sections,orgc)\n",
    "orgc_values = orgc_interp.(y_linear)\n",
    "\n",
    "blk_interp = LinearInterpolation(y_sections,blk)\n",
    "blk_values = blk_interp.(y_linear)\n",
    "\n",
    "#ORGC mass calculation\t(1cm x 1m² slices)\n",
    "stored_orgc = [blk_values[i]*orgc_values[i]*(1/100) for i in 1:length(y_linear)]\n",
    "\n",
    "return sum(stored_orgc) \n",
    "\n",
    "\n",
    "end\n"
   ]
  },
  {
   "cell_type": "markdown",
   "metadata": {},
   "source": [
    "I also define a function to calculate the stored ORGC in a simpler way:"
   ]
  },
  {
   "cell_type": "code",
   "execution_count": 9,
   "metadata": {},
   "outputs": [
    {
     "data": {
      "text/plain": [
       "orgc_storage_std (generic function with 1 method)"
      ]
     },
     "execution_count": 9,
     "metadata": {},
     "output_type": "execute_result"
    }
   ],
   "source": [
    "function orgc_storage_std(profile) \n",
    "\n",
    "top = profile.TOPDEP\n",
    "bot = profile.BOTDEP\n",
    "\n",
    "blk = profile.BULKDENS\n",
    "orgc = profile.ORGC\n",
    "\n",
    "soldep = maximum(bot) #[cm]\n",
    "\n",
    "section_height = (bot.-top)\n",
    "\n",
    "mass=0.0\n",
    "for sc in 1:length(section_height)\n",
    "\n",
    "    mass += blk[sc]*orgc[sc]*section_height[sc]/100\n",
    "end\n",
    "\n",
    "return mass\n",
    "end\n"
   ]
  },
  {
   "cell_type": "markdown",
   "metadata": {},
   "source": [
    "I call both functions on each profile in the dataset:"
   ]
  },
  {
   "cell_type": "code",
   "execution_count": 10,
   "metadata": {
    "scrolled": true
   },
   "outputs": [],
   "source": [
    "\n",
    "soil_profiles = unique(filt_hz.WISE3_ID)\n",
    "\n",
    "orgc_mass_int = Dict()\n",
    "orgc_mass_std = Dict()\n",
    "\n",
    "\n",
    "for prof in soil_profiles\n",
    "    orgc_mass_int[prof] = orgc_storage_int(filt_hz[filt_hz.WISE3_ID.==prof,:])\n",
    "    orgc_mass_std[prof] = orgc_storage_std(filt_hz[filt_hz.WISE3_ID.==prof,:])\n",
    "end\n",
    "\n"
   ]
  },
  {
   "cell_type": "code",
   "execution_count": 11,
   "metadata": {},
   "outputs": [
    {
     "data": {
      "text/plain": [
       "45229.17349360983"
      ]
     },
     "execution_count": 11,
     "metadata": {},
     "output_type": "execute_result"
    }
   ],
   "source": [
    "c_storage_interp = sum(values(orgc_mass_int)); c_storage_std = sum(values(orgc_mass_std))"
   ]
  },
  {
   "cell_type": "code",
   "execution_count": 12,
   "metadata": {},
   "outputs": [
    {
     "data": {
      "text/plain": [
       "3311.101578169495"
      ]
     },
     "execution_count": 12,
     "metadata": {},
     "output_type": "execute_result"
    }
   ],
   "source": [
    "c_storage_interp - c_storage_std"
   ]
  },
  {
   "cell_type": "markdown",
   "metadata": {},
   "source": [
    "There seems to be a 3tons difference in storage depending on the method used, with std being more conservative."
   ]
  },
  {
   "cell_type": "markdown",
   "metadata": {},
   "source": [
    "Turn results stored in Dict to DF"
   ]
  },
  {
   "cell_type": "code",
   "execution_count": 13,
   "metadata": {
    "scrolled": true
   },
   "outputs": [],
   "source": [
    "stored_ORGC_int = sort!(DataFrame(WISE3_ID = String.(keys(orgc_mass_int)), \n",
    "                                STORED_ORGC = Float64.(values(orgc_mass_int))));"
   ]
  },
  {
   "cell_type": "code",
   "execution_count": 14,
   "metadata": {},
   "outputs": [],
   "source": [
    "stored_ORGC_std = sort!(DataFrame(WISE3_ID = String.(keys(orgc_mass_std)), \n",
    "                                    STORED_ORGC = Float64.(values(orgc_mass_std))));"
   ]
  },
  {
   "cell_type": "markdown",
   "metadata": {},
   "source": [
    "Let's enrich the data with extra information for each profile:"
   ]
  },
  {
   "cell_type": "code",
   "execution_count": 15,
   "metadata": {
    "scrolled": true
   },
   "outputs": [
    {
     "data": {
      "text/html": [
       "<table class=\"data-frame\"><thead><tr><th></th><th>WISE3_id</th><th>ISO</th><th>DESCR</th><th>DATEYR</th><th>DATEMON</th><th>SOLDEP</th><th>HORNUM</th><th>FAO_90</th><th>PHA_90</th><th>FAO_74</th></tr><tr><th></th><th>String</th><th>String</th><th>Int64</th><th>Int64?</th><th>Int64?</th><th>Int64</th><th>Int64</th><th>String</th><th>String?</th><th>String?</th></tr></thead><tbody><p>10,253 rows × 31 columns (omitted printing of 21 columns)</p><tr><th>1</th><td>AF0001</td><td>AF</td><td>3</td><td>1962</td><td><em>missing</em></td><td>150</td><td>3</td><td>CLl</td><td><em>missing</em></td><td>Bk</td></tr><tr><th>2</th><td>AF0002</td><td>AF</td><td>3</td><td>1962</td><td><em>missing</em></td><td>170</td><td>4</td><td>FLc</td><td><em>missing</em></td><td>Jc</td></tr><tr><th>3</th><td>AF0003</td><td>AF</td><td>3</td><td>1962</td><td><em>missing</em></td><td>110</td><td>3</td><td>FLc</td><td><em>missing</em></td><td>Jc</td></tr><tr><th>4</th><td>AF0004</td><td>AF</td><td>3</td><td>1962</td><td><em>missing</em></td><td>270</td><td>6</td><td>SCg</td><td><em>missing</em></td><td>Zo</td></tr><tr><th>5</th><td>AF0005</td><td>AF</td><td>3</td><td>1962</td><td><em>missing</em></td><td>190</td><td>6</td><td>SCk</td><td><em>missing</em></td><td>Zo</td></tr><tr><th>6</th><td>AL0001</td><td>AL</td><td>4</td><td>1981</td><td>9</td><td>94</td><td>4</td><td>LVk</td><td><em>missing</em></td><td>Lk</td></tr><tr><th>7</th><td>AL0002</td><td>AL</td><td>4</td><td>1983</td><td>9</td><td>87</td><td>3</td><td>LPk</td><td><em>missing</em></td><td>Be</td></tr><tr><th>8</th><td>AL0003</td><td>AL</td><td>4</td><td>1985</td><td>12</td><td>85</td><td>3</td><td>LVf</td><td><em>missing</em></td><td>Lf</td></tr><tr><th>9</th><td>AL0004</td><td>AL</td><td>4</td><td>1991</td><td>11</td><td>120</td><td>6</td><td>CMc</td><td><em>missing</em></td><td>Bk</td></tr><tr><th>10</th><td>AL0005</td><td>AL</td><td>4</td><td>1991</td><td>10</td><td>170</td><td>5</td><td>FLc</td><td><em>missing</em></td><td>Jc</td></tr><tr><th>11</th><td>AL0006</td><td>AL</td><td>4</td><td>1991</td><td>11</td><td>170</td><td>5</td><td>FLc</td><td><em>missing</em></td><td>Jc</td></tr><tr><th>12</th><td>AL0007</td><td>AL</td><td>1</td><td>1994</td><td>4</td><td>160</td><td>6</td><td>CMc</td><td><em>missing</em></td><td>Be</td></tr><tr><th>13</th><td>AL0008</td><td>AL</td><td>1</td><td>1994</td><td>4</td><td>100</td><td>4</td><td>CMc</td><td><em>missing</em></td><td>Be</td></tr><tr><th>14</th><td>AL0009</td><td>AL</td><td>1</td><td>1994</td><td>4</td><td>110</td><td>6</td><td>KSk</td><td><em>missing</em></td><td>Kk</td></tr><tr><th>15</th><td>AL0010</td><td>AL</td><td>1</td><td>1994</td><td>3</td><td>110</td><td>5</td><td>KSk</td><td><em>missing</em></td><td>Kk</td></tr><tr><th>16</th><td>AL0011</td><td>AL</td><td>1</td><td>1994</td><td>4</td><td>130</td><td>6</td><td>LVg</td><td><em>missing</em></td><td>Lg</td></tr><tr><th>17</th><td>AL0012</td><td>AL</td><td>1</td><td>1994</td><td>5</td><td>173</td><td>7</td><td>LVh</td><td><em>missing</em></td><td>Lo</td></tr><tr><th>18</th><td>AL0013</td><td>AL</td><td>1</td><td>1994</td><td>4</td><td>180</td><td>6</td><td>LVh</td><td><em>missing</em></td><td>Lo</td></tr><tr><th>19</th><td>AL0014</td><td>AL</td><td>1</td><td>1994</td><td>4</td><td>130</td><td>5</td><td>LVx</td><td><em>missing</em></td><td>Lc</td></tr><tr><th>20</th><td>AL0015</td><td>AL</td><td>1</td><td>1994</td><td>4</td><td>180</td><td>6</td><td>PHh</td><td><em>missing</em></td><td>Hh</td></tr><tr><th>21</th><td>AL0016</td><td>AL</td><td>1</td><td>1994</td><td>4</td><td>121</td><td>6</td><td>PHh</td><td><em>missing</em></td><td>Hh</td></tr><tr><th>22</th><td>AL0017</td><td>AL</td><td>1</td><td>1994</td><td>3</td><td>170</td><td>8</td><td>PHj</td><td><em>missing</em></td><td>Hg</td></tr><tr><th>23</th><td>AL0018</td><td>AL</td><td>1</td><td>1994</td><td>4</td><td>153</td><td>6</td><td>PHl</td><td><em>missing</em></td><td>Hl</td></tr><tr><th>24</th><td>AL0019</td><td>AL</td><td>1</td><td>1994</td><td>3</td><td>137</td><td>6</td><td>SCn</td><td><em>missing</em></td><td>Zo</td></tr><tr><th>25</th><td>AL0020</td><td>AL</td><td>1</td><td>1994</td><td>4</td><td>170</td><td>7</td><td>VRe</td><td>SO</td><td>Vp</td></tr><tr><th>26</th><td>AL0021</td><td>AL</td><td>1</td><td>1994</td><td>4</td><td>180</td><td>6</td><td>VRe</td><td><em>missing</em></td><td>Vc</td></tr><tr><th>27</th><td>AL0022</td><td>AL</td><td>1</td><td>1994</td><td>4</td><td>120</td><td>5</td><td>VRe</td><td><em>missing</em></td><td>Vc</td></tr><tr><th>28</th><td>AL0023</td><td>AL</td><td>1</td><td>1994</td><td>4</td><td>175</td><td>7</td><td>VRe</td><td><em>missing</em></td><td>Vc</td></tr><tr><th>29</th><td>AL0024</td><td>AL</td><td>1</td><td>1995</td><td>6</td><td>180</td><td>7</td><td>CMc</td><td><em>missing</em></td><td>Bk</td></tr><tr><th>30</th><td>AL0025</td><td>AL</td><td>1</td><td>1995</td><td>6</td><td>140</td><td>6</td><td>CMc</td><td><em>missing</em></td><td>Bk</td></tr><tr><th>&vellip;</th><td>&vellip;</td><td>&vellip;</td><td>&vellip;</td><td>&vellip;</td><td>&vellip;</td><td>&vellip;</td><td>&vellip;</td><td>&vellip;</td><td>&vellip;</td><td>&vellip;</td></tr></tbody></table>"
      ],
      "text/latex": [
       "\\begin{tabular}{r|ccccccccccc}\n",
       "\t& WISE3\\_id & ISO & DESCR & DATEYR & DATEMON & SOLDEP & HORNUM & FAO\\_90 & PHA\\_90 & FAO\\_74 & \\\\\n",
       "\t\\hline\n",
       "\t& String & String & Int64 & Int64? & Int64? & Int64 & Int64 & String & String? & String? & \\\\\n",
       "\t\\hline\n",
       "\t1 & AF0001 & AF & 3 & 1962 & \\emph{missing} & 150 & 3 & CLl & \\emph{missing} & Bk & $\\dots$ \\\\\n",
       "\t2 & AF0002 & AF & 3 & 1962 & \\emph{missing} & 170 & 4 & FLc & \\emph{missing} & Jc & $\\dots$ \\\\\n",
       "\t3 & AF0003 & AF & 3 & 1962 & \\emph{missing} & 110 & 3 & FLc & \\emph{missing} & Jc & $\\dots$ \\\\\n",
       "\t4 & AF0004 & AF & 3 & 1962 & \\emph{missing} & 270 & 6 & SCg & \\emph{missing} & Zo & $\\dots$ \\\\\n",
       "\t5 & AF0005 & AF & 3 & 1962 & \\emph{missing} & 190 & 6 & SCk & \\emph{missing} & Zo & $\\dots$ \\\\\n",
       "\t6 & AL0001 & AL & 4 & 1981 & 9 & 94 & 4 & LVk & \\emph{missing} & Lk & $\\dots$ \\\\\n",
       "\t7 & AL0002 & AL & 4 & 1983 & 9 & 87 & 3 & LPk & \\emph{missing} & Be & $\\dots$ \\\\\n",
       "\t8 & AL0003 & AL & 4 & 1985 & 12 & 85 & 3 & LVf & \\emph{missing} & Lf & $\\dots$ \\\\\n",
       "\t9 & AL0004 & AL & 4 & 1991 & 11 & 120 & 6 & CMc & \\emph{missing} & Bk & $\\dots$ \\\\\n",
       "\t10 & AL0005 & AL & 4 & 1991 & 10 & 170 & 5 & FLc & \\emph{missing} & Jc & $\\dots$ \\\\\n",
       "\t11 & AL0006 & AL & 4 & 1991 & 11 & 170 & 5 & FLc & \\emph{missing} & Jc & $\\dots$ \\\\\n",
       "\t12 & AL0007 & AL & 1 & 1994 & 4 & 160 & 6 & CMc & \\emph{missing} & Be & $\\dots$ \\\\\n",
       "\t13 & AL0008 & AL & 1 & 1994 & 4 & 100 & 4 & CMc & \\emph{missing} & Be & $\\dots$ \\\\\n",
       "\t14 & AL0009 & AL & 1 & 1994 & 4 & 110 & 6 & KSk & \\emph{missing} & Kk & $\\dots$ \\\\\n",
       "\t15 & AL0010 & AL & 1 & 1994 & 3 & 110 & 5 & KSk & \\emph{missing} & Kk & $\\dots$ \\\\\n",
       "\t16 & AL0011 & AL & 1 & 1994 & 4 & 130 & 6 & LVg & \\emph{missing} & Lg & $\\dots$ \\\\\n",
       "\t17 & AL0012 & AL & 1 & 1994 & 5 & 173 & 7 & LVh & \\emph{missing} & Lo & $\\dots$ \\\\\n",
       "\t18 & AL0013 & AL & 1 & 1994 & 4 & 180 & 6 & LVh & \\emph{missing} & Lo & $\\dots$ \\\\\n",
       "\t19 & AL0014 & AL & 1 & 1994 & 4 & 130 & 5 & LVx & \\emph{missing} & Lc & $\\dots$ \\\\\n",
       "\t20 & AL0015 & AL & 1 & 1994 & 4 & 180 & 6 & PHh & \\emph{missing} & Hh & $\\dots$ \\\\\n",
       "\t21 & AL0016 & AL & 1 & 1994 & 4 & 121 & 6 & PHh & \\emph{missing} & Hh & $\\dots$ \\\\\n",
       "\t22 & AL0017 & AL & 1 & 1994 & 3 & 170 & 8 & PHj & \\emph{missing} & Hg & $\\dots$ \\\\\n",
       "\t23 & AL0018 & AL & 1 & 1994 & 4 & 153 & 6 & PHl & \\emph{missing} & Hl & $\\dots$ \\\\\n",
       "\t24 & AL0019 & AL & 1 & 1994 & 3 & 137 & 6 & SCn & \\emph{missing} & Zo & $\\dots$ \\\\\n",
       "\t25 & AL0020 & AL & 1 & 1994 & 4 & 170 & 7 & VRe & SO & Vp & $\\dots$ \\\\\n",
       "\t26 & AL0021 & AL & 1 & 1994 & 4 & 180 & 6 & VRe & \\emph{missing} & Vc & $\\dots$ \\\\\n",
       "\t27 & AL0022 & AL & 1 & 1994 & 4 & 120 & 5 & VRe & \\emph{missing} & Vc & $\\dots$ \\\\\n",
       "\t28 & AL0023 & AL & 1 & 1994 & 4 & 175 & 7 & VRe & \\emph{missing} & Vc & $\\dots$ \\\\\n",
       "\t29 & AL0024 & AL & 1 & 1995 & 6 & 180 & 7 & CMc & \\emph{missing} & Bk & $\\dots$ \\\\\n",
       "\t30 & AL0025 & AL & 1 & 1995 & 6 & 140 & 6 & CMc & \\emph{missing} & Bk & $\\dots$ \\\\\n",
       "\t$\\dots$ & $\\dots$ & $\\dots$ & $\\dots$ & $\\dots$ & $\\dots$ & $\\dots$ & $\\dots$ & $\\dots$ & $\\dots$ & $\\dots$ &  \\\\\n",
       "\\end{tabular}\n"
      ],
      "text/plain": [
       "\u001b[1m10253×31 DataFrame\u001b[0m\n",
       "\u001b[1m   Row \u001b[0m│\u001b[1m WISE3_id \u001b[0m\u001b[1m ISO    \u001b[0m\u001b[1m DESCR \u001b[0m\u001b[1m DATEYR \u001b[0m\u001b[1m DATEMON \u001b[0m\u001b[1m SOLDEP \u001b[0m\u001b[1m HORNUM \u001b[0m\u001b[1m FAO_90 \u001b[0m\u001b[1m PHA\u001b[0m ⋯\n",
       "\u001b[1m       \u001b[0m│\u001b[90m String   \u001b[0m\u001b[90m String \u001b[0m\u001b[90m Int64 \u001b[0m\u001b[90m Int64? \u001b[0m\u001b[90m Int64?  \u001b[0m\u001b[90m Int64  \u001b[0m\u001b[90m Int64  \u001b[0m\u001b[90m String \u001b[0m\u001b[90m Str\u001b[0m ⋯\n",
       "───────┼────────────────────────────────────────────────────────────────────────\n",
       "     1 │ AF0001    AF          3    1962 \u001b[90m missing \u001b[0m    150       3  CLl    \u001b[90m mis\u001b[0m ⋯\n",
       "     2 │ AF0002    AF          3    1962 \u001b[90m missing \u001b[0m    170       4  FLc    \u001b[90m mis\u001b[0m\n",
       "     3 │ AF0003    AF          3    1962 \u001b[90m missing \u001b[0m    110       3  FLc    \u001b[90m mis\u001b[0m\n",
       "     4 │ AF0004    AF          3    1962 \u001b[90m missing \u001b[0m    270       6  SCg    \u001b[90m mis\u001b[0m\n",
       "     5 │ AF0005    AF          3    1962 \u001b[90m missing \u001b[0m    190       6  SCk    \u001b[90m mis\u001b[0m ⋯\n",
       "     6 │ AL0001    AL          4    1981        9      94       4  LVk    \u001b[90m mis\u001b[0m\n",
       "     7 │ AL0002    AL          4    1983        9      87       3  LPk    \u001b[90m mis\u001b[0m\n",
       "     8 │ AL0003    AL          4    1985       12      85       3  LVf    \u001b[90m mis\u001b[0m\n",
       "     9 │ AL0004    AL          4    1991       11     120       6  CMc    \u001b[90m mis\u001b[0m ⋯\n",
       "    10 │ AL0005    AL          4    1991       10     170       5  FLc    \u001b[90m mis\u001b[0m\n",
       "    11 │ AL0006    AL          4    1991       11     170       5  FLc    \u001b[90m mis\u001b[0m\n",
       "   ⋮   │    ⋮        ⋮       ⋮      ⋮        ⋮       ⋮       ⋮       ⋮         ⋱\n",
       " 10244 │ ZW0058    ZW          3    1991 \u001b[90m missing \u001b[0m    200       6  ARo    \u001b[90m mis\u001b[0m\n",
       " 10245 │ ZW0059    ZW          2    1991 \u001b[90m missing \u001b[0m    200       6  FRr    \u001b[90m mis\u001b[0m ⋯\n",
       " 10246 │ ZW0060    ZW          2    1991 \u001b[90m missing \u001b[0m    200       6  FRr    \u001b[90m mis\u001b[0m\n",
       " 10247 │ ZW0061    ZW          1    1991        2     150       6  FRr    \u001b[90m mis\u001b[0m\n",
       " 10248 │ ZW0062    ZW          2    1991 \u001b[90m missing \u001b[0m     94       4  LVx    \u001b[90m mis\u001b[0m\n",
       " 10249 │ ZW0063    ZW          2    1991 \u001b[90m missing \u001b[0m    138       6  LXh    \u001b[90m mis\u001b[0m ⋯\n",
       " 10250 │ ZW0064    ZW          2    1991 \u001b[90m missing \u001b[0m    200       6  LXh    \u001b[90m mis\u001b[0m\n",
       " 10251 │ ZW0065    ZW          2    1991 \u001b[90m missing \u001b[0m     68       4  PHl    \u001b[90m mis\u001b[0m\n",
       " 10252 │ ZW0066    ZW          2    1991 \u001b[90m missing \u001b[0m     92       3  VRe    \u001b[90m mis\u001b[0m\n",
       " 10253 │ ZW0067    ZW          1    1992        6     220       7  PTa    \u001b[90m mis\u001b[0m ⋯\n",
       "\u001b[31m                                               23 columns and 10232 rows omitted\u001b[0m"
      ]
     },
     "execution_count": 15,
     "metadata": {},
     "output_type": "execute_result"
    }
   ],
   "source": [
    "df_site = CSV.read(download(\"https://drive.google.com/uc?export=download&id=1mki-fWQDwmoimO87TxboJJA69usr66P_\"), DataFrame)"
   ]
  },
  {
   "cell_type": "markdown",
   "metadata": {},
   "source": [
    "Pick only relevant columns from the SITE dataset:"
   ]
  },
  {
   "cell_type": "code",
   "execution_count": 16,
   "metadata": {
    "scrolled": true
   },
   "outputs": [
    {
     "data": {
      "text/html": [
       "<table class=\"data-frame\"><thead><tr><th></th><th>WISE3_ID</th><th>DATEYR</th><th>SOLDEP</th><th>LONDD</th><th>LATDD</th></tr><tr><th></th><th>String</th><th>Int64?</th><th>Int64</th><th>Float64</th><th>Float64</th></tr></thead><tbody><p>8,186 rows × 5 columns</p><tr><th>1</th><td>AF0001</td><td>1962</td><td>150</td><td>69.1667</td><td>34.5</td></tr><tr><th>2</th><td>AF0002</td><td>1962</td><td>170</td><td>69.1667</td><td>34.5</td></tr><tr><th>3</th><td>AF0003</td><td>1962</td><td>110</td><td>69.1667</td><td>34.5</td></tr><tr><th>4</th><td>AF0004</td><td>1962</td><td>270</td><td>61.4333</td><td>34.3333</td></tr><tr><th>5</th><td>AF0005</td><td>1962</td><td>190</td><td>62.1333</td><td>32.3833</td></tr><tr><th>6</th><td>AL0001</td><td>1981</td><td>94</td><td>20.75</td><td>40.6167</td></tr><tr><th>7</th><td>AL0002</td><td>1983</td><td>87</td><td>20.3006</td><td>39.635</td></tr><tr><th>8</th><td>AL0003</td><td>1985</td><td>85</td><td>20.3861</td><td>42.2222</td></tr><tr><th>9</th><td>AL0004</td><td>1991</td><td>120</td><td>19.5611</td><td>41.0778</td></tr><tr><th>10</th><td>AL0005</td><td>1991</td><td>170</td><td>19.5111</td><td>41.4236</td></tr><tr><th>11</th><td>AL0006</td><td>1991</td><td>170</td><td>19.5408</td><td>41.1767</td></tr><tr><th>12</th><td>AL0007</td><td>1994</td><td>160</td><td>19.9956</td><td>41.0694</td></tr><tr><th>13</th><td>AL0008</td><td>1994</td><td>100</td><td>20.6472</td><td>40.215</td></tr><tr><th>14</th><td>AL0009</td><td>1994</td><td>110</td><td>20.7844</td><td>40.6372</td></tr><tr><th>15</th><td>AL0010</td><td>1994</td><td>110</td><td>19.4836</td><td>40.3453</td></tr><tr><th>16</th><td>AL0011</td><td>1994</td><td>130</td><td>19.7703</td><td>41.3778</td></tr><tr><th>17</th><td>AL0012</td><td>1994</td><td>173</td><td>20.9589</td><td>40.6553</td></tr><tr><th>18</th><td>AL0013</td><td>1994</td><td>180</td><td>20.7325</td><td>40.5644</td></tr><tr><th>19</th><td>AL0014</td><td>1994</td><td>130</td><td>20.4064</td><td>41.6928</td></tr><tr><th>20</th><td>AL0015</td><td>1994</td><td>180</td><td>19.7625</td><td>41.37</td></tr><tr><th>21</th><td>AL0016</td><td>1994</td><td>121</td><td>20.7108</td><td>40.7217</td></tr><tr><th>22</th><td>AL0017</td><td>1994</td><td>170</td><td>20.0267</td><td>39.8175</td></tr><tr><th>23</th><td>AL0018</td><td>1994</td><td>153</td><td>19.5097</td><td>42.0919</td></tr><tr><th>24</th><td>AL0019</td><td>1994</td><td>137</td><td>92.4167</td><td>40.7156</td></tr><tr><th>25</th><td>AL0020</td><td>1994</td><td>170</td><td>19.6461</td><td>40.9858</td></tr><tr><th>26</th><td>AL0021</td><td>1994</td><td>180</td><td>19.9942</td><td>41.6275</td></tr><tr><th>27</th><td>AL0022</td><td>1994</td><td>120</td><td>20.325</td><td>42.075</td></tr><tr><th>28</th><td>AL0023</td><td>1994</td><td>175</td><td>19.6875</td><td>40.9508</td></tr><tr><th>29</th><td>AL0024</td><td>1995</td><td>180</td><td>19.5269</td><td>42.0008</td></tr><tr><th>30</th><td>AL0025</td><td>1995</td><td>140</td><td>19.6836</td><td>41.6378</td></tr><tr><th>&vellip;</th><td>&vellip;</td><td>&vellip;</td><td>&vellip;</td><td>&vellip;</td><td>&vellip;</td></tr></tbody></table>"
      ],
      "text/latex": [
       "\\begin{tabular}{r|ccccc}\n",
       "\t& WISE3\\_ID & DATEYR & SOLDEP & LONDD & LATDD\\\\\n",
       "\t\\hline\n",
       "\t& String & Int64? & Int64 & Float64 & Float64\\\\\n",
       "\t\\hline\n",
       "\t1 & AF0001 & 1962 & 150 & 69.1667 & 34.5 \\\\\n",
       "\t2 & AF0002 & 1962 & 170 & 69.1667 & 34.5 \\\\\n",
       "\t3 & AF0003 & 1962 & 110 & 69.1667 & 34.5 \\\\\n",
       "\t4 & AF0004 & 1962 & 270 & 61.4333 & 34.3333 \\\\\n",
       "\t5 & AF0005 & 1962 & 190 & 62.1333 & 32.3833 \\\\\n",
       "\t6 & AL0001 & 1981 & 94 & 20.75 & 40.6167 \\\\\n",
       "\t7 & AL0002 & 1983 & 87 & 20.3006 & 39.635 \\\\\n",
       "\t8 & AL0003 & 1985 & 85 & 20.3861 & 42.2222 \\\\\n",
       "\t9 & AL0004 & 1991 & 120 & 19.5611 & 41.0778 \\\\\n",
       "\t10 & AL0005 & 1991 & 170 & 19.5111 & 41.4236 \\\\\n",
       "\t11 & AL0006 & 1991 & 170 & 19.5408 & 41.1767 \\\\\n",
       "\t12 & AL0007 & 1994 & 160 & 19.9956 & 41.0694 \\\\\n",
       "\t13 & AL0008 & 1994 & 100 & 20.6472 & 40.215 \\\\\n",
       "\t14 & AL0009 & 1994 & 110 & 20.7844 & 40.6372 \\\\\n",
       "\t15 & AL0010 & 1994 & 110 & 19.4836 & 40.3453 \\\\\n",
       "\t16 & AL0011 & 1994 & 130 & 19.7703 & 41.3778 \\\\\n",
       "\t17 & AL0012 & 1994 & 173 & 20.9589 & 40.6553 \\\\\n",
       "\t18 & AL0013 & 1994 & 180 & 20.7325 & 40.5644 \\\\\n",
       "\t19 & AL0014 & 1994 & 130 & 20.4064 & 41.6928 \\\\\n",
       "\t20 & AL0015 & 1994 & 180 & 19.7625 & 41.37 \\\\\n",
       "\t21 & AL0016 & 1994 & 121 & 20.7108 & 40.7217 \\\\\n",
       "\t22 & AL0017 & 1994 & 170 & 20.0267 & 39.8175 \\\\\n",
       "\t23 & AL0018 & 1994 & 153 & 19.5097 & 42.0919 \\\\\n",
       "\t24 & AL0019 & 1994 & 137 & 92.4167 & 40.7156 \\\\\n",
       "\t25 & AL0020 & 1994 & 170 & 19.6461 & 40.9858 \\\\\n",
       "\t26 & AL0021 & 1994 & 180 & 19.9942 & 41.6275 \\\\\n",
       "\t27 & AL0022 & 1994 & 120 & 20.325 & 42.075 \\\\\n",
       "\t28 & AL0023 & 1994 & 175 & 19.6875 & 40.9508 \\\\\n",
       "\t29 & AL0024 & 1995 & 180 & 19.5269 & 42.0008 \\\\\n",
       "\t30 & AL0025 & 1995 & 140 & 19.6836 & 41.6378 \\\\\n",
       "\t$\\dots$ & $\\dots$ & $\\dots$ & $\\dots$ & $\\dots$ & $\\dots$ \\\\\n",
       "\\end{tabular}\n"
      ],
      "text/plain": [
       "\u001b[1m8186×5 DataFrame\u001b[0m\n",
       "\u001b[1m  Row \u001b[0m│\u001b[1m WISE3_ID \u001b[0m\u001b[1m DATEYR \u001b[0m\u001b[1m SOLDEP \u001b[0m\u001b[1m LONDD   \u001b[0m\u001b[1m LATDD    \u001b[0m\n",
       "\u001b[1m      \u001b[0m│\u001b[90m String   \u001b[0m\u001b[90m Int64? \u001b[0m\u001b[90m Int64  \u001b[0m\u001b[90m Float64 \u001b[0m\u001b[90m Float64  \u001b[0m\n",
       "──────┼─────────────────────────────────────────────\n",
       "    1 │ AF0001      1962     150  69.1667   34.5\n",
       "    2 │ AF0002      1962     170  69.1667   34.5\n",
       "    3 │ AF0003      1962     110  69.1667   34.5\n",
       "    4 │ AF0004      1962     270  61.4333   34.3333\n",
       "    5 │ AF0005      1962     190  62.1333   32.3833\n",
       "    6 │ AL0001      1981      94  20.75     40.6167\n",
       "    7 │ AL0002      1983      87  20.3006   39.635\n",
       "    8 │ AL0003      1985      85  20.3861   42.2222\n",
       "    9 │ AL0004      1991     120  19.5611   41.0778\n",
       "   10 │ AL0005      1991     170  19.5111   41.4236\n",
       "   11 │ AL0006      1991     170  19.5408   41.1767\n",
       "  ⋮   │    ⋮        ⋮       ⋮        ⋮        ⋮\n",
       " 8177 │ ZW0058      1991     200  28.2667  -19.0833\n",
       " 8178 │ ZW0059      1991     200  31.0833  -17.7167\n",
       " 8179 │ ZW0060      1991     200  25.0833  -18.0833\n",
       " 8180 │ ZW0061      1991     150  31.0181  -17.6917\n",
       " 8181 │ ZW0062      1991      94  31.6333  -21.0\n",
       " 8182 │ ZW0063      1991     138  31.0833  -17.7167\n",
       " 8183 │ ZW0064      1991     200  30.5     -17.65\n",
       " 8184 │ ZW0065      1991      68  28.5     -20.5\n",
       " 8185 │ ZW0066      1991      92  31.6333  -21.0\n",
       " 8186 │ ZW0067      1992     220  31.75    -19.8\n",
       "\u001b[31m                                   8165 rows omitted\u001b[0m"
      ]
     },
     "execution_count": 16,
     "metadata": {},
     "output_type": "execute_result"
    }
   ],
   "source": [
    "filt_site = df_site[:,[:WISE3_id, :DATEYR, :SOLDEP, :LONDD, :LATDD]]\n",
    "\n",
    "    rename!(filt_site,:WISE3_id => :WISE3_ID)\n",
    "\n",
    "    dropmissing!(filt_site,[:LONDD,:LATDD])\t\n",
    "\n",
    "    filt_site.LONDD = tryparse.(Float64,replace.(filt_site.LONDD,','=>'.'))\n",
    "    filt_site.LATDD = tryparse.(Float64,replace.(filt_site.LATDD,','=>'.'))\n",
    "\n",
    "    filt_site\n"
   ]
  },
  {
   "cell_type": "code",
   "execution_count": 17,
   "metadata": {
    "scrolled": true
   },
   "outputs": [
    {
     "data": {
      "text/html": [
       "<table class=\"data-frame\"><thead><tr><th></th><th>WISE3_ID</th><th>TOPDEP</th></tr><tr><th></th><th>String</th><th>Int64</th></tr></thead><tbody><p>3,163 rows × 2 columns</p><tr><th>1</th><td>AL0007</td><td>0</td></tr><tr><th>2</th><td>AL0008</td><td>0</td></tr><tr><th>3</th><td>AL0009</td><td>0</td></tr><tr><th>4</th><td>AL0010</td><td>0</td></tr><tr><th>5</th><td>AL0011</td><td>0</td></tr><tr><th>6</th><td>AL0012</td><td>0</td></tr><tr><th>7</th><td>AL0013</td><td>0</td></tr><tr><th>8</th><td>AL0014</td><td>0</td></tr><tr><th>9</th><td>AL0015</td><td>0</td></tr><tr><th>10</th><td>AL0016</td><td>0</td></tr><tr><th>11</th><td>AL0017</td><td>0</td></tr><tr><th>12</th><td>AL0018</td><td>0</td></tr><tr><th>13</th><td>AL0019</td><td>0</td></tr><tr><th>14</th><td>AL0020</td><td>0</td></tr><tr><th>15</th><td>AL0021</td><td>0</td></tr><tr><th>16</th><td>AL0022</td><td>0</td></tr><tr><th>17</th><td>AL0023</td><td>0</td></tr><tr><th>18</th><td>AL0024</td><td>0</td></tr><tr><th>19</th><td>AL0025</td><td>0</td></tr><tr><th>20</th><td>AL0026</td><td>0</td></tr><tr><th>21</th><td>AL0027</td><td>0</td></tr><tr><th>22</th><td>AL0028</td><td>0</td></tr><tr><th>23</th><td>AL0029</td><td>0</td></tr><tr><th>24</th><td>AL0030</td><td>0</td></tr><tr><th>25</th><td>AL0031</td><td>0</td></tr><tr><th>26</th><td>AL0032</td><td>0</td></tr><tr><th>27</th><td>AL0033</td><td>0</td></tr><tr><th>28</th><td>AL0034</td><td>0</td></tr><tr><th>29</th><td>AL0035</td><td>0</td></tr><tr><th>30</th><td>AM0001</td><td>0</td></tr><tr><th>&vellip;</th><td>&vellip;</td><td>&vellip;</td></tr></tbody></table>"
      ],
      "text/latex": [
       "\\begin{tabular}{r|cc}\n",
       "\t& WISE3\\_ID & TOPDEP\\\\\n",
       "\t\\hline\n",
       "\t& String & Int64\\\\\n",
       "\t\\hline\n",
       "\t1 & AL0007 & 0 \\\\\n",
       "\t2 & AL0008 & 0 \\\\\n",
       "\t3 & AL0009 & 0 \\\\\n",
       "\t4 & AL0010 & 0 \\\\\n",
       "\t5 & AL0011 & 0 \\\\\n",
       "\t6 & AL0012 & 0 \\\\\n",
       "\t7 & AL0013 & 0 \\\\\n",
       "\t8 & AL0014 & 0 \\\\\n",
       "\t9 & AL0015 & 0 \\\\\n",
       "\t10 & AL0016 & 0 \\\\\n",
       "\t11 & AL0017 & 0 \\\\\n",
       "\t12 & AL0018 & 0 \\\\\n",
       "\t13 & AL0019 & 0 \\\\\n",
       "\t14 & AL0020 & 0 \\\\\n",
       "\t15 & AL0021 & 0 \\\\\n",
       "\t16 & AL0022 & 0 \\\\\n",
       "\t17 & AL0023 & 0 \\\\\n",
       "\t18 & AL0024 & 0 \\\\\n",
       "\t19 & AL0025 & 0 \\\\\n",
       "\t20 & AL0026 & 0 \\\\\n",
       "\t21 & AL0027 & 0 \\\\\n",
       "\t22 & AL0028 & 0 \\\\\n",
       "\t23 & AL0029 & 0 \\\\\n",
       "\t24 & AL0030 & 0 \\\\\n",
       "\t25 & AL0031 & 0 \\\\\n",
       "\t26 & AL0032 & 0 \\\\\n",
       "\t27 & AL0033 & 0 \\\\\n",
       "\t28 & AL0034 & 0 \\\\\n",
       "\t29 & AL0035 & 0 \\\\\n",
       "\t30 & AM0001 & 0 \\\\\n",
       "\t$\\dots$ & $\\dots$ & $\\dots$ \\\\\n",
       "\\end{tabular}\n"
      ],
      "text/plain": [
       "\u001b[1m3163×2 DataFrame\u001b[0m\n",
       "\u001b[1m  Row \u001b[0m│\u001b[1m WISE3_ID \u001b[0m\u001b[1m TOPDEP \u001b[0m\n",
       "\u001b[1m      \u001b[0m│\u001b[90m String   \u001b[0m\u001b[90m Int64  \u001b[0m\n",
       "──────┼──────────────────\n",
       "    1 │ AL0007         0\n",
       "    2 │ AL0008         0\n",
       "    3 │ AL0009         0\n",
       "    4 │ AL0010         0\n",
       "    5 │ AL0011         0\n",
       "    6 │ AL0012         0\n",
       "    7 │ AL0013         0\n",
       "    8 │ AL0014         0\n",
       "    9 │ AL0015         0\n",
       "   10 │ AL0016         0\n",
       "   11 │ AL0017         0\n",
       "  ⋮   │    ⋮        ⋮\n",
       " 3154 │ ZW0054         0\n",
       " 3155 │ ZW0056         0\n",
       " 3156 │ ZW0057         0\n",
       " 3157 │ ZW0058         0\n",
       " 3158 │ ZW0059         0\n",
       " 3159 │ ZW0060         0\n",
       " 3160 │ ZW0062         0\n",
       " 3161 │ ZW0063         0\n",
       " 3162 │ ZW0065         0\n",
       " 3163 │ ZW0066         0\n",
       "\u001b[31m        3142 rows omitted\u001b[0m"
      ]
     },
     "execution_count": 17,
     "metadata": {},
     "output_type": "execute_result"
    }
   ],
   "source": [
    "min_tops = filt_hz[filt_hz.HONU .== 1, [:WISE3_ID,:TOPDEP]]"
   ]
  },
  {
   "cell_type": "markdown",
   "metadata": {},
   "source": [
    "Let's join the computed results with data from SITE:"
   ]
  },
  {
   "cell_type": "code",
   "execution_count": 18,
   "metadata": {
    "scrolled": true
   },
   "outputs": [
    {
     "data": {
      "text/html": [
       "<table class=\"data-frame\"><thead><tr><th></th><th>WISE3_ID</th><th>STORED_ORGC</th><th>DATEYR</th><th>LONDD</th><th>LATDD</th><th>MINTOP</th><th>SOLDEP</th></tr><tr><th></th><th>String</th><th>Float64</th><th>Int64?</th><th>Float64</th><th>Float64</th><th>Int64</th><th>Int64</th></tr></thead><tbody><p>2,843 rows × 7 columns</p><tr><th>1</th><td>AL0007</td><td>17.164</td><td>1994</td><td>19.9956</td><td>41.0694</td><td>0</td><td>160</td></tr><tr><th>2</th><td>AL0008</td><td>6.98483</td><td>1994</td><td>20.6472</td><td>40.215</td><td>0</td><td>100</td></tr><tr><th>3</th><td>AL0009</td><td>10.3603</td><td>1994</td><td>20.7844</td><td>40.6372</td><td>0</td><td>110</td></tr><tr><th>4</th><td>AL0010</td><td>16.4571</td><td>1994</td><td>19.4836</td><td>40.3453</td><td>0</td><td>110</td></tr><tr><th>5</th><td>AL0011</td><td>19.7915</td><td>1994</td><td>19.7703</td><td>41.3778</td><td>0</td><td>130</td></tr><tr><th>6</th><td>AL0012</td><td>12.868</td><td>1994</td><td>20.9589</td><td>40.6553</td><td>0</td><td>173</td></tr><tr><th>7</th><td>AL0013</td><td>14.5514</td><td>1994</td><td>20.7325</td><td>40.5644</td><td>0</td><td>180</td></tr><tr><th>8</th><td>AL0014</td><td>13.8804</td><td>1994</td><td>20.4064</td><td>41.6928</td><td>0</td><td>130</td></tr><tr><th>9</th><td>AL0015</td><td>24.1183</td><td>1994</td><td>19.7625</td><td>41.37</td><td>0</td><td>180</td></tr><tr><th>10</th><td>AL0016</td><td>105.4</td><td>1994</td><td>20.7108</td><td>40.7217</td><td>0</td><td>121</td></tr><tr><th>11</th><td>AL0017</td><td>70.2077</td><td>1994</td><td>20.0267</td><td>39.8175</td><td>0</td><td>170</td></tr><tr><th>12</th><td>AL0018</td><td>22.0036</td><td>1994</td><td>19.5097</td><td>42.0919</td><td>0</td><td>153</td></tr><tr><th>13</th><td>AL0019</td><td>65.2306</td><td>1994</td><td>92.4167</td><td>40.7156</td><td>0</td><td>137</td></tr><tr><th>14</th><td>AL0020</td><td>113.218</td><td>1994</td><td>19.6461</td><td>40.9858</td><td>0</td><td>170</td></tr><tr><th>15</th><td>AL0021</td><td>14.6069</td><td>1994</td><td>19.9942</td><td>41.6275</td><td>0</td><td>180</td></tr><tr><th>16</th><td>AL0022</td><td>16.1526</td><td>1994</td><td>20.325</td><td>42.075</td><td>0</td><td>120</td></tr><tr><th>17</th><td>AL0023</td><td>28.1797</td><td>1994</td><td>19.6875</td><td>40.9508</td><td>0</td><td>175</td></tr><tr><th>18</th><td>AL0024</td><td>18.6669</td><td>1995</td><td>19.5269</td><td>42.0008</td><td>0</td><td>180</td></tr><tr><th>19</th><td>AL0025</td><td>32.2387</td><td>1995</td><td>19.6836</td><td>41.6378</td><td>0</td><td>140</td></tr><tr><th>20</th><td>AL0026</td><td>20.5388</td><td>1995</td><td>19.5356</td><td>41.1858</td><td>0</td><td>170</td></tr><tr><th>21</th><td>AL0027</td><td>19.3619</td><td>1995</td><td>19.4603</td><td>42.0081</td><td>0</td><td>185</td></tr><tr><th>22</th><td>AL0028</td><td>11.4843</td><td>1995</td><td>20.7014</td><td>40.88</td><td>0</td><td>190</td></tr><tr><th>23</th><td>AL0029</td><td>18.5165</td><td>1995</td><td>19.9414</td><td>40.7644</td><td>0</td><td>170</td></tr><tr><th>24</th><td>AL0030</td><td>10.9078</td><td>1995</td><td>20.8161</td><td>40.6611</td><td>0</td><td>170</td></tr><tr><th>25</th><td>AL0031</td><td>6.47388</td><td>1995</td><td>19.7083</td><td>40.7308</td><td>0</td><td>110</td></tr><tr><th>26</th><td>AL0032</td><td>7.61602</td><td>1995</td><td>20.6306</td><td>41.0647</td><td>0</td><td>163</td></tr><tr><th>27</th><td>AL0033</td><td>95.3494</td><td>1995</td><td>19.6828</td><td>41.7242</td><td>0</td><td>160</td></tr><tr><th>28</th><td>AL0034</td><td>11.8077</td><td>1995</td><td>19.4636</td><td>40.6164</td><td>0</td><td>126</td></tr><tr><th>29</th><td>AL0035</td><td>21.3661</td><td>1995</td><td>20.6378</td><td>41.0647</td><td>0</td><td>180</td></tr><tr><th>30</th><td>AM0001</td><td>29.2034</td><td>1974</td><td>44.75</td><td>40.4833</td><td>0</td><td>258</td></tr><tr><th>&vellip;</th><td>&vellip;</td><td>&vellip;</td><td>&vellip;</td><td>&vellip;</td><td>&vellip;</td><td>&vellip;</td><td>&vellip;</td></tr></tbody></table>"
      ],
      "text/latex": [
       "\\begin{tabular}{r|ccccccc}\n",
       "\t& WISE3\\_ID & STORED\\_ORGC & DATEYR & LONDD & LATDD & MINTOP & SOLDEP\\\\\n",
       "\t\\hline\n",
       "\t& String & Float64 & Int64? & Float64 & Float64 & Int64 & Int64\\\\\n",
       "\t\\hline\n",
       "\t1 & AL0007 & 17.164 & 1994 & 19.9956 & 41.0694 & 0 & 160 \\\\\n",
       "\t2 & AL0008 & 6.98483 & 1994 & 20.6472 & 40.215 & 0 & 100 \\\\\n",
       "\t3 & AL0009 & 10.3603 & 1994 & 20.7844 & 40.6372 & 0 & 110 \\\\\n",
       "\t4 & AL0010 & 16.4571 & 1994 & 19.4836 & 40.3453 & 0 & 110 \\\\\n",
       "\t5 & AL0011 & 19.7915 & 1994 & 19.7703 & 41.3778 & 0 & 130 \\\\\n",
       "\t6 & AL0012 & 12.868 & 1994 & 20.9589 & 40.6553 & 0 & 173 \\\\\n",
       "\t7 & AL0013 & 14.5514 & 1994 & 20.7325 & 40.5644 & 0 & 180 \\\\\n",
       "\t8 & AL0014 & 13.8804 & 1994 & 20.4064 & 41.6928 & 0 & 130 \\\\\n",
       "\t9 & AL0015 & 24.1183 & 1994 & 19.7625 & 41.37 & 0 & 180 \\\\\n",
       "\t10 & AL0016 & 105.4 & 1994 & 20.7108 & 40.7217 & 0 & 121 \\\\\n",
       "\t11 & AL0017 & 70.2077 & 1994 & 20.0267 & 39.8175 & 0 & 170 \\\\\n",
       "\t12 & AL0018 & 22.0036 & 1994 & 19.5097 & 42.0919 & 0 & 153 \\\\\n",
       "\t13 & AL0019 & 65.2306 & 1994 & 92.4167 & 40.7156 & 0 & 137 \\\\\n",
       "\t14 & AL0020 & 113.218 & 1994 & 19.6461 & 40.9858 & 0 & 170 \\\\\n",
       "\t15 & AL0021 & 14.6069 & 1994 & 19.9942 & 41.6275 & 0 & 180 \\\\\n",
       "\t16 & AL0022 & 16.1526 & 1994 & 20.325 & 42.075 & 0 & 120 \\\\\n",
       "\t17 & AL0023 & 28.1797 & 1994 & 19.6875 & 40.9508 & 0 & 175 \\\\\n",
       "\t18 & AL0024 & 18.6669 & 1995 & 19.5269 & 42.0008 & 0 & 180 \\\\\n",
       "\t19 & AL0025 & 32.2387 & 1995 & 19.6836 & 41.6378 & 0 & 140 \\\\\n",
       "\t20 & AL0026 & 20.5388 & 1995 & 19.5356 & 41.1858 & 0 & 170 \\\\\n",
       "\t21 & AL0027 & 19.3619 & 1995 & 19.4603 & 42.0081 & 0 & 185 \\\\\n",
       "\t22 & AL0028 & 11.4843 & 1995 & 20.7014 & 40.88 & 0 & 190 \\\\\n",
       "\t23 & AL0029 & 18.5165 & 1995 & 19.9414 & 40.7644 & 0 & 170 \\\\\n",
       "\t24 & AL0030 & 10.9078 & 1995 & 20.8161 & 40.6611 & 0 & 170 \\\\\n",
       "\t25 & AL0031 & 6.47388 & 1995 & 19.7083 & 40.7308 & 0 & 110 \\\\\n",
       "\t26 & AL0032 & 7.61602 & 1995 & 20.6306 & 41.0647 & 0 & 163 \\\\\n",
       "\t27 & AL0033 & 95.3494 & 1995 & 19.6828 & 41.7242 & 0 & 160 \\\\\n",
       "\t28 & AL0034 & 11.8077 & 1995 & 19.4636 & 40.6164 & 0 & 126 \\\\\n",
       "\t29 & AL0035 & 21.3661 & 1995 & 20.6378 & 41.0647 & 0 & 180 \\\\\n",
       "\t30 & AM0001 & 29.2034 & 1974 & 44.75 & 40.4833 & 0 & 258 \\\\\n",
       "\t$\\dots$ & $\\dots$ & $\\dots$ & $\\dots$ & $\\dots$ & $\\dots$ & $\\dots$ & $\\dots$ \\\\\n",
       "\\end{tabular}\n"
      ],
      "text/plain": [
       "\u001b[1m2843×7 DataFrame\u001b[0m\n",
       "\u001b[1m  Row \u001b[0m│\u001b[1m WISE3_ID \u001b[0m\u001b[1m STORED_ORGC \u001b[0m\u001b[1m DATEYR \u001b[0m\u001b[1m LONDD   \u001b[0m\u001b[1m LATDD    \u001b[0m\u001b[1m MINTOP \u001b[0m\u001b[1m SOLDEP \u001b[0m\n",
       "\u001b[1m      \u001b[0m│\u001b[90m String   \u001b[0m\u001b[90m Float64     \u001b[0m\u001b[90m Int64? \u001b[0m\u001b[90m Float64 \u001b[0m\u001b[90m Float64  \u001b[0m\u001b[90m Int64  \u001b[0m\u001b[90m Int64  \u001b[0m\n",
       "──────┼──────────────────────────────────────────────────────────────────\n",
       "    1 │ AL0007       17.164      1994  19.9956   41.0694       0     160\n",
       "    2 │ AL0008        6.98483    1994  20.6472   40.215        0     100\n",
       "    3 │ AL0009       10.3603     1994  20.7844   40.6372       0     110\n",
       "    4 │ AL0010       16.4571     1994  19.4836   40.3453       0     110\n",
       "    5 │ AL0011       19.7915     1994  19.7703   41.3778       0     130\n",
       "    6 │ AL0012       12.868      1994  20.9589   40.6553       0     173\n",
       "    7 │ AL0013       14.5514     1994  20.7325   40.5644       0     180\n",
       "    8 │ AL0014       13.8804     1994  20.4064   41.6928       0     130\n",
       "    9 │ AL0015       24.1183     1994  19.7625   41.37         0     180\n",
       "   10 │ AL0016      105.4        1994  20.7108   40.7217       0     121\n",
       "   11 │ AL0017       70.2077     1994  20.0267   39.8175       0     170\n",
       "  ⋮   │    ⋮           ⋮         ⋮        ⋮        ⋮        ⋮       ⋮\n",
       " 2834 │ ZW0054        3.1644     1991  32.25    -18.5167       0     115\n",
       " 2835 │ ZW0056       10.8326     1991  31.0833  -17.7167       0     161\n",
       " 2836 │ ZW0057        4.6356     1991  28.5     -20.5          0     150\n",
       " 2837 │ ZW0058        6.34107    1991  28.2667  -19.0833       0     200\n",
       " 2838 │ ZW0059       10.0792     1991  31.0833  -17.7167       0     200\n",
       " 2839 │ ZW0060       16.7129     1991  25.0833  -18.0833       0     200\n",
       " 2840 │ ZW0062       10.5413     1991  31.6333  -21.0          0      94\n",
       " 2841 │ ZW0063       13.1218     1991  31.0833  -17.7167       0     138\n",
       " 2842 │ ZW0065        9.12096    1991  28.5     -20.5          0      68\n",
       " 2843 │ ZW0066       22.5375     1991  31.6333  -21.0          0      92\n",
       "\u001b[31m                                                        2822 rows omitted\u001b[0m"
      ]
     },
     "execution_count": 18,
     "metadata": {},
     "output_type": "execute_result"
    }
   ],
   "source": [
    "#add location data\n",
    "int_joinLoc = innerjoin(stored_ORGC_int, filt_site, on = :WISE3_ID)\n",
    "\n",
    "#add min_tops data\n",
    "int_joinTops = innerjoin(int_joinLoc, min_tops, on = :WISE3_ID)\n",
    "\n",
    "#change cols order\n",
    "stored_ORGC_int_ds = int_joinTops[!,[:WISE3_ID,:STORED_ORGC,:DATEYR,:LONDD,:LATDD,:TOPDEP,:SOLDEP]]\n",
    "\n",
    "#rename top col\n",
    "rename!(stored_ORGC_int_ds,:TOPDEP => :MINTOP)\n",
    "\n"
   ]
  },
  {
   "cell_type": "code",
   "execution_count": 19,
   "metadata": {
    "scrolled": true
   },
   "outputs": [
    {
     "data": {
      "text/html": [
       "<table class=\"data-frame\"><thead><tr><th></th><th>WISE3_ID</th><th>STORED_ORGC</th><th>DATEYR</th><th>LONDD</th><th>LATDD</th><th>MINTOP</th><th>SOLDEP</th></tr><tr><th></th><th>String</th><th>Float64</th><th>Int64?</th><th>Float64</th><th>Float64</th><th>Int64</th><th>Int64</th></tr></thead><tbody><p>2,843 rows × 7 columns</p><tr><th>1</th><td>AL0007</td><td>17.0032</td><td>1994</td><td>19.9956</td><td>41.0694</td><td>0</td><td>160</td></tr><tr><th>2</th><td>AL0008</td><td>6.79968</td><td>1994</td><td>20.6472</td><td>40.215</td><td>0</td><td>100</td></tr><tr><th>3</th><td>AL0009</td><td>10.19</td><td>1994</td><td>20.7844</td><td>40.6372</td><td>0</td><td>110</td></tr><tr><th>4</th><td>AL0010</td><td>16.182</td><td>1994</td><td>19.4836</td><td>40.3453</td><td>0</td><td>110</td></tr><tr><th>5</th><td>AL0011</td><td>19.5227</td><td>1994</td><td>19.7703</td><td>41.3778</td><td>0</td><td>130</td></tr><tr><th>6</th><td>AL0012</td><td>12.7518</td><td>1994</td><td>20.9589</td><td>40.6553</td><td>0</td><td>173</td></tr><tr><th>7</th><td>AL0013</td><td>14.3507</td><td>1994</td><td>20.7325</td><td>40.5644</td><td>0</td><td>180</td></tr><tr><th>8</th><td>AL0014</td><td>13.6746</td><td>1994</td><td>20.4064</td><td>41.6928</td><td>0</td><td>130</td></tr><tr><th>9</th><td>AL0015</td><td>23.7756</td><td>1994</td><td>19.7625</td><td>41.37</td><td>0</td><td>180</td></tr><tr><th>10</th><td>AL0016</td><td>104.13</td><td>1994</td><td>20.7108</td><td>40.7217</td><td>0</td><td>121</td></tr><tr><th>11</th><td>AL0017</td><td>66.3393</td><td>1994</td><td>20.0267</td><td>39.8175</td><td>0</td><td>170</td></tr><tr><th>12</th><td>AL0018</td><td>21.8077</td><td>1994</td><td>19.5097</td><td>42.0919</td><td>0</td><td>153</td></tr><tr><th>13</th><td>AL0019</td><td>65.0701</td><td>1994</td><td>92.4167</td><td>40.7156</td><td>0</td><td>137</td></tr><tr><th>14</th><td>AL0020</td><td>112.389</td><td>1994</td><td>19.6461</td><td>40.9858</td><td>0</td><td>170</td></tr><tr><th>15</th><td>AL0021</td><td>14.3746</td><td>1994</td><td>19.9942</td><td>41.6275</td><td>0</td><td>180</td></tr><tr><th>16</th><td>AL0022</td><td>15.8464</td><td>1994</td><td>20.325</td><td>42.075</td><td>0</td><td>120</td></tr><tr><th>17</th><td>AL0023</td><td>27.9492</td><td>1994</td><td>19.6875</td><td>40.9508</td><td>0</td><td>175</td></tr><tr><th>18</th><td>AL0024</td><td>18.5125</td><td>1995</td><td>19.5269</td><td>42.0008</td><td>0</td><td>180</td></tr><tr><th>19</th><td>AL0025</td><td>31.9615</td><td>1995</td><td>19.6836</td><td>41.6378</td><td>0</td><td>140</td></tr><tr><th>20</th><td>AL0026</td><td>20.302</td><td>1995</td><td>19.5356</td><td>41.1858</td><td>0</td><td>170</td></tr><tr><th>21</th><td>AL0027</td><td>19.2275</td><td>1995</td><td>19.4603</td><td>42.0081</td><td>0</td><td>185</td></tr><tr><th>22</th><td>AL0028</td><td>11.3765</td><td>1995</td><td>20.7014</td><td>40.88</td><td>0</td><td>190</td></tr><tr><th>23</th><td>AL0029</td><td>18.3789</td><td>1995</td><td>19.9414</td><td>40.7644</td><td>0</td><td>170</td></tr><tr><th>24</th><td>AL0030</td><td>10.792</td><td>1995</td><td>20.8161</td><td>40.6611</td><td>0</td><td>170</td></tr><tr><th>25</th><td>AL0031</td><td>6.36648</td><td>1995</td><td>19.7083</td><td>40.7308</td><td>0</td><td>110</td></tr><tr><th>26</th><td>AL0032</td><td>7.43688</td><td>1995</td><td>20.6306</td><td>41.0647</td><td>0</td><td>163</td></tr><tr><th>27</th><td>AL0033</td><td>94.9217</td><td>1995</td><td>19.6828</td><td>41.7242</td><td>0</td><td>160</td></tr><tr><th>28</th><td>AL0034</td><td>11.7063</td><td>1995</td><td>19.4636</td><td>40.6164</td><td>0</td><td>126</td></tr><tr><th>29</th><td>AL0035</td><td>21.1273</td><td>1995</td><td>20.6378</td><td>41.0647</td><td>0</td><td>180</td></tr><tr><th>30</th><td>AM0001</td><td>28.8272</td><td>1974</td><td>44.75</td><td>40.4833</td><td>0</td><td>258</td></tr><tr><th>&vellip;</th><td>&vellip;</td><td>&vellip;</td><td>&vellip;</td><td>&vellip;</td><td>&vellip;</td><td>&vellip;</td><td>&vellip;</td></tr></tbody></table>"
      ],
      "text/latex": [
       "\\begin{tabular}{r|ccccccc}\n",
       "\t& WISE3\\_ID & STORED\\_ORGC & DATEYR & LONDD & LATDD & MINTOP & SOLDEP\\\\\n",
       "\t\\hline\n",
       "\t& String & Float64 & Int64? & Float64 & Float64 & Int64 & Int64\\\\\n",
       "\t\\hline\n",
       "\t1 & AL0007 & 17.0032 & 1994 & 19.9956 & 41.0694 & 0 & 160 \\\\\n",
       "\t2 & AL0008 & 6.79968 & 1994 & 20.6472 & 40.215 & 0 & 100 \\\\\n",
       "\t3 & AL0009 & 10.19 & 1994 & 20.7844 & 40.6372 & 0 & 110 \\\\\n",
       "\t4 & AL0010 & 16.182 & 1994 & 19.4836 & 40.3453 & 0 & 110 \\\\\n",
       "\t5 & AL0011 & 19.5227 & 1994 & 19.7703 & 41.3778 & 0 & 130 \\\\\n",
       "\t6 & AL0012 & 12.7518 & 1994 & 20.9589 & 40.6553 & 0 & 173 \\\\\n",
       "\t7 & AL0013 & 14.3507 & 1994 & 20.7325 & 40.5644 & 0 & 180 \\\\\n",
       "\t8 & AL0014 & 13.6746 & 1994 & 20.4064 & 41.6928 & 0 & 130 \\\\\n",
       "\t9 & AL0015 & 23.7756 & 1994 & 19.7625 & 41.37 & 0 & 180 \\\\\n",
       "\t10 & AL0016 & 104.13 & 1994 & 20.7108 & 40.7217 & 0 & 121 \\\\\n",
       "\t11 & AL0017 & 66.3393 & 1994 & 20.0267 & 39.8175 & 0 & 170 \\\\\n",
       "\t12 & AL0018 & 21.8077 & 1994 & 19.5097 & 42.0919 & 0 & 153 \\\\\n",
       "\t13 & AL0019 & 65.0701 & 1994 & 92.4167 & 40.7156 & 0 & 137 \\\\\n",
       "\t14 & AL0020 & 112.389 & 1994 & 19.6461 & 40.9858 & 0 & 170 \\\\\n",
       "\t15 & AL0021 & 14.3746 & 1994 & 19.9942 & 41.6275 & 0 & 180 \\\\\n",
       "\t16 & AL0022 & 15.8464 & 1994 & 20.325 & 42.075 & 0 & 120 \\\\\n",
       "\t17 & AL0023 & 27.9492 & 1994 & 19.6875 & 40.9508 & 0 & 175 \\\\\n",
       "\t18 & AL0024 & 18.5125 & 1995 & 19.5269 & 42.0008 & 0 & 180 \\\\\n",
       "\t19 & AL0025 & 31.9615 & 1995 & 19.6836 & 41.6378 & 0 & 140 \\\\\n",
       "\t20 & AL0026 & 20.302 & 1995 & 19.5356 & 41.1858 & 0 & 170 \\\\\n",
       "\t21 & AL0027 & 19.2275 & 1995 & 19.4603 & 42.0081 & 0 & 185 \\\\\n",
       "\t22 & AL0028 & 11.3765 & 1995 & 20.7014 & 40.88 & 0 & 190 \\\\\n",
       "\t23 & AL0029 & 18.3789 & 1995 & 19.9414 & 40.7644 & 0 & 170 \\\\\n",
       "\t24 & AL0030 & 10.792 & 1995 & 20.8161 & 40.6611 & 0 & 170 \\\\\n",
       "\t25 & AL0031 & 6.36648 & 1995 & 19.7083 & 40.7308 & 0 & 110 \\\\\n",
       "\t26 & AL0032 & 7.43688 & 1995 & 20.6306 & 41.0647 & 0 & 163 \\\\\n",
       "\t27 & AL0033 & 94.9217 & 1995 & 19.6828 & 41.7242 & 0 & 160 \\\\\n",
       "\t28 & AL0034 & 11.7063 & 1995 & 19.4636 & 40.6164 & 0 & 126 \\\\\n",
       "\t29 & AL0035 & 21.1273 & 1995 & 20.6378 & 41.0647 & 0 & 180 \\\\\n",
       "\t30 & AM0001 & 28.8272 & 1974 & 44.75 & 40.4833 & 0 & 258 \\\\\n",
       "\t$\\dots$ & $\\dots$ & $\\dots$ & $\\dots$ & $\\dots$ & $\\dots$ & $\\dots$ & $\\dots$ \\\\\n",
       "\\end{tabular}\n"
      ],
      "text/plain": [
       "\u001b[1m2843×7 DataFrame\u001b[0m\n",
       "\u001b[1m  Row \u001b[0m│\u001b[1m WISE3_ID \u001b[0m\u001b[1m STORED_ORGC \u001b[0m\u001b[1m DATEYR \u001b[0m\u001b[1m LONDD   \u001b[0m\u001b[1m LATDD    \u001b[0m\u001b[1m MINTOP \u001b[0m\u001b[1m SOLDEP \u001b[0m\n",
       "\u001b[1m      \u001b[0m│\u001b[90m String   \u001b[0m\u001b[90m Float64     \u001b[0m\u001b[90m Int64? \u001b[0m\u001b[90m Float64 \u001b[0m\u001b[90m Float64  \u001b[0m\u001b[90m Int64  \u001b[0m\u001b[90m Int64  \u001b[0m\n",
       "──────┼──────────────────────────────────────────────────────────────────\n",
       "    1 │ AL0007       17.0032     1994  19.9956   41.0694       0     160\n",
       "    2 │ AL0008        6.79968    1994  20.6472   40.215        0     100\n",
       "    3 │ AL0009       10.19       1994  20.7844   40.6372       0     110\n",
       "    4 │ AL0010       16.182      1994  19.4836   40.3453       0     110\n",
       "    5 │ AL0011       19.5227     1994  19.7703   41.3778       0     130\n",
       "    6 │ AL0012       12.7518     1994  20.9589   40.6553       0     173\n",
       "    7 │ AL0013       14.3507     1994  20.7325   40.5644       0     180\n",
       "    8 │ AL0014       13.6746     1994  20.4064   41.6928       0     130\n",
       "    9 │ AL0015       23.7756     1994  19.7625   41.37         0     180\n",
       "   10 │ AL0016      104.13       1994  20.7108   40.7217       0     121\n",
       "   11 │ AL0017       66.3393     1994  20.0267   39.8175       0     170\n",
       "  ⋮   │    ⋮           ⋮         ⋮        ⋮        ⋮        ⋮       ⋮\n",
       " 2834 │ ZW0054        3.08355    1991  32.25    -18.5167       0     115\n",
       " 2835 │ ZW0056       10.6293     1991  31.0833  -17.7167       0     161\n",
       " 2836 │ ZW0057        4.56087    1991  28.5     -20.5          0     150\n",
       " 2837 │ ZW0058        5.1493     1991  28.2667  -19.0833       0     200\n",
       " 2838 │ ZW0059        9.91887    1991  31.0833  -17.7167       0     200\n",
       " 2839 │ ZW0060       16.1511     1991  25.0833  -18.0833       0     200\n",
       " 2840 │ ZW0062       10.394      1991  31.6333  -21.0          0      94\n",
       " 2841 │ ZW0063       12.8412     1991  31.0833  -17.7167       0     138\n",
       " 2842 │ ZW0065        8.96388    1991  28.5     -20.5          0      68\n",
       " 2843 │ ZW0066       22.236      1991  31.6333  -21.0          0      92\n",
       "\u001b[31m                                                        2822 rows omitted\u001b[0m"
      ]
     },
     "execution_count": 19,
     "metadata": {},
     "output_type": "execute_result"
    }
   ],
   "source": [
    "begin\n",
    "\n",
    "#add location data\n",
    "std_joinLoc = innerjoin(stored_ORGC_std, filt_site, on = :WISE3_ID)\n",
    "\n",
    "#add min_tops data\n",
    "std_joinTops = innerjoin(std_joinLoc, min_tops, on = :WISE3_ID)\n",
    "\n",
    "#change cols order\n",
    "stored_ORGC_std_ds = std_joinTops[!,[:WISE3_ID,:STORED_ORGC,:DATEYR,:LONDD,:LATDD,:TOPDEP,:SOLDEP]]\n",
    "\n",
    "#rename top col\n",
    "rename!(stored_ORGC_std_ds,:TOPDEP => :MINTOP)\n",
    "end"
   ]
  },
  {
   "cell_type": "markdown",
   "metadata": {},
   "source": [
    "The results (for the standard calculation) can be accessed here:\n",
    "\n",
    "https://drive.google.com/file/d/12UVsNtkLS3EXq1hS-wBcM0sl1-VUwp5N/view?usp=sharing"
   ]
  }
 ],
 "metadata": {
  "kernelspec": {
   "display_name": "Julia 1.5.3",
   "language": "julia",
   "name": "julia-1.5"
  },
  "language_info": {
   "file_extension": ".jl",
   "mimetype": "application/julia",
   "name": "julia",
   "version": "1.5.3"
  }
 },
 "nbformat": 4,
 "nbformat_minor": 2
}
